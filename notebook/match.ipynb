{
 "cells": [
  {
   "cell_type": "code",
   "execution_count": 1,
   "metadata": {
    "ExecuteTime": {
     "end_time": "2018-05-15T10:46:32.980916Z",
     "start_time": "2018-05-15T10:46:32.921267Z"
    }
   },
   "outputs": [],
   "source": [
    "%load_ext autoreload\n",
    "\n",
    "%autoreload 2"
   ]
  },
  {
   "cell_type": "code",
   "execution_count": 2,
   "metadata": {},
   "outputs": [],
   "source": [
    "import sys\n",
    "\n",
    "sys.path.insert(\n",
    "    0,\n",
    "    '..',\n",
    ")"
   ]
  },
  {
   "cell_type": "code",
   "execution_count": 3,
   "metadata": {
    "ExecuteTime": {
     "end_time": "2018-05-15T10:46:33.631773Z",
     "start_time": "2018-05-15T10:46:32.984336Z"
    }
   },
   "outputs": [],
   "source": [
    "import numpy as np\n",
    "import pandas as pd"
   ]
  },
  {
   "cell_type": "code",
   "execution_count": 4,
   "metadata": {
    "ExecuteTime": {
     "end_time": "2018-05-15T10:46:33.663868Z",
     "start_time": "2018-05-15T10:46:33.635143Z"
    }
   },
   "outputs": [],
   "source": [
    "np.random.seed(20121020)"
   ]
  },
  {
   "cell_type": "code",
   "execution_count": 5,
   "metadata": {
    "ExecuteTime": {
     "end_time": "2018-05-15T10:46:36.617163Z",
     "start_time": "2018-05-15T10:46:33.667703Z"
    }
   },
   "outputs": [],
   "source": [
    "from match.make_match_panel import make_match_panel"
   ]
  },
  {
   "cell_type": "code",
   "execution_count": 6,
   "metadata": {},
   "outputs": [
    {
     "name": "stdout",
     "output_type": "stream",
     "text": [
      "target.index (5) & features.columns (5) have 5 in common.\n",
      "Computing score using compute_information_coefficient with 1 process ...\n"
     ]
    },
    {
     "name": "stderr",
     "output_type": "stream",
     "text": [
      "../match/make_match_panel.py:163: UserWarning:\n",
      "\n",
      "Not clustering because a category has less than 2 values.\n",
      "\n"
     ]
    },
    {
     "data": {
      "0": {
       "colorscale": [
        [
         0,
         "#20d9ba"
        ],
        [
         0.5,
         "#9017e6"
        ],
        [
         1,
         "#ff1968"
        ]
       ],
       "showscale": false,
       "text": [
        [
         "Sample 0",
         "Sample 1",
         "Sample 2",
         "Sample 3",
         "Sample 4"
        ]
       ],
       "type": "heatmap",
       "uid": "bdf495e2-aa40-11e8-a9a1-9cb6d02202bb",
       "x": [
        "Sample 0",
        "Sample 1",
        "Sample 2",
        "Sample 3",
        "Sample 4"
       ],
       "y": [
        "Target"
       ],
       "yaxis": "y2",
       "z": [
        [
         1,
         2,
         8,
         2,
         1
        ]
       ],
       "zauto": true,
       "zmax": 8,
       "zmin": 1
      },
      "1": {
       "colorscale": [
        [
         0,
         "#4242ff"
        ],
        [
         0.00392156862745098,
         "#4241ff"
        ],
        [
         0.00784313725490196,
         "#4240ff"
        ],
        [
         0.011764705882352941,
         "#423fff"
        ],
        [
         0.01568627450980392,
         "#423eff"
        ],
        [
         0.0196078431372549,
         "#423dff"
        ],
        [
         0.023529411764705882,
         "#423cff"
        ],
        [
         0.027450980392156862,
         "#423bff"
        ],
        [
         0.03137254901960784,
         "#423aff"
        ],
        [
         0.03529411764705882,
         "#4239ff"
        ],
        [
         0.0392156862745098,
         "#4238ff"
        ],
        [
         0.043137254901960784,
         "#4237ff"
        ],
        [
         0.047058823529411764,
         "#4236ff"
        ],
        [
         0.050980392156862744,
         "#4235ff"
        ],
        [
         0.054901960784313725,
         "#4234ff"
        ],
        [
         0.058823529411764705,
         "#4233ff"
        ],
        [
         0.06274509803921569,
         "#4232ff"
        ],
        [
         0.06666666666666667,
         "#4231ff"
        ],
        [
         0.07058823529411765,
         "#4230ff"
        ],
        [
         0.07450980392156863,
         "#422fff"
        ],
        [
         0.0784313725490196,
         "#422eff"
        ],
        [
         0.08235294117647059,
         "#422dff"
        ],
        [
         0.08627450980392157,
         "#422cff"
        ],
        [
         0.09019607843137255,
         "#422bff"
        ],
        [
         0.09411764705882353,
         "#422aff"
        ],
        [
         0.09803921568627451,
         "#4229ff"
        ],
        [
         0.10196078431372549,
         "#4228ff"
        ],
        [
         0.10588235294117647,
         "#4228ff"
        ],
        [
         0.10980392156862745,
         "#4227ff"
        ],
        [
         0.11372549019607843,
         "#4226ff"
        ],
        [
         0.11764705882352941,
         "#4226ff"
        ],
        [
         0.12156862745098039,
         "#4225ff"
        ],
        [
         0.12549019607843137,
         "#4224ff"
        ],
        [
         0.12941176470588237,
         "#4224ff"
        ],
        [
         0.13333333333333333,
         "#4223ff"
        ],
        [
         0.13725490196078433,
         "#4222ff"
        ],
        [
         0.1411764705882353,
         "#4221ff"
        ],
        [
         0.1450980392156863,
         "#4221ff"
        ],
        [
         0.14901960784313725,
         "#4220ff"
        ],
        [
         0.15294117647058825,
         "#421fff"
        ],
        [
         0.1568627450980392,
         "#421fff"
        ],
        [
         0.1607843137254902,
         "#421eff"
        ],
        [
         0.16470588235294117,
         "#421dff"
        ],
        [
         0.16862745098039217,
         "#421dff"
        ],
        [
         0.17254901960784313,
         "#421cff"
        ],
        [
         0.17647058823529413,
         "#421bff"
        ],
        [
         0.1803921568627451,
         "#421aff"
        ],
        [
         0.1843137254901961,
         "#421aff"
        ],
        [
         0.18823529411764706,
         "#4219ff"
        ],
        [
         0.19215686274509805,
         "#4218ff"
        ],
        [
         0.19607843137254902,
         "#4218ff"
        ],
        [
         0.2,
         "#4217ff"
        ],
        [
         0.20392156862745098,
         "#4419ff"
        ],
        [
         0.20784313725490197,
         "#451aff"
        ],
        [
         0.21176470588235294,
         "#461cff"
        ],
        [
         0.21568627450980393,
         "#481eff"
        ],
        [
         0.2196078431372549,
         "#491fff"
        ],
        [
         0.2235294117647059,
         "#4a21ff"
        ],
        [
         0.22745098039215686,
         "#4b23ff"
        ],
        [
         0.23137254901960785,
         "#4d25ff"
        ],
        [
         0.23529411764705882,
         "#4e26ff"
        ],
        [
         0.23921568627450981,
         "#4f28ff"
        ],
        [
         0.24313725490196078,
         "#512aff"
        ],
        [
         0.24705882352941178,
         "#522bff"
        ],
        [
         0.25098039215686274,
         "#532dff"
        ],
        [
         0.2549019607843137,
         "#542fff"
        ],
        [
         0.25882352941176473,
         "#5630ff"
        ],
        [
         0.2627450980392157,
         "#5732ff"
        ],
        [
         0.26666666666666666,
         "#5834ff"
        ],
        [
         0.27058823529411763,
         "#5a36ff"
        ],
        [
         0.27450980392156865,
         "#5b37ff"
        ],
        [
         0.2784313725490196,
         "#5c39ff"
        ],
        [
         0.2823529411764706,
         "#5e3bff"
        ],
        [
         0.28627450980392155,
         "#5f3cff"
        ],
        [
         0.2901960784313726,
         "#603eff"
        ],
        [
         0.29411764705882354,
         "#6240ff"
        ],
        [
         0.2980392156862745,
         "#6341ff"
        ],
        [
         0.30196078431372547,
         "#6544ff"
        ],
        [
         0.3058823529411765,
         "#6849ff"
        ],
        [
         0.30980392156862746,
         "#6b4dff"
        ],
        [
         0.3137254901960784,
         "#6e51ff"
        ],
        [
         0.3176470588235294,
         "#7156ff"
        ],
        [
         0.3215686274509804,
         "#745aff"
        ],
        [
         0.3254901960784314,
         "#775eff"
        ],
        [
         0.32941176470588235,
         "#7a63ff"
        ],
        [
         0.3333333333333333,
         "#7d67ff"
        ],
        [
         0.33725490196078434,
         "#806bff"
        ],
        [
         0.3411764705882353,
         "#836fff"
        ],
        [
         0.34509803921568627,
         "#8674ff"
        ],
        [
         0.34901960784313724,
         "#8978ff"
        ],
        [
         0.35294117647058826,
         "#8c7cff"
        ],
        [
         0.3568627450980392,
         "#8f81ff"
        ],
        [
         0.3607843137254902,
         "#9285ff"
        ],
        [
         0.36470588235294116,
         "#9589ff"
        ],
        [
         0.3686274509803922,
         "#988eff"
        ],
        [
         0.37254901960784315,
         "#9b92ff"
        ],
        [
         0.3764705882352941,
         "#9e96ff"
        ],
        [
         0.3803921568627451,
         "#a19aff"
        ],
        [
         0.3843137254901961,
         "#a49fff"
        ],
        [
         0.38823529411764707,
         "#a7a3ff"
        ],
        [
         0.39215686274509803,
         "#aaa7ff"
        ],
        [
         0.396078431372549,
         "#adacff"
        ],
        [
         0.4,
         "#b0b0ff"
        ],
        [
         0.403921568627451,
         "#b3b3ff"
        ],
        [
         0.40784313725490196,
         "#b6b6ff"
        ],
        [
         0.4117647058823529,
         "#b9b9ff"
        ],
        [
         0.41568627450980394,
         "#bcbcff"
        ],
        [
         0.4196078431372549,
         "#bfbfff"
        ],
        [
         0.4235294117647059,
         "#c3c3ff"
        ],
        [
         0.42745098039215684,
         "#c6c6ff"
        ],
        [
         0.43137254901960786,
         "#c9c9ff"
        ],
        [
         0.43529411764705883,
         "#ccccff"
        ],
        [
         0.4392156862745098,
         "#cfcfff"
        ],
        [
         0.44313725490196076,
         "#d2d2ff"
        ],
        [
         0.4470588235294118,
         "#d5d5ff"
        ],
        [
         0.45098039215686275,
         "#d8d8ff"
        ],
        [
         0.4549019607843137,
         "#dbdbff"
        ],
        [
         0.4588235294117647,
         "#dedeff"
        ],
        [
         0.4627450980392157,
         "#e2e2ff"
        ],
        [
         0.4666666666666667,
         "#e5e5ff"
        ],
        [
         0.47058823529411764,
         "#e8e8ff"
        ],
        [
         0.4745098039215686,
         "#ebebff"
        ],
        [
         0.47843137254901963,
         "#eeeeff"
        ],
        [
         0.4823529411764706,
         "#f1f1ff"
        ],
        [
         0.48627450980392156,
         "#f4f4ff"
        ],
        [
         0.49019607843137253,
         "#f7f7ff"
        ],
        [
         0.49411764705882355,
         "#fafaff"
        ],
        [
         0.4980392156862745,
         "#fdfdff"
        ],
        [
         0.5019607843137255,
         "#fffdfd"
        ],
        [
         0.5058823529411764,
         "#fffafa"
        ],
        [
         0.5098039215686274,
         "#fff7f7"
        ],
        [
         0.5137254901960784,
         "#fff4f4"
        ],
        [
         0.5176470588235295,
         "#fff1f1"
        ],
        [
         0.5215686274509804,
         "#ffeeee"
        ],
        [
         0.5254901960784314,
         "#ffebeb"
        ],
        [
         0.5294117647058824,
         "#ffe8e8"
        ],
        [
         0.5333333333333333,
         "#ffe5e5"
        ],
        [
         0.5372549019607843,
         "#ffe2e2"
        ],
        [
         0.5411764705882353,
         "#ffdede"
        ],
        [
         0.5450980392156862,
         "#ffdbdb"
        ],
        [
         0.5490196078431373,
         "#ffd8d8"
        ],
        [
         0.5529411764705883,
         "#ffd5d5"
        ],
        [
         0.5568627450980392,
         "#ffd2d2"
        ],
        [
         0.5607843137254902,
         "#ffcfcf"
        ],
        [
         0.5647058823529412,
         "#ffcccc"
        ],
        [
         0.5686274509803921,
         "#ffc9c9"
        ],
        [
         0.5725490196078431,
         "#ffc6c6"
        ],
        [
         0.5764705882352941,
         "#ffc3c3"
        ],
        [
         0.5803921568627451,
         "#ffbfbf"
        ],
        [
         0.5843137254901961,
         "#ffbcbc"
        ],
        [
         0.5882352941176471,
         "#ffb9b9"
        ],
        [
         0.592156862745098,
         "#ffb6b6"
        ],
        [
         0.596078431372549,
         "#ffb3b3"
        ],
        [
         0.6,
         "#ffb0b0"
        ],
        [
         0.6039215686274509,
         "#ffacad"
        ],
        [
         0.6078431372549019,
         "#ffa7aa"
        ],
        [
         0.611764705882353,
         "#ffa3a7"
        ],
        [
         0.615686274509804,
         "#ff9fa4"
        ],
        [
         0.6196078431372549,
         "#ff9aa1"
        ],
        [
         0.6235294117647059,
         "#ff969e"
        ],
        [
         0.6274509803921569,
         "#ff929b"
        ],
        [
         0.6313725490196078,
         "#ff8e98"
        ],
        [
         0.6352941176470588,
         "#ff8995"
        ],
        [
         0.6392156862745098,
         "#ff8592"
        ],
        [
         0.6431372549019608,
         "#ff818f"
        ],
        [
         0.6470588235294118,
         "#ff7c8c"
        ],
        [
         0.6509803921568628,
         "#ff7889"
        ],
        [
         0.6549019607843137,
         "#ff7486"
        ],
        [
         0.6588235294117647,
         "#ff6f83"
        ],
        [
         0.6627450980392157,
         "#ff6b80"
        ],
        [
         0.6666666666666666,
         "#ff677d"
        ],
        [
         0.6705882352941176,
         "#ff637a"
        ],
        [
         0.6745098039215687,
         "#ff5e77"
        ],
        [
         0.6784313725490196,
         "#ff5a74"
        ],
        [
         0.6823529411764706,
         "#ff5671"
        ],
        [
         0.6862745098039216,
         "#ff516e"
        ],
        [
         0.6901960784313725,
         "#ff4d6b"
        ],
        [
         0.6941176470588235,
         "#ff4968"
        ],
        [
         0.6980392156862745,
         "#ff4465"
        ],
        [
         0.7019607843137254,
         "#ff4163"
        ],
        [
         0.7058823529411765,
         "#ff4062"
        ],
        [
         0.7098039215686275,
         "#ff3e60"
        ],
        [
         0.7137254901960784,
         "#ff3c5f"
        ],
        [
         0.7176470588235294,
         "#ff3b5e"
        ],
        [
         0.7215686274509804,
         "#ff395c"
        ],
        [
         0.7254901960784313,
         "#ff375b"
        ],
        [
         0.7294117647058823,
         "#ff365a"
        ],
        [
         0.7333333333333333,
         "#ff3458"
        ],
        [
         0.7372549019607844,
         "#ff3257"
        ],
        [
         0.7411764705882353,
         "#ff3056"
        ],
        [
         0.7450980392156863,
         "#ff2f55"
        ],
        [
         0.7490196078431373,
         "#ff2d53"
        ],
        [
         0.7529411764705882,
         "#ff2b52"
        ],
        [
         0.7568627450980392,
         "#ff2a51"
        ],
        [
         0.7607843137254902,
         "#ff284f"
        ],
        [
         0.7647058823529411,
         "#ff264e"
        ],
        [
         0.7686274509803922,
         "#ff254d"
        ],
        [
         0.7725490196078432,
         "#ff234b"
        ],
        [
         0.7764705882352941,
         "#ff214a"
        ],
        [
         0.7803921568627451,
         "#ff1f49"
        ],
        [
         0.7843137254901961,
         "#ff1e48"
        ],
        [
         0.788235294117647,
         "#ff1c46"
        ],
        [
         0.792156862745098,
         "#ff1a45"
        ],
        [
         0.796078431372549,
         "#ff1944"
        ],
        [
         0.8,
         "#ff1742"
        ],
        [
         0.803921568627451,
         "#ff1842"
        ],
        [
         0.807843137254902,
         "#ff1842"
        ],
        [
         0.8117647058823529,
         "#ff1942"
        ],
        [
         0.8156862745098039,
         "#ff1a42"
        ],
        [
         0.8196078431372549,
         "#ff1a42"
        ],
        [
         0.8235294117647058,
         "#ff1b42"
        ],
        [
         0.8274509803921568,
         "#ff1c42"
        ],
        [
         0.8313725490196079,
         "#ff1d42"
        ],
        [
         0.8352941176470589,
         "#ff1d42"
        ],
        [
         0.8392156862745098,
         "#ff1e42"
        ],
        [
         0.8431372549019608,
         "#ff1f42"
        ],
        [
         0.8470588235294118,
         "#ff1f42"
        ],
        [
         0.8509803921568627,
         "#ff2042"
        ],
        [
         0.8549019607843137,
         "#ff2142"
        ],
        [
         0.8588235294117647,
         "#ff2142"
        ],
        [
         0.8627450980392157,
         "#ff2242"
        ],
        [
         0.8666666666666667,
         "#ff2342"
        ],
        [
         0.8705882352941177,
         "#ff2442"
        ],
        [
         0.8745098039215686,
         "#ff2442"
        ],
        [
         0.8784313725490196,
         "#ff2542"
        ],
        [
         0.8823529411764706,
         "#ff2642"
        ],
        [
         0.8862745098039215,
         "#ff2642"
        ],
        [
         0.8901960784313725,
         "#ff2742"
        ],
        [
         0.8941176470588236,
         "#ff2842"
        ],
        [
         0.8980392156862745,
         "#ff2842"
        ],
        [
         0.9019607843137255,
         "#ff2942"
        ],
        [
         0.9058823529411765,
         "#ff2a42"
        ],
        [
         0.9098039215686274,
         "#ff2b42"
        ],
        [
         0.9137254901960784,
         "#ff2c42"
        ],
        [
         0.9176470588235294,
         "#ff2d42"
        ],
        [
         0.9215686274509803,
         "#ff2e42"
        ],
        [
         0.9254901960784314,
         "#ff2f42"
        ],
        [
         0.9294117647058824,
         "#ff3042"
        ],
        [
         0.9333333333333333,
         "#ff3142"
        ],
        [
         0.9372549019607843,
         "#ff3242"
        ],
        [
         0.9411764705882353,
         "#ff3342"
        ],
        [
         0.9450980392156862,
         "#ff3442"
        ],
        [
         0.9490196078431372,
         "#ff3542"
        ],
        [
         0.9529411764705882,
         "#ff3642"
        ],
        [
         0.9568627450980393,
         "#ff3742"
        ],
        [
         0.9607843137254902,
         "#ff3842"
        ],
        [
         0.9647058823529412,
         "#ff3942"
        ],
        [
         0.9686274509803922,
         "#ff3a42"
        ],
        [
         0.9725490196078431,
         "#ff3b42"
        ],
        [
         0.9764705882352941,
         "#ff3c42"
        ],
        [
         0.9803921568627451,
         "#ff3d42"
        ],
        [
         0.984313725490196,
         "#ff3e42"
        ],
        [
         0.9882352941176471,
         "#ff3f42"
        ],
        [
         0.9921568627450981,
         "#ff4042"
        ],
        [
         0.996078431372549,
         "#ff4142"
        ],
        [
         1,
         "#ff4242"
        ]
       ],
       "showscale": false,
       "type": "heatmap",
       "uid": "bdf495e3-aa40-11e8-a9a1-9cb6d02202bb",
       "x": [
        "Sample 0",
        "Sample 1",
        "Sample 2",
        "Sample 3",
        "Sample 4"
       ],
       "y": [
        "Index 7",
        "Index 5",
        "Index 0",
        "Index 4",
        "Index 2",
        "Index 3",
        "Index 1",
        "Index 6"
       ],
       "yaxis": "y",
       "z": [
        [
         0.7594705308363561,
         0.9522276880643292,
         -1.8287392796444595,
         -0.22899493443849214,
         0.3460359951822647
        ],
        [
         -0.5292872310953125,
         0.18313628988824462,
         -1.2499039990934402,
         1.7598903588061223,
         -0.16383541850561376
        ],
        [
         0.8361273418272807,
         0.5612786442928458,
         -0.8938609783635457,
         0.9851775993292541,
         -1.488722607085834
        ],
        [
         1.014294505375367,
         0.48763157762006515,
         -0.8633968510317166,
         0.8605888046737596,
         -1.4991180366374794
        ],
        [
         1.6253535696032213,
         -1.2658354945001955,
         -0.8084385429504665,
         0.19663395419164278,
         0.25228651365579763
        ],
        [
         -0.3241167509286527,
         -1.1413160143566703,
         -0.8585829411901159,
         0.8839279022654108,
         1.4400878042100278
        ],
        [
         -1.5431408544539351,
         1.2436761771591847,
         0.8432077139628297,
         -0.5983361992973574,
         0.054593162629277915
        ],
        [
         -0.415846278991357,
         -0.6834624890396586,
         1.9255369701189078,
         -0.8074057152505877,
         -0.018822486837304628
        ]
       ],
       "zauto": false,
       "zmax": 1.9255369701189078,
       "zmin": -1.8287392796444595
      },
      "image/png": "[encoded data removed]"
     },
     "metadata": {},
     "output_type": "display_data"
    },
    {
     "data": {
      "text/html": [
       "<div>\n",
       "<style scoped>\n",
       "    .dataframe tbody tr th:only-of-type {\n",
       "        vertical-align: middle;\n",
       "    }\n",
       "\n",
       "    .dataframe tbody tr th {\n",
       "        vertical-align: top;\n",
       "    }\n",
       "\n",
       "    .dataframe thead th {\n",
       "        text-align: right;\n",
       "    }\n",
       "</style>\n",
       "<table border=\"1\" class=\"dataframe\">\n",
       "  <thead>\n",
       "    <tr style=\"text-align: right;\">\n",
       "      <th></th>\n",
       "      <th>Score</th>\n",
       "      <th>0.95 MoE</th>\n",
       "      <th>P-Value</th>\n",
       "      <th>FDR</th>\n",
       "    </tr>\n",
       "  </thead>\n",
       "  <tbody>\n",
       "    <tr>\n",
       "      <th>Index 6</th>\n",
       "      <td>0.746456</td>\n",
       "      <td>NaN</td>\n",
       "      <td>NaN</td>\n",
       "      <td>NaN</td>\n",
       "    </tr>\n",
       "    <tr>\n",
       "      <th>Index 1</th>\n",
       "      <td>0.401875</td>\n",
       "      <td>NaN</td>\n",
       "      <td>NaN</td>\n",
       "      <td>NaN</td>\n",
       "    </tr>\n",
       "    <tr>\n",
       "      <th>Index 3</th>\n",
       "      <td>-0.369932</td>\n",
       "      <td>NaN</td>\n",
       "      <td>NaN</td>\n",
       "      <td>NaN</td>\n",
       "    </tr>\n",
       "    <tr>\n",
       "      <th>Index 2</th>\n",
       "      <td>-0.404746</td>\n",
       "      <td>NaN</td>\n",
       "      <td>NaN</td>\n",
       "      <td>NaN</td>\n",
       "    </tr>\n",
       "    <tr>\n",
       "      <th>Index 4</th>\n",
       "      <td>-0.410464</td>\n",
       "      <td>NaN</td>\n",
       "      <td>NaN</td>\n",
       "      <td>NaN</td>\n",
       "    </tr>\n",
       "    <tr>\n",
       "      <th>Index 0</th>\n",
       "      <td>-0.419548</td>\n",
       "      <td>NaN</td>\n",
       "      <td>NaN</td>\n",
       "      <td>NaN</td>\n",
       "    </tr>\n",
       "    <tr>\n",
       "      <th>Index 5</th>\n",
       "      <td>-0.434535</td>\n",
       "      <td>NaN</td>\n",
       "      <td>NaN</td>\n",
       "      <td>NaN</td>\n",
       "    </tr>\n",
       "    <tr>\n",
       "      <th>Index 7</th>\n",
       "      <td>-0.730849</td>\n",
       "      <td>NaN</td>\n",
       "      <td>NaN</td>\n",
       "      <td>NaN</td>\n",
       "    </tr>\n",
       "  </tbody>\n",
       "</table>\n",
       "</div>"
      ],
      "text/plain": [
       "            Score 0.95 MoE P-Value  FDR\n",
       "Index 6  0.746456      NaN     NaN  NaN\n",
       "Index 1  0.401875      NaN     NaN  NaN\n",
       "Index 3 -0.369932      NaN     NaN  NaN\n",
       "Index 2 -0.404746      NaN     NaN  NaN\n",
       "Index 4 -0.410464      NaN     NaN  NaN\n",
       "Index 0 -0.419548      NaN     NaN  NaN\n",
       "Index 5 -0.434535      NaN     NaN  NaN\n",
       "Index 7 -0.730849      NaN     NaN  NaN"
      ]
     },
     "execution_count": 6,
     "metadata": {},
     "output_type": "execute_result"
    }
   ],
   "source": [
    "target = [\n",
    "    1,\n",
    "    2,\n",
    "    8,\n",
    "    2,\n",
    "    1,\n",
    "]\n",
    "\n",
    "target = pd.Series(\n",
    "    target, \n",
    "    name='Target',\n",
    "    index=('Sample {}'.format(i) for i in range(len(target))),\n",
    ")\n",
    "\n",
    "n_row = 8\n",
    "\n",
    "features = pd.DataFrame(\n",
    "    np.random.random_sample(size=(\n",
    "        n_row,\n",
    "        target.size,\n",
    "    )),\n",
    "    index=('Index {}'.format(i) for i in range(n_row)),\n",
    "    columns=target.index,\n",
    ")\n",
    "\n",
    "make_match_panel(\n",
    "    target,\n",
    "    features,\n",
    "    target_ascending=None,\n",
    "    target_type='categorical',\n",
    ")"
   ]
  },
  {
   "cell_type": "code",
   "execution_count": 7,
   "metadata": {
    "ExecuteTime": {
     "end_time": "2018-05-15T10:47:59.764349Z",
     "start_time": "2018-05-15T10:46:36.621876Z"
    },
    "scrolled": false
   },
   "outputs": [
    {
     "name": "stdout",
     "output_type": "stream",
     "text": [
      "target.index (28) & features.columns (28) have 28 in common.\n",
      "Computing score using compute_information_coefficient with 1 process ...\n",
      "Computing MoE with 3 sampling ...\n",
      "Computing p-value and FDR with 1 permutation ...\n"
     ]
    },
    {
     "data": {
      "0": {
       "colorscale": [
        [
         0,
         "#ebf6f7"
        ],
        [
         1,
         "#171412"
        ]
       ],
       "showscale": false,
       "text": [
        [
         "Pt28",
         "Pt8",
         "Pt15",
         "Pt19",
         "Pt2",
         "Pt9",
         "Pt13",
         "Pt38",
         "Pt5",
         "Pt27B",
         "Pt27A",
         "Pt4",
         "Pt37",
         "Pt6",
         "Pt35",
         "Pt20",
         "Pt7",
         "Pt1",
         "Pt14",
         "Pt29",
         "Pt25",
         "Pt10",
         "Pt22",
         "Pt32",
         "Pt12",
         "Pt16",
         "Pt31",
         "Pt23"
        ]
       ],
       "type": "heatmap",
       "uid": "cd09cf5c-aa40-11e8-a9a1-9cb6d02202bb",
       "x": [
        "Pt28",
        "Pt8",
        "Pt15",
        "Pt19",
        "Pt2",
        "Pt9",
        "Pt13",
        "Pt38",
        "Pt5",
        "Pt27B",
        "Pt27A",
        "Pt4",
        "Pt37",
        "Pt6",
        "Pt35",
        "Pt20",
        "Pt7",
        "Pt1",
        "Pt14",
        "Pt29",
        "Pt25",
        "Pt10",
        "Pt22",
        "Pt32",
        "Pt12",
        "Pt16",
        "Pt31",
        "Pt23"
       ],
       "y": [
        "Response"
       ],
       "yaxis": "y2",
       "z": [
        [
         1,
         1,
         1,
         1,
         1,
         1,
         1,
         1,
         1,
         1,
         1,
         1,
         1,
         1,
         1,
         0,
         0,
         0,
         0,
         0,
         0,
         0,
         0,
         0,
         0,
         0,
         0,
         0
        ]
       ],
       "zauto": true,
       "zmax": 1,
       "zmin": 0
      },
      "1": {
       "colorscale": [
        [
         0,
         "#4242ff"
        ],
        [
         0.00392156862745098,
         "#4241ff"
        ],
        [
         0.00784313725490196,
         "#4240ff"
        ],
        [
         0.011764705882352941,
         "#423fff"
        ],
        [
         0.01568627450980392,
         "#423eff"
        ],
        [
         0.0196078431372549,
         "#423dff"
        ],
        [
         0.023529411764705882,
         "#423cff"
        ],
        [
         0.027450980392156862,
         "#423bff"
        ],
        [
         0.03137254901960784,
         "#423aff"
        ],
        [
         0.03529411764705882,
         "#4239ff"
        ],
        [
         0.0392156862745098,
         "#4238ff"
        ],
        [
         0.043137254901960784,
         "#4237ff"
        ],
        [
         0.047058823529411764,
         "#4236ff"
        ],
        [
         0.050980392156862744,
         "#4235ff"
        ],
        [
         0.054901960784313725,
         "#4234ff"
        ],
        [
         0.058823529411764705,
         "#4233ff"
        ],
        [
         0.06274509803921569,
         "#4232ff"
        ],
        [
         0.06666666666666667,
         "#4231ff"
        ],
        [
         0.07058823529411765,
         "#4230ff"
        ],
        [
         0.07450980392156863,
         "#422fff"
        ],
        [
         0.0784313725490196,
         "#422eff"
        ],
        [
         0.08235294117647059,
         "#422dff"
        ],
        [
         0.08627450980392157,
         "#422cff"
        ],
        [
         0.09019607843137255,
         "#422bff"
        ],
        [
         0.09411764705882353,
         "#422aff"
        ],
        [
         0.09803921568627451,
         "#4229ff"
        ],
        [
         0.10196078431372549,
         "#4228ff"
        ],
        [
         0.10588235294117647,
         "#4228ff"
        ],
        [
         0.10980392156862745,
         "#4227ff"
        ],
        [
         0.11372549019607843,
         "#4226ff"
        ],
        [
         0.11764705882352941,
         "#4226ff"
        ],
        [
         0.12156862745098039,
         "#4225ff"
        ],
        [
         0.12549019607843137,
         "#4224ff"
        ],
        [
         0.12941176470588237,
         "#4224ff"
        ],
        [
         0.13333333333333333,
         "#4223ff"
        ],
        [
         0.13725490196078433,
         "#4222ff"
        ],
        [
         0.1411764705882353,
         "#4221ff"
        ],
        [
         0.1450980392156863,
         "#4221ff"
        ],
        [
         0.14901960784313725,
         "#4220ff"
        ],
        [
         0.15294117647058825,
         "#421fff"
        ],
        [
         0.1568627450980392,
         "#421fff"
        ],
        [
         0.1607843137254902,
         "#421eff"
        ],
        [
         0.16470588235294117,
         "#421dff"
        ],
        [
         0.16862745098039217,
         "#421dff"
        ],
        [
         0.17254901960784313,
         "#421cff"
        ],
        [
         0.17647058823529413,
         "#421bff"
        ],
        [
         0.1803921568627451,
         "#421aff"
        ],
        [
         0.1843137254901961,
         "#421aff"
        ],
        [
         0.18823529411764706,
         "#4219ff"
        ],
        [
         0.19215686274509805,
         "#4218ff"
        ],
        [
         0.19607843137254902,
         "#4218ff"
        ],
        [
         0.2,
         "#4217ff"
        ],
        [
         0.20392156862745098,
         "#4419ff"
        ],
        [
         0.20784313725490197,
         "#451aff"
        ],
        [
         0.21176470588235294,
         "#461cff"
        ],
        [
         0.21568627450980393,
         "#481eff"
        ],
        [
         0.2196078431372549,
         "#491fff"
        ],
        [
         0.2235294117647059,
         "#4a21ff"
        ],
        [
         0.22745098039215686,
         "#4b23ff"
        ],
        [
         0.23137254901960785,
         "#4d25ff"
        ],
        [
         0.23529411764705882,
         "#4e26ff"
        ],
        [
         0.23921568627450981,
         "#4f28ff"
        ],
        [
         0.24313725490196078,
         "#512aff"
        ],
        [
         0.24705882352941178,
         "#522bff"
        ],
        [
         0.25098039215686274,
         "#532dff"
        ],
        [
         0.2549019607843137,
         "#542fff"
        ],
        [
         0.25882352941176473,
         "#5630ff"
        ],
        [
         0.2627450980392157,
         "#5732ff"
        ],
        [
         0.26666666666666666,
         "#5834ff"
        ],
        [
         0.27058823529411763,
         "#5a36ff"
        ],
        [
         0.27450980392156865,
         "#5b37ff"
        ],
        [
         0.2784313725490196,
         "#5c39ff"
        ],
        [
         0.2823529411764706,
         "#5e3bff"
        ],
        [
         0.28627450980392155,
         "#5f3cff"
        ],
        [
         0.2901960784313726,
         "#603eff"
        ],
        [
         0.29411764705882354,
         "#6240ff"
        ],
        [
         0.2980392156862745,
         "#6341ff"
        ],
        [
         0.30196078431372547,
         "#6544ff"
        ],
        [
         0.3058823529411765,
         "#6849ff"
        ],
        [
         0.30980392156862746,
         "#6b4dff"
        ],
        [
         0.3137254901960784,
         "#6e51ff"
        ],
        [
         0.3176470588235294,
         "#7156ff"
        ],
        [
         0.3215686274509804,
         "#745aff"
        ],
        [
         0.3254901960784314,
         "#775eff"
        ],
        [
         0.32941176470588235,
         "#7a63ff"
        ],
        [
         0.3333333333333333,
         "#7d67ff"
        ],
        [
         0.33725490196078434,
         "#806bff"
        ],
        [
         0.3411764705882353,
         "#836fff"
        ],
        [
         0.34509803921568627,
         "#8674ff"
        ],
        [
         0.34901960784313724,
         "#8978ff"
        ],
        [
         0.35294117647058826,
         "#8c7cff"
        ],
        [
         0.3568627450980392,
         "#8f81ff"
        ],
        [
         0.3607843137254902,
         "#9285ff"
        ],
        [
         0.36470588235294116,
         "#9589ff"
        ],
        [
         0.3686274509803922,
         "#988eff"
        ],
        [
         0.37254901960784315,
         "#9b92ff"
        ],
        [
         0.3764705882352941,
         "#9e96ff"
        ],
        [
         0.3803921568627451,
         "#a19aff"
        ],
        [
         0.3843137254901961,
         "#a49fff"
        ],
        [
         0.38823529411764707,
         "#a7a3ff"
        ],
        [
         0.39215686274509803,
         "#aaa7ff"
        ],
        [
         0.396078431372549,
         "#adacff"
        ],
        [
         0.4,
         "#b0b0ff"
        ],
        [
         0.403921568627451,
         "#b3b3ff"
        ],
        [
         0.40784313725490196,
         "#b6b6ff"
        ],
        [
         0.4117647058823529,
         "#b9b9ff"
        ],
        [
         0.41568627450980394,
         "#bcbcff"
        ],
        [
         0.4196078431372549,
         "#bfbfff"
        ],
        [
         0.4235294117647059,
         "#c3c3ff"
        ],
        [
         0.42745098039215684,
         "#c6c6ff"
        ],
        [
         0.43137254901960786,
         "#c9c9ff"
        ],
        [
         0.43529411764705883,
         "#ccccff"
        ],
        [
         0.4392156862745098,
         "#cfcfff"
        ],
        [
         0.44313725490196076,
         "#d2d2ff"
        ],
        [
         0.4470588235294118,
         "#d5d5ff"
        ],
        [
         0.45098039215686275,
         "#d8d8ff"
        ],
        [
         0.4549019607843137,
         "#dbdbff"
        ],
        [
         0.4588235294117647,
         "#dedeff"
        ],
        [
         0.4627450980392157,
         "#e2e2ff"
        ],
        [
         0.4666666666666667,
         "#e5e5ff"
        ],
        [
         0.47058823529411764,
         "#e8e8ff"
        ],
        [
         0.4745098039215686,
         "#ebebff"
        ],
        [
         0.47843137254901963,
         "#eeeeff"
        ],
        [
         0.4823529411764706,
         "#f1f1ff"
        ],
        [
         0.48627450980392156,
         "#f4f4ff"
        ],
        [
         0.49019607843137253,
         "#f7f7ff"
        ],
        [
         0.49411764705882355,
         "#fafaff"
        ],
        [
         0.4980392156862745,
         "#fdfdff"
        ],
        [
         0.5019607843137255,
         "#fffdfd"
        ],
        [
         0.5058823529411764,
         "#fffafa"
        ],
        [
         0.5098039215686274,
         "#fff7f7"
        ],
        [
         0.5137254901960784,
         "#fff4f4"
        ],
        [
         0.5176470588235295,
         "#fff1f1"
        ],
        [
         0.5215686274509804,
         "#ffeeee"
        ],
        [
         0.5254901960784314,
         "#ffebeb"
        ],
        [
         0.5294117647058824,
         "#ffe8e8"
        ],
        [
         0.5333333333333333,
         "#ffe5e5"
        ],
        [
         0.5372549019607843,
         "#ffe2e2"
        ],
        [
         0.5411764705882353,
         "#ffdede"
        ],
        [
         0.5450980392156862,
         "#ffdbdb"
        ],
        [
         0.5490196078431373,
         "#ffd8d8"
        ],
        [
         0.5529411764705883,
         "#ffd5d5"
        ],
        [
         0.5568627450980392,
         "#ffd2d2"
        ],
        [
         0.5607843137254902,
         "#ffcfcf"
        ],
        [
         0.5647058823529412,
         "#ffcccc"
        ],
        [
         0.5686274509803921,
         "#ffc9c9"
        ],
        [
         0.5725490196078431,
         "#ffc6c6"
        ],
        [
         0.5764705882352941,
         "#ffc3c3"
        ],
        [
         0.5803921568627451,
         "#ffbfbf"
        ],
        [
         0.5843137254901961,
         "#ffbcbc"
        ],
        [
         0.5882352941176471,
         "#ffb9b9"
        ],
        [
         0.592156862745098,
         "#ffb6b6"
        ],
        [
         0.596078431372549,
         "#ffb3b3"
        ],
        [
         0.6,
         "#ffb0b0"
        ],
        [
         0.6039215686274509,
         "#ffacad"
        ],
        [
         0.6078431372549019,
         "#ffa7aa"
        ],
        [
         0.611764705882353,
         "#ffa3a7"
        ],
        [
         0.615686274509804,
         "#ff9fa4"
        ],
        [
         0.6196078431372549,
         "#ff9aa1"
        ],
        [
         0.6235294117647059,
         "#ff969e"
        ],
        [
         0.6274509803921569,
         "#ff929b"
        ],
        [
         0.6313725490196078,
         "#ff8e98"
        ],
        [
         0.6352941176470588,
         "#ff8995"
        ],
        [
         0.6392156862745098,
         "#ff8592"
        ],
        [
         0.6431372549019608,
         "#ff818f"
        ],
        [
         0.6470588235294118,
         "#ff7c8c"
        ],
        [
         0.6509803921568628,
         "#ff7889"
        ],
        [
         0.6549019607843137,
         "#ff7486"
        ],
        [
         0.6588235294117647,
         "#ff6f83"
        ],
        [
         0.6627450980392157,
         "#ff6b80"
        ],
        [
         0.6666666666666666,
         "#ff677d"
        ],
        [
         0.6705882352941176,
         "#ff637a"
        ],
        [
         0.6745098039215687,
         "#ff5e77"
        ],
        [
         0.6784313725490196,
         "#ff5a74"
        ],
        [
         0.6823529411764706,
         "#ff5671"
        ],
        [
         0.6862745098039216,
         "#ff516e"
        ],
        [
         0.6901960784313725,
         "#ff4d6b"
        ],
        [
         0.6941176470588235,
         "#ff4968"
        ],
        [
         0.6980392156862745,
         "#ff4465"
        ],
        [
         0.7019607843137254,
         "#ff4163"
        ],
        [
         0.7058823529411765,
         "#ff4062"
        ],
        [
         0.7098039215686275,
         "#ff3e60"
        ],
        [
         0.7137254901960784,
         "#ff3c5f"
        ],
        [
         0.7176470588235294,
         "#ff3b5e"
        ],
        [
         0.7215686274509804,
         "#ff395c"
        ],
        [
         0.7254901960784313,
         "#ff375b"
        ],
        [
         0.7294117647058823,
         "#ff365a"
        ],
        [
         0.7333333333333333,
         "#ff3458"
        ],
        [
         0.7372549019607844,
         "#ff3257"
        ],
        [
         0.7411764705882353,
         "#ff3056"
        ],
        [
         0.7450980392156863,
         "#ff2f55"
        ],
        [
         0.7490196078431373,
         "#ff2d53"
        ],
        [
         0.7529411764705882,
         "#ff2b52"
        ],
        [
         0.7568627450980392,
         "#ff2a51"
        ],
        [
         0.7607843137254902,
         "#ff284f"
        ],
        [
         0.7647058823529411,
         "#ff264e"
        ],
        [
         0.7686274509803922,
         "#ff254d"
        ],
        [
         0.7725490196078432,
         "#ff234b"
        ],
        [
         0.7764705882352941,
         "#ff214a"
        ],
        [
         0.7803921568627451,
         "#ff1f49"
        ],
        [
         0.7843137254901961,
         "#ff1e48"
        ],
        [
         0.788235294117647,
         "#ff1c46"
        ],
        [
         0.792156862745098,
         "#ff1a45"
        ],
        [
         0.796078431372549,
         "#ff1944"
        ],
        [
         0.8,
         "#ff1742"
        ],
        [
         0.803921568627451,
         "#ff1842"
        ],
        [
         0.807843137254902,
         "#ff1842"
        ],
        [
         0.8117647058823529,
         "#ff1942"
        ],
        [
         0.8156862745098039,
         "#ff1a42"
        ],
        [
         0.8196078431372549,
         "#ff1a42"
        ],
        [
         0.8235294117647058,
         "#ff1b42"
        ],
        [
         0.8274509803921568,
         "#ff1c42"
        ],
        [
         0.8313725490196079,
         "#ff1d42"
        ],
        [
         0.8352941176470589,
         "#ff1d42"
        ],
        [
         0.8392156862745098,
         "#ff1e42"
        ],
        [
         0.8431372549019608,
         "#ff1f42"
        ],
        [
         0.8470588235294118,
         "#ff1f42"
        ],
        [
         0.8509803921568627,
         "#ff2042"
        ],
        [
         0.8549019607843137,
         "#ff2142"
        ],
        [
         0.8588235294117647,
         "#ff2142"
        ],
        [
         0.8627450980392157,
         "#ff2242"
        ],
        [
         0.8666666666666667,
         "#ff2342"
        ],
        [
         0.8705882352941177,
         "#ff2442"
        ],
        [
         0.8745098039215686,
         "#ff2442"
        ],
        [
         0.8784313725490196,
         "#ff2542"
        ],
        [
         0.8823529411764706,
         "#ff2642"
        ],
        [
         0.8862745098039215,
         "#ff2642"
        ],
        [
         0.8901960784313725,
         "#ff2742"
        ],
        [
         0.8941176470588236,
         "#ff2842"
        ],
        [
         0.8980392156862745,
         "#ff2842"
        ],
        [
         0.9019607843137255,
         "#ff2942"
        ],
        [
         0.9058823529411765,
         "#ff2a42"
        ],
        [
         0.9098039215686274,
         "#ff2b42"
        ],
        [
         0.9137254901960784,
         "#ff2c42"
        ],
        [
         0.9176470588235294,
         "#ff2d42"
        ],
        [
         0.9215686274509803,
         "#ff2e42"
        ],
        [
         0.9254901960784314,
         "#ff2f42"
        ],
        [
         0.9294117647058824,
         "#ff3042"
        ],
        [
         0.9333333333333333,
         "#ff3142"
        ],
        [
         0.9372549019607843,
         "#ff3242"
        ],
        [
         0.9411764705882353,
         "#ff3342"
        ],
        [
         0.9450980392156862,
         "#ff3442"
        ],
        [
         0.9490196078431372,
         "#ff3542"
        ],
        [
         0.9529411764705882,
         "#ff3642"
        ],
        [
         0.9568627450980393,
         "#ff3742"
        ],
        [
         0.9607843137254902,
         "#ff3842"
        ],
        [
         0.9647058823529412,
         "#ff3942"
        ],
        [
         0.9686274509803922,
         "#ff3a42"
        ],
        [
         0.9725490196078431,
         "#ff3b42"
        ],
        [
         0.9764705882352941,
         "#ff3c42"
        ],
        [
         0.9803921568627451,
         "#ff3d42"
        ],
        [
         0.984313725490196,
         "#ff3e42"
        ],
        [
         0.9882352941176471,
         "#ff3f42"
        ],
        [
         0.9921568627450981,
         "#ff4042"
        ],
        [
         0.996078431372549,
         "#ff4142"
        ],
        [
         1,
         "#ff4242"
        ]
       ],
       "showscale": false,
       "type": "heatmap",
       "uid": "cd09cf5d-aa40-11e8-a9a1-9cb6d02202bb",
       "x": [
        "Pt28",
        "Pt8",
        "Pt15",
        "Pt19",
        "Pt2",
        "Pt9",
        "Pt13",
        "Pt38",
        "Pt5",
        "Pt27B",
        "Pt27A",
        "Pt4",
        "Pt37",
        "Pt6",
        "Pt35",
        "Pt20",
        "Pt7",
        "Pt1",
        "Pt14",
        "Pt29",
        "Pt25",
        "Pt10",
        "Pt22",
        "Pt32",
        "Pt12",
        "Pt16",
        "Pt31",
        "Pt23"
       ],
       "y": [
        "GSE17721_CTRL_VS_POLYIC_0.5H_BMDC_DN",
        "GSE3982_BASOPHIL_VS_EFF_MEMORY_CD4_TCELL_DN",
        "GSE32986_UNSTIM_VS_GMCSF_STIM_DC_DN",
        "GSE43863_NAIVE_VS_TFH_CD4_EFF_TCELL_D6_LCMV_UP",
        "GSE12963_ENV_NEF_VS_ENV_NEF_AND_VPR_DEFICIENT_HIV1_INF_CD4_TCELL_DN",
        "GSE9650_EXHAUSTED_VS_MEMORY_CD8_TCELL_UP",
        "GSE19198_CTRL_VS_IL21_TREATED_TCELL_1H_UP",
        "GSE36888_UNTREATED_VS_IL2_TREATED_TCELL_2H_DN",
        "GSE15330_HSC_VS_GRANULOCYTE_MONOCYTE_PROGENITOR_UP",
        "GSE29618_PRE_VS_DAY7_FLU_VACCINE_BCELL_DN",
        "GSE14308_TH2_VS_INDUCED_TREG_UP",
        "GSE25123_CTRL_VS_IL4_AND_ROSIGLITAZONE_STIM_PPARG_KO_MACROPHAGE_DN",
        "GSE4142_PLASMA_CELL_VS_GC_BCELL_DN",
        "GSE45365_HEALTHY_VS_MCMV_INFECTION_CD11B_DC_UP",
        "GSE15659_NAIVE_VS_PTPRC_NEG_CD4_TCELL_UP",
        "GSE17721_LPS_VS_PAM3CSK4_1H_BMDC_UP"
       ],
       "yaxis": "y",
       "z": [
        [
         -1.663294216445415,
         -0.5599476407192152,
         -1.2497952160281498,
         -0.511212609099355,
         -1.658844725506573,
         0.04656094812518626,
         0.4445245749638067,
         0.23830044151116264,
         -1.1592250227743555,
         -1.9178647049343478,
         -0.8766406157215333,
         -0.7954352403087539,
         -0.18151496315231416,
         0.6031665417119618,
         -0.42185708665843175,
         0.28086647967627126,
         -0.3331493834250192,
         1.2103530974116787,
         1.6401102608447675,
         -0.6395607060661067,
         1.1712778121428487,
         1.7715339431779613,
         1.0231253633170636,
         0.8603714905797518,
         0.42336244422261055,
         1.0210361182968861,
         0.44892360895513284,
         0.7848290059023192
        ],
        [
         -0.28174497673338983,
         0.3410901041304784,
         0.816393446667448,
         -0.7699311204568831,
         -0.6932084996651854,
         -1.5344134094441018,
         -1.5526050508074924,
         -0.01767765008146672,
         -1.4785321562287153,
         -0.9024472102440774,
         -0.8834252133670824,
         -1.155999619359884,
         -1.7530952963635789,
         0.8681610477323047,
         0.7926727701269893,
         0.17902891682904193,
         0.39385036991530553,
         0.2289550932666708,
         0.08282996297244655,
         -0.05822399773524733,
         0.011405037353383385,
         0.5536425908915013,
         1.148880842869081,
         0.601975790634106,
         0.4243928226209091,
         0.8605512740698055,
         2.7350234009121603,
         1.0424507294955419
        ],
        [
         0.2703812376030026,
         -0.6076054599543068,
         -0.7441897574564871,
         -0.32502491132013617,
         -0.582422617155143,
         -1.281132844264625,
         -0.26624655638245015,
         -0.2221031497655117,
         -1.0676681278948532,
         -0.8404156850030308,
         -0.2348191694580196,
         -0.7192806122921174,
         0.13638938758318053,
         -0.3159531039129733,
         -0.777843249286362,
         2.4126013971114366,
         0.6040725546406487,
         0.8987397128480873,
         2.5097296523994066,
         0.7361095007072876,
         0.08449467543911743,
         0.732498037334885,
         -0.40328531255514,
         -1.6250437106286282,
         -0.27543913466383196,
         -0.785235637415053,
         1.0550793193895023,
         1.6336135643520828
        ],
        [
         -0.8133208525404407,
         -0.5362542297045769,
         -1.245739062002101,
         -1.5489681352098907,
         -0.9198359367223232,
         0.1754733173174056,
         0.37534037831422457,
         -0.3205199396265526,
         0.1632628113400449,
         -0.5867856332571916,
         0.0913692365972686,
         0.6395132499559402,
         -1.1012019191739895,
         -0.609538335393013,
         -0.03737897034098296,
         -2.0264257201914497,
         -1.3673564004601406,
         0.39748893450452244,
         0.9734938762077979,
         0.5801921344148583,
         1.0508418955126855,
         1.4070842850849286,
         2.0562859977946113,
         1.5973892393648603,
         0.893758373844107,
         0.5733610596160783,
         0.839223419507199,
         -0.700753074753919
        ],
        [
         0.18871388598280736,
         -1.130077879051665,
         -0.032339016581097106,
         -0.1394336204196362,
         -2.06199590797018,
         -0.896748777919756,
         -0.35129468221037147,
         -0.9110020689537416,
         0.0011682745321602336,
         -1.2990324758915044,
         -0.1923056937940341,
         -0.41076399691835774,
         -1.0026502717673818,
         -0.6912785868024307,
         2.527632235858607,
         -0.9252580068874298,
         0.25886229266830324,
         -0.6769282073005098,
         0.7478282309416476,
         0.0050079833741321295,
         1.0311799004112336,
         1.3491369370916322,
         0.50505152071389,
         -0.33444839015876354,
         1.1688563249527577,
         0.8493363309666193,
         1.793896232521437,
         0.6288874326117432
        ],
        [
         -0.3757147860568914,
         -0.24870813547515572,
         -0.23623228183854703,
         -1.3523460330384942,
         -0.6517729215901004,
         -0.37990891473193045,
         1.153140811723856,
         2.416847793634698,
         -1.9194610470808957,
         -1.313736259818773,
         -0.6633969501230714,
         -0.15397862109181512,
         -1.2840990352817943,
         -0.934040117210065,
         -0.6442755718778734,
         0.6058039008998463,
         1.2398275374221128,
         0.11693525182903329,
         0.09754239786472535,
         0.00652768782679416,
         0.33858385416338616,
         1.7488039750743392,
         0.8358194185372312,
         0.42327716033656576,
         -0.5730990560397927,
         -0.5497930829801315,
         0.9101193887588603,
         1.3873336361637871
        ],
        [
         -1.4155035642132423,
         -0.20821690598707082,
         -1.3996722205562813,
         -0.06963680375539213,
         2.4629856353007766,
         -1.4498286655218005,
         1.432901492200816,
         -1.4372982645179728,
         0.26149355801357826,
         -0.9675689419938849,
         -0.7310333643032184,
         -0.985127276242527,
         -0.5755586759815197,
         -0.565787162579438,
         -0.5678938661718523,
         0.24325461763721387,
         0.5587053539383621,
         -0.12995917858051775,
         0.2600817869280405,
         -0.10071846614436208,
         -0.35877918279502335,
         0.22901871094344856,
         0.22340044489329403,
         1.3804745944134873,
         0.6549281426760364,
         2.133926129582528,
         0.6067728385485772,
         0.5146392342680265
        ],
        [
         -1.1900044233451643,
         0.07786103293308849,
         0.5515369811458909,
         0.14748989501046592,
         -0.3868022894383495,
         -0.3651188946816984,
         0.3359291877905939,
         -0.949088589392545,
         -1.0685052891829174,
         -2.183764868639631,
         -0.9589929558900088,
         -0.9139773246349948,
         -0.1140781407308154,
         -0.6309325024644027,
         -0.5520207009431043,
         0.2572276110273243,
         -0.04819451098444313,
         0.48735922102991214,
         -0.31894293773255183,
         -0.8443743205306388,
         1.107404587228326,
         0.9028444866138629,
         1.0362590037073354,
         0.5665228483279784,
         -0.1189166630897702,
         0.3663217353854913,
         2.0064552957258774,
         2.8005025257550216
        ],
        [
         0.8093200217323786,
         -0.1980481156658258,
         -0.30344449490156383,
         -0.971788678216159,
         -0.6940466322831962,
         -0.578466090954174,
         -0.31523579738379015,
         -0.06061096694813532,
         0.48694761666332437,
         1.208093198773647,
         0.43548475041163587,
         0.9119997823800068,
         1.5760394160909093,
         3.0956456968871806,
         1.4670919900184718,
         -0.2861417360795777,
         -0.9473993182275634,
         0.16305433024636434,
         -0.25141922252184506,
         -1.7034328118947475,
         -0.9624509967185109,
         -0.7193326239477471,
         0.3820563806863636,
         -0.878111201268199,
         -0.24449500806309793,
         0.1956236964787105,
         -1.389702859125827,
         -0.22723032616912298
        ],
        [
         -1.688234786646388,
         -0.5348845396752421,
         1.203385802382023,
         -1.135045579762502,
         0.35055598083397094,
         -1.199272626902691,
         -1.0123472236243034,
         -0.2692853866792511,
         2.8603473491600586,
         1.0578886558843226,
         0.405042909995698,
         1.4260256063457464,
         0.5617183386441617,
         0.23108765602809087,
         2.1463867489978523,
         -0.14636109434438063,
         -0.25364159147794285,
         -0.5017314860025025,
         0.176120581265074,
         0.11821511323175239,
         -1.0689542658859583,
         -0.3980569670688327,
         -0.4509449494199828,
         -0.6239497966967876,
         -0.426844247201224,
         -0.5144100187134789,
         0.17718257638546983,
         -0.4899927590527965
        ],
        [
         -0.4385266303821347,
         -1.2131220340572593,
         -0.6597192906658524,
         -0.6904401813132199,
         0.5012155903015455,
         1.2490242241261378,
         0.7430020221117845,
         1.4287609173259996,
         2.852702880921397,
         0.10127265526457352,
         -0.06415796622494051,
         1.1759893787409423,
         0.4286780653972604,
         1.7096148937234652,
         -0.40757710273671244,
         -0.5310614197849038,
         -0.2967910310690238,
         0.2718196378484646,
         0.12576745552695967,
         -0.9231288320387566,
         -1.2561813063127352,
         -0.019309615846772273,
         -0.10711234922879406,
         0.046653932429312255,
         -0.250611554472612,
         -0.765003525293838,
         -1.2567588235722897,
         -1.7549999907179177
        ],
        [
         0.9027070955070835,
         0.5320907066178363,
         -0.042846756283090516,
         -0.7540898253164521,
         0.7569767020679604,
         -0.4492009204283881,
         1.379782213263297,
         1.726058137057967,
         1.4225218311903076,
         1.3669522242415337,
         1.1307783944746286,
         -1.2413722071708273,
         -0.24395693090939388,
         0.5714014698968507,
         0.4161937852969014,
         -0.10172990620603732,
         -0.04117710769105892,
         0.08598860767679757,
         -0.897481432807185,
         -1.055451675494012,
         -0.6114361090854268,
         1.074632477909494,
         -0.055747268152009026,
         -0.2635563505762641,
         -1.9076316235445767,
         -0.38558398151798,
         -1.1185624797137992,
         -2.196259070304153
        ],
        [
         -0.3149388400027766,
         -0.11179726269649677,
         -0.36919956077653815,
         -0.2635616785404324,
         -0.276471466568168,
         -0.14863792712363555,
         0.0775216593475313,
         0.5956719497652095,
         0.9010894294889386,
         0.659406874721092,
         0.5882436150316219,
         0.895327823011664,
         1.9615094113381035,
         0.6198648134297158,
         1.0018211718838947,
         0.659316164175684,
         -0.014081470760981898,
         2.090609915937211,
         -2.6348285382924863,
         -1.4448076920926622,
         -1.3678054824184376,
         -0.7916742580652301,
         -0.7575686339963774,
         -0.7677571485864496,
         0.503060062784648,
         0.49551215520950126,
         -0.9366902972311276,
         -0.8491347889730954
        ],
        [
         -2.152763501052522,
         -1.2142314070642852,
         0.017501905199389454,
         0.4263801019550369,
         1.4309322138623168,
         -0.674337398265683,
         -0.44953323675030255,
         0.7737838389881209,
         1.8974893317463963,
         1.9128583126558982,
         1.5961005756984588,
         1.205057274523961,
         0.5616028548887569,
         0.7397622637950075,
         0.0175785957591257,
         0.5292761854349372,
         -0.8056285324779318,
         -0.5448573820089723,
         -0.6037758265300832,
         0.7715553133778279,
         -0.3274059781893392,
         -0.7453247745710976,
         -0.768549402419078,
         -0.3577665420587637,
         -0.9210105062013347,
         -0.7034217236983917,
         -0.9998834725207713,
         -0.6113890840764779
        ],
        [
         0.6626411599215418,
         -0.1900441681791842,
         -0.14000321697586016,
         1.085608842049669,
         1.1018191646188928,
         1.3901510238754664,
         1.3472628905536073,
         1.1474875183855875,
         -0.3597940334431903,
         -0.2685256634156537,
         0.10614965298550111,
         -0.020438840314371577,
         0.4766913452789376,
         0.1062986442765692,
         1.6197362429576914,
         -0.6605636598733797,
         -0.6785357274114113,
         -0.4654949440558302,
         -2.0633626226067694,
         -1.328970425321559,
         -1.3097750508360013,
         0.16360948296360042,
         0.4096945743359666,
         0.4695773038816559,
         1.0437009957273853,
         -2.0197687547950802,
         -1.592291572070514,
         -0.03286016251323467
        ],
        [
         -0.7592905063821562,
         0.4652087140076937,
         0.29001008854138693,
         -0.16870326460977825,
         0.4676797571101057,
         1.3729108670012569,
         0.6876810090213763,
         -0.5565187754530276,
         1.6766863308462798,
         0.9788771871603782,
         0.9587396093163241,
         0.8950238269574886,
         -0.02074797388256974,
         1.1962149888351805,
         1.0647538881510328,
         -0.3743224573923793,
         -1.1949267687528116,
         -0.9218632699841061,
         -0.8811650977401073,
         0.21273545068965824,
         1.3067613780771399,
         -0.8156103667332781,
         0.9345705404681725,
         -1.131054511207898,
         -1.5558446146568368,
         -1.6582748749901939,
         -1.5251077646746574,
         -0.9444233897238681
        ]
       ],
       "zauto": false,
       "zmax": 3.0956456968871806,
       "zmin": -2.6348285382924863
      },
      "image/png": "[encoded data removed]"
     },
     "metadata": {},
     "output_type": "display_data"
    },
    {
     "data": {
      "text/html": [
       "<div>\n",
       "<style scoped>\n",
       "    .dataframe tbody tr th:only-of-type {\n",
       "        vertical-align: middle;\n",
       "    }\n",
       "\n",
       "    .dataframe tbody tr th {\n",
       "        vertical-align: top;\n",
       "    }\n",
       "\n",
       "    .dataframe thead th {\n",
       "        text-align: right;\n",
       "    }\n",
       "</style>\n",
       "<table border=\"1\" class=\"dataframe\">\n",
       "  <thead>\n",
       "    <tr style=\"text-align: right;\">\n",
       "      <th></th>\n",
       "      <th>Score</th>\n",
       "      <th>0.95 MoE</th>\n",
       "      <th>P-Value</th>\n",
       "      <th>FDR</th>\n",
       "    </tr>\n",
       "    <tr>\n",
       "      <th>Gene Set</th>\n",
       "      <th></th>\n",
       "      <th></th>\n",
       "      <th></th>\n",
       "      <th></th>\n",
       "    </tr>\n",
       "  </thead>\n",
       "  <tbody>\n",
       "    <tr>\n",
       "      <th>GSE17721_LPS_VS_PAM3CSK4_1H_BMDC_UP</th>\n",
       "      <td>0.581201</td>\n",
       "      <td>0.0432872</td>\n",
       "      <td>0.000205</td>\n",
       "      <td>0.500000</td>\n",
       "    </tr>\n",
       "    <tr>\n",
       "      <th>GSE15659_NAIVE_VS_PTPRC_NEG_CD4_TCELL_UP</th>\n",
       "      <td>0.551198</td>\n",
       "      <td>0.134764</td>\n",
       "      <td>0.000205</td>\n",
       "      <td>0.500000</td>\n",
       "    </tr>\n",
       "    <tr>\n",
       "      <th>GSE45365_HEALTHY_VS_MCMV_INFECTION_CD11B_DC_UP</th>\n",
       "      <td>0.517565</td>\n",
       "      <td>0.0994411</td>\n",
       "      <td>0.000411</td>\n",
       "      <td>0.558140</td>\n",
       "    </tr>\n",
       "    <tr>\n",
       "      <th>GSE4142_PLASMA_CELL_VS_GC_BCELL_DN</th>\n",
       "      <td>0.496095</td>\n",
       "      <td>0.0231714</td>\n",
       "      <td>0.001026</td>\n",
       "      <td>0.558140</td>\n",
       "    </tr>\n",
       "    <tr>\n",
       "      <th>GSE25123_CTRL_VS_IL4_AND_ROSIGLITAZONE_STIM_PPARG_KO_MACROPHAGE_DN</th>\n",
       "      <td>0.488129</td>\n",
       "      <td>0.140597</td>\n",
       "      <td>0.001232</td>\n",
       "      <td>0.558140</td>\n",
       "    </tr>\n",
       "    <tr>\n",
       "      <th>GSE14308_TH2_VS_INDUCED_TREG_UP</th>\n",
       "      <td>0.485067</td>\n",
       "      <td>0.0708102</td>\n",
       "      <td>0.001437</td>\n",
       "      <td>0.558140</td>\n",
       "    </tr>\n",
       "    <tr>\n",
       "      <th>GSE29618_PRE_VS_DAY7_FLU_VACCINE_BCELL_DN</th>\n",
       "      <td>0.484146</td>\n",
       "      <td>0.200523</td>\n",
       "      <td>0.001437</td>\n",
       "      <td>0.558140</td>\n",
       "    </tr>\n",
       "    <tr>\n",
       "      <th>GSE15330_HSC_VS_GRANULOCYTE_MONOCYTE_PROGENITOR_UP</th>\n",
       "      <td>0.478844</td>\n",
       "      <td>0.151866</td>\n",
       "      <td>0.001642</td>\n",
       "      <td>0.558140</td>\n",
       "    </tr>\n",
       "    <tr>\n",
       "      <th>GSE27786_LSK_VS_MONO_MAC_UP</th>\n",
       "      <td>0.467941</td>\n",
       "      <td>NaN</td>\n",
       "      <td>0.002053</td>\n",
       "      <td>0.558140</td>\n",
       "    </tr>\n",
       "    <tr>\n",
       "      <th>GSE18791_CTRL_VS_NEWCASTLE_VIRUS_DC_4H_UP</th>\n",
       "      <td>0.467033</td>\n",
       "      <td>NaN</td>\n",
       "      <td>0.002053</td>\n",
       "      <td>0.558140</td>\n",
       "    </tr>\n",
       "    <tr>\n",
       "      <th>GSE22033_UNTREATED_VS_ROSIGLITAZONE_TREATED_MEF_UP</th>\n",
       "      <td>0.459209</td>\n",
       "      <td>NaN</td>\n",
       "      <td>0.002258</td>\n",
       "      <td>0.558140</td>\n",
       "    </tr>\n",
       "    <tr>\n",
       "      <th>GSE37533_UNTREATED_VS_PIOGLIZATONE_TREATED_CD4_TCELL_PPARG2_AND_FOXP3_TRASDUCED_DN</th>\n",
       "      <td>0.458558</td>\n",
       "      <td>NaN</td>\n",
       "      <td>0.002258</td>\n",
       "      <td>0.558140</td>\n",
       "    </tr>\n",
       "    <tr>\n",
       "      <th>GSE41867_NAIVE_VS_DAY30_LCMV_CLONE13_EXHAUSTED_CD8_TCELL_DN</th>\n",
       "      <td>0.456534</td>\n",
       "      <td>NaN</td>\n",
       "      <td>0.002258</td>\n",
       "      <td>0.558140</td>\n",
       "    </tr>\n",
       "    <tr>\n",
       "      <th>GSE7852_TREG_VS_TCONV_THYMUS_DN</th>\n",
       "      <td>0.453366</td>\n",
       "      <td>NaN</td>\n",
       "      <td>0.002258</td>\n",
       "      <td>0.558140</td>\n",
       "    </tr>\n",
       "    <tr>\n",
       "      <th>GSE22935_UNSTIM_VS_12H_MBOVIS_BCG_STIM_MACROPHAGE_UP</th>\n",
       "      <td>0.452053</td>\n",
       "      <td>NaN</td>\n",
       "      <td>0.002258</td>\n",
       "      <td>0.558140</td>\n",
       "    </tr>\n",
       "    <tr>\n",
       "      <th>GSE17721_12H_VS_24H_GARDIQUIMOD_BMDC_DN</th>\n",
       "      <td>0.448187</td>\n",
       "      <td>NaN</td>\n",
       "      <td>0.002258</td>\n",
       "      <td>0.558140</td>\n",
       "    </tr>\n",
       "    <tr>\n",
       "      <th>GSE46468_LUNG_INNATE_LYMPHOID_CELL_VS_SPLEEN_CD4_TCELL_UP</th>\n",
       "      <td>0.445749</td>\n",
       "      <td>NaN</td>\n",
       "      <td>0.002463</td>\n",
       "      <td>0.558140</td>\n",
       "    </tr>\n",
       "    <tr>\n",
       "      <th>GSE27786_ERYTHROBLAST_VS_NEUTROPHIL_DN</th>\n",
       "      <td>0.445578</td>\n",
       "      <td>NaN</td>\n",
       "      <td>0.002463</td>\n",
       "      <td>0.558140</td>\n",
       "    </tr>\n",
       "    <tr>\n",
       "      <th>GSE45365_WT_VS_IFNAR_KO_CD8A_DC_UP</th>\n",
       "      <td>0.439565</td>\n",
       "      <td>NaN</td>\n",
       "      <td>0.002874</td>\n",
       "      <td>0.558140</td>\n",
       "    </tr>\n",
       "    <tr>\n",
       "      <th>GSE3982_MAC_VS_BCELL_DN</th>\n",
       "      <td>0.437937</td>\n",
       "      <td>NaN</td>\n",
       "      <td>0.003079</td>\n",
       "      <td>0.558140</td>\n",
       "    </tr>\n",
       "    <tr>\n",
       "      <th>GSE41867_DAY6_VS_DAY8_LCMV_ARMSTRONG_EFFECTOR_CD8_TCELL_DN</th>\n",
       "      <td>0.434354</td>\n",
       "      <td>NaN</td>\n",
       "      <td>0.003489</td>\n",
       "      <td>0.558140</td>\n",
       "    </tr>\n",
       "    <tr>\n",
       "      <th>GSE22432_MULTIPOTENT_VS_COMMON_DC_PROGENITOR_UNTREATED_UP</th>\n",
       "      <td>0.433921</td>\n",
       "      <td>NaN</td>\n",
       "      <td>0.003489</td>\n",
       "      <td>0.558140</td>\n",
       "    </tr>\n",
       "    <tr>\n",
       "      <th>GSE5589_LPS_VS_LPS_AND_IL10_STIM_IL6_KO_MACROPHAGE_180MIN_DN</th>\n",
       "      <td>0.430408</td>\n",
       "      <td>NaN</td>\n",
       "      <td>0.003489</td>\n",
       "      <td>0.558140</td>\n",
       "    </tr>\n",
       "    <tr>\n",
       "      <th>GSE24634_NAIVE_CD4_TCELL_VS_DAY3_IL4_CONV_TREG_UP</th>\n",
       "      <td>0.430395</td>\n",
       "      <td>NaN</td>\n",
       "      <td>0.003489</td>\n",
       "      <td>0.558140</td>\n",
       "    </tr>\n",
       "    <tr>\n",
       "      <th>GSE18791_CTRL_VS_NEWCASTLE_VIRUS_DC_2H_UP</th>\n",
       "      <td>0.429306</td>\n",
       "      <td>NaN</td>\n",
       "      <td>0.003489</td>\n",
       "      <td>0.558140</td>\n",
       "    </tr>\n",
       "    <tr>\n",
       "      <th>GSE5542_IFNA_VS_IFNA_AND_IFNG_TREATED_EPITHELIAL_CELLS_6H_DN</th>\n",
       "      <td>0.428932</td>\n",
       "      <td>NaN</td>\n",
       "      <td>0.003695</td>\n",
       "      <td>0.558140</td>\n",
       "    </tr>\n",
       "    <tr>\n",
       "      <th>GSE27291_6H_VS_7D_STIM_GAMMADELTA_TCELL_DN</th>\n",
       "      <td>0.422783</td>\n",
       "      <td>NaN</td>\n",
       "      <td>0.003900</td>\n",
       "      <td>0.558140</td>\n",
       "    </tr>\n",
       "    <tr>\n",
       "      <th>GSE13522_CTRL_VS_T_CRUZI_Y_STRAIN_INF_SKIN_IFNG_KO_UP</th>\n",
       "      <td>0.421477</td>\n",
       "      <td>NaN</td>\n",
       "      <td>0.004105</td>\n",
       "      <td>0.558140</td>\n",
       "    </tr>\n",
       "    <tr>\n",
       "      <th>GSE3982_CTRL_VS_LPS_4H_MAC_UP</th>\n",
       "      <td>0.419158</td>\n",
       "      <td>NaN</td>\n",
       "      <td>0.004105</td>\n",
       "      <td>0.558140</td>\n",
       "    </tr>\n",
       "    <tr>\n",
       "      <th>GSE17721_4_VS_24H_GARDIQUIMOD_BMDC_DN</th>\n",
       "      <td>0.418578</td>\n",
       "      <td>NaN</td>\n",
       "      <td>0.004105</td>\n",
       "      <td>0.558140</td>\n",
       "    </tr>\n",
       "    <tr>\n",
       "      <th>...</th>\n",
       "      <td>...</td>\n",
       "      <td>...</td>\n",
       "      <td>...</td>\n",
       "      <td>...</td>\n",
       "    </tr>\n",
       "    <tr>\n",
       "      <th>GSE46606_DAY1_VS_DAY3_CD40L_IL2_IL5_STIMULATED_IRF4_KO_BCELL_UP</th>\n",
       "      <td>-0.470921</td>\n",
       "      <td>NaN</td>\n",
       "      <td>0.001232</td>\n",
       "      <td>0.133333</td>\n",
       "    </tr>\n",
       "    <tr>\n",
       "      <th>GSE19888_CTRL_VS_A3R_ACT_TREATED_MAST_CELL_PRETREATED_WITH_A3R_INH_UP</th>\n",
       "      <td>-0.482139</td>\n",
       "      <td>NaN</td>\n",
       "      <td>0.000821</td>\n",
       "      <td>0.133333</td>\n",
       "    </tr>\n",
       "    <tr>\n",
       "      <th>GSE15330_LYMPHOID_MULTIPOTENT_VS_GRANULOCYTE_MONOCYTE_PROGENITOR_IKAROS_KO_DN</th>\n",
       "      <td>-0.482612</td>\n",
       "      <td>NaN</td>\n",
       "      <td>0.000616</td>\n",
       "      <td>0.107143</td>\n",
       "    </tr>\n",
       "    <tr>\n",
       "      <th>GSE7831_UNSTIM_VS_CPG_STIM_PDC_1H_DN</th>\n",
       "      <td>-0.487030</td>\n",
       "      <td>NaN</td>\n",
       "      <td>0.000411</td>\n",
       "      <td>0.074074</td>\n",
       "    </tr>\n",
       "    <tr>\n",
       "      <th>GSE17301_IFNA2_VS_IFNA5_STIM_ACD3_ACD28_ACT_CD8_TCELL_DN</th>\n",
       "      <td>-0.487900</td>\n",
       "      <td>NaN</td>\n",
       "      <td>0.000411</td>\n",
       "      <td>0.074074</td>\n",
       "    </tr>\n",
       "    <tr>\n",
       "      <th>GSE12366_GC_BCELL_VS_PLASMA_CELL_DN</th>\n",
       "      <td>-0.488049</td>\n",
       "      <td>NaN</td>\n",
       "      <td>0.000205</td>\n",
       "      <td>0.040000</td>\n",
       "    </tr>\n",
       "    <tr>\n",
       "      <th>GSE22229_RENAL_TRANSPLANT_VS_HEALTHY_PBMC_UP</th>\n",
       "      <td>-0.490353</td>\n",
       "      <td>NaN</td>\n",
       "      <td>0.000205</td>\n",
       "      <td>0.040000</td>\n",
       "    </tr>\n",
       "    <tr>\n",
       "      <th>GSE5589_WT_VS_IL10_KO_LPS_STIM_MACROPHAGE_180MIN_DN</th>\n",
       "      <td>-0.496111</td>\n",
       "      <td>NaN</td>\n",
       "      <td>0.000205</td>\n",
       "      <td>0.040000</td>\n",
       "    </tr>\n",
       "    <tr>\n",
       "      <th>GSE3982_BCELL_VS_CENT_MEMORY_CD4_TCELL_DN</th>\n",
       "      <td>-0.496909</td>\n",
       "      <td>NaN</td>\n",
       "      <td>0.000205</td>\n",
       "      <td>0.040000</td>\n",
       "    </tr>\n",
       "    <tr>\n",
       "      <th>GSE9946_IMMATURE_VS_LISTERIA_INF_MATURE_DC_DN</th>\n",
       "      <td>-0.508115</td>\n",
       "      <td>NaN</td>\n",
       "      <td>0.000205</td>\n",
       "      <td>0.040000</td>\n",
       "    </tr>\n",
       "    <tr>\n",
       "      <th>GSE40274_CTRL_VS_FOXP3_AND_SATB1_TRANSDUCED_ACTIVATED_CD4_TCELL_DN</th>\n",
       "      <td>-0.510932</td>\n",
       "      <td>NaN</td>\n",
       "      <td>0.000205</td>\n",
       "      <td>0.040000</td>\n",
       "    </tr>\n",
       "    <tr>\n",
       "      <th>GSE17721_LPS_VS_POLYIC_0.5H_BMDC_DN</th>\n",
       "      <td>-0.512360</td>\n",
       "      <td>NaN</td>\n",
       "      <td>0.000205</td>\n",
       "      <td>0.040000</td>\n",
       "    </tr>\n",
       "    <tr>\n",
       "      <th>GSE10147_IL3_VS_IL3_AND_HIVP17_STIM_PDC_DN</th>\n",
       "      <td>-0.518313</td>\n",
       "      <td>NaN</td>\n",
       "      <td>0.000205</td>\n",
       "      <td>0.040000</td>\n",
       "    </tr>\n",
       "    <tr>\n",
       "      <th>GSE3982_BCELL_VS_TH2_DN</th>\n",
       "      <td>-0.519054</td>\n",
       "      <td>NaN</td>\n",
       "      <td>0.000205</td>\n",
       "      <td>0.040000</td>\n",
       "    </tr>\n",
       "    <tr>\n",
       "      <th>GSE7460_FOXP3_MUT_VS_HET_ACT_TCONV_DN</th>\n",
       "      <td>-0.520174</td>\n",
       "      <td>NaN</td>\n",
       "      <td>0.000205</td>\n",
       "      <td>0.040000</td>\n",
       "    </tr>\n",
       "    <tr>\n",
       "      <th>GSE17301_ACD3_ACD28_VS_ACD3_ACD28_AND_IFNA5_STIM_CD8_TCELL_UP</th>\n",
       "      <td>-0.520354</td>\n",
       "      <td>NaN</td>\n",
       "      <td>0.000205</td>\n",
       "      <td>0.040000</td>\n",
       "    </tr>\n",
       "    <tr>\n",
       "      <th>GSE17721_LPS_VS_PAM3CSK4_24H_BMDC_UP</th>\n",
       "      <td>-0.524820</td>\n",
       "      <td>NaN</td>\n",
       "      <td>0.000205</td>\n",
       "      <td>0.040000</td>\n",
       "    </tr>\n",
       "    <tr>\n",
       "      <th>GSE37301_MULTIPOTENT_PROGENITOR_VS_RAG2_KO_NK_CELL_UP</th>\n",
       "      <td>-0.525416</td>\n",
       "      <td>NaN</td>\n",
       "      <td>0.000205</td>\n",
       "      <td>0.040000</td>\n",
       "    </tr>\n",
       "    <tr>\n",
       "      <th>GSE34156_UNTREATED_VS_24H_TLR1_TLR2_LIGAND_TREATED_MONOCYTE_UP</th>\n",
       "      <td>-0.530868</td>\n",
       "      <td>NaN</td>\n",
       "      <td>0.000205</td>\n",
       "      <td>0.040000</td>\n",
       "    </tr>\n",
       "    <tr>\n",
       "      <th>GSE29618_PRE_VS_DAY7_POST_TIV_FLU_VACCINE_MONOCYTE_UP</th>\n",
       "      <td>-0.538883</td>\n",
       "      <td>NaN</td>\n",
       "      <td>0.000205</td>\n",
       "      <td>0.040000</td>\n",
       "    </tr>\n",
       "    <tr>\n",
       "      <th>GSE21927_SPLEEN_VS_C26GM_TUMOR_MONOCYTE_BALBC_UP</th>\n",
       "      <td>-0.541426</td>\n",
       "      <td>NaN</td>\n",
       "      <td>0.000205</td>\n",
       "      <td>0.040000</td>\n",
       "    </tr>\n",
       "    <tr>\n",
       "      <th>GSE37605_TREG_VS_TCONV_NOD_FOXP3_FUSION_GFP_DN</th>\n",
       "      <td>-0.547797</td>\n",
       "      <td>NaN</td>\n",
       "      <td>0.000205</td>\n",
       "      <td>0.040000</td>\n",
       "    </tr>\n",
       "    <tr>\n",
       "      <th>GSE36888_UNTREATED_VS_IL2_TREATED_TCELL_2H_DN</th>\n",
       "      <td>-0.556737</td>\n",
       "      <td>0.12582</td>\n",
       "      <td>0.000205</td>\n",
       "      <td>0.040000</td>\n",
       "    </tr>\n",
       "    <tr>\n",
       "      <th>GSE19198_CTRL_VS_IL21_TREATED_TCELL_1H_UP</th>\n",
       "      <td>-0.562246</td>\n",
       "      <td>0.0970152</td>\n",
       "      <td>0.000205</td>\n",
       "      <td>0.040000</td>\n",
       "    </tr>\n",
       "    <tr>\n",
       "      <th>GSE9650_EXHAUSTED_VS_MEMORY_CD8_TCELL_UP</th>\n",
       "      <td>-0.566210</td>\n",
       "      <td>0.164974</td>\n",
       "      <td>0.000205</td>\n",
       "      <td>0.040000</td>\n",
       "    </tr>\n",
       "    <tr>\n",
       "      <th>GSE12963_ENV_NEF_VS_ENV_NEF_AND_VPR_DEFICIENT_HIV1_INF_CD4_TCELL_DN</th>\n",
       "      <td>-0.567975</td>\n",
       "      <td>0.142118</td>\n",
       "      <td>0.000205</td>\n",
       "      <td>0.040000</td>\n",
       "    </tr>\n",
       "    <tr>\n",
       "      <th>GSE43863_NAIVE_VS_TFH_CD4_EFF_TCELL_D6_LCMV_UP</th>\n",
       "      <td>-0.568246</td>\n",
       "      <td>0.081227</td>\n",
       "      <td>0.000205</td>\n",
       "      <td>0.040000</td>\n",
       "    </tr>\n",
       "    <tr>\n",
       "      <th>GSE32986_UNSTIM_VS_GMCSF_STIM_DC_DN</th>\n",
       "      <td>-0.591455</td>\n",
       "      <td>0.11396</td>\n",
       "      <td>0.000205</td>\n",
       "      <td>0.040000</td>\n",
       "    </tr>\n",
       "    <tr>\n",
       "      <th>GSE3982_BASOPHIL_VS_EFF_MEMORY_CD4_TCELL_DN</th>\n",
       "      <td>-0.611115</td>\n",
       "      <td>0.0615599</td>\n",
       "      <td>0.000205</td>\n",
       "      <td>0.040000</td>\n",
       "    </tr>\n",
       "    <tr>\n",
       "      <th>GSE17721_CTRL_VS_POLYIC_0.5H_BMDC_DN</th>\n",
       "      <td>-0.650808</td>\n",
       "      <td>0.0329929</td>\n",
       "      <td>0.000205</td>\n",
       "      <td>0.040000</td>\n",
       "    </tr>\n",
       "  </tbody>\n",
       "</table>\n",
       "<p>4872 rows × 4 columns</p>\n",
       "</div>"
      ],
      "text/plain": [
       "                                                       Score   0.95 MoE  \\\n",
       "Gene Set                                                                  \n",
       "GSE17721_LPS_VS_PAM3CSK4_1H_BMDC_UP                 0.581201  0.0432872   \n",
       "GSE15659_NAIVE_VS_PTPRC_NEG_CD4_TCELL_UP            0.551198   0.134764   \n",
       "GSE45365_HEALTHY_VS_MCMV_INFECTION_CD11B_DC_UP      0.517565  0.0994411   \n",
       "GSE4142_PLASMA_CELL_VS_GC_BCELL_DN                  0.496095  0.0231714   \n",
       "GSE25123_CTRL_VS_IL4_AND_ROSIGLITAZONE_STIM_PPA...  0.488129   0.140597   \n",
       "GSE14308_TH2_VS_INDUCED_TREG_UP                     0.485067  0.0708102   \n",
       "GSE29618_PRE_VS_DAY7_FLU_VACCINE_BCELL_DN           0.484146   0.200523   \n",
       "GSE15330_HSC_VS_GRANULOCYTE_MONOCYTE_PROGENITOR_UP  0.478844   0.151866   \n",
       "GSE27786_LSK_VS_MONO_MAC_UP                         0.467941        NaN   \n",
       "GSE18791_CTRL_VS_NEWCASTLE_VIRUS_DC_4H_UP           0.467033        NaN   \n",
       "GSE22033_UNTREATED_VS_ROSIGLITAZONE_TREATED_MEF_UP  0.459209        NaN   \n",
       "GSE37533_UNTREATED_VS_PIOGLIZATONE_TREATED_CD4_...  0.458558        NaN   \n",
       "GSE41867_NAIVE_VS_DAY30_LCMV_CLONE13_EXHAUSTED_...  0.456534        NaN   \n",
       "GSE7852_TREG_VS_TCONV_THYMUS_DN                     0.453366        NaN   \n",
       "GSE22935_UNSTIM_VS_12H_MBOVIS_BCG_STIM_MACROPHA...  0.452053        NaN   \n",
       "GSE17721_12H_VS_24H_GARDIQUIMOD_BMDC_DN             0.448187        NaN   \n",
       "GSE46468_LUNG_INNATE_LYMPHOID_CELL_VS_SPLEEN_CD...  0.445749        NaN   \n",
       "GSE27786_ERYTHROBLAST_VS_NEUTROPHIL_DN              0.445578        NaN   \n",
       "GSE45365_WT_VS_IFNAR_KO_CD8A_DC_UP                  0.439565        NaN   \n",
       "GSE3982_MAC_VS_BCELL_DN                             0.437937        NaN   \n",
       "GSE41867_DAY6_VS_DAY8_LCMV_ARMSTRONG_EFFECTOR_C...  0.434354        NaN   \n",
       "GSE22432_MULTIPOTENT_VS_COMMON_DC_PROGENITOR_UN...  0.433921        NaN   \n",
       "GSE5589_LPS_VS_LPS_AND_IL10_STIM_IL6_KO_MACROPH...  0.430408        NaN   \n",
       "GSE24634_NAIVE_CD4_TCELL_VS_DAY3_IL4_CONV_TREG_UP   0.430395        NaN   \n",
       "GSE18791_CTRL_VS_NEWCASTLE_VIRUS_DC_2H_UP           0.429306        NaN   \n",
       "GSE5542_IFNA_VS_IFNA_AND_IFNG_TREATED_EPITHELIA...  0.428932        NaN   \n",
       "GSE27291_6H_VS_7D_STIM_GAMMADELTA_TCELL_DN          0.422783        NaN   \n",
       "GSE13522_CTRL_VS_T_CRUZI_Y_STRAIN_INF_SKIN_IFNG...  0.421477        NaN   \n",
       "GSE3982_CTRL_VS_LPS_4H_MAC_UP                       0.419158        NaN   \n",
       "GSE17721_4_VS_24H_GARDIQUIMOD_BMDC_DN               0.418578        NaN   \n",
       "...                                                      ...        ...   \n",
       "GSE46606_DAY1_VS_DAY3_CD40L_IL2_IL5_STIMULATED_... -0.470921        NaN   \n",
       "GSE19888_CTRL_VS_A3R_ACT_TREATED_MAST_CELL_PRET... -0.482139        NaN   \n",
       "GSE15330_LYMPHOID_MULTIPOTENT_VS_GRANULOCYTE_MO... -0.482612        NaN   \n",
       "GSE7831_UNSTIM_VS_CPG_STIM_PDC_1H_DN               -0.487030        NaN   \n",
       "GSE17301_IFNA2_VS_IFNA5_STIM_ACD3_ACD28_ACT_CD8... -0.487900        NaN   \n",
       "GSE12366_GC_BCELL_VS_PLASMA_CELL_DN                -0.488049        NaN   \n",
       "GSE22229_RENAL_TRANSPLANT_VS_HEALTHY_PBMC_UP       -0.490353        NaN   \n",
       "GSE5589_WT_VS_IL10_KO_LPS_STIM_MACROPHAGE_180MI... -0.496111        NaN   \n",
       "GSE3982_BCELL_VS_CENT_MEMORY_CD4_TCELL_DN          -0.496909        NaN   \n",
       "GSE9946_IMMATURE_VS_LISTERIA_INF_MATURE_DC_DN      -0.508115        NaN   \n",
       "GSE40274_CTRL_VS_FOXP3_AND_SATB1_TRANSDUCED_ACT... -0.510932        NaN   \n",
       "GSE17721_LPS_VS_POLYIC_0.5H_BMDC_DN                -0.512360        NaN   \n",
       "GSE10147_IL3_VS_IL3_AND_HIVP17_STIM_PDC_DN         -0.518313        NaN   \n",
       "GSE3982_BCELL_VS_TH2_DN                            -0.519054        NaN   \n",
       "GSE7460_FOXP3_MUT_VS_HET_ACT_TCONV_DN              -0.520174        NaN   \n",
       "GSE17301_ACD3_ACD28_VS_ACD3_ACD28_AND_IFNA5_STI... -0.520354        NaN   \n",
       "GSE17721_LPS_VS_PAM3CSK4_24H_BMDC_UP               -0.524820        NaN   \n",
       "GSE37301_MULTIPOTENT_PROGENITOR_VS_RAG2_KO_NK_C... -0.525416        NaN   \n",
       "GSE34156_UNTREATED_VS_24H_TLR1_TLR2_LIGAND_TREA... -0.530868        NaN   \n",
       "GSE29618_PRE_VS_DAY7_POST_TIV_FLU_VACCINE_MONOC... -0.538883        NaN   \n",
       "GSE21927_SPLEEN_VS_C26GM_TUMOR_MONOCYTE_BALBC_UP   -0.541426        NaN   \n",
       "GSE37605_TREG_VS_TCONV_NOD_FOXP3_FUSION_GFP_DN     -0.547797        NaN   \n",
       "GSE36888_UNTREATED_VS_IL2_TREATED_TCELL_2H_DN      -0.556737    0.12582   \n",
       "GSE19198_CTRL_VS_IL21_TREATED_TCELL_1H_UP          -0.562246  0.0970152   \n",
       "GSE9650_EXHAUSTED_VS_MEMORY_CD8_TCELL_UP           -0.566210   0.164974   \n",
       "GSE12963_ENV_NEF_VS_ENV_NEF_AND_VPR_DEFICIENT_H... -0.567975   0.142118   \n",
       "GSE43863_NAIVE_VS_TFH_CD4_EFF_TCELL_D6_LCMV_UP     -0.568246   0.081227   \n",
       "GSE32986_UNSTIM_VS_GMCSF_STIM_DC_DN                -0.591455    0.11396   \n",
       "GSE3982_BASOPHIL_VS_EFF_MEMORY_CD4_TCELL_DN        -0.611115  0.0615599   \n",
       "GSE17721_CTRL_VS_POLYIC_0.5H_BMDC_DN               -0.650808  0.0329929   \n",
       "\n",
       "                                                     P-Value       FDR  \n",
       "Gene Set                                                                \n",
       "GSE17721_LPS_VS_PAM3CSK4_1H_BMDC_UP                 0.000205  0.500000  \n",
       "GSE15659_NAIVE_VS_PTPRC_NEG_CD4_TCELL_UP            0.000205  0.500000  \n",
       "GSE45365_HEALTHY_VS_MCMV_INFECTION_CD11B_DC_UP      0.000411  0.558140  \n",
       "GSE4142_PLASMA_CELL_VS_GC_BCELL_DN                  0.001026  0.558140  \n",
       "GSE25123_CTRL_VS_IL4_AND_ROSIGLITAZONE_STIM_PPA...  0.001232  0.558140  \n",
       "GSE14308_TH2_VS_INDUCED_TREG_UP                     0.001437  0.558140  \n",
       "GSE29618_PRE_VS_DAY7_FLU_VACCINE_BCELL_DN           0.001437  0.558140  \n",
       "GSE15330_HSC_VS_GRANULOCYTE_MONOCYTE_PROGENITOR_UP  0.001642  0.558140  \n",
       "GSE27786_LSK_VS_MONO_MAC_UP                         0.002053  0.558140  \n",
       "GSE18791_CTRL_VS_NEWCASTLE_VIRUS_DC_4H_UP           0.002053  0.558140  \n",
       "GSE22033_UNTREATED_VS_ROSIGLITAZONE_TREATED_MEF_UP  0.002258  0.558140  \n",
       "GSE37533_UNTREATED_VS_PIOGLIZATONE_TREATED_CD4_...  0.002258  0.558140  \n",
       "GSE41867_NAIVE_VS_DAY30_LCMV_CLONE13_EXHAUSTED_...  0.002258  0.558140  \n",
       "GSE7852_TREG_VS_TCONV_THYMUS_DN                     0.002258  0.558140  \n",
       "GSE22935_UNSTIM_VS_12H_MBOVIS_BCG_STIM_MACROPHA...  0.002258  0.558140  \n",
       "GSE17721_12H_VS_24H_GARDIQUIMOD_BMDC_DN             0.002258  0.558140  \n",
       "GSE46468_LUNG_INNATE_LYMPHOID_CELL_VS_SPLEEN_CD...  0.002463  0.558140  \n",
       "GSE27786_ERYTHROBLAST_VS_NEUTROPHIL_DN              0.002463  0.558140  \n",
       "GSE45365_WT_VS_IFNAR_KO_CD8A_DC_UP                  0.002874  0.558140  \n",
       "GSE3982_MAC_VS_BCELL_DN                             0.003079  0.558140  \n",
       "GSE41867_DAY6_VS_DAY8_LCMV_ARMSTRONG_EFFECTOR_C...  0.003489  0.558140  \n",
       "GSE22432_MULTIPOTENT_VS_COMMON_DC_PROGENITOR_UN...  0.003489  0.558140  \n",
       "GSE5589_LPS_VS_LPS_AND_IL10_STIM_IL6_KO_MACROPH...  0.003489  0.558140  \n",
       "GSE24634_NAIVE_CD4_TCELL_VS_DAY3_IL4_CONV_TREG_UP   0.003489  0.558140  \n",
       "GSE18791_CTRL_VS_NEWCASTLE_VIRUS_DC_2H_UP           0.003489  0.558140  \n",
       "GSE5542_IFNA_VS_IFNA_AND_IFNG_TREATED_EPITHELIA...  0.003695  0.558140  \n",
       "GSE27291_6H_VS_7D_STIM_GAMMADELTA_TCELL_DN          0.003900  0.558140  \n",
       "GSE13522_CTRL_VS_T_CRUZI_Y_STRAIN_INF_SKIN_IFNG...  0.004105  0.558140  \n",
       "GSE3982_CTRL_VS_LPS_4H_MAC_UP                       0.004105  0.558140  \n",
       "GSE17721_4_VS_24H_GARDIQUIMOD_BMDC_DN               0.004105  0.558140  \n",
       "...                                                      ...       ...  \n",
       "GSE46606_DAY1_VS_DAY3_CD40L_IL2_IL5_STIMULATED_...  0.001232  0.133333  \n",
       "GSE19888_CTRL_VS_A3R_ACT_TREATED_MAST_CELL_PRET...  0.000821  0.133333  \n",
       "GSE15330_LYMPHOID_MULTIPOTENT_VS_GRANULOCYTE_MO...  0.000616  0.107143  \n",
       "GSE7831_UNSTIM_VS_CPG_STIM_PDC_1H_DN                0.000411  0.074074  \n",
       "GSE17301_IFNA2_VS_IFNA5_STIM_ACD3_ACD28_ACT_CD8...  0.000411  0.074074  \n",
       "GSE12366_GC_BCELL_VS_PLASMA_CELL_DN                 0.000205  0.040000  \n",
       "GSE22229_RENAL_TRANSPLANT_VS_HEALTHY_PBMC_UP        0.000205  0.040000  \n",
       "GSE5589_WT_VS_IL10_KO_LPS_STIM_MACROPHAGE_180MI...  0.000205  0.040000  \n",
       "GSE3982_BCELL_VS_CENT_MEMORY_CD4_TCELL_DN           0.000205  0.040000  \n",
       "GSE9946_IMMATURE_VS_LISTERIA_INF_MATURE_DC_DN       0.000205  0.040000  \n",
       "GSE40274_CTRL_VS_FOXP3_AND_SATB1_TRANSDUCED_ACT...  0.000205  0.040000  \n",
       "GSE17721_LPS_VS_POLYIC_0.5H_BMDC_DN                 0.000205  0.040000  \n",
       "GSE10147_IL3_VS_IL3_AND_HIVP17_STIM_PDC_DN          0.000205  0.040000  \n",
       "GSE3982_BCELL_VS_TH2_DN                             0.000205  0.040000  \n",
       "GSE7460_FOXP3_MUT_VS_HET_ACT_TCONV_DN               0.000205  0.040000  \n",
       "GSE17301_ACD3_ACD28_VS_ACD3_ACD28_AND_IFNA5_STI...  0.000205  0.040000  \n",
       "GSE17721_LPS_VS_PAM3CSK4_24H_BMDC_UP                0.000205  0.040000  \n",
       "GSE37301_MULTIPOTENT_PROGENITOR_VS_RAG2_KO_NK_C...  0.000205  0.040000  \n",
       "GSE34156_UNTREATED_VS_24H_TLR1_TLR2_LIGAND_TREA...  0.000205  0.040000  \n",
       "GSE29618_PRE_VS_DAY7_POST_TIV_FLU_VACCINE_MONOC...  0.000205  0.040000  \n",
       "GSE21927_SPLEEN_VS_C26GM_TUMOR_MONOCYTE_BALBC_UP    0.000205  0.040000  \n",
       "GSE37605_TREG_VS_TCONV_NOD_FOXP3_FUSION_GFP_DN      0.000205  0.040000  \n",
       "GSE36888_UNTREATED_VS_IL2_TREATED_TCELL_2H_DN       0.000205  0.040000  \n",
       "GSE19198_CTRL_VS_IL21_TREATED_TCELL_1H_UP           0.000205  0.040000  \n",
       "GSE9650_EXHAUSTED_VS_MEMORY_CD8_TCELL_UP            0.000205  0.040000  \n",
       "GSE12963_ENV_NEF_VS_ENV_NEF_AND_VPR_DEFICIENT_H...  0.000205  0.040000  \n",
       "GSE43863_NAIVE_VS_TFH_CD4_EFF_TCELL_D6_LCMV_UP      0.000205  0.040000  \n",
       "GSE32986_UNSTIM_VS_GMCSF_STIM_DC_DN                 0.000205  0.040000  \n",
       "GSE3982_BASOPHIL_VS_EFF_MEMORY_CD4_TCELL_DN         0.000205  0.040000  \n",
       "GSE17721_CTRL_VS_POLYIC_0.5H_BMDC_DN                0.000205  0.040000  \n",
       "\n",
       "[4872 rows x 4 columns]"
      ]
     },
     "execution_count": 7,
     "metadata": {},
     "output_type": "execute_result"
    }
   ],
   "source": [
    "target = pd.read_table(\n",
    "    'target_0.tsv',\n",
    "    index_col=0,\n",
    "    squeeze=True,\n",
    ")\n",
    "\n",
    "features = pd.read_table(\n",
    "    'features_0.tsv',\n",
    "    index_col=0,\n",
    ")\n",
    "\n",
    "scores = make_match_panel(\n",
    "    target,\n",
    "    features,\n",
    "    n_sampling=3,\n",
    "    n_permutation=1,\n",
    "    target_type='binary',\n",
    ")\n",
    "\n",
    "scores"
   ]
  },
  {
   "cell_type": "code",
   "execution_count": 8,
   "metadata": {
    "ExecuteTime": {
     "end_time": "2018-05-15T10:48:04.273823Z",
     "start_time": "2018-05-15T10:47:59.781185Z"
    },
    "scrolled": false
   },
   "outputs": [
    {
     "name": "stdout",
     "output_type": "stream",
     "text": [
      "target.index (24) & features.columns (24) have 24 in common.\n",
      "Computing score using compute_information_coefficient with 1 process ...\n",
      "Computing MoE with 3 sampling ...\n",
      "Computing p-value and FDR with 1 permutation ...\n"
     ]
    },
    {
     "name": "stderr",
     "output_type": "stream",
     "text": [
      "../match/make_match_panel.py:163: UserWarning:\n",
      "\n",
      "Not clustering because a category has less than 2 values.\n",
      "\n"
     ]
    },
    {
     "data": {
      "0": {
       "colorscale": [
        [
         0,
         "#20d9ba"
        ],
        [
         0.5,
         "#9017e6"
        ],
        [
         1,
         "#ff1968"
        ]
       ],
       "showscale": false,
       "text": [
        [
         "Column 0",
         "Column 15",
         "Column 14",
         "Column 13",
         "Column 12",
         "Column 10",
         "Column 9",
         "Column 8",
         "Column 11",
         "Column 6",
         "Column 5",
         "Column 4",
         "Column 3",
         "Column 2",
         "Column 1",
         "Column 7",
         "Column 22",
         "Column 16",
         "Column 17",
         "Column 18",
         "Column 19",
         "Column 20",
         "Column 21",
         "Column 23"
        ]
       ],
       "type": "heatmap",
       "uid": "cd09cf5e-aa40-11e8-a9a1-9cb6d02202bb",
       "x": [
        "Column 0",
        "Column 15",
        "Column 14",
        "Column 13",
        "Column 12",
        "Column 10",
        "Column 9",
        "Column 8",
        "Column 11",
        "Column 6",
        "Column 5",
        "Column 4",
        "Column 3",
        "Column 2",
        "Column 1",
        "Column 7",
        "Column 22",
        "Column 16",
        "Column 17",
        "Column 18",
        "Column 19",
        "Column 20",
        "Column 21",
        "Column 23"
       ],
       "y": [
        "Target"
       ],
       "yaxis": "y2",
       "z": [
        [
         0,
         1,
         1,
         1,
         1,
         1,
         1,
         1,
         1,
         1,
         1,
         1,
         1,
         1,
         1,
         1,
         2,
         2,
         2,
         2,
         2,
         2,
         2,
         2
        ]
       ],
       "zauto": true,
       "zmax": 2,
       "zmin": 0
      },
      "1": {
       "colorscale": [
        [
         0,
         "#4242ff"
        ],
        [
         0.00392156862745098,
         "#4241ff"
        ],
        [
         0.00784313725490196,
         "#4240ff"
        ],
        [
         0.011764705882352941,
         "#423fff"
        ],
        [
         0.01568627450980392,
         "#423eff"
        ],
        [
         0.0196078431372549,
         "#423dff"
        ],
        [
         0.023529411764705882,
         "#423cff"
        ],
        [
         0.027450980392156862,
         "#423bff"
        ],
        [
         0.03137254901960784,
         "#423aff"
        ],
        [
         0.03529411764705882,
         "#4239ff"
        ],
        [
         0.0392156862745098,
         "#4238ff"
        ],
        [
         0.043137254901960784,
         "#4237ff"
        ],
        [
         0.047058823529411764,
         "#4236ff"
        ],
        [
         0.050980392156862744,
         "#4235ff"
        ],
        [
         0.054901960784313725,
         "#4234ff"
        ],
        [
         0.058823529411764705,
         "#4233ff"
        ],
        [
         0.06274509803921569,
         "#4232ff"
        ],
        [
         0.06666666666666667,
         "#4231ff"
        ],
        [
         0.07058823529411765,
         "#4230ff"
        ],
        [
         0.07450980392156863,
         "#422fff"
        ],
        [
         0.0784313725490196,
         "#422eff"
        ],
        [
         0.08235294117647059,
         "#422dff"
        ],
        [
         0.08627450980392157,
         "#422cff"
        ],
        [
         0.09019607843137255,
         "#422bff"
        ],
        [
         0.09411764705882353,
         "#422aff"
        ],
        [
         0.09803921568627451,
         "#4229ff"
        ],
        [
         0.10196078431372549,
         "#4228ff"
        ],
        [
         0.10588235294117647,
         "#4228ff"
        ],
        [
         0.10980392156862745,
         "#4227ff"
        ],
        [
         0.11372549019607843,
         "#4226ff"
        ],
        [
         0.11764705882352941,
         "#4226ff"
        ],
        [
         0.12156862745098039,
         "#4225ff"
        ],
        [
         0.12549019607843137,
         "#4224ff"
        ],
        [
         0.12941176470588237,
         "#4224ff"
        ],
        [
         0.13333333333333333,
         "#4223ff"
        ],
        [
         0.13725490196078433,
         "#4222ff"
        ],
        [
         0.1411764705882353,
         "#4221ff"
        ],
        [
         0.1450980392156863,
         "#4221ff"
        ],
        [
         0.14901960784313725,
         "#4220ff"
        ],
        [
         0.15294117647058825,
         "#421fff"
        ],
        [
         0.1568627450980392,
         "#421fff"
        ],
        [
         0.1607843137254902,
         "#421eff"
        ],
        [
         0.16470588235294117,
         "#421dff"
        ],
        [
         0.16862745098039217,
         "#421dff"
        ],
        [
         0.17254901960784313,
         "#421cff"
        ],
        [
         0.17647058823529413,
         "#421bff"
        ],
        [
         0.1803921568627451,
         "#421aff"
        ],
        [
         0.1843137254901961,
         "#421aff"
        ],
        [
         0.18823529411764706,
         "#4219ff"
        ],
        [
         0.19215686274509805,
         "#4218ff"
        ],
        [
         0.19607843137254902,
         "#4218ff"
        ],
        [
         0.2,
         "#4217ff"
        ],
        [
         0.20392156862745098,
         "#4419ff"
        ],
        [
         0.20784313725490197,
         "#451aff"
        ],
        [
         0.21176470588235294,
         "#461cff"
        ],
        [
         0.21568627450980393,
         "#481eff"
        ],
        [
         0.2196078431372549,
         "#491fff"
        ],
        [
         0.2235294117647059,
         "#4a21ff"
        ],
        [
         0.22745098039215686,
         "#4b23ff"
        ],
        [
         0.23137254901960785,
         "#4d25ff"
        ],
        [
         0.23529411764705882,
         "#4e26ff"
        ],
        [
         0.23921568627450981,
         "#4f28ff"
        ],
        [
         0.24313725490196078,
         "#512aff"
        ],
        [
         0.24705882352941178,
         "#522bff"
        ],
        [
         0.25098039215686274,
         "#532dff"
        ],
        [
         0.2549019607843137,
         "#542fff"
        ],
        [
         0.25882352941176473,
         "#5630ff"
        ],
        [
         0.2627450980392157,
         "#5732ff"
        ],
        [
         0.26666666666666666,
         "#5834ff"
        ],
        [
         0.27058823529411763,
         "#5a36ff"
        ],
        [
         0.27450980392156865,
         "#5b37ff"
        ],
        [
         0.2784313725490196,
         "#5c39ff"
        ],
        [
         0.2823529411764706,
         "#5e3bff"
        ],
        [
         0.28627450980392155,
         "#5f3cff"
        ],
        [
         0.2901960784313726,
         "#603eff"
        ],
        [
         0.29411764705882354,
         "#6240ff"
        ],
        [
         0.2980392156862745,
         "#6341ff"
        ],
        [
         0.30196078431372547,
         "#6544ff"
        ],
        [
         0.3058823529411765,
         "#6849ff"
        ],
        [
         0.30980392156862746,
         "#6b4dff"
        ],
        [
         0.3137254901960784,
         "#6e51ff"
        ],
        [
         0.3176470588235294,
         "#7156ff"
        ],
        [
         0.3215686274509804,
         "#745aff"
        ],
        [
         0.3254901960784314,
         "#775eff"
        ],
        [
         0.32941176470588235,
         "#7a63ff"
        ],
        [
         0.3333333333333333,
         "#7d67ff"
        ],
        [
         0.33725490196078434,
         "#806bff"
        ],
        [
         0.3411764705882353,
         "#836fff"
        ],
        [
         0.34509803921568627,
         "#8674ff"
        ],
        [
         0.34901960784313724,
         "#8978ff"
        ],
        [
         0.35294117647058826,
         "#8c7cff"
        ],
        [
         0.3568627450980392,
         "#8f81ff"
        ],
        [
         0.3607843137254902,
         "#9285ff"
        ],
        [
         0.36470588235294116,
         "#9589ff"
        ],
        [
         0.3686274509803922,
         "#988eff"
        ],
        [
         0.37254901960784315,
         "#9b92ff"
        ],
        [
         0.3764705882352941,
         "#9e96ff"
        ],
        [
         0.3803921568627451,
         "#a19aff"
        ],
        [
         0.3843137254901961,
         "#a49fff"
        ],
        [
         0.38823529411764707,
         "#a7a3ff"
        ],
        [
         0.39215686274509803,
         "#aaa7ff"
        ],
        [
         0.396078431372549,
         "#adacff"
        ],
        [
         0.4,
         "#b0b0ff"
        ],
        [
         0.403921568627451,
         "#b3b3ff"
        ],
        [
         0.40784313725490196,
         "#b6b6ff"
        ],
        [
         0.4117647058823529,
         "#b9b9ff"
        ],
        [
         0.41568627450980394,
         "#bcbcff"
        ],
        [
         0.4196078431372549,
         "#bfbfff"
        ],
        [
         0.4235294117647059,
         "#c3c3ff"
        ],
        [
         0.42745098039215684,
         "#c6c6ff"
        ],
        [
         0.43137254901960786,
         "#c9c9ff"
        ],
        [
         0.43529411764705883,
         "#ccccff"
        ],
        [
         0.4392156862745098,
         "#cfcfff"
        ],
        [
         0.44313725490196076,
         "#d2d2ff"
        ],
        [
         0.4470588235294118,
         "#d5d5ff"
        ],
        [
         0.45098039215686275,
         "#d8d8ff"
        ],
        [
         0.4549019607843137,
         "#dbdbff"
        ],
        [
         0.4588235294117647,
         "#dedeff"
        ],
        [
         0.4627450980392157,
         "#e2e2ff"
        ],
        [
         0.4666666666666667,
         "#e5e5ff"
        ],
        [
         0.47058823529411764,
         "#e8e8ff"
        ],
        [
         0.4745098039215686,
         "#ebebff"
        ],
        [
         0.47843137254901963,
         "#eeeeff"
        ],
        [
         0.4823529411764706,
         "#f1f1ff"
        ],
        [
         0.48627450980392156,
         "#f4f4ff"
        ],
        [
         0.49019607843137253,
         "#f7f7ff"
        ],
        [
         0.49411764705882355,
         "#fafaff"
        ],
        [
         0.4980392156862745,
         "#fdfdff"
        ],
        [
         0.5019607843137255,
         "#fffdfd"
        ],
        [
         0.5058823529411764,
         "#fffafa"
        ],
        [
         0.5098039215686274,
         "#fff7f7"
        ],
        [
         0.5137254901960784,
         "#fff4f4"
        ],
        [
         0.5176470588235295,
         "#fff1f1"
        ],
        [
         0.5215686274509804,
         "#ffeeee"
        ],
        [
         0.5254901960784314,
         "#ffebeb"
        ],
        [
         0.5294117647058824,
         "#ffe8e8"
        ],
        [
         0.5333333333333333,
         "#ffe5e5"
        ],
        [
         0.5372549019607843,
         "#ffe2e2"
        ],
        [
         0.5411764705882353,
         "#ffdede"
        ],
        [
         0.5450980392156862,
         "#ffdbdb"
        ],
        [
         0.5490196078431373,
         "#ffd8d8"
        ],
        [
         0.5529411764705883,
         "#ffd5d5"
        ],
        [
         0.5568627450980392,
         "#ffd2d2"
        ],
        [
         0.5607843137254902,
         "#ffcfcf"
        ],
        [
         0.5647058823529412,
         "#ffcccc"
        ],
        [
         0.5686274509803921,
         "#ffc9c9"
        ],
        [
         0.5725490196078431,
         "#ffc6c6"
        ],
        [
         0.5764705882352941,
         "#ffc3c3"
        ],
        [
         0.5803921568627451,
         "#ffbfbf"
        ],
        [
         0.5843137254901961,
         "#ffbcbc"
        ],
        [
         0.5882352941176471,
         "#ffb9b9"
        ],
        [
         0.592156862745098,
         "#ffb6b6"
        ],
        [
         0.596078431372549,
         "#ffb3b3"
        ],
        [
         0.6,
         "#ffb0b0"
        ],
        [
         0.6039215686274509,
         "#ffacad"
        ],
        [
         0.6078431372549019,
         "#ffa7aa"
        ],
        [
         0.611764705882353,
         "#ffa3a7"
        ],
        [
         0.615686274509804,
         "#ff9fa4"
        ],
        [
         0.6196078431372549,
         "#ff9aa1"
        ],
        [
         0.6235294117647059,
         "#ff969e"
        ],
        [
         0.6274509803921569,
         "#ff929b"
        ],
        [
         0.6313725490196078,
         "#ff8e98"
        ],
        [
         0.6352941176470588,
         "#ff8995"
        ],
        [
         0.6392156862745098,
         "#ff8592"
        ],
        [
         0.6431372549019608,
         "#ff818f"
        ],
        [
         0.6470588235294118,
         "#ff7c8c"
        ],
        [
         0.6509803921568628,
         "#ff7889"
        ],
        [
         0.6549019607843137,
         "#ff7486"
        ],
        [
         0.6588235294117647,
         "#ff6f83"
        ],
        [
         0.6627450980392157,
         "#ff6b80"
        ],
        [
         0.6666666666666666,
         "#ff677d"
        ],
        [
         0.6705882352941176,
         "#ff637a"
        ],
        [
         0.6745098039215687,
         "#ff5e77"
        ],
        [
         0.6784313725490196,
         "#ff5a74"
        ],
        [
         0.6823529411764706,
         "#ff5671"
        ],
        [
         0.6862745098039216,
         "#ff516e"
        ],
        [
         0.6901960784313725,
         "#ff4d6b"
        ],
        [
         0.6941176470588235,
         "#ff4968"
        ],
        [
         0.6980392156862745,
         "#ff4465"
        ],
        [
         0.7019607843137254,
         "#ff4163"
        ],
        [
         0.7058823529411765,
         "#ff4062"
        ],
        [
         0.7098039215686275,
         "#ff3e60"
        ],
        [
         0.7137254901960784,
         "#ff3c5f"
        ],
        [
         0.7176470588235294,
         "#ff3b5e"
        ],
        [
         0.7215686274509804,
         "#ff395c"
        ],
        [
         0.7254901960784313,
         "#ff375b"
        ],
        [
         0.7294117647058823,
         "#ff365a"
        ],
        [
         0.7333333333333333,
         "#ff3458"
        ],
        [
         0.7372549019607844,
         "#ff3257"
        ],
        [
         0.7411764705882353,
         "#ff3056"
        ],
        [
         0.7450980392156863,
         "#ff2f55"
        ],
        [
         0.7490196078431373,
         "#ff2d53"
        ],
        [
         0.7529411764705882,
         "#ff2b52"
        ],
        [
         0.7568627450980392,
         "#ff2a51"
        ],
        [
         0.7607843137254902,
         "#ff284f"
        ],
        [
         0.7647058823529411,
         "#ff264e"
        ],
        [
         0.7686274509803922,
         "#ff254d"
        ],
        [
         0.7725490196078432,
         "#ff234b"
        ],
        [
         0.7764705882352941,
         "#ff214a"
        ],
        [
         0.7803921568627451,
         "#ff1f49"
        ],
        [
         0.7843137254901961,
         "#ff1e48"
        ],
        [
         0.788235294117647,
         "#ff1c46"
        ],
        [
         0.792156862745098,
         "#ff1a45"
        ],
        [
         0.796078431372549,
         "#ff1944"
        ],
        [
         0.8,
         "#ff1742"
        ],
        [
         0.803921568627451,
         "#ff1842"
        ],
        [
         0.807843137254902,
         "#ff1842"
        ],
        [
         0.8117647058823529,
         "#ff1942"
        ],
        [
         0.8156862745098039,
         "#ff1a42"
        ],
        [
         0.8196078431372549,
         "#ff1a42"
        ],
        [
         0.8235294117647058,
         "#ff1b42"
        ],
        [
         0.8274509803921568,
         "#ff1c42"
        ],
        [
         0.8313725490196079,
         "#ff1d42"
        ],
        [
         0.8352941176470589,
         "#ff1d42"
        ],
        [
         0.8392156862745098,
         "#ff1e42"
        ],
        [
         0.8431372549019608,
         "#ff1f42"
        ],
        [
         0.8470588235294118,
         "#ff1f42"
        ],
        [
         0.8509803921568627,
         "#ff2042"
        ],
        [
         0.8549019607843137,
         "#ff2142"
        ],
        [
         0.8588235294117647,
         "#ff2142"
        ],
        [
         0.8627450980392157,
         "#ff2242"
        ],
        [
         0.8666666666666667,
         "#ff2342"
        ],
        [
         0.8705882352941177,
         "#ff2442"
        ],
        [
         0.8745098039215686,
         "#ff2442"
        ],
        [
         0.8784313725490196,
         "#ff2542"
        ],
        [
         0.8823529411764706,
         "#ff2642"
        ],
        [
         0.8862745098039215,
         "#ff2642"
        ],
        [
         0.8901960784313725,
         "#ff2742"
        ],
        [
         0.8941176470588236,
         "#ff2842"
        ],
        [
         0.8980392156862745,
         "#ff2842"
        ],
        [
         0.9019607843137255,
         "#ff2942"
        ],
        [
         0.9058823529411765,
         "#ff2a42"
        ],
        [
         0.9098039215686274,
         "#ff2b42"
        ],
        [
         0.9137254901960784,
         "#ff2c42"
        ],
        [
         0.9176470588235294,
         "#ff2d42"
        ],
        [
         0.9215686274509803,
         "#ff2e42"
        ],
        [
         0.9254901960784314,
         "#ff2f42"
        ],
        [
         0.9294117647058824,
         "#ff3042"
        ],
        [
         0.9333333333333333,
         "#ff3142"
        ],
        [
         0.9372549019607843,
         "#ff3242"
        ],
        [
         0.9411764705882353,
         "#ff3342"
        ],
        [
         0.9450980392156862,
         "#ff3442"
        ],
        [
         0.9490196078431372,
         "#ff3542"
        ],
        [
         0.9529411764705882,
         "#ff3642"
        ],
        [
         0.9568627450980393,
         "#ff3742"
        ],
        [
         0.9607843137254902,
         "#ff3842"
        ],
        [
         0.9647058823529412,
         "#ff3942"
        ],
        [
         0.9686274509803922,
         "#ff3a42"
        ],
        [
         0.9725490196078431,
         "#ff3b42"
        ],
        [
         0.9764705882352941,
         "#ff3c42"
        ],
        [
         0.9803921568627451,
         "#ff3d42"
        ],
        [
         0.984313725490196,
         "#ff3e42"
        ],
        [
         0.9882352941176471,
         "#ff3f42"
        ],
        [
         0.9921568627450981,
         "#ff4042"
        ],
        [
         0.996078431372549,
         "#ff4142"
        ],
        [
         1,
         "#ff4242"
        ]
       ],
       "showscale": false,
       "type": "heatmap",
       "uid": "cd09cf5f-aa40-11e8-a9a1-9cb6d02202bb",
       "x": [
        "Column 0",
        "Column 15",
        "Column 14",
        "Column 13",
        "Column 12",
        "Column 10",
        "Column 9",
        "Column 8",
        "Column 11",
        "Column 6",
        "Column 5",
        "Column 4",
        "Column 3",
        "Column 2",
        "Column 1",
        "Column 7",
        "Column 22",
        "Column 16",
        "Column 17",
        "Column 18",
        "Column 19",
        "Column 20",
        "Column 21",
        "Column 23"
       ],
       "y": [
        "Index 6",
        "Index 0",
        "Index 3",
        "Index 4",
        "Index 7",
        "Index 2",
        "Index 5",
        "Index 1"
       ],
       "yaxis": "y",
       "z": [
        [
         1.339842989901379,
         -0.24620049026292076,
         0.3553082427456942,
         -1.4502378463931338,
         -0.1679877937608512,
         -0.9615277560647721,
         0.6673131497784481,
         1.057503005319342,
         -0.9333916508106619,
         0.0006870412930480139,
         0.785880192035126,
         1.348885232783807,
         -0.23641135450402562,
         -1.5166525097479562,
         1.3731598065701627,
         1.2601511348896197,
         1.638951176556875,
         -1.3797335829063337,
         -0.35697552849592384,
         -1.2286360260891802,
         0.3164396230227927,
         -0.398047626015779,
         -1.3308329490992805,
         0.06251351925452568
        ],
        [
         1.5141477951103193,
         -0.9807522426092921,
         0.046383771958500734,
         -0.007249327698185503,
         -0.9758508425330409,
         1.3696264575778891,
         -0.024644646872763232,
         -0.6401018261882837,
         -1.4166502688546934,
         1.0961958617162846,
         -1.5306833224025367,
         -0.7604275419078711,
         1.659974857991817,
         -0.1784297272692303,
         1.2452426689469438,
         0.7187106310990344,
         -0.3898098467463032,
         -1.6938376688799848,
         -1.4471257064216947,
         0.07338360286776333,
         0.5586869291204273,
         0.7220254356200666,
         0.4101731053664011,
         0.6310118510084314
        ],
        [
         -0.5879887843515744,
         1.5349906552435215,
         0.7881913256386313,
         -0.5281374286439542,
         0.17294851636430117,
         -1.6000425746701123,
         1.3267380226447747,
         0.3559819718282537,
         -0.49757468969321084,
         0.6455131989941779,
         -0.6420386743404141,
         0.10782076571752497,
         0.4815737218304481,
         -1.1352015845701018,
         -1.3776536657894018,
         1.5967836201001244,
         1.5358819944705537,
         -0.3292521845638514,
         0.7925013731717212,
         -1.8659568850748605,
         -0.8486713529121561,
         0.7694165995157365,
         -0.9533122688141189,
         0.2574883279039851
        ],
        [
         -1.1199386158584699,
         1.3376388660435488,
         -1.4391762521652605,
         0.40331531640926305,
         0.8436529659555465,
         0.8947593677668282,
         -1.2387115336114447,
         1.3084501690174926,
         -0.19174635432548576,
         0.9395198146803333,
         0.35854547990322677,
         -0.9680475215981337,
         5.761329482038581e-05,
         -1.446605800617503,
         -0.9149675811438054,
         1.3651663017024076,
         -1.6109717996817439,
         0.961375683309183,
         0.3121719723132571,
         0.23658799983297688,
         1.2884960734054547,
         -1.0402191131419956,
         -0.7442143006925356,
         0.4648612492020398
        ],
        [
         -0.2506594338396396,
         0.4477653400210878,
         0.8789176105153642,
         -1.1070206198734682,
         -1.4877344506571288,
         -0.9627346960124704,
         -0.5650667026232282,
         -1.3590148005097455,
         -0.34705203723630923,
         -0.3390551788510136,
         0.540835680319688,
         0.7740541924696963,
         -1.6302641768021942,
         1.1188762549007005,
         1.9774270447318996,
         1.5611498415972165,
         0.37552100667002863,
         -0.5656718170184732,
         1.468548666930944,
         1.1114054929811157,
         0.040832453056437935,
         -0.8946165140791028,
         -0.18825479221655536,
         -0.5981883644748454
        ],
        [
         -0.18064016626155985,
         0.4480005276618855,
         1.1144834715924967,
         -0.39684046461959854,
         -0.8603458885360362,
         -0.9908005146720241,
         0.5892964991600975,
         -1.622674449108447,
         0.9526316968733045,
         -0.6130455633388131,
         0.15761591856134652,
         -0.8500943865226879,
         -1.500679128835881,
         1.2395355149512437,
         0.833236903119522,
         -1.8854945974584403,
         1.1194844740204744,
         0.6426405293709786,
         0.6552540109384255,
         -0.7703093350058112,
         1.4226919815306132,
         -1.1291265661360355,
         1.1918260271904288,
         0.4333535055245214
        ],
        [
         -0.34756880466586687,
         -1.7206671183690898,
         -0.09572062059793433,
         -1.6035299184102616,
         -0.46886966937451385,
         -0.8850678146569139,
         -0.7708790328016127,
         0.7717930026254649,
         0.41663709274772387,
         1.3549062530771745,
         0.4136089185311848,
         -1.6733766337634053,
         -0.6783508383844258,
         0.21536518847116604,
         0.7195852536024997,
         1.1154425017501057,
         0.9571466985923857,
         1.3605544879877534,
         -1.6513387568972389,
         0.6338671606987072,
         1.243292188646438,
         0.7966728226268459,
         0.5862089164082132,
         -0.6897112778443987
        ],
        [
         -0.7297950801127377,
         0.37455967117994926,
         0.11112088442187551,
         -0.621769622358504,
         0.6522741312021176,
         -0.6524880689242644,
         -1.0026330381253739,
         0.2108420877944876,
         0.5639663393541858,
         -0.8287736890934934,
         -0.3138054409419787,
         1.8260220367712534,
         -1.5218775158873254,
         0.07214332803891689,
         -0.7203102762893202,
         -0.9476000427982558,
         -0.43246487336571665,
         0.828761297352293,
         -1.109183658786567,
         1.6001766729243736,
         1.8661844352101442,
         0.5533507957092935,
         -1.3680850108360738,
         1.5893846375607226
        ]
       ],
       "zauto": false,
       "zmax": 1.9774270447318996,
       "zmin": -1.8854945974584403
      },
      "image/png": "[encoded data removed]"
     },
     "metadata": {},
     "output_type": "display_data"
    },
    {
     "name": "stdout",
     "output_type": "stream",
     "text": [
      "target.index (24) & features.columns (24) have 24 in common.\n",
      "Computing score using compute_information_coefficient with 1 process ...\n",
      "Computing MoE with 3 sampling ...\n",
      "Computing p-value and FDR with 1 permutation ...\n"
     ]
    },
    {
     "data": {
      "0": {
       "colorscale": [
        [
         0,
         "#20d9ba"
        ],
        [
         0.5,
         "#9017e6"
        ],
        [
         1,
         "#ff1968"
        ]
       ],
       "showscale": false,
       "text": [
        [
         "Column 7",
         "Column 6",
         "Column 3",
         "Column 2",
         "Column 0",
         "Column 1",
         "Column 5",
         "Column 4",
         "Column 18",
         "Column 16",
         "Column 19",
         "Column 23",
         "Column 22",
         "Column 20",
         "Column 21",
         "Column 17",
         "Column 9",
         "Column 14",
         "Column 11",
         "Column 10",
         "Column 13",
         "Column 15",
         "Column 12",
         "Column 8"
        ]
       ],
       "type": "heatmap",
       "uid": "cd09cf60-aa40-11e8-a9a1-9cb6d02202bb",
       "x": [
        "Column 7",
        "Column 6",
        "Column 3",
        "Column 2",
        "Column 0",
        "Column 1",
        "Column 5",
        "Column 4",
        "Column 18",
        "Column 16",
        "Column 19",
        "Column 23",
        "Column 22",
        "Column 20",
        "Column 21",
        "Column 17",
        "Column 9",
        "Column 14",
        "Column 11",
        "Column 10",
        "Column 13",
        "Column 15",
        "Column 12",
        "Column 8"
       ],
       "y": [
        "Target"
       ],
       "yaxis": "y2",
       "z": [
        [
         0,
         0,
         0,
         0,
         0,
         0,
         0,
         0,
         1,
         1,
         1,
         1,
         1,
         1,
         1,
         1,
         2,
         2,
         2,
         2,
         2,
         2,
         2,
         2
        ]
       ],
       "zauto": true,
       "zmax": 2,
       "zmin": 0
      },
      "1": {
       "colorscale": [
        [
         0,
         "#4242ff"
        ],
        [
         0.00392156862745098,
         "#4241ff"
        ],
        [
         0.00784313725490196,
         "#4240ff"
        ],
        [
         0.011764705882352941,
         "#423fff"
        ],
        [
         0.01568627450980392,
         "#423eff"
        ],
        [
         0.0196078431372549,
         "#423dff"
        ],
        [
         0.023529411764705882,
         "#423cff"
        ],
        [
         0.027450980392156862,
         "#423bff"
        ],
        [
         0.03137254901960784,
         "#423aff"
        ],
        [
         0.03529411764705882,
         "#4239ff"
        ],
        [
         0.0392156862745098,
         "#4238ff"
        ],
        [
         0.043137254901960784,
         "#4237ff"
        ],
        [
         0.047058823529411764,
         "#4236ff"
        ],
        [
         0.050980392156862744,
         "#4235ff"
        ],
        [
         0.054901960784313725,
         "#4234ff"
        ],
        [
         0.058823529411764705,
         "#4233ff"
        ],
        [
         0.06274509803921569,
         "#4232ff"
        ],
        [
         0.06666666666666667,
         "#4231ff"
        ],
        [
         0.07058823529411765,
         "#4230ff"
        ],
        [
         0.07450980392156863,
         "#422fff"
        ],
        [
         0.0784313725490196,
         "#422eff"
        ],
        [
         0.08235294117647059,
         "#422dff"
        ],
        [
         0.08627450980392157,
         "#422cff"
        ],
        [
         0.09019607843137255,
         "#422bff"
        ],
        [
         0.09411764705882353,
         "#422aff"
        ],
        [
         0.09803921568627451,
         "#4229ff"
        ],
        [
         0.10196078431372549,
         "#4228ff"
        ],
        [
         0.10588235294117647,
         "#4228ff"
        ],
        [
         0.10980392156862745,
         "#4227ff"
        ],
        [
         0.11372549019607843,
         "#4226ff"
        ],
        [
         0.11764705882352941,
         "#4226ff"
        ],
        [
         0.12156862745098039,
         "#4225ff"
        ],
        [
         0.12549019607843137,
         "#4224ff"
        ],
        [
         0.12941176470588237,
         "#4224ff"
        ],
        [
         0.13333333333333333,
         "#4223ff"
        ],
        [
         0.13725490196078433,
         "#4222ff"
        ],
        [
         0.1411764705882353,
         "#4221ff"
        ],
        [
         0.1450980392156863,
         "#4221ff"
        ],
        [
         0.14901960784313725,
         "#4220ff"
        ],
        [
         0.15294117647058825,
         "#421fff"
        ],
        [
         0.1568627450980392,
         "#421fff"
        ],
        [
         0.1607843137254902,
         "#421eff"
        ],
        [
         0.16470588235294117,
         "#421dff"
        ],
        [
         0.16862745098039217,
         "#421dff"
        ],
        [
         0.17254901960784313,
         "#421cff"
        ],
        [
         0.17647058823529413,
         "#421bff"
        ],
        [
         0.1803921568627451,
         "#421aff"
        ],
        [
         0.1843137254901961,
         "#421aff"
        ],
        [
         0.18823529411764706,
         "#4219ff"
        ],
        [
         0.19215686274509805,
         "#4218ff"
        ],
        [
         0.19607843137254902,
         "#4218ff"
        ],
        [
         0.2,
         "#4217ff"
        ],
        [
         0.20392156862745098,
         "#4419ff"
        ],
        [
         0.20784313725490197,
         "#451aff"
        ],
        [
         0.21176470588235294,
         "#461cff"
        ],
        [
         0.21568627450980393,
         "#481eff"
        ],
        [
         0.2196078431372549,
         "#491fff"
        ],
        [
         0.2235294117647059,
         "#4a21ff"
        ],
        [
         0.22745098039215686,
         "#4b23ff"
        ],
        [
         0.23137254901960785,
         "#4d25ff"
        ],
        [
         0.23529411764705882,
         "#4e26ff"
        ],
        [
         0.23921568627450981,
         "#4f28ff"
        ],
        [
         0.24313725490196078,
         "#512aff"
        ],
        [
         0.24705882352941178,
         "#522bff"
        ],
        [
         0.25098039215686274,
         "#532dff"
        ],
        [
         0.2549019607843137,
         "#542fff"
        ],
        [
         0.25882352941176473,
         "#5630ff"
        ],
        [
         0.2627450980392157,
         "#5732ff"
        ],
        [
         0.26666666666666666,
         "#5834ff"
        ],
        [
         0.27058823529411763,
         "#5a36ff"
        ],
        [
         0.27450980392156865,
         "#5b37ff"
        ],
        [
         0.2784313725490196,
         "#5c39ff"
        ],
        [
         0.2823529411764706,
         "#5e3bff"
        ],
        [
         0.28627450980392155,
         "#5f3cff"
        ],
        [
         0.2901960784313726,
         "#603eff"
        ],
        [
         0.29411764705882354,
         "#6240ff"
        ],
        [
         0.2980392156862745,
         "#6341ff"
        ],
        [
         0.30196078431372547,
         "#6544ff"
        ],
        [
         0.3058823529411765,
         "#6849ff"
        ],
        [
         0.30980392156862746,
         "#6b4dff"
        ],
        [
         0.3137254901960784,
         "#6e51ff"
        ],
        [
         0.3176470588235294,
         "#7156ff"
        ],
        [
         0.3215686274509804,
         "#745aff"
        ],
        [
         0.3254901960784314,
         "#775eff"
        ],
        [
         0.32941176470588235,
         "#7a63ff"
        ],
        [
         0.3333333333333333,
         "#7d67ff"
        ],
        [
         0.33725490196078434,
         "#806bff"
        ],
        [
         0.3411764705882353,
         "#836fff"
        ],
        [
         0.34509803921568627,
         "#8674ff"
        ],
        [
         0.34901960784313724,
         "#8978ff"
        ],
        [
         0.35294117647058826,
         "#8c7cff"
        ],
        [
         0.3568627450980392,
         "#8f81ff"
        ],
        [
         0.3607843137254902,
         "#9285ff"
        ],
        [
         0.36470588235294116,
         "#9589ff"
        ],
        [
         0.3686274509803922,
         "#988eff"
        ],
        [
         0.37254901960784315,
         "#9b92ff"
        ],
        [
         0.3764705882352941,
         "#9e96ff"
        ],
        [
         0.3803921568627451,
         "#a19aff"
        ],
        [
         0.3843137254901961,
         "#a49fff"
        ],
        [
         0.38823529411764707,
         "#a7a3ff"
        ],
        [
         0.39215686274509803,
         "#aaa7ff"
        ],
        [
         0.396078431372549,
         "#adacff"
        ],
        [
         0.4,
         "#b0b0ff"
        ],
        [
         0.403921568627451,
         "#b3b3ff"
        ],
        [
         0.40784313725490196,
         "#b6b6ff"
        ],
        [
         0.4117647058823529,
         "#b9b9ff"
        ],
        [
         0.41568627450980394,
         "#bcbcff"
        ],
        [
         0.4196078431372549,
         "#bfbfff"
        ],
        [
         0.4235294117647059,
         "#c3c3ff"
        ],
        [
         0.42745098039215684,
         "#c6c6ff"
        ],
        [
         0.43137254901960786,
         "#c9c9ff"
        ],
        [
         0.43529411764705883,
         "#ccccff"
        ],
        [
         0.4392156862745098,
         "#cfcfff"
        ],
        [
         0.44313725490196076,
         "#d2d2ff"
        ],
        [
         0.4470588235294118,
         "#d5d5ff"
        ],
        [
         0.45098039215686275,
         "#d8d8ff"
        ],
        [
         0.4549019607843137,
         "#dbdbff"
        ],
        [
         0.4588235294117647,
         "#dedeff"
        ],
        [
         0.4627450980392157,
         "#e2e2ff"
        ],
        [
         0.4666666666666667,
         "#e5e5ff"
        ],
        [
         0.47058823529411764,
         "#e8e8ff"
        ],
        [
         0.4745098039215686,
         "#ebebff"
        ],
        [
         0.47843137254901963,
         "#eeeeff"
        ],
        [
         0.4823529411764706,
         "#f1f1ff"
        ],
        [
         0.48627450980392156,
         "#f4f4ff"
        ],
        [
         0.49019607843137253,
         "#f7f7ff"
        ],
        [
         0.49411764705882355,
         "#fafaff"
        ],
        [
         0.4980392156862745,
         "#fdfdff"
        ],
        [
         0.5019607843137255,
         "#fffdfd"
        ],
        [
         0.5058823529411764,
         "#fffafa"
        ],
        [
         0.5098039215686274,
         "#fff7f7"
        ],
        [
         0.5137254901960784,
         "#fff4f4"
        ],
        [
         0.5176470588235295,
         "#fff1f1"
        ],
        [
         0.5215686274509804,
         "#ffeeee"
        ],
        [
         0.5254901960784314,
         "#ffebeb"
        ],
        [
         0.5294117647058824,
         "#ffe8e8"
        ],
        [
         0.5333333333333333,
         "#ffe5e5"
        ],
        [
         0.5372549019607843,
         "#ffe2e2"
        ],
        [
         0.5411764705882353,
         "#ffdede"
        ],
        [
         0.5450980392156862,
         "#ffdbdb"
        ],
        [
         0.5490196078431373,
         "#ffd8d8"
        ],
        [
         0.5529411764705883,
         "#ffd5d5"
        ],
        [
         0.5568627450980392,
         "#ffd2d2"
        ],
        [
         0.5607843137254902,
         "#ffcfcf"
        ],
        [
         0.5647058823529412,
         "#ffcccc"
        ],
        [
         0.5686274509803921,
         "#ffc9c9"
        ],
        [
         0.5725490196078431,
         "#ffc6c6"
        ],
        [
         0.5764705882352941,
         "#ffc3c3"
        ],
        [
         0.5803921568627451,
         "#ffbfbf"
        ],
        [
         0.5843137254901961,
         "#ffbcbc"
        ],
        [
         0.5882352941176471,
         "#ffb9b9"
        ],
        [
         0.592156862745098,
         "#ffb6b6"
        ],
        [
         0.596078431372549,
         "#ffb3b3"
        ],
        [
         0.6,
         "#ffb0b0"
        ],
        [
         0.6039215686274509,
         "#ffacad"
        ],
        [
         0.6078431372549019,
         "#ffa7aa"
        ],
        [
         0.611764705882353,
         "#ffa3a7"
        ],
        [
         0.615686274509804,
         "#ff9fa4"
        ],
        [
         0.6196078431372549,
         "#ff9aa1"
        ],
        [
         0.6235294117647059,
         "#ff969e"
        ],
        [
         0.6274509803921569,
         "#ff929b"
        ],
        [
         0.6313725490196078,
         "#ff8e98"
        ],
        [
         0.6352941176470588,
         "#ff8995"
        ],
        [
         0.6392156862745098,
         "#ff8592"
        ],
        [
         0.6431372549019608,
         "#ff818f"
        ],
        [
         0.6470588235294118,
         "#ff7c8c"
        ],
        [
         0.6509803921568628,
         "#ff7889"
        ],
        [
         0.6549019607843137,
         "#ff7486"
        ],
        [
         0.6588235294117647,
         "#ff6f83"
        ],
        [
         0.6627450980392157,
         "#ff6b80"
        ],
        [
         0.6666666666666666,
         "#ff677d"
        ],
        [
         0.6705882352941176,
         "#ff637a"
        ],
        [
         0.6745098039215687,
         "#ff5e77"
        ],
        [
         0.6784313725490196,
         "#ff5a74"
        ],
        [
         0.6823529411764706,
         "#ff5671"
        ],
        [
         0.6862745098039216,
         "#ff516e"
        ],
        [
         0.6901960784313725,
         "#ff4d6b"
        ],
        [
         0.6941176470588235,
         "#ff4968"
        ],
        [
         0.6980392156862745,
         "#ff4465"
        ],
        [
         0.7019607843137254,
         "#ff4163"
        ],
        [
         0.7058823529411765,
         "#ff4062"
        ],
        [
         0.7098039215686275,
         "#ff3e60"
        ],
        [
         0.7137254901960784,
         "#ff3c5f"
        ],
        [
         0.7176470588235294,
         "#ff3b5e"
        ],
        [
         0.7215686274509804,
         "#ff395c"
        ],
        [
         0.7254901960784313,
         "#ff375b"
        ],
        [
         0.7294117647058823,
         "#ff365a"
        ],
        [
         0.7333333333333333,
         "#ff3458"
        ],
        [
         0.7372549019607844,
         "#ff3257"
        ],
        [
         0.7411764705882353,
         "#ff3056"
        ],
        [
         0.7450980392156863,
         "#ff2f55"
        ],
        [
         0.7490196078431373,
         "#ff2d53"
        ],
        [
         0.7529411764705882,
         "#ff2b52"
        ],
        [
         0.7568627450980392,
         "#ff2a51"
        ],
        [
         0.7607843137254902,
         "#ff284f"
        ],
        [
         0.7647058823529411,
         "#ff264e"
        ],
        [
         0.7686274509803922,
         "#ff254d"
        ],
        [
         0.7725490196078432,
         "#ff234b"
        ],
        [
         0.7764705882352941,
         "#ff214a"
        ],
        [
         0.7803921568627451,
         "#ff1f49"
        ],
        [
         0.7843137254901961,
         "#ff1e48"
        ],
        [
         0.788235294117647,
         "#ff1c46"
        ],
        [
         0.792156862745098,
         "#ff1a45"
        ],
        [
         0.796078431372549,
         "#ff1944"
        ],
        [
         0.8,
         "#ff1742"
        ],
        [
         0.803921568627451,
         "#ff1842"
        ],
        [
         0.807843137254902,
         "#ff1842"
        ],
        [
         0.8117647058823529,
         "#ff1942"
        ],
        [
         0.8156862745098039,
         "#ff1a42"
        ],
        [
         0.8196078431372549,
         "#ff1a42"
        ],
        [
         0.8235294117647058,
         "#ff1b42"
        ],
        [
         0.8274509803921568,
         "#ff1c42"
        ],
        [
         0.8313725490196079,
         "#ff1d42"
        ],
        [
         0.8352941176470589,
         "#ff1d42"
        ],
        [
         0.8392156862745098,
         "#ff1e42"
        ],
        [
         0.8431372549019608,
         "#ff1f42"
        ],
        [
         0.8470588235294118,
         "#ff1f42"
        ],
        [
         0.8509803921568627,
         "#ff2042"
        ],
        [
         0.8549019607843137,
         "#ff2142"
        ],
        [
         0.8588235294117647,
         "#ff2142"
        ],
        [
         0.8627450980392157,
         "#ff2242"
        ],
        [
         0.8666666666666667,
         "#ff2342"
        ],
        [
         0.8705882352941177,
         "#ff2442"
        ],
        [
         0.8745098039215686,
         "#ff2442"
        ],
        [
         0.8784313725490196,
         "#ff2542"
        ],
        [
         0.8823529411764706,
         "#ff2642"
        ],
        [
         0.8862745098039215,
         "#ff2642"
        ],
        [
         0.8901960784313725,
         "#ff2742"
        ],
        [
         0.8941176470588236,
         "#ff2842"
        ],
        [
         0.8980392156862745,
         "#ff2842"
        ],
        [
         0.9019607843137255,
         "#ff2942"
        ],
        [
         0.9058823529411765,
         "#ff2a42"
        ],
        [
         0.9098039215686274,
         "#ff2b42"
        ],
        [
         0.9137254901960784,
         "#ff2c42"
        ],
        [
         0.9176470588235294,
         "#ff2d42"
        ],
        [
         0.9215686274509803,
         "#ff2e42"
        ],
        [
         0.9254901960784314,
         "#ff2f42"
        ],
        [
         0.9294117647058824,
         "#ff3042"
        ],
        [
         0.9333333333333333,
         "#ff3142"
        ],
        [
         0.9372549019607843,
         "#ff3242"
        ],
        [
         0.9411764705882353,
         "#ff3342"
        ],
        [
         0.9450980392156862,
         "#ff3442"
        ],
        [
         0.9490196078431372,
         "#ff3542"
        ],
        [
         0.9529411764705882,
         "#ff3642"
        ],
        [
         0.9568627450980393,
         "#ff3742"
        ],
        [
         0.9607843137254902,
         "#ff3842"
        ],
        [
         0.9647058823529412,
         "#ff3942"
        ],
        [
         0.9686274509803922,
         "#ff3a42"
        ],
        [
         0.9725490196078431,
         "#ff3b42"
        ],
        [
         0.9764705882352941,
         "#ff3c42"
        ],
        [
         0.9803921568627451,
         "#ff3d42"
        ],
        [
         0.984313725490196,
         "#ff3e42"
        ],
        [
         0.9882352941176471,
         "#ff3f42"
        ],
        [
         0.9921568627450981,
         "#ff4042"
        ],
        [
         0.996078431372549,
         "#ff4142"
        ],
        [
         1,
         "#ff4242"
        ]
       ],
       "showscale": false,
       "type": "heatmap",
       "uid": "cd09cf61-aa40-11e8-a9a1-9cb6d02202bb",
       "x": [
        "Column 7",
        "Column 6",
        "Column 3",
        "Column 2",
        "Column 0",
        "Column 1",
        "Column 5",
        "Column 4",
        "Column 18",
        "Column 16",
        "Column 19",
        "Column 23",
        "Column 22",
        "Column 20",
        "Column 21",
        "Column 17",
        "Column 9",
        "Column 14",
        "Column 11",
        "Column 10",
        "Column 13",
        "Column 15",
        "Column 12",
        "Column 8"
       ],
       "y": [
        "Index 7",
        "Index 0",
        "Index 6",
        "Index 5",
        "Index 3",
        "Index 2",
        "Index 4",
        "Index 1"
       ],
       "yaxis": "y",
       "z": [
        [
         1.5611498415972165,
         -0.3390551788510136,
         -1.6302641768021942,
         1.1188762549007005,
         -0.2506594338396396,
         1.9774270447318996,
         0.540835680319688,
         0.7740541924696963,
         1.1114054929811157,
         -0.5656718170184732,
         0.040832453056437935,
         -0.5981883644748454,
         0.37552100667002863,
         -0.8946165140791028,
         -0.18825479221655536,
         1.468548666930944,
         -0.5650667026232282,
         0.8789176105153642,
         -0.34705203723630923,
         -0.9627346960124704,
         -1.1070206198734682,
         0.4477653400210878,
         -1.4877344506571288,
         -1.3590148005097455
        ],
        [
         0.7187106310990344,
         1.0961958617162846,
         1.659974857991817,
         -0.1784297272692303,
         1.5141477951103193,
         1.2452426689469438,
         -1.5306833224025367,
         -0.7604275419078711,
         0.07338360286776333,
         -1.6938376688799848,
         0.5586869291204273,
         0.6310118510084314,
         -0.3898098467463032,
         0.7220254356200666,
         0.4101731053664011,
         -1.4471257064216947,
         -0.024644646872763232,
         0.046383771958500734,
         -1.4166502688546934,
         1.3696264575778891,
         -0.007249327698185503,
         -0.9807522426092921,
         -0.9758508425330409,
         -0.6401018261882837
        ],
        [
         1.2601511348896197,
         0.0006870412930480139,
         -0.23641135450402562,
         -1.5166525097479562,
         1.339842989901379,
         1.3731598065701627,
         0.785880192035126,
         1.348885232783807,
         -1.2286360260891802,
         -1.3797335829063337,
         0.3164396230227927,
         0.06251351925452568,
         1.638951176556875,
         -0.398047626015779,
         -1.3308329490992805,
         -0.35697552849592384,
         0.6673131497784481,
         0.3553082427456942,
         -0.9333916508106619,
         -0.9615277560647721,
         -1.4502378463931338,
         -0.24620049026292076,
         -0.1679877937608512,
         1.057503005319342
        ],
        [
         1.1154425017501057,
         1.3549062530771745,
         -0.6783508383844258,
         0.21536518847116604,
         -0.34756880466586687,
         0.7195852536024997,
         0.4136089185311848,
         -1.6733766337634053,
         0.6338671606987072,
         1.3605544879877534,
         1.243292188646438,
         -0.6897112778443987,
         0.9571466985923857,
         0.7966728226268459,
         0.5862089164082132,
         -1.6513387568972389,
         -0.7708790328016127,
         -0.09572062059793433,
         0.41663709274772387,
         -0.8850678146569139,
         -1.6035299184102616,
         -1.7206671183690898,
         -0.46886966937451385,
         0.7717930026254649
        ],
        [
         1.5967836201001253,
         0.6455131989941785,
         0.4815737218304486,
         -1.1352015845701016,
         -0.5879887843515741,
         -1.3776536657894016,
         -0.6420386743404137,
         0.1078207657175254,
         -1.8659568850748605,
         -0.3292521845638511,
         -0.8486713529121559,
         0.25748832790398557,
         1.5358819944705544,
         0.769416599515737,
         -0.9533122688141187,
         0.7925013731717218,
         1.3267380226447754,
         0.7881913256386318,
         -0.49757468969321056,
         -1.6000425746701123,
         -0.528137428643954,
         1.5349906552435222,
         0.1729485163643016,
         0.3559819718282542
        ],
        [
         -1.8854945974584403,
         -0.6130455633388131,
         -1.500679128835881,
         1.2395355149512437,
         -0.18064016626155985,
         0.833236903119522,
         0.15761591856134652,
         -0.8500943865226879,
         -0.7703093350058112,
         0.6426405293709786,
         1.4226919815306132,
         0.4333535055245214,
         1.1194844740204744,
         -1.1291265661360355,
         1.1918260271904288,
         0.6552540109384255,
         0.5892964991600975,
         1.1144834715924967,
         0.9526316968733045,
         -0.9908005146720241,
         -0.39684046461959854,
         0.4480005276618855,
         -0.8603458885360362,
         -1.622674449108447
        ],
        [
         1.3651663017024076,
         0.9395198146803333,
         5.761329482038581e-05,
         -1.446605800617503,
         -1.1199386158584699,
         -0.9149675811438054,
         0.35854547990322677,
         -0.9680475215981337,
         0.23658799983297688,
         0.961375683309183,
         1.2884960734054547,
         0.4648612492020398,
         -1.6109717996817439,
         -1.0402191131419956,
         -0.7442143006925356,
         0.3121719723132571,
         -1.2387115336114447,
         -1.4391762521652605,
         -0.19174635432548576,
         0.8947593677668282,
         0.40331531640926305,
         1.3376388660435488,
         0.8436529659555465,
         1.3084501690174926
        ],
        [
         -0.9476000427982558,
         -0.8287736890934934,
         -1.5218775158873254,
         0.07214332803891689,
         -0.7297950801127377,
         -0.7203102762893202,
         -0.3138054409419787,
         1.8260220367712534,
         1.6001766729243736,
         0.828761297352293,
         1.8661844352101442,
         1.5893846375607226,
         -0.43246487336571665,
         0.5533507957092935,
         -1.3680850108360738,
         -1.109183658786567,
         -1.0026330381253739,
         0.11112088442187551,
         0.5639663393541858,
         -0.6524880689242644,
         -0.621769622358504,
         0.37455967117994926,
         0.6522741312021176,
         0.2108420877944876
        ]
       ],
       "zauto": false,
       "zmax": 1.9774270447318996,
       "zmin": -1.8854945974584403
      },
      "image/png": "[encoded data removed]"
     },
     "metadata": {},
     "output_type": "display_data"
    },
    {
     "name": "stdout",
     "output_type": "stream",
     "text": [
      "target.index (24) & features.columns (24) have 24 in common.\n",
      "Computing score using compute_information_coefficient with 1 process ...\n",
      "Computing MoE with 3 sampling ...\n",
      "Computing p-value and FDR with 1 permutation ...\n"
     ]
    },
    {
     "data": {
      "0": {
       "colorscale": [
        [
         0,
         "#20d9ba"
        ],
        [
         0.5,
         "#9017e6"
        ],
        [
         1,
         "#ff1968"
        ]
       ],
       "showscale": false,
       "text": [
        [
         "Column 2",
         "Column 14",
         "Column 0",
         "Column 1",
         "Column 3",
         "Column 13",
         "Column 12",
         "Column 15",
         "Column 19",
         "Column 16",
         "Column 18",
         "Column 4",
         "Column 5",
         "Column 17",
         "Column 6",
         "Column 7",
         "Column 22",
         "Column 9",
         "Column 8",
         "Column 20",
         "Column 23",
         "Column 11",
         "Column 21",
         "Column 10"
        ]
       ],
       "type": "heatmap",
       "uid": "cdcf2f0e-aa40-11e8-a9a1-9cb6d02202bb",
       "x": [
        "Column 2",
        "Column 14",
        "Column 0",
        "Column 1",
        "Column 3",
        "Column 13",
        "Column 12",
        "Column 15",
        "Column 19",
        "Column 16",
        "Column 18",
        "Column 4",
        "Column 5",
        "Column 17",
        "Column 6",
        "Column 7",
        "Column 22",
        "Column 9",
        "Column 8",
        "Column 20",
        "Column 23",
        "Column 11",
        "Column 21",
        "Column 10"
       ],
       "y": [
        "Target"
       ],
       "yaxis": "y2",
       "z": [
        [
         0,
         0,
         0,
         0,
         0,
         0,
         0,
         0,
         1,
         1,
         1,
         1,
         1,
         1,
         1,
         1,
         2,
         2,
         2,
         2,
         2,
         2,
         2,
         2
        ]
       ],
       "zauto": true,
       "zmax": 2,
       "zmin": 0
      },
      "1": {
       "colorscale": [
        [
         0,
         "#4242ff"
        ],
        [
         0.00392156862745098,
         "#4241ff"
        ],
        [
         0.00784313725490196,
         "#4240ff"
        ],
        [
         0.011764705882352941,
         "#423fff"
        ],
        [
         0.01568627450980392,
         "#423eff"
        ],
        [
         0.0196078431372549,
         "#423dff"
        ],
        [
         0.023529411764705882,
         "#423cff"
        ],
        [
         0.027450980392156862,
         "#423bff"
        ],
        [
         0.03137254901960784,
         "#423aff"
        ],
        [
         0.03529411764705882,
         "#4239ff"
        ],
        [
         0.0392156862745098,
         "#4238ff"
        ],
        [
         0.043137254901960784,
         "#4237ff"
        ],
        [
         0.047058823529411764,
         "#4236ff"
        ],
        [
         0.050980392156862744,
         "#4235ff"
        ],
        [
         0.054901960784313725,
         "#4234ff"
        ],
        [
         0.058823529411764705,
         "#4233ff"
        ],
        [
         0.06274509803921569,
         "#4232ff"
        ],
        [
         0.06666666666666667,
         "#4231ff"
        ],
        [
         0.07058823529411765,
         "#4230ff"
        ],
        [
         0.07450980392156863,
         "#422fff"
        ],
        [
         0.0784313725490196,
         "#422eff"
        ],
        [
         0.08235294117647059,
         "#422dff"
        ],
        [
         0.08627450980392157,
         "#422cff"
        ],
        [
         0.09019607843137255,
         "#422bff"
        ],
        [
         0.09411764705882353,
         "#422aff"
        ],
        [
         0.09803921568627451,
         "#4229ff"
        ],
        [
         0.10196078431372549,
         "#4228ff"
        ],
        [
         0.10588235294117647,
         "#4228ff"
        ],
        [
         0.10980392156862745,
         "#4227ff"
        ],
        [
         0.11372549019607843,
         "#4226ff"
        ],
        [
         0.11764705882352941,
         "#4226ff"
        ],
        [
         0.12156862745098039,
         "#4225ff"
        ],
        [
         0.12549019607843137,
         "#4224ff"
        ],
        [
         0.12941176470588237,
         "#4224ff"
        ],
        [
         0.13333333333333333,
         "#4223ff"
        ],
        [
         0.13725490196078433,
         "#4222ff"
        ],
        [
         0.1411764705882353,
         "#4221ff"
        ],
        [
         0.1450980392156863,
         "#4221ff"
        ],
        [
         0.14901960784313725,
         "#4220ff"
        ],
        [
         0.15294117647058825,
         "#421fff"
        ],
        [
         0.1568627450980392,
         "#421fff"
        ],
        [
         0.1607843137254902,
         "#421eff"
        ],
        [
         0.16470588235294117,
         "#421dff"
        ],
        [
         0.16862745098039217,
         "#421dff"
        ],
        [
         0.17254901960784313,
         "#421cff"
        ],
        [
         0.17647058823529413,
         "#421bff"
        ],
        [
         0.1803921568627451,
         "#421aff"
        ],
        [
         0.1843137254901961,
         "#421aff"
        ],
        [
         0.18823529411764706,
         "#4219ff"
        ],
        [
         0.19215686274509805,
         "#4218ff"
        ],
        [
         0.19607843137254902,
         "#4218ff"
        ],
        [
         0.2,
         "#4217ff"
        ],
        [
         0.20392156862745098,
         "#4419ff"
        ],
        [
         0.20784313725490197,
         "#451aff"
        ],
        [
         0.21176470588235294,
         "#461cff"
        ],
        [
         0.21568627450980393,
         "#481eff"
        ],
        [
         0.2196078431372549,
         "#491fff"
        ],
        [
         0.2235294117647059,
         "#4a21ff"
        ],
        [
         0.22745098039215686,
         "#4b23ff"
        ],
        [
         0.23137254901960785,
         "#4d25ff"
        ],
        [
         0.23529411764705882,
         "#4e26ff"
        ],
        [
         0.23921568627450981,
         "#4f28ff"
        ],
        [
         0.24313725490196078,
         "#512aff"
        ],
        [
         0.24705882352941178,
         "#522bff"
        ],
        [
         0.25098039215686274,
         "#532dff"
        ],
        [
         0.2549019607843137,
         "#542fff"
        ],
        [
         0.25882352941176473,
         "#5630ff"
        ],
        [
         0.2627450980392157,
         "#5732ff"
        ],
        [
         0.26666666666666666,
         "#5834ff"
        ],
        [
         0.27058823529411763,
         "#5a36ff"
        ],
        [
         0.27450980392156865,
         "#5b37ff"
        ],
        [
         0.2784313725490196,
         "#5c39ff"
        ],
        [
         0.2823529411764706,
         "#5e3bff"
        ],
        [
         0.28627450980392155,
         "#5f3cff"
        ],
        [
         0.2901960784313726,
         "#603eff"
        ],
        [
         0.29411764705882354,
         "#6240ff"
        ],
        [
         0.2980392156862745,
         "#6341ff"
        ],
        [
         0.30196078431372547,
         "#6544ff"
        ],
        [
         0.3058823529411765,
         "#6849ff"
        ],
        [
         0.30980392156862746,
         "#6b4dff"
        ],
        [
         0.3137254901960784,
         "#6e51ff"
        ],
        [
         0.3176470588235294,
         "#7156ff"
        ],
        [
         0.3215686274509804,
         "#745aff"
        ],
        [
         0.3254901960784314,
         "#775eff"
        ],
        [
         0.32941176470588235,
         "#7a63ff"
        ],
        [
         0.3333333333333333,
         "#7d67ff"
        ],
        [
         0.33725490196078434,
         "#806bff"
        ],
        [
         0.3411764705882353,
         "#836fff"
        ],
        [
         0.34509803921568627,
         "#8674ff"
        ],
        [
         0.34901960784313724,
         "#8978ff"
        ],
        [
         0.35294117647058826,
         "#8c7cff"
        ],
        [
         0.3568627450980392,
         "#8f81ff"
        ],
        [
         0.3607843137254902,
         "#9285ff"
        ],
        [
         0.36470588235294116,
         "#9589ff"
        ],
        [
         0.3686274509803922,
         "#988eff"
        ],
        [
         0.37254901960784315,
         "#9b92ff"
        ],
        [
         0.3764705882352941,
         "#9e96ff"
        ],
        [
         0.3803921568627451,
         "#a19aff"
        ],
        [
         0.3843137254901961,
         "#a49fff"
        ],
        [
         0.38823529411764707,
         "#a7a3ff"
        ],
        [
         0.39215686274509803,
         "#aaa7ff"
        ],
        [
         0.396078431372549,
         "#adacff"
        ],
        [
         0.4,
         "#b0b0ff"
        ],
        [
         0.403921568627451,
         "#b3b3ff"
        ],
        [
         0.40784313725490196,
         "#b6b6ff"
        ],
        [
         0.4117647058823529,
         "#b9b9ff"
        ],
        [
         0.41568627450980394,
         "#bcbcff"
        ],
        [
         0.4196078431372549,
         "#bfbfff"
        ],
        [
         0.4235294117647059,
         "#c3c3ff"
        ],
        [
         0.42745098039215684,
         "#c6c6ff"
        ],
        [
         0.43137254901960786,
         "#c9c9ff"
        ],
        [
         0.43529411764705883,
         "#ccccff"
        ],
        [
         0.4392156862745098,
         "#cfcfff"
        ],
        [
         0.44313725490196076,
         "#d2d2ff"
        ],
        [
         0.4470588235294118,
         "#d5d5ff"
        ],
        [
         0.45098039215686275,
         "#d8d8ff"
        ],
        [
         0.4549019607843137,
         "#dbdbff"
        ],
        [
         0.4588235294117647,
         "#dedeff"
        ],
        [
         0.4627450980392157,
         "#e2e2ff"
        ],
        [
         0.4666666666666667,
         "#e5e5ff"
        ],
        [
         0.47058823529411764,
         "#e8e8ff"
        ],
        [
         0.4745098039215686,
         "#ebebff"
        ],
        [
         0.47843137254901963,
         "#eeeeff"
        ],
        [
         0.4823529411764706,
         "#f1f1ff"
        ],
        [
         0.48627450980392156,
         "#f4f4ff"
        ],
        [
         0.49019607843137253,
         "#f7f7ff"
        ],
        [
         0.49411764705882355,
         "#fafaff"
        ],
        [
         0.4980392156862745,
         "#fdfdff"
        ],
        [
         0.5019607843137255,
         "#fffdfd"
        ],
        [
         0.5058823529411764,
         "#fffafa"
        ],
        [
         0.5098039215686274,
         "#fff7f7"
        ],
        [
         0.5137254901960784,
         "#fff4f4"
        ],
        [
         0.5176470588235295,
         "#fff1f1"
        ],
        [
         0.5215686274509804,
         "#ffeeee"
        ],
        [
         0.5254901960784314,
         "#ffebeb"
        ],
        [
         0.5294117647058824,
         "#ffe8e8"
        ],
        [
         0.5333333333333333,
         "#ffe5e5"
        ],
        [
         0.5372549019607843,
         "#ffe2e2"
        ],
        [
         0.5411764705882353,
         "#ffdede"
        ],
        [
         0.5450980392156862,
         "#ffdbdb"
        ],
        [
         0.5490196078431373,
         "#ffd8d8"
        ],
        [
         0.5529411764705883,
         "#ffd5d5"
        ],
        [
         0.5568627450980392,
         "#ffd2d2"
        ],
        [
         0.5607843137254902,
         "#ffcfcf"
        ],
        [
         0.5647058823529412,
         "#ffcccc"
        ],
        [
         0.5686274509803921,
         "#ffc9c9"
        ],
        [
         0.5725490196078431,
         "#ffc6c6"
        ],
        [
         0.5764705882352941,
         "#ffc3c3"
        ],
        [
         0.5803921568627451,
         "#ffbfbf"
        ],
        [
         0.5843137254901961,
         "#ffbcbc"
        ],
        [
         0.5882352941176471,
         "#ffb9b9"
        ],
        [
         0.592156862745098,
         "#ffb6b6"
        ],
        [
         0.596078431372549,
         "#ffb3b3"
        ],
        [
         0.6,
         "#ffb0b0"
        ],
        [
         0.6039215686274509,
         "#ffacad"
        ],
        [
         0.6078431372549019,
         "#ffa7aa"
        ],
        [
         0.611764705882353,
         "#ffa3a7"
        ],
        [
         0.615686274509804,
         "#ff9fa4"
        ],
        [
         0.6196078431372549,
         "#ff9aa1"
        ],
        [
         0.6235294117647059,
         "#ff969e"
        ],
        [
         0.6274509803921569,
         "#ff929b"
        ],
        [
         0.6313725490196078,
         "#ff8e98"
        ],
        [
         0.6352941176470588,
         "#ff8995"
        ],
        [
         0.6392156862745098,
         "#ff8592"
        ],
        [
         0.6431372549019608,
         "#ff818f"
        ],
        [
         0.6470588235294118,
         "#ff7c8c"
        ],
        [
         0.6509803921568628,
         "#ff7889"
        ],
        [
         0.6549019607843137,
         "#ff7486"
        ],
        [
         0.6588235294117647,
         "#ff6f83"
        ],
        [
         0.6627450980392157,
         "#ff6b80"
        ],
        [
         0.6666666666666666,
         "#ff677d"
        ],
        [
         0.6705882352941176,
         "#ff637a"
        ],
        [
         0.6745098039215687,
         "#ff5e77"
        ],
        [
         0.6784313725490196,
         "#ff5a74"
        ],
        [
         0.6823529411764706,
         "#ff5671"
        ],
        [
         0.6862745098039216,
         "#ff516e"
        ],
        [
         0.6901960784313725,
         "#ff4d6b"
        ],
        [
         0.6941176470588235,
         "#ff4968"
        ],
        [
         0.6980392156862745,
         "#ff4465"
        ],
        [
         0.7019607843137254,
         "#ff4163"
        ],
        [
         0.7058823529411765,
         "#ff4062"
        ],
        [
         0.7098039215686275,
         "#ff3e60"
        ],
        [
         0.7137254901960784,
         "#ff3c5f"
        ],
        [
         0.7176470588235294,
         "#ff3b5e"
        ],
        [
         0.7215686274509804,
         "#ff395c"
        ],
        [
         0.7254901960784313,
         "#ff375b"
        ],
        [
         0.7294117647058823,
         "#ff365a"
        ],
        [
         0.7333333333333333,
         "#ff3458"
        ],
        [
         0.7372549019607844,
         "#ff3257"
        ],
        [
         0.7411764705882353,
         "#ff3056"
        ],
        [
         0.7450980392156863,
         "#ff2f55"
        ],
        [
         0.7490196078431373,
         "#ff2d53"
        ],
        [
         0.7529411764705882,
         "#ff2b52"
        ],
        [
         0.7568627450980392,
         "#ff2a51"
        ],
        [
         0.7607843137254902,
         "#ff284f"
        ],
        [
         0.7647058823529411,
         "#ff264e"
        ],
        [
         0.7686274509803922,
         "#ff254d"
        ],
        [
         0.7725490196078432,
         "#ff234b"
        ],
        [
         0.7764705882352941,
         "#ff214a"
        ],
        [
         0.7803921568627451,
         "#ff1f49"
        ],
        [
         0.7843137254901961,
         "#ff1e48"
        ],
        [
         0.788235294117647,
         "#ff1c46"
        ],
        [
         0.792156862745098,
         "#ff1a45"
        ],
        [
         0.796078431372549,
         "#ff1944"
        ],
        [
         0.8,
         "#ff1742"
        ],
        [
         0.803921568627451,
         "#ff1842"
        ],
        [
         0.807843137254902,
         "#ff1842"
        ],
        [
         0.8117647058823529,
         "#ff1942"
        ],
        [
         0.8156862745098039,
         "#ff1a42"
        ],
        [
         0.8196078431372549,
         "#ff1a42"
        ],
        [
         0.8235294117647058,
         "#ff1b42"
        ],
        [
         0.8274509803921568,
         "#ff1c42"
        ],
        [
         0.8313725490196079,
         "#ff1d42"
        ],
        [
         0.8352941176470589,
         "#ff1d42"
        ],
        [
         0.8392156862745098,
         "#ff1e42"
        ],
        [
         0.8431372549019608,
         "#ff1f42"
        ],
        [
         0.8470588235294118,
         "#ff1f42"
        ],
        [
         0.8509803921568627,
         "#ff2042"
        ],
        [
         0.8549019607843137,
         "#ff2142"
        ],
        [
         0.8588235294117647,
         "#ff2142"
        ],
        [
         0.8627450980392157,
         "#ff2242"
        ],
        [
         0.8666666666666667,
         "#ff2342"
        ],
        [
         0.8705882352941177,
         "#ff2442"
        ],
        [
         0.8745098039215686,
         "#ff2442"
        ],
        [
         0.8784313725490196,
         "#ff2542"
        ],
        [
         0.8823529411764706,
         "#ff2642"
        ],
        [
         0.8862745098039215,
         "#ff2642"
        ],
        [
         0.8901960784313725,
         "#ff2742"
        ],
        [
         0.8941176470588236,
         "#ff2842"
        ],
        [
         0.8980392156862745,
         "#ff2842"
        ],
        [
         0.9019607843137255,
         "#ff2942"
        ],
        [
         0.9058823529411765,
         "#ff2a42"
        ],
        [
         0.9098039215686274,
         "#ff2b42"
        ],
        [
         0.9137254901960784,
         "#ff2c42"
        ],
        [
         0.9176470588235294,
         "#ff2d42"
        ],
        [
         0.9215686274509803,
         "#ff2e42"
        ],
        [
         0.9254901960784314,
         "#ff2f42"
        ],
        [
         0.9294117647058824,
         "#ff3042"
        ],
        [
         0.9333333333333333,
         "#ff3142"
        ],
        [
         0.9372549019607843,
         "#ff3242"
        ],
        [
         0.9411764705882353,
         "#ff3342"
        ],
        [
         0.9450980392156862,
         "#ff3442"
        ],
        [
         0.9490196078431372,
         "#ff3542"
        ],
        [
         0.9529411764705882,
         "#ff3642"
        ],
        [
         0.9568627450980393,
         "#ff3742"
        ],
        [
         0.9607843137254902,
         "#ff3842"
        ],
        [
         0.9647058823529412,
         "#ff3942"
        ],
        [
         0.9686274509803922,
         "#ff3a42"
        ],
        [
         0.9725490196078431,
         "#ff3b42"
        ],
        [
         0.9764705882352941,
         "#ff3c42"
        ],
        [
         0.9803921568627451,
         "#ff3d42"
        ],
        [
         0.984313725490196,
         "#ff3e42"
        ],
        [
         0.9882352941176471,
         "#ff3f42"
        ],
        [
         0.9921568627450981,
         "#ff4042"
        ],
        [
         0.996078431372549,
         "#ff4142"
        ],
        [
         1,
         "#ff4242"
        ]
       ],
       "showscale": false,
       "type": "heatmap",
       "uid": "cdcf2f0f-aa40-11e8-a9a1-9cb6d02202bb",
       "x": [
        "Column 2",
        "Column 14",
        "Column 0",
        "Column 1",
        "Column 3",
        "Column 13",
        "Column 12",
        "Column 15",
        "Column 19",
        "Column 16",
        "Column 18",
        "Column 4",
        "Column 5",
        "Column 17",
        "Column 6",
        "Column 7",
        "Column 22",
        "Column 9",
        "Column 8",
        "Column 20",
        "Column 23",
        "Column 11",
        "Column 21",
        "Column 10"
       ],
       "y": [
        "Index 7",
        "Index 0",
        "Index 2",
        "Index 6",
        "Index 3",
        "Index 4",
        "Index 1",
        "Index 5"
       ],
       "yaxis": "y",
       "z": [
        [
         1.1188762549007008,
         0.8789176105153644,
         -0.2506594338396397,
         1.9774270447319,
         -1.6302641768021944,
         -1.1070206198734684,
         -1.4877344506571293,
         0.4477653400210879,
         0.04083245305643794,
         -0.5656718170184734,
         1.111405492981116,
         0.7740541924696965,
         0.5408356803196881,
         1.4685486669309442,
         -0.33905517885101366,
         1.561149841597217,
         0.37552100667002875,
         -0.5650667026232283,
         -1.3590148005097458,
         -0.8946165140791029,
         -0.5981883644748455,
         -0.3470520372363093,
         -0.1882547922165554,
         -0.9627346960124706
        ],
        [
         -0.1784297272692303,
         0.046383771958500734,
         1.5141477951103193,
         1.2452426689469438,
         1.659974857991817,
         -0.007249327698185503,
         -0.9758508425330409,
         -0.9807522426092921,
         0.5586869291204273,
         -1.6938376688799848,
         0.07338360286776333,
         -0.7604275419078711,
         -1.5306833224025367,
         -1.4471257064216947,
         1.0961958617162846,
         0.7187106310990344,
         -0.3898098467463032,
         -0.024644646872763232,
         -0.6401018261882837,
         0.7220254356200666,
         0.6310118510084314,
         -1.4166502688546934,
         0.4101731053664011,
         1.3696264575778891
        ],
        [
         1.2395355149512437,
         1.1144834715924967,
         -0.18064016626155985,
         0.833236903119522,
         -1.500679128835881,
         -0.39684046461959854,
         -0.8603458885360362,
         0.4480005276618855,
         1.4226919815306132,
         0.6426405293709786,
         -0.7703093350058112,
         -0.8500943865226879,
         0.15761591856134652,
         0.6552540109384255,
         -0.6130455633388131,
         -1.8854945974584403,
         1.1194844740204744,
         0.5892964991600975,
         -1.622674449108447,
         -1.1291265661360355,
         0.4333535055245214,
         0.9526316968733045,
         1.1918260271904288,
         -0.9908005146720241
        ],
        [
         -1.5166525097479562,
         0.3553082427456942,
         1.339842989901379,
         1.3731598065701627,
         -0.23641135450402562,
         -1.4502378463931338,
         -0.1679877937608512,
         -0.24620049026292076,
         0.3164396230227927,
         -1.3797335829063337,
         -1.2286360260891802,
         1.348885232783807,
         0.785880192035126,
         -0.35697552849592384,
         0.0006870412930480139,
         1.2601511348896197,
         1.638951176556875,
         0.6673131497784481,
         1.057503005319342,
         -0.398047626015779,
         0.06251351925452568,
         -0.9333916508106619,
         -1.3308329490992805,
         -0.9615277560647721
        ],
        [
         -1.1352015845701016,
         0.7881913256386318,
         -0.5879887843515741,
         -1.3776536657894016,
         0.4815737218304486,
         -0.528137428643954,
         0.1729485163643016,
         1.5349906552435222,
         -0.8486713529121559,
         -0.3292521845638511,
         -1.8659568850748605,
         0.1078207657175254,
         -0.6420386743404137,
         0.7925013731717218,
         0.6455131989941785,
         1.5967836201001253,
         1.5358819944705544,
         1.3267380226447754,
         0.3559819718282542,
         0.769416599515737,
         0.25748832790398557,
         -0.49757468969321056,
         -0.9533122688141187,
         -1.6000425746701123
        ],
        [
         -1.446605800617503,
         -1.4391762521652605,
         -1.1199386158584699,
         -0.9149675811438054,
         5.761329482038581e-05,
         0.40331531640926305,
         0.8436529659555465,
         1.3376388660435488,
         1.2884960734054547,
         0.961375683309183,
         0.23658799983297688,
         -0.9680475215981337,
         0.35854547990322677,
         0.3121719723132571,
         0.9395198146803333,
         1.3651663017024076,
         -1.6109717996817439,
         -1.2387115336114447,
         1.3084501690174926,
         -1.0402191131419956,
         0.4648612492020398,
         -0.19174635432548576,
         -0.7442143006925356,
         0.8947593677668282
        ],
        [
         0.07214332803891689,
         0.11112088442187551,
         -0.7297950801127377,
         -0.7203102762893202,
         -1.5218775158873254,
         -0.621769622358504,
         0.6522741312021176,
         0.37455967117994926,
         1.8661844352101442,
         0.828761297352293,
         1.6001766729243736,
         1.8260220367712534,
         -0.3138054409419787,
         -1.109183658786567,
         -0.8287736890934934,
         -0.9476000427982558,
         -0.43246487336571665,
         -1.0026330381253739,
         0.2108420877944876,
         0.5533507957092935,
         1.5893846375607226,
         0.5639663393541858,
         -1.3680850108360738,
         -0.6524880689242644
        ],
        [
         0.21536518847116604,
         -0.09572062059793433,
         -0.34756880466586687,
         0.7195852536024997,
         -0.6783508383844258,
         -1.6035299184102616,
         -0.46886966937451385,
         -1.7206671183690898,
         1.243292188646438,
         1.3605544879877534,
         0.6338671606987072,
         -1.6733766337634053,
         0.4136089185311848,
         -1.6513387568972389,
         1.3549062530771745,
         1.1154425017501057,
         0.9571466985923857,
         -0.7708790328016127,
         0.7717930026254649,
         0.7966728226268459,
         -0.6897112778443987,
         0.41663709274772387,
         0.5862089164082132,
         -0.8850678146569139
        ]
       ],
       "zauto": false,
       "zmax": 1.9774270447319,
       "zmin": -1.8854945974584403
      },
      "image/png": "[encoded data removed]"
     },
     "metadata": {},
     "output_type": "display_data"
    }
   ],
   "source": [
    "n_index = 8\n",
    "\n",
    "n_column = 24\n",
    "\n",
    "features = pd.DataFrame(\n",
    "    np.random.random_sample(size=(\n",
    "        n_index,\n",
    "        n_column,\n",
    "    )),\n",
    "    index=('Index {}'.format(i) for i in range(n_index)),\n",
    "    columns=('Column {}'.format(i) for i in range(n_column)),\n",
    ")\n",
    "\n",
    "for target in (\n",
    "        pd.Series((0, ) * 1 + (1, ) * 15 + (2, ) * 8),\n",
    "        pd.Series((0, ) * 8 + (2, ) * 8 + (1, ) * 8),\n",
    "        pd.Series(('Aa', ) * 4 + ('Bb', ) * 4 + ('Cc', ) * 4 + ('Aa', ) * 4 + ('Bb', ) * 4 + ('Cc', ) * 4),\n",
    "):\n",
    "    \n",
    "    target.name = 'Target'\n",
    "    \n",
    "    target.index = ('Column {}'.format(i) for i in range(n_column))\n",
    "\n",
    "    scores = make_match_panel(\n",
    "        target,\n",
    "        features,\n",
    "        target_ascending=True,\n",
    "        n_sampling=3,\n",
    "        n_permutation=1,\n",
    "        target_type='categorical',\n",
    "    )"
   ]
  },
  {
   "cell_type": "code",
   "execution_count": 9,
   "metadata": {
    "ExecuteTime": {
     "end_time": "2018-05-15T10:48:05.570577Z",
     "start_time": "2018-05-15T10:48:04.281086Z"
    },
    "scrolled": false
   },
   "outputs": [
    {
     "name": "stdout",
     "output_type": "stream",
     "text": [
      "target.index (25) & features.columns (24) have 24 in common.\n",
      "Computing score using compute_information_coefficient with 1 process ...\n"
     ]
    },
    {
     "name": "stderr",
     "output_type": "stream",
     "text": [
      "../match/nd_array/nd_array/check_nd_array_for_bad_value.py:46: UserWarning:\n",
      "\n",
      "nd_array has 21 bad values (nan).\n",
      "\n",
      "../match/nd_array/nd_array/check_nd_array_for_bad_value.py:46: UserWarning:\n",
      "\n",
      "nd_array has 21 bad values (nan).\n",
      "\n",
      "../match/nd_array/nd_array/check_nd_array_for_bad_value.py:46: UserWarning:\n",
      "\n",
      "nd_array has 21 bad values (nan).\n",
      "\n",
      "../match/nd_array/nd_array/check_nd_array_for_bad_value.py:46: UserWarning:\n",
      "\n",
      "nd_array has 21 bad values (nan).\n",
      "\n",
      "../match/nd_array/nd_array/check_nd_array_for_bad_value.py:46: UserWarning:\n",
      "\n",
      "nd_array has 21 bad values (nan).\n",
      "\n",
      "../match/nd_array/nd_array/check_nd_array_for_bad_value.py:46: UserWarning:\n",
      "\n",
      "nd_array has 21 bad values (nan).\n",
      "\n",
      "../match/nd_array/nd_array/check_nd_array_for_bad_value.py:46: UserWarning:\n",
      "\n",
      "nd_array has 21 bad values (nan).\n",
      "\n"
     ]
    },
    {
     "name": "stdout",
     "output_type": "stream",
     "text": [
      "Computing MoE with 3 sampling ...\n"
     ]
    },
    {
     "name": "stderr",
     "output_type": "stream",
     "text": [
      "../match/nd_array/nd_array/check_nd_array_for_bad_value.py:46: UserWarning:\n",
      "\n",
      "nd_array has 16 bad values (nan).\n",
      "\n",
      "../match/nd_array/nd_array/drop_bad_value_and_apply_function_on_2_1d_arrays.py:43: UserWarning:\n",
      "\n",
      "n < 2 for applying compute_information_coefficient.\n",
      "\n",
      "/home/kwatme/miniconda3/lib/python3.6/site-packages/scipy/stats/stats.py:3005: RuntimeWarning:\n",
      "\n",
      "Mean of empty slice.\n",
      "\n",
      "/home/kwatme/miniconda3/lib/python3.6/site-packages/numpy/core/_methods.py:85: RuntimeWarning:\n",
      "\n",
      "invalid value encountered in double_scalars\n",
      "\n",
      "/home/kwatme/miniconda3/lib/python3.6/site-packages/scipy/stats/stats.py:3006: RuntimeWarning:\n",
      "\n",
      "Mean of empty slice.\n",
      "\n",
      "/home/kwatme/miniconda3/lib/python3.6/site-packages/scipy/stats/stats.py:3010: RuntimeWarning:\n",
      "\n",
      "invalid value encountered in double_scalars\n",
      "\n",
      "/home/kwatme/miniconda3/lib/python3.6/site-packages/rpy2/rinterface/__init__.py:146: RRuntimeWarning:\n",
      "\n",
      "Error in (function (x, nb = 1000, lower = 0.1 * hmax, upper = hmax)  : \n",
      "  'x' has length zero\n",
      "\n",
      "\n",
      "/home/kwatme/miniconda3/lib/python3.6/site-packages/rpy2/rinterface/__init__.py:146: RRuntimeWarning:\n",
      "\n",
      "In addition: \n",
      "\n",
      "/home/kwatme/miniconda3/lib/python3.6/site-packages/rpy2/rinterface/__init__.py:146: RRuntimeWarning:\n",
      "\n",
      "There were 50 or more warnings (use warnings() to see the first 50)\n",
      "\n",
      "/home/kwatme/miniconda3/lib/python3.6/site-packages/rpy2/rinterface/__init__.py:146: RRuntimeWarning:\n",
      "\n",
      "\n",
      "\n",
      "\n"
     ]
    },
    {
     "ename": "RRuntimeError",
     "evalue": "Error in (function (x, nb = 1000, lower = 0.1 * hmax, upper = hmax)  : \n  'x' has length zero\n",
     "output_type": "error",
     "traceback": [
      "\u001b[0;31m---------------------------------------------------------------------------\u001b[0m",
      "\u001b[0;31mRRuntimeError\u001b[0m                             Traceback (most recent call last)",
      "\u001b[0;32m<ipython-input-9-f62390e05e0b>\u001b[0m in \u001b[0;36m<module>\u001b[0;34m()\u001b[0m\n\u001b[1;32m     35\u001b[0m     \u001b[0mtarget_ascending\u001b[0m\u001b[0;34m=\u001b[0m\u001b[0;32mNone\u001b[0m\u001b[0;34m,\u001b[0m\u001b[0;34m\u001b[0m\u001b[0m\n\u001b[1;32m     36\u001b[0m     \u001b[0mn_sampling\u001b[0m\u001b[0;34m=\u001b[0m\u001b[0;36m3\u001b[0m\u001b[0;34m,\u001b[0m\u001b[0;34m\u001b[0m\u001b[0m\n\u001b[0;32m---> 37\u001b[0;31m     \u001b[0mn_permutation\u001b[0m\u001b[0;34m=\u001b[0m\u001b[0;36m1\u001b[0m\u001b[0;34m,\u001b[0m\u001b[0;34m\u001b[0m\u001b[0m\n\u001b[0m\u001b[1;32m     38\u001b[0m )\n\u001b[1;32m     39\u001b[0m \u001b[0;34m\u001b[0m\u001b[0m\n",
      "\u001b[0;32m~/github_kwatme/match/match/make_match_panel.py\u001b[0m in \u001b[0;36mmake_match_panel\u001b[0;34m(target, features, target_ascending, scores, n_job, match_function, n_required_for_match_function, raise_for_n_less_than_required, extreme_feature_threshold, random_seed, n_sampling, n_permutation, scores_ascending, target_type, plot_target_std_max, cluster_within_category, features_type, plot_features_std_max, title, file_path_prefix, plotly_file_path_prefix)\u001b[0m\n\u001b[1;32m    118\u001b[0m             \u001b[0mrandom_seed\u001b[0m\u001b[0;34m,\u001b[0m\u001b[0;34m\u001b[0m\u001b[0m\n\u001b[1;32m    119\u001b[0m             \u001b[0mn_sampling\u001b[0m\u001b[0;34m,\u001b[0m\u001b[0;34m\u001b[0m\u001b[0m\n\u001b[0;32m--> 120\u001b[0;31m             \u001b[0mn_permutation\u001b[0m\u001b[0;34m,\u001b[0m\u001b[0;34m\u001b[0m\u001b[0m\n\u001b[0m\u001b[1;32m    121\u001b[0m         )\n\u001b[1;32m    122\u001b[0m \u001b[0;34m\u001b[0m\u001b[0m\n",
      "\u001b[0;32m~/github_kwatme/match/match/_match.py\u001b[0m in \u001b[0;36m_match\u001b[0;34m(target, features, n_job, match_function, n_required_for_match_function, raise_for_n_less_than_required, extreme_feature_threshold, random_seed, n_sampling, n_permutation)\u001b[0m\n\u001b[1;32m     75\u001b[0m             \u001b[0mmatch_function\u001b[0m\u001b[0;34m,\u001b[0m\u001b[0;34m\u001b[0m\u001b[0m\n\u001b[1;32m     76\u001b[0m             \u001b[0mn_required_for_match_function\u001b[0m\u001b[0;34m,\u001b[0m\u001b[0;34m\u001b[0m\u001b[0m\n\u001b[0;32m---> 77\u001b[0;31m             \u001b[0mraise_for_n_less_than_required\u001b[0m\u001b[0;34m,\u001b[0m\u001b[0;34m\u001b[0m\u001b[0m\n\u001b[0m\u001b[1;32m     78\u001b[0m         )\n\u001b[1;32m     79\u001b[0m \u001b[0;34m\u001b[0m\u001b[0m\n",
      "\u001b[0;32m~/github_kwatme/match/match/_match.py\u001b[0m in \u001b[0;36m_match_randomly_sampled_target_and_features_to_compute_margin_of_errors\u001b[0;34m(target, features, random_seed, n_sampling, match_function, n_required_for_match_function, raise_for_n_less_than_required)\u001b[0m\n\u001b[1;32m    156\u001b[0m             \u001b[0mmatch_function\u001b[0m\u001b[0;34m,\u001b[0m\u001b[0;34m\u001b[0m\u001b[0m\n\u001b[1;32m    157\u001b[0m             \u001b[0mn_required_for_match_function\u001b[0m\u001b[0;34m,\u001b[0m\u001b[0;34m\u001b[0m\u001b[0m\n\u001b[0;32m--> 158\u001b[0;31m             \u001b[0mraise_for_n_less_than_required\u001b[0m\u001b[0;34m,\u001b[0m\u001b[0;34m\u001b[0m\u001b[0m\n\u001b[0m\u001b[1;32m    159\u001b[0m         )\n\u001b[1;32m    160\u001b[0m \u001b[0;34m\u001b[0m\u001b[0m\n",
      "\u001b[0;32m~/github_kwatme/match/match/_match.py\u001b[0m in \u001b[0;36m_match_target_and_features\u001b[0;34m(target, features, match_function, n_required_for_match_function, raise_for_n_less_than_required)\u001b[0m\n\u001b[1;32m    228\u001b[0m         \u001b[0mmatch_function\u001b[0m\u001b[0;34m,\u001b[0m\u001b[0;34m\u001b[0m\u001b[0m\n\u001b[1;32m    229\u001b[0m         \u001b[0mn_required\u001b[0m\u001b[0;34m=\u001b[0m\u001b[0mn_required_for_match_function\u001b[0m\u001b[0;34m,\u001b[0m\u001b[0;34m\u001b[0m\u001b[0m\n\u001b[0;32m--> 230\u001b[0;31m         \u001b[0mraise_for_n_less_than_required\u001b[0m\u001b[0;34m=\u001b[0m\u001b[0mraise_for_n_less_than_required\u001b[0m\u001b[0;34m,\u001b[0m\u001b[0;34m\u001b[0m\u001b[0m\n\u001b[0m\u001b[1;32m    231\u001b[0m     )\n",
      "\u001b[0;32m~/miniconda3/lib/python3.6/site-packages/numpy/lib/shape_base.py\u001b[0m in \u001b[0;36mapply_along_axis\u001b[0;34m(func1d, axis, arr, *args, **kwargs)\u001b[0m\n\u001b[1;32m    355\u001b[0m     \u001b[0;32mexcept\u001b[0m \u001b[0mStopIteration\u001b[0m\u001b[0;34m:\u001b[0m\u001b[0;34m\u001b[0m\u001b[0m\n\u001b[1;32m    356\u001b[0m         \u001b[0;32mraise\u001b[0m \u001b[0mValueError\u001b[0m\u001b[0;34m(\u001b[0m\u001b[0;34m'Cannot apply_along_axis when any iteration dimensions are 0'\u001b[0m\u001b[0;34m)\u001b[0m\u001b[0;34m\u001b[0m\u001b[0m\n\u001b[0;32m--> 357\u001b[0;31m     \u001b[0mres\u001b[0m \u001b[0;34m=\u001b[0m \u001b[0masanyarray\u001b[0m\u001b[0;34m(\u001b[0m\u001b[0mfunc1d\u001b[0m\u001b[0;34m(\u001b[0m\u001b[0minarr_view\u001b[0m\u001b[0;34m[\u001b[0m\u001b[0mind0\u001b[0m\u001b[0;34m]\u001b[0m\u001b[0;34m,\u001b[0m \u001b[0;34m*\u001b[0m\u001b[0margs\u001b[0m\u001b[0;34m,\u001b[0m \u001b[0;34m**\u001b[0m\u001b[0mkwargs\u001b[0m\u001b[0;34m)\u001b[0m\u001b[0;34m)\u001b[0m\u001b[0;34m\u001b[0m\u001b[0m\n\u001b[0m\u001b[1;32m    358\u001b[0m \u001b[0;34m\u001b[0m\u001b[0m\n\u001b[1;32m    359\u001b[0m     \u001b[0;31m# build a buffer for storing evaluations of func1d.\u001b[0m\u001b[0;34m\u001b[0m\u001b[0;34m\u001b[0m\u001b[0m\n",
      "\u001b[0;32m~/github_kwatme/match/match/nd_array/nd_array/drop_bad_value_and_apply_function_on_2_1d_arrays.py\u001b[0m in \u001b[0;36mdrop_bad_value_and_apply_function_on_2_1d_arrays\u001b[0;34m(_1d_array_0, _1d_array_1, function, n_required, raise_for_n_less_than_required)\u001b[0m\n\u001b[1;32m     45\u001b[0m     return function(\n\u001b[1;32m     46\u001b[0m         \u001b[0m_1d_array_0_good\u001b[0m\u001b[0;34m,\u001b[0m\u001b[0;34m\u001b[0m\u001b[0m\n\u001b[0;32m---> 47\u001b[0;31m         \u001b[0m_1d_array_1_good\u001b[0m\u001b[0;34m,\u001b[0m\u001b[0;34m\u001b[0m\u001b[0m\n\u001b[0m\u001b[1;32m     48\u001b[0m     )\n",
      "\u001b[0;32m~/github_kwatme/match/match/information/information/compute_information_coefficient.py\u001b[0m in \u001b[0;36mcompute_information_coefficient\u001b[0;34m(x, y, n_grid, jitter, random_seed)\u001b[0m\n\u001b[1;32m     36\u001b[0m     )[0]\n\u001b[1;32m     37\u001b[0m \u001b[0;34m\u001b[0m\u001b[0m\n\u001b[0;32m---> 38\u001b[0;31m     \u001b[0mbandwidth_x\u001b[0m \u001b[0;34m=\u001b[0m \u001b[0masarray\u001b[0m\u001b[0;34m(\u001b[0m\u001b[0mbcv\u001b[0m\u001b[0;34m(\u001b[0m\u001b[0mx\u001b[0m\u001b[0;34m)\u001b[0m\u001b[0;34m[\u001b[0m\u001b[0;36m0\u001b[0m\u001b[0;34m]\u001b[0m\u001b[0;34m)\u001b[0m \u001b[0;34m*\u001b[0m \u001b[0;34m(\u001b[0m\u001b[0;36m1\u001b[0m \u001b[0;34m-\u001b[0m \u001b[0mabs\u001b[0m\u001b[0;34m(\u001b[0m\u001b[0mcor\u001b[0m\u001b[0;34m)\u001b[0m \u001b[0;34m*\u001b[0m \u001b[0;36m0.75\u001b[0m\u001b[0;34m)\u001b[0m\u001b[0;34m\u001b[0m\u001b[0m\n\u001b[0m\u001b[1;32m     39\u001b[0m \u001b[0;34m\u001b[0m\u001b[0m\n\u001b[1;32m     40\u001b[0m     \u001b[0mbandwidth_y\u001b[0m \u001b[0;34m=\u001b[0m \u001b[0masarray\u001b[0m\u001b[0;34m(\u001b[0m\u001b[0mbcv\u001b[0m\u001b[0;34m(\u001b[0m\u001b[0my\u001b[0m\u001b[0;34m)\u001b[0m\u001b[0;34m[\u001b[0m\u001b[0;36m0\u001b[0m\u001b[0;34m]\u001b[0m\u001b[0;34m)\u001b[0m \u001b[0;34m*\u001b[0m \u001b[0;34m(\u001b[0m\u001b[0;36m1\u001b[0m \u001b[0;34m-\u001b[0m \u001b[0mabs\u001b[0m\u001b[0;34m(\u001b[0m\u001b[0mcor\u001b[0m\u001b[0;34m)\u001b[0m \u001b[0;34m*\u001b[0m \u001b[0;36m0.75\u001b[0m\u001b[0;34m)\u001b[0m\u001b[0;34m\u001b[0m\u001b[0m\n",
      "\u001b[0;32m~/miniconda3/lib/python3.6/site-packages/rpy2/robjects/functions.py\u001b[0m in \u001b[0;36m__call__\u001b[0;34m(self, *args, **kwargs)\u001b[0m\n\u001b[1;32m    176\u001b[0m                 \u001b[0mv\u001b[0m \u001b[0;34m=\u001b[0m \u001b[0mkwargs\u001b[0m\u001b[0;34m.\u001b[0m\u001b[0mpop\u001b[0m\u001b[0;34m(\u001b[0m\u001b[0mk\u001b[0m\u001b[0;34m)\u001b[0m\u001b[0;34m\u001b[0m\u001b[0m\n\u001b[1;32m    177\u001b[0m                 \u001b[0mkwargs\u001b[0m\u001b[0;34m[\u001b[0m\u001b[0mr_k\u001b[0m\u001b[0;34m]\u001b[0m \u001b[0;34m=\u001b[0m \u001b[0mv\u001b[0m\u001b[0;34m\u001b[0m\u001b[0m\n\u001b[0;32m--> 178\u001b[0;31m         \u001b[0;32mreturn\u001b[0m \u001b[0msuper\u001b[0m\u001b[0;34m(\u001b[0m\u001b[0mSignatureTranslatedFunction\u001b[0m\u001b[0;34m,\u001b[0m \u001b[0mself\u001b[0m\u001b[0;34m)\u001b[0m\u001b[0;34m.\u001b[0m\u001b[0m__call__\u001b[0m\u001b[0;34m(\u001b[0m\u001b[0;34m*\u001b[0m\u001b[0margs\u001b[0m\u001b[0;34m,\u001b[0m \u001b[0;34m**\u001b[0m\u001b[0mkwargs\u001b[0m\u001b[0;34m)\u001b[0m\u001b[0;34m\u001b[0m\u001b[0m\n\u001b[0m\u001b[1;32m    179\u001b[0m \u001b[0;34m\u001b[0m\u001b[0m\n\u001b[1;32m    180\u001b[0m \u001b[0mpattern_link\u001b[0m \u001b[0;34m=\u001b[0m \u001b[0mre\u001b[0m\u001b[0;34m.\u001b[0m\u001b[0mcompile\u001b[0m\u001b[0;34m(\u001b[0m\u001b[0;34mr'\\\\link\\{(.+?)\\}'\u001b[0m\u001b[0;34m)\u001b[0m\u001b[0;34m\u001b[0m\u001b[0m\n",
      "\u001b[0;32m~/miniconda3/lib/python3.6/site-packages/rpy2/robjects/functions.py\u001b[0m in \u001b[0;36m__call__\u001b[0;34m(self, *args, **kwargs)\u001b[0m\n\u001b[1;32m    104\u001b[0m         \u001b[0;32mfor\u001b[0m \u001b[0mk\u001b[0m\u001b[0;34m,\u001b[0m \u001b[0mv\u001b[0m \u001b[0;32min\u001b[0m \u001b[0mkwargs\u001b[0m\u001b[0;34m.\u001b[0m\u001b[0mitems\u001b[0m\u001b[0;34m(\u001b[0m\u001b[0;34m)\u001b[0m\u001b[0;34m:\u001b[0m\u001b[0;34m\u001b[0m\u001b[0m\n\u001b[1;32m    105\u001b[0m             \u001b[0mnew_kwargs\u001b[0m\u001b[0;34m[\u001b[0m\u001b[0mk\u001b[0m\u001b[0;34m]\u001b[0m \u001b[0;34m=\u001b[0m \u001b[0mconversion\u001b[0m\u001b[0;34m.\u001b[0m\u001b[0mpy2ri\u001b[0m\u001b[0;34m(\u001b[0m\u001b[0mv\u001b[0m\u001b[0;34m)\u001b[0m\u001b[0;34m\u001b[0m\u001b[0m\n\u001b[0;32m--> 106\u001b[0;31m         \u001b[0mres\u001b[0m \u001b[0;34m=\u001b[0m \u001b[0msuper\u001b[0m\u001b[0;34m(\u001b[0m\u001b[0mFunction\u001b[0m\u001b[0;34m,\u001b[0m \u001b[0mself\u001b[0m\u001b[0;34m)\u001b[0m\u001b[0;34m.\u001b[0m\u001b[0m__call__\u001b[0m\u001b[0;34m(\u001b[0m\u001b[0;34m*\u001b[0m\u001b[0mnew_args\u001b[0m\u001b[0;34m,\u001b[0m \u001b[0;34m**\u001b[0m\u001b[0mnew_kwargs\u001b[0m\u001b[0;34m)\u001b[0m\u001b[0;34m\u001b[0m\u001b[0m\n\u001b[0m\u001b[1;32m    107\u001b[0m         \u001b[0mres\u001b[0m \u001b[0;34m=\u001b[0m \u001b[0mconversion\u001b[0m\u001b[0;34m.\u001b[0m\u001b[0mri2ro\u001b[0m\u001b[0;34m(\u001b[0m\u001b[0mres\u001b[0m\u001b[0;34m)\u001b[0m\u001b[0;34m\u001b[0m\u001b[0m\n\u001b[1;32m    108\u001b[0m         \u001b[0;32mreturn\u001b[0m \u001b[0mres\u001b[0m\u001b[0;34m\u001b[0m\u001b[0m\n",
      "\u001b[0;31mRRuntimeError\u001b[0m: Error in (function (x, nb = 1000, lower = 0.1 * hmax, upper = hmax)  : \n  'x' has length zero\n"
     ]
    }
   ],
   "source": [
    "n_index = 8\n",
    "\n",
    "n_column = 24\n",
    "\n",
    "target = pd.Series(\n",
    "    np.random.random_sample(size=n_column + 1),\n",
    "    name='Target',\n",
    "    index=('Column {}'.format(i) for i in range(n_column + 1)),\n",
    ")\n",
    "\n",
    "features = pd.DataFrame(\n",
    "    np.random.random_sample(size=(\n",
    "        n_index,\n",
    "        n_column,\n",
    "    )),\n",
    "    index=('ABCDEFGHIJKLMNOPQ{}'.format(i) for i in range(n_index)),\n",
    "    columns=('Column {}'.format(i) for i in range(n_column)),\n",
    ")\n",
    "\n",
    "features.iloc[0] = 0\n",
    "\n",
    "features.loc[np.random.choice(\n",
    "    features.index,\n",
    "    size=features.index.size // 8 * 7,\n",
    "    replace=False,\n",
    "), np.random.choice(\n",
    "    features.columns,\n",
    "    size=features.columns.size // 8 * 7,\n",
    "    replace=False,\n",
    ")] = np.nan\n",
    "\n",
    "scores = make_match_panel(\n",
    "    target,\n",
    "    features,\n",
    "    target_ascending=None,\n",
    "    n_sampling=3,\n",
    "    n_permutation=1,\n",
    ")\n",
    "\n",
    "scores"
   ]
  },
  {
   "cell_type": "code",
   "execution_count": null,
   "metadata": {
    "ExecuteTime": {
     "end_time": "2018-05-15T10:48:08.065933Z",
     "start_time": "2018-05-15T10:48:05.590942Z"
    },
    "scrolled": false
   },
   "outputs": [],
   "source": [
    "n_index = 8\n",
    "\n",
    "n_column = 80\n",
    "\n",
    "target = pd.Series(\n",
    "    np.random.random_sample(size=n_column),\n",
    "    name='Target',\n",
    "    index=('Column {}'.format(i) for i in range(n_column)),\n",
    ")\n",
    "\n",
    "features = pd.DataFrame(\n",
    "    np.random.random_sample(size=(\n",
    "        n_index,\n",
    "        n_column,\n",
    "    )),\n",
    "    index=('Index {}'.format(i) for i in range(n_index)),\n",
    "    columns=('Column {}'.format(i) for i in range(n_column)),\n",
    ")\n",
    "\n",
    "scores = make_match_panel(\n",
    "    target,\n",
    "    features,\n",
    "    plot_target_std_max=1,\n",
    "    plot_features_std_max=2,\n",
    ")\n",
    "\n",
    "features = pd.DataFrame(\n",
    "    np.random.random_integers(\n",
    "        0,\n",
    "        8,\n",
    "        size=(\n",
    "            n_index,\n",
    "            n_column,\n",
    "        ),\n",
    "    ),\n",
    "    index=('Index {}'.format(i) for i in range(n_index)),\n",
    "    columns=('Column {}'.format(i) for i in range(n_column)),\n",
    ")\n",
    "\n",
    "scores = make_match_panel(\n",
    "    target,\n",
    "    features,\n",
    "    features_type='categorical',\n",
    ")\n",
    "\n",
    "features = pd.DataFrame(\n",
    "    np.random.random_integers(\n",
    "        0,\n",
    "        1,\n",
    "        size=(\n",
    "            n_index,\n",
    "            n_column,\n",
    "        ),\n",
    "    ),\n",
    "    index=('Index {}'.format(i) for i in range(n_index)),\n",
    "    columns=('Column {}'.format(i) for i in range(n_column)),\n",
    ")\n",
    "\n",
    "scores = make_match_panel(\n",
    "    target,\n",
    "    features,\n",
    "    features_type='binary',\n",
    ")\n",
    "\n",
    "scores"
   ]
  },
  {
   "cell_type": "code",
   "execution_count": null,
   "metadata": {
    "ExecuteTime": {
     "end_time": "2018-05-15T10:48:15.310369Z",
     "start_time": "2018-05-15T10:48:08.080994Z"
    },
    "scrolled": false
   },
   "outputs": [],
   "source": [
    "from match.make_summary_match_panel import make_summary_match_panel\n",
    "\n",
    "n_index = 8\n",
    "\n",
    "n_column = 24\n",
    "\n",
    "features_continuous = pd.DataFrame(\n",
    "    np.random.random_sample(size=(\n",
    "        n_index,\n",
    "        n_column,\n",
    "    )),\n",
    "    index=('Continuous Index {}'.format(i) for i in range(n_index)),\n",
    "    columns=('Column {}'.format(i) for i in range(n_column)),\n",
    ")\n",
    "\n",
    "features_categorical = pd.DataFrame(\n",
    "    np.random.random_integers(\n",
    "        0,\n",
    "        8,\n",
    "        size=(\n",
    "            n_index,\n",
    "            n_column,\n",
    "        )),\n",
    "    index=('Categorical Index {}'.format(i) for i in range(n_index)),\n",
    "    columns=('Column {}'.format(i) for i in range(n_column)),\n",
    ")\n",
    "\n",
    "features_binary = pd.DataFrame(\n",
    "    np.random.random_integers(\n",
    "        0,\n",
    "        1,\n",
    "        size=(\n",
    "            n_index,\n",
    "            n_column,\n",
    "        )),\n",
    "    index=('Binary Index {}'.format(i) for i in range(n_index)),\n",
    "    columns=('Column {}'.format(i) for i in range(n_column)),\n",
    ")\n",
    "\n",
    "n = 3\n",
    "\n",
    "features_dict = {\n",
    "    'Continuous features': {\n",
    "        'df': features_continuous.iloc[:n, :],\n",
    "        'data_type': 'continuous',\n",
    "        'emphasis': 'high',\n",
    "        'indices': ['Continuous Index {}'.format(i) for i in range(n)],\n",
    "        'index_aliases': ['Alias {}'.format(i) for i in range(n)],\n",
    "    },\n",
    "    'Cotinuous features (missing last 10 & scores ascending)': {\n",
    "        'df': features_continuous.iloc[:n, :],\n",
    "        'data_type': 'continuous',\n",
    "        'emphasis': 'low',\n",
    "        'indices': ['Continuous Index {}'.format(i) for i in range(n)],\n",
    "        'index_aliases': ['Alias {}'.format(i) for i in range(n)],\n",
    "    },\n",
    "    'Cotinuous features (missing first 10 & scores ascending)': {\n",
    "        'df': features_continuous.iloc[:n, :],\n",
    "        'data_type': 'continuous',\n",
    "        'emphasis': 'low',\n",
    "        'indices': ['Continuous Index {}'.format(i) for i in range(n)],\n",
    "        'index_aliases': ['Alias {}'.format(i) for i in range(n)],\n",
    "    },\n",
    "    'Categorical features': {\n",
    "        'df': features_categorical.iloc[:n, :],\n",
    "        'data_type': 'categorical',\n",
    "        'emphasis': 'high',\n",
    "        'indices': ['Categorical Index {}'.format(i) for i in range(n)],\n",
    "        'index_aliases': ['Alias {}'.format(i) for i in range(n)],\n",
    "    },\n",
    "    'Binary features': {\n",
    "        'df': features_binary.iloc[:n, :],\n",
    "        'data_type': 'binary',\n",
    "        'emphasis': 'high',\n",
    "        'indices': ['Binary Index {}'.format(i) for i in range(n)],\n",
    "        'index_aliases': ['Alias {}'.format(i) for i in range(n)],\n",
    "    },\n",
    "}\n",
    "\n",
    "for target, target_type in (\n",
    "    (\n",
    "        pd.Series(np.random.random_sample(size=n_column)),\n",
    "        'continuous',\n",
    "    ),\n",
    "    (\n",
    "        pd.Series(('Aa', ) * 4 + ('Bb', ) * 4 + ('Cc', ) * 4 + ('Aa', ) * 4 + ('Bb', ) * 4 + ('Cc', ) * 4),\n",
    "        'categorical',\n",
    "    ),\n",
    "):\n",
    "    \n",
    "    target.name = 'Target'\n",
    "    \n",
    "    target.index = ('Column {}'.format(i) for i in range(n_column))\n",
    "\n",
    "    scores = make_summary_match_panel(\n",
    "        target,\n",
    "        features_dict,\n",
    "        target_type=target_type,\n",
    "    )\n",
    "\n",
    "    scores = make_summary_match_panel(\n",
    "        target,\n",
    "        features_dict,\n",
    "        target_type=target_type,\n",
    "        plot_only_columns_shared_by_target_and_all_features=True,\n",
    "    )"
   ]
  },
  {
   "cell_type": "code",
   "execution_count": null,
   "metadata": {
    "ExecuteTime": {
     "end_time": "2018-05-15T10:48:18.940485Z",
     "start_time": "2018-05-15T10:48:15.334405Z"
    },
    "scrolled": false
   },
   "outputs": [],
   "source": [
    "from match.make_comparison_panel import make_comparison_panel\n",
    "\n",
    "_2d_array_0 = np.random.random_sample(size=(\n",
    "    2,\n",
    "    8,\n",
    "))\n",
    "\n",
    "_2d_array_1 = np.random.random_sample(size=(\n",
    "    4,\n",
    "    8,\n",
    "))\n",
    "\n",
    "comparison = make_comparison_panel(\n",
    "    _2d_array_0,\n",
    "    _2d_array_1,\n",
    "    name_0='Name 0',\n",
    "    name_1='Name 1',\n",
    ")\n",
    "\n",
    "_2d_array_0 = np.random.random_sample(size=(\n",
    "    132,\n",
    "    108,\n",
    "))\n",
    "\n",
    "_2d_array_1 = np.random.random_sample(size=(\n",
    "    132,\n",
    "    116,\n",
    "))\n",
    "\n",
    "comparison = make_comparison_panel(\n",
    "    _2d_array_0,\n",
    "    _2d_array_1,\n",
    "    axis=1,\n",
    "    name_0='Name 0',\n",
    "    name_1='Name 1',\n",
    ")"
   ]
  },
  {
   "cell_type": "code",
   "execution_count": null,
   "metadata": {
    "ExecuteTime": {
     "end_time": "2018-05-15T10:48:36.611571Z",
     "start_time": "2018-05-15T10:48:18.964425Z"
    },
    "scrolled": false
   },
   "outputs": [],
   "source": [
    "for n_index, n_column in (\n",
    "    (\n",
    "        8,\n",
    "        2,\n",
    "    ),\n",
    "    (\n",
    "        8,\n",
    "        4,\n",
    "    ),\n",
    "    (\n",
    "        8,\n",
    "        16,\n",
    "    ),\n",
    "    (\n",
    "        8,\n",
    "        32,\n",
    "    ),\n",
    "    (\n",
    "        8,\n",
    "        160,\n",
    "    ),\n",
    "    (\n",
    "        8,\n",
    "        320,\n",
    "    ),\n",
    "    (\n",
    "        8,\n",
    "        1600,\n",
    "    ),\n",
    "    (\n",
    "        8,\n",
    "        3200,\n",
    "    ),\n",
    "    (\n",
    "        1,\n",
    "        8,\n",
    "    ),\n",
    "    (\n",
    "        2,\n",
    "        8,\n",
    "    ),\n",
    "    (\n",
    "        4,\n",
    "        8,\n",
    "    ),\n",
    "    (\n",
    "        16,\n",
    "        8,\n",
    "    ),\n",
    "    (\n",
    "        32,\n",
    "        8,\n",
    "    ),\n",
    "    (\n",
    "        64,\n",
    "        8,\n",
    "    ),\n",
    "    (\n",
    "        128,\n",
    "        8,\n",
    "    ),\n",
    "    (\n",
    "        320,\n",
    "        8,\n",
    "    ),\n",
    "    (\n",
    "        640,\n",
    "        8,\n",
    "    ),\n",
    "):\n",
    "\n",
    "    target = pd.Series(\n",
    "        np.random.random_sample(size=n_column),\n",
    "        name='Target',\n",
    "        index=('Column {}'.format(i) for i in range(n_column)),\n",
    "    )\n",
    "\n",
    "    features = pd.DataFrame(\n",
    "        np.random.random_sample(size=(\n",
    "            n_index,\n",
    "            n_column,\n",
    "        )),\n",
    "        index=('Index {}'.format(i) for i in range(n_index)),\n",
    "        columns=('Column {}'.format(i) for i in range(n_column)),\n",
    "    )\n",
    "\n",
    "    scores = pd.DataFrame(\n",
    "        np.random.random_sample(size=(\n",
    "            features.shape[0],\n",
    "            4,\n",
    "        )),\n",
    "        index=('Index {}'.format(i) for i in range(n_index)),\n",
    "        columns=(\n",
    "            'Score',\n",
    "            '0.95 MoE',\n",
    "            'P-Value',\n",
    "            'FDR',\n",
    "        ),\n",
    "    )\n",
    "\n",
    "    scores = make_match_panel(\n",
    "        target,\n",
    "        features,\n",
    "        scores=scores,\n",
    "        extreme_feature_threshold=None,\n",
    "        title='{}-x-{} Match Panel'.format(\n",
    "            n_index,\n",
    "            n_column,\n",
    "        ))"
   ]
  }
 ],
 "metadata": {
  "kernelspec": {
   "display_name": "Python 3",
   "language": "python",
   "name": "python3"
  },
  "language_info": {
   "codemirror_mode": {
    "name": "ipython",
    "version": 3
   },
   "file_extension": ".py",
   "mimetype": "text/x-python",
   "name": "python",
   "nbconvert_exporter": "python",
   "pygments_lexer": "ipython3",
   "version": "3.6.5"
  }
 },
 "nbformat": 4,
 "nbformat_minor": 2
}
