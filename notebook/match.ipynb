{
 "cells": [
  {
   "cell_type": "code",
   "execution_count": 1,
   "metadata": {
    "ExecuteTime": {
     "end_time": "2018-05-15T10:46:32.980916Z",
     "start_time": "2018-05-15T10:46:32.921267Z"
    }
   },
   "outputs": [],
   "source": [
    "%load_ext autoreload\n",
    "\n",
    "%autoreload 2"
   ]
  },
  {
   "cell_type": "code",
   "execution_count": 2,
   "metadata": {},
   "outputs": [],
   "source": [
    "import sys\n",
    "\n",
    "sys.path.insert(\n",
    "    0,\n",
    "    '..',\n",
    ")"
   ]
  },
  {
   "cell_type": "code",
   "execution_count": 3,
   "metadata": {
    "ExecuteTime": {
     "end_time": "2018-05-15T10:46:33.631773Z",
     "start_time": "2018-05-15T10:46:32.984336Z"
    }
   },
   "outputs": [],
   "source": [
    "import numpy as np\n",
    "import pandas as pd"
   ]
  },
  {
   "cell_type": "code",
   "execution_count": 4,
   "metadata": {
    "ExecuteTime": {
     "end_time": "2018-05-15T10:46:33.663868Z",
     "start_time": "2018-05-15T10:46:33.635143Z"
    }
   },
   "outputs": [],
   "source": [
    "np.random.seed(20121020)"
   ]
  },
  {
   "cell_type": "code",
   "execution_count": 5,
   "metadata": {
    "ExecuteTime": {
     "end_time": "2018-05-15T10:46:36.617163Z",
     "start_time": "2018-05-15T10:46:33.667703Z"
    }
   },
   "outputs": [],
   "source": [
    "from match.make_match_panel import make_match_panel"
   ]
  },
  {
   "cell_type": "code",
   "execution_count": 6,
   "metadata": {},
   "outputs": [
    {
     "name": "stdout",
     "output_type": "stream",
     "text": [
      "target.index (5) & features.columns (5) have 5 in common.\n",
      "Computing score using compute_information_coefficient with 1 process ...\n"
     ]
    },
    {
     "name": "stderr",
     "output_type": "stream",
     "text": [
      "../match/make_match_panel.py:163: UserWarning:\n",
      "\n",
      "Not clustering because a category has less than 2 values.\n",
      "\n"
     ]
    },
    {
     "data": {
      "0": {
       "colorscale": [
        [
         0,
         "#20d9ba"
        ],
        [
         0.5,
         "#9017e6"
        ],
        [
         1,
         "#ff1968"
        ]
       ],
       "showscale": false,
       "text": [
        [
         "Sample 0",
         "Sample 1",
         "Sample 2",
         "Sample 3",
         "Sample 4"
        ]
       ],
       "type": "heatmap",
       "uid": "71b55764-aa42-11e8-a9a1-9cb6d02202bb",
       "x": [
        "Sample 0",
        "Sample 1",
        "Sample 2",
        "Sample 3",
        "Sample 4"
       ],
       "y": [
        "Target"
       ],
       "yaxis": "y2",
       "z": [
        [
         1,
         2,
         8,
         2,
         1
        ]
       ],
       "zauto": true,
       "zmax": 8,
       "zmin": 1
      },
      "1": {
       "colorscale": [
        [
         0,
         "#4242ff"
        ],
        [
         0.00392156862745098,
         "#4241ff"
        ],
        [
         0.00784313725490196,
         "#4240ff"
        ],
        [
         0.011764705882352941,
         "#423fff"
        ],
        [
         0.01568627450980392,
         "#423eff"
        ],
        [
         0.0196078431372549,
         "#423dff"
        ],
        [
         0.023529411764705882,
         "#423cff"
        ],
        [
         0.027450980392156862,
         "#423bff"
        ],
        [
         0.03137254901960784,
         "#423aff"
        ],
        [
         0.03529411764705882,
         "#4239ff"
        ],
        [
         0.0392156862745098,
         "#4238ff"
        ],
        [
         0.043137254901960784,
         "#4237ff"
        ],
        [
         0.047058823529411764,
         "#4236ff"
        ],
        [
         0.050980392156862744,
         "#4235ff"
        ],
        [
         0.054901960784313725,
         "#4234ff"
        ],
        [
         0.058823529411764705,
         "#4233ff"
        ],
        [
         0.06274509803921569,
         "#4232ff"
        ],
        [
         0.06666666666666667,
         "#4231ff"
        ],
        [
         0.07058823529411765,
         "#4230ff"
        ],
        [
         0.07450980392156863,
         "#422fff"
        ],
        [
         0.0784313725490196,
         "#422eff"
        ],
        [
         0.08235294117647059,
         "#422dff"
        ],
        [
         0.08627450980392157,
         "#422cff"
        ],
        [
         0.09019607843137255,
         "#422bff"
        ],
        [
         0.09411764705882353,
         "#422aff"
        ],
        [
         0.09803921568627451,
         "#4229ff"
        ],
        [
         0.10196078431372549,
         "#4228ff"
        ],
        [
         0.10588235294117647,
         "#4228ff"
        ],
        [
         0.10980392156862745,
         "#4227ff"
        ],
        [
         0.11372549019607843,
         "#4226ff"
        ],
        [
         0.11764705882352941,
         "#4226ff"
        ],
        [
         0.12156862745098039,
         "#4225ff"
        ],
        [
         0.12549019607843137,
         "#4224ff"
        ],
        [
         0.12941176470588237,
         "#4224ff"
        ],
        [
         0.13333333333333333,
         "#4223ff"
        ],
        [
         0.13725490196078433,
         "#4222ff"
        ],
        [
         0.1411764705882353,
         "#4221ff"
        ],
        [
         0.1450980392156863,
         "#4221ff"
        ],
        [
         0.14901960784313725,
         "#4220ff"
        ],
        [
         0.15294117647058825,
         "#421fff"
        ],
        [
         0.1568627450980392,
         "#421fff"
        ],
        [
         0.1607843137254902,
         "#421eff"
        ],
        [
         0.16470588235294117,
         "#421dff"
        ],
        [
         0.16862745098039217,
         "#421dff"
        ],
        [
         0.17254901960784313,
         "#421cff"
        ],
        [
         0.17647058823529413,
         "#421bff"
        ],
        [
         0.1803921568627451,
         "#421aff"
        ],
        [
         0.1843137254901961,
         "#421aff"
        ],
        [
         0.18823529411764706,
         "#4219ff"
        ],
        [
         0.19215686274509805,
         "#4218ff"
        ],
        [
         0.19607843137254902,
         "#4218ff"
        ],
        [
         0.2,
         "#4217ff"
        ],
        [
         0.20392156862745098,
         "#4419ff"
        ],
        [
         0.20784313725490197,
         "#451aff"
        ],
        [
         0.21176470588235294,
         "#461cff"
        ],
        [
         0.21568627450980393,
         "#481eff"
        ],
        [
         0.2196078431372549,
         "#491fff"
        ],
        [
         0.2235294117647059,
         "#4a21ff"
        ],
        [
         0.22745098039215686,
         "#4b23ff"
        ],
        [
         0.23137254901960785,
         "#4d25ff"
        ],
        [
         0.23529411764705882,
         "#4e26ff"
        ],
        [
         0.23921568627450981,
         "#4f28ff"
        ],
        [
         0.24313725490196078,
         "#512aff"
        ],
        [
         0.24705882352941178,
         "#522bff"
        ],
        [
         0.25098039215686274,
         "#532dff"
        ],
        [
         0.2549019607843137,
         "#542fff"
        ],
        [
         0.25882352941176473,
         "#5630ff"
        ],
        [
         0.2627450980392157,
         "#5732ff"
        ],
        [
         0.26666666666666666,
         "#5834ff"
        ],
        [
         0.27058823529411763,
         "#5a36ff"
        ],
        [
         0.27450980392156865,
         "#5b37ff"
        ],
        [
         0.2784313725490196,
         "#5c39ff"
        ],
        [
         0.2823529411764706,
         "#5e3bff"
        ],
        [
         0.28627450980392155,
         "#5f3cff"
        ],
        [
         0.2901960784313726,
         "#603eff"
        ],
        [
         0.29411764705882354,
         "#6240ff"
        ],
        [
         0.2980392156862745,
         "#6341ff"
        ],
        [
         0.30196078431372547,
         "#6544ff"
        ],
        [
         0.3058823529411765,
         "#6849ff"
        ],
        [
         0.30980392156862746,
         "#6b4dff"
        ],
        [
         0.3137254901960784,
         "#6e51ff"
        ],
        [
         0.3176470588235294,
         "#7156ff"
        ],
        [
         0.3215686274509804,
         "#745aff"
        ],
        [
         0.3254901960784314,
         "#775eff"
        ],
        [
         0.32941176470588235,
         "#7a63ff"
        ],
        [
         0.3333333333333333,
         "#7d67ff"
        ],
        [
         0.33725490196078434,
         "#806bff"
        ],
        [
         0.3411764705882353,
         "#836fff"
        ],
        [
         0.34509803921568627,
         "#8674ff"
        ],
        [
         0.34901960784313724,
         "#8978ff"
        ],
        [
         0.35294117647058826,
         "#8c7cff"
        ],
        [
         0.3568627450980392,
         "#8f81ff"
        ],
        [
         0.3607843137254902,
         "#9285ff"
        ],
        [
         0.36470588235294116,
         "#9589ff"
        ],
        [
         0.3686274509803922,
         "#988eff"
        ],
        [
         0.37254901960784315,
         "#9b92ff"
        ],
        [
         0.3764705882352941,
         "#9e96ff"
        ],
        [
         0.3803921568627451,
         "#a19aff"
        ],
        [
         0.3843137254901961,
         "#a49fff"
        ],
        [
         0.38823529411764707,
         "#a7a3ff"
        ],
        [
         0.39215686274509803,
         "#aaa7ff"
        ],
        [
         0.396078431372549,
         "#adacff"
        ],
        [
         0.4,
         "#b0b0ff"
        ],
        [
         0.403921568627451,
         "#b3b3ff"
        ],
        [
         0.40784313725490196,
         "#b6b6ff"
        ],
        [
         0.4117647058823529,
         "#b9b9ff"
        ],
        [
         0.41568627450980394,
         "#bcbcff"
        ],
        [
         0.4196078431372549,
         "#bfbfff"
        ],
        [
         0.4235294117647059,
         "#c3c3ff"
        ],
        [
         0.42745098039215684,
         "#c6c6ff"
        ],
        [
         0.43137254901960786,
         "#c9c9ff"
        ],
        [
         0.43529411764705883,
         "#ccccff"
        ],
        [
         0.4392156862745098,
         "#cfcfff"
        ],
        [
         0.44313725490196076,
         "#d2d2ff"
        ],
        [
         0.4470588235294118,
         "#d5d5ff"
        ],
        [
         0.45098039215686275,
         "#d8d8ff"
        ],
        [
         0.4549019607843137,
         "#dbdbff"
        ],
        [
         0.4588235294117647,
         "#dedeff"
        ],
        [
         0.4627450980392157,
         "#e2e2ff"
        ],
        [
         0.4666666666666667,
         "#e5e5ff"
        ],
        [
         0.47058823529411764,
         "#e8e8ff"
        ],
        [
         0.4745098039215686,
         "#ebebff"
        ],
        [
         0.47843137254901963,
         "#eeeeff"
        ],
        [
         0.4823529411764706,
         "#f1f1ff"
        ],
        [
         0.48627450980392156,
         "#f4f4ff"
        ],
        [
         0.49019607843137253,
         "#f7f7ff"
        ],
        [
         0.49411764705882355,
         "#fafaff"
        ],
        [
         0.4980392156862745,
         "#fdfdff"
        ],
        [
         0.5019607843137255,
         "#fffdfd"
        ],
        [
         0.5058823529411764,
         "#fffafa"
        ],
        [
         0.5098039215686274,
         "#fff7f7"
        ],
        [
         0.5137254901960784,
         "#fff4f4"
        ],
        [
         0.5176470588235295,
         "#fff1f1"
        ],
        [
         0.5215686274509804,
         "#ffeeee"
        ],
        [
         0.5254901960784314,
         "#ffebeb"
        ],
        [
         0.5294117647058824,
         "#ffe8e8"
        ],
        [
         0.5333333333333333,
         "#ffe5e5"
        ],
        [
         0.5372549019607843,
         "#ffe2e2"
        ],
        [
         0.5411764705882353,
         "#ffdede"
        ],
        [
         0.5450980392156862,
         "#ffdbdb"
        ],
        [
         0.5490196078431373,
         "#ffd8d8"
        ],
        [
         0.5529411764705883,
         "#ffd5d5"
        ],
        [
         0.5568627450980392,
         "#ffd2d2"
        ],
        [
         0.5607843137254902,
         "#ffcfcf"
        ],
        [
         0.5647058823529412,
         "#ffcccc"
        ],
        [
         0.5686274509803921,
         "#ffc9c9"
        ],
        [
         0.5725490196078431,
         "#ffc6c6"
        ],
        [
         0.5764705882352941,
         "#ffc3c3"
        ],
        [
         0.5803921568627451,
         "#ffbfbf"
        ],
        [
         0.5843137254901961,
         "#ffbcbc"
        ],
        [
         0.5882352941176471,
         "#ffb9b9"
        ],
        [
         0.592156862745098,
         "#ffb6b6"
        ],
        [
         0.596078431372549,
         "#ffb3b3"
        ],
        [
         0.6,
         "#ffb0b0"
        ],
        [
         0.6039215686274509,
         "#ffacad"
        ],
        [
         0.6078431372549019,
         "#ffa7aa"
        ],
        [
         0.611764705882353,
         "#ffa3a7"
        ],
        [
         0.615686274509804,
         "#ff9fa4"
        ],
        [
         0.6196078431372549,
         "#ff9aa1"
        ],
        [
         0.6235294117647059,
         "#ff969e"
        ],
        [
         0.6274509803921569,
         "#ff929b"
        ],
        [
         0.6313725490196078,
         "#ff8e98"
        ],
        [
         0.6352941176470588,
         "#ff8995"
        ],
        [
         0.6392156862745098,
         "#ff8592"
        ],
        [
         0.6431372549019608,
         "#ff818f"
        ],
        [
         0.6470588235294118,
         "#ff7c8c"
        ],
        [
         0.6509803921568628,
         "#ff7889"
        ],
        [
         0.6549019607843137,
         "#ff7486"
        ],
        [
         0.6588235294117647,
         "#ff6f83"
        ],
        [
         0.6627450980392157,
         "#ff6b80"
        ],
        [
         0.6666666666666666,
         "#ff677d"
        ],
        [
         0.6705882352941176,
         "#ff637a"
        ],
        [
         0.6745098039215687,
         "#ff5e77"
        ],
        [
         0.6784313725490196,
         "#ff5a74"
        ],
        [
         0.6823529411764706,
         "#ff5671"
        ],
        [
         0.6862745098039216,
         "#ff516e"
        ],
        [
         0.6901960784313725,
         "#ff4d6b"
        ],
        [
         0.6941176470588235,
         "#ff4968"
        ],
        [
         0.6980392156862745,
         "#ff4465"
        ],
        [
         0.7019607843137254,
         "#ff4163"
        ],
        [
         0.7058823529411765,
         "#ff4062"
        ],
        [
         0.7098039215686275,
         "#ff3e60"
        ],
        [
         0.7137254901960784,
         "#ff3c5f"
        ],
        [
         0.7176470588235294,
         "#ff3b5e"
        ],
        [
         0.7215686274509804,
         "#ff395c"
        ],
        [
         0.7254901960784313,
         "#ff375b"
        ],
        [
         0.7294117647058823,
         "#ff365a"
        ],
        [
         0.7333333333333333,
         "#ff3458"
        ],
        [
         0.7372549019607844,
         "#ff3257"
        ],
        [
         0.7411764705882353,
         "#ff3056"
        ],
        [
         0.7450980392156863,
         "#ff2f55"
        ],
        [
         0.7490196078431373,
         "#ff2d53"
        ],
        [
         0.7529411764705882,
         "#ff2b52"
        ],
        [
         0.7568627450980392,
         "#ff2a51"
        ],
        [
         0.7607843137254902,
         "#ff284f"
        ],
        [
         0.7647058823529411,
         "#ff264e"
        ],
        [
         0.7686274509803922,
         "#ff254d"
        ],
        [
         0.7725490196078432,
         "#ff234b"
        ],
        [
         0.7764705882352941,
         "#ff214a"
        ],
        [
         0.7803921568627451,
         "#ff1f49"
        ],
        [
         0.7843137254901961,
         "#ff1e48"
        ],
        [
         0.788235294117647,
         "#ff1c46"
        ],
        [
         0.792156862745098,
         "#ff1a45"
        ],
        [
         0.796078431372549,
         "#ff1944"
        ],
        [
         0.8,
         "#ff1742"
        ],
        [
         0.803921568627451,
         "#ff1842"
        ],
        [
         0.807843137254902,
         "#ff1842"
        ],
        [
         0.8117647058823529,
         "#ff1942"
        ],
        [
         0.8156862745098039,
         "#ff1a42"
        ],
        [
         0.8196078431372549,
         "#ff1a42"
        ],
        [
         0.8235294117647058,
         "#ff1b42"
        ],
        [
         0.8274509803921568,
         "#ff1c42"
        ],
        [
         0.8313725490196079,
         "#ff1d42"
        ],
        [
         0.8352941176470589,
         "#ff1d42"
        ],
        [
         0.8392156862745098,
         "#ff1e42"
        ],
        [
         0.8431372549019608,
         "#ff1f42"
        ],
        [
         0.8470588235294118,
         "#ff1f42"
        ],
        [
         0.8509803921568627,
         "#ff2042"
        ],
        [
         0.8549019607843137,
         "#ff2142"
        ],
        [
         0.8588235294117647,
         "#ff2142"
        ],
        [
         0.8627450980392157,
         "#ff2242"
        ],
        [
         0.8666666666666667,
         "#ff2342"
        ],
        [
         0.8705882352941177,
         "#ff2442"
        ],
        [
         0.8745098039215686,
         "#ff2442"
        ],
        [
         0.8784313725490196,
         "#ff2542"
        ],
        [
         0.8823529411764706,
         "#ff2642"
        ],
        [
         0.8862745098039215,
         "#ff2642"
        ],
        [
         0.8901960784313725,
         "#ff2742"
        ],
        [
         0.8941176470588236,
         "#ff2842"
        ],
        [
         0.8980392156862745,
         "#ff2842"
        ],
        [
         0.9019607843137255,
         "#ff2942"
        ],
        [
         0.9058823529411765,
         "#ff2a42"
        ],
        [
         0.9098039215686274,
         "#ff2b42"
        ],
        [
         0.9137254901960784,
         "#ff2c42"
        ],
        [
         0.9176470588235294,
         "#ff2d42"
        ],
        [
         0.9215686274509803,
         "#ff2e42"
        ],
        [
         0.9254901960784314,
         "#ff2f42"
        ],
        [
         0.9294117647058824,
         "#ff3042"
        ],
        [
         0.9333333333333333,
         "#ff3142"
        ],
        [
         0.9372549019607843,
         "#ff3242"
        ],
        [
         0.9411764705882353,
         "#ff3342"
        ],
        [
         0.9450980392156862,
         "#ff3442"
        ],
        [
         0.9490196078431372,
         "#ff3542"
        ],
        [
         0.9529411764705882,
         "#ff3642"
        ],
        [
         0.9568627450980393,
         "#ff3742"
        ],
        [
         0.9607843137254902,
         "#ff3842"
        ],
        [
         0.9647058823529412,
         "#ff3942"
        ],
        [
         0.9686274509803922,
         "#ff3a42"
        ],
        [
         0.9725490196078431,
         "#ff3b42"
        ],
        [
         0.9764705882352941,
         "#ff3c42"
        ],
        [
         0.9803921568627451,
         "#ff3d42"
        ],
        [
         0.984313725490196,
         "#ff3e42"
        ],
        [
         0.9882352941176471,
         "#ff3f42"
        ],
        [
         0.9921568627450981,
         "#ff4042"
        ],
        [
         0.996078431372549,
         "#ff4142"
        ],
        [
         1,
         "#ff4242"
        ]
       ],
       "showscale": false,
       "type": "heatmap",
       "uid": "71b55765-aa42-11e8-a9a1-9cb6d02202bb",
       "x": [
        "Sample 0",
        "Sample 1",
        "Sample 2",
        "Sample 3",
        "Sample 4"
       ],
       "y": [
        "Index 7",
        "Index 5",
        "Index 0",
        "Index 4",
        "Index 2",
        "Index 3",
        "Index 1",
        "Index 6"
       ],
       "yaxis": "y",
       "z": [
        [
         0.7594705308363561,
         0.9522276880643292,
         -1.8287392796444595,
         -0.22899493443849214,
         0.3460359951822647
        ],
        [
         -0.5292872310953125,
         0.18313628988824462,
         -1.2499039990934402,
         1.7598903588061223,
         -0.16383541850561376
        ],
        [
         0.8361273418272807,
         0.5612786442928458,
         -0.8938609783635457,
         0.9851775993292541,
         -1.488722607085834
        ],
        [
         1.014294505375367,
         0.48763157762006515,
         -0.8633968510317166,
         0.8605888046737596,
         -1.4991180366374794
        ],
        [
         1.6253535696032213,
         -1.2658354945001955,
         -0.8084385429504665,
         0.19663395419164278,
         0.25228651365579763
        ],
        [
         -0.3241167509286527,
         -1.1413160143566703,
         -0.8585829411901159,
         0.8839279022654108,
         1.4400878042100278
        ],
        [
         -1.5431408544539351,
         1.2436761771591847,
         0.8432077139628297,
         -0.5983361992973574,
         0.054593162629277915
        ],
        [
         -0.415846278991357,
         -0.6834624890396586,
         1.9255369701189078,
         -0.8074057152505877,
         -0.018822486837304628
        ]
       ],
       "zauto": false,
       "zmax": 1.9255369701189078,
       "zmin": -1.8287392796444595
      },
      "image/png": "[encoded data removed]"
     },
     "metadata": {},
     "output_type": "display_data"
    },
    {
     "data": {
      "text/html": [
       "<div>\n",
       "<style scoped>\n",
       "    .dataframe tbody tr th:only-of-type {\n",
       "        vertical-align: middle;\n",
       "    }\n",
       "\n",
       "    .dataframe tbody tr th {\n",
       "        vertical-align: top;\n",
       "    }\n",
       "\n",
       "    .dataframe thead th {\n",
       "        text-align: right;\n",
       "    }\n",
       "</style>\n",
       "<table border=\"1\" class=\"dataframe\">\n",
       "  <thead>\n",
       "    <tr style=\"text-align: right;\">\n",
       "      <th></th>\n",
       "      <th>Score</th>\n",
       "      <th>0.95 MoE</th>\n",
       "      <th>P-Value</th>\n",
       "      <th>FDR</th>\n",
       "    </tr>\n",
       "  </thead>\n",
       "  <tbody>\n",
       "    <tr>\n",
       "      <th>Index 6</th>\n",
       "      <td>0.746456</td>\n",
       "      <td>NaN</td>\n",
       "      <td>NaN</td>\n",
       "      <td>NaN</td>\n",
       "    </tr>\n",
       "    <tr>\n",
       "      <th>Index 1</th>\n",
       "      <td>0.401875</td>\n",
       "      <td>NaN</td>\n",
       "      <td>NaN</td>\n",
       "      <td>NaN</td>\n",
       "    </tr>\n",
       "    <tr>\n",
       "      <th>Index 3</th>\n",
       "      <td>-0.369932</td>\n",
       "      <td>NaN</td>\n",
       "      <td>NaN</td>\n",
       "      <td>NaN</td>\n",
       "    </tr>\n",
       "    <tr>\n",
       "      <th>Index 2</th>\n",
       "      <td>-0.404746</td>\n",
       "      <td>NaN</td>\n",
       "      <td>NaN</td>\n",
       "      <td>NaN</td>\n",
       "    </tr>\n",
       "    <tr>\n",
       "      <th>Index 4</th>\n",
       "      <td>-0.410464</td>\n",
       "      <td>NaN</td>\n",
       "      <td>NaN</td>\n",
       "      <td>NaN</td>\n",
       "    </tr>\n",
       "    <tr>\n",
       "      <th>Index 0</th>\n",
       "      <td>-0.419548</td>\n",
       "      <td>NaN</td>\n",
       "      <td>NaN</td>\n",
       "      <td>NaN</td>\n",
       "    </tr>\n",
       "    <tr>\n",
       "      <th>Index 5</th>\n",
       "      <td>-0.434535</td>\n",
       "      <td>NaN</td>\n",
       "      <td>NaN</td>\n",
       "      <td>NaN</td>\n",
       "    </tr>\n",
       "    <tr>\n",
       "      <th>Index 7</th>\n",
       "      <td>-0.730849</td>\n",
       "      <td>NaN</td>\n",
       "      <td>NaN</td>\n",
       "      <td>NaN</td>\n",
       "    </tr>\n",
       "  </tbody>\n",
       "</table>\n",
       "</div>"
      ],
      "text/plain": [
       "            Score 0.95 MoE P-Value  FDR\n",
       "Index 6  0.746456      NaN     NaN  NaN\n",
       "Index 1  0.401875      NaN     NaN  NaN\n",
       "Index 3 -0.369932      NaN     NaN  NaN\n",
       "Index 2 -0.404746      NaN     NaN  NaN\n",
       "Index 4 -0.410464      NaN     NaN  NaN\n",
       "Index 0 -0.419548      NaN     NaN  NaN\n",
       "Index 5 -0.434535      NaN     NaN  NaN\n",
       "Index 7 -0.730849      NaN     NaN  NaN"
      ]
     },
     "execution_count": 6,
     "metadata": {},
     "output_type": "execute_result"
    }
   ],
   "source": [
    "target = [\n",
    "    1,\n",
    "    2,\n",
    "    8,\n",
    "    2,\n",
    "    1,\n",
    "]\n",
    "\n",
    "target = pd.Series(\n",
    "    target, \n",
    "    name='Target',\n",
    "    index=('Sample {}'.format(i) for i in range(len(target))),\n",
    ")\n",
    "\n",
    "n_row = 8\n",
    "\n",
    "features = pd.DataFrame(\n",
    "    np.random.random_sample(size=(\n",
    "        n_row,\n",
    "        target.size,\n",
    "    )),\n",
    "    index=('Index {}'.format(i) for i in range(n_row)),\n",
    "    columns=target.index,\n",
    ")\n",
    "\n",
    "make_match_panel(\n",
    "    target,\n",
    "    features,\n",
    "    target_ascending=None,\n",
    "    target_type='categorical',\n",
    ")"
   ]
  },
  {
   "cell_type": "code",
   "execution_count": null,
   "metadata": {
    "ExecuteTime": {
     "end_time": "2018-05-15T10:47:59.764349Z",
     "start_time": "2018-05-15T10:46:36.621876Z"
    },
    "scrolled": false
   },
   "outputs": [
    {
     "name": "stdout",
     "output_type": "stream",
     "text": [
      "target.index (28) & features.columns (28) have 28 in common.\n",
      "Computing score using compute_information_coefficient with 1 process ...\n"
     ]
    }
   ],
   "source": [
    "target = pd.read_table(\n",
    "    'target_0.tsv',\n",
    "    index_col=0,\n",
    "    squeeze=True,\n",
    ")\n",
    "\n",
    "features = pd.read_table(\n",
    "    'features_0.tsv',\n",
    "    index_col=0,\n",
    ")\n",
    "\n",
    "scores = make_match_panel(\n",
    "    target,\n",
    "    features,\n",
    "    n_sampling=3,\n",
    "    n_permutation=1,\n",
    "    target_type='binary',\n",
    ")\n",
    "\n",
    "scores"
   ]
  },
  {
   "cell_type": "code",
   "execution_count": null,
   "metadata": {
    "ExecuteTime": {
     "end_time": "2018-05-15T10:48:04.273823Z",
     "start_time": "2018-05-15T10:47:59.781185Z"
    },
    "scrolled": false
   },
   "outputs": [],
   "source": [
    "n_index = 8\n",
    "\n",
    "n_column = 24\n",
    "\n",
    "features = pd.DataFrame(\n",
    "    np.random.random_sample(size=(\n",
    "        n_index,\n",
    "        n_column,\n",
    "    )),\n",
    "    index=('Index {}'.format(i) for i in range(n_index)),\n",
    "    columns=('Column {}'.format(i) for i in range(n_column)),\n",
    ")\n",
    "\n",
    "for target in (\n",
    "        pd.Series((0, ) * 1 + (1, ) * 15 + (2, ) * 8),\n",
    "        pd.Series((0, ) * 8 + (2, ) * 8 + (1, ) * 8),\n",
    "        pd.Series(('Aa', ) * 4 + ('Bb', ) * 4 + ('Cc', ) * 4 + ('Aa', ) * 4 + ('Bb', ) * 4 + ('Cc', ) * 4),\n",
    "):\n",
    "    \n",
    "    target.name = 'Target'\n",
    "    \n",
    "    target.index = ('Column {}'.format(i) for i in range(n_column))\n",
    "\n",
    "    scores = make_match_panel(\n",
    "        target,\n",
    "        features,\n",
    "        target_ascending=True,\n",
    "        n_sampling=3,\n",
    "        n_permutation=1,\n",
    "        target_type='categorical',\n",
    "    )"
   ]
  },
  {
   "cell_type": "code",
   "execution_count": null,
   "metadata": {
    "ExecuteTime": {
     "end_time": "2018-05-15T10:48:05.570577Z",
     "start_time": "2018-05-15T10:48:04.281086Z"
    },
    "scrolled": false
   },
   "outputs": [],
   "source": [
    "n_index = 8\n",
    "\n",
    "n_column = 24\n",
    "\n",
    "target = pd.Series(\n",
    "    np.random.random_sample(size=n_column + 1),\n",
    "    name='Target',\n",
    "    index=('Column {}'.format(i) for i in range(n_column + 1)),\n",
    ")\n",
    "\n",
    "features = pd.DataFrame(\n",
    "    np.random.random_sample(size=(\n",
    "        n_index,\n",
    "        n_column,\n",
    "    )),\n",
    "    index=('ABCDEFGHIJKLMNOPQ{}'.format(i) for i in range(n_index)),\n",
    "    columns=('Column {}'.format(i) for i in range(n_column)),\n",
    ")\n",
    "\n",
    "features.iloc[0] = 0\n",
    "\n",
    "features.loc[np.random.choice(\n",
    "    features.index,\n",
    "    size=features.index.size // 8 * 7,\n",
    "    replace=False,\n",
    "), np.random.choice(\n",
    "    features.columns,\n",
    "    size=features.columns.size // 8 * 7,\n",
    "    replace=False,\n",
    ")] = np.nan\n",
    "\n",
    "scores = make_match_panel(\n",
    "    target,\n",
    "    features,\n",
    "    target_ascending=None,\n",
    "    n_sampling=3,\n",
    "    n_permutation=1,\n",
    ")\n",
    "\n",
    "scores"
   ]
  },
  {
   "cell_type": "code",
   "execution_count": null,
   "metadata": {
    "ExecuteTime": {
     "end_time": "2018-05-15T10:48:08.065933Z",
     "start_time": "2018-05-15T10:48:05.590942Z"
    },
    "scrolled": false
   },
   "outputs": [],
   "source": [
    "n_index = 8\n",
    "\n",
    "n_column = 80\n",
    "\n",
    "target = pd.Series(\n",
    "    np.random.random_sample(size=n_column),\n",
    "    name='Target',\n",
    "    index=('Column {}'.format(i) for i in range(n_column)),\n",
    ")\n",
    "\n",
    "features = pd.DataFrame(\n",
    "    np.random.random_sample(size=(\n",
    "        n_index,\n",
    "        n_column,\n",
    "    )),\n",
    "    index=('Index {}'.format(i) for i in range(n_index)),\n",
    "    columns=('Column {}'.format(i) for i in range(n_column)),\n",
    ")\n",
    "\n",
    "scores = make_match_panel(\n",
    "    target,\n",
    "    features,\n",
    "    plot_target_std_max=1,\n",
    "    plot_features_std_max=2,\n",
    ")\n",
    "\n",
    "features = pd.DataFrame(\n",
    "    np.random.random_integers(\n",
    "        0,\n",
    "        8,\n",
    "        size=(\n",
    "            n_index,\n",
    "            n_column,\n",
    "        ),\n",
    "    ),\n",
    "    index=('Index {}'.format(i) for i in range(n_index)),\n",
    "    columns=('Column {}'.format(i) for i in range(n_column)),\n",
    ")\n",
    "\n",
    "scores = make_match_panel(\n",
    "    target,\n",
    "    features,\n",
    "    features_type='categorical',\n",
    ")\n",
    "\n",
    "features = pd.DataFrame(\n",
    "    np.random.random_integers(\n",
    "        0,\n",
    "        1,\n",
    "        size=(\n",
    "            n_index,\n",
    "            n_column,\n",
    "        ),\n",
    "    ),\n",
    "    index=('Index {}'.format(i) for i in range(n_index)),\n",
    "    columns=('Column {}'.format(i) for i in range(n_column)),\n",
    ")\n",
    "\n",
    "scores = make_match_panel(\n",
    "    target,\n",
    "    features,\n",
    "    features_type='binary',\n",
    ")\n",
    "\n",
    "scores"
   ]
  },
  {
   "cell_type": "code",
   "execution_count": null,
   "metadata": {
    "ExecuteTime": {
     "end_time": "2018-05-15T10:48:15.310369Z",
     "start_time": "2018-05-15T10:48:08.080994Z"
    },
    "scrolled": false
   },
   "outputs": [],
   "source": [
    "from match.make_summary_match_panel import make_summary_match_panel\n",
    "\n",
    "n_index = 8\n",
    "\n",
    "n_column = 24\n",
    "\n",
    "features_continuous = pd.DataFrame(\n",
    "    np.random.random_sample(size=(\n",
    "        n_index,\n",
    "        n_column,\n",
    "    )),\n",
    "    index=('Continuous Index {}'.format(i) for i in range(n_index)),\n",
    "    columns=('Column {}'.format(i) for i in range(n_column)),\n",
    ")\n",
    "\n",
    "features_categorical = pd.DataFrame(\n",
    "    np.random.random_integers(\n",
    "        0,\n",
    "        8,\n",
    "        size=(\n",
    "            n_index,\n",
    "            n_column,\n",
    "        )),\n",
    "    index=('Categorical Index {}'.format(i) for i in range(n_index)),\n",
    "    columns=('Column {}'.format(i) for i in range(n_column)),\n",
    ")\n",
    "\n",
    "features_binary = pd.DataFrame(\n",
    "    np.random.random_integers(\n",
    "        0,\n",
    "        1,\n",
    "        size=(\n",
    "            n_index,\n",
    "            n_column,\n",
    "        )),\n",
    "    index=('Binary Index {}'.format(i) for i in range(n_index)),\n",
    "    columns=('Column {}'.format(i) for i in range(n_column)),\n",
    ")\n",
    "\n",
    "n = 3\n",
    "\n",
    "features_dict = {\n",
    "    'Continuous features': {\n",
    "        'df': features_continuous.iloc[:n, :],\n",
    "        'data_type': 'continuous',\n",
    "        'emphasis': 'high',\n",
    "        'indices': ['Continuous Index {}'.format(i) for i in range(n)],\n",
    "        'index_aliases': ['Alias {}'.format(i) for i in range(n)],\n",
    "    },\n",
    "    'Cotinuous features (missing last 10 & scores ascending)': {\n",
    "        'df': features_continuous.iloc[:n, :],\n",
    "        'data_type': 'continuous',\n",
    "        'emphasis': 'low',\n",
    "        'indices': ['Continuous Index {}'.format(i) for i in range(n)],\n",
    "        'index_aliases': ['Alias {}'.format(i) for i in range(n)],\n",
    "    },\n",
    "    'Cotinuous features (missing first 10 & scores ascending)': {\n",
    "        'df': features_continuous.iloc[:n, :],\n",
    "        'data_type': 'continuous',\n",
    "        'emphasis': 'low',\n",
    "        'indices': ['Continuous Index {}'.format(i) for i in range(n)],\n",
    "        'index_aliases': ['Alias {}'.format(i) for i in range(n)],\n",
    "    },\n",
    "    'Categorical features': {\n",
    "        'df': features_categorical.iloc[:n, :],\n",
    "        'data_type': 'categorical',\n",
    "        'emphasis': 'high',\n",
    "        'indices': ['Categorical Index {}'.format(i) for i in range(n)],\n",
    "        'index_aliases': ['Alias {}'.format(i) for i in range(n)],\n",
    "    },\n",
    "    'Binary features': {\n",
    "        'df': features_binary.iloc[:n, :],\n",
    "        'data_type': 'binary',\n",
    "        'emphasis': 'high',\n",
    "        'indices': ['Binary Index {}'.format(i) for i in range(n)],\n",
    "        'index_aliases': ['Alias {}'.format(i) for i in range(n)],\n",
    "    },\n",
    "}\n",
    "\n",
    "for target, target_type in (\n",
    "    (\n",
    "        pd.Series(np.random.random_sample(size=n_column)),\n",
    "        'continuous',\n",
    "    ),\n",
    "    (\n",
    "        pd.Series(('Aa', ) * 4 + ('Bb', ) * 4 + ('Cc', ) * 4 + ('Aa', ) * 4 + ('Bb', ) * 4 + ('Cc', ) * 4),\n",
    "        'categorical',\n",
    "    ),\n",
    "):\n",
    "    \n",
    "    target.name = 'Target'\n",
    "    \n",
    "    target.index = ('Column {}'.format(i) for i in range(n_column))\n",
    "\n",
    "    scores = make_summary_match_panel(\n",
    "        target,\n",
    "        features_dict,\n",
    "        target_type=target_type,\n",
    "    )\n",
    "\n",
    "    scores = make_summary_match_panel(\n",
    "        target,\n",
    "        features_dict,\n",
    "        target_type=target_type,\n",
    "        plot_only_columns_shared_by_target_and_all_features=True,\n",
    "    )"
   ]
  },
  {
   "cell_type": "code",
   "execution_count": null,
   "metadata": {
    "ExecuteTime": {
     "end_time": "2018-05-15T10:48:18.940485Z",
     "start_time": "2018-05-15T10:48:15.334405Z"
    },
    "scrolled": false
   },
   "outputs": [],
   "source": [
    "from match.make_comparison_panel import make_comparison_panel\n",
    "\n",
    "_2d_array_0 = np.random.random_sample(size=(\n",
    "    2,\n",
    "    8,\n",
    "))\n",
    "\n",
    "_2d_array_1 = np.random.random_sample(size=(\n",
    "    4,\n",
    "    8,\n",
    "))\n",
    "\n",
    "comparison = make_comparison_panel(\n",
    "    _2d_array_0,\n",
    "    _2d_array_1,\n",
    "    name_0='Name 0',\n",
    "    name_1='Name 1',\n",
    ")\n",
    "\n",
    "_2d_array_0 = np.random.random_sample(size=(\n",
    "    132,\n",
    "    108,\n",
    "))\n",
    "\n",
    "_2d_array_1 = np.random.random_sample(size=(\n",
    "    132,\n",
    "    116,\n",
    "))\n",
    "\n",
    "comparison = make_comparison_panel(\n",
    "    _2d_array_0,\n",
    "    _2d_array_1,\n",
    "    axis=1,\n",
    "    name_0='Name 0',\n",
    "    name_1='Name 1',\n",
    ")"
   ]
  },
  {
   "cell_type": "code",
   "execution_count": null,
   "metadata": {
    "ExecuteTime": {
     "end_time": "2018-05-15T10:48:36.611571Z",
     "start_time": "2018-05-15T10:48:18.964425Z"
    },
    "scrolled": false
   },
   "outputs": [],
   "source": [
    "for n_index, n_column in (\n",
    "    (\n",
    "        8,\n",
    "        2,\n",
    "    ),\n",
    "    (\n",
    "        8,\n",
    "        4,\n",
    "    ),\n",
    "    (\n",
    "        8,\n",
    "        16,\n",
    "    ),\n",
    "    (\n",
    "        8,\n",
    "        32,\n",
    "    ),\n",
    "    (\n",
    "        8,\n",
    "        160,\n",
    "    ),\n",
    "    (\n",
    "        8,\n",
    "        320,\n",
    "    ),\n",
    "    (\n",
    "        8,\n",
    "        1600,\n",
    "    ),\n",
    "    (\n",
    "        8,\n",
    "        3200,\n",
    "    ),\n",
    "    (\n",
    "        1,\n",
    "        8,\n",
    "    ),\n",
    "    (\n",
    "        2,\n",
    "        8,\n",
    "    ),\n",
    "    (\n",
    "        4,\n",
    "        8,\n",
    "    ),\n",
    "    (\n",
    "        16,\n",
    "        8,\n",
    "    ),\n",
    "    (\n",
    "        32,\n",
    "        8,\n",
    "    ),\n",
    "    (\n",
    "        64,\n",
    "        8,\n",
    "    ),\n",
    "    (\n",
    "        128,\n",
    "        8,\n",
    "    ),\n",
    "    (\n",
    "        320,\n",
    "        8,\n",
    "    ),\n",
    "    (\n",
    "        640,\n",
    "        8,\n",
    "    ),\n",
    "):\n",
    "\n",
    "    target = pd.Series(\n",
    "        np.random.random_sample(size=n_column),\n",
    "        name='Target',\n",
    "        index=('Column {}'.format(i) for i in range(n_column)),\n",
    "    )\n",
    "\n",
    "    features = pd.DataFrame(\n",
    "        np.random.random_sample(size=(\n",
    "            n_index,\n",
    "            n_column,\n",
    "        )),\n",
    "        index=('Index {}'.format(i) for i in range(n_index)),\n",
    "        columns=('Column {}'.format(i) for i in range(n_column)),\n",
    "    )\n",
    "\n",
    "    scores = pd.DataFrame(\n",
    "        np.random.random_sample(size=(\n",
    "            features.shape[0],\n",
    "            4,\n",
    "        )),\n",
    "        index=('Index {}'.format(i) for i in range(n_index)),\n",
    "        columns=(\n",
    "            'Score',\n",
    "            '0.95 MoE',\n",
    "            'P-Value',\n",
    "            'FDR',\n",
    "        ),\n",
    "    )\n",
    "\n",
    "    scores = make_match_panel(\n",
    "        target,\n",
    "        features,\n",
    "        scores=scores,\n",
    "        extreme_feature_threshold=None,\n",
    "        title='{}-x-{} Match Panel'.format(\n",
    "            n_index,\n",
    "            n_column,\n",
    "        ))"
   ]
  }
 ],
 "metadata": {
  "kernelspec": {
   "display_name": "Python 3",
   "language": "python",
   "name": "python3"
  },
  "language_info": {
   "codemirror_mode": {
    "name": "ipython",
    "version": 3
   },
   "file_extension": ".py",
   "mimetype": "text/x-python",
   "name": "python",
   "nbconvert_exporter": "python",
   "pygments_lexer": "ipython3",
   "version": "3.6.5"
  }
 },
 "nbformat": 4,
 "nbformat_minor": 2
}
