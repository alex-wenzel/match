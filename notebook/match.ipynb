{
 "cells": [
  {
   "cell_type": "code",
   "execution_count": 1,
   "metadata": {
    "ExecuteTime": {
     "end_time": "2018-05-15T10:46:32.980916Z",
     "start_time": "2018-05-15T10:46:32.921267Z"
    }
   },
   "outputs": [],
   "source": [
    "%load_ext autoreload\n",
    "\n",
    "%autoreload 2"
   ]
  },
  {
   "cell_type": "code",
   "execution_count": 2,
   "metadata": {},
   "outputs": [],
   "source": [
    "import sys\n",
    "\n",
    "\n",
    "sys.path.insert(\n",
    "    0,\n",
    "    '..',\n",
    ")"
   ]
  },
  {
   "cell_type": "code",
   "execution_count": 3,
   "metadata": {
    "ExecuteTime": {
     "end_time": "2018-05-15T10:46:33.663868Z",
     "start_time": "2018-05-15T10:46:33.635143Z"
    }
   },
   "outputs": [],
   "source": [
    "import numpy as np\n",
    "import pandas as pd\n",
    "\n",
    "np.random.seed(20121020)"
   ]
  },
  {
   "cell_type": "code",
   "execution_count": 4,
   "metadata": {},
   "outputs": [
    {
     "data": {
      "text/html": [
       "<script type=\"text/javascript\">window.PlotlyConfig = {MathJaxConfig: 'local'};</script><script type=\"text/javascript\">if (window.MathJax) {MathJax.Hub.Config({SVG: {font: \"STIX-Web\"}});}</script><script>requirejs.config({paths: { 'plotly': ['https://cdn.plot.ly/plotly-latest.min']},});if(!window._Plotly) {require(['plotly'],function(plotly) {window._Plotly=plotly;});}</script>"
      ],
      "text/vnd.plotly.v1+html": [
       "<script type=\"text/javascript\">window.PlotlyConfig = {MathJaxConfig: 'local'};</script><script type=\"text/javascript\">if (window.MathJax) {MathJax.Hub.Config({SVG: {font: \"STIX-Web\"}});}</script><script>requirejs.config({paths: { 'plotly': ['https://cdn.plot.ly/plotly-latest.min']},});if(!window._Plotly) {require(['plotly'],function(plotly) {window._Plotly=plotly;});}</script>"
      ]
     },
     "metadata": {},
     "output_type": "display_data"
    }
   ],
   "source": [
    "import plotly as pl\n",
    "\n",
    "\n",
    "pl.offline.init_notebook_mode(connected=True)"
   ]
  },
  {
   "cell_type": "code",
   "execution_count": null,
   "metadata": {
    "scrolled": true
   },
   "outputs": [],
   "source": [
    "from match.make_comparison_panel import make_comparison_panel\n",
    "\n",
    "\n",
    "_2d_array_0 = np.random.random_sample(size=(\n",
    "    8,\n",
    "    2,\n",
    "))\n",
    "\n",
    "_2d_array_1 = np.random.random_sample(size=(\n",
    "    8,\n",
    "    4,\n",
    "))\n",
    "\n",
    "comparison = make_comparison_panel(\n",
    "    _2d_array_0,\n",
    "    _2d_array_1,\n",
    "    name_0='Name 0',\n",
    "    name_1='Name 1',\n",
    ")\n",
    "\n",
    "_2d_array_0 = np.random.random_sample(size=(\n",
    "    2,\n",
    "    16,\n",
    "))\n",
    "\n",
    "_2d_array_1 = np.random.random_sample(size=(\n",
    "    8,\n",
    "    16,\n",
    "))\n",
    "\n",
    "comparison = make_comparison_panel(\n",
    "    _2d_array_0,\n",
    "    _2d_array_1,\n",
    "    axis=1,\n",
    "    name_0='Name 0',\n",
    "    name_1='Name 1',\n",
    ")"
   ]
  },
  {
   "cell_type": "code",
   "execution_count": 17,
   "metadata": {
    "ExecuteTime": {
     "end_time": "2018-05-15T10:46:36.617163Z",
     "start_time": "2018-05-15T10:46:33.667703Z"
    }
   },
   "outputs": [],
   "source": [
    "from match.make_match_panel import make_match_panel"
   ]
  },
  {
   "cell_type": "code",
   "execution_count": null,
   "metadata": {
    "ExecuteTime": {
     "end_time": "2018-05-15T10:46:36.617163Z",
     "start_time": "2018-05-15T10:46:33.667703Z"
    }
   },
   "outputs": [],
   "source": [
    "for n_index, n_column in (\n",
    "    (\n",
    "        8,\n",
    "        2,\n",
    "    ),\n",
    "    (\n",
    "        8,\n",
    "        4,\n",
    "    ),\n",
    "    (\n",
    "        8,\n",
    "        16,\n",
    "    ),\n",
    "    (\n",
    "        8,\n",
    "        32,\n",
    "    ),\n",
    "    (\n",
    "        8,\n",
    "        160,\n",
    "    ),\n",
    "    (\n",
    "        8,\n",
    "        320,\n",
    "    ),\n",
    "    (\n",
    "        8,\n",
    "        1600,\n",
    "    ),\n",
    "    (\n",
    "        8,\n",
    "        3200,\n",
    "    ),\n",
    "    (\n",
    "        1,\n",
    "        8,\n",
    "    ),\n",
    "    (\n",
    "        2,\n",
    "        8,\n",
    "    ),\n",
    "    (\n",
    "        4,\n",
    "        8,\n",
    "    ),\n",
    "    (\n",
    "        16,\n",
    "        8,\n",
    "    ),\n",
    "    (\n",
    "        32,\n",
    "        8,\n",
    "    ),\n",
    "    (\n",
    "        64,\n",
    "        8,\n",
    "    ),\n",
    "    (\n",
    "        128,\n",
    "        8,\n",
    "    ),\n",
    "    (\n",
    "        320,\n",
    "        8,\n",
    "    ),\n",
    "    (\n",
    "        640,\n",
    "        8,\n",
    "    ),\n",
    "):\n",
    "\n",
    "    target = pd.Series(\n",
    "        np.random.random_sample(size=n_column),\n",
    "        name='Target',\n",
    "        index=('Column {}'.format(i) for i in range(n_column)),\n",
    "    )\n",
    "\n",
    "    features = pd.DataFrame(\n",
    "        np.random.random_sample(size=(\n",
    "            n_index,\n",
    "            n_column,\n",
    "        )),\n",
    "        index=('Index {}'.format(i) for i in range(n_index)),\n",
    "        columns=('Column {}'.format(i) for i in range(n_column)),\n",
    "    )\n",
    "    \n",
    "    score_moe_p_value_fdr = pd.DataFrame(\n",
    "        np.random.random_sample(size=(\n",
    "            features.shape[0],\n",
    "            4,\n",
    "        )),\n",
    "        index=('Index {}'.format(i) for i in range(n_index)),\n",
    "        columns=(\n",
    "            'Score',\n",
    "            '0.95 MoE',\n",
    "            'P-Value',\n",
    "            'FDR',\n",
    "        ),\n",
    "    )\n",
    "\n",
    "    score_moe_p_value_fdr = make_match_panel(\n",
    "        target,\n",
    "        features,\n",
    "        score_moe_p_value_fdr=score_moe_p_value_fdr,\n",
    "        extreme_feature_threshold=None,\n",
    "        title='{}-x-{} Match Panel'.format(\n",
    "            n_index,\n",
    "            n_column,\n",
    "        ),\n",
    "    )"
   ]
  },
  {
   "cell_type": "code",
   "execution_count": 23,
   "metadata": {
    "scrolled": true
   },
   "outputs": [
    {
     "name": "stdout",
     "output_type": "stream",
     "text": [
      "target.index (2) & features.columns (2) have 2 in common.\n",
      "Computing score using compute_information_coefficient with 1 process ...\n",
      "Computing MoE with 0 sampling ...\n",
      "[]\n"
     ]
    },
    {
     "name": "stderr",
     "output_type": "stream",
     "text": [
      "/home/kwatme/miniconda3/lib/python3.6/site-packages/numpy/core/_methods.py:140: RuntimeWarning:\n",
      "\n",
      "Degrees of freedom <= 0 for slice\n",
      "\n",
      "/home/kwatme/miniconda3/lib/python3.6/site-packages/numpy/core/_methods.py:110: RuntimeWarning:\n",
      "\n",
      "invalid value encountered in true_divide\n",
      "\n",
      "/home/kwatme/miniconda3/lib/python3.6/site-packages/numpy/core/_methods.py:132: RuntimeWarning:\n",
      "\n",
      "invalid value encountered in double_scalars\n",
      "\n"
     ]
    },
    {
     "name": "stdout",
     "output_type": "stream",
     "text": [
      "Computing p-value and FDR with 1 permutation ...\n"
     ]
    },
    {
     "name": "stderr",
     "output_type": "stream",
     "text": [
      "../match/make_match_panel.py:137: UserWarning:\n",
      "\n",
      "Not clustering because a category has less than 2 values.\n",
      "\n"
     ]
    },
    {
     "data": {
      "application/vnd.plotly.v1+json": {
       "data": [
        {
         "colorscale": [
          [
           0,
           "#ebf6f7"
          ],
          [
           1,
           "#171412"
          ]
         ],
         "showscale": false,
         "text": [
          [
           "Sample 0",
           "Sample 1"
          ]
         ],
         "type": "heatmap",
         "uid": "24f4d107-0e8a-454a-abc8-65346726868a",
         "x": [
          "Sample 0",
          "Sample 1"
         ],
         "y": [
          "Target"
         ],
         "yaxis": "y2",
         "z": [
          [
           0,
           2
          ]
         ]
        },
        {
         "colorscale": [
          [
           0,
           "#4242ff"
          ],
          [
           0.00392156862745098,
           "#4241ff"
          ],
          [
           0.00784313725490196,
           "#4240ff"
          ],
          [
           0.011764705882352941,
           "#423fff"
          ],
          [
           0.01568627450980392,
           "#423eff"
          ],
          [
           0.0196078431372549,
           "#423dff"
          ],
          [
           0.023529411764705882,
           "#423cff"
          ],
          [
           0.027450980392156862,
           "#423bff"
          ],
          [
           0.03137254901960784,
           "#423aff"
          ],
          [
           0.03529411764705882,
           "#4239ff"
          ],
          [
           0.0392156862745098,
           "#4238ff"
          ],
          [
           0.043137254901960784,
           "#4237ff"
          ],
          [
           0.047058823529411764,
           "#4236ff"
          ],
          [
           0.050980392156862744,
           "#4235ff"
          ],
          [
           0.054901960784313725,
           "#4234ff"
          ],
          [
           0.058823529411764705,
           "#4233ff"
          ],
          [
           0.06274509803921569,
           "#4232ff"
          ],
          [
           0.06666666666666667,
           "#4231ff"
          ],
          [
           0.07058823529411765,
           "#4230ff"
          ],
          [
           0.07450980392156863,
           "#422fff"
          ],
          [
           0.0784313725490196,
           "#422eff"
          ],
          [
           0.08235294117647059,
           "#422dff"
          ],
          [
           0.08627450980392157,
           "#422cff"
          ],
          [
           0.09019607843137255,
           "#422bff"
          ],
          [
           0.09411764705882353,
           "#422aff"
          ],
          [
           0.09803921568627451,
           "#4229ff"
          ],
          [
           0.10196078431372549,
           "#4228ff"
          ],
          [
           0.10588235294117647,
           "#4228ff"
          ],
          [
           0.10980392156862745,
           "#4227ff"
          ],
          [
           0.11372549019607843,
           "#4226ff"
          ],
          [
           0.11764705882352941,
           "#4226ff"
          ],
          [
           0.12156862745098039,
           "#4225ff"
          ],
          [
           0.12549019607843137,
           "#4224ff"
          ],
          [
           0.12941176470588237,
           "#4224ff"
          ],
          [
           0.13333333333333333,
           "#4223ff"
          ],
          [
           0.13725490196078433,
           "#4222ff"
          ],
          [
           0.1411764705882353,
           "#4221ff"
          ],
          [
           0.1450980392156863,
           "#4221ff"
          ],
          [
           0.14901960784313725,
           "#4220ff"
          ],
          [
           0.15294117647058825,
           "#421fff"
          ],
          [
           0.1568627450980392,
           "#421fff"
          ],
          [
           0.1607843137254902,
           "#421eff"
          ],
          [
           0.16470588235294117,
           "#421dff"
          ],
          [
           0.16862745098039217,
           "#421dff"
          ],
          [
           0.17254901960784313,
           "#421cff"
          ],
          [
           0.17647058823529413,
           "#421bff"
          ],
          [
           0.1803921568627451,
           "#421aff"
          ],
          [
           0.1843137254901961,
           "#421aff"
          ],
          [
           0.18823529411764706,
           "#4219ff"
          ],
          [
           0.19215686274509805,
           "#4218ff"
          ],
          [
           0.19607843137254902,
           "#4218ff"
          ],
          [
           0.2,
           "#4217ff"
          ],
          [
           0.20392156862745098,
           "#4419ff"
          ],
          [
           0.20784313725490197,
           "#451aff"
          ],
          [
           0.21176470588235294,
           "#461cff"
          ],
          [
           0.21568627450980393,
           "#481eff"
          ],
          [
           0.2196078431372549,
           "#491fff"
          ],
          [
           0.2235294117647059,
           "#4a21ff"
          ],
          [
           0.22745098039215686,
           "#4b23ff"
          ],
          [
           0.23137254901960785,
           "#4d25ff"
          ],
          [
           0.23529411764705882,
           "#4e26ff"
          ],
          [
           0.23921568627450981,
           "#4f28ff"
          ],
          [
           0.24313725490196078,
           "#512aff"
          ],
          [
           0.24705882352941178,
           "#522bff"
          ],
          [
           0.25098039215686274,
           "#532dff"
          ],
          [
           0.2549019607843137,
           "#542fff"
          ],
          [
           0.25882352941176473,
           "#5630ff"
          ],
          [
           0.2627450980392157,
           "#5732ff"
          ],
          [
           0.26666666666666666,
           "#5834ff"
          ],
          [
           0.27058823529411763,
           "#5a36ff"
          ],
          [
           0.27450980392156865,
           "#5b37ff"
          ],
          [
           0.2784313725490196,
           "#5c39ff"
          ],
          [
           0.2823529411764706,
           "#5e3bff"
          ],
          [
           0.28627450980392155,
           "#5f3cff"
          ],
          [
           0.2901960784313726,
           "#603eff"
          ],
          [
           0.29411764705882354,
           "#6240ff"
          ],
          [
           0.2980392156862745,
           "#6341ff"
          ],
          [
           0.30196078431372547,
           "#6544ff"
          ],
          [
           0.3058823529411765,
           "#6849ff"
          ],
          [
           0.30980392156862746,
           "#6b4dff"
          ],
          [
           0.3137254901960784,
           "#6e51ff"
          ],
          [
           0.3176470588235294,
           "#7156ff"
          ],
          [
           0.3215686274509804,
           "#745aff"
          ],
          [
           0.3254901960784314,
           "#775eff"
          ],
          [
           0.32941176470588235,
           "#7a63ff"
          ],
          [
           0.3333333333333333,
           "#7d67ff"
          ],
          [
           0.33725490196078434,
           "#806bff"
          ],
          [
           0.3411764705882353,
           "#836fff"
          ],
          [
           0.34509803921568627,
           "#8674ff"
          ],
          [
           0.34901960784313724,
           "#8978ff"
          ],
          [
           0.35294117647058826,
           "#8c7cff"
          ],
          [
           0.3568627450980392,
           "#8f81ff"
          ],
          [
           0.3607843137254902,
           "#9285ff"
          ],
          [
           0.36470588235294116,
           "#9589ff"
          ],
          [
           0.3686274509803922,
           "#988eff"
          ],
          [
           0.37254901960784315,
           "#9b92ff"
          ],
          [
           0.3764705882352941,
           "#9e96ff"
          ],
          [
           0.3803921568627451,
           "#a19aff"
          ],
          [
           0.3843137254901961,
           "#a49fff"
          ],
          [
           0.38823529411764707,
           "#a7a3ff"
          ],
          [
           0.39215686274509803,
           "#aaa7ff"
          ],
          [
           0.396078431372549,
           "#adacff"
          ],
          [
           0.4,
           "#b0b0ff"
          ],
          [
           0.403921568627451,
           "#b3b3ff"
          ],
          [
           0.40784313725490196,
           "#b6b6ff"
          ],
          [
           0.4117647058823529,
           "#b9b9ff"
          ],
          [
           0.41568627450980394,
           "#bcbcff"
          ],
          [
           0.4196078431372549,
           "#bfbfff"
          ],
          [
           0.4235294117647059,
           "#c3c3ff"
          ],
          [
           0.42745098039215684,
           "#c6c6ff"
          ],
          [
           0.43137254901960786,
           "#c9c9ff"
          ],
          [
           0.43529411764705883,
           "#ccccff"
          ],
          [
           0.4392156862745098,
           "#cfcfff"
          ],
          [
           0.44313725490196076,
           "#d2d2ff"
          ],
          [
           0.4470588235294118,
           "#d5d5ff"
          ],
          [
           0.45098039215686275,
           "#d8d8ff"
          ],
          [
           0.4549019607843137,
           "#dbdbff"
          ],
          [
           0.4588235294117647,
           "#dedeff"
          ],
          [
           0.4627450980392157,
           "#e2e2ff"
          ],
          [
           0.4666666666666667,
           "#e5e5ff"
          ],
          [
           0.47058823529411764,
           "#e8e8ff"
          ],
          [
           0.4745098039215686,
           "#ebebff"
          ],
          [
           0.47843137254901963,
           "#eeeeff"
          ],
          [
           0.4823529411764706,
           "#f1f1ff"
          ],
          [
           0.48627450980392156,
           "#f4f4ff"
          ],
          [
           0.49019607843137253,
           "#f7f7ff"
          ],
          [
           0.49411764705882355,
           "#fafaff"
          ],
          [
           0.4980392156862745,
           "#fdfdff"
          ],
          [
           0.5019607843137255,
           "#fffdfd"
          ],
          [
           0.5058823529411764,
           "#fffafa"
          ],
          [
           0.5098039215686274,
           "#fff7f7"
          ],
          [
           0.5137254901960784,
           "#fff4f4"
          ],
          [
           0.5176470588235295,
           "#fff1f1"
          ],
          [
           0.5215686274509804,
           "#ffeeee"
          ],
          [
           0.5254901960784314,
           "#ffebeb"
          ],
          [
           0.5294117647058824,
           "#ffe8e8"
          ],
          [
           0.5333333333333333,
           "#ffe5e5"
          ],
          [
           0.5372549019607843,
           "#ffe2e2"
          ],
          [
           0.5411764705882353,
           "#ffdede"
          ],
          [
           0.5450980392156862,
           "#ffdbdb"
          ],
          [
           0.5490196078431373,
           "#ffd8d8"
          ],
          [
           0.5529411764705883,
           "#ffd5d5"
          ],
          [
           0.5568627450980392,
           "#ffd2d2"
          ],
          [
           0.5607843137254902,
           "#ffcfcf"
          ],
          [
           0.5647058823529412,
           "#ffcccc"
          ],
          [
           0.5686274509803921,
           "#ffc9c9"
          ],
          [
           0.5725490196078431,
           "#ffc6c6"
          ],
          [
           0.5764705882352941,
           "#ffc3c3"
          ],
          [
           0.5803921568627451,
           "#ffbfbf"
          ],
          [
           0.5843137254901961,
           "#ffbcbc"
          ],
          [
           0.5882352941176471,
           "#ffb9b9"
          ],
          [
           0.592156862745098,
           "#ffb6b6"
          ],
          [
           0.596078431372549,
           "#ffb3b3"
          ],
          [
           0.6,
           "#ffb0b0"
          ],
          [
           0.6039215686274509,
           "#ffacad"
          ],
          [
           0.6078431372549019,
           "#ffa7aa"
          ],
          [
           0.611764705882353,
           "#ffa3a7"
          ],
          [
           0.615686274509804,
           "#ff9fa4"
          ],
          [
           0.6196078431372549,
           "#ff9aa1"
          ],
          [
           0.6235294117647059,
           "#ff969e"
          ],
          [
           0.6274509803921569,
           "#ff929b"
          ],
          [
           0.6313725490196078,
           "#ff8e98"
          ],
          [
           0.6352941176470588,
           "#ff8995"
          ],
          [
           0.6392156862745098,
           "#ff8592"
          ],
          [
           0.6431372549019608,
           "#ff818f"
          ],
          [
           0.6470588235294118,
           "#ff7c8c"
          ],
          [
           0.6509803921568628,
           "#ff7889"
          ],
          [
           0.6549019607843137,
           "#ff7486"
          ],
          [
           0.6588235294117647,
           "#ff6f83"
          ],
          [
           0.6627450980392157,
           "#ff6b80"
          ],
          [
           0.6666666666666666,
           "#ff677d"
          ],
          [
           0.6705882352941176,
           "#ff637a"
          ],
          [
           0.6745098039215687,
           "#ff5e77"
          ],
          [
           0.6784313725490196,
           "#ff5a74"
          ],
          [
           0.6823529411764706,
           "#ff5671"
          ],
          [
           0.6862745098039216,
           "#ff516e"
          ],
          [
           0.6901960784313725,
           "#ff4d6b"
          ],
          [
           0.6941176470588235,
           "#ff4968"
          ],
          [
           0.6980392156862745,
           "#ff4465"
          ],
          [
           0.7019607843137254,
           "#ff4163"
          ],
          [
           0.7058823529411765,
           "#ff4062"
          ],
          [
           0.7098039215686275,
           "#ff3e60"
          ],
          [
           0.7137254901960784,
           "#ff3c5f"
          ],
          [
           0.7176470588235294,
           "#ff3b5e"
          ],
          [
           0.7215686274509804,
           "#ff395c"
          ],
          [
           0.7254901960784313,
           "#ff375b"
          ],
          [
           0.7294117647058823,
           "#ff365a"
          ],
          [
           0.7333333333333333,
           "#ff3458"
          ],
          [
           0.7372549019607844,
           "#ff3257"
          ],
          [
           0.7411764705882353,
           "#ff3056"
          ],
          [
           0.7450980392156863,
           "#ff2f55"
          ],
          [
           0.7490196078431373,
           "#ff2d53"
          ],
          [
           0.7529411764705882,
           "#ff2b52"
          ],
          [
           0.7568627450980392,
           "#ff2a51"
          ],
          [
           0.7607843137254902,
           "#ff284f"
          ],
          [
           0.7647058823529411,
           "#ff264e"
          ],
          [
           0.7686274509803922,
           "#ff254d"
          ],
          [
           0.7725490196078432,
           "#ff234b"
          ],
          [
           0.7764705882352941,
           "#ff214a"
          ],
          [
           0.7803921568627451,
           "#ff1f49"
          ],
          [
           0.7843137254901961,
           "#ff1e48"
          ],
          [
           0.788235294117647,
           "#ff1c46"
          ],
          [
           0.792156862745098,
           "#ff1a45"
          ],
          [
           0.796078431372549,
           "#ff1944"
          ],
          [
           0.8,
           "#ff1742"
          ],
          [
           0.803921568627451,
           "#ff1842"
          ],
          [
           0.807843137254902,
           "#ff1842"
          ],
          [
           0.8117647058823529,
           "#ff1942"
          ],
          [
           0.8156862745098039,
           "#ff1a42"
          ],
          [
           0.8196078431372549,
           "#ff1a42"
          ],
          [
           0.8235294117647058,
           "#ff1b42"
          ],
          [
           0.8274509803921568,
           "#ff1c42"
          ],
          [
           0.8313725490196079,
           "#ff1d42"
          ],
          [
           0.8352941176470589,
           "#ff1d42"
          ],
          [
           0.8392156862745098,
           "#ff1e42"
          ],
          [
           0.8431372549019608,
           "#ff1f42"
          ],
          [
           0.8470588235294118,
           "#ff1f42"
          ],
          [
           0.8509803921568627,
           "#ff2042"
          ],
          [
           0.8549019607843137,
           "#ff2142"
          ],
          [
           0.8588235294117647,
           "#ff2142"
          ],
          [
           0.8627450980392157,
           "#ff2242"
          ],
          [
           0.8666666666666667,
           "#ff2342"
          ],
          [
           0.8705882352941177,
           "#ff2442"
          ],
          [
           0.8745098039215686,
           "#ff2442"
          ],
          [
           0.8784313725490196,
           "#ff2542"
          ],
          [
           0.8823529411764706,
           "#ff2642"
          ],
          [
           0.8862745098039215,
           "#ff2642"
          ],
          [
           0.8901960784313725,
           "#ff2742"
          ],
          [
           0.8941176470588236,
           "#ff2842"
          ],
          [
           0.8980392156862745,
           "#ff2842"
          ],
          [
           0.9019607843137255,
           "#ff2942"
          ],
          [
           0.9058823529411765,
           "#ff2a42"
          ],
          [
           0.9098039215686274,
           "#ff2b42"
          ],
          [
           0.9137254901960784,
           "#ff2c42"
          ],
          [
           0.9176470588235294,
           "#ff2d42"
          ],
          [
           0.9215686274509803,
           "#ff2e42"
          ],
          [
           0.9254901960784314,
           "#ff2f42"
          ],
          [
           0.9294117647058824,
           "#ff3042"
          ],
          [
           0.9333333333333333,
           "#ff3142"
          ],
          [
           0.9372549019607843,
           "#ff3242"
          ],
          [
           0.9411764705882353,
           "#ff3342"
          ],
          [
           0.9450980392156862,
           "#ff3442"
          ],
          [
           0.9490196078431372,
           "#ff3542"
          ],
          [
           0.9529411764705882,
           "#ff3642"
          ],
          [
           0.9568627450980393,
           "#ff3742"
          ],
          [
           0.9607843137254902,
           "#ff3842"
          ],
          [
           0.9647058823529412,
           "#ff3942"
          ],
          [
           0.9686274509803922,
           "#ff3a42"
          ],
          [
           0.9725490196078431,
           "#ff3b42"
          ],
          [
           0.9764705882352941,
           "#ff3c42"
          ],
          [
           0.9803921568627451,
           "#ff3d42"
          ],
          [
           0.984313725490196,
           "#ff3e42"
          ],
          [
           0.9882352941176471,
           "#ff3f42"
          ],
          [
           0.9921568627450981,
           "#ff4042"
          ],
          [
           0.996078431372549,
           "#ff4142"
          ],
          [
           1,
           "#ff4242"
          ]
         ],
         "showscale": false,
         "type": "heatmap",
         "uid": "e9e8d9ef-f542-4ff3-a14b-18623b7854ad",
         "x": [
          "Sample 0",
          "Sample 1"
         ],
         "y": [
          "Index 3",
          "Index 5",
          "Index 2",
          "Index 7",
          "Index 0",
          "Index 6",
          "Index 4",
          "Index 1"
         ],
         "yaxis": "y",
         "z": [
          [
           1.0000000000000013,
           -0.9999999999999988
          ],
          [
           1,
           -1
          ],
          [
           1,
           -1
          ],
          [
           1,
           -1
          ],
          [
           0.9999999999999982,
           -1.0000000000000018
          ],
          [
           -1,
           1
          ],
          [
           -1,
           1
          ],
          [
           -1,
           1
          ]
         ],
         "zmax": 1.0000000000000013,
         "zmin": -1.0000000000000018
        }
       ],
       "layout": {
        "annotations": [
         {
          "font": {
           "size": 9.6
          },
          "showarrow": false,
          "text": "<b>Score</b>",
          "width": 64,
          "x": 1.0016,
          "xanchor": "left",
          "xref": "paper",
          "y": 0.95,
          "yanchor": "middle",
          "yref": "paper"
         },
         {
          "font": {
           "size": 9.6
          },
          "showarrow": false,
          "text": "<b>0.86</b>",
          "width": 64,
          "x": 1.0016,
          "xanchor": "left",
          "xref": "paper",
          "y": 0.75,
          "yanchor": "middle",
          "yref": "paper"
         },
         {
          "font": {
           "size": 9.6
          },
          "showarrow": false,
          "text": "<b>0.86</b>",
          "width": 64,
          "x": 1.0016,
          "xanchor": "left",
          "xref": "paper",
          "y": 0.65,
          "yanchor": "middle",
          "yref": "paper"
         },
         {
          "font": {
           "size": 9.6
          },
          "showarrow": false,
          "text": "<b>0.86</b>",
          "width": 64,
          "x": 1.0016,
          "xanchor": "left",
          "xref": "paper",
          "y": 0.55,
          "yanchor": "middle",
          "yref": "paper"
         },
         {
          "font": {
           "size": 9.6
          },
          "showarrow": false,
          "text": "<b>-0.86</b>",
          "width": 64,
          "x": 1.0016,
          "xanchor": "left",
          "xref": "paper",
          "y": 0.45000000000000007,
          "yanchor": "middle",
          "yref": "paper"
         },
         {
          "font": {
           "size": 9.6
          },
          "showarrow": false,
          "text": "<b>-0.86</b>",
          "width": 64,
          "x": 1.0016,
          "xanchor": "left",
          "xref": "paper",
          "y": 0.3500000000000001,
          "yanchor": "middle",
          "yref": "paper"
         },
         {
          "font": {
           "size": 9.6
          },
          "showarrow": false,
          "text": "<b>-0.86</b>",
          "width": 64,
          "x": 1.0016,
          "xanchor": "left",
          "xref": "paper",
          "y": 0.2500000000000001,
          "yanchor": "middle",
          "yref": "paper"
         },
         {
          "font": {
           "size": 9.6
          },
          "showarrow": false,
          "text": "<b>-0.86</b>",
          "width": 64,
          "x": 1.0016,
          "xanchor": "left",
          "xref": "paper",
          "y": 0.1500000000000001,
          "yanchor": "middle",
          "yref": "paper"
         },
         {
          "font": {
           "size": 9.6
          },
          "showarrow": false,
          "text": "<b>-0.86</b>",
          "width": 64,
          "x": 1.0016,
          "xanchor": "left",
          "xref": "paper",
          "y": 0.0500000000000001,
          "yanchor": "middle",
          "yref": "paper"
         },
         {
          "font": {
           "size": 9.6
          },
          "showarrow": false,
          "text": "<b>P-Value</b>",
          "width": 64,
          "x": 1.1016000000000001,
          "xanchor": "left",
          "xref": "paper",
          "y": 0.95,
          "yanchor": "middle",
          "yref": "paper"
         },
         {
          "font": {
           "size": 9.6
          },
          "showarrow": false,
          "text": "<b>0.38</b>",
          "width": 64,
          "x": 1.1016000000000001,
          "xanchor": "left",
          "xref": "paper",
          "y": 0.75,
          "yanchor": "middle",
          "yref": "paper"
         },
         {
          "font": {
           "size": 9.6
          },
          "showarrow": false,
          "text": "<b>0.38</b>",
          "width": 64,
          "x": 1.1016000000000001,
          "xanchor": "left",
          "xref": "paper",
          "y": 0.65,
          "yanchor": "middle",
          "yref": "paper"
         },
         {
          "font": {
           "size": 9.6
          },
          "showarrow": false,
          "text": "<b>0.38</b>",
          "width": 64,
          "x": 1.1016000000000001,
          "xanchor": "left",
          "xref": "paper",
          "y": 0.55,
          "yanchor": "middle",
          "yref": "paper"
         },
         {
          "font": {
           "size": 9.6
          },
          "showarrow": false,
          "text": "<b>0.38</b>",
          "width": 64,
          "x": 1.1016000000000001,
          "xanchor": "left",
          "xref": "paper",
          "y": 0.45000000000000007,
          "yanchor": "middle",
          "yref": "paper"
         },
         {
          "font": {
           "size": 9.6
          },
          "showarrow": false,
          "text": "<b>0.38</b>",
          "width": 64,
          "x": 1.1016000000000001,
          "xanchor": "left",
          "xref": "paper",
          "y": 0.3500000000000001,
          "yanchor": "middle",
          "yref": "paper"
         },
         {
          "font": {
           "size": 9.6
          },
          "showarrow": false,
          "text": "<b>0.38</b>",
          "width": 64,
          "x": 1.1016000000000001,
          "xanchor": "left",
          "xref": "paper",
          "y": 0.2500000000000001,
          "yanchor": "middle",
          "yref": "paper"
         },
         {
          "font": {
           "size": 9.6
          },
          "showarrow": false,
          "text": "<b>0.38</b>",
          "width": 64,
          "x": 1.1016000000000001,
          "xanchor": "left",
          "xref": "paper",
          "y": 0.1500000000000001,
          "yanchor": "middle",
          "yref": "paper"
         },
         {
          "font": {
           "size": 9.6
          },
          "showarrow": false,
          "text": "<b>0.12</b>",
          "width": 64,
          "x": 1.1016000000000001,
          "xanchor": "left",
          "xref": "paper",
          "y": 0.0500000000000001,
          "yanchor": "middle",
          "yref": "paper"
         },
         {
          "font": {
           "size": 9.6
          },
          "showarrow": false,
          "text": "<b>FDR</b>",
          "width": 64,
          "x": 1.2016,
          "xanchor": "left",
          "xref": "paper",
          "y": 0.95,
          "yanchor": "middle",
          "yref": "paper"
         },
         {
          "font": {
           "size": 9.6
          },
          "showarrow": false,
          "text": "<b>0.88</b>",
          "width": 64,
          "x": 1.2016,
          "xanchor": "left",
          "xref": "paper",
          "y": 0.75,
          "yanchor": "middle",
          "yref": "paper"
         },
         {
          "font": {
           "size": 9.6
          },
          "showarrow": false,
          "text": "<b>0.88</b>",
          "width": 64,
          "x": 1.2016,
          "xanchor": "left",
          "xref": "paper",
          "y": 0.65,
          "yanchor": "middle",
          "yref": "paper"
         },
         {
          "font": {
           "size": 9.6
          },
          "showarrow": false,
          "text": "<b>0.88</b>",
          "width": 64,
          "x": 1.2016,
          "xanchor": "left",
          "xref": "paper",
          "y": 0.55,
          "yanchor": "middle",
          "yref": "paper"
         },
         {
          "font": {
           "size": 9.6
          },
          "showarrow": false,
          "text": "<b>0.60</b>",
          "width": 64,
          "x": 1.2016,
          "xanchor": "left",
          "xref": "paper",
          "y": 0.45000000000000007,
          "yanchor": "middle",
          "yref": "paper"
         },
         {
          "font": {
           "size": 9.6
          },
          "showarrow": false,
          "text": "<b>0.60</b>",
          "width": 64,
          "x": 1.2016,
          "xanchor": "left",
          "xref": "paper",
          "y": 0.3500000000000001,
          "yanchor": "middle",
          "yref": "paper"
         },
         {
          "font": {
           "size": 9.6
          },
          "showarrow": false,
          "text": "<b>0.60</b>",
          "width": 64,
          "x": 1.2016,
          "xanchor": "left",
          "xref": "paper",
          "y": 0.2500000000000001,
          "yanchor": "middle",
          "yref": "paper"
         },
         {
          "font": {
           "size": 9.6
          },
          "showarrow": false,
          "text": "<b>0.60</b>",
          "width": 64,
          "x": 1.2016,
          "xanchor": "left",
          "xref": "paper",
          "y": 0.1500000000000001,
          "yanchor": "middle",
          "yref": "paper"
         },
         {
          "font": {
           "size": 9.6
          },
          "showarrow": false,
          "text": "<b>0.60</b>",
          "width": 64,
          "x": 1.2016,
          "xanchor": "left",
          "xref": "paper",
          "y": 0.0500000000000001,
          "yanchor": "middle",
          "yref": "paper"
         }
        ],
        "height": 512,
        "margin": {
         "l": 196,
         "r": 196
        },
        "title": "Match Panel",
        "width": 880,
        "xaxis": {
         "anchor": "y",
         "tickfont": {
          "size": 9.6
         }
        },
        "yaxis": {
         "domain": [
          0,
          0.8
         ],
         "dtick": 1,
         "tickfont": {
          "size": 9.6
         }
        },
        "yaxis2": {
         "domain": [
          0.9,
          1
         ],
         "tickfont": {
          "size": 9.6
         }
        }
       }
      },
      "text/html": [
       "<div id=\"e7546a1b-6c19-41fb-a470-2e6c2a842268\" style=\"height: 512px; width: 880px;\" class=\"plotly-graph-div\"></div><script type=\"text/javascript\">require([\"plotly\"], function(Plotly) { window.PLOTLYENV=window.PLOTLYENV || {};window.PLOTLYENV.BASE_URL=\"https://plot.ly\";Plotly.newPlot(\"e7546a1b-6c19-41fb-a470-2e6c2a842268\", [{\"colorscale\": [[0.0, \"#ebf6f7\"], [1.0, \"#171412\"]], \"showscale\": false, \"text\": [[\"Sample 0\", \"Sample 1\"]], \"x\": [\"Sample 0\", \"Sample 1\"], \"y\": [\"Target\"], \"yaxis\": \"y2\", \"z\": [[0, 2]], \"type\": \"heatmap\", \"uid\": \"a90a0cc9-623f-4deb-91a8-33909c17f0ab\"}, {\"colorscale\": [[0.0, \"#4242ff\"], [0.00392156862745098, \"#4241ff\"], [0.00784313725490196, \"#4240ff\"], [0.011764705882352941, \"#423fff\"], [0.01568627450980392, \"#423eff\"], [0.0196078431372549, \"#423dff\"], [0.023529411764705882, \"#423cff\"], [0.027450980392156862, \"#423bff\"], [0.03137254901960784, \"#423aff\"], [0.03529411764705882, \"#4239ff\"], [0.0392156862745098, \"#4238ff\"], [0.043137254901960784, \"#4237ff\"], [0.047058823529411764, \"#4236ff\"], [0.050980392156862744, \"#4235ff\"], [0.054901960784313725, \"#4234ff\"], [0.058823529411764705, \"#4233ff\"], [0.06274509803921569, \"#4232ff\"], [0.06666666666666667, \"#4231ff\"], [0.07058823529411765, \"#4230ff\"], [0.07450980392156863, \"#422fff\"], [0.0784313725490196, \"#422eff\"], [0.08235294117647059, \"#422dff\"], [0.08627450980392157, \"#422cff\"], [0.09019607843137255, \"#422bff\"], [0.09411764705882353, \"#422aff\"], [0.09803921568627451, \"#4229ff\"], [0.10196078431372549, \"#4228ff\"], [0.10588235294117647, \"#4228ff\"], [0.10980392156862745, \"#4227ff\"], [0.11372549019607843, \"#4226ff\"], [0.11764705882352941, \"#4226ff\"], [0.12156862745098039, \"#4225ff\"], [0.12549019607843137, \"#4224ff\"], [0.12941176470588237, \"#4224ff\"], [0.13333333333333333, \"#4223ff\"], [0.13725490196078433, \"#4222ff\"], [0.1411764705882353, \"#4221ff\"], [0.1450980392156863, \"#4221ff\"], [0.14901960784313725, \"#4220ff\"], [0.15294117647058825, \"#421fff\"], [0.1568627450980392, \"#421fff\"], [0.1607843137254902, \"#421eff\"], [0.16470588235294117, \"#421dff\"], [0.16862745098039217, \"#421dff\"], [0.17254901960784313, \"#421cff\"], [0.17647058823529413, \"#421bff\"], [0.1803921568627451, \"#421aff\"], [0.1843137254901961, \"#421aff\"], [0.18823529411764706, \"#4219ff\"], [0.19215686274509805, \"#4218ff\"], [0.19607843137254902, \"#4218ff\"], [0.2, \"#4217ff\"], [0.20392156862745098, \"#4419ff\"], [0.20784313725490197, \"#451aff\"], [0.21176470588235294, \"#461cff\"], [0.21568627450980393, \"#481eff\"], [0.2196078431372549, \"#491fff\"], [0.2235294117647059, \"#4a21ff\"], [0.22745098039215686, \"#4b23ff\"], [0.23137254901960785, \"#4d25ff\"], [0.23529411764705882, \"#4e26ff\"], [0.23921568627450981, \"#4f28ff\"], [0.24313725490196078, \"#512aff\"], [0.24705882352941178, \"#522bff\"], [0.25098039215686274, \"#532dff\"], [0.2549019607843137, \"#542fff\"], [0.25882352941176473, \"#5630ff\"], [0.2627450980392157, \"#5732ff\"], [0.26666666666666666, \"#5834ff\"], [0.27058823529411763, \"#5a36ff\"], [0.27450980392156865, \"#5b37ff\"], [0.2784313725490196, \"#5c39ff\"], [0.2823529411764706, \"#5e3bff\"], [0.28627450980392155, \"#5f3cff\"], [0.2901960784313726, \"#603eff\"], [0.29411764705882354, \"#6240ff\"], [0.2980392156862745, \"#6341ff\"], [0.30196078431372547, \"#6544ff\"], [0.3058823529411765, \"#6849ff\"], [0.30980392156862746, \"#6b4dff\"], [0.3137254901960784, \"#6e51ff\"], [0.3176470588235294, \"#7156ff\"], [0.3215686274509804, \"#745aff\"], [0.3254901960784314, \"#775eff\"], [0.32941176470588235, \"#7a63ff\"], [0.3333333333333333, \"#7d67ff\"], [0.33725490196078434, \"#806bff\"], [0.3411764705882353, \"#836fff\"], [0.34509803921568627, \"#8674ff\"], [0.34901960784313724, \"#8978ff\"], [0.35294117647058826, \"#8c7cff\"], [0.3568627450980392, \"#8f81ff\"], [0.3607843137254902, \"#9285ff\"], [0.36470588235294116, \"#9589ff\"], [0.3686274509803922, \"#988eff\"], [0.37254901960784315, \"#9b92ff\"], [0.3764705882352941, \"#9e96ff\"], [0.3803921568627451, \"#a19aff\"], [0.3843137254901961, \"#a49fff\"], [0.38823529411764707, \"#a7a3ff\"], [0.39215686274509803, \"#aaa7ff\"], [0.396078431372549, \"#adacff\"], [0.4, \"#b0b0ff\"], [0.403921568627451, \"#b3b3ff\"], [0.40784313725490196, \"#b6b6ff\"], [0.4117647058823529, \"#b9b9ff\"], [0.41568627450980394, \"#bcbcff\"], [0.4196078431372549, \"#bfbfff\"], [0.4235294117647059, \"#c3c3ff\"], [0.42745098039215684, \"#c6c6ff\"], [0.43137254901960786, \"#c9c9ff\"], [0.43529411764705883, \"#ccccff\"], [0.4392156862745098, \"#cfcfff\"], [0.44313725490196076, \"#d2d2ff\"], [0.4470588235294118, \"#d5d5ff\"], [0.45098039215686275, \"#d8d8ff\"], [0.4549019607843137, \"#dbdbff\"], [0.4588235294117647, \"#dedeff\"], [0.4627450980392157, \"#e2e2ff\"], [0.4666666666666667, \"#e5e5ff\"], [0.47058823529411764, \"#e8e8ff\"], [0.4745098039215686, \"#ebebff\"], [0.47843137254901963, \"#eeeeff\"], [0.4823529411764706, \"#f1f1ff\"], [0.48627450980392156, \"#f4f4ff\"], [0.49019607843137253, \"#f7f7ff\"], [0.49411764705882355, \"#fafaff\"], [0.4980392156862745, \"#fdfdff\"], [0.5019607843137255, \"#fffdfd\"], [0.5058823529411764, \"#fffafa\"], [0.5098039215686274, \"#fff7f7\"], [0.5137254901960784, \"#fff4f4\"], [0.5176470588235295, \"#fff1f1\"], [0.5215686274509804, \"#ffeeee\"], [0.5254901960784314, \"#ffebeb\"], [0.5294117647058824, \"#ffe8e8\"], [0.5333333333333333, \"#ffe5e5\"], [0.5372549019607843, \"#ffe2e2\"], [0.5411764705882353, \"#ffdede\"], [0.5450980392156862, \"#ffdbdb\"], [0.5490196078431373, \"#ffd8d8\"], [0.5529411764705883, \"#ffd5d5\"], [0.5568627450980392, \"#ffd2d2\"], [0.5607843137254902, \"#ffcfcf\"], [0.5647058823529412, \"#ffcccc\"], [0.5686274509803921, \"#ffc9c9\"], [0.5725490196078431, \"#ffc6c6\"], [0.5764705882352941, \"#ffc3c3\"], [0.5803921568627451, \"#ffbfbf\"], [0.5843137254901961, \"#ffbcbc\"], [0.5882352941176471, \"#ffb9b9\"], [0.592156862745098, \"#ffb6b6\"], [0.596078431372549, \"#ffb3b3\"], [0.6, \"#ffb0b0\"], [0.6039215686274509, \"#ffacad\"], [0.6078431372549019, \"#ffa7aa\"], [0.611764705882353, \"#ffa3a7\"], [0.615686274509804, \"#ff9fa4\"], [0.6196078431372549, \"#ff9aa1\"], [0.6235294117647059, \"#ff969e\"], [0.6274509803921569, \"#ff929b\"], [0.6313725490196078, \"#ff8e98\"], [0.6352941176470588, \"#ff8995\"], [0.6392156862745098, \"#ff8592\"], [0.6431372549019608, \"#ff818f\"], [0.6470588235294118, \"#ff7c8c\"], [0.6509803921568628, \"#ff7889\"], [0.6549019607843137, \"#ff7486\"], [0.6588235294117647, \"#ff6f83\"], [0.6627450980392157, \"#ff6b80\"], [0.6666666666666666, \"#ff677d\"], [0.6705882352941176, \"#ff637a\"], [0.6745098039215687, \"#ff5e77\"], [0.6784313725490196, \"#ff5a74\"], [0.6823529411764706, \"#ff5671\"], [0.6862745098039216, \"#ff516e\"], [0.6901960784313725, \"#ff4d6b\"], [0.6941176470588235, \"#ff4968\"], [0.6980392156862745, \"#ff4465\"], [0.7019607843137254, \"#ff4163\"], [0.7058823529411765, \"#ff4062\"], [0.7098039215686275, \"#ff3e60\"], [0.7137254901960784, \"#ff3c5f\"], [0.7176470588235294, \"#ff3b5e\"], [0.7215686274509804, \"#ff395c\"], [0.7254901960784313, \"#ff375b\"], [0.7294117647058823, \"#ff365a\"], [0.7333333333333333, \"#ff3458\"], [0.7372549019607844, \"#ff3257\"], [0.7411764705882353, \"#ff3056\"], [0.7450980392156863, \"#ff2f55\"], [0.7490196078431373, \"#ff2d53\"], [0.7529411764705882, \"#ff2b52\"], [0.7568627450980392, \"#ff2a51\"], [0.7607843137254902, \"#ff284f\"], [0.7647058823529411, \"#ff264e\"], [0.7686274509803922, \"#ff254d\"], [0.7725490196078432, \"#ff234b\"], [0.7764705882352941, \"#ff214a\"], [0.7803921568627451, \"#ff1f49\"], [0.7843137254901961, \"#ff1e48\"], [0.788235294117647, \"#ff1c46\"], [0.792156862745098, \"#ff1a45\"], [0.796078431372549, \"#ff1944\"], [0.8, \"#ff1742\"], [0.803921568627451, \"#ff1842\"], [0.807843137254902, \"#ff1842\"], [0.8117647058823529, \"#ff1942\"], [0.8156862745098039, \"#ff1a42\"], [0.8196078431372549, \"#ff1a42\"], [0.8235294117647058, \"#ff1b42\"], [0.8274509803921568, \"#ff1c42\"], [0.8313725490196079, \"#ff1d42\"], [0.8352941176470589, \"#ff1d42\"], [0.8392156862745098, \"#ff1e42\"], [0.8431372549019608, \"#ff1f42\"], [0.8470588235294118, \"#ff1f42\"], [0.8509803921568627, \"#ff2042\"], [0.8549019607843137, \"#ff2142\"], [0.8588235294117647, \"#ff2142\"], [0.8627450980392157, \"#ff2242\"], [0.8666666666666667, \"#ff2342\"], [0.8705882352941177, \"#ff2442\"], [0.8745098039215686, \"#ff2442\"], [0.8784313725490196, \"#ff2542\"], [0.8823529411764706, \"#ff2642\"], [0.8862745098039215, \"#ff2642\"], [0.8901960784313725, \"#ff2742\"], [0.8941176470588236, \"#ff2842\"], [0.8980392156862745, \"#ff2842\"], [0.9019607843137255, \"#ff2942\"], [0.9058823529411765, \"#ff2a42\"], [0.9098039215686274, \"#ff2b42\"], [0.9137254901960784, \"#ff2c42\"], [0.9176470588235294, \"#ff2d42\"], [0.9215686274509803, \"#ff2e42\"], [0.9254901960784314, \"#ff2f42\"], [0.9294117647058824, \"#ff3042\"], [0.9333333333333333, \"#ff3142\"], [0.9372549019607843, \"#ff3242\"], [0.9411764705882353, \"#ff3342\"], [0.9450980392156862, \"#ff3442\"], [0.9490196078431372, \"#ff3542\"], [0.9529411764705882, \"#ff3642\"], [0.9568627450980393, \"#ff3742\"], [0.9607843137254902, \"#ff3842\"], [0.9647058823529412, \"#ff3942\"], [0.9686274509803922, \"#ff3a42\"], [0.9725490196078431, \"#ff3b42\"], [0.9764705882352941, \"#ff3c42\"], [0.9803921568627451, \"#ff3d42\"], [0.984313725490196, \"#ff3e42\"], [0.9882352941176471, \"#ff3f42\"], [0.9921568627450981, \"#ff4042\"], [0.996078431372549, \"#ff4142\"], [1.0, \"#ff4242\"]], \"showscale\": false, \"x\": [\"Sample 0\", \"Sample 1\"], \"y\": [\"Index 3\", \"Index 5\", \"Index 2\", \"Index 7\", \"Index 0\", \"Index 6\", \"Index 4\", \"Index 1\"], \"yaxis\": \"y\", \"z\": [[1.0000000000000013, -0.9999999999999988], [1.0, -1.0], [1.0, -1.0], [1.0, -1.0], [0.9999999999999982, -1.0000000000000018], [-1.0, 1.0], [-1.0, 1.0], [-1.0, 1.0]], \"zmax\": 1.0000000000000013, \"zmin\": -1.0000000000000018, \"type\": \"heatmap\", \"uid\": \"6612794a-6fff-4626-9c31-3272dbb5dad7\"}], {\"annotations\": [{\"font\": {\"size\": 9.6}, \"showarrow\": false, \"text\": \"<b>Score</b>\", \"width\": 64, \"x\": 1.0016, \"xanchor\": \"left\", \"xref\": \"paper\", \"y\": 0.95, \"yanchor\": \"middle\", \"yref\": \"paper\"}, {\"font\": {\"size\": 9.6}, \"showarrow\": false, \"text\": \"<b>0.86</b>\", \"width\": 64, \"x\": 1.0016, \"xanchor\": \"left\", \"xref\": \"paper\", \"y\": 0.75, \"yanchor\": \"middle\", \"yref\": \"paper\"}, {\"font\": {\"size\": 9.6}, \"showarrow\": false, \"text\": \"<b>0.86</b>\", \"width\": 64, \"x\": 1.0016, \"xanchor\": \"left\", \"xref\": \"paper\", \"y\": 0.65, \"yanchor\": \"middle\", \"yref\": \"paper\"}, {\"font\": {\"size\": 9.6}, \"showarrow\": false, \"text\": \"<b>0.86</b>\", \"width\": 64, \"x\": 1.0016, \"xanchor\": \"left\", \"xref\": \"paper\", \"y\": 0.55, \"yanchor\": \"middle\", \"yref\": \"paper\"}, {\"font\": {\"size\": 9.6}, \"showarrow\": false, \"text\": \"<b>-0.86</b>\", \"width\": 64, \"x\": 1.0016, \"xanchor\": \"left\", \"xref\": \"paper\", \"y\": 0.45000000000000007, \"yanchor\": \"middle\", \"yref\": \"paper\"}, {\"font\": {\"size\": 9.6}, \"showarrow\": false, \"text\": \"<b>-0.86</b>\", \"width\": 64, \"x\": 1.0016, \"xanchor\": \"left\", \"xref\": \"paper\", \"y\": 0.3500000000000001, \"yanchor\": \"middle\", \"yref\": \"paper\"}, {\"font\": {\"size\": 9.6}, \"showarrow\": false, \"text\": \"<b>-0.86</b>\", \"width\": 64, \"x\": 1.0016, \"xanchor\": \"left\", \"xref\": \"paper\", \"y\": 0.2500000000000001, \"yanchor\": \"middle\", \"yref\": \"paper\"}, {\"font\": {\"size\": 9.6}, \"showarrow\": false, \"text\": \"<b>-0.86</b>\", \"width\": 64, \"x\": 1.0016, \"xanchor\": \"left\", \"xref\": \"paper\", \"y\": 0.1500000000000001, \"yanchor\": \"middle\", \"yref\": \"paper\"}, {\"font\": {\"size\": 9.6}, \"showarrow\": false, \"text\": \"<b>-0.86</b>\", \"width\": 64, \"x\": 1.0016, \"xanchor\": \"left\", \"xref\": \"paper\", \"y\": 0.0500000000000001, \"yanchor\": \"middle\", \"yref\": \"paper\"}, {\"font\": {\"size\": 9.6}, \"showarrow\": false, \"text\": \"<b>P-Value</b>\", \"width\": 64, \"x\": 1.1016000000000001, \"xanchor\": \"left\", \"xref\": \"paper\", \"y\": 0.95, \"yanchor\": \"middle\", \"yref\": \"paper\"}, {\"font\": {\"size\": 9.6}, \"showarrow\": false, \"text\": \"<b>0.38</b>\", \"width\": 64, \"x\": 1.1016000000000001, \"xanchor\": \"left\", \"xref\": \"paper\", \"y\": 0.75, \"yanchor\": \"middle\", \"yref\": \"paper\"}, {\"font\": {\"size\": 9.6}, \"showarrow\": false, \"text\": \"<b>0.38</b>\", \"width\": 64, \"x\": 1.1016000000000001, \"xanchor\": \"left\", \"xref\": \"paper\", \"y\": 0.65, \"yanchor\": \"middle\", \"yref\": \"paper\"}, {\"font\": {\"size\": 9.6}, \"showarrow\": false, \"text\": \"<b>0.38</b>\", \"width\": 64, \"x\": 1.1016000000000001, \"xanchor\": \"left\", \"xref\": \"paper\", \"y\": 0.55, \"yanchor\": \"middle\", \"yref\": \"paper\"}, {\"font\": {\"size\": 9.6}, \"showarrow\": false, \"text\": \"<b>0.38</b>\", \"width\": 64, \"x\": 1.1016000000000001, \"xanchor\": \"left\", \"xref\": \"paper\", \"y\": 0.45000000000000007, \"yanchor\": \"middle\", \"yref\": \"paper\"}, {\"font\": {\"size\": 9.6}, \"showarrow\": false, \"text\": \"<b>0.38</b>\", \"width\": 64, \"x\": 1.1016000000000001, \"xanchor\": \"left\", \"xref\": \"paper\", \"y\": 0.3500000000000001, \"yanchor\": \"middle\", \"yref\": \"paper\"}, {\"font\": {\"size\": 9.6}, \"showarrow\": false, \"text\": \"<b>0.38</b>\", \"width\": 64, \"x\": 1.1016000000000001, \"xanchor\": \"left\", \"xref\": \"paper\", \"y\": 0.2500000000000001, \"yanchor\": \"middle\", \"yref\": \"paper\"}, {\"font\": {\"size\": 9.6}, \"showarrow\": false, \"text\": \"<b>0.38</b>\", \"width\": 64, \"x\": 1.1016000000000001, \"xanchor\": \"left\", \"xref\": \"paper\", \"y\": 0.1500000000000001, \"yanchor\": \"middle\", \"yref\": \"paper\"}, {\"font\": {\"size\": 9.6}, \"showarrow\": false, \"text\": \"<b>0.12</b>\", \"width\": 64, \"x\": 1.1016000000000001, \"xanchor\": \"left\", \"xref\": \"paper\", \"y\": 0.0500000000000001, \"yanchor\": \"middle\", \"yref\": \"paper\"}, {\"font\": {\"size\": 9.6}, \"showarrow\": false, \"text\": \"<b>FDR</b>\", \"width\": 64, \"x\": 1.2016, \"xanchor\": \"left\", \"xref\": \"paper\", \"y\": 0.95, \"yanchor\": \"middle\", \"yref\": \"paper\"}, {\"font\": {\"size\": 9.6}, \"showarrow\": false, \"text\": \"<b>0.88</b>\", \"width\": 64, \"x\": 1.2016, \"xanchor\": \"left\", \"xref\": \"paper\", \"y\": 0.75, \"yanchor\": \"middle\", \"yref\": \"paper\"}, {\"font\": {\"size\": 9.6}, \"showarrow\": false, \"text\": \"<b>0.88</b>\", \"width\": 64, \"x\": 1.2016, \"xanchor\": \"left\", \"xref\": \"paper\", \"y\": 0.65, \"yanchor\": \"middle\", \"yref\": \"paper\"}, {\"font\": {\"size\": 9.6}, \"showarrow\": false, \"text\": \"<b>0.88</b>\", \"width\": 64, \"x\": 1.2016, \"xanchor\": \"left\", \"xref\": \"paper\", \"y\": 0.55, \"yanchor\": \"middle\", \"yref\": \"paper\"}, {\"font\": {\"size\": 9.6}, \"showarrow\": false, \"text\": \"<b>0.60</b>\", \"width\": 64, \"x\": 1.2016, \"xanchor\": \"left\", \"xref\": \"paper\", \"y\": 0.45000000000000007, \"yanchor\": \"middle\", \"yref\": \"paper\"}, {\"font\": {\"size\": 9.6}, \"showarrow\": false, \"text\": \"<b>0.60</b>\", \"width\": 64, \"x\": 1.2016, \"xanchor\": \"left\", \"xref\": \"paper\", \"y\": 0.3500000000000001, \"yanchor\": \"middle\", \"yref\": \"paper\"}, {\"font\": {\"size\": 9.6}, \"showarrow\": false, \"text\": \"<b>0.60</b>\", \"width\": 64, \"x\": 1.2016, \"xanchor\": \"left\", \"xref\": \"paper\", \"y\": 0.2500000000000001, \"yanchor\": \"middle\", \"yref\": \"paper\"}, {\"font\": {\"size\": 9.6}, \"showarrow\": false, \"text\": \"<b>0.60</b>\", \"width\": 64, \"x\": 1.2016, \"xanchor\": \"left\", \"xref\": \"paper\", \"y\": 0.1500000000000001, \"yanchor\": \"middle\", \"yref\": \"paper\"}, {\"font\": {\"size\": 9.6}, \"showarrow\": false, \"text\": \"<b>0.60</b>\", \"width\": 64, \"x\": 1.2016, \"xanchor\": \"left\", \"xref\": \"paper\", \"y\": 0.0500000000000001, \"yanchor\": \"middle\", \"yref\": \"paper\"}], \"height\": 512, \"margin\": {\"l\": 196, \"r\": 196}, \"title\": \"Match Panel\", \"width\": 880, \"xaxis\": {\"anchor\": \"y\", \"tickfont\": {\"size\": 9.6}}, \"yaxis\": {\"domain\": [0, 0.8], \"dtick\": 1, \"tickfont\": {\"size\": 9.6}}, \"yaxis2\": {\"domain\": [0.9, 1], \"tickfont\": {\"size\": 9.6}}}, {\"showLink\": false, \"linkText\": \"Export to plot.ly\"})});</script>"
      ],
      "text/vnd.plotly.v1+html": [
       "<div id=\"e7546a1b-6c19-41fb-a470-2e6c2a842268\" style=\"height: 512px; width: 880px;\" class=\"plotly-graph-div\"></div><script type=\"text/javascript\">require([\"plotly\"], function(Plotly) { window.PLOTLYENV=window.PLOTLYENV || {};window.PLOTLYENV.BASE_URL=\"https://plot.ly\";Plotly.newPlot(\"e7546a1b-6c19-41fb-a470-2e6c2a842268\", [{\"colorscale\": [[0.0, \"#ebf6f7\"], [1.0, \"#171412\"]], \"showscale\": false, \"text\": [[\"Sample 0\", \"Sample 1\"]], \"x\": [\"Sample 0\", \"Sample 1\"], \"y\": [\"Target\"], \"yaxis\": \"y2\", \"z\": [[0, 2]], \"type\": \"heatmap\", \"uid\": \"a90a0cc9-623f-4deb-91a8-33909c17f0ab\"}, {\"colorscale\": [[0.0, \"#4242ff\"], [0.00392156862745098, \"#4241ff\"], [0.00784313725490196, \"#4240ff\"], [0.011764705882352941, \"#423fff\"], [0.01568627450980392, \"#423eff\"], [0.0196078431372549, \"#423dff\"], [0.023529411764705882, \"#423cff\"], [0.027450980392156862, \"#423bff\"], [0.03137254901960784, \"#423aff\"], [0.03529411764705882, \"#4239ff\"], [0.0392156862745098, \"#4238ff\"], [0.043137254901960784, \"#4237ff\"], [0.047058823529411764, \"#4236ff\"], [0.050980392156862744, \"#4235ff\"], [0.054901960784313725, \"#4234ff\"], [0.058823529411764705, \"#4233ff\"], [0.06274509803921569, \"#4232ff\"], [0.06666666666666667, \"#4231ff\"], [0.07058823529411765, \"#4230ff\"], [0.07450980392156863, \"#422fff\"], [0.0784313725490196, \"#422eff\"], [0.08235294117647059, \"#422dff\"], [0.08627450980392157, \"#422cff\"], [0.09019607843137255, \"#422bff\"], [0.09411764705882353, \"#422aff\"], [0.09803921568627451, \"#4229ff\"], [0.10196078431372549, \"#4228ff\"], [0.10588235294117647, \"#4228ff\"], [0.10980392156862745, \"#4227ff\"], [0.11372549019607843, \"#4226ff\"], [0.11764705882352941, \"#4226ff\"], [0.12156862745098039, \"#4225ff\"], [0.12549019607843137, \"#4224ff\"], [0.12941176470588237, \"#4224ff\"], [0.13333333333333333, \"#4223ff\"], [0.13725490196078433, \"#4222ff\"], [0.1411764705882353, \"#4221ff\"], [0.1450980392156863, \"#4221ff\"], [0.14901960784313725, \"#4220ff\"], [0.15294117647058825, \"#421fff\"], [0.1568627450980392, \"#421fff\"], [0.1607843137254902, \"#421eff\"], [0.16470588235294117, \"#421dff\"], [0.16862745098039217, \"#421dff\"], [0.17254901960784313, \"#421cff\"], [0.17647058823529413, \"#421bff\"], [0.1803921568627451, \"#421aff\"], [0.1843137254901961, \"#421aff\"], [0.18823529411764706, \"#4219ff\"], [0.19215686274509805, \"#4218ff\"], [0.19607843137254902, \"#4218ff\"], [0.2, \"#4217ff\"], [0.20392156862745098, \"#4419ff\"], [0.20784313725490197, \"#451aff\"], [0.21176470588235294, \"#461cff\"], [0.21568627450980393, \"#481eff\"], [0.2196078431372549, \"#491fff\"], [0.2235294117647059, \"#4a21ff\"], [0.22745098039215686, \"#4b23ff\"], [0.23137254901960785, \"#4d25ff\"], [0.23529411764705882, \"#4e26ff\"], [0.23921568627450981, \"#4f28ff\"], [0.24313725490196078, \"#512aff\"], [0.24705882352941178, \"#522bff\"], [0.25098039215686274, \"#532dff\"], [0.2549019607843137, \"#542fff\"], [0.25882352941176473, \"#5630ff\"], [0.2627450980392157, \"#5732ff\"], [0.26666666666666666, \"#5834ff\"], [0.27058823529411763, \"#5a36ff\"], [0.27450980392156865, \"#5b37ff\"], [0.2784313725490196, \"#5c39ff\"], [0.2823529411764706, \"#5e3bff\"], [0.28627450980392155, \"#5f3cff\"], [0.2901960784313726, \"#603eff\"], [0.29411764705882354, \"#6240ff\"], [0.2980392156862745, \"#6341ff\"], [0.30196078431372547, \"#6544ff\"], [0.3058823529411765, \"#6849ff\"], [0.30980392156862746, \"#6b4dff\"], [0.3137254901960784, \"#6e51ff\"], [0.3176470588235294, \"#7156ff\"], [0.3215686274509804, \"#745aff\"], [0.3254901960784314, \"#775eff\"], [0.32941176470588235, \"#7a63ff\"], [0.3333333333333333, \"#7d67ff\"], [0.33725490196078434, \"#806bff\"], [0.3411764705882353, \"#836fff\"], [0.34509803921568627, \"#8674ff\"], [0.34901960784313724, \"#8978ff\"], [0.35294117647058826, \"#8c7cff\"], [0.3568627450980392, \"#8f81ff\"], [0.3607843137254902, \"#9285ff\"], [0.36470588235294116, \"#9589ff\"], [0.3686274509803922, \"#988eff\"], [0.37254901960784315, \"#9b92ff\"], [0.3764705882352941, \"#9e96ff\"], [0.3803921568627451, \"#a19aff\"], [0.3843137254901961, \"#a49fff\"], [0.38823529411764707, \"#a7a3ff\"], [0.39215686274509803, \"#aaa7ff\"], [0.396078431372549, \"#adacff\"], [0.4, \"#b0b0ff\"], [0.403921568627451, \"#b3b3ff\"], [0.40784313725490196, \"#b6b6ff\"], [0.4117647058823529, \"#b9b9ff\"], [0.41568627450980394, \"#bcbcff\"], [0.4196078431372549, \"#bfbfff\"], [0.4235294117647059, \"#c3c3ff\"], [0.42745098039215684, \"#c6c6ff\"], [0.43137254901960786, \"#c9c9ff\"], [0.43529411764705883, \"#ccccff\"], [0.4392156862745098, \"#cfcfff\"], [0.44313725490196076, \"#d2d2ff\"], [0.4470588235294118, \"#d5d5ff\"], [0.45098039215686275, \"#d8d8ff\"], [0.4549019607843137, \"#dbdbff\"], [0.4588235294117647, \"#dedeff\"], [0.4627450980392157, \"#e2e2ff\"], [0.4666666666666667, \"#e5e5ff\"], [0.47058823529411764, \"#e8e8ff\"], [0.4745098039215686, \"#ebebff\"], [0.47843137254901963, \"#eeeeff\"], [0.4823529411764706, \"#f1f1ff\"], [0.48627450980392156, \"#f4f4ff\"], [0.49019607843137253, \"#f7f7ff\"], [0.49411764705882355, \"#fafaff\"], [0.4980392156862745, \"#fdfdff\"], [0.5019607843137255, \"#fffdfd\"], [0.5058823529411764, \"#fffafa\"], [0.5098039215686274, \"#fff7f7\"], [0.5137254901960784, \"#fff4f4\"], [0.5176470588235295, \"#fff1f1\"], [0.5215686274509804, \"#ffeeee\"], [0.5254901960784314, \"#ffebeb\"], [0.5294117647058824, \"#ffe8e8\"], [0.5333333333333333, \"#ffe5e5\"], [0.5372549019607843, \"#ffe2e2\"], [0.5411764705882353, \"#ffdede\"], [0.5450980392156862, \"#ffdbdb\"], [0.5490196078431373, \"#ffd8d8\"], [0.5529411764705883, \"#ffd5d5\"], [0.5568627450980392, \"#ffd2d2\"], [0.5607843137254902, \"#ffcfcf\"], [0.5647058823529412, \"#ffcccc\"], [0.5686274509803921, \"#ffc9c9\"], [0.5725490196078431, \"#ffc6c6\"], [0.5764705882352941, \"#ffc3c3\"], [0.5803921568627451, \"#ffbfbf\"], [0.5843137254901961, \"#ffbcbc\"], [0.5882352941176471, \"#ffb9b9\"], [0.592156862745098, \"#ffb6b6\"], [0.596078431372549, \"#ffb3b3\"], [0.6, \"#ffb0b0\"], [0.6039215686274509, \"#ffacad\"], [0.6078431372549019, \"#ffa7aa\"], [0.611764705882353, \"#ffa3a7\"], [0.615686274509804, \"#ff9fa4\"], [0.6196078431372549, \"#ff9aa1\"], [0.6235294117647059, \"#ff969e\"], [0.6274509803921569, \"#ff929b\"], [0.6313725490196078, \"#ff8e98\"], [0.6352941176470588, \"#ff8995\"], [0.6392156862745098, \"#ff8592\"], [0.6431372549019608, \"#ff818f\"], [0.6470588235294118, \"#ff7c8c\"], [0.6509803921568628, \"#ff7889\"], [0.6549019607843137, \"#ff7486\"], [0.6588235294117647, \"#ff6f83\"], [0.6627450980392157, \"#ff6b80\"], [0.6666666666666666, \"#ff677d\"], [0.6705882352941176, \"#ff637a\"], [0.6745098039215687, \"#ff5e77\"], [0.6784313725490196, \"#ff5a74\"], [0.6823529411764706, \"#ff5671\"], [0.6862745098039216, \"#ff516e\"], [0.6901960784313725, \"#ff4d6b\"], [0.6941176470588235, \"#ff4968\"], [0.6980392156862745, \"#ff4465\"], [0.7019607843137254, \"#ff4163\"], [0.7058823529411765, \"#ff4062\"], [0.7098039215686275, \"#ff3e60\"], [0.7137254901960784, \"#ff3c5f\"], [0.7176470588235294, \"#ff3b5e\"], [0.7215686274509804, \"#ff395c\"], [0.7254901960784313, \"#ff375b\"], [0.7294117647058823, \"#ff365a\"], [0.7333333333333333, \"#ff3458\"], [0.7372549019607844, \"#ff3257\"], [0.7411764705882353, \"#ff3056\"], [0.7450980392156863, \"#ff2f55\"], [0.7490196078431373, \"#ff2d53\"], [0.7529411764705882, \"#ff2b52\"], [0.7568627450980392, \"#ff2a51\"], [0.7607843137254902, \"#ff284f\"], [0.7647058823529411, \"#ff264e\"], [0.7686274509803922, \"#ff254d\"], [0.7725490196078432, \"#ff234b\"], [0.7764705882352941, \"#ff214a\"], [0.7803921568627451, \"#ff1f49\"], [0.7843137254901961, \"#ff1e48\"], [0.788235294117647, \"#ff1c46\"], [0.792156862745098, \"#ff1a45\"], [0.796078431372549, \"#ff1944\"], [0.8, \"#ff1742\"], [0.803921568627451, \"#ff1842\"], [0.807843137254902, \"#ff1842\"], [0.8117647058823529, \"#ff1942\"], [0.8156862745098039, \"#ff1a42\"], [0.8196078431372549, \"#ff1a42\"], [0.8235294117647058, \"#ff1b42\"], [0.8274509803921568, \"#ff1c42\"], [0.8313725490196079, \"#ff1d42\"], [0.8352941176470589, \"#ff1d42\"], [0.8392156862745098, \"#ff1e42\"], [0.8431372549019608, \"#ff1f42\"], [0.8470588235294118, \"#ff1f42\"], [0.8509803921568627, \"#ff2042\"], [0.8549019607843137, \"#ff2142\"], [0.8588235294117647, \"#ff2142\"], [0.8627450980392157, \"#ff2242\"], [0.8666666666666667, \"#ff2342\"], [0.8705882352941177, \"#ff2442\"], [0.8745098039215686, \"#ff2442\"], [0.8784313725490196, \"#ff2542\"], [0.8823529411764706, \"#ff2642\"], [0.8862745098039215, \"#ff2642\"], [0.8901960784313725, \"#ff2742\"], [0.8941176470588236, \"#ff2842\"], [0.8980392156862745, \"#ff2842\"], [0.9019607843137255, \"#ff2942\"], [0.9058823529411765, \"#ff2a42\"], [0.9098039215686274, \"#ff2b42\"], [0.9137254901960784, \"#ff2c42\"], [0.9176470588235294, \"#ff2d42\"], [0.9215686274509803, \"#ff2e42\"], [0.9254901960784314, \"#ff2f42\"], [0.9294117647058824, \"#ff3042\"], [0.9333333333333333, \"#ff3142\"], [0.9372549019607843, \"#ff3242\"], [0.9411764705882353, \"#ff3342\"], [0.9450980392156862, \"#ff3442\"], [0.9490196078431372, \"#ff3542\"], [0.9529411764705882, \"#ff3642\"], [0.9568627450980393, \"#ff3742\"], [0.9607843137254902, \"#ff3842\"], [0.9647058823529412, \"#ff3942\"], [0.9686274509803922, \"#ff3a42\"], [0.9725490196078431, \"#ff3b42\"], [0.9764705882352941, \"#ff3c42\"], [0.9803921568627451, \"#ff3d42\"], [0.984313725490196, \"#ff3e42\"], [0.9882352941176471, \"#ff3f42\"], [0.9921568627450981, \"#ff4042\"], [0.996078431372549, \"#ff4142\"], [1.0, \"#ff4242\"]], \"showscale\": false, \"x\": [\"Sample 0\", \"Sample 1\"], \"y\": [\"Index 3\", \"Index 5\", \"Index 2\", \"Index 7\", \"Index 0\", \"Index 6\", \"Index 4\", \"Index 1\"], \"yaxis\": \"y\", \"z\": [[1.0000000000000013, -0.9999999999999988], [1.0, -1.0], [1.0, -1.0], [1.0, -1.0], [0.9999999999999982, -1.0000000000000018], [-1.0, 1.0], [-1.0, 1.0], [-1.0, 1.0]], \"zmax\": 1.0000000000000013, \"zmin\": -1.0000000000000018, \"type\": \"heatmap\", \"uid\": \"6612794a-6fff-4626-9c31-3272dbb5dad7\"}], {\"annotations\": [{\"font\": {\"size\": 9.6}, \"showarrow\": false, \"text\": \"<b>Score</b>\", \"width\": 64, \"x\": 1.0016, \"xanchor\": \"left\", \"xref\": \"paper\", \"y\": 0.95, \"yanchor\": \"middle\", \"yref\": \"paper\"}, {\"font\": {\"size\": 9.6}, \"showarrow\": false, \"text\": \"<b>0.86</b>\", \"width\": 64, \"x\": 1.0016, \"xanchor\": \"left\", \"xref\": \"paper\", \"y\": 0.75, \"yanchor\": \"middle\", \"yref\": \"paper\"}, {\"font\": {\"size\": 9.6}, \"showarrow\": false, \"text\": \"<b>0.86</b>\", \"width\": 64, \"x\": 1.0016, \"xanchor\": \"left\", \"xref\": \"paper\", \"y\": 0.65, \"yanchor\": \"middle\", \"yref\": \"paper\"}, {\"font\": {\"size\": 9.6}, \"showarrow\": false, \"text\": \"<b>0.86</b>\", \"width\": 64, \"x\": 1.0016, \"xanchor\": \"left\", \"xref\": \"paper\", \"y\": 0.55, \"yanchor\": \"middle\", \"yref\": \"paper\"}, {\"font\": {\"size\": 9.6}, \"showarrow\": false, \"text\": \"<b>-0.86</b>\", \"width\": 64, \"x\": 1.0016, \"xanchor\": \"left\", \"xref\": \"paper\", \"y\": 0.45000000000000007, \"yanchor\": \"middle\", \"yref\": \"paper\"}, {\"font\": {\"size\": 9.6}, \"showarrow\": false, \"text\": \"<b>-0.86</b>\", \"width\": 64, \"x\": 1.0016, \"xanchor\": \"left\", \"xref\": \"paper\", \"y\": 0.3500000000000001, \"yanchor\": \"middle\", \"yref\": \"paper\"}, {\"font\": {\"size\": 9.6}, \"showarrow\": false, \"text\": \"<b>-0.86</b>\", \"width\": 64, \"x\": 1.0016, \"xanchor\": \"left\", \"xref\": \"paper\", \"y\": 0.2500000000000001, \"yanchor\": \"middle\", \"yref\": \"paper\"}, {\"font\": {\"size\": 9.6}, \"showarrow\": false, \"text\": \"<b>-0.86</b>\", \"width\": 64, \"x\": 1.0016, \"xanchor\": \"left\", \"xref\": \"paper\", \"y\": 0.1500000000000001, \"yanchor\": \"middle\", \"yref\": \"paper\"}, {\"font\": {\"size\": 9.6}, \"showarrow\": false, \"text\": \"<b>-0.86</b>\", \"width\": 64, \"x\": 1.0016, \"xanchor\": \"left\", \"xref\": \"paper\", \"y\": 0.0500000000000001, \"yanchor\": \"middle\", \"yref\": \"paper\"}, {\"font\": {\"size\": 9.6}, \"showarrow\": false, \"text\": \"<b>P-Value</b>\", \"width\": 64, \"x\": 1.1016000000000001, \"xanchor\": \"left\", \"xref\": \"paper\", \"y\": 0.95, \"yanchor\": \"middle\", \"yref\": \"paper\"}, {\"font\": {\"size\": 9.6}, \"showarrow\": false, \"text\": \"<b>0.38</b>\", \"width\": 64, \"x\": 1.1016000000000001, \"xanchor\": \"left\", \"xref\": \"paper\", \"y\": 0.75, \"yanchor\": \"middle\", \"yref\": \"paper\"}, {\"font\": {\"size\": 9.6}, \"showarrow\": false, \"text\": \"<b>0.38</b>\", \"width\": 64, \"x\": 1.1016000000000001, \"xanchor\": \"left\", \"xref\": \"paper\", \"y\": 0.65, \"yanchor\": \"middle\", \"yref\": \"paper\"}, {\"font\": {\"size\": 9.6}, \"showarrow\": false, \"text\": \"<b>0.38</b>\", \"width\": 64, \"x\": 1.1016000000000001, \"xanchor\": \"left\", \"xref\": \"paper\", \"y\": 0.55, \"yanchor\": \"middle\", \"yref\": \"paper\"}, {\"font\": {\"size\": 9.6}, \"showarrow\": false, \"text\": \"<b>0.38</b>\", \"width\": 64, \"x\": 1.1016000000000001, \"xanchor\": \"left\", \"xref\": \"paper\", \"y\": 0.45000000000000007, \"yanchor\": \"middle\", \"yref\": \"paper\"}, {\"font\": {\"size\": 9.6}, \"showarrow\": false, \"text\": \"<b>0.38</b>\", \"width\": 64, \"x\": 1.1016000000000001, \"xanchor\": \"left\", \"xref\": \"paper\", \"y\": 0.3500000000000001, \"yanchor\": \"middle\", \"yref\": \"paper\"}, {\"font\": {\"size\": 9.6}, \"showarrow\": false, \"text\": \"<b>0.38</b>\", \"width\": 64, \"x\": 1.1016000000000001, \"xanchor\": \"left\", \"xref\": \"paper\", \"y\": 0.2500000000000001, \"yanchor\": \"middle\", \"yref\": \"paper\"}, {\"font\": {\"size\": 9.6}, \"showarrow\": false, \"text\": \"<b>0.38</b>\", \"width\": 64, \"x\": 1.1016000000000001, \"xanchor\": \"left\", \"xref\": \"paper\", \"y\": 0.1500000000000001, \"yanchor\": \"middle\", \"yref\": \"paper\"}, {\"font\": {\"size\": 9.6}, \"showarrow\": false, \"text\": \"<b>0.12</b>\", \"width\": 64, \"x\": 1.1016000000000001, \"xanchor\": \"left\", \"xref\": \"paper\", \"y\": 0.0500000000000001, \"yanchor\": \"middle\", \"yref\": \"paper\"}, {\"font\": {\"size\": 9.6}, \"showarrow\": false, \"text\": \"<b>FDR</b>\", \"width\": 64, \"x\": 1.2016, \"xanchor\": \"left\", \"xref\": \"paper\", \"y\": 0.95, \"yanchor\": \"middle\", \"yref\": \"paper\"}, {\"font\": {\"size\": 9.6}, \"showarrow\": false, \"text\": \"<b>0.88</b>\", \"width\": 64, \"x\": 1.2016, \"xanchor\": \"left\", \"xref\": \"paper\", \"y\": 0.75, \"yanchor\": \"middle\", \"yref\": \"paper\"}, {\"font\": {\"size\": 9.6}, \"showarrow\": false, \"text\": \"<b>0.88</b>\", \"width\": 64, \"x\": 1.2016, \"xanchor\": \"left\", \"xref\": \"paper\", \"y\": 0.65, \"yanchor\": \"middle\", \"yref\": \"paper\"}, {\"font\": {\"size\": 9.6}, \"showarrow\": false, \"text\": \"<b>0.88</b>\", \"width\": 64, \"x\": 1.2016, \"xanchor\": \"left\", \"xref\": \"paper\", \"y\": 0.55, \"yanchor\": \"middle\", \"yref\": \"paper\"}, {\"font\": {\"size\": 9.6}, \"showarrow\": false, \"text\": \"<b>0.60</b>\", \"width\": 64, \"x\": 1.2016, \"xanchor\": \"left\", \"xref\": \"paper\", \"y\": 0.45000000000000007, \"yanchor\": \"middle\", \"yref\": \"paper\"}, {\"font\": {\"size\": 9.6}, \"showarrow\": false, \"text\": \"<b>0.60</b>\", \"width\": 64, \"x\": 1.2016, \"xanchor\": \"left\", \"xref\": \"paper\", \"y\": 0.3500000000000001, \"yanchor\": \"middle\", \"yref\": \"paper\"}, {\"font\": {\"size\": 9.6}, \"showarrow\": false, \"text\": \"<b>0.60</b>\", \"width\": 64, \"x\": 1.2016, \"xanchor\": \"left\", \"xref\": \"paper\", \"y\": 0.2500000000000001, \"yanchor\": \"middle\", \"yref\": \"paper\"}, {\"font\": {\"size\": 9.6}, \"showarrow\": false, \"text\": \"<b>0.60</b>\", \"width\": 64, \"x\": 1.2016, \"xanchor\": \"left\", \"xref\": \"paper\", \"y\": 0.1500000000000001, \"yanchor\": \"middle\", \"yref\": \"paper\"}, {\"font\": {\"size\": 9.6}, \"showarrow\": false, \"text\": \"<b>0.60</b>\", \"width\": 64, \"x\": 1.2016, \"xanchor\": \"left\", \"xref\": \"paper\", \"y\": 0.0500000000000001, \"yanchor\": \"middle\", \"yref\": \"paper\"}], \"height\": 512, \"margin\": {\"l\": 196, \"r\": 196}, \"title\": \"Match Panel\", \"width\": 880, \"xaxis\": {\"anchor\": \"y\", \"tickfont\": {\"size\": 9.6}}, \"yaxis\": {\"domain\": [0, 0.8], \"dtick\": 1, \"tickfont\": {\"size\": 9.6}}, \"yaxis2\": {\"domain\": [0.9, 1], \"tickfont\": {\"size\": 9.6}}}, {\"showLink\": false, \"linkText\": \"Export to plot.ly\"})});</script>"
      ]
     },
     "metadata": {},
     "output_type": "display_data"
    },
    {
     "name": "stdout",
     "output_type": "stream",
     "text": [
      "target.index (2) & features.columns (2) have 2 in common.\n",
      "Computing score using compute_information_coefficient with 1 process ...\n",
      "Computing MoE with 0 sampling ...\n",
      "[]\n",
      "Computing p-value and FDR with 1 permutation ...\n"
     ]
    },
    {
     "name": "stderr",
     "output_type": "stream",
     "text": [
      "../match/make_match_panel.py:137: UserWarning:\n",
      "\n",
      "Not clustering because a category has less than 2 values.\n",
      "\n"
     ]
    },
    {
     "data": {
      "application/vnd.plotly.v1+json": {
       "data": [
        {
         "colorscale": [
          [
           0,
           "#ebf6f7"
          ],
          [
           1,
           "#171412"
          ]
         ],
         "showscale": false,
         "text": [
          [
           "Sample 0",
           "Sample 1"
          ]
         ],
         "type": "heatmap",
         "uid": "07e68738-6287-4634-ac16-a2d93639a3bb",
         "x": [
          "Sample 0",
          "Sample 1"
         ],
         "y": [
          "Target"
         ],
         "yaxis": "y2",
         "z": [
          [
           0,
           2
          ]
         ]
        },
        {
         "colorscale": [
          [
           0,
           "#4242ff"
          ],
          [
           0.00392156862745098,
           "#4241ff"
          ],
          [
           0.00784313725490196,
           "#4240ff"
          ],
          [
           0.011764705882352941,
           "#423fff"
          ],
          [
           0.01568627450980392,
           "#423eff"
          ],
          [
           0.0196078431372549,
           "#423dff"
          ],
          [
           0.023529411764705882,
           "#423cff"
          ],
          [
           0.027450980392156862,
           "#423bff"
          ],
          [
           0.03137254901960784,
           "#423aff"
          ],
          [
           0.03529411764705882,
           "#4239ff"
          ],
          [
           0.0392156862745098,
           "#4238ff"
          ],
          [
           0.043137254901960784,
           "#4237ff"
          ],
          [
           0.047058823529411764,
           "#4236ff"
          ],
          [
           0.050980392156862744,
           "#4235ff"
          ],
          [
           0.054901960784313725,
           "#4234ff"
          ],
          [
           0.058823529411764705,
           "#4233ff"
          ],
          [
           0.06274509803921569,
           "#4232ff"
          ],
          [
           0.06666666666666667,
           "#4231ff"
          ],
          [
           0.07058823529411765,
           "#4230ff"
          ],
          [
           0.07450980392156863,
           "#422fff"
          ],
          [
           0.0784313725490196,
           "#422eff"
          ],
          [
           0.08235294117647059,
           "#422dff"
          ],
          [
           0.08627450980392157,
           "#422cff"
          ],
          [
           0.09019607843137255,
           "#422bff"
          ],
          [
           0.09411764705882353,
           "#422aff"
          ],
          [
           0.09803921568627451,
           "#4229ff"
          ],
          [
           0.10196078431372549,
           "#4228ff"
          ],
          [
           0.10588235294117647,
           "#4228ff"
          ],
          [
           0.10980392156862745,
           "#4227ff"
          ],
          [
           0.11372549019607843,
           "#4226ff"
          ],
          [
           0.11764705882352941,
           "#4226ff"
          ],
          [
           0.12156862745098039,
           "#4225ff"
          ],
          [
           0.12549019607843137,
           "#4224ff"
          ],
          [
           0.12941176470588237,
           "#4224ff"
          ],
          [
           0.13333333333333333,
           "#4223ff"
          ],
          [
           0.13725490196078433,
           "#4222ff"
          ],
          [
           0.1411764705882353,
           "#4221ff"
          ],
          [
           0.1450980392156863,
           "#4221ff"
          ],
          [
           0.14901960784313725,
           "#4220ff"
          ],
          [
           0.15294117647058825,
           "#421fff"
          ],
          [
           0.1568627450980392,
           "#421fff"
          ],
          [
           0.1607843137254902,
           "#421eff"
          ],
          [
           0.16470588235294117,
           "#421dff"
          ],
          [
           0.16862745098039217,
           "#421dff"
          ],
          [
           0.17254901960784313,
           "#421cff"
          ],
          [
           0.17647058823529413,
           "#421bff"
          ],
          [
           0.1803921568627451,
           "#421aff"
          ],
          [
           0.1843137254901961,
           "#421aff"
          ],
          [
           0.18823529411764706,
           "#4219ff"
          ],
          [
           0.19215686274509805,
           "#4218ff"
          ],
          [
           0.19607843137254902,
           "#4218ff"
          ],
          [
           0.2,
           "#4217ff"
          ],
          [
           0.20392156862745098,
           "#4419ff"
          ],
          [
           0.20784313725490197,
           "#451aff"
          ],
          [
           0.21176470588235294,
           "#461cff"
          ],
          [
           0.21568627450980393,
           "#481eff"
          ],
          [
           0.2196078431372549,
           "#491fff"
          ],
          [
           0.2235294117647059,
           "#4a21ff"
          ],
          [
           0.22745098039215686,
           "#4b23ff"
          ],
          [
           0.23137254901960785,
           "#4d25ff"
          ],
          [
           0.23529411764705882,
           "#4e26ff"
          ],
          [
           0.23921568627450981,
           "#4f28ff"
          ],
          [
           0.24313725490196078,
           "#512aff"
          ],
          [
           0.24705882352941178,
           "#522bff"
          ],
          [
           0.25098039215686274,
           "#532dff"
          ],
          [
           0.2549019607843137,
           "#542fff"
          ],
          [
           0.25882352941176473,
           "#5630ff"
          ],
          [
           0.2627450980392157,
           "#5732ff"
          ],
          [
           0.26666666666666666,
           "#5834ff"
          ],
          [
           0.27058823529411763,
           "#5a36ff"
          ],
          [
           0.27450980392156865,
           "#5b37ff"
          ],
          [
           0.2784313725490196,
           "#5c39ff"
          ],
          [
           0.2823529411764706,
           "#5e3bff"
          ],
          [
           0.28627450980392155,
           "#5f3cff"
          ],
          [
           0.2901960784313726,
           "#603eff"
          ],
          [
           0.29411764705882354,
           "#6240ff"
          ],
          [
           0.2980392156862745,
           "#6341ff"
          ],
          [
           0.30196078431372547,
           "#6544ff"
          ],
          [
           0.3058823529411765,
           "#6849ff"
          ],
          [
           0.30980392156862746,
           "#6b4dff"
          ],
          [
           0.3137254901960784,
           "#6e51ff"
          ],
          [
           0.3176470588235294,
           "#7156ff"
          ],
          [
           0.3215686274509804,
           "#745aff"
          ],
          [
           0.3254901960784314,
           "#775eff"
          ],
          [
           0.32941176470588235,
           "#7a63ff"
          ],
          [
           0.3333333333333333,
           "#7d67ff"
          ],
          [
           0.33725490196078434,
           "#806bff"
          ],
          [
           0.3411764705882353,
           "#836fff"
          ],
          [
           0.34509803921568627,
           "#8674ff"
          ],
          [
           0.34901960784313724,
           "#8978ff"
          ],
          [
           0.35294117647058826,
           "#8c7cff"
          ],
          [
           0.3568627450980392,
           "#8f81ff"
          ],
          [
           0.3607843137254902,
           "#9285ff"
          ],
          [
           0.36470588235294116,
           "#9589ff"
          ],
          [
           0.3686274509803922,
           "#988eff"
          ],
          [
           0.37254901960784315,
           "#9b92ff"
          ],
          [
           0.3764705882352941,
           "#9e96ff"
          ],
          [
           0.3803921568627451,
           "#a19aff"
          ],
          [
           0.3843137254901961,
           "#a49fff"
          ],
          [
           0.38823529411764707,
           "#a7a3ff"
          ],
          [
           0.39215686274509803,
           "#aaa7ff"
          ],
          [
           0.396078431372549,
           "#adacff"
          ],
          [
           0.4,
           "#b0b0ff"
          ],
          [
           0.403921568627451,
           "#b3b3ff"
          ],
          [
           0.40784313725490196,
           "#b6b6ff"
          ],
          [
           0.4117647058823529,
           "#b9b9ff"
          ],
          [
           0.41568627450980394,
           "#bcbcff"
          ],
          [
           0.4196078431372549,
           "#bfbfff"
          ],
          [
           0.4235294117647059,
           "#c3c3ff"
          ],
          [
           0.42745098039215684,
           "#c6c6ff"
          ],
          [
           0.43137254901960786,
           "#c9c9ff"
          ],
          [
           0.43529411764705883,
           "#ccccff"
          ],
          [
           0.4392156862745098,
           "#cfcfff"
          ],
          [
           0.44313725490196076,
           "#d2d2ff"
          ],
          [
           0.4470588235294118,
           "#d5d5ff"
          ],
          [
           0.45098039215686275,
           "#d8d8ff"
          ],
          [
           0.4549019607843137,
           "#dbdbff"
          ],
          [
           0.4588235294117647,
           "#dedeff"
          ],
          [
           0.4627450980392157,
           "#e2e2ff"
          ],
          [
           0.4666666666666667,
           "#e5e5ff"
          ],
          [
           0.47058823529411764,
           "#e8e8ff"
          ],
          [
           0.4745098039215686,
           "#ebebff"
          ],
          [
           0.47843137254901963,
           "#eeeeff"
          ],
          [
           0.4823529411764706,
           "#f1f1ff"
          ],
          [
           0.48627450980392156,
           "#f4f4ff"
          ],
          [
           0.49019607843137253,
           "#f7f7ff"
          ],
          [
           0.49411764705882355,
           "#fafaff"
          ],
          [
           0.4980392156862745,
           "#fdfdff"
          ],
          [
           0.5019607843137255,
           "#fffdfd"
          ],
          [
           0.5058823529411764,
           "#fffafa"
          ],
          [
           0.5098039215686274,
           "#fff7f7"
          ],
          [
           0.5137254901960784,
           "#fff4f4"
          ],
          [
           0.5176470588235295,
           "#fff1f1"
          ],
          [
           0.5215686274509804,
           "#ffeeee"
          ],
          [
           0.5254901960784314,
           "#ffebeb"
          ],
          [
           0.5294117647058824,
           "#ffe8e8"
          ],
          [
           0.5333333333333333,
           "#ffe5e5"
          ],
          [
           0.5372549019607843,
           "#ffe2e2"
          ],
          [
           0.5411764705882353,
           "#ffdede"
          ],
          [
           0.5450980392156862,
           "#ffdbdb"
          ],
          [
           0.5490196078431373,
           "#ffd8d8"
          ],
          [
           0.5529411764705883,
           "#ffd5d5"
          ],
          [
           0.5568627450980392,
           "#ffd2d2"
          ],
          [
           0.5607843137254902,
           "#ffcfcf"
          ],
          [
           0.5647058823529412,
           "#ffcccc"
          ],
          [
           0.5686274509803921,
           "#ffc9c9"
          ],
          [
           0.5725490196078431,
           "#ffc6c6"
          ],
          [
           0.5764705882352941,
           "#ffc3c3"
          ],
          [
           0.5803921568627451,
           "#ffbfbf"
          ],
          [
           0.5843137254901961,
           "#ffbcbc"
          ],
          [
           0.5882352941176471,
           "#ffb9b9"
          ],
          [
           0.592156862745098,
           "#ffb6b6"
          ],
          [
           0.596078431372549,
           "#ffb3b3"
          ],
          [
           0.6,
           "#ffb0b0"
          ],
          [
           0.6039215686274509,
           "#ffacad"
          ],
          [
           0.6078431372549019,
           "#ffa7aa"
          ],
          [
           0.611764705882353,
           "#ffa3a7"
          ],
          [
           0.615686274509804,
           "#ff9fa4"
          ],
          [
           0.6196078431372549,
           "#ff9aa1"
          ],
          [
           0.6235294117647059,
           "#ff969e"
          ],
          [
           0.6274509803921569,
           "#ff929b"
          ],
          [
           0.6313725490196078,
           "#ff8e98"
          ],
          [
           0.6352941176470588,
           "#ff8995"
          ],
          [
           0.6392156862745098,
           "#ff8592"
          ],
          [
           0.6431372549019608,
           "#ff818f"
          ],
          [
           0.6470588235294118,
           "#ff7c8c"
          ],
          [
           0.6509803921568628,
           "#ff7889"
          ],
          [
           0.6549019607843137,
           "#ff7486"
          ],
          [
           0.6588235294117647,
           "#ff6f83"
          ],
          [
           0.6627450980392157,
           "#ff6b80"
          ],
          [
           0.6666666666666666,
           "#ff677d"
          ],
          [
           0.6705882352941176,
           "#ff637a"
          ],
          [
           0.6745098039215687,
           "#ff5e77"
          ],
          [
           0.6784313725490196,
           "#ff5a74"
          ],
          [
           0.6823529411764706,
           "#ff5671"
          ],
          [
           0.6862745098039216,
           "#ff516e"
          ],
          [
           0.6901960784313725,
           "#ff4d6b"
          ],
          [
           0.6941176470588235,
           "#ff4968"
          ],
          [
           0.6980392156862745,
           "#ff4465"
          ],
          [
           0.7019607843137254,
           "#ff4163"
          ],
          [
           0.7058823529411765,
           "#ff4062"
          ],
          [
           0.7098039215686275,
           "#ff3e60"
          ],
          [
           0.7137254901960784,
           "#ff3c5f"
          ],
          [
           0.7176470588235294,
           "#ff3b5e"
          ],
          [
           0.7215686274509804,
           "#ff395c"
          ],
          [
           0.7254901960784313,
           "#ff375b"
          ],
          [
           0.7294117647058823,
           "#ff365a"
          ],
          [
           0.7333333333333333,
           "#ff3458"
          ],
          [
           0.7372549019607844,
           "#ff3257"
          ],
          [
           0.7411764705882353,
           "#ff3056"
          ],
          [
           0.7450980392156863,
           "#ff2f55"
          ],
          [
           0.7490196078431373,
           "#ff2d53"
          ],
          [
           0.7529411764705882,
           "#ff2b52"
          ],
          [
           0.7568627450980392,
           "#ff2a51"
          ],
          [
           0.7607843137254902,
           "#ff284f"
          ],
          [
           0.7647058823529411,
           "#ff264e"
          ],
          [
           0.7686274509803922,
           "#ff254d"
          ],
          [
           0.7725490196078432,
           "#ff234b"
          ],
          [
           0.7764705882352941,
           "#ff214a"
          ],
          [
           0.7803921568627451,
           "#ff1f49"
          ],
          [
           0.7843137254901961,
           "#ff1e48"
          ],
          [
           0.788235294117647,
           "#ff1c46"
          ],
          [
           0.792156862745098,
           "#ff1a45"
          ],
          [
           0.796078431372549,
           "#ff1944"
          ],
          [
           0.8,
           "#ff1742"
          ],
          [
           0.803921568627451,
           "#ff1842"
          ],
          [
           0.807843137254902,
           "#ff1842"
          ],
          [
           0.8117647058823529,
           "#ff1942"
          ],
          [
           0.8156862745098039,
           "#ff1a42"
          ],
          [
           0.8196078431372549,
           "#ff1a42"
          ],
          [
           0.8235294117647058,
           "#ff1b42"
          ],
          [
           0.8274509803921568,
           "#ff1c42"
          ],
          [
           0.8313725490196079,
           "#ff1d42"
          ],
          [
           0.8352941176470589,
           "#ff1d42"
          ],
          [
           0.8392156862745098,
           "#ff1e42"
          ],
          [
           0.8431372549019608,
           "#ff1f42"
          ],
          [
           0.8470588235294118,
           "#ff1f42"
          ],
          [
           0.8509803921568627,
           "#ff2042"
          ],
          [
           0.8549019607843137,
           "#ff2142"
          ],
          [
           0.8588235294117647,
           "#ff2142"
          ],
          [
           0.8627450980392157,
           "#ff2242"
          ],
          [
           0.8666666666666667,
           "#ff2342"
          ],
          [
           0.8705882352941177,
           "#ff2442"
          ],
          [
           0.8745098039215686,
           "#ff2442"
          ],
          [
           0.8784313725490196,
           "#ff2542"
          ],
          [
           0.8823529411764706,
           "#ff2642"
          ],
          [
           0.8862745098039215,
           "#ff2642"
          ],
          [
           0.8901960784313725,
           "#ff2742"
          ],
          [
           0.8941176470588236,
           "#ff2842"
          ],
          [
           0.8980392156862745,
           "#ff2842"
          ],
          [
           0.9019607843137255,
           "#ff2942"
          ],
          [
           0.9058823529411765,
           "#ff2a42"
          ],
          [
           0.9098039215686274,
           "#ff2b42"
          ],
          [
           0.9137254901960784,
           "#ff2c42"
          ],
          [
           0.9176470588235294,
           "#ff2d42"
          ],
          [
           0.9215686274509803,
           "#ff2e42"
          ],
          [
           0.9254901960784314,
           "#ff2f42"
          ],
          [
           0.9294117647058824,
           "#ff3042"
          ],
          [
           0.9333333333333333,
           "#ff3142"
          ],
          [
           0.9372549019607843,
           "#ff3242"
          ],
          [
           0.9411764705882353,
           "#ff3342"
          ],
          [
           0.9450980392156862,
           "#ff3442"
          ],
          [
           0.9490196078431372,
           "#ff3542"
          ],
          [
           0.9529411764705882,
           "#ff3642"
          ],
          [
           0.9568627450980393,
           "#ff3742"
          ],
          [
           0.9607843137254902,
           "#ff3842"
          ],
          [
           0.9647058823529412,
           "#ff3942"
          ],
          [
           0.9686274509803922,
           "#ff3a42"
          ],
          [
           0.9725490196078431,
           "#ff3b42"
          ],
          [
           0.9764705882352941,
           "#ff3c42"
          ],
          [
           0.9803921568627451,
           "#ff3d42"
          ],
          [
           0.984313725490196,
           "#ff3e42"
          ],
          [
           0.9882352941176471,
           "#ff3f42"
          ],
          [
           0.9921568627450981,
           "#ff4042"
          ],
          [
           0.996078431372549,
           "#ff4142"
          ],
          [
           1,
           "#ff4242"
          ]
         ],
         "showscale": false,
         "type": "heatmap",
         "uid": "c4d44bab-e764-46f3-89a8-22d09028f359",
         "x": [
          "Sample 0",
          "Sample 1"
         ],
         "y": [
          "Index 3",
          "Index 5",
          "Index 2",
          "Index 7",
          "Index 0",
          "Index 6",
          "Index 4",
          "Index 1"
         ],
         "yaxis": "y",
         "z": [
          [
           1.0000000000000013,
           -0.9999999999999988
          ],
          [
           1,
           -1
          ],
          [
           1,
           -1
          ],
          [
           1,
           -1
          ],
          [
           0.9999999999999982,
           -1.0000000000000018
          ],
          [
           -1,
           1
          ],
          [
           -1,
           1
          ],
          [
           -1,
           1
          ]
         ],
         "zmax": 1.0000000000000013,
         "zmin": -1.0000000000000018
        }
       ],
       "layout": {
        "annotations": [
         {
          "font": {
           "size": 9.6
          },
          "showarrow": false,
          "text": "<b>Score</b>",
          "width": 64,
          "x": 1.0016,
          "xanchor": "left",
          "xref": "paper",
          "y": 0.95,
          "yanchor": "middle",
          "yref": "paper"
         },
         {
          "font": {
           "size": 9.6
          },
          "showarrow": false,
          "text": "<b>0.86</b>",
          "width": 64,
          "x": 1.0016,
          "xanchor": "left",
          "xref": "paper",
          "y": 0.75,
          "yanchor": "middle",
          "yref": "paper"
         },
         {
          "font": {
           "size": 9.6
          },
          "showarrow": false,
          "text": "<b>0.86</b>",
          "width": 64,
          "x": 1.0016,
          "xanchor": "left",
          "xref": "paper",
          "y": 0.65,
          "yanchor": "middle",
          "yref": "paper"
         },
         {
          "font": {
           "size": 9.6
          },
          "showarrow": false,
          "text": "<b>0.86</b>",
          "width": 64,
          "x": 1.0016,
          "xanchor": "left",
          "xref": "paper",
          "y": 0.55,
          "yanchor": "middle",
          "yref": "paper"
         },
         {
          "font": {
           "size": 9.6
          },
          "showarrow": false,
          "text": "<b>-0.86</b>",
          "width": 64,
          "x": 1.0016,
          "xanchor": "left",
          "xref": "paper",
          "y": 0.45000000000000007,
          "yanchor": "middle",
          "yref": "paper"
         },
         {
          "font": {
           "size": 9.6
          },
          "showarrow": false,
          "text": "<b>-0.86</b>",
          "width": 64,
          "x": 1.0016,
          "xanchor": "left",
          "xref": "paper",
          "y": 0.3500000000000001,
          "yanchor": "middle",
          "yref": "paper"
         },
         {
          "font": {
           "size": 9.6
          },
          "showarrow": false,
          "text": "<b>-0.86</b>",
          "width": 64,
          "x": 1.0016,
          "xanchor": "left",
          "xref": "paper",
          "y": 0.2500000000000001,
          "yanchor": "middle",
          "yref": "paper"
         },
         {
          "font": {
           "size": 9.6
          },
          "showarrow": false,
          "text": "<b>-0.86</b>",
          "width": 64,
          "x": 1.0016,
          "xanchor": "left",
          "xref": "paper",
          "y": 0.1500000000000001,
          "yanchor": "middle",
          "yref": "paper"
         },
         {
          "font": {
           "size": 9.6
          },
          "showarrow": false,
          "text": "<b>-0.86</b>",
          "width": 64,
          "x": 1.0016,
          "xanchor": "left",
          "xref": "paper",
          "y": 0.0500000000000001,
          "yanchor": "middle",
          "yref": "paper"
         },
         {
          "font": {
           "size": 9.6
          },
          "showarrow": false,
          "text": "<b>P-Value</b>",
          "width": 64,
          "x": 1.1016000000000001,
          "xanchor": "left",
          "xref": "paper",
          "y": 0.95,
          "yanchor": "middle",
          "yref": "paper"
         },
         {
          "font": {
           "size": 9.6
          },
          "showarrow": false,
          "text": "<b>0.38</b>",
          "width": 64,
          "x": 1.1016000000000001,
          "xanchor": "left",
          "xref": "paper",
          "y": 0.75,
          "yanchor": "middle",
          "yref": "paper"
         },
         {
          "font": {
           "size": 9.6
          },
          "showarrow": false,
          "text": "<b>0.38</b>",
          "width": 64,
          "x": 1.1016000000000001,
          "xanchor": "left",
          "xref": "paper",
          "y": 0.65,
          "yanchor": "middle",
          "yref": "paper"
         },
         {
          "font": {
           "size": 9.6
          },
          "showarrow": false,
          "text": "<b>0.38</b>",
          "width": 64,
          "x": 1.1016000000000001,
          "xanchor": "left",
          "xref": "paper",
          "y": 0.55,
          "yanchor": "middle",
          "yref": "paper"
         },
         {
          "font": {
           "size": 9.6
          },
          "showarrow": false,
          "text": "<b>0.62</b>",
          "width": 64,
          "x": 1.1016000000000001,
          "xanchor": "left",
          "xref": "paper",
          "y": 0.45000000000000007,
          "yanchor": "middle",
          "yref": "paper"
         },
         {
          "font": {
           "size": 9.6
          },
          "showarrow": false,
          "text": "<b>0.62</b>",
          "width": 64,
          "x": 1.1016000000000001,
          "xanchor": "left",
          "xref": "paper",
          "y": 0.3500000000000001,
          "yanchor": "middle",
          "yref": "paper"
         },
         {
          "font": {
           "size": 9.6
          },
          "showarrow": false,
          "text": "<b>0.38</b>",
          "width": 64,
          "x": 1.1016000000000001,
          "xanchor": "left",
          "xref": "paper",
          "y": 0.2500000000000001,
          "yanchor": "middle",
          "yref": "paper"
         },
         {
          "font": {
           "size": 9.6
          },
          "showarrow": false,
          "text": "<b>0.38</b>",
          "width": 64,
          "x": 1.1016000000000001,
          "xanchor": "left",
          "xref": "paper",
          "y": 0.1500000000000001,
          "yanchor": "middle",
          "yref": "paper"
         },
         {
          "font": {
           "size": 9.6
          },
          "showarrow": false,
          "text": "<b>0.12</b>",
          "width": 64,
          "x": 1.1016000000000001,
          "xanchor": "left",
          "xref": "paper",
          "y": 0.0500000000000001,
          "yanchor": "middle",
          "yref": "paper"
         },
         {
          "font": {
           "size": 9.6
          },
          "showarrow": false,
          "text": "<b>FDR</b>",
          "width": 64,
          "x": 1.2016,
          "xanchor": "left",
          "xref": "paper",
          "y": 0.95,
          "yanchor": "middle",
          "yref": "paper"
         },
         {
          "font": {
           "size": 9.6
          },
          "showarrow": false,
          "text": "<b>1.00</b>",
          "width": 64,
          "x": 1.2016,
          "xanchor": "left",
          "xref": "paper",
          "y": 0.75,
          "yanchor": "middle",
          "yref": "paper"
         },
         {
          "font": {
           "size": 9.6
          },
          "showarrow": false,
          "text": "<b>1.00</b>",
          "width": 64,
          "x": 1.2016,
          "xanchor": "left",
          "xref": "paper",
          "y": 0.65,
          "yanchor": "middle",
          "yref": "paper"
         },
         {
          "font": {
           "size": 9.6
          },
          "showarrow": false,
          "text": "<b>1.00</b>",
          "width": 64,
          "x": 1.2016,
          "xanchor": "left",
          "xref": "paper",
          "y": 0.55,
          "yanchor": "middle",
          "yref": "paper"
         },
         {
          "font": {
           "size": 9.6
          },
          "showarrow": false,
          "text": "<b>1.00</b>",
          "width": 64,
          "x": 1.2016,
          "xanchor": "left",
          "xref": "paper",
          "y": 0.45000000000000007,
          "yanchor": "middle",
          "yref": "paper"
         },
         {
          "font": {
           "size": 9.6
          },
          "showarrow": false,
          "text": "<b>1.00</b>",
          "width": 64,
          "x": 1.2016,
          "xanchor": "left",
          "xref": "paper",
          "y": 0.3500000000000001,
          "yanchor": "middle",
          "yref": "paper"
         },
         {
          "font": {
           "size": 9.6
          },
          "showarrow": false,
          "text": "<b>1.00</b>",
          "width": 64,
          "x": 1.2016,
          "xanchor": "left",
          "xref": "paper",
          "y": 0.2500000000000001,
          "yanchor": "middle",
          "yref": "paper"
         },
         {
          "font": {
           "size": 9.6
          },
          "showarrow": false,
          "text": "<b>1.00</b>",
          "width": 64,
          "x": 1.2016,
          "xanchor": "left",
          "xref": "paper",
          "y": 0.1500000000000001,
          "yanchor": "middle",
          "yref": "paper"
         },
         {
          "font": {
           "size": 9.6
          },
          "showarrow": false,
          "text": "<b>1.00</b>",
          "width": 64,
          "x": 1.2016,
          "xanchor": "left",
          "xref": "paper",
          "y": 0.0500000000000001,
          "yanchor": "middle",
          "yref": "paper"
         }
        ],
        "height": 512,
        "margin": {
         "l": 196,
         "r": 196
        },
        "title": "Match Panel",
        "width": 880,
        "xaxis": {
         "anchor": "y",
         "tickfont": {
          "size": 9.6
         }
        },
        "yaxis": {
         "domain": [
          0,
          0.8
         ],
         "dtick": 1,
         "tickfont": {
          "size": 9.6
         }
        },
        "yaxis2": {
         "domain": [
          0.9,
          1
         ],
         "tickfont": {
          "size": 9.6
         }
        }
       }
      },
      "text/html": [
       "<div id=\"7fe0dd2b-15ad-479f-9779-b31e25f96eb3\" style=\"height: 512px; width: 880px;\" class=\"plotly-graph-div\"></div><script type=\"text/javascript\">require([\"plotly\"], function(Plotly) { window.PLOTLYENV=window.PLOTLYENV || {};window.PLOTLYENV.BASE_URL=\"https://plot.ly\";Plotly.newPlot(\"7fe0dd2b-15ad-479f-9779-b31e25f96eb3\", [{\"colorscale\": [[0.0, \"#ebf6f7\"], [1.0, \"#171412\"]], \"showscale\": false, \"text\": [[\"Sample 0\", \"Sample 1\"]], \"x\": [\"Sample 0\", \"Sample 1\"], \"y\": [\"Target\"], \"yaxis\": \"y2\", \"z\": [[0, 2]], \"type\": \"heatmap\", \"uid\": \"ff1d3c09-9302-4ea7-833a-b8b267288d53\"}, {\"colorscale\": [[0.0, \"#4242ff\"], [0.00392156862745098, \"#4241ff\"], [0.00784313725490196, \"#4240ff\"], [0.011764705882352941, \"#423fff\"], [0.01568627450980392, \"#423eff\"], [0.0196078431372549, \"#423dff\"], [0.023529411764705882, \"#423cff\"], [0.027450980392156862, \"#423bff\"], [0.03137254901960784, \"#423aff\"], [0.03529411764705882, \"#4239ff\"], [0.0392156862745098, \"#4238ff\"], [0.043137254901960784, \"#4237ff\"], [0.047058823529411764, \"#4236ff\"], [0.050980392156862744, \"#4235ff\"], [0.054901960784313725, \"#4234ff\"], [0.058823529411764705, \"#4233ff\"], [0.06274509803921569, \"#4232ff\"], [0.06666666666666667, \"#4231ff\"], [0.07058823529411765, \"#4230ff\"], [0.07450980392156863, \"#422fff\"], [0.0784313725490196, \"#422eff\"], [0.08235294117647059, \"#422dff\"], [0.08627450980392157, \"#422cff\"], [0.09019607843137255, \"#422bff\"], [0.09411764705882353, \"#422aff\"], [0.09803921568627451, \"#4229ff\"], [0.10196078431372549, \"#4228ff\"], [0.10588235294117647, \"#4228ff\"], [0.10980392156862745, \"#4227ff\"], [0.11372549019607843, \"#4226ff\"], [0.11764705882352941, \"#4226ff\"], [0.12156862745098039, \"#4225ff\"], [0.12549019607843137, \"#4224ff\"], [0.12941176470588237, \"#4224ff\"], [0.13333333333333333, \"#4223ff\"], [0.13725490196078433, \"#4222ff\"], [0.1411764705882353, \"#4221ff\"], [0.1450980392156863, \"#4221ff\"], [0.14901960784313725, \"#4220ff\"], [0.15294117647058825, \"#421fff\"], [0.1568627450980392, \"#421fff\"], [0.1607843137254902, \"#421eff\"], [0.16470588235294117, \"#421dff\"], [0.16862745098039217, \"#421dff\"], [0.17254901960784313, \"#421cff\"], [0.17647058823529413, \"#421bff\"], [0.1803921568627451, \"#421aff\"], [0.1843137254901961, \"#421aff\"], [0.18823529411764706, \"#4219ff\"], [0.19215686274509805, \"#4218ff\"], [0.19607843137254902, \"#4218ff\"], [0.2, \"#4217ff\"], [0.20392156862745098, \"#4419ff\"], [0.20784313725490197, \"#451aff\"], [0.21176470588235294, \"#461cff\"], [0.21568627450980393, \"#481eff\"], [0.2196078431372549, \"#491fff\"], [0.2235294117647059, \"#4a21ff\"], [0.22745098039215686, \"#4b23ff\"], [0.23137254901960785, \"#4d25ff\"], [0.23529411764705882, \"#4e26ff\"], [0.23921568627450981, \"#4f28ff\"], [0.24313725490196078, \"#512aff\"], [0.24705882352941178, \"#522bff\"], [0.25098039215686274, \"#532dff\"], [0.2549019607843137, \"#542fff\"], [0.25882352941176473, \"#5630ff\"], [0.2627450980392157, \"#5732ff\"], [0.26666666666666666, \"#5834ff\"], [0.27058823529411763, \"#5a36ff\"], [0.27450980392156865, \"#5b37ff\"], [0.2784313725490196, \"#5c39ff\"], [0.2823529411764706, \"#5e3bff\"], [0.28627450980392155, \"#5f3cff\"], [0.2901960784313726, \"#603eff\"], [0.29411764705882354, \"#6240ff\"], [0.2980392156862745, \"#6341ff\"], [0.30196078431372547, \"#6544ff\"], [0.3058823529411765, \"#6849ff\"], [0.30980392156862746, \"#6b4dff\"], [0.3137254901960784, \"#6e51ff\"], [0.3176470588235294, \"#7156ff\"], [0.3215686274509804, \"#745aff\"], [0.3254901960784314, \"#775eff\"], [0.32941176470588235, \"#7a63ff\"], [0.3333333333333333, \"#7d67ff\"], [0.33725490196078434, \"#806bff\"], [0.3411764705882353, \"#836fff\"], [0.34509803921568627, \"#8674ff\"], [0.34901960784313724, \"#8978ff\"], [0.35294117647058826, \"#8c7cff\"], [0.3568627450980392, \"#8f81ff\"], [0.3607843137254902, \"#9285ff\"], [0.36470588235294116, \"#9589ff\"], [0.3686274509803922, \"#988eff\"], [0.37254901960784315, \"#9b92ff\"], [0.3764705882352941, \"#9e96ff\"], [0.3803921568627451, \"#a19aff\"], [0.3843137254901961, \"#a49fff\"], [0.38823529411764707, \"#a7a3ff\"], [0.39215686274509803, \"#aaa7ff\"], [0.396078431372549, \"#adacff\"], [0.4, \"#b0b0ff\"], [0.403921568627451, \"#b3b3ff\"], [0.40784313725490196, \"#b6b6ff\"], [0.4117647058823529, \"#b9b9ff\"], [0.41568627450980394, \"#bcbcff\"], [0.4196078431372549, \"#bfbfff\"], [0.4235294117647059, \"#c3c3ff\"], [0.42745098039215684, \"#c6c6ff\"], [0.43137254901960786, \"#c9c9ff\"], [0.43529411764705883, \"#ccccff\"], [0.4392156862745098, \"#cfcfff\"], [0.44313725490196076, \"#d2d2ff\"], [0.4470588235294118, \"#d5d5ff\"], [0.45098039215686275, \"#d8d8ff\"], [0.4549019607843137, \"#dbdbff\"], [0.4588235294117647, \"#dedeff\"], [0.4627450980392157, \"#e2e2ff\"], [0.4666666666666667, \"#e5e5ff\"], [0.47058823529411764, \"#e8e8ff\"], [0.4745098039215686, \"#ebebff\"], [0.47843137254901963, \"#eeeeff\"], [0.4823529411764706, \"#f1f1ff\"], [0.48627450980392156, \"#f4f4ff\"], [0.49019607843137253, \"#f7f7ff\"], [0.49411764705882355, \"#fafaff\"], [0.4980392156862745, \"#fdfdff\"], [0.5019607843137255, \"#fffdfd\"], [0.5058823529411764, \"#fffafa\"], [0.5098039215686274, \"#fff7f7\"], [0.5137254901960784, \"#fff4f4\"], [0.5176470588235295, \"#fff1f1\"], [0.5215686274509804, \"#ffeeee\"], [0.5254901960784314, \"#ffebeb\"], [0.5294117647058824, \"#ffe8e8\"], [0.5333333333333333, \"#ffe5e5\"], [0.5372549019607843, \"#ffe2e2\"], [0.5411764705882353, \"#ffdede\"], [0.5450980392156862, \"#ffdbdb\"], [0.5490196078431373, \"#ffd8d8\"], [0.5529411764705883, \"#ffd5d5\"], [0.5568627450980392, \"#ffd2d2\"], [0.5607843137254902, \"#ffcfcf\"], [0.5647058823529412, \"#ffcccc\"], [0.5686274509803921, \"#ffc9c9\"], [0.5725490196078431, \"#ffc6c6\"], [0.5764705882352941, \"#ffc3c3\"], [0.5803921568627451, \"#ffbfbf\"], [0.5843137254901961, \"#ffbcbc\"], [0.5882352941176471, \"#ffb9b9\"], [0.592156862745098, \"#ffb6b6\"], [0.596078431372549, \"#ffb3b3\"], [0.6, \"#ffb0b0\"], [0.6039215686274509, \"#ffacad\"], [0.6078431372549019, \"#ffa7aa\"], [0.611764705882353, \"#ffa3a7\"], [0.615686274509804, \"#ff9fa4\"], [0.6196078431372549, \"#ff9aa1\"], [0.6235294117647059, \"#ff969e\"], [0.6274509803921569, \"#ff929b\"], [0.6313725490196078, \"#ff8e98\"], [0.6352941176470588, \"#ff8995\"], [0.6392156862745098, \"#ff8592\"], [0.6431372549019608, \"#ff818f\"], [0.6470588235294118, \"#ff7c8c\"], [0.6509803921568628, \"#ff7889\"], [0.6549019607843137, \"#ff7486\"], [0.6588235294117647, \"#ff6f83\"], [0.6627450980392157, \"#ff6b80\"], [0.6666666666666666, \"#ff677d\"], [0.6705882352941176, \"#ff637a\"], [0.6745098039215687, \"#ff5e77\"], [0.6784313725490196, \"#ff5a74\"], [0.6823529411764706, \"#ff5671\"], [0.6862745098039216, \"#ff516e\"], [0.6901960784313725, \"#ff4d6b\"], [0.6941176470588235, \"#ff4968\"], [0.6980392156862745, \"#ff4465\"], [0.7019607843137254, \"#ff4163\"], [0.7058823529411765, \"#ff4062\"], [0.7098039215686275, \"#ff3e60\"], [0.7137254901960784, \"#ff3c5f\"], [0.7176470588235294, \"#ff3b5e\"], [0.7215686274509804, \"#ff395c\"], [0.7254901960784313, \"#ff375b\"], [0.7294117647058823, \"#ff365a\"], [0.7333333333333333, \"#ff3458\"], [0.7372549019607844, \"#ff3257\"], [0.7411764705882353, \"#ff3056\"], [0.7450980392156863, \"#ff2f55\"], [0.7490196078431373, \"#ff2d53\"], [0.7529411764705882, \"#ff2b52\"], [0.7568627450980392, \"#ff2a51\"], [0.7607843137254902, \"#ff284f\"], [0.7647058823529411, \"#ff264e\"], [0.7686274509803922, \"#ff254d\"], [0.7725490196078432, \"#ff234b\"], [0.7764705882352941, \"#ff214a\"], [0.7803921568627451, \"#ff1f49\"], [0.7843137254901961, \"#ff1e48\"], [0.788235294117647, \"#ff1c46\"], [0.792156862745098, \"#ff1a45\"], [0.796078431372549, \"#ff1944\"], [0.8, \"#ff1742\"], [0.803921568627451, \"#ff1842\"], [0.807843137254902, \"#ff1842\"], [0.8117647058823529, \"#ff1942\"], [0.8156862745098039, \"#ff1a42\"], [0.8196078431372549, \"#ff1a42\"], [0.8235294117647058, \"#ff1b42\"], [0.8274509803921568, \"#ff1c42\"], [0.8313725490196079, \"#ff1d42\"], [0.8352941176470589, \"#ff1d42\"], [0.8392156862745098, \"#ff1e42\"], [0.8431372549019608, \"#ff1f42\"], [0.8470588235294118, \"#ff1f42\"], [0.8509803921568627, \"#ff2042\"], [0.8549019607843137, \"#ff2142\"], [0.8588235294117647, \"#ff2142\"], [0.8627450980392157, \"#ff2242\"], [0.8666666666666667, \"#ff2342\"], [0.8705882352941177, \"#ff2442\"], [0.8745098039215686, \"#ff2442\"], [0.8784313725490196, \"#ff2542\"], [0.8823529411764706, \"#ff2642\"], [0.8862745098039215, \"#ff2642\"], [0.8901960784313725, \"#ff2742\"], [0.8941176470588236, \"#ff2842\"], [0.8980392156862745, \"#ff2842\"], [0.9019607843137255, \"#ff2942\"], [0.9058823529411765, \"#ff2a42\"], [0.9098039215686274, \"#ff2b42\"], [0.9137254901960784, \"#ff2c42\"], [0.9176470588235294, \"#ff2d42\"], [0.9215686274509803, \"#ff2e42\"], [0.9254901960784314, \"#ff2f42\"], [0.9294117647058824, \"#ff3042\"], [0.9333333333333333, \"#ff3142\"], [0.9372549019607843, \"#ff3242\"], [0.9411764705882353, \"#ff3342\"], [0.9450980392156862, \"#ff3442\"], [0.9490196078431372, \"#ff3542\"], [0.9529411764705882, \"#ff3642\"], [0.9568627450980393, \"#ff3742\"], [0.9607843137254902, \"#ff3842\"], [0.9647058823529412, \"#ff3942\"], [0.9686274509803922, \"#ff3a42\"], [0.9725490196078431, \"#ff3b42\"], [0.9764705882352941, \"#ff3c42\"], [0.9803921568627451, \"#ff3d42\"], [0.984313725490196, \"#ff3e42\"], [0.9882352941176471, \"#ff3f42\"], [0.9921568627450981, \"#ff4042\"], [0.996078431372549, \"#ff4142\"], [1.0, \"#ff4242\"]], \"showscale\": false, \"x\": [\"Sample 0\", \"Sample 1\"], \"y\": [\"Index 3\", \"Index 5\", \"Index 2\", \"Index 7\", \"Index 0\", \"Index 6\", \"Index 4\", \"Index 1\"], \"yaxis\": \"y\", \"z\": [[1.0000000000000013, -0.9999999999999988], [1.0, -1.0], [1.0, -1.0], [1.0, -1.0], [0.9999999999999982, -1.0000000000000018], [-1.0, 1.0], [-1.0, 1.0], [-1.0, 1.0]], \"zmax\": 1.0000000000000013, \"zmin\": -1.0000000000000018, \"type\": \"heatmap\", \"uid\": \"351ce080-dba1-435e-a0c0-58c179e32c65\"}], {\"annotations\": [{\"font\": {\"size\": 9.6}, \"showarrow\": false, \"text\": \"<b>Score</b>\", \"width\": 64, \"x\": 1.0016, \"xanchor\": \"left\", \"xref\": \"paper\", \"y\": 0.95, \"yanchor\": \"middle\", \"yref\": \"paper\"}, {\"font\": {\"size\": 9.6}, \"showarrow\": false, \"text\": \"<b>0.86</b>\", \"width\": 64, \"x\": 1.0016, \"xanchor\": \"left\", \"xref\": \"paper\", \"y\": 0.75, \"yanchor\": \"middle\", \"yref\": \"paper\"}, {\"font\": {\"size\": 9.6}, \"showarrow\": false, \"text\": \"<b>0.86</b>\", \"width\": 64, \"x\": 1.0016, \"xanchor\": \"left\", \"xref\": \"paper\", \"y\": 0.65, \"yanchor\": \"middle\", \"yref\": \"paper\"}, {\"font\": {\"size\": 9.6}, \"showarrow\": false, \"text\": \"<b>0.86</b>\", \"width\": 64, \"x\": 1.0016, \"xanchor\": \"left\", \"xref\": \"paper\", \"y\": 0.55, \"yanchor\": \"middle\", \"yref\": \"paper\"}, {\"font\": {\"size\": 9.6}, \"showarrow\": false, \"text\": \"<b>-0.86</b>\", \"width\": 64, \"x\": 1.0016, \"xanchor\": \"left\", \"xref\": \"paper\", \"y\": 0.45000000000000007, \"yanchor\": \"middle\", \"yref\": \"paper\"}, {\"font\": {\"size\": 9.6}, \"showarrow\": false, \"text\": \"<b>-0.86</b>\", \"width\": 64, \"x\": 1.0016, \"xanchor\": \"left\", \"xref\": \"paper\", \"y\": 0.3500000000000001, \"yanchor\": \"middle\", \"yref\": \"paper\"}, {\"font\": {\"size\": 9.6}, \"showarrow\": false, \"text\": \"<b>-0.86</b>\", \"width\": 64, \"x\": 1.0016, \"xanchor\": \"left\", \"xref\": \"paper\", \"y\": 0.2500000000000001, \"yanchor\": \"middle\", \"yref\": \"paper\"}, {\"font\": {\"size\": 9.6}, \"showarrow\": false, \"text\": \"<b>-0.86</b>\", \"width\": 64, \"x\": 1.0016, \"xanchor\": \"left\", \"xref\": \"paper\", \"y\": 0.1500000000000001, \"yanchor\": \"middle\", \"yref\": \"paper\"}, {\"font\": {\"size\": 9.6}, \"showarrow\": false, \"text\": \"<b>-0.86</b>\", \"width\": 64, \"x\": 1.0016, \"xanchor\": \"left\", \"xref\": \"paper\", \"y\": 0.0500000000000001, \"yanchor\": \"middle\", \"yref\": \"paper\"}, {\"font\": {\"size\": 9.6}, \"showarrow\": false, \"text\": \"<b>P-Value</b>\", \"width\": 64, \"x\": 1.1016000000000001, \"xanchor\": \"left\", \"xref\": \"paper\", \"y\": 0.95, \"yanchor\": \"middle\", \"yref\": \"paper\"}, {\"font\": {\"size\": 9.6}, \"showarrow\": false, \"text\": \"<b>0.38</b>\", \"width\": 64, \"x\": 1.1016000000000001, \"xanchor\": \"left\", \"xref\": \"paper\", \"y\": 0.75, \"yanchor\": \"middle\", \"yref\": \"paper\"}, {\"font\": {\"size\": 9.6}, \"showarrow\": false, \"text\": \"<b>0.38</b>\", \"width\": 64, \"x\": 1.1016000000000001, \"xanchor\": \"left\", \"xref\": \"paper\", \"y\": 0.65, \"yanchor\": \"middle\", \"yref\": \"paper\"}, {\"font\": {\"size\": 9.6}, \"showarrow\": false, \"text\": \"<b>0.38</b>\", \"width\": 64, \"x\": 1.1016000000000001, \"xanchor\": \"left\", \"xref\": \"paper\", \"y\": 0.55, \"yanchor\": \"middle\", \"yref\": \"paper\"}, {\"font\": {\"size\": 9.6}, \"showarrow\": false, \"text\": \"<b>0.62</b>\", \"width\": 64, \"x\": 1.1016000000000001, \"xanchor\": \"left\", \"xref\": \"paper\", \"y\": 0.45000000000000007, \"yanchor\": \"middle\", \"yref\": \"paper\"}, {\"font\": {\"size\": 9.6}, \"showarrow\": false, \"text\": \"<b>0.62</b>\", \"width\": 64, \"x\": 1.1016000000000001, \"xanchor\": \"left\", \"xref\": \"paper\", \"y\": 0.3500000000000001, \"yanchor\": \"middle\", \"yref\": \"paper\"}, {\"font\": {\"size\": 9.6}, \"showarrow\": false, \"text\": \"<b>0.38</b>\", \"width\": 64, \"x\": 1.1016000000000001, \"xanchor\": \"left\", \"xref\": \"paper\", \"y\": 0.2500000000000001, \"yanchor\": \"middle\", \"yref\": \"paper\"}, {\"font\": {\"size\": 9.6}, \"showarrow\": false, \"text\": \"<b>0.38</b>\", \"width\": 64, \"x\": 1.1016000000000001, \"xanchor\": \"left\", \"xref\": \"paper\", \"y\": 0.1500000000000001, \"yanchor\": \"middle\", \"yref\": \"paper\"}, {\"font\": {\"size\": 9.6}, \"showarrow\": false, \"text\": \"<b>0.12</b>\", \"width\": 64, \"x\": 1.1016000000000001, \"xanchor\": \"left\", \"xref\": \"paper\", \"y\": 0.0500000000000001, \"yanchor\": \"middle\", \"yref\": \"paper\"}, {\"font\": {\"size\": 9.6}, \"showarrow\": false, \"text\": \"<b>FDR</b>\", \"width\": 64, \"x\": 1.2016, \"xanchor\": \"left\", \"xref\": \"paper\", \"y\": 0.95, \"yanchor\": \"middle\", \"yref\": \"paper\"}, {\"font\": {\"size\": 9.6}, \"showarrow\": false, \"text\": \"<b>1.00</b>\", \"width\": 64, \"x\": 1.2016, \"xanchor\": \"left\", \"xref\": \"paper\", \"y\": 0.75, \"yanchor\": \"middle\", \"yref\": \"paper\"}, {\"font\": {\"size\": 9.6}, \"showarrow\": false, \"text\": \"<b>1.00</b>\", \"width\": 64, \"x\": 1.2016, \"xanchor\": \"left\", \"xref\": \"paper\", \"y\": 0.65, \"yanchor\": \"middle\", \"yref\": \"paper\"}, {\"font\": {\"size\": 9.6}, \"showarrow\": false, \"text\": \"<b>1.00</b>\", \"width\": 64, \"x\": 1.2016, \"xanchor\": \"left\", \"xref\": \"paper\", \"y\": 0.55, \"yanchor\": \"middle\", \"yref\": \"paper\"}, {\"font\": {\"size\": 9.6}, \"showarrow\": false, \"text\": \"<b>1.00</b>\", \"width\": 64, \"x\": 1.2016, \"xanchor\": \"left\", \"xref\": \"paper\", \"y\": 0.45000000000000007, \"yanchor\": \"middle\", \"yref\": \"paper\"}, {\"font\": {\"size\": 9.6}, \"showarrow\": false, \"text\": \"<b>1.00</b>\", \"width\": 64, \"x\": 1.2016, \"xanchor\": \"left\", \"xref\": \"paper\", \"y\": 0.3500000000000001, \"yanchor\": \"middle\", \"yref\": \"paper\"}, {\"font\": {\"size\": 9.6}, \"showarrow\": false, \"text\": \"<b>1.00</b>\", \"width\": 64, \"x\": 1.2016, \"xanchor\": \"left\", \"xref\": \"paper\", \"y\": 0.2500000000000001, \"yanchor\": \"middle\", \"yref\": \"paper\"}, {\"font\": {\"size\": 9.6}, \"showarrow\": false, \"text\": \"<b>1.00</b>\", \"width\": 64, \"x\": 1.2016, \"xanchor\": \"left\", \"xref\": \"paper\", \"y\": 0.1500000000000001, \"yanchor\": \"middle\", \"yref\": \"paper\"}, {\"font\": {\"size\": 9.6}, \"showarrow\": false, \"text\": \"<b>1.00</b>\", \"width\": 64, \"x\": 1.2016, \"xanchor\": \"left\", \"xref\": \"paper\", \"y\": 0.0500000000000001, \"yanchor\": \"middle\", \"yref\": \"paper\"}], \"height\": 512, \"margin\": {\"l\": 196, \"r\": 196}, \"title\": \"Match Panel\", \"width\": 880, \"xaxis\": {\"anchor\": \"y\", \"tickfont\": {\"size\": 9.6}}, \"yaxis\": {\"domain\": [0, 0.8], \"dtick\": 1, \"tickfont\": {\"size\": 9.6}}, \"yaxis2\": {\"domain\": [0.9, 1], \"tickfont\": {\"size\": 9.6}}}, {\"showLink\": false, \"linkText\": \"Export to plot.ly\"})});</script>"
      ],
      "text/vnd.plotly.v1+html": [
       "<div id=\"7fe0dd2b-15ad-479f-9779-b31e25f96eb3\" style=\"height: 512px; width: 880px;\" class=\"plotly-graph-div\"></div><script type=\"text/javascript\">require([\"plotly\"], function(Plotly) { window.PLOTLYENV=window.PLOTLYENV || {};window.PLOTLYENV.BASE_URL=\"https://plot.ly\";Plotly.newPlot(\"7fe0dd2b-15ad-479f-9779-b31e25f96eb3\", [{\"colorscale\": [[0.0, \"#ebf6f7\"], [1.0, \"#171412\"]], \"showscale\": false, \"text\": [[\"Sample 0\", \"Sample 1\"]], \"x\": [\"Sample 0\", \"Sample 1\"], \"y\": [\"Target\"], \"yaxis\": \"y2\", \"z\": [[0, 2]], \"type\": \"heatmap\", \"uid\": \"ff1d3c09-9302-4ea7-833a-b8b267288d53\"}, {\"colorscale\": [[0.0, \"#4242ff\"], [0.00392156862745098, \"#4241ff\"], [0.00784313725490196, \"#4240ff\"], [0.011764705882352941, \"#423fff\"], [0.01568627450980392, \"#423eff\"], [0.0196078431372549, \"#423dff\"], [0.023529411764705882, \"#423cff\"], [0.027450980392156862, \"#423bff\"], [0.03137254901960784, \"#423aff\"], [0.03529411764705882, \"#4239ff\"], [0.0392156862745098, \"#4238ff\"], [0.043137254901960784, \"#4237ff\"], [0.047058823529411764, \"#4236ff\"], [0.050980392156862744, \"#4235ff\"], [0.054901960784313725, \"#4234ff\"], [0.058823529411764705, \"#4233ff\"], [0.06274509803921569, \"#4232ff\"], [0.06666666666666667, \"#4231ff\"], [0.07058823529411765, \"#4230ff\"], [0.07450980392156863, \"#422fff\"], [0.0784313725490196, \"#422eff\"], [0.08235294117647059, \"#422dff\"], [0.08627450980392157, \"#422cff\"], [0.09019607843137255, \"#422bff\"], [0.09411764705882353, \"#422aff\"], [0.09803921568627451, \"#4229ff\"], [0.10196078431372549, \"#4228ff\"], [0.10588235294117647, \"#4228ff\"], [0.10980392156862745, \"#4227ff\"], [0.11372549019607843, \"#4226ff\"], [0.11764705882352941, \"#4226ff\"], [0.12156862745098039, \"#4225ff\"], [0.12549019607843137, \"#4224ff\"], [0.12941176470588237, \"#4224ff\"], [0.13333333333333333, \"#4223ff\"], [0.13725490196078433, \"#4222ff\"], [0.1411764705882353, \"#4221ff\"], [0.1450980392156863, \"#4221ff\"], [0.14901960784313725, \"#4220ff\"], [0.15294117647058825, \"#421fff\"], [0.1568627450980392, \"#421fff\"], [0.1607843137254902, \"#421eff\"], [0.16470588235294117, \"#421dff\"], [0.16862745098039217, \"#421dff\"], [0.17254901960784313, \"#421cff\"], [0.17647058823529413, \"#421bff\"], [0.1803921568627451, \"#421aff\"], [0.1843137254901961, \"#421aff\"], [0.18823529411764706, \"#4219ff\"], [0.19215686274509805, \"#4218ff\"], [0.19607843137254902, \"#4218ff\"], [0.2, \"#4217ff\"], [0.20392156862745098, \"#4419ff\"], [0.20784313725490197, \"#451aff\"], [0.21176470588235294, \"#461cff\"], [0.21568627450980393, \"#481eff\"], [0.2196078431372549, \"#491fff\"], [0.2235294117647059, \"#4a21ff\"], [0.22745098039215686, \"#4b23ff\"], [0.23137254901960785, \"#4d25ff\"], [0.23529411764705882, \"#4e26ff\"], [0.23921568627450981, \"#4f28ff\"], [0.24313725490196078, \"#512aff\"], [0.24705882352941178, \"#522bff\"], [0.25098039215686274, \"#532dff\"], [0.2549019607843137, \"#542fff\"], [0.25882352941176473, \"#5630ff\"], [0.2627450980392157, \"#5732ff\"], [0.26666666666666666, \"#5834ff\"], [0.27058823529411763, \"#5a36ff\"], [0.27450980392156865, \"#5b37ff\"], [0.2784313725490196, \"#5c39ff\"], [0.2823529411764706, \"#5e3bff\"], [0.28627450980392155, \"#5f3cff\"], [0.2901960784313726, \"#603eff\"], [0.29411764705882354, \"#6240ff\"], [0.2980392156862745, \"#6341ff\"], [0.30196078431372547, \"#6544ff\"], [0.3058823529411765, \"#6849ff\"], [0.30980392156862746, \"#6b4dff\"], [0.3137254901960784, \"#6e51ff\"], [0.3176470588235294, \"#7156ff\"], [0.3215686274509804, \"#745aff\"], [0.3254901960784314, \"#775eff\"], [0.32941176470588235, \"#7a63ff\"], [0.3333333333333333, \"#7d67ff\"], [0.33725490196078434, \"#806bff\"], [0.3411764705882353, \"#836fff\"], [0.34509803921568627, \"#8674ff\"], [0.34901960784313724, \"#8978ff\"], [0.35294117647058826, \"#8c7cff\"], [0.3568627450980392, \"#8f81ff\"], [0.3607843137254902, \"#9285ff\"], [0.36470588235294116, \"#9589ff\"], [0.3686274509803922, \"#988eff\"], [0.37254901960784315, \"#9b92ff\"], [0.3764705882352941, \"#9e96ff\"], [0.3803921568627451, \"#a19aff\"], [0.3843137254901961, \"#a49fff\"], [0.38823529411764707, \"#a7a3ff\"], [0.39215686274509803, \"#aaa7ff\"], [0.396078431372549, \"#adacff\"], [0.4, \"#b0b0ff\"], [0.403921568627451, \"#b3b3ff\"], [0.40784313725490196, \"#b6b6ff\"], [0.4117647058823529, \"#b9b9ff\"], [0.41568627450980394, \"#bcbcff\"], [0.4196078431372549, \"#bfbfff\"], [0.4235294117647059, \"#c3c3ff\"], [0.42745098039215684, \"#c6c6ff\"], [0.43137254901960786, \"#c9c9ff\"], [0.43529411764705883, \"#ccccff\"], [0.4392156862745098, \"#cfcfff\"], [0.44313725490196076, \"#d2d2ff\"], [0.4470588235294118, \"#d5d5ff\"], [0.45098039215686275, \"#d8d8ff\"], [0.4549019607843137, \"#dbdbff\"], [0.4588235294117647, \"#dedeff\"], [0.4627450980392157, \"#e2e2ff\"], [0.4666666666666667, \"#e5e5ff\"], [0.47058823529411764, \"#e8e8ff\"], [0.4745098039215686, \"#ebebff\"], [0.47843137254901963, \"#eeeeff\"], [0.4823529411764706, \"#f1f1ff\"], [0.48627450980392156, \"#f4f4ff\"], [0.49019607843137253, \"#f7f7ff\"], [0.49411764705882355, \"#fafaff\"], [0.4980392156862745, \"#fdfdff\"], [0.5019607843137255, \"#fffdfd\"], [0.5058823529411764, \"#fffafa\"], [0.5098039215686274, \"#fff7f7\"], [0.5137254901960784, \"#fff4f4\"], [0.5176470588235295, \"#fff1f1\"], [0.5215686274509804, \"#ffeeee\"], [0.5254901960784314, \"#ffebeb\"], [0.5294117647058824, \"#ffe8e8\"], [0.5333333333333333, \"#ffe5e5\"], [0.5372549019607843, \"#ffe2e2\"], [0.5411764705882353, \"#ffdede\"], [0.5450980392156862, \"#ffdbdb\"], [0.5490196078431373, \"#ffd8d8\"], [0.5529411764705883, \"#ffd5d5\"], [0.5568627450980392, \"#ffd2d2\"], [0.5607843137254902, \"#ffcfcf\"], [0.5647058823529412, \"#ffcccc\"], [0.5686274509803921, \"#ffc9c9\"], [0.5725490196078431, \"#ffc6c6\"], [0.5764705882352941, \"#ffc3c3\"], [0.5803921568627451, \"#ffbfbf\"], [0.5843137254901961, \"#ffbcbc\"], [0.5882352941176471, \"#ffb9b9\"], [0.592156862745098, \"#ffb6b6\"], [0.596078431372549, \"#ffb3b3\"], [0.6, \"#ffb0b0\"], [0.6039215686274509, \"#ffacad\"], [0.6078431372549019, \"#ffa7aa\"], [0.611764705882353, \"#ffa3a7\"], [0.615686274509804, \"#ff9fa4\"], [0.6196078431372549, \"#ff9aa1\"], [0.6235294117647059, \"#ff969e\"], [0.6274509803921569, \"#ff929b\"], [0.6313725490196078, \"#ff8e98\"], [0.6352941176470588, \"#ff8995\"], [0.6392156862745098, \"#ff8592\"], [0.6431372549019608, \"#ff818f\"], [0.6470588235294118, \"#ff7c8c\"], [0.6509803921568628, \"#ff7889\"], [0.6549019607843137, \"#ff7486\"], [0.6588235294117647, \"#ff6f83\"], [0.6627450980392157, \"#ff6b80\"], [0.6666666666666666, \"#ff677d\"], [0.6705882352941176, \"#ff637a\"], [0.6745098039215687, \"#ff5e77\"], [0.6784313725490196, \"#ff5a74\"], [0.6823529411764706, \"#ff5671\"], [0.6862745098039216, \"#ff516e\"], [0.6901960784313725, \"#ff4d6b\"], [0.6941176470588235, \"#ff4968\"], [0.6980392156862745, \"#ff4465\"], [0.7019607843137254, \"#ff4163\"], [0.7058823529411765, \"#ff4062\"], [0.7098039215686275, \"#ff3e60\"], [0.7137254901960784, \"#ff3c5f\"], [0.7176470588235294, \"#ff3b5e\"], [0.7215686274509804, \"#ff395c\"], [0.7254901960784313, \"#ff375b\"], [0.7294117647058823, \"#ff365a\"], [0.7333333333333333, \"#ff3458\"], [0.7372549019607844, \"#ff3257\"], [0.7411764705882353, \"#ff3056\"], [0.7450980392156863, \"#ff2f55\"], [0.7490196078431373, \"#ff2d53\"], [0.7529411764705882, \"#ff2b52\"], [0.7568627450980392, \"#ff2a51\"], [0.7607843137254902, \"#ff284f\"], [0.7647058823529411, \"#ff264e\"], [0.7686274509803922, \"#ff254d\"], [0.7725490196078432, \"#ff234b\"], [0.7764705882352941, \"#ff214a\"], [0.7803921568627451, \"#ff1f49\"], [0.7843137254901961, \"#ff1e48\"], [0.788235294117647, \"#ff1c46\"], [0.792156862745098, \"#ff1a45\"], [0.796078431372549, \"#ff1944\"], [0.8, \"#ff1742\"], [0.803921568627451, \"#ff1842\"], [0.807843137254902, \"#ff1842\"], [0.8117647058823529, \"#ff1942\"], [0.8156862745098039, \"#ff1a42\"], [0.8196078431372549, \"#ff1a42\"], [0.8235294117647058, \"#ff1b42\"], [0.8274509803921568, \"#ff1c42\"], [0.8313725490196079, \"#ff1d42\"], [0.8352941176470589, \"#ff1d42\"], [0.8392156862745098, \"#ff1e42\"], [0.8431372549019608, \"#ff1f42\"], [0.8470588235294118, \"#ff1f42\"], [0.8509803921568627, \"#ff2042\"], [0.8549019607843137, \"#ff2142\"], [0.8588235294117647, \"#ff2142\"], [0.8627450980392157, \"#ff2242\"], [0.8666666666666667, \"#ff2342\"], [0.8705882352941177, \"#ff2442\"], [0.8745098039215686, \"#ff2442\"], [0.8784313725490196, \"#ff2542\"], [0.8823529411764706, \"#ff2642\"], [0.8862745098039215, \"#ff2642\"], [0.8901960784313725, \"#ff2742\"], [0.8941176470588236, \"#ff2842\"], [0.8980392156862745, \"#ff2842\"], [0.9019607843137255, \"#ff2942\"], [0.9058823529411765, \"#ff2a42\"], [0.9098039215686274, \"#ff2b42\"], [0.9137254901960784, \"#ff2c42\"], [0.9176470588235294, \"#ff2d42\"], [0.9215686274509803, \"#ff2e42\"], [0.9254901960784314, \"#ff2f42\"], [0.9294117647058824, \"#ff3042\"], [0.9333333333333333, \"#ff3142\"], [0.9372549019607843, \"#ff3242\"], [0.9411764705882353, \"#ff3342\"], [0.9450980392156862, \"#ff3442\"], [0.9490196078431372, \"#ff3542\"], [0.9529411764705882, \"#ff3642\"], [0.9568627450980393, \"#ff3742\"], [0.9607843137254902, \"#ff3842\"], [0.9647058823529412, \"#ff3942\"], [0.9686274509803922, \"#ff3a42\"], [0.9725490196078431, \"#ff3b42\"], [0.9764705882352941, \"#ff3c42\"], [0.9803921568627451, \"#ff3d42\"], [0.984313725490196, \"#ff3e42\"], [0.9882352941176471, \"#ff3f42\"], [0.9921568627450981, \"#ff4042\"], [0.996078431372549, \"#ff4142\"], [1.0, \"#ff4242\"]], \"showscale\": false, \"x\": [\"Sample 0\", \"Sample 1\"], \"y\": [\"Index 3\", \"Index 5\", \"Index 2\", \"Index 7\", \"Index 0\", \"Index 6\", \"Index 4\", \"Index 1\"], \"yaxis\": \"y\", \"z\": [[1.0000000000000013, -0.9999999999999988], [1.0, -1.0], [1.0, -1.0], [1.0, -1.0], [0.9999999999999982, -1.0000000000000018], [-1.0, 1.0], [-1.0, 1.0], [-1.0, 1.0]], \"zmax\": 1.0000000000000013, \"zmin\": -1.0000000000000018, \"type\": \"heatmap\", \"uid\": \"351ce080-dba1-435e-a0c0-58c179e32c65\"}], {\"annotations\": [{\"font\": {\"size\": 9.6}, \"showarrow\": false, \"text\": \"<b>Score</b>\", \"width\": 64, \"x\": 1.0016, \"xanchor\": \"left\", \"xref\": \"paper\", \"y\": 0.95, \"yanchor\": \"middle\", \"yref\": \"paper\"}, {\"font\": {\"size\": 9.6}, \"showarrow\": false, \"text\": \"<b>0.86</b>\", \"width\": 64, \"x\": 1.0016, \"xanchor\": \"left\", \"xref\": \"paper\", \"y\": 0.75, \"yanchor\": \"middle\", \"yref\": \"paper\"}, {\"font\": {\"size\": 9.6}, \"showarrow\": false, \"text\": \"<b>0.86</b>\", \"width\": 64, \"x\": 1.0016, \"xanchor\": \"left\", \"xref\": \"paper\", \"y\": 0.65, \"yanchor\": \"middle\", \"yref\": \"paper\"}, {\"font\": {\"size\": 9.6}, \"showarrow\": false, \"text\": \"<b>0.86</b>\", \"width\": 64, \"x\": 1.0016, \"xanchor\": \"left\", \"xref\": \"paper\", \"y\": 0.55, \"yanchor\": \"middle\", \"yref\": \"paper\"}, {\"font\": {\"size\": 9.6}, \"showarrow\": false, \"text\": \"<b>-0.86</b>\", \"width\": 64, \"x\": 1.0016, \"xanchor\": \"left\", \"xref\": \"paper\", \"y\": 0.45000000000000007, \"yanchor\": \"middle\", \"yref\": \"paper\"}, {\"font\": {\"size\": 9.6}, \"showarrow\": false, \"text\": \"<b>-0.86</b>\", \"width\": 64, \"x\": 1.0016, \"xanchor\": \"left\", \"xref\": \"paper\", \"y\": 0.3500000000000001, \"yanchor\": \"middle\", \"yref\": \"paper\"}, {\"font\": {\"size\": 9.6}, \"showarrow\": false, \"text\": \"<b>-0.86</b>\", \"width\": 64, \"x\": 1.0016, \"xanchor\": \"left\", \"xref\": \"paper\", \"y\": 0.2500000000000001, \"yanchor\": \"middle\", \"yref\": \"paper\"}, {\"font\": {\"size\": 9.6}, \"showarrow\": false, \"text\": \"<b>-0.86</b>\", \"width\": 64, \"x\": 1.0016, \"xanchor\": \"left\", \"xref\": \"paper\", \"y\": 0.1500000000000001, \"yanchor\": \"middle\", \"yref\": \"paper\"}, {\"font\": {\"size\": 9.6}, \"showarrow\": false, \"text\": \"<b>-0.86</b>\", \"width\": 64, \"x\": 1.0016, \"xanchor\": \"left\", \"xref\": \"paper\", \"y\": 0.0500000000000001, \"yanchor\": \"middle\", \"yref\": \"paper\"}, {\"font\": {\"size\": 9.6}, \"showarrow\": false, \"text\": \"<b>P-Value</b>\", \"width\": 64, \"x\": 1.1016000000000001, \"xanchor\": \"left\", \"xref\": \"paper\", \"y\": 0.95, \"yanchor\": \"middle\", \"yref\": \"paper\"}, {\"font\": {\"size\": 9.6}, \"showarrow\": false, \"text\": \"<b>0.38</b>\", \"width\": 64, \"x\": 1.1016000000000001, \"xanchor\": \"left\", \"xref\": \"paper\", \"y\": 0.75, \"yanchor\": \"middle\", \"yref\": \"paper\"}, {\"font\": {\"size\": 9.6}, \"showarrow\": false, \"text\": \"<b>0.38</b>\", \"width\": 64, \"x\": 1.1016000000000001, \"xanchor\": \"left\", \"xref\": \"paper\", \"y\": 0.65, \"yanchor\": \"middle\", \"yref\": \"paper\"}, {\"font\": {\"size\": 9.6}, \"showarrow\": false, \"text\": \"<b>0.38</b>\", \"width\": 64, \"x\": 1.1016000000000001, \"xanchor\": \"left\", \"xref\": \"paper\", \"y\": 0.55, \"yanchor\": \"middle\", \"yref\": \"paper\"}, {\"font\": {\"size\": 9.6}, \"showarrow\": false, \"text\": \"<b>0.62</b>\", \"width\": 64, \"x\": 1.1016000000000001, \"xanchor\": \"left\", \"xref\": \"paper\", \"y\": 0.45000000000000007, \"yanchor\": \"middle\", \"yref\": \"paper\"}, {\"font\": {\"size\": 9.6}, \"showarrow\": false, \"text\": \"<b>0.62</b>\", \"width\": 64, \"x\": 1.1016000000000001, \"xanchor\": \"left\", \"xref\": \"paper\", \"y\": 0.3500000000000001, \"yanchor\": \"middle\", \"yref\": \"paper\"}, {\"font\": {\"size\": 9.6}, \"showarrow\": false, \"text\": \"<b>0.38</b>\", \"width\": 64, \"x\": 1.1016000000000001, \"xanchor\": \"left\", \"xref\": \"paper\", \"y\": 0.2500000000000001, \"yanchor\": \"middle\", \"yref\": \"paper\"}, {\"font\": {\"size\": 9.6}, \"showarrow\": false, \"text\": \"<b>0.38</b>\", \"width\": 64, \"x\": 1.1016000000000001, \"xanchor\": \"left\", \"xref\": \"paper\", \"y\": 0.1500000000000001, \"yanchor\": \"middle\", \"yref\": \"paper\"}, {\"font\": {\"size\": 9.6}, \"showarrow\": false, \"text\": \"<b>0.12</b>\", \"width\": 64, \"x\": 1.1016000000000001, \"xanchor\": \"left\", \"xref\": \"paper\", \"y\": 0.0500000000000001, \"yanchor\": \"middle\", \"yref\": \"paper\"}, {\"font\": {\"size\": 9.6}, \"showarrow\": false, \"text\": \"<b>FDR</b>\", \"width\": 64, \"x\": 1.2016, \"xanchor\": \"left\", \"xref\": \"paper\", \"y\": 0.95, \"yanchor\": \"middle\", \"yref\": \"paper\"}, {\"font\": {\"size\": 9.6}, \"showarrow\": false, \"text\": \"<b>1.00</b>\", \"width\": 64, \"x\": 1.2016, \"xanchor\": \"left\", \"xref\": \"paper\", \"y\": 0.75, \"yanchor\": \"middle\", \"yref\": \"paper\"}, {\"font\": {\"size\": 9.6}, \"showarrow\": false, \"text\": \"<b>1.00</b>\", \"width\": 64, \"x\": 1.2016, \"xanchor\": \"left\", \"xref\": \"paper\", \"y\": 0.65, \"yanchor\": \"middle\", \"yref\": \"paper\"}, {\"font\": {\"size\": 9.6}, \"showarrow\": false, \"text\": \"<b>1.00</b>\", \"width\": 64, \"x\": 1.2016, \"xanchor\": \"left\", \"xref\": \"paper\", \"y\": 0.55, \"yanchor\": \"middle\", \"yref\": \"paper\"}, {\"font\": {\"size\": 9.6}, \"showarrow\": false, \"text\": \"<b>1.00</b>\", \"width\": 64, \"x\": 1.2016, \"xanchor\": \"left\", \"xref\": \"paper\", \"y\": 0.45000000000000007, \"yanchor\": \"middle\", \"yref\": \"paper\"}, {\"font\": {\"size\": 9.6}, \"showarrow\": false, \"text\": \"<b>1.00</b>\", \"width\": 64, \"x\": 1.2016, \"xanchor\": \"left\", \"xref\": \"paper\", \"y\": 0.3500000000000001, \"yanchor\": \"middle\", \"yref\": \"paper\"}, {\"font\": {\"size\": 9.6}, \"showarrow\": false, \"text\": \"<b>1.00</b>\", \"width\": 64, \"x\": 1.2016, \"xanchor\": \"left\", \"xref\": \"paper\", \"y\": 0.2500000000000001, \"yanchor\": \"middle\", \"yref\": \"paper\"}, {\"font\": {\"size\": 9.6}, \"showarrow\": false, \"text\": \"<b>1.00</b>\", \"width\": 64, \"x\": 1.2016, \"xanchor\": \"left\", \"xref\": \"paper\", \"y\": 0.1500000000000001, \"yanchor\": \"middle\", \"yref\": \"paper\"}, {\"font\": {\"size\": 9.6}, \"showarrow\": false, \"text\": \"<b>1.00</b>\", \"width\": 64, \"x\": 1.2016, \"xanchor\": \"left\", \"xref\": \"paper\", \"y\": 0.0500000000000001, \"yanchor\": \"middle\", \"yref\": \"paper\"}], \"height\": 512, \"margin\": {\"l\": 196, \"r\": 196}, \"title\": \"Match Panel\", \"width\": 880, \"xaxis\": {\"anchor\": \"y\", \"tickfont\": {\"size\": 9.6}}, \"yaxis\": {\"domain\": [0, 0.8], \"dtick\": 1, \"tickfont\": {\"size\": 9.6}}, \"yaxis2\": {\"domain\": [0.9, 1], \"tickfont\": {\"size\": 9.6}}}, {\"showLink\": false, \"linkText\": \"Export to plot.ly\"})});</script>"
      ]
     },
     "metadata": {},
     "output_type": "display_data"
    },
    {
     "name": "stdout",
     "output_type": "stream",
     "text": [
      "target.index (2) & features.columns (2) have 2 in common.\n",
      "Computing score using compute_information_coefficient with 1 process ...\n",
      "Computing MoE with 0 sampling ...\n",
      "[]\n",
      "Computing p-value and FDR with 1 permutation ...\n"
     ]
    },
    {
     "name": "stderr",
     "output_type": "stream",
     "text": [
      "../match/make_match_panel.py:137: UserWarning:\n",
      "\n",
      "Not clustering because a category has less than 2 values.\n",
      "\n"
     ]
    },
    {
     "data": {
      "application/vnd.plotly.v1+json": {
       "data": [
        {
         "colorscale": [
          [
           0,
           "#ebf6f7"
          ],
          [
           1,
           "#171412"
          ]
         ],
         "showscale": false,
         "text": [
          [
           "Sample 0",
           "Sample 1"
          ]
         ],
         "type": "heatmap",
         "uid": "3e72f12b-a067-422f-862f-937ce7ee7a2f",
         "x": [
          "Sample 0",
          "Sample 1"
         ],
         "y": [
          "Target"
         ],
         "yaxis": "y2",
         "z": [
          [
           0,
           2
          ]
         ]
        },
        {
         "colorscale": [
          [
           0,
           "#4242ff"
          ],
          [
           0.00392156862745098,
           "#4241ff"
          ],
          [
           0.00784313725490196,
           "#4240ff"
          ],
          [
           0.011764705882352941,
           "#423fff"
          ],
          [
           0.01568627450980392,
           "#423eff"
          ],
          [
           0.0196078431372549,
           "#423dff"
          ],
          [
           0.023529411764705882,
           "#423cff"
          ],
          [
           0.027450980392156862,
           "#423bff"
          ],
          [
           0.03137254901960784,
           "#423aff"
          ],
          [
           0.03529411764705882,
           "#4239ff"
          ],
          [
           0.0392156862745098,
           "#4238ff"
          ],
          [
           0.043137254901960784,
           "#4237ff"
          ],
          [
           0.047058823529411764,
           "#4236ff"
          ],
          [
           0.050980392156862744,
           "#4235ff"
          ],
          [
           0.054901960784313725,
           "#4234ff"
          ],
          [
           0.058823529411764705,
           "#4233ff"
          ],
          [
           0.06274509803921569,
           "#4232ff"
          ],
          [
           0.06666666666666667,
           "#4231ff"
          ],
          [
           0.07058823529411765,
           "#4230ff"
          ],
          [
           0.07450980392156863,
           "#422fff"
          ],
          [
           0.0784313725490196,
           "#422eff"
          ],
          [
           0.08235294117647059,
           "#422dff"
          ],
          [
           0.08627450980392157,
           "#422cff"
          ],
          [
           0.09019607843137255,
           "#422bff"
          ],
          [
           0.09411764705882353,
           "#422aff"
          ],
          [
           0.09803921568627451,
           "#4229ff"
          ],
          [
           0.10196078431372549,
           "#4228ff"
          ],
          [
           0.10588235294117647,
           "#4228ff"
          ],
          [
           0.10980392156862745,
           "#4227ff"
          ],
          [
           0.11372549019607843,
           "#4226ff"
          ],
          [
           0.11764705882352941,
           "#4226ff"
          ],
          [
           0.12156862745098039,
           "#4225ff"
          ],
          [
           0.12549019607843137,
           "#4224ff"
          ],
          [
           0.12941176470588237,
           "#4224ff"
          ],
          [
           0.13333333333333333,
           "#4223ff"
          ],
          [
           0.13725490196078433,
           "#4222ff"
          ],
          [
           0.1411764705882353,
           "#4221ff"
          ],
          [
           0.1450980392156863,
           "#4221ff"
          ],
          [
           0.14901960784313725,
           "#4220ff"
          ],
          [
           0.15294117647058825,
           "#421fff"
          ],
          [
           0.1568627450980392,
           "#421fff"
          ],
          [
           0.1607843137254902,
           "#421eff"
          ],
          [
           0.16470588235294117,
           "#421dff"
          ],
          [
           0.16862745098039217,
           "#421dff"
          ],
          [
           0.17254901960784313,
           "#421cff"
          ],
          [
           0.17647058823529413,
           "#421bff"
          ],
          [
           0.1803921568627451,
           "#421aff"
          ],
          [
           0.1843137254901961,
           "#421aff"
          ],
          [
           0.18823529411764706,
           "#4219ff"
          ],
          [
           0.19215686274509805,
           "#4218ff"
          ],
          [
           0.19607843137254902,
           "#4218ff"
          ],
          [
           0.2,
           "#4217ff"
          ],
          [
           0.20392156862745098,
           "#4419ff"
          ],
          [
           0.20784313725490197,
           "#451aff"
          ],
          [
           0.21176470588235294,
           "#461cff"
          ],
          [
           0.21568627450980393,
           "#481eff"
          ],
          [
           0.2196078431372549,
           "#491fff"
          ],
          [
           0.2235294117647059,
           "#4a21ff"
          ],
          [
           0.22745098039215686,
           "#4b23ff"
          ],
          [
           0.23137254901960785,
           "#4d25ff"
          ],
          [
           0.23529411764705882,
           "#4e26ff"
          ],
          [
           0.23921568627450981,
           "#4f28ff"
          ],
          [
           0.24313725490196078,
           "#512aff"
          ],
          [
           0.24705882352941178,
           "#522bff"
          ],
          [
           0.25098039215686274,
           "#532dff"
          ],
          [
           0.2549019607843137,
           "#542fff"
          ],
          [
           0.25882352941176473,
           "#5630ff"
          ],
          [
           0.2627450980392157,
           "#5732ff"
          ],
          [
           0.26666666666666666,
           "#5834ff"
          ],
          [
           0.27058823529411763,
           "#5a36ff"
          ],
          [
           0.27450980392156865,
           "#5b37ff"
          ],
          [
           0.2784313725490196,
           "#5c39ff"
          ],
          [
           0.2823529411764706,
           "#5e3bff"
          ],
          [
           0.28627450980392155,
           "#5f3cff"
          ],
          [
           0.2901960784313726,
           "#603eff"
          ],
          [
           0.29411764705882354,
           "#6240ff"
          ],
          [
           0.2980392156862745,
           "#6341ff"
          ],
          [
           0.30196078431372547,
           "#6544ff"
          ],
          [
           0.3058823529411765,
           "#6849ff"
          ],
          [
           0.30980392156862746,
           "#6b4dff"
          ],
          [
           0.3137254901960784,
           "#6e51ff"
          ],
          [
           0.3176470588235294,
           "#7156ff"
          ],
          [
           0.3215686274509804,
           "#745aff"
          ],
          [
           0.3254901960784314,
           "#775eff"
          ],
          [
           0.32941176470588235,
           "#7a63ff"
          ],
          [
           0.3333333333333333,
           "#7d67ff"
          ],
          [
           0.33725490196078434,
           "#806bff"
          ],
          [
           0.3411764705882353,
           "#836fff"
          ],
          [
           0.34509803921568627,
           "#8674ff"
          ],
          [
           0.34901960784313724,
           "#8978ff"
          ],
          [
           0.35294117647058826,
           "#8c7cff"
          ],
          [
           0.3568627450980392,
           "#8f81ff"
          ],
          [
           0.3607843137254902,
           "#9285ff"
          ],
          [
           0.36470588235294116,
           "#9589ff"
          ],
          [
           0.3686274509803922,
           "#988eff"
          ],
          [
           0.37254901960784315,
           "#9b92ff"
          ],
          [
           0.3764705882352941,
           "#9e96ff"
          ],
          [
           0.3803921568627451,
           "#a19aff"
          ],
          [
           0.3843137254901961,
           "#a49fff"
          ],
          [
           0.38823529411764707,
           "#a7a3ff"
          ],
          [
           0.39215686274509803,
           "#aaa7ff"
          ],
          [
           0.396078431372549,
           "#adacff"
          ],
          [
           0.4,
           "#b0b0ff"
          ],
          [
           0.403921568627451,
           "#b3b3ff"
          ],
          [
           0.40784313725490196,
           "#b6b6ff"
          ],
          [
           0.4117647058823529,
           "#b9b9ff"
          ],
          [
           0.41568627450980394,
           "#bcbcff"
          ],
          [
           0.4196078431372549,
           "#bfbfff"
          ],
          [
           0.4235294117647059,
           "#c3c3ff"
          ],
          [
           0.42745098039215684,
           "#c6c6ff"
          ],
          [
           0.43137254901960786,
           "#c9c9ff"
          ],
          [
           0.43529411764705883,
           "#ccccff"
          ],
          [
           0.4392156862745098,
           "#cfcfff"
          ],
          [
           0.44313725490196076,
           "#d2d2ff"
          ],
          [
           0.4470588235294118,
           "#d5d5ff"
          ],
          [
           0.45098039215686275,
           "#d8d8ff"
          ],
          [
           0.4549019607843137,
           "#dbdbff"
          ],
          [
           0.4588235294117647,
           "#dedeff"
          ],
          [
           0.4627450980392157,
           "#e2e2ff"
          ],
          [
           0.4666666666666667,
           "#e5e5ff"
          ],
          [
           0.47058823529411764,
           "#e8e8ff"
          ],
          [
           0.4745098039215686,
           "#ebebff"
          ],
          [
           0.47843137254901963,
           "#eeeeff"
          ],
          [
           0.4823529411764706,
           "#f1f1ff"
          ],
          [
           0.48627450980392156,
           "#f4f4ff"
          ],
          [
           0.49019607843137253,
           "#f7f7ff"
          ],
          [
           0.49411764705882355,
           "#fafaff"
          ],
          [
           0.4980392156862745,
           "#fdfdff"
          ],
          [
           0.5019607843137255,
           "#fffdfd"
          ],
          [
           0.5058823529411764,
           "#fffafa"
          ],
          [
           0.5098039215686274,
           "#fff7f7"
          ],
          [
           0.5137254901960784,
           "#fff4f4"
          ],
          [
           0.5176470588235295,
           "#fff1f1"
          ],
          [
           0.5215686274509804,
           "#ffeeee"
          ],
          [
           0.5254901960784314,
           "#ffebeb"
          ],
          [
           0.5294117647058824,
           "#ffe8e8"
          ],
          [
           0.5333333333333333,
           "#ffe5e5"
          ],
          [
           0.5372549019607843,
           "#ffe2e2"
          ],
          [
           0.5411764705882353,
           "#ffdede"
          ],
          [
           0.5450980392156862,
           "#ffdbdb"
          ],
          [
           0.5490196078431373,
           "#ffd8d8"
          ],
          [
           0.5529411764705883,
           "#ffd5d5"
          ],
          [
           0.5568627450980392,
           "#ffd2d2"
          ],
          [
           0.5607843137254902,
           "#ffcfcf"
          ],
          [
           0.5647058823529412,
           "#ffcccc"
          ],
          [
           0.5686274509803921,
           "#ffc9c9"
          ],
          [
           0.5725490196078431,
           "#ffc6c6"
          ],
          [
           0.5764705882352941,
           "#ffc3c3"
          ],
          [
           0.5803921568627451,
           "#ffbfbf"
          ],
          [
           0.5843137254901961,
           "#ffbcbc"
          ],
          [
           0.5882352941176471,
           "#ffb9b9"
          ],
          [
           0.592156862745098,
           "#ffb6b6"
          ],
          [
           0.596078431372549,
           "#ffb3b3"
          ],
          [
           0.6,
           "#ffb0b0"
          ],
          [
           0.6039215686274509,
           "#ffacad"
          ],
          [
           0.6078431372549019,
           "#ffa7aa"
          ],
          [
           0.611764705882353,
           "#ffa3a7"
          ],
          [
           0.615686274509804,
           "#ff9fa4"
          ],
          [
           0.6196078431372549,
           "#ff9aa1"
          ],
          [
           0.6235294117647059,
           "#ff969e"
          ],
          [
           0.6274509803921569,
           "#ff929b"
          ],
          [
           0.6313725490196078,
           "#ff8e98"
          ],
          [
           0.6352941176470588,
           "#ff8995"
          ],
          [
           0.6392156862745098,
           "#ff8592"
          ],
          [
           0.6431372549019608,
           "#ff818f"
          ],
          [
           0.6470588235294118,
           "#ff7c8c"
          ],
          [
           0.6509803921568628,
           "#ff7889"
          ],
          [
           0.6549019607843137,
           "#ff7486"
          ],
          [
           0.6588235294117647,
           "#ff6f83"
          ],
          [
           0.6627450980392157,
           "#ff6b80"
          ],
          [
           0.6666666666666666,
           "#ff677d"
          ],
          [
           0.6705882352941176,
           "#ff637a"
          ],
          [
           0.6745098039215687,
           "#ff5e77"
          ],
          [
           0.6784313725490196,
           "#ff5a74"
          ],
          [
           0.6823529411764706,
           "#ff5671"
          ],
          [
           0.6862745098039216,
           "#ff516e"
          ],
          [
           0.6901960784313725,
           "#ff4d6b"
          ],
          [
           0.6941176470588235,
           "#ff4968"
          ],
          [
           0.6980392156862745,
           "#ff4465"
          ],
          [
           0.7019607843137254,
           "#ff4163"
          ],
          [
           0.7058823529411765,
           "#ff4062"
          ],
          [
           0.7098039215686275,
           "#ff3e60"
          ],
          [
           0.7137254901960784,
           "#ff3c5f"
          ],
          [
           0.7176470588235294,
           "#ff3b5e"
          ],
          [
           0.7215686274509804,
           "#ff395c"
          ],
          [
           0.7254901960784313,
           "#ff375b"
          ],
          [
           0.7294117647058823,
           "#ff365a"
          ],
          [
           0.7333333333333333,
           "#ff3458"
          ],
          [
           0.7372549019607844,
           "#ff3257"
          ],
          [
           0.7411764705882353,
           "#ff3056"
          ],
          [
           0.7450980392156863,
           "#ff2f55"
          ],
          [
           0.7490196078431373,
           "#ff2d53"
          ],
          [
           0.7529411764705882,
           "#ff2b52"
          ],
          [
           0.7568627450980392,
           "#ff2a51"
          ],
          [
           0.7607843137254902,
           "#ff284f"
          ],
          [
           0.7647058823529411,
           "#ff264e"
          ],
          [
           0.7686274509803922,
           "#ff254d"
          ],
          [
           0.7725490196078432,
           "#ff234b"
          ],
          [
           0.7764705882352941,
           "#ff214a"
          ],
          [
           0.7803921568627451,
           "#ff1f49"
          ],
          [
           0.7843137254901961,
           "#ff1e48"
          ],
          [
           0.788235294117647,
           "#ff1c46"
          ],
          [
           0.792156862745098,
           "#ff1a45"
          ],
          [
           0.796078431372549,
           "#ff1944"
          ],
          [
           0.8,
           "#ff1742"
          ],
          [
           0.803921568627451,
           "#ff1842"
          ],
          [
           0.807843137254902,
           "#ff1842"
          ],
          [
           0.8117647058823529,
           "#ff1942"
          ],
          [
           0.8156862745098039,
           "#ff1a42"
          ],
          [
           0.8196078431372549,
           "#ff1a42"
          ],
          [
           0.8235294117647058,
           "#ff1b42"
          ],
          [
           0.8274509803921568,
           "#ff1c42"
          ],
          [
           0.8313725490196079,
           "#ff1d42"
          ],
          [
           0.8352941176470589,
           "#ff1d42"
          ],
          [
           0.8392156862745098,
           "#ff1e42"
          ],
          [
           0.8431372549019608,
           "#ff1f42"
          ],
          [
           0.8470588235294118,
           "#ff1f42"
          ],
          [
           0.8509803921568627,
           "#ff2042"
          ],
          [
           0.8549019607843137,
           "#ff2142"
          ],
          [
           0.8588235294117647,
           "#ff2142"
          ],
          [
           0.8627450980392157,
           "#ff2242"
          ],
          [
           0.8666666666666667,
           "#ff2342"
          ],
          [
           0.8705882352941177,
           "#ff2442"
          ],
          [
           0.8745098039215686,
           "#ff2442"
          ],
          [
           0.8784313725490196,
           "#ff2542"
          ],
          [
           0.8823529411764706,
           "#ff2642"
          ],
          [
           0.8862745098039215,
           "#ff2642"
          ],
          [
           0.8901960784313725,
           "#ff2742"
          ],
          [
           0.8941176470588236,
           "#ff2842"
          ],
          [
           0.8980392156862745,
           "#ff2842"
          ],
          [
           0.9019607843137255,
           "#ff2942"
          ],
          [
           0.9058823529411765,
           "#ff2a42"
          ],
          [
           0.9098039215686274,
           "#ff2b42"
          ],
          [
           0.9137254901960784,
           "#ff2c42"
          ],
          [
           0.9176470588235294,
           "#ff2d42"
          ],
          [
           0.9215686274509803,
           "#ff2e42"
          ],
          [
           0.9254901960784314,
           "#ff2f42"
          ],
          [
           0.9294117647058824,
           "#ff3042"
          ],
          [
           0.9333333333333333,
           "#ff3142"
          ],
          [
           0.9372549019607843,
           "#ff3242"
          ],
          [
           0.9411764705882353,
           "#ff3342"
          ],
          [
           0.9450980392156862,
           "#ff3442"
          ],
          [
           0.9490196078431372,
           "#ff3542"
          ],
          [
           0.9529411764705882,
           "#ff3642"
          ],
          [
           0.9568627450980393,
           "#ff3742"
          ],
          [
           0.9607843137254902,
           "#ff3842"
          ],
          [
           0.9647058823529412,
           "#ff3942"
          ],
          [
           0.9686274509803922,
           "#ff3a42"
          ],
          [
           0.9725490196078431,
           "#ff3b42"
          ],
          [
           0.9764705882352941,
           "#ff3c42"
          ],
          [
           0.9803921568627451,
           "#ff3d42"
          ],
          [
           0.984313725490196,
           "#ff3e42"
          ],
          [
           0.9882352941176471,
           "#ff3f42"
          ],
          [
           0.9921568627450981,
           "#ff4042"
          ],
          [
           0.996078431372549,
           "#ff4142"
          ],
          [
           1,
           "#ff4242"
          ]
         ],
         "showscale": false,
         "type": "heatmap",
         "uid": "bbab4fd0-46ad-40e5-b1ae-a76c106e6afd",
         "x": [
          "Sample 0",
          "Sample 1"
         ],
         "y": [
          "Index 3",
          "Index 5",
          "Index 2",
          "Index 7",
          "Index 0",
          "Index 6",
          "Index 4",
          "Index 1"
         ],
         "yaxis": "y",
         "z": [
          [
           1.0000000000000013,
           -0.9999999999999988
          ],
          [
           1,
           -1
          ],
          [
           1,
           -1
          ],
          [
           1,
           -1
          ],
          [
           0.9999999999999982,
           -1.0000000000000018
          ],
          [
           -1,
           1
          ],
          [
           -1,
           1
          ],
          [
           -1,
           1
          ]
         ],
         "zmax": 1.0000000000000013,
         "zmin": -1.0000000000000018
        }
       ],
       "layout": {
        "annotations": [
         {
          "font": {
           "size": 9.6
          },
          "showarrow": false,
          "text": "<b>Score</b>",
          "width": 64,
          "x": 1.0016,
          "xanchor": "left",
          "xref": "paper",
          "y": 0.95,
          "yanchor": "middle",
          "yref": "paper"
         },
         {
          "font": {
           "size": 9.6
          },
          "showarrow": false,
          "text": "<b>0.86</b>",
          "width": 64,
          "x": 1.0016,
          "xanchor": "left",
          "xref": "paper",
          "y": 0.75,
          "yanchor": "middle",
          "yref": "paper"
         },
         {
          "font": {
           "size": 9.6
          },
          "showarrow": false,
          "text": "<b>0.86</b>",
          "width": 64,
          "x": 1.0016,
          "xanchor": "left",
          "xref": "paper",
          "y": 0.65,
          "yanchor": "middle",
          "yref": "paper"
         },
         {
          "font": {
           "size": 9.6
          },
          "showarrow": false,
          "text": "<b>0.86</b>",
          "width": 64,
          "x": 1.0016,
          "xanchor": "left",
          "xref": "paper",
          "y": 0.55,
          "yanchor": "middle",
          "yref": "paper"
         },
         {
          "font": {
           "size": 9.6
          },
          "showarrow": false,
          "text": "<b>-0.86</b>",
          "width": 64,
          "x": 1.0016,
          "xanchor": "left",
          "xref": "paper",
          "y": 0.45000000000000007,
          "yanchor": "middle",
          "yref": "paper"
         },
         {
          "font": {
           "size": 9.6
          },
          "showarrow": false,
          "text": "<b>-0.86</b>",
          "width": 64,
          "x": 1.0016,
          "xanchor": "left",
          "xref": "paper",
          "y": 0.3500000000000001,
          "yanchor": "middle",
          "yref": "paper"
         },
         {
          "font": {
           "size": 9.6
          },
          "showarrow": false,
          "text": "<b>-0.86</b>",
          "width": 64,
          "x": 1.0016,
          "xanchor": "left",
          "xref": "paper",
          "y": 0.2500000000000001,
          "yanchor": "middle",
          "yref": "paper"
         },
         {
          "font": {
           "size": 9.6
          },
          "showarrow": false,
          "text": "<b>-0.86</b>",
          "width": 64,
          "x": 1.0016,
          "xanchor": "left",
          "xref": "paper",
          "y": 0.1500000000000001,
          "yanchor": "middle",
          "yref": "paper"
         },
         {
          "font": {
           "size": 9.6
          },
          "showarrow": false,
          "text": "<b>-0.86</b>",
          "width": 64,
          "x": 1.0016,
          "xanchor": "left",
          "xref": "paper",
          "y": 0.0500000000000001,
          "yanchor": "middle",
          "yref": "paper"
         },
         {
          "font": {
           "size": 9.6
          },
          "showarrow": false,
          "text": "<b>P-Value</b>",
          "width": 64,
          "x": 1.1016000000000001,
          "xanchor": "left",
          "xref": "paper",
          "y": 0.95,
          "yanchor": "middle",
          "yref": "paper"
         },
         {
          "font": {
           "size": 9.6
          },
          "showarrow": false,
          "text": "<b>0.38</b>",
          "width": 64,
          "x": 1.1016000000000001,
          "xanchor": "left",
          "xref": "paper",
          "y": 0.75,
          "yanchor": "middle",
          "yref": "paper"
         },
         {
          "font": {
           "size": 9.6
          },
          "showarrow": false,
          "text": "<b>0.38</b>",
          "width": 64,
          "x": 1.1016000000000001,
          "xanchor": "left",
          "xref": "paper",
          "y": 0.65,
          "yanchor": "middle",
          "yref": "paper"
         },
         {
          "font": {
           "size": 9.6
          },
          "showarrow": false,
          "text": "<b>0.38</b>",
          "width": 64,
          "x": 1.1016000000000001,
          "xanchor": "left",
          "xref": "paper",
          "y": 0.55,
          "yanchor": "middle",
          "yref": "paper"
         },
         {
          "font": {
           "size": 9.6
          },
          "showarrow": false,
          "text": "<b>0.38</b>",
          "width": 64,
          "x": 1.1016000000000001,
          "xanchor": "left",
          "xref": "paper",
          "y": 0.45000000000000007,
          "yanchor": "middle",
          "yref": "paper"
         },
         {
          "font": {
           "size": 9.6
          },
          "showarrow": false,
          "text": "<b>0.38</b>",
          "width": 64,
          "x": 1.1016000000000001,
          "xanchor": "left",
          "xref": "paper",
          "y": 0.3500000000000001,
          "yanchor": "middle",
          "yref": "paper"
         },
         {
          "font": {
           "size": 9.6
          },
          "showarrow": false,
          "text": "<b>0.38</b>",
          "width": 64,
          "x": 1.1016000000000001,
          "xanchor": "left",
          "xref": "paper",
          "y": 0.2500000000000001,
          "yanchor": "middle",
          "yref": "paper"
         },
         {
          "font": {
           "size": 9.6
          },
          "showarrow": false,
          "text": "<b>0.38</b>",
          "width": 64,
          "x": 1.1016000000000001,
          "xanchor": "left",
          "xref": "paper",
          "y": 0.1500000000000001,
          "yanchor": "middle",
          "yref": "paper"
         },
         {
          "font": {
           "size": 9.6
          },
          "showarrow": false,
          "text": "<b>0.12</b>",
          "width": 64,
          "x": 1.1016000000000001,
          "xanchor": "left",
          "xref": "paper",
          "y": 0.0500000000000001,
          "yanchor": "middle",
          "yref": "paper"
         },
         {
          "font": {
           "size": 9.6
          },
          "showarrow": false,
          "text": "<b>FDR</b>",
          "width": 64,
          "x": 1.2016,
          "xanchor": "left",
          "xref": "paper",
          "y": 0.95,
          "yanchor": "middle",
          "yref": "paper"
         },
         {
          "font": {
           "size": 9.6
          },
          "showarrow": false,
          "text": "<b>0.88</b>",
          "width": 64,
          "x": 1.2016,
          "xanchor": "left",
          "xref": "paper",
          "y": 0.75,
          "yanchor": "middle",
          "yref": "paper"
         },
         {
          "font": {
           "size": 9.6
          },
          "showarrow": false,
          "text": "<b>0.88</b>",
          "width": 64,
          "x": 1.2016,
          "xanchor": "left",
          "xref": "paper",
          "y": 0.65,
          "yanchor": "middle",
          "yref": "paper"
         },
         {
          "font": {
           "size": 9.6
          },
          "showarrow": false,
          "text": "<b>0.88</b>",
          "width": 64,
          "x": 1.2016,
          "xanchor": "left",
          "xref": "paper",
          "y": 0.55,
          "yanchor": "middle",
          "yref": "paper"
         },
         {
          "font": {
           "size": 9.6
          },
          "showarrow": false,
          "text": "<b>0.60</b>",
          "width": 64,
          "x": 1.2016,
          "xanchor": "left",
          "xref": "paper",
          "y": 0.45000000000000007,
          "yanchor": "middle",
          "yref": "paper"
         },
         {
          "font": {
           "size": 9.6
          },
          "showarrow": false,
          "text": "<b>0.60</b>",
          "width": 64,
          "x": 1.2016,
          "xanchor": "left",
          "xref": "paper",
          "y": 0.3500000000000001,
          "yanchor": "middle",
          "yref": "paper"
         },
         {
          "font": {
           "size": 9.6
          },
          "showarrow": false,
          "text": "<b>0.60</b>",
          "width": 64,
          "x": 1.2016,
          "xanchor": "left",
          "xref": "paper",
          "y": 0.2500000000000001,
          "yanchor": "middle",
          "yref": "paper"
         },
         {
          "font": {
           "size": 9.6
          },
          "showarrow": false,
          "text": "<b>0.60</b>",
          "width": 64,
          "x": 1.2016,
          "xanchor": "left",
          "xref": "paper",
          "y": 0.1500000000000001,
          "yanchor": "middle",
          "yref": "paper"
         },
         {
          "font": {
           "size": 9.6
          },
          "showarrow": false,
          "text": "<b>0.60</b>",
          "width": 64,
          "x": 1.2016,
          "xanchor": "left",
          "xref": "paper",
          "y": 0.0500000000000001,
          "yanchor": "middle",
          "yref": "paper"
         }
        ],
        "height": 512,
        "margin": {
         "l": 196,
         "r": 196
        },
        "title": "Match Panel",
        "width": 880,
        "xaxis": {
         "anchor": "y",
         "tickfont": {
          "size": 9.6
         }
        },
        "yaxis": {
         "domain": [
          0,
          0.8
         ],
         "dtick": 1,
         "tickfont": {
          "size": 9.6
         }
        },
        "yaxis2": {
         "domain": [
          0.9,
          1
         ],
         "tickfont": {
          "size": 9.6
         }
        }
       }
      },
      "text/html": [
       "<div id=\"ecd53c82-4245-4c01-a314-2acef8d3a1ec\" style=\"height: 512px; width: 880px;\" class=\"plotly-graph-div\"></div><script type=\"text/javascript\">require([\"plotly\"], function(Plotly) { window.PLOTLYENV=window.PLOTLYENV || {};window.PLOTLYENV.BASE_URL=\"https://plot.ly\";Plotly.newPlot(\"ecd53c82-4245-4c01-a314-2acef8d3a1ec\", [{\"colorscale\": [[0.0, \"#ebf6f7\"], [1.0, \"#171412\"]], \"showscale\": false, \"text\": [[\"Sample 0\", \"Sample 1\"]], \"x\": [\"Sample 0\", \"Sample 1\"], \"y\": [\"Target\"], \"yaxis\": \"y2\", \"z\": [[0, 2]], \"type\": \"heatmap\", \"uid\": \"381040fc-4d10-480b-b47e-0ba37930f031\"}, {\"colorscale\": [[0.0, \"#4242ff\"], [0.00392156862745098, \"#4241ff\"], [0.00784313725490196, \"#4240ff\"], [0.011764705882352941, \"#423fff\"], [0.01568627450980392, \"#423eff\"], [0.0196078431372549, \"#423dff\"], [0.023529411764705882, \"#423cff\"], [0.027450980392156862, \"#423bff\"], [0.03137254901960784, \"#423aff\"], [0.03529411764705882, \"#4239ff\"], [0.0392156862745098, \"#4238ff\"], [0.043137254901960784, \"#4237ff\"], [0.047058823529411764, \"#4236ff\"], [0.050980392156862744, \"#4235ff\"], [0.054901960784313725, \"#4234ff\"], [0.058823529411764705, \"#4233ff\"], [0.06274509803921569, \"#4232ff\"], [0.06666666666666667, \"#4231ff\"], [0.07058823529411765, \"#4230ff\"], [0.07450980392156863, \"#422fff\"], [0.0784313725490196, \"#422eff\"], [0.08235294117647059, \"#422dff\"], [0.08627450980392157, \"#422cff\"], [0.09019607843137255, \"#422bff\"], [0.09411764705882353, \"#422aff\"], [0.09803921568627451, \"#4229ff\"], [0.10196078431372549, \"#4228ff\"], [0.10588235294117647, \"#4228ff\"], [0.10980392156862745, \"#4227ff\"], [0.11372549019607843, \"#4226ff\"], [0.11764705882352941, \"#4226ff\"], [0.12156862745098039, \"#4225ff\"], [0.12549019607843137, \"#4224ff\"], [0.12941176470588237, \"#4224ff\"], [0.13333333333333333, \"#4223ff\"], [0.13725490196078433, \"#4222ff\"], [0.1411764705882353, \"#4221ff\"], [0.1450980392156863, \"#4221ff\"], [0.14901960784313725, \"#4220ff\"], [0.15294117647058825, \"#421fff\"], [0.1568627450980392, \"#421fff\"], [0.1607843137254902, \"#421eff\"], [0.16470588235294117, \"#421dff\"], [0.16862745098039217, \"#421dff\"], [0.17254901960784313, \"#421cff\"], [0.17647058823529413, \"#421bff\"], [0.1803921568627451, \"#421aff\"], [0.1843137254901961, \"#421aff\"], [0.18823529411764706, \"#4219ff\"], [0.19215686274509805, \"#4218ff\"], [0.19607843137254902, \"#4218ff\"], [0.2, \"#4217ff\"], [0.20392156862745098, \"#4419ff\"], [0.20784313725490197, \"#451aff\"], [0.21176470588235294, \"#461cff\"], [0.21568627450980393, \"#481eff\"], [0.2196078431372549, \"#491fff\"], [0.2235294117647059, \"#4a21ff\"], [0.22745098039215686, \"#4b23ff\"], [0.23137254901960785, \"#4d25ff\"], [0.23529411764705882, \"#4e26ff\"], [0.23921568627450981, \"#4f28ff\"], [0.24313725490196078, \"#512aff\"], [0.24705882352941178, \"#522bff\"], [0.25098039215686274, \"#532dff\"], [0.2549019607843137, \"#542fff\"], [0.25882352941176473, \"#5630ff\"], [0.2627450980392157, \"#5732ff\"], [0.26666666666666666, \"#5834ff\"], [0.27058823529411763, \"#5a36ff\"], [0.27450980392156865, \"#5b37ff\"], [0.2784313725490196, \"#5c39ff\"], [0.2823529411764706, \"#5e3bff\"], [0.28627450980392155, \"#5f3cff\"], [0.2901960784313726, \"#603eff\"], [0.29411764705882354, \"#6240ff\"], [0.2980392156862745, \"#6341ff\"], [0.30196078431372547, \"#6544ff\"], [0.3058823529411765, \"#6849ff\"], [0.30980392156862746, \"#6b4dff\"], [0.3137254901960784, \"#6e51ff\"], [0.3176470588235294, \"#7156ff\"], [0.3215686274509804, \"#745aff\"], [0.3254901960784314, \"#775eff\"], [0.32941176470588235, \"#7a63ff\"], [0.3333333333333333, \"#7d67ff\"], [0.33725490196078434, \"#806bff\"], [0.3411764705882353, \"#836fff\"], [0.34509803921568627, \"#8674ff\"], [0.34901960784313724, \"#8978ff\"], [0.35294117647058826, \"#8c7cff\"], [0.3568627450980392, \"#8f81ff\"], [0.3607843137254902, \"#9285ff\"], [0.36470588235294116, \"#9589ff\"], [0.3686274509803922, \"#988eff\"], [0.37254901960784315, \"#9b92ff\"], [0.3764705882352941, \"#9e96ff\"], [0.3803921568627451, \"#a19aff\"], [0.3843137254901961, \"#a49fff\"], [0.38823529411764707, \"#a7a3ff\"], [0.39215686274509803, \"#aaa7ff\"], [0.396078431372549, \"#adacff\"], [0.4, \"#b0b0ff\"], [0.403921568627451, \"#b3b3ff\"], [0.40784313725490196, \"#b6b6ff\"], [0.4117647058823529, \"#b9b9ff\"], [0.41568627450980394, \"#bcbcff\"], [0.4196078431372549, \"#bfbfff\"], [0.4235294117647059, \"#c3c3ff\"], [0.42745098039215684, \"#c6c6ff\"], [0.43137254901960786, \"#c9c9ff\"], [0.43529411764705883, \"#ccccff\"], [0.4392156862745098, \"#cfcfff\"], [0.44313725490196076, \"#d2d2ff\"], [0.4470588235294118, \"#d5d5ff\"], [0.45098039215686275, \"#d8d8ff\"], [0.4549019607843137, \"#dbdbff\"], [0.4588235294117647, \"#dedeff\"], [0.4627450980392157, \"#e2e2ff\"], [0.4666666666666667, \"#e5e5ff\"], [0.47058823529411764, \"#e8e8ff\"], [0.4745098039215686, \"#ebebff\"], [0.47843137254901963, \"#eeeeff\"], [0.4823529411764706, \"#f1f1ff\"], [0.48627450980392156, \"#f4f4ff\"], [0.49019607843137253, \"#f7f7ff\"], [0.49411764705882355, \"#fafaff\"], [0.4980392156862745, \"#fdfdff\"], [0.5019607843137255, \"#fffdfd\"], [0.5058823529411764, \"#fffafa\"], [0.5098039215686274, \"#fff7f7\"], [0.5137254901960784, \"#fff4f4\"], [0.5176470588235295, \"#fff1f1\"], [0.5215686274509804, \"#ffeeee\"], [0.5254901960784314, \"#ffebeb\"], [0.5294117647058824, \"#ffe8e8\"], [0.5333333333333333, \"#ffe5e5\"], [0.5372549019607843, \"#ffe2e2\"], [0.5411764705882353, \"#ffdede\"], [0.5450980392156862, \"#ffdbdb\"], [0.5490196078431373, \"#ffd8d8\"], [0.5529411764705883, \"#ffd5d5\"], [0.5568627450980392, \"#ffd2d2\"], [0.5607843137254902, \"#ffcfcf\"], [0.5647058823529412, \"#ffcccc\"], [0.5686274509803921, \"#ffc9c9\"], [0.5725490196078431, \"#ffc6c6\"], [0.5764705882352941, \"#ffc3c3\"], [0.5803921568627451, \"#ffbfbf\"], [0.5843137254901961, \"#ffbcbc\"], [0.5882352941176471, \"#ffb9b9\"], [0.592156862745098, \"#ffb6b6\"], [0.596078431372549, \"#ffb3b3\"], [0.6, \"#ffb0b0\"], [0.6039215686274509, \"#ffacad\"], [0.6078431372549019, \"#ffa7aa\"], [0.611764705882353, \"#ffa3a7\"], [0.615686274509804, \"#ff9fa4\"], [0.6196078431372549, \"#ff9aa1\"], [0.6235294117647059, \"#ff969e\"], [0.6274509803921569, \"#ff929b\"], [0.6313725490196078, \"#ff8e98\"], [0.6352941176470588, \"#ff8995\"], [0.6392156862745098, \"#ff8592\"], [0.6431372549019608, \"#ff818f\"], [0.6470588235294118, \"#ff7c8c\"], [0.6509803921568628, \"#ff7889\"], [0.6549019607843137, \"#ff7486\"], [0.6588235294117647, \"#ff6f83\"], [0.6627450980392157, \"#ff6b80\"], [0.6666666666666666, \"#ff677d\"], [0.6705882352941176, \"#ff637a\"], [0.6745098039215687, \"#ff5e77\"], [0.6784313725490196, \"#ff5a74\"], [0.6823529411764706, \"#ff5671\"], [0.6862745098039216, \"#ff516e\"], [0.6901960784313725, \"#ff4d6b\"], [0.6941176470588235, \"#ff4968\"], [0.6980392156862745, \"#ff4465\"], [0.7019607843137254, \"#ff4163\"], [0.7058823529411765, \"#ff4062\"], [0.7098039215686275, \"#ff3e60\"], [0.7137254901960784, \"#ff3c5f\"], [0.7176470588235294, \"#ff3b5e\"], [0.7215686274509804, \"#ff395c\"], [0.7254901960784313, \"#ff375b\"], [0.7294117647058823, \"#ff365a\"], [0.7333333333333333, \"#ff3458\"], [0.7372549019607844, \"#ff3257\"], [0.7411764705882353, \"#ff3056\"], [0.7450980392156863, \"#ff2f55\"], [0.7490196078431373, \"#ff2d53\"], [0.7529411764705882, \"#ff2b52\"], [0.7568627450980392, \"#ff2a51\"], [0.7607843137254902, \"#ff284f\"], [0.7647058823529411, \"#ff264e\"], [0.7686274509803922, \"#ff254d\"], [0.7725490196078432, \"#ff234b\"], [0.7764705882352941, \"#ff214a\"], [0.7803921568627451, \"#ff1f49\"], [0.7843137254901961, \"#ff1e48\"], [0.788235294117647, \"#ff1c46\"], [0.792156862745098, \"#ff1a45\"], [0.796078431372549, \"#ff1944\"], [0.8, \"#ff1742\"], [0.803921568627451, \"#ff1842\"], [0.807843137254902, \"#ff1842\"], [0.8117647058823529, \"#ff1942\"], [0.8156862745098039, \"#ff1a42\"], [0.8196078431372549, \"#ff1a42\"], [0.8235294117647058, \"#ff1b42\"], [0.8274509803921568, \"#ff1c42\"], [0.8313725490196079, \"#ff1d42\"], [0.8352941176470589, \"#ff1d42\"], [0.8392156862745098, \"#ff1e42\"], [0.8431372549019608, \"#ff1f42\"], [0.8470588235294118, \"#ff1f42\"], [0.8509803921568627, \"#ff2042\"], [0.8549019607843137, \"#ff2142\"], [0.8588235294117647, \"#ff2142\"], [0.8627450980392157, \"#ff2242\"], [0.8666666666666667, \"#ff2342\"], [0.8705882352941177, \"#ff2442\"], [0.8745098039215686, \"#ff2442\"], [0.8784313725490196, \"#ff2542\"], [0.8823529411764706, \"#ff2642\"], [0.8862745098039215, \"#ff2642\"], [0.8901960784313725, \"#ff2742\"], [0.8941176470588236, \"#ff2842\"], [0.8980392156862745, \"#ff2842\"], [0.9019607843137255, \"#ff2942\"], [0.9058823529411765, \"#ff2a42\"], [0.9098039215686274, \"#ff2b42\"], [0.9137254901960784, \"#ff2c42\"], [0.9176470588235294, \"#ff2d42\"], [0.9215686274509803, \"#ff2e42\"], [0.9254901960784314, \"#ff2f42\"], [0.9294117647058824, \"#ff3042\"], [0.9333333333333333, \"#ff3142\"], [0.9372549019607843, \"#ff3242\"], [0.9411764705882353, \"#ff3342\"], [0.9450980392156862, \"#ff3442\"], [0.9490196078431372, \"#ff3542\"], [0.9529411764705882, \"#ff3642\"], [0.9568627450980393, \"#ff3742\"], [0.9607843137254902, \"#ff3842\"], [0.9647058823529412, \"#ff3942\"], [0.9686274509803922, \"#ff3a42\"], [0.9725490196078431, \"#ff3b42\"], [0.9764705882352941, \"#ff3c42\"], [0.9803921568627451, \"#ff3d42\"], [0.984313725490196, \"#ff3e42\"], [0.9882352941176471, \"#ff3f42\"], [0.9921568627450981, \"#ff4042\"], [0.996078431372549, \"#ff4142\"], [1.0, \"#ff4242\"]], \"showscale\": false, \"x\": [\"Sample 0\", \"Sample 1\"], \"y\": [\"Index 3\", \"Index 5\", \"Index 2\", \"Index 7\", \"Index 0\", \"Index 6\", \"Index 4\", \"Index 1\"], \"yaxis\": \"y\", \"z\": [[1.0000000000000013, -0.9999999999999988], [1.0, -1.0], [1.0, -1.0], [1.0, -1.0], [0.9999999999999982, -1.0000000000000018], [-1.0, 1.0], [-1.0, 1.0], [-1.0, 1.0]], \"zmax\": 1.0000000000000013, \"zmin\": -1.0000000000000018, \"type\": \"heatmap\", \"uid\": \"b0f428e5-8d94-44d3-a681-ce9087ba06e5\"}], {\"annotations\": [{\"font\": {\"size\": 9.6}, \"showarrow\": false, \"text\": \"<b>Score</b>\", \"width\": 64, \"x\": 1.0016, \"xanchor\": \"left\", \"xref\": \"paper\", \"y\": 0.95, \"yanchor\": \"middle\", \"yref\": \"paper\"}, {\"font\": {\"size\": 9.6}, \"showarrow\": false, \"text\": \"<b>0.86</b>\", \"width\": 64, \"x\": 1.0016, \"xanchor\": \"left\", \"xref\": \"paper\", \"y\": 0.75, \"yanchor\": \"middle\", \"yref\": \"paper\"}, {\"font\": {\"size\": 9.6}, \"showarrow\": false, \"text\": \"<b>0.86</b>\", \"width\": 64, \"x\": 1.0016, \"xanchor\": \"left\", \"xref\": \"paper\", \"y\": 0.65, \"yanchor\": \"middle\", \"yref\": \"paper\"}, {\"font\": {\"size\": 9.6}, \"showarrow\": false, \"text\": \"<b>0.86</b>\", \"width\": 64, \"x\": 1.0016, \"xanchor\": \"left\", \"xref\": \"paper\", \"y\": 0.55, \"yanchor\": \"middle\", \"yref\": \"paper\"}, {\"font\": {\"size\": 9.6}, \"showarrow\": false, \"text\": \"<b>-0.86</b>\", \"width\": 64, \"x\": 1.0016, \"xanchor\": \"left\", \"xref\": \"paper\", \"y\": 0.45000000000000007, \"yanchor\": \"middle\", \"yref\": \"paper\"}, {\"font\": {\"size\": 9.6}, \"showarrow\": false, \"text\": \"<b>-0.86</b>\", \"width\": 64, \"x\": 1.0016, \"xanchor\": \"left\", \"xref\": \"paper\", \"y\": 0.3500000000000001, \"yanchor\": \"middle\", \"yref\": \"paper\"}, {\"font\": {\"size\": 9.6}, \"showarrow\": false, \"text\": \"<b>-0.86</b>\", \"width\": 64, \"x\": 1.0016, \"xanchor\": \"left\", \"xref\": \"paper\", \"y\": 0.2500000000000001, \"yanchor\": \"middle\", \"yref\": \"paper\"}, {\"font\": {\"size\": 9.6}, \"showarrow\": false, \"text\": \"<b>-0.86</b>\", \"width\": 64, \"x\": 1.0016, \"xanchor\": \"left\", \"xref\": \"paper\", \"y\": 0.1500000000000001, \"yanchor\": \"middle\", \"yref\": \"paper\"}, {\"font\": {\"size\": 9.6}, \"showarrow\": false, \"text\": \"<b>-0.86</b>\", \"width\": 64, \"x\": 1.0016, \"xanchor\": \"left\", \"xref\": \"paper\", \"y\": 0.0500000000000001, \"yanchor\": \"middle\", \"yref\": \"paper\"}, {\"font\": {\"size\": 9.6}, \"showarrow\": false, \"text\": \"<b>P-Value</b>\", \"width\": 64, \"x\": 1.1016000000000001, \"xanchor\": \"left\", \"xref\": \"paper\", \"y\": 0.95, \"yanchor\": \"middle\", \"yref\": \"paper\"}, {\"font\": {\"size\": 9.6}, \"showarrow\": false, \"text\": \"<b>0.38</b>\", \"width\": 64, \"x\": 1.1016000000000001, \"xanchor\": \"left\", \"xref\": \"paper\", \"y\": 0.75, \"yanchor\": \"middle\", \"yref\": \"paper\"}, {\"font\": {\"size\": 9.6}, \"showarrow\": false, \"text\": \"<b>0.38</b>\", \"width\": 64, \"x\": 1.1016000000000001, \"xanchor\": \"left\", \"xref\": \"paper\", \"y\": 0.65, \"yanchor\": \"middle\", \"yref\": \"paper\"}, {\"font\": {\"size\": 9.6}, \"showarrow\": false, \"text\": \"<b>0.38</b>\", \"width\": 64, \"x\": 1.1016000000000001, \"xanchor\": \"left\", \"xref\": \"paper\", \"y\": 0.55, \"yanchor\": \"middle\", \"yref\": \"paper\"}, {\"font\": {\"size\": 9.6}, \"showarrow\": false, \"text\": \"<b>0.38</b>\", \"width\": 64, \"x\": 1.1016000000000001, \"xanchor\": \"left\", \"xref\": \"paper\", \"y\": 0.45000000000000007, \"yanchor\": \"middle\", \"yref\": \"paper\"}, {\"font\": {\"size\": 9.6}, \"showarrow\": false, \"text\": \"<b>0.38</b>\", \"width\": 64, \"x\": 1.1016000000000001, \"xanchor\": \"left\", \"xref\": \"paper\", \"y\": 0.3500000000000001, \"yanchor\": \"middle\", \"yref\": \"paper\"}, {\"font\": {\"size\": 9.6}, \"showarrow\": false, \"text\": \"<b>0.38</b>\", \"width\": 64, \"x\": 1.1016000000000001, \"xanchor\": \"left\", \"xref\": \"paper\", \"y\": 0.2500000000000001, \"yanchor\": \"middle\", \"yref\": \"paper\"}, {\"font\": {\"size\": 9.6}, \"showarrow\": false, \"text\": \"<b>0.38</b>\", \"width\": 64, \"x\": 1.1016000000000001, \"xanchor\": \"left\", \"xref\": \"paper\", \"y\": 0.1500000000000001, \"yanchor\": \"middle\", \"yref\": \"paper\"}, {\"font\": {\"size\": 9.6}, \"showarrow\": false, \"text\": \"<b>0.12</b>\", \"width\": 64, \"x\": 1.1016000000000001, \"xanchor\": \"left\", \"xref\": \"paper\", \"y\": 0.0500000000000001, \"yanchor\": \"middle\", \"yref\": \"paper\"}, {\"font\": {\"size\": 9.6}, \"showarrow\": false, \"text\": \"<b>FDR</b>\", \"width\": 64, \"x\": 1.2016, \"xanchor\": \"left\", \"xref\": \"paper\", \"y\": 0.95, \"yanchor\": \"middle\", \"yref\": \"paper\"}, {\"font\": {\"size\": 9.6}, \"showarrow\": false, \"text\": \"<b>0.88</b>\", \"width\": 64, \"x\": 1.2016, \"xanchor\": \"left\", \"xref\": \"paper\", \"y\": 0.75, \"yanchor\": \"middle\", \"yref\": \"paper\"}, {\"font\": {\"size\": 9.6}, \"showarrow\": false, \"text\": \"<b>0.88</b>\", \"width\": 64, \"x\": 1.2016, \"xanchor\": \"left\", \"xref\": \"paper\", \"y\": 0.65, \"yanchor\": \"middle\", \"yref\": \"paper\"}, {\"font\": {\"size\": 9.6}, \"showarrow\": false, \"text\": \"<b>0.88</b>\", \"width\": 64, \"x\": 1.2016, \"xanchor\": \"left\", \"xref\": \"paper\", \"y\": 0.55, \"yanchor\": \"middle\", \"yref\": \"paper\"}, {\"font\": {\"size\": 9.6}, \"showarrow\": false, \"text\": \"<b>0.60</b>\", \"width\": 64, \"x\": 1.2016, \"xanchor\": \"left\", \"xref\": \"paper\", \"y\": 0.45000000000000007, \"yanchor\": \"middle\", \"yref\": \"paper\"}, {\"font\": {\"size\": 9.6}, \"showarrow\": false, \"text\": \"<b>0.60</b>\", \"width\": 64, \"x\": 1.2016, \"xanchor\": \"left\", \"xref\": \"paper\", \"y\": 0.3500000000000001, \"yanchor\": \"middle\", \"yref\": \"paper\"}, {\"font\": {\"size\": 9.6}, \"showarrow\": false, \"text\": \"<b>0.60</b>\", \"width\": 64, \"x\": 1.2016, \"xanchor\": \"left\", \"xref\": \"paper\", \"y\": 0.2500000000000001, \"yanchor\": \"middle\", \"yref\": \"paper\"}, {\"font\": {\"size\": 9.6}, \"showarrow\": false, \"text\": \"<b>0.60</b>\", \"width\": 64, \"x\": 1.2016, \"xanchor\": \"left\", \"xref\": \"paper\", \"y\": 0.1500000000000001, \"yanchor\": \"middle\", \"yref\": \"paper\"}, {\"font\": {\"size\": 9.6}, \"showarrow\": false, \"text\": \"<b>0.60</b>\", \"width\": 64, \"x\": 1.2016, \"xanchor\": \"left\", \"xref\": \"paper\", \"y\": 0.0500000000000001, \"yanchor\": \"middle\", \"yref\": \"paper\"}], \"height\": 512, \"margin\": {\"l\": 196, \"r\": 196}, \"title\": \"Match Panel\", \"width\": 880, \"xaxis\": {\"anchor\": \"y\", \"tickfont\": {\"size\": 9.6}}, \"yaxis\": {\"domain\": [0, 0.8], \"dtick\": 1, \"tickfont\": {\"size\": 9.6}}, \"yaxis2\": {\"domain\": [0.9, 1], \"tickfont\": {\"size\": 9.6}}}, {\"showLink\": false, \"linkText\": \"Export to plot.ly\"})});</script>"
      ],
      "text/vnd.plotly.v1+html": [
       "<div id=\"ecd53c82-4245-4c01-a314-2acef8d3a1ec\" style=\"height: 512px; width: 880px;\" class=\"plotly-graph-div\"></div><script type=\"text/javascript\">require([\"plotly\"], function(Plotly) { window.PLOTLYENV=window.PLOTLYENV || {};window.PLOTLYENV.BASE_URL=\"https://plot.ly\";Plotly.newPlot(\"ecd53c82-4245-4c01-a314-2acef8d3a1ec\", [{\"colorscale\": [[0.0, \"#ebf6f7\"], [1.0, \"#171412\"]], \"showscale\": false, \"text\": [[\"Sample 0\", \"Sample 1\"]], \"x\": [\"Sample 0\", \"Sample 1\"], \"y\": [\"Target\"], \"yaxis\": \"y2\", \"z\": [[0, 2]], \"type\": \"heatmap\", \"uid\": \"381040fc-4d10-480b-b47e-0ba37930f031\"}, {\"colorscale\": [[0.0, \"#4242ff\"], [0.00392156862745098, \"#4241ff\"], [0.00784313725490196, \"#4240ff\"], [0.011764705882352941, \"#423fff\"], [0.01568627450980392, \"#423eff\"], [0.0196078431372549, \"#423dff\"], [0.023529411764705882, \"#423cff\"], [0.027450980392156862, \"#423bff\"], [0.03137254901960784, \"#423aff\"], [0.03529411764705882, \"#4239ff\"], [0.0392156862745098, \"#4238ff\"], [0.043137254901960784, \"#4237ff\"], [0.047058823529411764, \"#4236ff\"], [0.050980392156862744, \"#4235ff\"], [0.054901960784313725, \"#4234ff\"], [0.058823529411764705, \"#4233ff\"], [0.06274509803921569, \"#4232ff\"], [0.06666666666666667, \"#4231ff\"], [0.07058823529411765, \"#4230ff\"], [0.07450980392156863, \"#422fff\"], [0.0784313725490196, \"#422eff\"], [0.08235294117647059, \"#422dff\"], [0.08627450980392157, \"#422cff\"], [0.09019607843137255, \"#422bff\"], [0.09411764705882353, \"#422aff\"], [0.09803921568627451, \"#4229ff\"], [0.10196078431372549, \"#4228ff\"], [0.10588235294117647, \"#4228ff\"], [0.10980392156862745, \"#4227ff\"], [0.11372549019607843, \"#4226ff\"], [0.11764705882352941, \"#4226ff\"], [0.12156862745098039, \"#4225ff\"], [0.12549019607843137, \"#4224ff\"], [0.12941176470588237, \"#4224ff\"], [0.13333333333333333, \"#4223ff\"], [0.13725490196078433, \"#4222ff\"], [0.1411764705882353, \"#4221ff\"], [0.1450980392156863, \"#4221ff\"], [0.14901960784313725, \"#4220ff\"], [0.15294117647058825, \"#421fff\"], [0.1568627450980392, \"#421fff\"], [0.1607843137254902, \"#421eff\"], [0.16470588235294117, \"#421dff\"], [0.16862745098039217, \"#421dff\"], [0.17254901960784313, \"#421cff\"], [0.17647058823529413, \"#421bff\"], [0.1803921568627451, \"#421aff\"], [0.1843137254901961, \"#421aff\"], [0.18823529411764706, \"#4219ff\"], [0.19215686274509805, \"#4218ff\"], [0.19607843137254902, \"#4218ff\"], [0.2, \"#4217ff\"], [0.20392156862745098, \"#4419ff\"], [0.20784313725490197, \"#451aff\"], [0.21176470588235294, \"#461cff\"], [0.21568627450980393, \"#481eff\"], [0.2196078431372549, \"#491fff\"], [0.2235294117647059, \"#4a21ff\"], [0.22745098039215686, \"#4b23ff\"], [0.23137254901960785, \"#4d25ff\"], [0.23529411764705882, \"#4e26ff\"], [0.23921568627450981, \"#4f28ff\"], [0.24313725490196078, \"#512aff\"], [0.24705882352941178, \"#522bff\"], [0.25098039215686274, \"#532dff\"], [0.2549019607843137, \"#542fff\"], [0.25882352941176473, \"#5630ff\"], [0.2627450980392157, \"#5732ff\"], [0.26666666666666666, \"#5834ff\"], [0.27058823529411763, \"#5a36ff\"], [0.27450980392156865, \"#5b37ff\"], [0.2784313725490196, \"#5c39ff\"], [0.2823529411764706, \"#5e3bff\"], [0.28627450980392155, \"#5f3cff\"], [0.2901960784313726, \"#603eff\"], [0.29411764705882354, \"#6240ff\"], [0.2980392156862745, \"#6341ff\"], [0.30196078431372547, \"#6544ff\"], [0.3058823529411765, \"#6849ff\"], [0.30980392156862746, \"#6b4dff\"], [0.3137254901960784, \"#6e51ff\"], [0.3176470588235294, \"#7156ff\"], [0.3215686274509804, \"#745aff\"], [0.3254901960784314, \"#775eff\"], [0.32941176470588235, \"#7a63ff\"], [0.3333333333333333, \"#7d67ff\"], [0.33725490196078434, \"#806bff\"], [0.3411764705882353, \"#836fff\"], [0.34509803921568627, \"#8674ff\"], [0.34901960784313724, \"#8978ff\"], [0.35294117647058826, \"#8c7cff\"], [0.3568627450980392, \"#8f81ff\"], [0.3607843137254902, \"#9285ff\"], [0.36470588235294116, \"#9589ff\"], [0.3686274509803922, \"#988eff\"], [0.37254901960784315, \"#9b92ff\"], [0.3764705882352941, \"#9e96ff\"], [0.3803921568627451, \"#a19aff\"], [0.3843137254901961, \"#a49fff\"], [0.38823529411764707, \"#a7a3ff\"], [0.39215686274509803, \"#aaa7ff\"], [0.396078431372549, \"#adacff\"], [0.4, \"#b0b0ff\"], [0.403921568627451, \"#b3b3ff\"], [0.40784313725490196, \"#b6b6ff\"], [0.4117647058823529, \"#b9b9ff\"], [0.41568627450980394, \"#bcbcff\"], [0.4196078431372549, \"#bfbfff\"], [0.4235294117647059, \"#c3c3ff\"], [0.42745098039215684, \"#c6c6ff\"], [0.43137254901960786, \"#c9c9ff\"], [0.43529411764705883, \"#ccccff\"], [0.4392156862745098, \"#cfcfff\"], [0.44313725490196076, \"#d2d2ff\"], [0.4470588235294118, \"#d5d5ff\"], [0.45098039215686275, \"#d8d8ff\"], [0.4549019607843137, \"#dbdbff\"], [0.4588235294117647, \"#dedeff\"], [0.4627450980392157, \"#e2e2ff\"], [0.4666666666666667, \"#e5e5ff\"], [0.47058823529411764, \"#e8e8ff\"], [0.4745098039215686, \"#ebebff\"], [0.47843137254901963, \"#eeeeff\"], [0.4823529411764706, \"#f1f1ff\"], [0.48627450980392156, \"#f4f4ff\"], [0.49019607843137253, \"#f7f7ff\"], [0.49411764705882355, \"#fafaff\"], [0.4980392156862745, \"#fdfdff\"], [0.5019607843137255, \"#fffdfd\"], [0.5058823529411764, \"#fffafa\"], [0.5098039215686274, \"#fff7f7\"], [0.5137254901960784, \"#fff4f4\"], [0.5176470588235295, \"#fff1f1\"], [0.5215686274509804, \"#ffeeee\"], [0.5254901960784314, \"#ffebeb\"], [0.5294117647058824, \"#ffe8e8\"], [0.5333333333333333, \"#ffe5e5\"], [0.5372549019607843, \"#ffe2e2\"], [0.5411764705882353, \"#ffdede\"], [0.5450980392156862, \"#ffdbdb\"], [0.5490196078431373, \"#ffd8d8\"], [0.5529411764705883, \"#ffd5d5\"], [0.5568627450980392, \"#ffd2d2\"], [0.5607843137254902, \"#ffcfcf\"], [0.5647058823529412, \"#ffcccc\"], [0.5686274509803921, \"#ffc9c9\"], [0.5725490196078431, \"#ffc6c6\"], [0.5764705882352941, \"#ffc3c3\"], [0.5803921568627451, \"#ffbfbf\"], [0.5843137254901961, \"#ffbcbc\"], [0.5882352941176471, \"#ffb9b9\"], [0.592156862745098, \"#ffb6b6\"], [0.596078431372549, \"#ffb3b3\"], [0.6, \"#ffb0b0\"], [0.6039215686274509, \"#ffacad\"], [0.6078431372549019, \"#ffa7aa\"], [0.611764705882353, \"#ffa3a7\"], [0.615686274509804, \"#ff9fa4\"], [0.6196078431372549, \"#ff9aa1\"], [0.6235294117647059, \"#ff969e\"], [0.6274509803921569, \"#ff929b\"], [0.6313725490196078, \"#ff8e98\"], [0.6352941176470588, \"#ff8995\"], [0.6392156862745098, \"#ff8592\"], [0.6431372549019608, \"#ff818f\"], [0.6470588235294118, \"#ff7c8c\"], [0.6509803921568628, \"#ff7889\"], [0.6549019607843137, \"#ff7486\"], [0.6588235294117647, \"#ff6f83\"], [0.6627450980392157, \"#ff6b80\"], [0.6666666666666666, \"#ff677d\"], [0.6705882352941176, \"#ff637a\"], [0.6745098039215687, \"#ff5e77\"], [0.6784313725490196, \"#ff5a74\"], [0.6823529411764706, \"#ff5671\"], [0.6862745098039216, \"#ff516e\"], [0.6901960784313725, \"#ff4d6b\"], [0.6941176470588235, \"#ff4968\"], [0.6980392156862745, \"#ff4465\"], [0.7019607843137254, \"#ff4163\"], [0.7058823529411765, \"#ff4062\"], [0.7098039215686275, \"#ff3e60\"], [0.7137254901960784, \"#ff3c5f\"], [0.7176470588235294, \"#ff3b5e\"], [0.7215686274509804, \"#ff395c\"], [0.7254901960784313, \"#ff375b\"], [0.7294117647058823, \"#ff365a\"], [0.7333333333333333, \"#ff3458\"], [0.7372549019607844, \"#ff3257\"], [0.7411764705882353, \"#ff3056\"], [0.7450980392156863, \"#ff2f55\"], [0.7490196078431373, \"#ff2d53\"], [0.7529411764705882, \"#ff2b52\"], [0.7568627450980392, \"#ff2a51\"], [0.7607843137254902, \"#ff284f\"], [0.7647058823529411, \"#ff264e\"], [0.7686274509803922, \"#ff254d\"], [0.7725490196078432, \"#ff234b\"], [0.7764705882352941, \"#ff214a\"], [0.7803921568627451, \"#ff1f49\"], [0.7843137254901961, \"#ff1e48\"], [0.788235294117647, \"#ff1c46\"], [0.792156862745098, \"#ff1a45\"], [0.796078431372549, \"#ff1944\"], [0.8, \"#ff1742\"], [0.803921568627451, \"#ff1842\"], [0.807843137254902, \"#ff1842\"], [0.8117647058823529, \"#ff1942\"], [0.8156862745098039, \"#ff1a42\"], [0.8196078431372549, \"#ff1a42\"], [0.8235294117647058, \"#ff1b42\"], [0.8274509803921568, \"#ff1c42\"], [0.8313725490196079, \"#ff1d42\"], [0.8352941176470589, \"#ff1d42\"], [0.8392156862745098, \"#ff1e42\"], [0.8431372549019608, \"#ff1f42\"], [0.8470588235294118, \"#ff1f42\"], [0.8509803921568627, \"#ff2042\"], [0.8549019607843137, \"#ff2142\"], [0.8588235294117647, \"#ff2142\"], [0.8627450980392157, \"#ff2242\"], [0.8666666666666667, \"#ff2342\"], [0.8705882352941177, \"#ff2442\"], [0.8745098039215686, \"#ff2442\"], [0.8784313725490196, \"#ff2542\"], [0.8823529411764706, \"#ff2642\"], [0.8862745098039215, \"#ff2642\"], [0.8901960784313725, \"#ff2742\"], [0.8941176470588236, \"#ff2842\"], [0.8980392156862745, \"#ff2842\"], [0.9019607843137255, \"#ff2942\"], [0.9058823529411765, \"#ff2a42\"], [0.9098039215686274, \"#ff2b42\"], [0.9137254901960784, \"#ff2c42\"], [0.9176470588235294, \"#ff2d42\"], [0.9215686274509803, \"#ff2e42\"], [0.9254901960784314, \"#ff2f42\"], [0.9294117647058824, \"#ff3042\"], [0.9333333333333333, \"#ff3142\"], [0.9372549019607843, \"#ff3242\"], [0.9411764705882353, \"#ff3342\"], [0.9450980392156862, \"#ff3442\"], [0.9490196078431372, \"#ff3542\"], [0.9529411764705882, \"#ff3642\"], [0.9568627450980393, \"#ff3742\"], [0.9607843137254902, \"#ff3842\"], [0.9647058823529412, \"#ff3942\"], [0.9686274509803922, \"#ff3a42\"], [0.9725490196078431, \"#ff3b42\"], [0.9764705882352941, \"#ff3c42\"], [0.9803921568627451, \"#ff3d42\"], [0.984313725490196, \"#ff3e42\"], [0.9882352941176471, \"#ff3f42\"], [0.9921568627450981, \"#ff4042\"], [0.996078431372549, \"#ff4142\"], [1.0, \"#ff4242\"]], \"showscale\": false, \"x\": [\"Sample 0\", \"Sample 1\"], \"y\": [\"Index 3\", \"Index 5\", \"Index 2\", \"Index 7\", \"Index 0\", \"Index 6\", \"Index 4\", \"Index 1\"], \"yaxis\": \"y\", \"z\": [[1.0000000000000013, -0.9999999999999988], [1.0, -1.0], [1.0, -1.0], [1.0, -1.0], [0.9999999999999982, -1.0000000000000018], [-1.0, 1.0], [-1.0, 1.0], [-1.0, 1.0]], \"zmax\": 1.0000000000000013, \"zmin\": -1.0000000000000018, \"type\": \"heatmap\", \"uid\": \"b0f428e5-8d94-44d3-a681-ce9087ba06e5\"}], {\"annotations\": [{\"font\": {\"size\": 9.6}, \"showarrow\": false, \"text\": \"<b>Score</b>\", \"width\": 64, \"x\": 1.0016, \"xanchor\": \"left\", \"xref\": \"paper\", \"y\": 0.95, \"yanchor\": \"middle\", \"yref\": \"paper\"}, {\"font\": {\"size\": 9.6}, \"showarrow\": false, \"text\": \"<b>0.86</b>\", \"width\": 64, \"x\": 1.0016, \"xanchor\": \"left\", \"xref\": \"paper\", \"y\": 0.75, \"yanchor\": \"middle\", \"yref\": \"paper\"}, {\"font\": {\"size\": 9.6}, \"showarrow\": false, \"text\": \"<b>0.86</b>\", \"width\": 64, \"x\": 1.0016, \"xanchor\": \"left\", \"xref\": \"paper\", \"y\": 0.65, \"yanchor\": \"middle\", \"yref\": \"paper\"}, {\"font\": {\"size\": 9.6}, \"showarrow\": false, \"text\": \"<b>0.86</b>\", \"width\": 64, \"x\": 1.0016, \"xanchor\": \"left\", \"xref\": \"paper\", \"y\": 0.55, \"yanchor\": \"middle\", \"yref\": \"paper\"}, {\"font\": {\"size\": 9.6}, \"showarrow\": false, \"text\": \"<b>-0.86</b>\", \"width\": 64, \"x\": 1.0016, \"xanchor\": \"left\", \"xref\": \"paper\", \"y\": 0.45000000000000007, \"yanchor\": \"middle\", \"yref\": \"paper\"}, {\"font\": {\"size\": 9.6}, \"showarrow\": false, \"text\": \"<b>-0.86</b>\", \"width\": 64, \"x\": 1.0016, \"xanchor\": \"left\", \"xref\": \"paper\", \"y\": 0.3500000000000001, \"yanchor\": \"middle\", \"yref\": \"paper\"}, {\"font\": {\"size\": 9.6}, \"showarrow\": false, \"text\": \"<b>-0.86</b>\", \"width\": 64, \"x\": 1.0016, \"xanchor\": \"left\", \"xref\": \"paper\", \"y\": 0.2500000000000001, \"yanchor\": \"middle\", \"yref\": \"paper\"}, {\"font\": {\"size\": 9.6}, \"showarrow\": false, \"text\": \"<b>-0.86</b>\", \"width\": 64, \"x\": 1.0016, \"xanchor\": \"left\", \"xref\": \"paper\", \"y\": 0.1500000000000001, \"yanchor\": \"middle\", \"yref\": \"paper\"}, {\"font\": {\"size\": 9.6}, \"showarrow\": false, \"text\": \"<b>-0.86</b>\", \"width\": 64, \"x\": 1.0016, \"xanchor\": \"left\", \"xref\": \"paper\", \"y\": 0.0500000000000001, \"yanchor\": \"middle\", \"yref\": \"paper\"}, {\"font\": {\"size\": 9.6}, \"showarrow\": false, \"text\": \"<b>P-Value</b>\", \"width\": 64, \"x\": 1.1016000000000001, \"xanchor\": \"left\", \"xref\": \"paper\", \"y\": 0.95, \"yanchor\": \"middle\", \"yref\": \"paper\"}, {\"font\": {\"size\": 9.6}, \"showarrow\": false, \"text\": \"<b>0.38</b>\", \"width\": 64, \"x\": 1.1016000000000001, \"xanchor\": \"left\", \"xref\": \"paper\", \"y\": 0.75, \"yanchor\": \"middle\", \"yref\": \"paper\"}, {\"font\": {\"size\": 9.6}, \"showarrow\": false, \"text\": \"<b>0.38</b>\", \"width\": 64, \"x\": 1.1016000000000001, \"xanchor\": \"left\", \"xref\": \"paper\", \"y\": 0.65, \"yanchor\": \"middle\", \"yref\": \"paper\"}, {\"font\": {\"size\": 9.6}, \"showarrow\": false, \"text\": \"<b>0.38</b>\", \"width\": 64, \"x\": 1.1016000000000001, \"xanchor\": \"left\", \"xref\": \"paper\", \"y\": 0.55, \"yanchor\": \"middle\", \"yref\": \"paper\"}, {\"font\": {\"size\": 9.6}, \"showarrow\": false, \"text\": \"<b>0.38</b>\", \"width\": 64, \"x\": 1.1016000000000001, \"xanchor\": \"left\", \"xref\": \"paper\", \"y\": 0.45000000000000007, \"yanchor\": \"middle\", \"yref\": \"paper\"}, {\"font\": {\"size\": 9.6}, \"showarrow\": false, \"text\": \"<b>0.38</b>\", \"width\": 64, \"x\": 1.1016000000000001, \"xanchor\": \"left\", \"xref\": \"paper\", \"y\": 0.3500000000000001, \"yanchor\": \"middle\", \"yref\": \"paper\"}, {\"font\": {\"size\": 9.6}, \"showarrow\": false, \"text\": \"<b>0.38</b>\", \"width\": 64, \"x\": 1.1016000000000001, \"xanchor\": \"left\", \"xref\": \"paper\", \"y\": 0.2500000000000001, \"yanchor\": \"middle\", \"yref\": \"paper\"}, {\"font\": {\"size\": 9.6}, \"showarrow\": false, \"text\": \"<b>0.38</b>\", \"width\": 64, \"x\": 1.1016000000000001, \"xanchor\": \"left\", \"xref\": \"paper\", \"y\": 0.1500000000000001, \"yanchor\": \"middle\", \"yref\": \"paper\"}, {\"font\": {\"size\": 9.6}, \"showarrow\": false, \"text\": \"<b>0.12</b>\", \"width\": 64, \"x\": 1.1016000000000001, \"xanchor\": \"left\", \"xref\": \"paper\", \"y\": 0.0500000000000001, \"yanchor\": \"middle\", \"yref\": \"paper\"}, {\"font\": {\"size\": 9.6}, \"showarrow\": false, \"text\": \"<b>FDR</b>\", \"width\": 64, \"x\": 1.2016, \"xanchor\": \"left\", \"xref\": \"paper\", \"y\": 0.95, \"yanchor\": \"middle\", \"yref\": \"paper\"}, {\"font\": {\"size\": 9.6}, \"showarrow\": false, \"text\": \"<b>0.88</b>\", \"width\": 64, \"x\": 1.2016, \"xanchor\": \"left\", \"xref\": \"paper\", \"y\": 0.75, \"yanchor\": \"middle\", \"yref\": \"paper\"}, {\"font\": {\"size\": 9.6}, \"showarrow\": false, \"text\": \"<b>0.88</b>\", \"width\": 64, \"x\": 1.2016, \"xanchor\": \"left\", \"xref\": \"paper\", \"y\": 0.65, \"yanchor\": \"middle\", \"yref\": \"paper\"}, {\"font\": {\"size\": 9.6}, \"showarrow\": false, \"text\": \"<b>0.88</b>\", \"width\": 64, \"x\": 1.2016, \"xanchor\": \"left\", \"xref\": \"paper\", \"y\": 0.55, \"yanchor\": \"middle\", \"yref\": \"paper\"}, {\"font\": {\"size\": 9.6}, \"showarrow\": false, \"text\": \"<b>0.60</b>\", \"width\": 64, \"x\": 1.2016, \"xanchor\": \"left\", \"xref\": \"paper\", \"y\": 0.45000000000000007, \"yanchor\": \"middle\", \"yref\": \"paper\"}, {\"font\": {\"size\": 9.6}, \"showarrow\": false, \"text\": \"<b>0.60</b>\", \"width\": 64, \"x\": 1.2016, \"xanchor\": \"left\", \"xref\": \"paper\", \"y\": 0.3500000000000001, \"yanchor\": \"middle\", \"yref\": \"paper\"}, {\"font\": {\"size\": 9.6}, \"showarrow\": false, \"text\": \"<b>0.60</b>\", \"width\": 64, \"x\": 1.2016, \"xanchor\": \"left\", \"xref\": \"paper\", \"y\": 0.2500000000000001, \"yanchor\": \"middle\", \"yref\": \"paper\"}, {\"font\": {\"size\": 9.6}, \"showarrow\": false, \"text\": \"<b>0.60</b>\", \"width\": 64, \"x\": 1.2016, \"xanchor\": \"left\", \"xref\": \"paper\", \"y\": 0.1500000000000001, \"yanchor\": \"middle\", \"yref\": \"paper\"}, {\"font\": {\"size\": 9.6}, \"showarrow\": false, \"text\": \"<b>0.60</b>\", \"width\": 64, \"x\": 1.2016, \"xanchor\": \"left\", \"xref\": \"paper\", \"y\": 0.0500000000000001, \"yanchor\": \"middle\", \"yref\": \"paper\"}], \"height\": 512, \"margin\": {\"l\": 196, \"r\": 196}, \"title\": \"Match Panel\", \"width\": 880, \"xaxis\": {\"anchor\": \"y\", \"tickfont\": {\"size\": 9.6}}, \"yaxis\": {\"domain\": [0, 0.8], \"dtick\": 1, \"tickfont\": {\"size\": 9.6}}, \"yaxis2\": {\"domain\": [0.9, 1], \"tickfont\": {\"size\": 9.6}}}, {\"showLink\": false, \"linkText\": \"Export to plot.ly\"})});</script>"
      ]
     },
     "metadata": {},
     "output_type": "display_data"
    }
   ],
   "source": [
    "target = [\n",
    "    0,\n",
    "    2,\n",
    "]\n",
    "\n",
    "target = pd.Series(\n",
    "    target, \n",
    "    name='Target',\n",
    "    index=('Sample {}'.format(i) for i in range(len(target))),\n",
    ")\n",
    "\n",
    "n_row = 8\n",
    "\n",
    "features = pd.DataFrame(\n",
    "    np.random.random_sample(size=(\n",
    "        n_row,\n",
    "        target.size,\n",
    "    )),\n",
    "    index=('Index {}'.format(i) for i in range(n_row)),\n",
    "    columns=target.index,\n",
    ")\n",
    "\n",
    "for random_seed in range(3):\n",
    "\n",
    "    score_moe_p_value_fdr = make_match_panel(\n",
    "        target,\n",
    "        features,\n",
    "        n_sampling=0,\n",
    "        n_permutation=1,\n",
    "        random_seed=random_seed,\n",
    "        target_type='binary',\n",
    "    )"
   ]
  },
  {
   "cell_type": "code",
   "execution_count": null,
   "metadata": {
    "scrolled": true
   },
   "outputs": [],
   "source": [
    "target = [\n",
    "    0,\n",
    "    2,\n",
    "    8,\n",
    "    0,\n",
    "]\n",
    "\n",
    "target = pd.Series(\n",
    "    target, \n",
    "    name='Target',\n",
    "    index=('Sample {}'.format(i) for i in range(len(target))),\n",
    ")\n",
    "\n",
    "n_row = 8\n",
    "\n",
    "features = pd.DataFrame(\n",
    "    np.random.random_sample(size=(\n",
    "        n_row,\n",
    "        target.size,\n",
    "    )),\n",
    "    index=('Index {}'.format(i) for i in range(n_row)),\n",
    "    columns=target.index,\n",
    ")\n",
    "\n",
    "score_moe_p_value_fdr = make_match_panel(\n",
    "    target,\n",
    "    features,\n",
    "    target_ascending=None,\n",
    "    target_type='categorical',\n",
    ")\n",
    "\n",
    "score_moe_p_value_fdr"
   ]
  },
  {
   "cell_type": "code",
   "execution_count": null,
   "metadata": {
    "ExecuteTime": {
     "end_time": "2018-05-15T10:47:59.764349Z",
     "start_time": "2018-05-15T10:46:36.621876Z"
    },
    "scrolled": true
   },
   "outputs": [],
   "source": [
    "target = pd.read_table(\n",
    "    'target_0.tsv',\n",
    "    index_col=0,\n",
    "    squeeze=True,\n",
    ")\n",
    "\n",
    "features = pd.read_table(\n",
    "    'features_0.tsv',\n",
    "    index_col=0,\n",
    ")\n",
    "\n",
    "score_moe_p_value_fdr = make_match_panel(\n",
    "    target,\n",
    "    features,\n",
    "    n_sampling=2,\n",
    "    n_permutation=1,\n",
    "    target_type='binary',\n",
    ")\n",
    "\n",
    "score_moe_p_value_fdr.sort_values('Score')"
   ]
  },
  {
   "cell_type": "code",
   "execution_count": null,
   "metadata": {
    "scrolled": true
   },
   "outputs": [],
   "source": [
    "score_moe_p_value_fdr = make_match_panel(\n",
    "    features.iloc[0],\n",
    "    features.iloc[:1],\n",
    "    n_sampling=2,\n",
    "    n_permutation=1,\n",
    "    plot_std=3,\n",
    ")\n",
    "\n",
    "score_moe_p_value_fdr = make_match_panel(\n",
    "    features.iloc[0],\n",
    "    features.iloc[:2],\n",
    "    n_sampling=2,\n",
    "    n_permutation=1,\n",
    "    plot_std=3,\n",
    ")"
   ]
  },
  {
   "cell_type": "code",
   "execution_count": null,
   "metadata": {
    "ExecuteTime": {
     "end_time": "2018-05-15T10:48:04.273823Z",
     "start_time": "2018-05-15T10:47:59.781185Z"
    },
    "scrolled": true
   },
   "outputs": [],
   "source": [
    "n_index = 8\n",
    "\n",
    "n_column = 16\n",
    "\n",
    "features = pd.DataFrame(\n",
    "    np.random.random_sample(size=(\n",
    "        n_index,\n",
    "        n_column,\n",
    "    )),\n",
    "    index=('Index {}'.format(i) for i in range(n_index)),\n",
    "    columns=('Column {}'.format(i) for i in range(n_column)),\n",
    ")\n",
    "\n",
    "for target in (\n",
    "    pd.Series((0, ) * 8 + (2, ) * 8),\n",
    "    pd.Series((0, ) * 10 + (1, ) * 5 + (2, ) * 1),\n",
    "    pd.Series(('Aa', ) * 4 + ('Bb', ) * 4 + ('Cc', ) * 4 + ('Aa', ) * 4),\n",
    "):\n",
    "    \n",
    "    target.name = 'Target'\n",
    "    \n",
    "    target.index = ('Column {}'.format(i) for i in range(n_column))\n",
    "\n",
    "    score_moe_p_value_fdr = make_match_panel(\n",
    "        target,\n",
    "        features,\n",
    "        target_ascending=None,\n",
    "        n_sampling=2,\n",
    "        n_permutation=1,\n",
    "        target_type='categorical',\n",
    "    )"
   ]
  },
  {
   "cell_type": "code",
   "execution_count": null,
   "metadata": {
    "ExecuteTime": {
     "end_time": "2018-05-15T10:48:05.570577Z",
     "start_time": "2018-05-15T10:48:04.281086Z"
    },
    "scrolled": true
   },
   "outputs": [],
   "source": [
    "n_index = 8\n",
    "\n",
    "n_column = 16\n",
    "\n",
    "target = pd.Series(\n",
    "    np.random.random_sample(size=n_column + 1),\n",
    "    name='Target',\n",
    "    index=('Column {}'.format(i) for i in range(n_column + 1)),\n",
    ")\n",
    "\n",
    "features = pd.DataFrame(\n",
    "    np.random.random_sample(size=(\n",
    "        n_index,\n",
    "        n_column,\n",
    "    )),\n",
    "    index=('ABCDEFGHIJKLMNOPQRSTUVWXYZ {}'.format(i) for i in range(n_index)),\n",
    "    columns=('Column {}'.format(i) for i in range(n_column)),\n",
    ")\n",
    "\n",
    "features.iloc[0] = 0\n",
    "\n",
    "features.loc[np.random.choice(\n",
    "    features.index,\n",
    "    size=features.index.size // 8 * 7,\n",
    "    replace=False,\n",
    "), np.random.choice(\n",
    "    features.columns,\n",
    "    size=features.columns.size // 8 * 7,\n",
    "    replace=False,\n",
    ")] = np.nan\n",
    "\n",
    "score_moe_p_value_fdr = make_match_panel(\n",
    "    target,\n",
    "    features,\n",
    "    n_sampling=2,\n",
    "    n_permutation=1,\n",
    ")\n",
    "\n",
    "score_moe_p_value_fdr"
   ]
  },
  {
   "cell_type": "code",
   "execution_count": null,
   "metadata": {
    "ExecuteTime": {
     "end_time": "2018-05-15T10:48:08.065933Z",
     "start_time": "2018-05-15T10:48:05.590942Z"
    },
    "scrolled": false
   },
   "outputs": [],
   "source": [
    "n_index = 8\n",
    "\n",
    "n_column = 64\n",
    "\n",
    "target = pd.Series(\n",
    "    np.random.random_sample(size=n_column),\n",
    "    name='Target',\n",
    "    index=('Column {}'.format(i) for i in range(n_column)),\n",
    ")\n",
    "\n",
    "features = pd.DataFrame(\n",
    "    np.random.random_sample(size=(\n",
    "        n_index,\n",
    "        n_column,\n",
    "    )),\n",
    "    index=('Index {}'.format(i) for i in range(n_index)),\n",
    "    columns=('Column {}'.format(i) for i in range(n_column)),\n",
    ")\n",
    "\n",
    "score_moe_p_value_fdr = make_match_panel(\n",
    "    target,\n",
    "    features,\n",
    ")\n",
    "\n",
    "features = pd.DataFrame(\n",
    "    np.random.random_integers(\n",
    "        0,\n",
    "        8,\n",
    "        size=(\n",
    "            n_index,\n",
    "            n_column,\n",
    "        ),\n",
    "    ),\n",
    "    index=('Index {}'.format(i) for i in range(n_index)),\n",
    "    columns=('Column {}'.format(i) for i in range(n_column)),\n",
    ")\n",
    "\n",
    "score_moe_p_value_fdr = make_match_panel(\n",
    "    target,\n",
    "    features,\n",
    "    features_type='categorical',\n",
    ")\n",
    "\n",
    "features = pd.DataFrame(\n",
    "    np.random.random_integers(\n",
    "        0,\n",
    "        1,\n",
    "        size=(\n",
    "            n_index,\n",
    "            n_column,\n",
    "        ),\n",
    "    ),\n",
    "    index=('Index {}'.format(i) for i in range(n_index)),\n",
    "    columns=('Column {}'.format(i) for i in range(n_column)),\n",
    ")\n",
    "\n",
    "score_moe_p_value_fdr = make_match_panel(\n",
    "    target,\n",
    "    features,\n",
    "    features_type='binary',\n",
    ")"
   ]
  },
  {
   "cell_type": "code",
   "execution_count": 24,
   "metadata": {
    "ExecuteTime": {
     "end_time": "2018-05-15T10:48:15.310369Z",
     "start_time": "2018-05-15T10:48:08.080994Z"
    },
    "scrolled": false
   },
   "outputs": [
    {
     "name": "stdout",
     "output_type": "stream",
     "text": [
      "target.index (2) & features.columns (8) have 0 in common.\n",
      "Computing score using compute_information_coefficient with 1 process ...\n"
     ]
    },
    {
     "name": "stderr",
     "output_type": "stream",
     "text": [
      "../match/nd_array/nd_array/drop_bad_value_and_apply_function_on_2_1d_arrays.py:51: UserWarning:\n",
      "\n",
      "n < 2 for applying compute_information_coefficient.\n",
      "\n",
      "../match/nd_array/nd_array/drop_bad_value_and_apply_function_on_2_1d_arrays.py:51: UserWarning:\n",
      "\n",
      "n < 2 for applying compute_information_coefficient.\n",
      "\n",
      "../match/nd_array/nd_array/drop_bad_value_and_apply_function_on_2_1d_arrays.py:51: UserWarning:\n",
      "\n",
      "n < 2 for applying compute_information_coefficient.\n",
      "\n",
      "../match/nd_array/nd_array/drop_bad_value_and_apply_function_on_2_1d_arrays.py:51: UserWarning:\n",
      "\n",
      "n < 2 for applying compute_information_coefficient.\n",
      "\n",
      "../match/nd_array/nd_array/drop_bad_value_and_apply_function_on_2_1d_arrays.py:51: UserWarning:\n",
      "\n",
      "n < 2 for applying compute_information_coefficient.\n",
      "\n",
      "../match/nd_array/nd_array/drop_bad_value_and_apply_function_on_2_1d_arrays.py:51: UserWarning:\n",
      "\n",
      "n < 2 for applying compute_information_coefficient.\n",
      "\n",
      "../match/nd_array/nd_array/drop_bad_value_and_apply_function_on_2_1d_arrays.py:51: UserWarning:\n",
      "\n",
      "n < 2 for applying compute_information_coefficient.\n",
      "\n",
      "../match/nd_array/nd_array/drop_bad_value_and_apply_function_on_2_1d_arrays.py:51: UserWarning:\n",
      "\n",
      "n < 2 for applying compute_information_coefficient.\n",
      "\n",
      "../match/nd_array/nd_array/drop_bad_value_and_apply_function_on_2_1d_arrays.py:51: UserWarning:\n",
      "\n",
      "n < 2 for applying compute_information_coefficient.\n",
      "\n",
      "../match/nd_array/nd_array/drop_bad_value_and_apply_function_on_2_1d_arrays.py:51: UserWarning:\n",
      "\n",
      "n < 2 for applying compute_information_coefficient.\n",
      "\n",
      "../match/nd_array/nd_array/drop_bad_value_and_apply_function_on_2_1d_arrays.py:51: UserWarning:\n",
      "\n",
      "n < 2 for applying compute_information_coefficient.\n",
      "\n",
      "../match/nd_array/nd_array/drop_bad_value_and_apply_function_on_2_1d_arrays.py:51: UserWarning:\n",
      "\n",
      "n < 2 for applying compute_information_coefficient.\n",
      "\n"
     ]
    },
    {
     "name": "stdout",
     "output_type": "stream",
     "text": [
      "Computing MoE with 0 sampling ...\n",
      "[]\n"
     ]
    },
    {
     "ename": "ValueError",
     "evalue": "Cannot apply_along_axis when any iteration dimensions are 0",
     "output_type": "error",
     "traceback": [
      "\u001b[0;31m---------------------------------------------------------------------------\u001b[0m",
      "\u001b[0;31mStopIteration\u001b[0m                             Traceback (most recent call last)",
      "\u001b[0;32m~/miniconda3/lib/python3.6/site-packages/numpy/lib/shape_base.py\u001b[0m in \u001b[0;36mapply_along_axis\u001b[0;34m(func1d, axis, arr, *args, **kwargs)\u001b[0m\n\u001b[1;32m    353\u001b[0m     \u001b[0;32mtry\u001b[0m\u001b[0;34m:\u001b[0m\u001b[0;34m\u001b[0m\u001b[0m\n\u001b[0;32m--> 354\u001b[0;31m         \u001b[0mind0\u001b[0m \u001b[0;34m=\u001b[0m \u001b[0mnext\u001b[0m\u001b[0;34m(\u001b[0m\u001b[0minds\u001b[0m\u001b[0;34m)\u001b[0m\u001b[0;34m\u001b[0m\u001b[0m\n\u001b[0m\u001b[1;32m    355\u001b[0m     \u001b[0;32mexcept\u001b[0m \u001b[0mStopIteration\u001b[0m\u001b[0;34m:\u001b[0m\u001b[0;34m\u001b[0m\u001b[0m\n",
      "\u001b[0;31mStopIteration\u001b[0m: ",
      "\nDuring handling of the above exception, another exception occurred:\n",
      "\u001b[0;31mValueError\u001b[0m                                Traceback (most recent call last)",
      "\u001b[0;32m<ipython-input-24-1857788c01e4>\u001b[0m in \u001b[0;36m<module>\u001b[0;34m\u001b[0m\n\u001b[1;32m     61\u001b[0m score_moe_p_value_fdr = make_match_panel(\n\u001b[1;32m     62\u001b[0m     \u001b[0mtarget\u001b[0m\u001b[0;34m,\u001b[0m\u001b[0;34m\u001b[0m\u001b[0m\n\u001b[0;32m---> 63\u001b[0;31m     \u001b[0mfeatures\u001b[0m\u001b[0;34m,\u001b[0m\u001b[0;34m\u001b[0m\u001b[0m\n\u001b[0m\u001b[1;32m     64\u001b[0m )\n\u001b[1;32m     65\u001b[0m \u001b[0;32mraise\u001b[0m\u001b[0;34m\u001b[0m\u001b[0m\n",
      "\u001b[0;32m~/github/kwatme/library/match/match/make_match_panel.py\u001b[0m in \u001b[0;36mmake_match_panel\u001b[0;34m(target, features, target_ascending, score_moe_p_value_fdr, n_job, match_function, n_required_for_match_function, raise_for_n_less_than_required, extreme_feature_threshold, random_seed, n_sampling, n_permutation, target_type, cluster_within_category, features_type, plot_std, title, layout_width, row_height, layout_side_margin, annotation_font_size, file_path_prefix, plotly_file_path_prefix)\u001b[0m\n\u001b[1;32m     90\u001b[0m             \u001b[0mrandom_seed\u001b[0m\u001b[0;34m,\u001b[0m\u001b[0;34m\u001b[0m\u001b[0m\n\u001b[1;32m     91\u001b[0m             \u001b[0mn_sampling\u001b[0m\u001b[0;34m,\u001b[0m\u001b[0;34m\u001b[0m\u001b[0m\n\u001b[0;32m---> 92\u001b[0;31m             \u001b[0mn_permutation\u001b[0m\u001b[0;34m,\u001b[0m\u001b[0;34m\u001b[0m\u001b[0m\n\u001b[0m\u001b[1;32m     93\u001b[0m         )\n\u001b[1;32m     94\u001b[0m \u001b[0;34m\u001b[0m\u001b[0m\n",
      "\u001b[0;32m~/github/kwatme/library/match/match/_match.py\u001b[0m in \u001b[0;36m_match\u001b[0;34m(target, features, n_job, match_function, n_required_for_match_function, raise_for_n_less_than_required, extreme_feature_threshold, random_seed, n_sampling, n_permutation)\u001b[0m\n\u001b[1;32m     78\u001b[0m             \u001b[0mmatch_function\u001b[0m\u001b[0;34m,\u001b[0m\u001b[0;34m\u001b[0m\u001b[0m\n\u001b[1;32m     79\u001b[0m             \u001b[0mn_required_for_match_function\u001b[0m\u001b[0;34m,\u001b[0m\u001b[0;34m\u001b[0m\u001b[0m\n\u001b[0;32m---> 80\u001b[0;31m             \u001b[0mraise_for_n_less_than_required\u001b[0m\u001b[0;34m,\u001b[0m\u001b[0;34m\u001b[0m\u001b[0m\n\u001b[0m\u001b[1;32m     81\u001b[0m         )\n\u001b[1;32m     82\u001b[0m \u001b[0;34m\u001b[0m\u001b[0m\n",
      "\u001b[0;32m~/github/kwatme/library/match/match/_match.py\u001b[0m in \u001b[0;36m_match_randomly_sampled_target_and_features_to_compute_margin_of_errors\u001b[0;34m(target, features, random_seed, n_sampling, match_function, n_required_for_match_function, raise_for_n_less_than_required)\u001b[0m\n\u001b[1;32m    162\u001b[0m         \u001b[0;36m1\u001b[0m\u001b[0;34m,\u001b[0m\u001b[0;34m\u001b[0m\u001b[0m\n\u001b[1;32m    163\u001b[0m         \u001b[0mfeature_x_sampling\u001b[0m\u001b[0;34m,\u001b[0m\u001b[0;34m\u001b[0m\u001b[0m\n\u001b[0;32m--> 164\u001b[0;31m         \u001b[0mraise_for_bad_value\u001b[0m\u001b[0;34m=\u001b[0m\u001b[0;32mFalse\u001b[0m\u001b[0;34m,\u001b[0m\u001b[0;34m\u001b[0m\u001b[0m\n\u001b[0m\u001b[1;32m    165\u001b[0m     )\n\u001b[1;32m    166\u001b[0m \u001b[0;34m\u001b[0m\u001b[0m\n",
      "\u001b[0;32m~/miniconda3/lib/python3.6/site-packages/numpy/lib/shape_base.py\u001b[0m in \u001b[0;36mapply_along_axis\u001b[0;34m(func1d, axis, arr, *args, **kwargs)\u001b[0m\n\u001b[1;32m    354\u001b[0m         \u001b[0mind0\u001b[0m \u001b[0;34m=\u001b[0m \u001b[0mnext\u001b[0m\u001b[0;34m(\u001b[0m\u001b[0minds\u001b[0m\u001b[0;34m)\u001b[0m\u001b[0;34m\u001b[0m\u001b[0m\n\u001b[1;32m    355\u001b[0m     \u001b[0;32mexcept\u001b[0m \u001b[0mStopIteration\u001b[0m\u001b[0;34m:\u001b[0m\u001b[0;34m\u001b[0m\u001b[0m\n\u001b[0;32m--> 356\u001b[0;31m         \u001b[0;32mraise\u001b[0m \u001b[0mValueError\u001b[0m\u001b[0;34m(\u001b[0m\u001b[0;34m'Cannot apply_along_axis when any iteration dimensions are 0'\u001b[0m\u001b[0;34m)\u001b[0m\u001b[0;34m\u001b[0m\u001b[0m\n\u001b[0m\u001b[1;32m    357\u001b[0m     \u001b[0mres\u001b[0m \u001b[0;34m=\u001b[0m \u001b[0masanyarray\u001b[0m\u001b[0;34m(\u001b[0m\u001b[0mfunc1d\u001b[0m\u001b[0;34m(\u001b[0m\u001b[0minarr_view\u001b[0m\u001b[0;34m[\u001b[0m\u001b[0mind0\u001b[0m\u001b[0;34m]\u001b[0m\u001b[0;34m,\u001b[0m \u001b[0;34m*\u001b[0m\u001b[0margs\u001b[0m\u001b[0;34m,\u001b[0m \u001b[0;34m**\u001b[0m\u001b[0mkwargs\u001b[0m\u001b[0;34m)\u001b[0m\u001b[0;34m)\u001b[0m\u001b[0;34m\u001b[0m\u001b[0m\n\u001b[1;32m    358\u001b[0m \u001b[0;34m\u001b[0m\u001b[0m\n",
      "\u001b[0;31mValueError\u001b[0m: Cannot apply_along_axis when any iteration dimensions are 0"
     ]
    }
   ],
   "source": [
    "from match.make_summary_match_panel import make_summary_match_panel\n",
    "\n",
    "\n",
    "n_index = 4\n",
    "\n",
    "n_column = 8\n",
    "\n",
    "features_continuous = pd.DataFrame(\n",
    "    np.random.random_sample(size=(\n",
    "        n_index,\n",
    "        n_column,\n",
    "    )),\n",
    "    index=('Continuous Index {}'.format(i) for i in range(n_index)),\n",
    "    columns=('Column {}'.format(i) for i in range(n_column)),\n",
    ")\n",
    "\n",
    "features_categorical = pd.DataFrame(\n",
    "    np.random.randint(\n",
    "        0,\n",
    "        10,\n",
    "        size=(\n",
    "            n_index,\n",
    "            n_column,\n",
    "        )),\n",
    "    index=('Categorical Index {}'.format(i) for i in range(n_index)),\n",
    "    columns=('Column {}'.format(i) for i in range(n_column)),\n",
    ")\n",
    "\n",
    "features_binary = pd.DataFrame(\n",
    "    np.random.randint(\n",
    "        0,\n",
    "        2,\n",
    "        size=(\n",
    "            n_index,\n",
    "            n_column,\n",
    "        )),\n",
    "    index=('Binary Index {}'.format(i) for i in range(n_index)),\n",
    "    columns=('Column {}'.format(i) for i in range(n_column)),\n",
    ")\n",
    "\n",
    "features_dict = {\n",
    "    'Continuous': {\n",
    "        'df': features_continuous,\n",
    "        'data_type': 'continuous',\n",
    "        'emphasis': 'high',\n",
    "    },\n",
    "    'Categorical': {\n",
    "        'df': features_categorical,\n",
    "        'data_type': 'categorical',\n",
    "        'emphasis': 'high',\n",
    "    },\n",
    "    'Binary': {\n",
    "        'df': features_binary,\n",
    "        'data_type': 'binary',\n",
    "        'emphasis': 'high',\n",
    "    },\n",
    "}\n",
    "\n",
    "features = pd.concat((feature_dict['df'] for feature_dict in features_dict.values()))\n",
    "\n",
    "score_moe_p_value_fdr = make_match_panel(\n",
    "    target,\n",
    "    features,\n",
    ")\n",
    "raise\n",
    "for target, target_type in (\n",
    "    (\n",
    "        pd.Series(np.random.random_sample(size=n_column)),\n",
    "        'continuous',\n",
    "    ),\n",
    "    (\n",
    "        pd.Series(('Aa', ) * 4 + ('Bb', ) * 4 + ('Cc', ) * 4 + ('Aa', ) * 4),\n",
    "        'categorical',\n",
    "    ),\n",
    "):\n",
    "    \n",
    "    target.name = 'Target'\n",
    "    \n",
    "    target.index = ('Column {}'.format(i) for i in range(n_column))\n",
    "\n",
    "    make_summary_match_panel(\n",
    "        target,\n",
    "        features_dict,\n",
    "        score_moe_p_value_fdr,\n",
    "        target_type=target_type,\n",
    "    )\n",
    "\n",
    "    make_summary_match_panel(\n",
    "        target,\n",
    "        features_dict,\n",
    "        score_moe_p_value_fdr,\n",
    "        target_type=target_type,\n",
    "        plot_only_columns_shared_by_target_and_all_features=True,\n",
    "    )"
   ]
  }
 ],
 "metadata": {
  "kernelspec": {
   "display_name": "Python 3",
   "language": "python",
   "name": "python3"
  },
  "language_info": {
   "codemirror_mode": {
    "name": "ipython",
    "version": 3
   },
   "file_extension": ".py",
   "mimetype": "text/x-python",
   "name": "python",
   "nbconvert_exporter": "python",
   "pygments_lexer": "ipython3",
   "version": "3.6.6"
  }
 },
 "nbformat": 4,
 "nbformat_minor": 2
}
