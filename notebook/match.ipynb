{
 "cells": [
  {
   "cell_type": "code",
   "execution_count": 1,
   "metadata": {
    "ExecuteTime": {
     "end_time": "2018-05-15T10:46:32.980916Z",
     "start_time": "2018-05-15T10:46:32.921267Z"
    }
   },
   "outputs": [],
   "source": [
    "%load_ext autoreload\n",
    "\n",
    "%autoreload 2"
   ]
  },
  {
   "cell_type": "code",
   "execution_count": 2,
   "metadata": {},
   "outputs": [],
   "source": [
    "import sys\n",
    "\n",
    "\n",
    "sys.path.insert(\n",
    "    0,\n",
    "    '..',\n",
    ")"
   ]
  },
  {
   "cell_type": "code",
   "execution_count": 3,
   "metadata": {
    "ExecuteTime": {
     "end_time": "2018-05-15T10:46:33.663868Z",
     "start_time": "2018-05-15T10:46:33.635143Z"
    }
   },
   "outputs": [],
   "source": [
    "import numpy as np\n",
    "import pandas as pd\n",
    "\n",
    "np.random.seed(20121020)"
   ]
  },
  {
   "cell_type": "code",
   "execution_count": 5,
   "metadata": {},
   "outputs": [
    {
     "data": {
      "text/html": [
       "<script type=\"text/javascript\">window.PlotlyConfig = {MathJaxConfig: 'local'};</script><script type=\"text/javascript\">if (window.MathJax) {MathJax.Hub.Config({SVG: {font: \"STIX-Web\"}});}</script><script>requirejs.config({paths: { 'plotly': ['https://cdn.plot.ly/plotly-latest.min']},});if(!window._Plotly) {require(['plotly'],function(plotly) {window._Plotly=plotly;});}</script>"
      ],
      "text/vnd.plotly.v1+html": [
       "<script type=\"text/javascript\">window.PlotlyConfig = {MathJaxConfig: 'local'};</script><script type=\"text/javascript\">if (window.MathJax) {MathJax.Hub.Config({SVG: {font: \"STIX-Web\"}});}</script><script>requirejs.config({paths: { 'plotly': ['https://cdn.plot.ly/plotly-latest.min']},});if(!window._Plotly) {require(['plotly'],function(plotly) {window._Plotly=plotly;});}</script>"
      ]
     },
     "metadata": {},
     "output_type": "display_data"
    }
   ],
   "source": [
    "import plotly as pl\n",
    "\n",
    "\n",
    "pl.offline.init_notebook_mode(connected=True)"
   ]
  },
  {
   "cell_type": "code",
   "execution_count": null,
   "metadata": {
    "scrolled": true
   },
   "outputs": [],
   "source": [
    "from match.make_comparison_panel import make_comparison_panel\n",
    "\n",
    "\n",
    "_2d_array_0 = np.random.random_sample(size=(\n",
    "    8,\n",
    "    2,\n",
    "))\n",
    "\n",
    "_2d_array_1 = np.random.random_sample(size=(\n",
    "    8,\n",
    "    4,\n",
    "))\n",
    "\n",
    "comparison = make_comparison_panel(\n",
    "    _2d_array_0,\n",
    "    _2d_array_1,\n",
    "    name_0='Name 0',\n",
    "    name_1='Name 1',\n",
    ")\n",
    "\n",
    "_2d_array_0 = np.random.random_sample(size=(\n",
    "    2,\n",
    "    16,\n",
    "))\n",
    "\n",
    "_2d_array_1 = np.random.random_sample(size=(\n",
    "    8,\n",
    "    16,\n",
    "))\n",
    "\n",
    "comparison = make_comparison_panel(\n",
    "    _2d_array_0,\n",
    "    _2d_array_1,\n",
    "    axis=1,\n",
    "    name_0='Name 0',\n",
    "    name_1='Name 1',\n",
    ")"
   ]
  },
  {
   "cell_type": "code",
   "execution_count": null,
   "metadata": {
    "ExecuteTime": {
     "end_time": "2018-05-15T10:46:36.617163Z",
     "start_time": "2018-05-15T10:46:33.667703Z"
    }
   },
   "outputs": [],
   "source": [
    "from match.make_match_panel import make_match_panel"
   ]
  },
  {
   "cell_type": "code",
   "execution_count": null,
   "metadata": {
    "ExecuteTime": {
     "end_time": "2018-05-15T10:46:36.617163Z",
     "start_time": "2018-05-15T10:46:33.667703Z"
    }
   },
   "outputs": [],
   "source": [
    "for n_index, n_column in (\n",
    "    (\n",
    "        8,\n",
    "        2,\n",
    "    ),\n",
    "    (\n",
    "        8,\n",
    "        4,\n",
    "    ),\n",
    "    (\n",
    "        8,\n",
    "        16,\n",
    "    ),\n",
    "    (\n",
    "        8,\n",
    "        32,\n",
    "    ),\n",
    "    (\n",
    "        8,\n",
    "        160,\n",
    "    ),\n",
    "    (\n",
    "        8,\n",
    "        320,\n",
    "    ),\n",
    "    (\n",
    "        8,\n",
    "        1600,\n",
    "    ),\n",
    "    (\n",
    "        8,\n",
    "        3200,\n",
    "    ),\n",
    "    (\n",
    "        1,\n",
    "        8,\n",
    "    ),\n",
    "    (\n",
    "        2,\n",
    "        8,\n",
    "    ),\n",
    "    (\n",
    "        4,\n",
    "        8,\n",
    "    ),\n",
    "    (\n",
    "        16,\n",
    "        8,\n",
    "    ),\n",
    "    (\n",
    "        32,\n",
    "        8,\n",
    "    ),\n",
    "    (\n",
    "        64,\n",
    "        8,\n",
    "    ),\n",
    "    (\n",
    "        128,\n",
    "        8,\n",
    "    ),\n",
    "    (\n",
    "        320,\n",
    "        8,\n",
    "    ),\n",
    "    (\n",
    "        640,\n",
    "        8,\n",
    "    ),\n",
    "):\n",
    "\n",
    "    target = pd.Series(\n",
    "        np.random.random_sample(size=n_column),\n",
    "        name='Target',\n",
    "        index=('Column {}'.format(i) for i in range(n_column)),\n",
    "    )\n",
    "\n",
    "    features = pd.DataFrame(\n",
    "        np.random.random_sample(size=(\n",
    "            n_index,\n",
    "            n_column,\n",
    "        )),\n",
    "        index=('Index {}'.format(i) for i in range(n_index)),\n",
    "        columns=('Column {}'.format(i) for i in range(n_column)),\n",
    "    )\n",
    "    \n",
    "    score_moe_p_value_fdr = pd.DataFrame(\n",
    "        np.random.random_sample(size=(\n",
    "            features.shape[0],\n",
    "            4,\n",
    "        )),\n",
    "        index=('Index {}'.format(i) for i in range(n_index)),\n",
    "        columns=(\n",
    "            'Score',\n",
    "            '0.95 MoE',\n",
    "            'P-Value',\n",
    "            'FDR',\n",
    "        ),\n",
    "    )\n",
    "\n",
    "    score_moe_p_value_fdr = make_match_panel(\n",
    "        target,\n",
    "        features,\n",
    "        score_moe_p_value_fdr=score_moe_p_value_fdr,\n",
    "        extreme_feature_threshold=None,\n",
    "        title='{}-x-{} Match Panel'.format(\n",
    "            n_index,\n",
    "            n_column,\n",
    "        ))"
   ]
  },
  {
   "cell_type": "code",
   "execution_count": null,
   "metadata": {
    "scrolled": true
   },
   "outputs": [],
   "source": [
    "target = [\n",
    "    0,\n",
    "    2,\n",
    "]\n",
    "\n",
    "target = pd.Series(\n",
    "    target, \n",
    "    name='Target',\n",
    "    index=('Sample {}'.format(i) for i in range(len(target))),\n",
    ")\n",
    "\n",
    "n_row = 8\n",
    "\n",
    "features = pd.DataFrame(\n",
    "    np.random.random_sample(size=(\n",
    "        n_row,\n",
    "        target.size,\n",
    "    )),\n",
    "    index=('Index {}'.format(i) for i in range(n_row)),\n",
    "    columns=target.index,\n",
    ")\n",
    "\n",
    "for random_seed in range(3):\n",
    "\n",
    "    score_moe_p_value_fdr = make_match_panel(\n",
    "        target,\n",
    "        features,\n",
    "        n_sampling=2,\n",
    "        n_permutation=1,\n",
    "        random_seed=random_seed,\n",
    "        target_type='binary',\n",
    "    )"
   ]
  },
  {
   "cell_type": "code",
   "execution_count": null,
   "metadata": {
    "scrolled": true
   },
   "outputs": [],
   "source": [
    "target = [\n",
    "    0,\n",
    "    2,\n",
    "    8,\n",
    "    0,\n",
    "]\n",
    "\n",
    "target = pd.Series(\n",
    "    target, \n",
    "    name='Target',\n",
    "    index=('Sample {}'.format(i) for i in range(len(target))),\n",
    ")\n",
    "\n",
    "n_row = 8\n",
    "\n",
    "features = pd.DataFrame(\n",
    "    np.random.random_sample(size=(\n",
    "        n_row,\n",
    "        target.size,\n",
    "    )),\n",
    "    index=('Index {}'.format(i) for i in range(n_row)),\n",
    "    columns=target.index,\n",
    ")\n",
    "\n",
    "score_moe_p_value_fdr = make_match_panel(\n",
    "    target,\n",
    "    features,\n",
    "    target_ascending=None,\n",
    "    target_type='categorical',\n",
    ")\n",
    "\n",
    "score_moe_p_value_fdr"
   ]
  },
  {
   "cell_type": "code",
   "execution_count": null,
   "metadata": {
    "ExecuteTime": {
     "end_time": "2018-05-15T10:47:59.764349Z",
     "start_time": "2018-05-15T10:46:36.621876Z"
    },
    "scrolled": true
   },
   "outputs": [],
   "source": [
    "target = pd.read_table(\n",
    "    'target_0.tsv',\n",
    "    index_col=0,\n",
    "    squeeze=True,\n",
    ")\n",
    "\n",
    "features = pd.read_table(\n",
    "    'features_0.tsv',\n",
    "    index_col=0,\n",
    ")\n",
    "\n",
    "score_moe_p_value_fdr = make_match_panel(\n",
    "    target,\n",
    "    features,\n",
    "    n_sampling=2,\n",
    "    n_permutation=1,\n",
    "    target_type='binary',\n",
    ")\n",
    "\n",
    "score_moe_p_value_fdr.sort_values('Score')"
   ]
  },
  {
   "cell_type": "code",
   "execution_count": null,
   "metadata": {
    "scrolled": true
   },
   "outputs": [],
   "source": [
    "score_moe_p_value_fdr = make_match_panel(\n",
    "    features.iloc[0],\n",
    "    features.iloc[:1],\n",
    "    n_sampling=2,\n",
    "    n_permutation=1,\n",
    "    plot_std=3,\n",
    ")\n",
    "\n",
    "score_moe_p_value_fdr = make_match_panel(\n",
    "    features.iloc[0],\n",
    "    features.iloc[:2],\n",
    "    n_sampling=2,\n",
    "    n_permutation=1,\n",
    "    plot_std=3,\n",
    ")"
   ]
  },
  {
   "cell_type": "code",
   "execution_count": null,
   "metadata": {
    "ExecuteTime": {
     "end_time": "2018-05-15T10:48:04.273823Z",
     "start_time": "2018-05-15T10:47:59.781185Z"
    },
    "scrolled": true
   },
   "outputs": [],
   "source": [
    "n_index = 8\n",
    "\n",
    "n_column = 16\n",
    "\n",
    "features = pd.DataFrame(\n",
    "    np.random.random_sample(size=(\n",
    "        n_index,\n",
    "        n_column,\n",
    "    )),\n",
    "    index=('Index {}'.format(i) for i in range(n_index)),\n",
    "    columns=('Column {}'.format(i) for i in range(n_column)),\n",
    ")\n",
    "\n",
    "for target in (\n",
    "    pd.Series((0, ) * 8 + (2, ) * 8),\n",
    "    pd.Series((0, ) * 10 + (1, ) * 5 + (2, ) * 1),\n",
    "    pd.Series(('Aa', ) * 4 + ('Bb', ) * 4 + ('Cc', ) * 4 + ('Aa', ) * 4),\n",
    "):\n",
    "    \n",
    "    target.name = 'Target'\n",
    "    \n",
    "    target.index = ('Column {}'.format(i) for i in range(n_column))\n",
    "\n",
    "    score_moe_p_value_fdr = make_match_panel(\n",
    "        target,\n",
    "        features,\n",
    "        target_ascending=None,\n",
    "        n_sampling=2,\n",
    "        n_permutation=1,\n",
    "        target_type='categorical',\n",
    "    )"
   ]
  },
  {
   "cell_type": "code",
   "execution_count": null,
   "metadata": {
    "ExecuteTime": {
     "end_time": "2018-05-15T10:48:05.570577Z",
     "start_time": "2018-05-15T10:48:04.281086Z"
    },
    "scrolled": true
   },
   "outputs": [],
   "source": [
    "n_index = 8\n",
    "\n",
    "n_column = 16\n",
    "\n",
    "target = pd.Series(\n",
    "    np.random.random_sample(size=n_column + 1),\n",
    "    name='Target',\n",
    "    index=('Column {}'.format(i) for i in range(n_column + 1)),\n",
    ")\n",
    "\n",
    "features = pd.DataFrame(\n",
    "    np.random.random_sample(size=(\n",
    "        n_index,\n",
    "        n_column,\n",
    "    )),\n",
    "    index=('ABCDEFGHIJKLMNOPQRSTUVWXYZ {}'.format(i) for i in range(n_index)),\n",
    "    columns=('Column {}'.format(i) for i in range(n_column)),\n",
    ")\n",
    "\n",
    "features.iloc[0] = 0\n",
    "\n",
    "features.loc[np.random.choice(\n",
    "    features.index,\n",
    "    size=features.index.size // 8 * 7,\n",
    "    replace=False,\n",
    "), np.random.choice(\n",
    "    features.columns,\n",
    "    size=features.columns.size // 8 * 7,\n",
    "    replace=False,\n",
    ")] = np.nan\n",
    "\n",
    "score_moe_p_value_fdr = make_match_panel(\n",
    "    target,\n",
    "    features,\n",
    "    n_sampling=2,\n",
    "    n_permutation=1,\n",
    ")\n",
    "\n",
    "score_moe_p_value_fdr"
   ]
  },
  {
   "cell_type": "code",
   "execution_count": null,
   "metadata": {
    "ExecuteTime": {
     "end_time": "2018-05-15T10:48:08.065933Z",
     "start_time": "2018-05-15T10:48:05.590942Z"
    },
    "scrolled": false
   },
   "outputs": [],
   "source": [
    "n_index = 8\n",
    "\n",
    "n_column = 64\n",
    "\n",
    "target = pd.Series(\n",
    "    np.random.random_sample(size=n_column),\n",
    "    name='Target',\n",
    "    index=('Column {}'.format(i) for i in range(n_column)),\n",
    ")\n",
    "\n",
    "features = pd.DataFrame(\n",
    "    np.random.random_sample(size=(\n",
    "        n_index,\n",
    "        n_column,\n",
    "    )),\n",
    "    index=('Index {}'.format(i) for i in range(n_index)),\n",
    "    columns=('Column {}'.format(i) for i in range(n_column)),\n",
    ")\n",
    "\n",
    "score_moe_p_value_fdr = make_match_panel(\n",
    "    target,\n",
    "    features,\n",
    ")\n",
    "\n",
    "features = pd.DataFrame(\n",
    "    np.random.random_integers(\n",
    "        0,\n",
    "        8,\n",
    "        size=(\n",
    "            n_index,\n",
    "            n_column,\n",
    "        ),\n",
    "    ),\n",
    "    index=('Index {}'.format(i) for i in range(n_index)),\n",
    "    columns=('Column {}'.format(i) for i in range(n_column)),\n",
    ")\n",
    "\n",
    "score_moe_p_value_fdr = make_match_panel(\n",
    "    target,\n",
    "    features,\n",
    "    features_type='categorical',\n",
    ")\n",
    "\n",
    "features = pd.DataFrame(\n",
    "    np.random.random_integers(\n",
    "        0,\n",
    "        1,\n",
    "        size=(\n",
    "            n_index,\n",
    "            n_column,\n",
    "        ),\n",
    "    ),\n",
    "    index=('Index {}'.format(i) for i in range(n_index)),\n",
    "    columns=('Column {}'.format(i) for i in range(n_column)),\n",
    ")\n",
    "\n",
    "score_moe_p_value_fdr = make_match_panel(\n",
    "    target,\n",
    "    features,\n",
    "    features_type='binary',\n",
    ")"
   ]
  },
  {
   "cell_type": "code",
   "execution_count": 10,
   "metadata": {
    "ExecuteTime": {
     "end_time": "2018-05-15T10:48:15.310369Z",
     "start_time": "2018-05-15T10:48:08.080994Z"
    },
    "scrolled": false
   },
   "outputs": [
    {
     "name": "stderr",
     "output_type": "stream",
     "text": [
      "/home/kwatme/miniconda3/lib/python3.6/site-packages/ipykernel_launcher.py:23: DeprecationWarning:\n",
      "\n",
      "This function is deprecated. Please call randint(0, 8 + 1) instead\n",
      "\n",
      "/home/kwatme/miniconda3/lib/python3.6/site-packages/ipykernel_launcher.py:35: DeprecationWarning:\n",
      "\n",
      "This function is deprecated. Please call randint(0, 1 + 1) instead\n",
      "\n"
     ]
    },
    {
     "name": "stdout",
     "output_type": "stream",
     "text": [
      "Making match panel for Continuous features ...\n",
      "Making match panel for Cotinuous features (missing last 10 & scores ascending) ...\n",
      "Making match panel for Cotinuous features (missing first 10 & scores ascending) ...\n",
      "Making match panel for Categorical features ...\n",
      "Making match panel for Binary features ...\n"
     ]
    },
    {
     "data": {
      "application/vnd.plotly.v1+json": {
       "data": [
        {
         "colorscale": [
          [
           0,
           "#4242ff"
          ],
          [
           0.00392156862745098,
           "#4241ff"
          ],
          [
           0.00784313725490196,
           "#4240ff"
          ],
          [
           0.011764705882352941,
           "#423fff"
          ],
          [
           0.01568627450980392,
           "#423eff"
          ],
          [
           0.0196078431372549,
           "#423dff"
          ],
          [
           0.023529411764705882,
           "#423cff"
          ],
          [
           0.027450980392156862,
           "#423bff"
          ],
          [
           0.03137254901960784,
           "#423aff"
          ],
          [
           0.03529411764705882,
           "#4239ff"
          ],
          [
           0.0392156862745098,
           "#4238ff"
          ],
          [
           0.043137254901960784,
           "#4237ff"
          ],
          [
           0.047058823529411764,
           "#4236ff"
          ],
          [
           0.050980392156862744,
           "#4235ff"
          ],
          [
           0.054901960784313725,
           "#4234ff"
          ],
          [
           0.058823529411764705,
           "#4233ff"
          ],
          [
           0.06274509803921569,
           "#4232ff"
          ],
          [
           0.06666666666666667,
           "#4231ff"
          ],
          [
           0.07058823529411765,
           "#4230ff"
          ],
          [
           0.07450980392156863,
           "#422fff"
          ],
          [
           0.0784313725490196,
           "#422eff"
          ],
          [
           0.08235294117647059,
           "#422dff"
          ],
          [
           0.08627450980392157,
           "#422cff"
          ],
          [
           0.09019607843137255,
           "#422bff"
          ],
          [
           0.09411764705882353,
           "#422aff"
          ],
          [
           0.09803921568627451,
           "#4229ff"
          ],
          [
           0.10196078431372549,
           "#4228ff"
          ],
          [
           0.10588235294117647,
           "#4228ff"
          ],
          [
           0.10980392156862745,
           "#4227ff"
          ],
          [
           0.11372549019607843,
           "#4226ff"
          ],
          [
           0.11764705882352941,
           "#4226ff"
          ],
          [
           0.12156862745098039,
           "#4225ff"
          ],
          [
           0.12549019607843137,
           "#4224ff"
          ],
          [
           0.12941176470588237,
           "#4224ff"
          ],
          [
           0.13333333333333333,
           "#4223ff"
          ],
          [
           0.13725490196078433,
           "#4222ff"
          ],
          [
           0.1411764705882353,
           "#4221ff"
          ],
          [
           0.1450980392156863,
           "#4221ff"
          ],
          [
           0.14901960784313725,
           "#4220ff"
          ],
          [
           0.15294117647058825,
           "#421fff"
          ],
          [
           0.1568627450980392,
           "#421fff"
          ],
          [
           0.1607843137254902,
           "#421eff"
          ],
          [
           0.16470588235294117,
           "#421dff"
          ],
          [
           0.16862745098039217,
           "#421dff"
          ],
          [
           0.17254901960784313,
           "#421cff"
          ],
          [
           0.17647058823529413,
           "#421bff"
          ],
          [
           0.1803921568627451,
           "#421aff"
          ],
          [
           0.1843137254901961,
           "#421aff"
          ],
          [
           0.18823529411764706,
           "#4219ff"
          ],
          [
           0.19215686274509805,
           "#4218ff"
          ],
          [
           0.19607843137254902,
           "#4218ff"
          ],
          [
           0.2,
           "#4217ff"
          ],
          [
           0.20392156862745098,
           "#4419ff"
          ],
          [
           0.20784313725490197,
           "#451aff"
          ],
          [
           0.21176470588235294,
           "#461cff"
          ],
          [
           0.21568627450980393,
           "#481eff"
          ],
          [
           0.2196078431372549,
           "#491fff"
          ],
          [
           0.2235294117647059,
           "#4a21ff"
          ],
          [
           0.22745098039215686,
           "#4b23ff"
          ],
          [
           0.23137254901960785,
           "#4d25ff"
          ],
          [
           0.23529411764705882,
           "#4e26ff"
          ],
          [
           0.23921568627450981,
           "#4f28ff"
          ],
          [
           0.24313725490196078,
           "#512aff"
          ],
          [
           0.24705882352941178,
           "#522bff"
          ],
          [
           0.25098039215686274,
           "#532dff"
          ],
          [
           0.2549019607843137,
           "#542fff"
          ],
          [
           0.25882352941176473,
           "#5630ff"
          ],
          [
           0.2627450980392157,
           "#5732ff"
          ],
          [
           0.26666666666666666,
           "#5834ff"
          ],
          [
           0.27058823529411763,
           "#5a36ff"
          ],
          [
           0.27450980392156865,
           "#5b37ff"
          ],
          [
           0.2784313725490196,
           "#5c39ff"
          ],
          [
           0.2823529411764706,
           "#5e3bff"
          ],
          [
           0.28627450980392155,
           "#5f3cff"
          ],
          [
           0.2901960784313726,
           "#603eff"
          ],
          [
           0.29411764705882354,
           "#6240ff"
          ],
          [
           0.2980392156862745,
           "#6341ff"
          ],
          [
           0.30196078431372547,
           "#6544ff"
          ],
          [
           0.3058823529411765,
           "#6849ff"
          ],
          [
           0.30980392156862746,
           "#6b4dff"
          ],
          [
           0.3137254901960784,
           "#6e51ff"
          ],
          [
           0.3176470588235294,
           "#7156ff"
          ],
          [
           0.3215686274509804,
           "#745aff"
          ],
          [
           0.3254901960784314,
           "#775eff"
          ],
          [
           0.32941176470588235,
           "#7a63ff"
          ],
          [
           0.3333333333333333,
           "#7d67ff"
          ],
          [
           0.33725490196078434,
           "#806bff"
          ],
          [
           0.3411764705882353,
           "#836fff"
          ],
          [
           0.34509803921568627,
           "#8674ff"
          ],
          [
           0.34901960784313724,
           "#8978ff"
          ],
          [
           0.35294117647058826,
           "#8c7cff"
          ],
          [
           0.3568627450980392,
           "#8f81ff"
          ],
          [
           0.3607843137254902,
           "#9285ff"
          ],
          [
           0.36470588235294116,
           "#9589ff"
          ],
          [
           0.3686274509803922,
           "#988eff"
          ],
          [
           0.37254901960784315,
           "#9b92ff"
          ],
          [
           0.3764705882352941,
           "#9e96ff"
          ],
          [
           0.3803921568627451,
           "#a19aff"
          ],
          [
           0.3843137254901961,
           "#a49fff"
          ],
          [
           0.38823529411764707,
           "#a7a3ff"
          ],
          [
           0.39215686274509803,
           "#aaa7ff"
          ],
          [
           0.396078431372549,
           "#adacff"
          ],
          [
           0.4,
           "#b0b0ff"
          ],
          [
           0.403921568627451,
           "#b3b3ff"
          ],
          [
           0.40784313725490196,
           "#b6b6ff"
          ],
          [
           0.4117647058823529,
           "#b9b9ff"
          ],
          [
           0.41568627450980394,
           "#bcbcff"
          ],
          [
           0.4196078431372549,
           "#bfbfff"
          ],
          [
           0.4235294117647059,
           "#c3c3ff"
          ],
          [
           0.42745098039215684,
           "#c6c6ff"
          ],
          [
           0.43137254901960786,
           "#c9c9ff"
          ],
          [
           0.43529411764705883,
           "#ccccff"
          ],
          [
           0.4392156862745098,
           "#cfcfff"
          ],
          [
           0.44313725490196076,
           "#d2d2ff"
          ],
          [
           0.4470588235294118,
           "#d5d5ff"
          ],
          [
           0.45098039215686275,
           "#d8d8ff"
          ],
          [
           0.4549019607843137,
           "#dbdbff"
          ],
          [
           0.4588235294117647,
           "#dedeff"
          ],
          [
           0.4627450980392157,
           "#e2e2ff"
          ],
          [
           0.4666666666666667,
           "#e5e5ff"
          ],
          [
           0.47058823529411764,
           "#e8e8ff"
          ],
          [
           0.4745098039215686,
           "#ebebff"
          ],
          [
           0.47843137254901963,
           "#eeeeff"
          ],
          [
           0.4823529411764706,
           "#f1f1ff"
          ],
          [
           0.48627450980392156,
           "#f4f4ff"
          ],
          [
           0.49019607843137253,
           "#f7f7ff"
          ],
          [
           0.49411764705882355,
           "#fafaff"
          ],
          [
           0.4980392156862745,
           "#fdfdff"
          ],
          [
           0.5019607843137255,
           "#fffdfd"
          ],
          [
           0.5058823529411764,
           "#fffafa"
          ],
          [
           0.5098039215686274,
           "#fff7f7"
          ],
          [
           0.5137254901960784,
           "#fff4f4"
          ],
          [
           0.5176470588235295,
           "#fff1f1"
          ],
          [
           0.5215686274509804,
           "#ffeeee"
          ],
          [
           0.5254901960784314,
           "#ffebeb"
          ],
          [
           0.5294117647058824,
           "#ffe8e8"
          ],
          [
           0.5333333333333333,
           "#ffe5e5"
          ],
          [
           0.5372549019607843,
           "#ffe2e2"
          ],
          [
           0.5411764705882353,
           "#ffdede"
          ],
          [
           0.5450980392156862,
           "#ffdbdb"
          ],
          [
           0.5490196078431373,
           "#ffd8d8"
          ],
          [
           0.5529411764705883,
           "#ffd5d5"
          ],
          [
           0.5568627450980392,
           "#ffd2d2"
          ],
          [
           0.5607843137254902,
           "#ffcfcf"
          ],
          [
           0.5647058823529412,
           "#ffcccc"
          ],
          [
           0.5686274509803921,
           "#ffc9c9"
          ],
          [
           0.5725490196078431,
           "#ffc6c6"
          ],
          [
           0.5764705882352941,
           "#ffc3c3"
          ],
          [
           0.5803921568627451,
           "#ffbfbf"
          ],
          [
           0.5843137254901961,
           "#ffbcbc"
          ],
          [
           0.5882352941176471,
           "#ffb9b9"
          ],
          [
           0.592156862745098,
           "#ffb6b6"
          ],
          [
           0.596078431372549,
           "#ffb3b3"
          ],
          [
           0.6,
           "#ffb0b0"
          ],
          [
           0.6039215686274509,
           "#ffacad"
          ],
          [
           0.6078431372549019,
           "#ffa7aa"
          ],
          [
           0.611764705882353,
           "#ffa3a7"
          ],
          [
           0.615686274509804,
           "#ff9fa4"
          ],
          [
           0.6196078431372549,
           "#ff9aa1"
          ],
          [
           0.6235294117647059,
           "#ff969e"
          ],
          [
           0.6274509803921569,
           "#ff929b"
          ],
          [
           0.6313725490196078,
           "#ff8e98"
          ],
          [
           0.6352941176470588,
           "#ff8995"
          ],
          [
           0.6392156862745098,
           "#ff8592"
          ],
          [
           0.6431372549019608,
           "#ff818f"
          ],
          [
           0.6470588235294118,
           "#ff7c8c"
          ],
          [
           0.6509803921568628,
           "#ff7889"
          ],
          [
           0.6549019607843137,
           "#ff7486"
          ],
          [
           0.6588235294117647,
           "#ff6f83"
          ],
          [
           0.6627450980392157,
           "#ff6b80"
          ],
          [
           0.6666666666666666,
           "#ff677d"
          ],
          [
           0.6705882352941176,
           "#ff637a"
          ],
          [
           0.6745098039215687,
           "#ff5e77"
          ],
          [
           0.6784313725490196,
           "#ff5a74"
          ],
          [
           0.6823529411764706,
           "#ff5671"
          ],
          [
           0.6862745098039216,
           "#ff516e"
          ],
          [
           0.6901960784313725,
           "#ff4d6b"
          ],
          [
           0.6941176470588235,
           "#ff4968"
          ],
          [
           0.6980392156862745,
           "#ff4465"
          ],
          [
           0.7019607843137254,
           "#ff4163"
          ],
          [
           0.7058823529411765,
           "#ff4062"
          ],
          [
           0.7098039215686275,
           "#ff3e60"
          ],
          [
           0.7137254901960784,
           "#ff3c5f"
          ],
          [
           0.7176470588235294,
           "#ff3b5e"
          ],
          [
           0.7215686274509804,
           "#ff395c"
          ],
          [
           0.7254901960784313,
           "#ff375b"
          ],
          [
           0.7294117647058823,
           "#ff365a"
          ],
          [
           0.7333333333333333,
           "#ff3458"
          ],
          [
           0.7372549019607844,
           "#ff3257"
          ],
          [
           0.7411764705882353,
           "#ff3056"
          ],
          [
           0.7450980392156863,
           "#ff2f55"
          ],
          [
           0.7490196078431373,
           "#ff2d53"
          ],
          [
           0.7529411764705882,
           "#ff2b52"
          ],
          [
           0.7568627450980392,
           "#ff2a51"
          ],
          [
           0.7607843137254902,
           "#ff284f"
          ],
          [
           0.7647058823529411,
           "#ff264e"
          ],
          [
           0.7686274509803922,
           "#ff254d"
          ],
          [
           0.7725490196078432,
           "#ff234b"
          ],
          [
           0.7764705882352941,
           "#ff214a"
          ],
          [
           0.7803921568627451,
           "#ff1f49"
          ],
          [
           0.7843137254901961,
           "#ff1e48"
          ],
          [
           0.788235294117647,
           "#ff1c46"
          ],
          [
           0.792156862745098,
           "#ff1a45"
          ],
          [
           0.796078431372549,
           "#ff1944"
          ],
          [
           0.8,
           "#ff1742"
          ],
          [
           0.803921568627451,
           "#ff1842"
          ],
          [
           0.807843137254902,
           "#ff1842"
          ],
          [
           0.8117647058823529,
           "#ff1942"
          ],
          [
           0.8156862745098039,
           "#ff1a42"
          ],
          [
           0.8196078431372549,
           "#ff1a42"
          ],
          [
           0.8235294117647058,
           "#ff1b42"
          ],
          [
           0.8274509803921568,
           "#ff1c42"
          ],
          [
           0.8313725490196079,
           "#ff1d42"
          ],
          [
           0.8352941176470589,
           "#ff1d42"
          ],
          [
           0.8392156862745098,
           "#ff1e42"
          ],
          [
           0.8431372549019608,
           "#ff1f42"
          ],
          [
           0.8470588235294118,
           "#ff1f42"
          ],
          [
           0.8509803921568627,
           "#ff2042"
          ],
          [
           0.8549019607843137,
           "#ff2142"
          ],
          [
           0.8588235294117647,
           "#ff2142"
          ],
          [
           0.8627450980392157,
           "#ff2242"
          ],
          [
           0.8666666666666667,
           "#ff2342"
          ],
          [
           0.8705882352941177,
           "#ff2442"
          ],
          [
           0.8745098039215686,
           "#ff2442"
          ],
          [
           0.8784313725490196,
           "#ff2542"
          ],
          [
           0.8823529411764706,
           "#ff2642"
          ],
          [
           0.8862745098039215,
           "#ff2642"
          ],
          [
           0.8901960784313725,
           "#ff2742"
          ],
          [
           0.8941176470588236,
           "#ff2842"
          ],
          [
           0.8980392156862745,
           "#ff2842"
          ],
          [
           0.9019607843137255,
           "#ff2942"
          ],
          [
           0.9058823529411765,
           "#ff2a42"
          ],
          [
           0.9098039215686274,
           "#ff2b42"
          ],
          [
           0.9137254901960784,
           "#ff2c42"
          ],
          [
           0.9176470588235294,
           "#ff2d42"
          ],
          [
           0.9215686274509803,
           "#ff2e42"
          ],
          [
           0.9254901960784314,
           "#ff2f42"
          ],
          [
           0.9294117647058824,
           "#ff3042"
          ],
          [
           0.9333333333333333,
           "#ff3142"
          ],
          [
           0.9372549019607843,
           "#ff3242"
          ],
          [
           0.9411764705882353,
           "#ff3342"
          ],
          [
           0.9450980392156862,
           "#ff3442"
          ],
          [
           0.9490196078431372,
           "#ff3542"
          ],
          [
           0.9529411764705882,
           "#ff3642"
          ],
          [
           0.9568627450980393,
           "#ff3742"
          ],
          [
           0.9607843137254902,
           "#ff3842"
          ],
          [
           0.9647058823529412,
           "#ff3942"
          ],
          [
           0.9686274509803922,
           "#ff3a42"
          ],
          [
           0.9725490196078431,
           "#ff3b42"
          ],
          [
           0.9764705882352941,
           "#ff3c42"
          ],
          [
           0.9803921568627451,
           "#ff3d42"
          ],
          [
           0.984313725490196,
           "#ff3e42"
          ],
          [
           0.9882352941176471,
           "#ff3f42"
          ],
          [
           0.9921568627450981,
           "#ff4042"
          ],
          [
           0.996078431372549,
           "#ff4142"
          ],
          [
           1,
           "#ff4242"
          ]
         ],
         "showscale": false,
         "text": [
          [
           "Column 9",
           "Column 4",
           "Column 11",
           "Column 7",
           "Column 2",
           "Column 0",
           "Column 5",
           "Column 13",
           "Column 15",
           "Column 12",
           "Column 8",
           "Column 3",
           "Column 6",
           "Column 10",
           "Column 14",
           "Column 1"
          ]
         ],
         "type": "heatmap",
         "uid": "91f6e61e-0576-45c5-a148-3c0696a00b0e",
         "x": [
          "Column 9",
          "Column 4",
          "Column 11",
          "Column 7",
          "Column 2",
          "Column 0",
          "Column 5",
          "Column 13",
          "Column 15",
          "Column 12",
          "Column 8",
          "Column 3",
          "Column 6",
          "Column 10",
          "Column 14",
          "Column 1"
         ],
         "y": [
          "Target"
         ],
         "yaxis": "y6",
         "z": [
          [
           -1.5412021816054788,
           -1.4397536989085518,
           -1.272134631805698,
           -1.1664140259513176,
           -0.7705927637186675,
           -0.44944703735453445,
           -0.2138701378948218,
           -0.14462610821287442,
           0.1667977904652252,
           0.45155907015188135,
           0.590075861024802,
           0.6716825701432529,
           1.0397309371321815,
           1.1746273333193402,
           1.41135264422378,
           1.4922143789914835
          ]
         ],
         "zmax": 1.4922143789914835,
         "zmin": -1.5412021816054788
        },
        {
         "colorscale": [
          [
           0,
           "#4242ff"
          ],
          [
           0.00392156862745098,
           "#4241ff"
          ],
          [
           0.00784313725490196,
           "#4240ff"
          ],
          [
           0.011764705882352941,
           "#423fff"
          ],
          [
           0.01568627450980392,
           "#423eff"
          ],
          [
           0.0196078431372549,
           "#423dff"
          ],
          [
           0.023529411764705882,
           "#423cff"
          ],
          [
           0.027450980392156862,
           "#423bff"
          ],
          [
           0.03137254901960784,
           "#423aff"
          ],
          [
           0.03529411764705882,
           "#4239ff"
          ],
          [
           0.0392156862745098,
           "#4238ff"
          ],
          [
           0.043137254901960784,
           "#4237ff"
          ],
          [
           0.047058823529411764,
           "#4236ff"
          ],
          [
           0.050980392156862744,
           "#4235ff"
          ],
          [
           0.054901960784313725,
           "#4234ff"
          ],
          [
           0.058823529411764705,
           "#4233ff"
          ],
          [
           0.06274509803921569,
           "#4232ff"
          ],
          [
           0.06666666666666667,
           "#4231ff"
          ],
          [
           0.07058823529411765,
           "#4230ff"
          ],
          [
           0.07450980392156863,
           "#422fff"
          ],
          [
           0.0784313725490196,
           "#422eff"
          ],
          [
           0.08235294117647059,
           "#422dff"
          ],
          [
           0.08627450980392157,
           "#422cff"
          ],
          [
           0.09019607843137255,
           "#422bff"
          ],
          [
           0.09411764705882353,
           "#422aff"
          ],
          [
           0.09803921568627451,
           "#4229ff"
          ],
          [
           0.10196078431372549,
           "#4228ff"
          ],
          [
           0.10588235294117647,
           "#4228ff"
          ],
          [
           0.10980392156862745,
           "#4227ff"
          ],
          [
           0.11372549019607843,
           "#4226ff"
          ],
          [
           0.11764705882352941,
           "#4226ff"
          ],
          [
           0.12156862745098039,
           "#4225ff"
          ],
          [
           0.12549019607843137,
           "#4224ff"
          ],
          [
           0.12941176470588237,
           "#4224ff"
          ],
          [
           0.13333333333333333,
           "#4223ff"
          ],
          [
           0.13725490196078433,
           "#4222ff"
          ],
          [
           0.1411764705882353,
           "#4221ff"
          ],
          [
           0.1450980392156863,
           "#4221ff"
          ],
          [
           0.14901960784313725,
           "#4220ff"
          ],
          [
           0.15294117647058825,
           "#421fff"
          ],
          [
           0.1568627450980392,
           "#421fff"
          ],
          [
           0.1607843137254902,
           "#421eff"
          ],
          [
           0.16470588235294117,
           "#421dff"
          ],
          [
           0.16862745098039217,
           "#421dff"
          ],
          [
           0.17254901960784313,
           "#421cff"
          ],
          [
           0.17647058823529413,
           "#421bff"
          ],
          [
           0.1803921568627451,
           "#421aff"
          ],
          [
           0.1843137254901961,
           "#421aff"
          ],
          [
           0.18823529411764706,
           "#4219ff"
          ],
          [
           0.19215686274509805,
           "#4218ff"
          ],
          [
           0.19607843137254902,
           "#4218ff"
          ],
          [
           0.2,
           "#4217ff"
          ],
          [
           0.20392156862745098,
           "#4419ff"
          ],
          [
           0.20784313725490197,
           "#451aff"
          ],
          [
           0.21176470588235294,
           "#461cff"
          ],
          [
           0.21568627450980393,
           "#481eff"
          ],
          [
           0.2196078431372549,
           "#491fff"
          ],
          [
           0.2235294117647059,
           "#4a21ff"
          ],
          [
           0.22745098039215686,
           "#4b23ff"
          ],
          [
           0.23137254901960785,
           "#4d25ff"
          ],
          [
           0.23529411764705882,
           "#4e26ff"
          ],
          [
           0.23921568627450981,
           "#4f28ff"
          ],
          [
           0.24313725490196078,
           "#512aff"
          ],
          [
           0.24705882352941178,
           "#522bff"
          ],
          [
           0.25098039215686274,
           "#532dff"
          ],
          [
           0.2549019607843137,
           "#542fff"
          ],
          [
           0.25882352941176473,
           "#5630ff"
          ],
          [
           0.2627450980392157,
           "#5732ff"
          ],
          [
           0.26666666666666666,
           "#5834ff"
          ],
          [
           0.27058823529411763,
           "#5a36ff"
          ],
          [
           0.27450980392156865,
           "#5b37ff"
          ],
          [
           0.2784313725490196,
           "#5c39ff"
          ],
          [
           0.2823529411764706,
           "#5e3bff"
          ],
          [
           0.28627450980392155,
           "#5f3cff"
          ],
          [
           0.2901960784313726,
           "#603eff"
          ],
          [
           0.29411764705882354,
           "#6240ff"
          ],
          [
           0.2980392156862745,
           "#6341ff"
          ],
          [
           0.30196078431372547,
           "#6544ff"
          ],
          [
           0.3058823529411765,
           "#6849ff"
          ],
          [
           0.30980392156862746,
           "#6b4dff"
          ],
          [
           0.3137254901960784,
           "#6e51ff"
          ],
          [
           0.3176470588235294,
           "#7156ff"
          ],
          [
           0.3215686274509804,
           "#745aff"
          ],
          [
           0.3254901960784314,
           "#775eff"
          ],
          [
           0.32941176470588235,
           "#7a63ff"
          ],
          [
           0.3333333333333333,
           "#7d67ff"
          ],
          [
           0.33725490196078434,
           "#806bff"
          ],
          [
           0.3411764705882353,
           "#836fff"
          ],
          [
           0.34509803921568627,
           "#8674ff"
          ],
          [
           0.34901960784313724,
           "#8978ff"
          ],
          [
           0.35294117647058826,
           "#8c7cff"
          ],
          [
           0.3568627450980392,
           "#8f81ff"
          ],
          [
           0.3607843137254902,
           "#9285ff"
          ],
          [
           0.36470588235294116,
           "#9589ff"
          ],
          [
           0.3686274509803922,
           "#988eff"
          ],
          [
           0.37254901960784315,
           "#9b92ff"
          ],
          [
           0.3764705882352941,
           "#9e96ff"
          ],
          [
           0.3803921568627451,
           "#a19aff"
          ],
          [
           0.3843137254901961,
           "#a49fff"
          ],
          [
           0.38823529411764707,
           "#a7a3ff"
          ],
          [
           0.39215686274509803,
           "#aaa7ff"
          ],
          [
           0.396078431372549,
           "#adacff"
          ],
          [
           0.4,
           "#b0b0ff"
          ],
          [
           0.403921568627451,
           "#b3b3ff"
          ],
          [
           0.40784313725490196,
           "#b6b6ff"
          ],
          [
           0.4117647058823529,
           "#b9b9ff"
          ],
          [
           0.41568627450980394,
           "#bcbcff"
          ],
          [
           0.4196078431372549,
           "#bfbfff"
          ],
          [
           0.4235294117647059,
           "#c3c3ff"
          ],
          [
           0.42745098039215684,
           "#c6c6ff"
          ],
          [
           0.43137254901960786,
           "#c9c9ff"
          ],
          [
           0.43529411764705883,
           "#ccccff"
          ],
          [
           0.4392156862745098,
           "#cfcfff"
          ],
          [
           0.44313725490196076,
           "#d2d2ff"
          ],
          [
           0.4470588235294118,
           "#d5d5ff"
          ],
          [
           0.45098039215686275,
           "#d8d8ff"
          ],
          [
           0.4549019607843137,
           "#dbdbff"
          ],
          [
           0.4588235294117647,
           "#dedeff"
          ],
          [
           0.4627450980392157,
           "#e2e2ff"
          ],
          [
           0.4666666666666667,
           "#e5e5ff"
          ],
          [
           0.47058823529411764,
           "#e8e8ff"
          ],
          [
           0.4745098039215686,
           "#ebebff"
          ],
          [
           0.47843137254901963,
           "#eeeeff"
          ],
          [
           0.4823529411764706,
           "#f1f1ff"
          ],
          [
           0.48627450980392156,
           "#f4f4ff"
          ],
          [
           0.49019607843137253,
           "#f7f7ff"
          ],
          [
           0.49411764705882355,
           "#fafaff"
          ],
          [
           0.4980392156862745,
           "#fdfdff"
          ],
          [
           0.5019607843137255,
           "#fffdfd"
          ],
          [
           0.5058823529411764,
           "#fffafa"
          ],
          [
           0.5098039215686274,
           "#fff7f7"
          ],
          [
           0.5137254901960784,
           "#fff4f4"
          ],
          [
           0.5176470588235295,
           "#fff1f1"
          ],
          [
           0.5215686274509804,
           "#ffeeee"
          ],
          [
           0.5254901960784314,
           "#ffebeb"
          ],
          [
           0.5294117647058824,
           "#ffe8e8"
          ],
          [
           0.5333333333333333,
           "#ffe5e5"
          ],
          [
           0.5372549019607843,
           "#ffe2e2"
          ],
          [
           0.5411764705882353,
           "#ffdede"
          ],
          [
           0.5450980392156862,
           "#ffdbdb"
          ],
          [
           0.5490196078431373,
           "#ffd8d8"
          ],
          [
           0.5529411764705883,
           "#ffd5d5"
          ],
          [
           0.5568627450980392,
           "#ffd2d2"
          ],
          [
           0.5607843137254902,
           "#ffcfcf"
          ],
          [
           0.5647058823529412,
           "#ffcccc"
          ],
          [
           0.5686274509803921,
           "#ffc9c9"
          ],
          [
           0.5725490196078431,
           "#ffc6c6"
          ],
          [
           0.5764705882352941,
           "#ffc3c3"
          ],
          [
           0.5803921568627451,
           "#ffbfbf"
          ],
          [
           0.5843137254901961,
           "#ffbcbc"
          ],
          [
           0.5882352941176471,
           "#ffb9b9"
          ],
          [
           0.592156862745098,
           "#ffb6b6"
          ],
          [
           0.596078431372549,
           "#ffb3b3"
          ],
          [
           0.6,
           "#ffb0b0"
          ],
          [
           0.6039215686274509,
           "#ffacad"
          ],
          [
           0.6078431372549019,
           "#ffa7aa"
          ],
          [
           0.611764705882353,
           "#ffa3a7"
          ],
          [
           0.615686274509804,
           "#ff9fa4"
          ],
          [
           0.6196078431372549,
           "#ff9aa1"
          ],
          [
           0.6235294117647059,
           "#ff969e"
          ],
          [
           0.6274509803921569,
           "#ff929b"
          ],
          [
           0.6313725490196078,
           "#ff8e98"
          ],
          [
           0.6352941176470588,
           "#ff8995"
          ],
          [
           0.6392156862745098,
           "#ff8592"
          ],
          [
           0.6431372549019608,
           "#ff818f"
          ],
          [
           0.6470588235294118,
           "#ff7c8c"
          ],
          [
           0.6509803921568628,
           "#ff7889"
          ],
          [
           0.6549019607843137,
           "#ff7486"
          ],
          [
           0.6588235294117647,
           "#ff6f83"
          ],
          [
           0.6627450980392157,
           "#ff6b80"
          ],
          [
           0.6666666666666666,
           "#ff677d"
          ],
          [
           0.6705882352941176,
           "#ff637a"
          ],
          [
           0.6745098039215687,
           "#ff5e77"
          ],
          [
           0.6784313725490196,
           "#ff5a74"
          ],
          [
           0.6823529411764706,
           "#ff5671"
          ],
          [
           0.6862745098039216,
           "#ff516e"
          ],
          [
           0.6901960784313725,
           "#ff4d6b"
          ],
          [
           0.6941176470588235,
           "#ff4968"
          ],
          [
           0.6980392156862745,
           "#ff4465"
          ],
          [
           0.7019607843137254,
           "#ff4163"
          ],
          [
           0.7058823529411765,
           "#ff4062"
          ],
          [
           0.7098039215686275,
           "#ff3e60"
          ],
          [
           0.7137254901960784,
           "#ff3c5f"
          ],
          [
           0.7176470588235294,
           "#ff3b5e"
          ],
          [
           0.7215686274509804,
           "#ff395c"
          ],
          [
           0.7254901960784313,
           "#ff375b"
          ],
          [
           0.7294117647058823,
           "#ff365a"
          ],
          [
           0.7333333333333333,
           "#ff3458"
          ],
          [
           0.7372549019607844,
           "#ff3257"
          ],
          [
           0.7411764705882353,
           "#ff3056"
          ],
          [
           0.7450980392156863,
           "#ff2f55"
          ],
          [
           0.7490196078431373,
           "#ff2d53"
          ],
          [
           0.7529411764705882,
           "#ff2b52"
          ],
          [
           0.7568627450980392,
           "#ff2a51"
          ],
          [
           0.7607843137254902,
           "#ff284f"
          ],
          [
           0.7647058823529411,
           "#ff264e"
          ],
          [
           0.7686274509803922,
           "#ff254d"
          ],
          [
           0.7725490196078432,
           "#ff234b"
          ],
          [
           0.7764705882352941,
           "#ff214a"
          ],
          [
           0.7803921568627451,
           "#ff1f49"
          ],
          [
           0.7843137254901961,
           "#ff1e48"
          ],
          [
           0.788235294117647,
           "#ff1c46"
          ],
          [
           0.792156862745098,
           "#ff1a45"
          ],
          [
           0.796078431372549,
           "#ff1944"
          ],
          [
           0.8,
           "#ff1742"
          ],
          [
           0.803921568627451,
           "#ff1842"
          ],
          [
           0.807843137254902,
           "#ff1842"
          ],
          [
           0.8117647058823529,
           "#ff1942"
          ],
          [
           0.8156862745098039,
           "#ff1a42"
          ],
          [
           0.8196078431372549,
           "#ff1a42"
          ],
          [
           0.8235294117647058,
           "#ff1b42"
          ],
          [
           0.8274509803921568,
           "#ff1c42"
          ],
          [
           0.8313725490196079,
           "#ff1d42"
          ],
          [
           0.8352941176470589,
           "#ff1d42"
          ],
          [
           0.8392156862745098,
           "#ff1e42"
          ],
          [
           0.8431372549019608,
           "#ff1f42"
          ],
          [
           0.8470588235294118,
           "#ff1f42"
          ],
          [
           0.8509803921568627,
           "#ff2042"
          ],
          [
           0.8549019607843137,
           "#ff2142"
          ],
          [
           0.8588235294117647,
           "#ff2142"
          ],
          [
           0.8627450980392157,
           "#ff2242"
          ],
          [
           0.8666666666666667,
           "#ff2342"
          ],
          [
           0.8705882352941177,
           "#ff2442"
          ],
          [
           0.8745098039215686,
           "#ff2442"
          ],
          [
           0.8784313725490196,
           "#ff2542"
          ],
          [
           0.8823529411764706,
           "#ff2642"
          ],
          [
           0.8862745098039215,
           "#ff2642"
          ],
          [
           0.8901960784313725,
           "#ff2742"
          ],
          [
           0.8941176470588236,
           "#ff2842"
          ],
          [
           0.8980392156862745,
           "#ff2842"
          ],
          [
           0.9019607843137255,
           "#ff2942"
          ],
          [
           0.9058823529411765,
           "#ff2a42"
          ],
          [
           0.9098039215686274,
           "#ff2b42"
          ],
          [
           0.9137254901960784,
           "#ff2c42"
          ],
          [
           0.9176470588235294,
           "#ff2d42"
          ],
          [
           0.9215686274509803,
           "#ff2e42"
          ],
          [
           0.9254901960784314,
           "#ff2f42"
          ],
          [
           0.9294117647058824,
           "#ff3042"
          ],
          [
           0.9333333333333333,
           "#ff3142"
          ],
          [
           0.9372549019607843,
           "#ff3242"
          ],
          [
           0.9411764705882353,
           "#ff3342"
          ],
          [
           0.9450980392156862,
           "#ff3442"
          ],
          [
           0.9490196078431372,
           "#ff3542"
          ],
          [
           0.9529411764705882,
           "#ff3642"
          ],
          [
           0.9568627450980393,
           "#ff3742"
          ],
          [
           0.9607843137254902,
           "#ff3842"
          ],
          [
           0.9647058823529412,
           "#ff3942"
          ],
          [
           0.9686274509803922,
           "#ff3a42"
          ],
          [
           0.9725490196078431,
           "#ff3b42"
          ],
          [
           0.9764705882352941,
           "#ff3c42"
          ],
          [
           0.9803921568627451,
           "#ff3d42"
          ],
          [
           0.984313725490196,
           "#ff3e42"
          ],
          [
           0.9882352941176471,
           "#ff3f42"
          ],
          [
           0.9921568627450981,
           "#ff4042"
          ],
          [
           0.996078431372549,
           "#ff4142"
          ],
          [
           1,
           "#ff4242"
          ]
         ],
         "showscale": false,
         "type": "heatmap",
         "uid": "4707545b-9f2f-45cb-b3fe-e246defba4fd",
         "x": [
          "Column 9",
          "Column 4",
          "Column 11",
          "Column 7",
          "Column 2",
          "Column 0",
          "Column 5",
          "Column 13",
          "Column 15",
          "Column 12",
          "Column 8",
          "Column 3",
          "Column 6",
          "Column 10",
          "Column 14",
          "Column 1"
         ],
         "y": [
          "Continuous Index 2",
          "Continuous Index 1",
          "Continuous Index 0"
         ],
         "yaxis": "y5",
         "z": [
          [
           1.1321777481262767,
           1.090544364635646,
           0.6776172882519337,
           -1.845089940437511,
           -1.189449920576098,
           -0.45500155947316506,
           0.3132975336343931,
           1.387806244529295,
           -1.2841164390247635,
           -0.8965518270706204,
           -0.48337473075260345,
           1.0365438170480272,
           0.7656999648843131,
           0.892664135580446,
           -0.9048855500633353,
           -0.23788112929223718
          ],
          [
           0.6354476380780527,
           0.8885197470522594,
           -0.8571305942935024,
           -0.7508791984130959,
           -1.222868093528208,
           1.431397498483208,
           -1.0046580801102944,
           1.7409747378168665,
           0.4133229326559953,
           -0.4278699708512504,
           1.2266649551626636,
           -0.4082654463878111,
           1.0503390960134404,
           -1.2165488764581103,
           -0.43902951707917554,
           -1.0594168281410388
          ],
          [
           1.0537018495269348,
           -0.15470350944046754,
           -0.7855612019625319,
           -0.34684441135388583,
           -1.4442117871947415,
           1.592637679004302,
           0.42904058686337926,
           -1.0156210168214588,
           -0.037043312727591225,
           -1.110542151128618,
           1.266083299618601,
           -1.38885759268118,
           0.39305256954487605,
           1.3289935217180575,
           0.9985074668572294,
           -0.7786319898229074
          ]
         ],
         "zmax": 1.7409747378168665,
         "zmin": -1.845089940437511
        },
        {
         "colorscale": [
          [
           0,
           "#4242ff"
          ],
          [
           0.00392156862745098,
           "#4241ff"
          ],
          [
           0.00784313725490196,
           "#4240ff"
          ],
          [
           0.011764705882352941,
           "#423fff"
          ],
          [
           0.01568627450980392,
           "#423eff"
          ],
          [
           0.0196078431372549,
           "#423dff"
          ],
          [
           0.023529411764705882,
           "#423cff"
          ],
          [
           0.027450980392156862,
           "#423bff"
          ],
          [
           0.03137254901960784,
           "#423aff"
          ],
          [
           0.03529411764705882,
           "#4239ff"
          ],
          [
           0.0392156862745098,
           "#4238ff"
          ],
          [
           0.043137254901960784,
           "#4237ff"
          ],
          [
           0.047058823529411764,
           "#4236ff"
          ],
          [
           0.050980392156862744,
           "#4235ff"
          ],
          [
           0.054901960784313725,
           "#4234ff"
          ],
          [
           0.058823529411764705,
           "#4233ff"
          ],
          [
           0.06274509803921569,
           "#4232ff"
          ],
          [
           0.06666666666666667,
           "#4231ff"
          ],
          [
           0.07058823529411765,
           "#4230ff"
          ],
          [
           0.07450980392156863,
           "#422fff"
          ],
          [
           0.0784313725490196,
           "#422eff"
          ],
          [
           0.08235294117647059,
           "#422dff"
          ],
          [
           0.08627450980392157,
           "#422cff"
          ],
          [
           0.09019607843137255,
           "#422bff"
          ],
          [
           0.09411764705882353,
           "#422aff"
          ],
          [
           0.09803921568627451,
           "#4229ff"
          ],
          [
           0.10196078431372549,
           "#4228ff"
          ],
          [
           0.10588235294117647,
           "#4228ff"
          ],
          [
           0.10980392156862745,
           "#4227ff"
          ],
          [
           0.11372549019607843,
           "#4226ff"
          ],
          [
           0.11764705882352941,
           "#4226ff"
          ],
          [
           0.12156862745098039,
           "#4225ff"
          ],
          [
           0.12549019607843137,
           "#4224ff"
          ],
          [
           0.12941176470588237,
           "#4224ff"
          ],
          [
           0.13333333333333333,
           "#4223ff"
          ],
          [
           0.13725490196078433,
           "#4222ff"
          ],
          [
           0.1411764705882353,
           "#4221ff"
          ],
          [
           0.1450980392156863,
           "#4221ff"
          ],
          [
           0.14901960784313725,
           "#4220ff"
          ],
          [
           0.15294117647058825,
           "#421fff"
          ],
          [
           0.1568627450980392,
           "#421fff"
          ],
          [
           0.1607843137254902,
           "#421eff"
          ],
          [
           0.16470588235294117,
           "#421dff"
          ],
          [
           0.16862745098039217,
           "#421dff"
          ],
          [
           0.17254901960784313,
           "#421cff"
          ],
          [
           0.17647058823529413,
           "#421bff"
          ],
          [
           0.1803921568627451,
           "#421aff"
          ],
          [
           0.1843137254901961,
           "#421aff"
          ],
          [
           0.18823529411764706,
           "#4219ff"
          ],
          [
           0.19215686274509805,
           "#4218ff"
          ],
          [
           0.19607843137254902,
           "#4218ff"
          ],
          [
           0.2,
           "#4217ff"
          ],
          [
           0.20392156862745098,
           "#4419ff"
          ],
          [
           0.20784313725490197,
           "#451aff"
          ],
          [
           0.21176470588235294,
           "#461cff"
          ],
          [
           0.21568627450980393,
           "#481eff"
          ],
          [
           0.2196078431372549,
           "#491fff"
          ],
          [
           0.2235294117647059,
           "#4a21ff"
          ],
          [
           0.22745098039215686,
           "#4b23ff"
          ],
          [
           0.23137254901960785,
           "#4d25ff"
          ],
          [
           0.23529411764705882,
           "#4e26ff"
          ],
          [
           0.23921568627450981,
           "#4f28ff"
          ],
          [
           0.24313725490196078,
           "#512aff"
          ],
          [
           0.24705882352941178,
           "#522bff"
          ],
          [
           0.25098039215686274,
           "#532dff"
          ],
          [
           0.2549019607843137,
           "#542fff"
          ],
          [
           0.25882352941176473,
           "#5630ff"
          ],
          [
           0.2627450980392157,
           "#5732ff"
          ],
          [
           0.26666666666666666,
           "#5834ff"
          ],
          [
           0.27058823529411763,
           "#5a36ff"
          ],
          [
           0.27450980392156865,
           "#5b37ff"
          ],
          [
           0.2784313725490196,
           "#5c39ff"
          ],
          [
           0.2823529411764706,
           "#5e3bff"
          ],
          [
           0.28627450980392155,
           "#5f3cff"
          ],
          [
           0.2901960784313726,
           "#603eff"
          ],
          [
           0.29411764705882354,
           "#6240ff"
          ],
          [
           0.2980392156862745,
           "#6341ff"
          ],
          [
           0.30196078431372547,
           "#6544ff"
          ],
          [
           0.3058823529411765,
           "#6849ff"
          ],
          [
           0.30980392156862746,
           "#6b4dff"
          ],
          [
           0.3137254901960784,
           "#6e51ff"
          ],
          [
           0.3176470588235294,
           "#7156ff"
          ],
          [
           0.3215686274509804,
           "#745aff"
          ],
          [
           0.3254901960784314,
           "#775eff"
          ],
          [
           0.32941176470588235,
           "#7a63ff"
          ],
          [
           0.3333333333333333,
           "#7d67ff"
          ],
          [
           0.33725490196078434,
           "#806bff"
          ],
          [
           0.3411764705882353,
           "#836fff"
          ],
          [
           0.34509803921568627,
           "#8674ff"
          ],
          [
           0.34901960784313724,
           "#8978ff"
          ],
          [
           0.35294117647058826,
           "#8c7cff"
          ],
          [
           0.3568627450980392,
           "#8f81ff"
          ],
          [
           0.3607843137254902,
           "#9285ff"
          ],
          [
           0.36470588235294116,
           "#9589ff"
          ],
          [
           0.3686274509803922,
           "#988eff"
          ],
          [
           0.37254901960784315,
           "#9b92ff"
          ],
          [
           0.3764705882352941,
           "#9e96ff"
          ],
          [
           0.3803921568627451,
           "#a19aff"
          ],
          [
           0.3843137254901961,
           "#a49fff"
          ],
          [
           0.38823529411764707,
           "#a7a3ff"
          ],
          [
           0.39215686274509803,
           "#aaa7ff"
          ],
          [
           0.396078431372549,
           "#adacff"
          ],
          [
           0.4,
           "#b0b0ff"
          ],
          [
           0.403921568627451,
           "#b3b3ff"
          ],
          [
           0.40784313725490196,
           "#b6b6ff"
          ],
          [
           0.4117647058823529,
           "#b9b9ff"
          ],
          [
           0.41568627450980394,
           "#bcbcff"
          ],
          [
           0.4196078431372549,
           "#bfbfff"
          ],
          [
           0.4235294117647059,
           "#c3c3ff"
          ],
          [
           0.42745098039215684,
           "#c6c6ff"
          ],
          [
           0.43137254901960786,
           "#c9c9ff"
          ],
          [
           0.43529411764705883,
           "#ccccff"
          ],
          [
           0.4392156862745098,
           "#cfcfff"
          ],
          [
           0.44313725490196076,
           "#d2d2ff"
          ],
          [
           0.4470588235294118,
           "#d5d5ff"
          ],
          [
           0.45098039215686275,
           "#d8d8ff"
          ],
          [
           0.4549019607843137,
           "#dbdbff"
          ],
          [
           0.4588235294117647,
           "#dedeff"
          ],
          [
           0.4627450980392157,
           "#e2e2ff"
          ],
          [
           0.4666666666666667,
           "#e5e5ff"
          ],
          [
           0.47058823529411764,
           "#e8e8ff"
          ],
          [
           0.4745098039215686,
           "#ebebff"
          ],
          [
           0.47843137254901963,
           "#eeeeff"
          ],
          [
           0.4823529411764706,
           "#f1f1ff"
          ],
          [
           0.48627450980392156,
           "#f4f4ff"
          ],
          [
           0.49019607843137253,
           "#f7f7ff"
          ],
          [
           0.49411764705882355,
           "#fafaff"
          ],
          [
           0.4980392156862745,
           "#fdfdff"
          ],
          [
           0.5019607843137255,
           "#fffdfd"
          ],
          [
           0.5058823529411764,
           "#fffafa"
          ],
          [
           0.5098039215686274,
           "#fff7f7"
          ],
          [
           0.5137254901960784,
           "#fff4f4"
          ],
          [
           0.5176470588235295,
           "#fff1f1"
          ],
          [
           0.5215686274509804,
           "#ffeeee"
          ],
          [
           0.5254901960784314,
           "#ffebeb"
          ],
          [
           0.5294117647058824,
           "#ffe8e8"
          ],
          [
           0.5333333333333333,
           "#ffe5e5"
          ],
          [
           0.5372549019607843,
           "#ffe2e2"
          ],
          [
           0.5411764705882353,
           "#ffdede"
          ],
          [
           0.5450980392156862,
           "#ffdbdb"
          ],
          [
           0.5490196078431373,
           "#ffd8d8"
          ],
          [
           0.5529411764705883,
           "#ffd5d5"
          ],
          [
           0.5568627450980392,
           "#ffd2d2"
          ],
          [
           0.5607843137254902,
           "#ffcfcf"
          ],
          [
           0.5647058823529412,
           "#ffcccc"
          ],
          [
           0.5686274509803921,
           "#ffc9c9"
          ],
          [
           0.5725490196078431,
           "#ffc6c6"
          ],
          [
           0.5764705882352941,
           "#ffc3c3"
          ],
          [
           0.5803921568627451,
           "#ffbfbf"
          ],
          [
           0.5843137254901961,
           "#ffbcbc"
          ],
          [
           0.5882352941176471,
           "#ffb9b9"
          ],
          [
           0.592156862745098,
           "#ffb6b6"
          ],
          [
           0.596078431372549,
           "#ffb3b3"
          ],
          [
           0.6,
           "#ffb0b0"
          ],
          [
           0.6039215686274509,
           "#ffacad"
          ],
          [
           0.6078431372549019,
           "#ffa7aa"
          ],
          [
           0.611764705882353,
           "#ffa3a7"
          ],
          [
           0.615686274509804,
           "#ff9fa4"
          ],
          [
           0.6196078431372549,
           "#ff9aa1"
          ],
          [
           0.6235294117647059,
           "#ff969e"
          ],
          [
           0.6274509803921569,
           "#ff929b"
          ],
          [
           0.6313725490196078,
           "#ff8e98"
          ],
          [
           0.6352941176470588,
           "#ff8995"
          ],
          [
           0.6392156862745098,
           "#ff8592"
          ],
          [
           0.6431372549019608,
           "#ff818f"
          ],
          [
           0.6470588235294118,
           "#ff7c8c"
          ],
          [
           0.6509803921568628,
           "#ff7889"
          ],
          [
           0.6549019607843137,
           "#ff7486"
          ],
          [
           0.6588235294117647,
           "#ff6f83"
          ],
          [
           0.6627450980392157,
           "#ff6b80"
          ],
          [
           0.6666666666666666,
           "#ff677d"
          ],
          [
           0.6705882352941176,
           "#ff637a"
          ],
          [
           0.6745098039215687,
           "#ff5e77"
          ],
          [
           0.6784313725490196,
           "#ff5a74"
          ],
          [
           0.6823529411764706,
           "#ff5671"
          ],
          [
           0.6862745098039216,
           "#ff516e"
          ],
          [
           0.6901960784313725,
           "#ff4d6b"
          ],
          [
           0.6941176470588235,
           "#ff4968"
          ],
          [
           0.6980392156862745,
           "#ff4465"
          ],
          [
           0.7019607843137254,
           "#ff4163"
          ],
          [
           0.7058823529411765,
           "#ff4062"
          ],
          [
           0.7098039215686275,
           "#ff3e60"
          ],
          [
           0.7137254901960784,
           "#ff3c5f"
          ],
          [
           0.7176470588235294,
           "#ff3b5e"
          ],
          [
           0.7215686274509804,
           "#ff395c"
          ],
          [
           0.7254901960784313,
           "#ff375b"
          ],
          [
           0.7294117647058823,
           "#ff365a"
          ],
          [
           0.7333333333333333,
           "#ff3458"
          ],
          [
           0.7372549019607844,
           "#ff3257"
          ],
          [
           0.7411764705882353,
           "#ff3056"
          ],
          [
           0.7450980392156863,
           "#ff2f55"
          ],
          [
           0.7490196078431373,
           "#ff2d53"
          ],
          [
           0.7529411764705882,
           "#ff2b52"
          ],
          [
           0.7568627450980392,
           "#ff2a51"
          ],
          [
           0.7607843137254902,
           "#ff284f"
          ],
          [
           0.7647058823529411,
           "#ff264e"
          ],
          [
           0.7686274509803922,
           "#ff254d"
          ],
          [
           0.7725490196078432,
           "#ff234b"
          ],
          [
           0.7764705882352941,
           "#ff214a"
          ],
          [
           0.7803921568627451,
           "#ff1f49"
          ],
          [
           0.7843137254901961,
           "#ff1e48"
          ],
          [
           0.788235294117647,
           "#ff1c46"
          ],
          [
           0.792156862745098,
           "#ff1a45"
          ],
          [
           0.796078431372549,
           "#ff1944"
          ],
          [
           0.8,
           "#ff1742"
          ],
          [
           0.803921568627451,
           "#ff1842"
          ],
          [
           0.807843137254902,
           "#ff1842"
          ],
          [
           0.8117647058823529,
           "#ff1942"
          ],
          [
           0.8156862745098039,
           "#ff1a42"
          ],
          [
           0.8196078431372549,
           "#ff1a42"
          ],
          [
           0.8235294117647058,
           "#ff1b42"
          ],
          [
           0.8274509803921568,
           "#ff1c42"
          ],
          [
           0.8313725490196079,
           "#ff1d42"
          ],
          [
           0.8352941176470589,
           "#ff1d42"
          ],
          [
           0.8392156862745098,
           "#ff1e42"
          ],
          [
           0.8431372549019608,
           "#ff1f42"
          ],
          [
           0.8470588235294118,
           "#ff1f42"
          ],
          [
           0.8509803921568627,
           "#ff2042"
          ],
          [
           0.8549019607843137,
           "#ff2142"
          ],
          [
           0.8588235294117647,
           "#ff2142"
          ],
          [
           0.8627450980392157,
           "#ff2242"
          ],
          [
           0.8666666666666667,
           "#ff2342"
          ],
          [
           0.8705882352941177,
           "#ff2442"
          ],
          [
           0.8745098039215686,
           "#ff2442"
          ],
          [
           0.8784313725490196,
           "#ff2542"
          ],
          [
           0.8823529411764706,
           "#ff2642"
          ],
          [
           0.8862745098039215,
           "#ff2642"
          ],
          [
           0.8901960784313725,
           "#ff2742"
          ],
          [
           0.8941176470588236,
           "#ff2842"
          ],
          [
           0.8980392156862745,
           "#ff2842"
          ],
          [
           0.9019607843137255,
           "#ff2942"
          ],
          [
           0.9058823529411765,
           "#ff2a42"
          ],
          [
           0.9098039215686274,
           "#ff2b42"
          ],
          [
           0.9137254901960784,
           "#ff2c42"
          ],
          [
           0.9176470588235294,
           "#ff2d42"
          ],
          [
           0.9215686274509803,
           "#ff2e42"
          ],
          [
           0.9254901960784314,
           "#ff2f42"
          ],
          [
           0.9294117647058824,
           "#ff3042"
          ],
          [
           0.9333333333333333,
           "#ff3142"
          ],
          [
           0.9372549019607843,
           "#ff3242"
          ],
          [
           0.9411764705882353,
           "#ff3342"
          ],
          [
           0.9450980392156862,
           "#ff3442"
          ],
          [
           0.9490196078431372,
           "#ff3542"
          ],
          [
           0.9529411764705882,
           "#ff3642"
          ],
          [
           0.9568627450980393,
           "#ff3742"
          ],
          [
           0.9607843137254902,
           "#ff3842"
          ],
          [
           0.9647058823529412,
           "#ff3942"
          ],
          [
           0.9686274509803922,
           "#ff3a42"
          ],
          [
           0.9725490196078431,
           "#ff3b42"
          ],
          [
           0.9764705882352941,
           "#ff3c42"
          ],
          [
           0.9803921568627451,
           "#ff3d42"
          ],
          [
           0.984313725490196,
           "#ff3e42"
          ],
          [
           0.9882352941176471,
           "#ff3f42"
          ],
          [
           0.9921568627450981,
           "#ff4042"
          ],
          [
           0.996078431372549,
           "#ff4142"
          ],
          [
           1,
           "#ff4242"
          ]
         ],
         "showscale": false,
         "type": "heatmap",
         "uid": "a39edaaa-b0da-4657-b23d-8b983cf86309",
         "x": [
          "Column 9",
          "Column 4",
          "Column 11",
          "Column 7",
          "Column 2",
          "Column 0",
          "Column 5",
          "Column 13",
          "Column 15",
          "Column 12",
          "Column 8",
          "Column 3",
          "Column 6",
          "Column 10",
          "Column 14",
          "Column 1"
         ],
         "y": [
          "Continuous Index 2",
          "Continuous Index 1",
          "Continuous Index 0"
         ],
         "yaxis": "y4",
         "z": [
          [
           1.1321777481262767,
           1.090544364635646,
           0.6776172882519337,
           -1.845089940437511,
           -1.189449920576098,
           -0.45500155947316506,
           0.3132975336343931,
           1.387806244529295,
           -1.2841164390247635,
           -0.8965518270706204,
           -0.48337473075260345,
           1.0365438170480272,
           0.7656999648843131,
           0.892664135580446,
           -0.9048855500633353,
           -0.23788112929223718
          ],
          [
           0.6354476380780527,
           0.8885197470522594,
           -0.8571305942935024,
           -0.7508791984130959,
           -1.222868093528208,
           1.431397498483208,
           -1.0046580801102944,
           1.7409747378168665,
           0.4133229326559953,
           -0.4278699708512504,
           1.2266649551626636,
           -0.4082654463878111,
           1.0503390960134404,
           -1.2165488764581103,
           -0.43902951707917554,
           -1.0594168281410388
          ],
          [
           1.0537018495269348,
           -0.15470350944046754,
           -0.7855612019625319,
           -0.34684441135388583,
           -1.4442117871947415,
           1.592637679004302,
           0.42904058686337926,
           -1.0156210168214588,
           -0.037043312727591225,
           -1.110542151128618,
           1.266083299618601,
           -1.38885759268118,
           0.39305256954487605,
           1.3289935217180575,
           0.9985074668572294,
           -0.7786319898229074
          ]
         ],
         "zmax": 1.7409747378168665,
         "zmin": -1.845089940437511
        },
        {
         "colorscale": [
          [
           0,
           "#4242ff"
          ],
          [
           0.00392156862745098,
           "#4241ff"
          ],
          [
           0.00784313725490196,
           "#4240ff"
          ],
          [
           0.011764705882352941,
           "#423fff"
          ],
          [
           0.01568627450980392,
           "#423eff"
          ],
          [
           0.0196078431372549,
           "#423dff"
          ],
          [
           0.023529411764705882,
           "#423cff"
          ],
          [
           0.027450980392156862,
           "#423bff"
          ],
          [
           0.03137254901960784,
           "#423aff"
          ],
          [
           0.03529411764705882,
           "#4239ff"
          ],
          [
           0.0392156862745098,
           "#4238ff"
          ],
          [
           0.043137254901960784,
           "#4237ff"
          ],
          [
           0.047058823529411764,
           "#4236ff"
          ],
          [
           0.050980392156862744,
           "#4235ff"
          ],
          [
           0.054901960784313725,
           "#4234ff"
          ],
          [
           0.058823529411764705,
           "#4233ff"
          ],
          [
           0.06274509803921569,
           "#4232ff"
          ],
          [
           0.06666666666666667,
           "#4231ff"
          ],
          [
           0.07058823529411765,
           "#4230ff"
          ],
          [
           0.07450980392156863,
           "#422fff"
          ],
          [
           0.0784313725490196,
           "#422eff"
          ],
          [
           0.08235294117647059,
           "#422dff"
          ],
          [
           0.08627450980392157,
           "#422cff"
          ],
          [
           0.09019607843137255,
           "#422bff"
          ],
          [
           0.09411764705882353,
           "#422aff"
          ],
          [
           0.09803921568627451,
           "#4229ff"
          ],
          [
           0.10196078431372549,
           "#4228ff"
          ],
          [
           0.10588235294117647,
           "#4228ff"
          ],
          [
           0.10980392156862745,
           "#4227ff"
          ],
          [
           0.11372549019607843,
           "#4226ff"
          ],
          [
           0.11764705882352941,
           "#4226ff"
          ],
          [
           0.12156862745098039,
           "#4225ff"
          ],
          [
           0.12549019607843137,
           "#4224ff"
          ],
          [
           0.12941176470588237,
           "#4224ff"
          ],
          [
           0.13333333333333333,
           "#4223ff"
          ],
          [
           0.13725490196078433,
           "#4222ff"
          ],
          [
           0.1411764705882353,
           "#4221ff"
          ],
          [
           0.1450980392156863,
           "#4221ff"
          ],
          [
           0.14901960784313725,
           "#4220ff"
          ],
          [
           0.15294117647058825,
           "#421fff"
          ],
          [
           0.1568627450980392,
           "#421fff"
          ],
          [
           0.1607843137254902,
           "#421eff"
          ],
          [
           0.16470588235294117,
           "#421dff"
          ],
          [
           0.16862745098039217,
           "#421dff"
          ],
          [
           0.17254901960784313,
           "#421cff"
          ],
          [
           0.17647058823529413,
           "#421bff"
          ],
          [
           0.1803921568627451,
           "#421aff"
          ],
          [
           0.1843137254901961,
           "#421aff"
          ],
          [
           0.18823529411764706,
           "#4219ff"
          ],
          [
           0.19215686274509805,
           "#4218ff"
          ],
          [
           0.19607843137254902,
           "#4218ff"
          ],
          [
           0.2,
           "#4217ff"
          ],
          [
           0.20392156862745098,
           "#4419ff"
          ],
          [
           0.20784313725490197,
           "#451aff"
          ],
          [
           0.21176470588235294,
           "#461cff"
          ],
          [
           0.21568627450980393,
           "#481eff"
          ],
          [
           0.2196078431372549,
           "#491fff"
          ],
          [
           0.2235294117647059,
           "#4a21ff"
          ],
          [
           0.22745098039215686,
           "#4b23ff"
          ],
          [
           0.23137254901960785,
           "#4d25ff"
          ],
          [
           0.23529411764705882,
           "#4e26ff"
          ],
          [
           0.23921568627450981,
           "#4f28ff"
          ],
          [
           0.24313725490196078,
           "#512aff"
          ],
          [
           0.24705882352941178,
           "#522bff"
          ],
          [
           0.25098039215686274,
           "#532dff"
          ],
          [
           0.2549019607843137,
           "#542fff"
          ],
          [
           0.25882352941176473,
           "#5630ff"
          ],
          [
           0.2627450980392157,
           "#5732ff"
          ],
          [
           0.26666666666666666,
           "#5834ff"
          ],
          [
           0.27058823529411763,
           "#5a36ff"
          ],
          [
           0.27450980392156865,
           "#5b37ff"
          ],
          [
           0.2784313725490196,
           "#5c39ff"
          ],
          [
           0.2823529411764706,
           "#5e3bff"
          ],
          [
           0.28627450980392155,
           "#5f3cff"
          ],
          [
           0.2901960784313726,
           "#603eff"
          ],
          [
           0.29411764705882354,
           "#6240ff"
          ],
          [
           0.2980392156862745,
           "#6341ff"
          ],
          [
           0.30196078431372547,
           "#6544ff"
          ],
          [
           0.3058823529411765,
           "#6849ff"
          ],
          [
           0.30980392156862746,
           "#6b4dff"
          ],
          [
           0.3137254901960784,
           "#6e51ff"
          ],
          [
           0.3176470588235294,
           "#7156ff"
          ],
          [
           0.3215686274509804,
           "#745aff"
          ],
          [
           0.3254901960784314,
           "#775eff"
          ],
          [
           0.32941176470588235,
           "#7a63ff"
          ],
          [
           0.3333333333333333,
           "#7d67ff"
          ],
          [
           0.33725490196078434,
           "#806bff"
          ],
          [
           0.3411764705882353,
           "#836fff"
          ],
          [
           0.34509803921568627,
           "#8674ff"
          ],
          [
           0.34901960784313724,
           "#8978ff"
          ],
          [
           0.35294117647058826,
           "#8c7cff"
          ],
          [
           0.3568627450980392,
           "#8f81ff"
          ],
          [
           0.3607843137254902,
           "#9285ff"
          ],
          [
           0.36470588235294116,
           "#9589ff"
          ],
          [
           0.3686274509803922,
           "#988eff"
          ],
          [
           0.37254901960784315,
           "#9b92ff"
          ],
          [
           0.3764705882352941,
           "#9e96ff"
          ],
          [
           0.3803921568627451,
           "#a19aff"
          ],
          [
           0.3843137254901961,
           "#a49fff"
          ],
          [
           0.38823529411764707,
           "#a7a3ff"
          ],
          [
           0.39215686274509803,
           "#aaa7ff"
          ],
          [
           0.396078431372549,
           "#adacff"
          ],
          [
           0.4,
           "#b0b0ff"
          ],
          [
           0.403921568627451,
           "#b3b3ff"
          ],
          [
           0.40784313725490196,
           "#b6b6ff"
          ],
          [
           0.4117647058823529,
           "#b9b9ff"
          ],
          [
           0.41568627450980394,
           "#bcbcff"
          ],
          [
           0.4196078431372549,
           "#bfbfff"
          ],
          [
           0.4235294117647059,
           "#c3c3ff"
          ],
          [
           0.42745098039215684,
           "#c6c6ff"
          ],
          [
           0.43137254901960786,
           "#c9c9ff"
          ],
          [
           0.43529411764705883,
           "#ccccff"
          ],
          [
           0.4392156862745098,
           "#cfcfff"
          ],
          [
           0.44313725490196076,
           "#d2d2ff"
          ],
          [
           0.4470588235294118,
           "#d5d5ff"
          ],
          [
           0.45098039215686275,
           "#d8d8ff"
          ],
          [
           0.4549019607843137,
           "#dbdbff"
          ],
          [
           0.4588235294117647,
           "#dedeff"
          ],
          [
           0.4627450980392157,
           "#e2e2ff"
          ],
          [
           0.4666666666666667,
           "#e5e5ff"
          ],
          [
           0.47058823529411764,
           "#e8e8ff"
          ],
          [
           0.4745098039215686,
           "#ebebff"
          ],
          [
           0.47843137254901963,
           "#eeeeff"
          ],
          [
           0.4823529411764706,
           "#f1f1ff"
          ],
          [
           0.48627450980392156,
           "#f4f4ff"
          ],
          [
           0.49019607843137253,
           "#f7f7ff"
          ],
          [
           0.49411764705882355,
           "#fafaff"
          ],
          [
           0.4980392156862745,
           "#fdfdff"
          ],
          [
           0.5019607843137255,
           "#fffdfd"
          ],
          [
           0.5058823529411764,
           "#fffafa"
          ],
          [
           0.5098039215686274,
           "#fff7f7"
          ],
          [
           0.5137254901960784,
           "#fff4f4"
          ],
          [
           0.5176470588235295,
           "#fff1f1"
          ],
          [
           0.5215686274509804,
           "#ffeeee"
          ],
          [
           0.5254901960784314,
           "#ffebeb"
          ],
          [
           0.5294117647058824,
           "#ffe8e8"
          ],
          [
           0.5333333333333333,
           "#ffe5e5"
          ],
          [
           0.5372549019607843,
           "#ffe2e2"
          ],
          [
           0.5411764705882353,
           "#ffdede"
          ],
          [
           0.5450980392156862,
           "#ffdbdb"
          ],
          [
           0.5490196078431373,
           "#ffd8d8"
          ],
          [
           0.5529411764705883,
           "#ffd5d5"
          ],
          [
           0.5568627450980392,
           "#ffd2d2"
          ],
          [
           0.5607843137254902,
           "#ffcfcf"
          ],
          [
           0.5647058823529412,
           "#ffcccc"
          ],
          [
           0.5686274509803921,
           "#ffc9c9"
          ],
          [
           0.5725490196078431,
           "#ffc6c6"
          ],
          [
           0.5764705882352941,
           "#ffc3c3"
          ],
          [
           0.5803921568627451,
           "#ffbfbf"
          ],
          [
           0.5843137254901961,
           "#ffbcbc"
          ],
          [
           0.5882352941176471,
           "#ffb9b9"
          ],
          [
           0.592156862745098,
           "#ffb6b6"
          ],
          [
           0.596078431372549,
           "#ffb3b3"
          ],
          [
           0.6,
           "#ffb0b0"
          ],
          [
           0.6039215686274509,
           "#ffacad"
          ],
          [
           0.6078431372549019,
           "#ffa7aa"
          ],
          [
           0.611764705882353,
           "#ffa3a7"
          ],
          [
           0.615686274509804,
           "#ff9fa4"
          ],
          [
           0.6196078431372549,
           "#ff9aa1"
          ],
          [
           0.6235294117647059,
           "#ff969e"
          ],
          [
           0.6274509803921569,
           "#ff929b"
          ],
          [
           0.6313725490196078,
           "#ff8e98"
          ],
          [
           0.6352941176470588,
           "#ff8995"
          ],
          [
           0.6392156862745098,
           "#ff8592"
          ],
          [
           0.6431372549019608,
           "#ff818f"
          ],
          [
           0.6470588235294118,
           "#ff7c8c"
          ],
          [
           0.6509803921568628,
           "#ff7889"
          ],
          [
           0.6549019607843137,
           "#ff7486"
          ],
          [
           0.6588235294117647,
           "#ff6f83"
          ],
          [
           0.6627450980392157,
           "#ff6b80"
          ],
          [
           0.6666666666666666,
           "#ff677d"
          ],
          [
           0.6705882352941176,
           "#ff637a"
          ],
          [
           0.6745098039215687,
           "#ff5e77"
          ],
          [
           0.6784313725490196,
           "#ff5a74"
          ],
          [
           0.6823529411764706,
           "#ff5671"
          ],
          [
           0.6862745098039216,
           "#ff516e"
          ],
          [
           0.6901960784313725,
           "#ff4d6b"
          ],
          [
           0.6941176470588235,
           "#ff4968"
          ],
          [
           0.6980392156862745,
           "#ff4465"
          ],
          [
           0.7019607843137254,
           "#ff4163"
          ],
          [
           0.7058823529411765,
           "#ff4062"
          ],
          [
           0.7098039215686275,
           "#ff3e60"
          ],
          [
           0.7137254901960784,
           "#ff3c5f"
          ],
          [
           0.7176470588235294,
           "#ff3b5e"
          ],
          [
           0.7215686274509804,
           "#ff395c"
          ],
          [
           0.7254901960784313,
           "#ff375b"
          ],
          [
           0.7294117647058823,
           "#ff365a"
          ],
          [
           0.7333333333333333,
           "#ff3458"
          ],
          [
           0.7372549019607844,
           "#ff3257"
          ],
          [
           0.7411764705882353,
           "#ff3056"
          ],
          [
           0.7450980392156863,
           "#ff2f55"
          ],
          [
           0.7490196078431373,
           "#ff2d53"
          ],
          [
           0.7529411764705882,
           "#ff2b52"
          ],
          [
           0.7568627450980392,
           "#ff2a51"
          ],
          [
           0.7607843137254902,
           "#ff284f"
          ],
          [
           0.7647058823529411,
           "#ff264e"
          ],
          [
           0.7686274509803922,
           "#ff254d"
          ],
          [
           0.7725490196078432,
           "#ff234b"
          ],
          [
           0.7764705882352941,
           "#ff214a"
          ],
          [
           0.7803921568627451,
           "#ff1f49"
          ],
          [
           0.7843137254901961,
           "#ff1e48"
          ],
          [
           0.788235294117647,
           "#ff1c46"
          ],
          [
           0.792156862745098,
           "#ff1a45"
          ],
          [
           0.796078431372549,
           "#ff1944"
          ],
          [
           0.8,
           "#ff1742"
          ],
          [
           0.803921568627451,
           "#ff1842"
          ],
          [
           0.807843137254902,
           "#ff1842"
          ],
          [
           0.8117647058823529,
           "#ff1942"
          ],
          [
           0.8156862745098039,
           "#ff1a42"
          ],
          [
           0.8196078431372549,
           "#ff1a42"
          ],
          [
           0.8235294117647058,
           "#ff1b42"
          ],
          [
           0.8274509803921568,
           "#ff1c42"
          ],
          [
           0.8313725490196079,
           "#ff1d42"
          ],
          [
           0.8352941176470589,
           "#ff1d42"
          ],
          [
           0.8392156862745098,
           "#ff1e42"
          ],
          [
           0.8431372549019608,
           "#ff1f42"
          ],
          [
           0.8470588235294118,
           "#ff1f42"
          ],
          [
           0.8509803921568627,
           "#ff2042"
          ],
          [
           0.8549019607843137,
           "#ff2142"
          ],
          [
           0.8588235294117647,
           "#ff2142"
          ],
          [
           0.8627450980392157,
           "#ff2242"
          ],
          [
           0.8666666666666667,
           "#ff2342"
          ],
          [
           0.8705882352941177,
           "#ff2442"
          ],
          [
           0.8745098039215686,
           "#ff2442"
          ],
          [
           0.8784313725490196,
           "#ff2542"
          ],
          [
           0.8823529411764706,
           "#ff2642"
          ],
          [
           0.8862745098039215,
           "#ff2642"
          ],
          [
           0.8901960784313725,
           "#ff2742"
          ],
          [
           0.8941176470588236,
           "#ff2842"
          ],
          [
           0.8980392156862745,
           "#ff2842"
          ],
          [
           0.9019607843137255,
           "#ff2942"
          ],
          [
           0.9058823529411765,
           "#ff2a42"
          ],
          [
           0.9098039215686274,
           "#ff2b42"
          ],
          [
           0.9137254901960784,
           "#ff2c42"
          ],
          [
           0.9176470588235294,
           "#ff2d42"
          ],
          [
           0.9215686274509803,
           "#ff2e42"
          ],
          [
           0.9254901960784314,
           "#ff2f42"
          ],
          [
           0.9294117647058824,
           "#ff3042"
          ],
          [
           0.9333333333333333,
           "#ff3142"
          ],
          [
           0.9372549019607843,
           "#ff3242"
          ],
          [
           0.9411764705882353,
           "#ff3342"
          ],
          [
           0.9450980392156862,
           "#ff3442"
          ],
          [
           0.9490196078431372,
           "#ff3542"
          ],
          [
           0.9529411764705882,
           "#ff3642"
          ],
          [
           0.9568627450980393,
           "#ff3742"
          ],
          [
           0.9607843137254902,
           "#ff3842"
          ],
          [
           0.9647058823529412,
           "#ff3942"
          ],
          [
           0.9686274509803922,
           "#ff3a42"
          ],
          [
           0.9725490196078431,
           "#ff3b42"
          ],
          [
           0.9764705882352941,
           "#ff3c42"
          ],
          [
           0.9803921568627451,
           "#ff3d42"
          ],
          [
           0.984313725490196,
           "#ff3e42"
          ],
          [
           0.9882352941176471,
           "#ff3f42"
          ],
          [
           0.9921568627450981,
           "#ff4042"
          ],
          [
           0.996078431372549,
           "#ff4142"
          ],
          [
           1,
           "#ff4242"
          ]
         ],
         "showscale": false,
         "type": "heatmap",
         "uid": "e59f0ea3-7b27-4fde-8c13-c419df6524d6",
         "x": [
          "Column 9",
          "Column 4",
          "Column 11",
          "Column 7",
          "Column 2",
          "Column 0",
          "Column 5",
          "Column 13",
          "Column 15",
          "Column 12",
          "Column 8",
          "Column 3",
          "Column 6",
          "Column 10",
          "Column 14",
          "Column 1"
         ],
         "y": [
          "Continuous Index 2",
          "Continuous Index 1",
          "Continuous Index 0"
         ],
         "yaxis": "y3",
         "z": [
          [
           1.1321777481262767,
           1.090544364635646,
           0.6776172882519337,
           -1.845089940437511,
           -1.189449920576098,
           -0.45500155947316506,
           0.3132975336343931,
           1.387806244529295,
           -1.2841164390247635,
           -0.8965518270706204,
           -0.48337473075260345,
           1.0365438170480272,
           0.7656999648843131,
           0.892664135580446,
           -0.9048855500633353,
           -0.23788112929223718
          ],
          [
           0.6354476380780527,
           0.8885197470522594,
           -0.8571305942935024,
           -0.7508791984130959,
           -1.222868093528208,
           1.431397498483208,
           -1.0046580801102944,
           1.7409747378168665,
           0.4133229326559953,
           -0.4278699708512504,
           1.2266649551626636,
           -0.4082654463878111,
           1.0503390960134404,
           -1.2165488764581103,
           -0.43902951707917554,
           -1.0594168281410388
          ],
          [
           1.0537018495269348,
           -0.15470350944046754,
           -0.7855612019625319,
           -0.34684441135388583,
           -1.4442117871947415,
           1.592637679004302,
           0.42904058686337926,
           -1.0156210168214588,
           -0.037043312727591225,
           -1.110542151128618,
           1.266083299618601,
           -1.38885759268118,
           0.39305256954487605,
           1.3289935217180575,
           0.9985074668572294,
           -0.7786319898229074
          ]
         ],
         "zmax": 1.7409747378168665,
         "zmin": -1.845089940437511
        },
        {
         "colorscale": [
          [
           0,
           "#20d9ba"
          ],
          [
           0.125,
           "#9017e6"
          ],
          [
           0.25,
           "#ff1968"
          ],
          [
           0.375,
           "#ffe119"
          ],
          [
           0.5,
           "#3cb44b"
          ],
          [
           0.625,
           "#4e41d8"
          ],
          [
           0.75,
           "#ffa400"
          ],
          [
           0.875,
           "#aaffc3"
          ],
          [
           1,
           "#800000"
          ]
         ],
         "showscale": false,
         "type": "heatmap",
         "uid": "46818aeb-0def-4d43-a1a7-70dbd59fe759",
         "x": [
          "Column 9",
          "Column 4",
          "Column 11",
          "Column 7",
          "Column 2",
          "Column 0",
          "Column 5",
          "Column 13",
          "Column 15",
          "Column 12",
          "Column 8",
          "Column 3",
          "Column 6",
          "Column 10",
          "Column 14",
          "Column 1"
         ],
         "y": [
          "Categorical Index 2",
          "Categorical Index 1",
          "Categorical Index 0"
         ],
         "yaxis": "y2",
         "z": [
          [
           5,
           7,
           8,
           2,
           0,
           5,
           6,
           3,
           6,
           1,
           2,
           8,
           7,
           6,
           1,
           8
          ],
          [
           0,
           1,
           6,
           7,
           7,
           6,
           6,
           3,
           5,
           7,
           4,
           7,
           5,
           1,
           7,
           7
          ],
          [
           1,
           7,
           0,
           7,
           4,
           5,
           5,
           4,
           7,
           6,
           5,
           6,
           8,
           6,
           1,
           7
          ]
         ]
        },
        {
         "colorscale": [
          [
           0,
           "#ebf6f7"
          ],
          [
           1,
           "#171412"
          ]
         ],
         "showscale": false,
         "type": "heatmap",
         "uid": "8a065748-cbfe-42e5-9264-ab89598557c7",
         "x": [
          "Column 9",
          "Column 4",
          "Column 11",
          "Column 7",
          "Column 2",
          "Column 0",
          "Column 5",
          "Column 13",
          "Column 15",
          "Column 12",
          "Column 8",
          "Column 3",
          "Column 6",
          "Column 10",
          "Column 14",
          "Column 1"
         ],
         "y": [
          "Binary Index 2",
          "Binary Index 1",
          "Binary Index 0"
         ],
         "yaxis": "y",
         "z": [
          [
           0,
           1,
           0,
           0,
           1,
           1,
           0,
           1,
           0,
           1,
           0,
           1,
           0,
           0,
           0,
           0
          ],
          [
           0,
           1,
           0,
           1,
           1,
           1,
           1,
           0,
           0,
           0,
           0,
           0,
           0,
           1,
           0,
           1
          ],
          [
           0,
           0,
           0,
           0,
           1,
           0,
           0,
           0,
           1,
           0,
           1,
           0,
           1,
           1,
           0,
           1
          ]
         ]
        }
       ],
       "layout": {
        "annotations": [
         {
          "font": {
           "size": 9.6
          },
          "showarrow": false,
          "text": "<b>Continuous features</b>",
          "x": 0.5,
          "xanchor": "center",
          "xref": "paper",
          "y": 0.9285714285714285,
          "yanchor": "middle",
          "yref": "paper"
         },
         {
          "font": {
           "size": 9.6
          },
          "showarrow": false,
          "text": "<b>Cotinuous features (missing last 10 & scores ascending)</b>",
          "x": 0.5,
          "xanchor": "center",
          "xref": "paper",
          "y": 0.738095238095238,
          "yanchor": "middle",
          "yref": "paper"
         },
         {
          "font": {
           "size": 9.6
          },
          "showarrow": false,
          "text": "<b>Cotinuous features (missing first 10 & scores ascending)</b>",
          "x": 0.5,
          "xanchor": "center",
          "xref": "paper",
          "y": 0.5476190476190476,
          "yanchor": "middle",
          "yref": "paper"
         },
         {
          "font": {
           "size": 9.6
          },
          "showarrow": false,
          "text": "<b>Categorical features</b>",
          "x": 0.5,
          "xanchor": "center",
          "xref": "paper",
          "y": 0.3571428571428571,
          "yanchor": "middle",
          "yref": "paper"
         },
         {
          "font": {
           "size": 9.6
          },
          "showarrow": false,
          "text": "<b>Binary features</b>",
          "x": 0.5,
          "xanchor": "center",
          "xref": "paper",
          "y": 0.1666666666666666,
          "yanchor": "middle",
          "yref": "paper"
         }
        ],
        "height": 672,
        "margin": {
         "l": 196,
         "r": 196
        },
        "title": "Summary Match Panel",
        "width": 880,
        "xaxis": {
         "anchor": "y"
        },
        "yaxis": {
         "domain": [
          0,
          0.1428571428571428
         ],
         "dtick": 1,
         "tickfont": {
          "size": 9.6
         }
        },
        "yaxis2": {
         "domain": [
          0.1904761904761904,
          0.33333333333333326
         ],
         "dtick": 1,
         "tickfont": {
          "size": 9.6
         }
        },
        "yaxis3": {
         "domain": [
          0.3809523809523809,
          0.5238095238095237
         ],
         "dtick": 1,
         "tickfont": {
          "size": 9.6
         }
        },
        "yaxis4": {
         "domain": [
          0.5714285714285714,
          0.7142857142857142
         ],
         "dtick": 1,
         "tickfont": {
          "size": 9.6
         }
        },
        "yaxis5": {
         "domain": [
          0.7619047619047619,
          0.9047619047619047
         ],
         "dtick": 1,
         "tickfont": {
          "size": 9.6
         }
        },
        "yaxis6": {
         "domain": [
          0.9523809523809523,
          1
         ],
         "tickfont": {
          "size": 9.6
         }
        }
       }
      }
     },
     "metadata": {},
     "output_type": "display_data"
    },
    {
     "name": "stdout",
     "output_type": "stream",
     "text": [
      "Making match panel for Continuous features ...\n",
      "Making match panel for Cotinuous features (missing last 10 & scores ascending) ...\n",
      "Making match panel for Cotinuous features (missing first 10 & scores ascending) ...\n",
      "Making match panel for Categorical features ...\n",
      "Making match panel for Binary features ...\n"
     ]
    },
    {
     "data": {
      "application/vnd.plotly.v1+json": {
       "data": [
        {
         "colorscale": [
          [
           0,
           "#4242ff"
          ],
          [
           0.00392156862745098,
           "#4241ff"
          ],
          [
           0.00784313725490196,
           "#4240ff"
          ],
          [
           0.011764705882352941,
           "#423fff"
          ],
          [
           0.01568627450980392,
           "#423eff"
          ],
          [
           0.0196078431372549,
           "#423dff"
          ],
          [
           0.023529411764705882,
           "#423cff"
          ],
          [
           0.027450980392156862,
           "#423bff"
          ],
          [
           0.03137254901960784,
           "#423aff"
          ],
          [
           0.03529411764705882,
           "#4239ff"
          ],
          [
           0.0392156862745098,
           "#4238ff"
          ],
          [
           0.043137254901960784,
           "#4237ff"
          ],
          [
           0.047058823529411764,
           "#4236ff"
          ],
          [
           0.050980392156862744,
           "#4235ff"
          ],
          [
           0.054901960784313725,
           "#4234ff"
          ],
          [
           0.058823529411764705,
           "#4233ff"
          ],
          [
           0.06274509803921569,
           "#4232ff"
          ],
          [
           0.06666666666666667,
           "#4231ff"
          ],
          [
           0.07058823529411765,
           "#4230ff"
          ],
          [
           0.07450980392156863,
           "#422fff"
          ],
          [
           0.0784313725490196,
           "#422eff"
          ],
          [
           0.08235294117647059,
           "#422dff"
          ],
          [
           0.08627450980392157,
           "#422cff"
          ],
          [
           0.09019607843137255,
           "#422bff"
          ],
          [
           0.09411764705882353,
           "#422aff"
          ],
          [
           0.09803921568627451,
           "#4229ff"
          ],
          [
           0.10196078431372549,
           "#4228ff"
          ],
          [
           0.10588235294117647,
           "#4228ff"
          ],
          [
           0.10980392156862745,
           "#4227ff"
          ],
          [
           0.11372549019607843,
           "#4226ff"
          ],
          [
           0.11764705882352941,
           "#4226ff"
          ],
          [
           0.12156862745098039,
           "#4225ff"
          ],
          [
           0.12549019607843137,
           "#4224ff"
          ],
          [
           0.12941176470588237,
           "#4224ff"
          ],
          [
           0.13333333333333333,
           "#4223ff"
          ],
          [
           0.13725490196078433,
           "#4222ff"
          ],
          [
           0.1411764705882353,
           "#4221ff"
          ],
          [
           0.1450980392156863,
           "#4221ff"
          ],
          [
           0.14901960784313725,
           "#4220ff"
          ],
          [
           0.15294117647058825,
           "#421fff"
          ],
          [
           0.1568627450980392,
           "#421fff"
          ],
          [
           0.1607843137254902,
           "#421eff"
          ],
          [
           0.16470588235294117,
           "#421dff"
          ],
          [
           0.16862745098039217,
           "#421dff"
          ],
          [
           0.17254901960784313,
           "#421cff"
          ],
          [
           0.17647058823529413,
           "#421bff"
          ],
          [
           0.1803921568627451,
           "#421aff"
          ],
          [
           0.1843137254901961,
           "#421aff"
          ],
          [
           0.18823529411764706,
           "#4219ff"
          ],
          [
           0.19215686274509805,
           "#4218ff"
          ],
          [
           0.19607843137254902,
           "#4218ff"
          ],
          [
           0.2,
           "#4217ff"
          ],
          [
           0.20392156862745098,
           "#4419ff"
          ],
          [
           0.20784313725490197,
           "#451aff"
          ],
          [
           0.21176470588235294,
           "#461cff"
          ],
          [
           0.21568627450980393,
           "#481eff"
          ],
          [
           0.2196078431372549,
           "#491fff"
          ],
          [
           0.2235294117647059,
           "#4a21ff"
          ],
          [
           0.22745098039215686,
           "#4b23ff"
          ],
          [
           0.23137254901960785,
           "#4d25ff"
          ],
          [
           0.23529411764705882,
           "#4e26ff"
          ],
          [
           0.23921568627450981,
           "#4f28ff"
          ],
          [
           0.24313725490196078,
           "#512aff"
          ],
          [
           0.24705882352941178,
           "#522bff"
          ],
          [
           0.25098039215686274,
           "#532dff"
          ],
          [
           0.2549019607843137,
           "#542fff"
          ],
          [
           0.25882352941176473,
           "#5630ff"
          ],
          [
           0.2627450980392157,
           "#5732ff"
          ],
          [
           0.26666666666666666,
           "#5834ff"
          ],
          [
           0.27058823529411763,
           "#5a36ff"
          ],
          [
           0.27450980392156865,
           "#5b37ff"
          ],
          [
           0.2784313725490196,
           "#5c39ff"
          ],
          [
           0.2823529411764706,
           "#5e3bff"
          ],
          [
           0.28627450980392155,
           "#5f3cff"
          ],
          [
           0.2901960784313726,
           "#603eff"
          ],
          [
           0.29411764705882354,
           "#6240ff"
          ],
          [
           0.2980392156862745,
           "#6341ff"
          ],
          [
           0.30196078431372547,
           "#6544ff"
          ],
          [
           0.3058823529411765,
           "#6849ff"
          ],
          [
           0.30980392156862746,
           "#6b4dff"
          ],
          [
           0.3137254901960784,
           "#6e51ff"
          ],
          [
           0.3176470588235294,
           "#7156ff"
          ],
          [
           0.3215686274509804,
           "#745aff"
          ],
          [
           0.3254901960784314,
           "#775eff"
          ],
          [
           0.32941176470588235,
           "#7a63ff"
          ],
          [
           0.3333333333333333,
           "#7d67ff"
          ],
          [
           0.33725490196078434,
           "#806bff"
          ],
          [
           0.3411764705882353,
           "#836fff"
          ],
          [
           0.34509803921568627,
           "#8674ff"
          ],
          [
           0.34901960784313724,
           "#8978ff"
          ],
          [
           0.35294117647058826,
           "#8c7cff"
          ],
          [
           0.3568627450980392,
           "#8f81ff"
          ],
          [
           0.3607843137254902,
           "#9285ff"
          ],
          [
           0.36470588235294116,
           "#9589ff"
          ],
          [
           0.3686274509803922,
           "#988eff"
          ],
          [
           0.37254901960784315,
           "#9b92ff"
          ],
          [
           0.3764705882352941,
           "#9e96ff"
          ],
          [
           0.3803921568627451,
           "#a19aff"
          ],
          [
           0.3843137254901961,
           "#a49fff"
          ],
          [
           0.38823529411764707,
           "#a7a3ff"
          ],
          [
           0.39215686274509803,
           "#aaa7ff"
          ],
          [
           0.396078431372549,
           "#adacff"
          ],
          [
           0.4,
           "#b0b0ff"
          ],
          [
           0.403921568627451,
           "#b3b3ff"
          ],
          [
           0.40784313725490196,
           "#b6b6ff"
          ],
          [
           0.4117647058823529,
           "#b9b9ff"
          ],
          [
           0.41568627450980394,
           "#bcbcff"
          ],
          [
           0.4196078431372549,
           "#bfbfff"
          ],
          [
           0.4235294117647059,
           "#c3c3ff"
          ],
          [
           0.42745098039215684,
           "#c6c6ff"
          ],
          [
           0.43137254901960786,
           "#c9c9ff"
          ],
          [
           0.43529411764705883,
           "#ccccff"
          ],
          [
           0.4392156862745098,
           "#cfcfff"
          ],
          [
           0.44313725490196076,
           "#d2d2ff"
          ],
          [
           0.4470588235294118,
           "#d5d5ff"
          ],
          [
           0.45098039215686275,
           "#d8d8ff"
          ],
          [
           0.4549019607843137,
           "#dbdbff"
          ],
          [
           0.4588235294117647,
           "#dedeff"
          ],
          [
           0.4627450980392157,
           "#e2e2ff"
          ],
          [
           0.4666666666666667,
           "#e5e5ff"
          ],
          [
           0.47058823529411764,
           "#e8e8ff"
          ],
          [
           0.4745098039215686,
           "#ebebff"
          ],
          [
           0.47843137254901963,
           "#eeeeff"
          ],
          [
           0.4823529411764706,
           "#f1f1ff"
          ],
          [
           0.48627450980392156,
           "#f4f4ff"
          ],
          [
           0.49019607843137253,
           "#f7f7ff"
          ],
          [
           0.49411764705882355,
           "#fafaff"
          ],
          [
           0.4980392156862745,
           "#fdfdff"
          ],
          [
           0.5019607843137255,
           "#fffdfd"
          ],
          [
           0.5058823529411764,
           "#fffafa"
          ],
          [
           0.5098039215686274,
           "#fff7f7"
          ],
          [
           0.5137254901960784,
           "#fff4f4"
          ],
          [
           0.5176470588235295,
           "#fff1f1"
          ],
          [
           0.5215686274509804,
           "#ffeeee"
          ],
          [
           0.5254901960784314,
           "#ffebeb"
          ],
          [
           0.5294117647058824,
           "#ffe8e8"
          ],
          [
           0.5333333333333333,
           "#ffe5e5"
          ],
          [
           0.5372549019607843,
           "#ffe2e2"
          ],
          [
           0.5411764705882353,
           "#ffdede"
          ],
          [
           0.5450980392156862,
           "#ffdbdb"
          ],
          [
           0.5490196078431373,
           "#ffd8d8"
          ],
          [
           0.5529411764705883,
           "#ffd5d5"
          ],
          [
           0.5568627450980392,
           "#ffd2d2"
          ],
          [
           0.5607843137254902,
           "#ffcfcf"
          ],
          [
           0.5647058823529412,
           "#ffcccc"
          ],
          [
           0.5686274509803921,
           "#ffc9c9"
          ],
          [
           0.5725490196078431,
           "#ffc6c6"
          ],
          [
           0.5764705882352941,
           "#ffc3c3"
          ],
          [
           0.5803921568627451,
           "#ffbfbf"
          ],
          [
           0.5843137254901961,
           "#ffbcbc"
          ],
          [
           0.5882352941176471,
           "#ffb9b9"
          ],
          [
           0.592156862745098,
           "#ffb6b6"
          ],
          [
           0.596078431372549,
           "#ffb3b3"
          ],
          [
           0.6,
           "#ffb0b0"
          ],
          [
           0.6039215686274509,
           "#ffacad"
          ],
          [
           0.6078431372549019,
           "#ffa7aa"
          ],
          [
           0.611764705882353,
           "#ffa3a7"
          ],
          [
           0.615686274509804,
           "#ff9fa4"
          ],
          [
           0.6196078431372549,
           "#ff9aa1"
          ],
          [
           0.6235294117647059,
           "#ff969e"
          ],
          [
           0.6274509803921569,
           "#ff929b"
          ],
          [
           0.6313725490196078,
           "#ff8e98"
          ],
          [
           0.6352941176470588,
           "#ff8995"
          ],
          [
           0.6392156862745098,
           "#ff8592"
          ],
          [
           0.6431372549019608,
           "#ff818f"
          ],
          [
           0.6470588235294118,
           "#ff7c8c"
          ],
          [
           0.6509803921568628,
           "#ff7889"
          ],
          [
           0.6549019607843137,
           "#ff7486"
          ],
          [
           0.6588235294117647,
           "#ff6f83"
          ],
          [
           0.6627450980392157,
           "#ff6b80"
          ],
          [
           0.6666666666666666,
           "#ff677d"
          ],
          [
           0.6705882352941176,
           "#ff637a"
          ],
          [
           0.6745098039215687,
           "#ff5e77"
          ],
          [
           0.6784313725490196,
           "#ff5a74"
          ],
          [
           0.6823529411764706,
           "#ff5671"
          ],
          [
           0.6862745098039216,
           "#ff516e"
          ],
          [
           0.6901960784313725,
           "#ff4d6b"
          ],
          [
           0.6941176470588235,
           "#ff4968"
          ],
          [
           0.6980392156862745,
           "#ff4465"
          ],
          [
           0.7019607843137254,
           "#ff4163"
          ],
          [
           0.7058823529411765,
           "#ff4062"
          ],
          [
           0.7098039215686275,
           "#ff3e60"
          ],
          [
           0.7137254901960784,
           "#ff3c5f"
          ],
          [
           0.7176470588235294,
           "#ff3b5e"
          ],
          [
           0.7215686274509804,
           "#ff395c"
          ],
          [
           0.7254901960784313,
           "#ff375b"
          ],
          [
           0.7294117647058823,
           "#ff365a"
          ],
          [
           0.7333333333333333,
           "#ff3458"
          ],
          [
           0.7372549019607844,
           "#ff3257"
          ],
          [
           0.7411764705882353,
           "#ff3056"
          ],
          [
           0.7450980392156863,
           "#ff2f55"
          ],
          [
           0.7490196078431373,
           "#ff2d53"
          ],
          [
           0.7529411764705882,
           "#ff2b52"
          ],
          [
           0.7568627450980392,
           "#ff2a51"
          ],
          [
           0.7607843137254902,
           "#ff284f"
          ],
          [
           0.7647058823529411,
           "#ff264e"
          ],
          [
           0.7686274509803922,
           "#ff254d"
          ],
          [
           0.7725490196078432,
           "#ff234b"
          ],
          [
           0.7764705882352941,
           "#ff214a"
          ],
          [
           0.7803921568627451,
           "#ff1f49"
          ],
          [
           0.7843137254901961,
           "#ff1e48"
          ],
          [
           0.788235294117647,
           "#ff1c46"
          ],
          [
           0.792156862745098,
           "#ff1a45"
          ],
          [
           0.796078431372549,
           "#ff1944"
          ],
          [
           0.8,
           "#ff1742"
          ],
          [
           0.803921568627451,
           "#ff1842"
          ],
          [
           0.807843137254902,
           "#ff1842"
          ],
          [
           0.8117647058823529,
           "#ff1942"
          ],
          [
           0.8156862745098039,
           "#ff1a42"
          ],
          [
           0.8196078431372549,
           "#ff1a42"
          ],
          [
           0.8235294117647058,
           "#ff1b42"
          ],
          [
           0.8274509803921568,
           "#ff1c42"
          ],
          [
           0.8313725490196079,
           "#ff1d42"
          ],
          [
           0.8352941176470589,
           "#ff1d42"
          ],
          [
           0.8392156862745098,
           "#ff1e42"
          ],
          [
           0.8431372549019608,
           "#ff1f42"
          ],
          [
           0.8470588235294118,
           "#ff1f42"
          ],
          [
           0.8509803921568627,
           "#ff2042"
          ],
          [
           0.8549019607843137,
           "#ff2142"
          ],
          [
           0.8588235294117647,
           "#ff2142"
          ],
          [
           0.8627450980392157,
           "#ff2242"
          ],
          [
           0.8666666666666667,
           "#ff2342"
          ],
          [
           0.8705882352941177,
           "#ff2442"
          ],
          [
           0.8745098039215686,
           "#ff2442"
          ],
          [
           0.8784313725490196,
           "#ff2542"
          ],
          [
           0.8823529411764706,
           "#ff2642"
          ],
          [
           0.8862745098039215,
           "#ff2642"
          ],
          [
           0.8901960784313725,
           "#ff2742"
          ],
          [
           0.8941176470588236,
           "#ff2842"
          ],
          [
           0.8980392156862745,
           "#ff2842"
          ],
          [
           0.9019607843137255,
           "#ff2942"
          ],
          [
           0.9058823529411765,
           "#ff2a42"
          ],
          [
           0.9098039215686274,
           "#ff2b42"
          ],
          [
           0.9137254901960784,
           "#ff2c42"
          ],
          [
           0.9176470588235294,
           "#ff2d42"
          ],
          [
           0.9215686274509803,
           "#ff2e42"
          ],
          [
           0.9254901960784314,
           "#ff2f42"
          ],
          [
           0.9294117647058824,
           "#ff3042"
          ],
          [
           0.9333333333333333,
           "#ff3142"
          ],
          [
           0.9372549019607843,
           "#ff3242"
          ],
          [
           0.9411764705882353,
           "#ff3342"
          ],
          [
           0.9450980392156862,
           "#ff3442"
          ],
          [
           0.9490196078431372,
           "#ff3542"
          ],
          [
           0.9529411764705882,
           "#ff3642"
          ],
          [
           0.9568627450980393,
           "#ff3742"
          ],
          [
           0.9607843137254902,
           "#ff3842"
          ],
          [
           0.9647058823529412,
           "#ff3942"
          ],
          [
           0.9686274509803922,
           "#ff3a42"
          ],
          [
           0.9725490196078431,
           "#ff3b42"
          ],
          [
           0.9764705882352941,
           "#ff3c42"
          ],
          [
           0.9803921568627451,
           "#ff3d42"
          ],
          [
           0.984313725490196,
           "#ff3e42"
          ],
          [
           0.9882352941176471,
           "#ff3f42"
          ],
          [
           0.9921568627450981,
           "#ff4042"
          ],
          [
           0.996078431372549,
           "#ff4142"
          ],
          [
           1,
           "#ff4242"
          ]
         ],
         "showscale": false,
         "text": [
          [
           "Column 9",
           "Column 4",
           "Column 11",
           "Column 7",
           "Column 2",
           "Column 0",
           "Column 5",
           "Column 13",
           "Column 15",
           "Column 12",
           "Column 8",
           "Column 3",
           "Column 6",
           "Column 10",
           "Column 14",
           "Column 1"
          ]
         ],
         "type": "heatmap",
         "uid": "cd24d53e-964e-4d02-8795-7e0c29ee6cbb",
         "x": [
          "Column 9",
          "Column 4",
          "Column 11",
          "Column 7",
          "Column 2",
          "Column 0",
          "Column 5",
          "Column 13",
          "Column 15",
          "Column 12",
          "Column 8",
          "Column 3",
          "Column 6",
          "Column 10",
          "Column 14",
          "Column 1"
         ],
         "y": [
          "Target"
         ],
         "yaxis": "y6",
         "z": [
          [
           -1.5412021816054788,
           -1.4397536989085518,
           -1.272134631805698,
           -1.1664140259513176,
           -0.7705927637186675,
           -0.44944703735453445,
           -0.2138701378948218,
           -0.14462610821287442,
           0.1667977904652252,
           0.45155907015188135,
           0.590075861024802,
           0.6716825701432529,
           1.0397309371321815,
           1.1746273333193402,
           1.41135264422378,
           1.4922143789914835
          ]
         ],
         "zmax": 1.4922143789914835,
         "zmin": -1.5412021816054788
        },
        {
         "colorscale": [
          [
           0,
           "#4242ff"
          ],
          [
           0.00392156862745098,
           "#4241ff"
          ],
          [
           0.00784313725490196,
           "#4240ff"
          ],
          [
           0.011764705882352941,
           "#423fff"
          ],
          [
           0.01568627450980392,
           "#423eff"
          ],
          [
           0.0196078431372549,
           "#423dff"
          ],
          [
           0.023529411764705882,
           "#423cff"
          ],
          [
           0.027450980392156862,
           "#423bff"
          ],
          [
           0.03137254901960784,
           "#423aff"
          ],
          [
           0.03529411764705882,
           "#4239ff"
          ],
          [
           0.0392156862745098,
           "#4238ff"
          ],
          [
           0.043137254901960784,
           "#4237ff"
          ],
          [
           0.047058823529411764,
           "#4236ff"
          ],
          [
           0.050980392156862744,
           "#4235ff"
          ],
          [
           0.054901960784313725,
           "#4234ff"
          ],
          [
           0.058823529411764705,
           "#4233ff"
          ],
          [
           0.06274509803921569,
           "#4232ff"
          ],
          [
           0.06666666666666667,
           "#4231ff"
          ],
          [
           0.07058823529411765,
           "#4230ff"
          ],
          [
           0.07450980392156863,
           "#422fff"
          ],
          [
           0.0784313725490196,
           "#422eff"
          ],
          [
           0.08235294117647059,
           "#422dff"
          ],
          [
           0.08627450980392157,
           "#422cff"
          ],
          [
           0.09019607843137255,
           "#422bff"
          ],
          [
           0.09411764705882353,
           "#422aff"
          ],
          [
           0.09803921568627451,
           "#4229ff"
          ],
          [
           0.10196078431372549,
           "#4228ff"
          ],
          [
           0.10588235294117647,
           "#4228ff"
          ],
          [
           0.10980392156862745,
           "#4227ff"
          ],
          [
           0.11372549019607843,
           "#4226ff"
          ],
          [
           0.11764705882352941,
           "#4226ff"
          ],
          [
           0.12156862745098039,
           "#4225ff"
          ],
          [
           0.12549019607843137,
           "#4224ff"
          ],
          [
           0.12941176470588237,
           "#4224ff"
          ],
          [
           0.13333333333333333,
           "#4223ff"
          ],
          [
           0.13725490196078433,
           "#4222ff"
          ],
          [
           0.1411764705882353,
           "#4221ff"
          ],
          [
           0.1450980392156863,
           "#4221ff"
          ],
          [
           0.14901960784313725,
           "#4220ff"
          ],
          [
           0.15294117647058825,
           "#421fff"
          ],
          [
           0.1568627450980392,
           "#421fff"
          ],
          [
           0.1607843137254902,
           "#421eff"
          ],
          [
           0.16470588235294117,
           "#421dff"
          ],
          [
           0.16862745098039217,
           "#421dff"
          ],
          [
           0.17254901960784313,
           "#421cff"
          ],
          [
           0.17647058823529413,
           "#421bff"
          ],
          [
           0.1803921568627451,
           "#421aff"
          ],
          [
           0.1843137254901961,
           "#421aff"
          ],
          [
           0.18823529411764706,
           "#4219ff"
          ],
          [
           0.19215686274509805,
           "#4218ff"
          ],
          [
           0.19607843137254902,
           "#4218ff"
          ],
          [
           0.2,
           "#4217ff"
          ],
          [
           0.20392156862745098,
           "#4419ff"
          ],
          [
           0.20784313725490197,
           "#451aff"
          ],
          [
           0.21176470588235294,
           "#461cff"
          ],
          [
           0.21568627450980393,
           "#481eff"
          ],
          [
           0.2196078431372549,
           "#491fff"
          ],
          [
           0.2235294117647059,
           "#4a21ff"
          ],
          [
           0.22745098039215686,
           "#4b23ff"
          ],
          [
           0.23137254901960785,
           "#4d25ff"
          ],
          [
           0.23529411764705882,
           "#4e26ff"
          ],
          [
           0.23921568627450981,
           "#4f28ff"
          ],
          [
           0.24313725490196078,
           "#512aff"
          ],
          [
           0.24705882352941178,
           "#522bff"
          ],
          [
           0.25098039215686274,
           "#532dff"
          ],
          [
           0.2549019607843137,
           "#542fff"
          ],
          [
           0.25882352941176473,
           "#5630ff"
          ],
          [
           0.2627450980392157,
           "#5732ff"
          ],
          [
           0.26666666666666666,
           "#5834ff"
          ],
          [
           0.27058823529411763,
           "#5a36ff"
          ],
          [
           0.27450980392156865,
           "#5b37ff"
          ],
          [
           0.2784313725490196,
           "#5c39ff"
          ],
          [
           0.2823529411764706,
           "#5e3bff"
          ],
          [
           0.28627450980392155,
           "#5f3cff"
          ],
          [
           0.2901960784313726,
           "#603eff"
          ],
          [
           0.29411764705882354,
           "#6240ff"
          ],
          [
           0.2980392156862745,
           "#6341ff"
          ],
          [
           0.30196078431372547,
           "#6544ff"
          ],
          [
           0.3058823529411765,
           "#6849ff"
          ],
          [
           0.30980392156862746,
           "#6b4dff"
          ],
          [
           0.3137254901960784,
           "#6e51ff"
          ],
          [
           0.3176470588235294,
           "#7156ff"
          ],
          [
           0.3215686274509804,
           "#745aff"
          ],
          [
           0.3254901960784314,
           "#775eff"
          ],
          [
           0.32941176470588235,
           "#7a63ff"
          ],
          [
           0.3333333333333333,
           "#7d67ff"
          ],
          [
           0.33725490196078434,
           "#806bff"
          ],
          [
           0.3411764705882353,
           "#836fff"
          ],
          [
           0.34509803921568627,
           "#8674ff"
          ],
          [
           0.34901960784313724,
           "#8978ff"
          ],
          [
           0.35294117647058826,
           "#8c7cff"
          ],
          [
           0.3568627450980392,
           "#8f81ff"
          ],
          [
           0.3607843137254902,
           "#9285ff"
          ],
          [
           0.36470588235294116,
           "#9589ff"
          ],
          [
           0.3686274509803922,
           "#988eff"
          ],
          [
           0.37254901960784315,
           "#9b92ff"
          ],
          [
           0.3764705882352941,
           "#9e96ff"
          ],
          [
           0.3803921568627451,
           "#a19aff"
          ],
          [
           0.3843137254901961,
           "#a49fff"
          ],
          [
           0.38823529411764707,
           "#a7a3ff"
          ],
          [
           0.39215686274509803,
           "#aaa7ff"
          ],
          [
           0.396078431372549,
           "#adacff"
          ],
          [
           0.4,
           "#b0b0ff"
          ],
          [
           0.403921568627451,
           "#b3b3ff"
          ],
          [
           0.40784313725490196,
           "#b6b6ff"
          ],
          [
           0.4117647058823529,
           "#b9b9ff"
          ],
          [
           0.41568627450980394,
           "#bcbcff"
          ],
          [
           0.4196078431372549,
           "#bfbfff"
          ],
          [
           0.4235294117647059,
           "#c3c3ff"
          ],
          [
           0.42745098039215684,
           "#c6c6ff"
          ],
          [
           0.43137254901960786,
           "#c9c9ff"
          ],
          [
           0.43529411764705883,
           "#ccccff"
          ],
          [
           0.4392156862745098,
           "#cfcfff"
          ],
          [
           0.44313725490196076,
           "#d2d2ff"
          ],
          [
           0.4470588235294118,
           "#d5d5ff"
          ],
          [
           0.45098039215686275,
           "#d8d8ff"
          ],
          [
           0.4549019607843137,
           "#dbdbff"
          ],
          [
           0.4588235294117647,
           "#dedeff"
          ],
          [
           0.4627450980392157,
           "#e2e2ff"
          ],
          [
           0.4666666666666667,
           "#e5e5ff"
          ],
          [
           0.47058823529411764,
           "#e8e8ff"
          ],
          [
           0.4745098039215686,
           "#ebebff"
          ],
          [
           0.47843137254901963,
           "#eeeeff"
          ],
          [
           0.4823529411764706,
           "#f1f1ff"
          ],
          [
           0.48627450980392156,
           "#f4f4ff"
          ],
          [
           0.49019607843137253,
           "#f7f7ff"
          ],
          [
           0.49411764705882355,
           "#fafaff"
          ],
          [
           0.4980392156862745,
           "#fdfdff"
          ],
          [
           0.5019607843137255,
           "#fffdfd"
          ],
          [
           0.5058823529411764,
           "#fffafa"
          ],
          [
           0.5098039215686274,
           "#fff7f7"
          ],
          [
           0.5137254901960784,
           "#fff4f4"
          ],
          [
           0.5176470588235295,
           "#fff1f1"
          ],
          [
           0.5215686274509804,
           "#ffeeee"
          ],
          [
           0.5254901960784314,
           "#ffebeb"
          ],
          [
           0.5294117647058824,
           "#ffe8e8"
          ],
          [
           0.5333333333333333,
           "#ffe5e5"
          ],
          [
           0.5372549019607843,
           "#ffe2e2"
          ],
          [
           0.5411764705882353,
           "#ffdede"
          ],
          [
           0.5450980392156862,
           "#ffdbdb"
          ],
          [
           0.5490196078431373,
           "#ffd8d8"
          ],
          [
           0.5529411764705883,
           "#ffd5d5"
          ],
          [
           0.5568627450980392,
           "#ffd2d2"
          ],
          [
           0.5607843137254902,
           "#ffcfcf"
          ],
          [
           0.5647058823529412,
           "#ffcccc"
          ],
          [
           0.5686274509803921,
           "#ffc9c9"
          ],
          [
           0.5725490196078431,
           "#ffc6c6"
          ],
          [
           0.5764705882352941,
           "#ffc3c3"
          ],
          [
           0.5803921568627451,
           "#ffbfbf"
          ],
          [
           0.5843137254901961,
           "#ffbcbc"
          ],
          [
           0.5882352941176471,
           "#ffb9b9"
          ],
          [
           0.592156862745098,
           "#ffb6b6"
          ],
          [
           0.596078431372549,
           "#ffb3b3"
          ],
          [
           0.6,
           "#ffb0b0"
          ],
          [
           0.6039215686274509,
           "#ffacad"
          ],
          [
           0.6078431372549019,
           "#ffa7aa"
          ],
          [
           0.611764705882353,
           "#ffa3a7"
          ],
          [
           0.615686274509804,
           "#ff9fa4"
          ],
          [
           0.6196078431372549,
           "#ff9aa1"
          ],
          [
           0.6235294117647059,
           "#ff969e"
          ],
          [
           0.6274509803921569,
           "#ff929b"
          ],
          [
           0.6313725490196078,
           "#ff8e98"
          ],
          [
           0.6352941176470588,
           "#ff8995"
          ],
          [
           0.6392156862745098,
           "#ff8592"
          ],
          [
           0.6431372549019608,
           "#ff818f"
          ],
          [
           0.6470588235294118,
           "#ff7c8c"
          ],
          [
           0.6509803921568628,
           "#ff7889"
          ],
          [
           0.6549019607843137,
           "#ff7486"
          ],
          [
           0.6588235294117647,
           "#ff6f83"
          ],
          [
           0.6627450980392157,
           "#ff6b80"
          ],
          [
           0.6666666666666666,
           "#ff677d"
          ],
          [
           0.6705882352941176,
           "#ff637a"
          ],
          [
           0.6745098039215687,
           "#ff5e77"
          ],
          [
           0.6784313725490196,
           "#ff5a74"
          ],
          [
           0.6823529411764706,
           "#ff5671"
          ],
          [
           0.6862745098039216,
           "#ff516e"
          ],
          [
           0.6901960784313725,
           "#ff4d6b"
          ],
          [
           0.6941176470588235,
           "#ff4968"
          ],
          [
           0.6980392156862745,
           "#ff4465"
          ],
          [
           0.7019607843137254,
           "#ff4163"
          ],
          [
           0.7058823529411765,
           "#ff4062"
          ],
          [
           0.7098039215686275,
           "#ff3e60"
          ],
          [
           0.7137254901960784,
           "#ff3c5f"
          ],
          [
           0.7176470588235294,
           "#ff3b5e"
          ],
          [
           0.7215686274509804,
           "#ff395c"
          ],
          [
           0.7254901960784313,
           "#ff375b"
          ],
          [
           0.7294117647058823,
           "#ff365a"
          ],
          [
           0.7333333333333333,
           "#ff3458"
          ],
          [
           0.7372549019607844,
           "#ff3257"
          ],
          [
           0.7411764705882353,
           "#ff3056"
          ],
          [
           0.7450980392156863,
           "#ff2f55"
          ],
          [
           0.7490196078431373,
           "#ff2d53"
          ],
          [
           0.7529411764705882,
           "#ff2b52"
          ],
          [
           0.7568627450980392,
           "#ff2a51"
          ],
          [
           0.7607843137254902,
           "#ff284f"
          ],
          [
           0.7647058823529411,
           "#ff264e"
          ],
          [
           0.7686274509803922,
           "#ff254d"
          ],
          [
           0.7725490196078432,
           "#ff234b"
          ],
          [
           0.7764705882352941,
           "#ff214a"
          ],
          [
           0.7803921568627451,
           "#ff1f49"
          ],
          [
           0.7843137254901961,
           "#ff1e48"
          ],
          [
           0.788235294117647,
           "#ff1c46"
          ],
          [
           0.792156862745098,
           "#ff1a45"
          ],
          [
           0.796078431372549,
           "#ff1944"
          ],
          [
           0.8,
           "#ff1742"
          ],
          [
           0.803921568627451,
           "#ff1842"
          ],
          [
           0.807843137254902,
           "#ff1842"
          ],
          [
           0.8117647058823529,
           "#ff1942"
          ],
          [
           0.8156862745098039,
           "#ff1a42"
          ],
          [
           0.8196078431372549,
           "#ff1a42"
          ],
          [
           0.8235294117647058,
           "#ff1b42"
          ],
          [
           0.8274509803921568,
           "#ff1c42"
          ],
          [
           0.8313725490196079,
           "#ff1d42"
          ],
          [
           0.8352941176470589,
           "#ff1d42"
          ],
          [
           0.8392156862745098,
           "#ff1e42"
          ],
          [
           0.8431372549019608,
           "#ff1f42"
          ],
          [
           0.8470588235294118,
           "#ff1f42"
          ],
          [
           0.8509803921568627,
           "#ff2042"
          ],
          [
           0.8549019607843137,
           "#ff2142"
          ],
          [
           0.8588235294117647,
           "#ff2142"
          ],
          [
           0.8627450980392157,
           "#ff2242"
          ],
          [
           0.8666666666666667,
           "#ff2342"
          ],
          [
           0.8705882352941177,
           "#ff2442"
          ],
          [
           0.8745098039215686,
           "#ff2442"
          ],
          [
           0.8784313725490196,
           "#ff2542"
          ],
          [
           0.8823529411764706,
           "#ff2642"
          ],
          [
           0.8862745098039215,
           "#ff2642"
          ],
          [
           0.8901960784313725,
           "#ff2742"
          ],
          [
           0.8941176470588236,
           "#ff2842"
          ],
          [
           0.8980392156862745,
           "#ff2842"
          ],
          [
           0.9019607843137255,
           "#ff2942"
          ],
          [
           0.9058823529411765,
           "#ff2a42"
          ],
          [
           0.9098039215686274,
           "#ff2b42"
          ],
          [
           0.9137254901960784,
           "#ff2c42"
          ],
          [
           0.9176470588235294,
           "#ff2d42"
          ],
          [
           0.9215686274509803,
           "#ff2e42"
          ],
          [
           0.9254901960784314,
           "#ff2f42"
          ],
          [
           0.9294117647058824,
           "#ff3042"
          ],
          [
           0.9333333333333333,
           "#ff3142"
          ],
          [
           0.9372549019607843,
           "#ff3242"
          ],
          [
           0.9411764705882353,
           "#ff3342"
          ],
          [
           0.9450980392156862,
           "#ff3442"
          ],
          [
           0.9490196078431372,
           "#ff3542"
          ],
          [
           0.9529411764705882,
           "#ff3642"
          ],
          [
           0.9568627450980393,
           "#ff3742"
          ],
          [
           0.9607843137254902,
           "#ff3842"
          ],
          [
           0.9647058823529412,
           "#ff3942"
          ],
          [
           0.9686274509803922,
           "#ff3a42"
          ],
          [
           0.9725490196078431,
           "#ff3b42"
          ],
          [
           0.9764705882352941,
           "#ff3c42"
          ],
          [
           0.9803921568627451,
           "#ff3d42"
          ],
          [
           0.984313725490196,
           "#ff3e42"
          ],
          [
           0.9882352941176471,
           "#ff3f42"
          ],
          [
           0.9921568627450981,
           "#ff4042"
          ],
          [
           0.996078431372549,
           "#ff4142"
          ],
          [
           1,
           "#ff4242"
          ]
         ],
         "showscale": false,
         "type": "heatmap",
         "uid": "3233e153-f048-4a08-a4a9-a01e44427aad",
         "x": [
          "Column 9",
          "Column 4",
          "Column 11",
          "Column 7",
          "Column 2",
          "Column 0",
          "Column 5",
          "Column 13",
          "Column 15",
          "Column 12",
          "Column 8",
          "Column 3",
          "Column 6",
          "Column 10",
          "Column 14",
          "Column 1"
         ],
         "y": [
          "Continuous Index 2",
          "Continuous Index 1",
          "Continuous Index 0"
         ],
         "yaxis": "y5",
         "z": [
          [
           1.1321777481262767,
           1.090544364635646,
           0.6776172882519337,
           -1.845089940437511,
           -1.189449920576098,
           -0.45500155947316506,
           0.3132975336343931,
           1.387806244529295,
           -1.2841164390247635,
           -0.8965518270706204,
           -0.48337473075260345,
           1.0365438170480272,
           0.7656999648843131,
           0.892664135580446,
           -0.9048855500633353,
           -0.23788112929223718
          ],
          [
           0.6354476380780527,
           0.8885197470522594,
           -0.8571305942935024,
           -0.7508791984130959,
           -1.222868093528208,
           1.431397498483208,
           -1.0046580801102944,
           1.7409747378168665,
           0.4133229326559953,
           -0.4278699708512504,
           1.2266649551626636,
           -0.4082654463878111,
           1.0503390960134404,
           -1.2165488764581103,
           -0.43902951707917554,
           -1.0594168281410388
          ],
          [
           1.0537018495269348,
           -0.15470350944046754,
           -0.7855612019625319,
           -0.34684441135388583,
           -1.4442117871947415,
           1.592637679004302,
           0.42904058686337926,
           -1.0156210168214588,
           -0.037043312727591225,
           -1.110542151128618,
           1.266083299618601,
           -1.38885759268118,
           0.39305256954487605,
           1.3289935217180575,
           0.9985074668572294,
           -0.7786319898229074
          ]
         ],
         "zmax": 1.7409747378168665,
         "zmin": -1.845089940437511
        },
        {
         "colorscale": [
          [
           0,
           "#4242ff"
          ],
          [
           0.00392156862745098,
           "#4241ff"
          ],
          [
           0.00784313725490196,
           "#4240ff"
          ],
          [
           0.011764705882352941,
           "#423fff"
          ],
          [
           0.01568627450980392,
           "#423eff"
          ],
          [
           0.0196078431372549,
           "#423dff"
          ],
          [
           0.023529411764705882,
           "#423cff"
          ],
          [
           0.027450980392156862,
           "#423bff"
          ],
          [
           0.03137254901960784,
           "#423aff"
          ],
          [
           0.03529411764705882,
           "#4239ff"
          ],
          [
           0.0392156862745098,
           "#4238ff"
          ],
          [
           0.043137254901960784,
           "#4237ff"
          ],
          [
           0.047058823529411764,
           "#4236ff"
          ],
          [
           0.050980392156862744,
           "#4235ff"
          ],
          [
           0.054901960784313725,
           "#4234ff"
          ],
          [
           0.058823529411764705,
           "#4233ff"
          ],
          [
           0.06274509803921569,
           "#4232ff"
          ],
          [
           0.06666666666666667,
           "#4231ff"
          ],
          [
           0.07058823529411765,
           "#4230ff"
          ],
          [
           0.07450980392156863,
           "#422fff"
          ],
          [
           0.0784313725490196,
           "#422eff"
          ],
          [
           0.08235294117647059,
           "#422dff"
          ],
          [
           0.08627450980392157,
           "#422cff"
          ],
          [
           0.09019607843137255,
           "#422bff"
          ],
          [
           0.09411764705882353,
           "#422aff"
          ],
          [
           0.09803921568627451,
           "#4229ff"
          ],
          [
           0.10196078431372549,
           "#4228ff"
          ],
          [
           0.10588235294117647,
           "#4228ff"
          ],
          [
           0.10980392156862745,
           "#4227ff"
          ],
          [
           0.11372549019607843,
           "#4226ff"
          ],
          [
           0.11764705882352941,
           "#4226ff"
          ],
          [
           0.12156862745098039,
           "#4225ff"
          ],
          [
           0.12549019607843137,
           "#4224ff"
          ],
          [
           0.12941176470588237,
           "#4224ff"
          ],
          [
           0.13333333333333333,
           "#4223ff"
          ],
          [
           0.13725490196078433,
           "#4222ff"
          ],
          [
           0.1411764705882353,
           "#4221ff"
          ],
          [
           0.1450980392156863,
           "#4221ff"
          ],
          [
           0.14901960784313725,
           "#4220ff"
          ],
          [
           0.15294117647058825,
           "#421fff"
          ],
          [
           0.1568627450980392,
           "#421fff"
          ],
          [
           0.1607843137254902,
           "#421eff"
          ],
          [
           0.16470588235294117,
           "#421dff"
          ],
          [
           0.16862745098039217,
           "#421dff"
          ],
          [
           0.17254901960784313,
           "#421cff"
          ],
          [
           0.17647058823529413,
           "#421bff"
          ],
          [
           0.1803921568627451,
           "#421aff"
          ],
          [
           0.1843137254901961,
           "#421aff"
          ],
          [
           0.18823529411764706,
           "#4219ff"
          ],
          [
           0.19215686274509805,
           "#4218ff"
          ],
          [
           0.19607843137254902,
           "#4218ff"
          ],
          [
           0.2,
           "#4217ff"
          ],
          [
           0.20392156862745098,
           "#4419ff"
          ],
          [
           0.20784313725490197,
           "#451aff"
          ],
          [
           0.21176470588235294,
           "#461cff"
          ],
          [
           0.21568627450980393,
           "#481eff"
          ],
          [
           0.2196078431372549,
           "#491fff"
          ],
          [
           0.2235294117647059,
           "#4a21ff"
          ],
          [
           0.22745098039215686,
           "#4b23ff"
          ],
          [
           0.23137254901960785,
           "#4d25ff"
          ],
          [
           0.23529411764705882,
           "#4e26ff"
          ],
          [
           0.23921568627450981,
           "#4f28ff"
          ],
          [
           0.24313725490196078,
           "#512aff"
          ],
          [
           0.24705882352941178,
           "#522bff"
          ],
          [
           0.25098039215686274,
           "#532dff"
          ],
          [
           0.2549019607843137,
           "#542fff"
          ],
          [
           0.25882352941176473,
           "#5630ff"
          ],
          [
           0.2627450980392157,
           "#5732ff"
          ],
          [
           0.26666666666666666,
           "#5834ff"
          ],
          [
           0.27058823529411763,
           "#5a36ff"
          ],
          [
           0.27450980392156865,
           "#5b37ff"
          ],
          [
           0.2784313725490196,
           "#5c39ff"
          ],
          [
           0.2823529411764706,
           "#5e3bff"
          ],
          [
           0.28627450980392155,
           "#5f3cff"
          ],
          [
           0.2901960784313726,
           "#603eff"
          ],
          [
           0.29411764705882354,
           "#6240ff"
          ],
          [
           0.2980392156862745,
           "#6341ff"
          ],
          [
           0.30196078431372547,
           "#6544ff"
          ],
          [
           0.3058823529411765,
           "#6849ff"
          ],
          [
           0.30980392156862746,
           "#6b4dff"
          ],
          [
           0.3137254901960784,
           "#6e51ff"
          ],
          [
           0.3176470588235294,
           "#7156ff"
          ],
          [
           0.3215686274509804,
           "#745aff"
          ],
          [
           0.3254901960784314,
           "#775eff"
          ],
          [
           0.32941176470588235,
           "#7a63ff"
          ],
          [
           0.3333333333333333,
           "#7d67ff"
          ],
          [
           0.33725490196078434,
           "#806bff"
          ],
          [
           0.3411764705882353,
           "#836fff"
          ],
          [
           0.34509803921568627,
           "#8674ff"
          ],
          [
           0.34901960784313724,
           "#8978ff"
          ],
          [
           0.35294117647058826,
           "#8c7cff"
          ],
          [
           0.3568627450980392,
           "#8f81ff"
          ],
          [
           0.3607843137254902,
           "#9285ff"
          ],
          [
           0.36470588235294116,
           "#9589ff"
          ],
          [
           0.3686274509803922,
           "#988eff"
          ],
          [
           0.37254901960784315,
           "#9b92ff"
          ],
          [
           0.3764705882352941,
           "#9e96ff"
          ],
          [
           0.3803921568627451,
           "#a19aff"
          ],
          [
           0.3843137254901961,
           "#a49fff"
          ],
          [
           0.38823529411764707,
           "#a7a3ff"
          ],
          [
           0.39215686274509803,
           "#aaa7ff"
          ],
          [
           0.396078431372549,
           "#adacff"
          ],
          [
           0.4,
           "#b0b0ff"
          ],
          [
           0.403921568627451,
           "#b3b3ff"
          ],
          [
           0.40784313725490196,
           "#b6b6ff"
          ],
          [
           0.4117647058823529,
           "#b9b9ff"
          ],
          [
           0.41568627450980394,
           "#bcbcff"
          ],
          [
           0.4196078431372549,
           "#bfbfff"
          ],
          [
           0.4235294117647059,
           "#c3c3ff"
          ],
          [
           0.42745098039215684,
           "#c6c6ff"
          ],
          [
           0.43137254901960786,
           "#c9c9ff"
          ],
          [
           0.43529411764705883,
           "#ccccff"
          ],
          [
           0.4392156862745098,
           "#cfcfff"
          ],
          [
           0.44313725490196076,
           "#d2d2ff"
          ],
          [
           0.4470588235294118,
           "#d5d5ff"
          ],
          [
           0.45098039215686275,
           "#d8d8ff"
          ],
          [
           0.4549019607843137,
           "#dbdbff"
          ],
          [
           0.4588235294117647,
           "#dedeff"
          ],
          [
           0.4627450980392157,
           "#e2e2ff"
          ],
          [
           0.4666666666666667,
           "#e5e5ff"
          ],
          [
           0.47058823529411764,
           "#e8e8ff"
          ],
          [
           0.4745098039215686,
           "#ebebff"
          ],
          [
           0.47843137254901963,
           "#eeeeff"
          ],
          [
           0.4823529411764706,
           "#f1f1ff"
          ],
          [
           0.48627450980392156,
           "#f4f4ff"
          ],
          [
           0.49019607843137253,
           "#f7f7ff"
          ],
          [
           0.49411764705882355,
           "#fafaff"
          ],
          [
           0.4980392156862745,
           "#fdfdff"
          ],
          [
           0.5019607843137255,
           "#fffdfd"
          ],
          [
           0.5058823529411764,
           "#fffafa"
          ],
          [
           0.5098039215686274,
           "#fff7f7"
          ],
          [
           0.5137254901960784,
           "#fff4f4"
          ],
          [
           0.5176470588235295,
           "#fff1f1"
          ],
          [
           0.5215686274509804,
           "#ffeeee"
          ],
          [
           0.5254901960784314,
           "#ffebeb"
          ],
          [
           0.5294117647058824,
           "#ffe8e8"
          ],
          [
           0.5333333333333333,
           "#ffe5e5"
          ],
          [
           0.5372549019607843,
           "#ffe2e2"
          ],
          [
           0.5411764705882353,
           "#ffdede"
          ],
          [
           0.5450980392156862,
           "#ffdbdb"
          ],
          [
           0.5490196078431373,
           "#ffd8d8"
          ],
          [
           0.5529411764705883,
           "#ffd5d5"
          ],
          [
           0.5568627450980392,
           "#ffd2d2"
          ],
          [
           0.5607843137254902,
           "#ffcfcf"
          ],
          [
           0.5647058823529412,
           "#ffcccc"
          ],
          [
           0.5686274509803921,
           "#ffc9c9"
          ],
          [
           0.5725490196078431,
           "#ffc6c6"
          ],
          [
           0.5764705882352941,
           "#ffc3c3"
          ],
          [
           0.5803921568627451,
           "#ffbfbf"
          ],
          [
           0.5843137254901961,
           "#ffbcbc"
          ],
          [
           0.5882352941176471,
           "#ffb9b9"
          ],
          [
           0.592156862745098,
           "#ffb6b6"
          ],
          [
           0.596078431372549,
           "#ffb3b3"
          ],
          [
           0.6,
           "#ffb0b0"
          ],
          [
           0.6039215686274509,
           "#ffacad"
          ],
          [
           0.6078431372549019,
           "#ffa7aa"
          ],
          [
           0.611764705882353,
           "#ffa3a7"
          ],
          [
           0.615686274509804,
           "#ff9fa4"
          ],
          [
           0.6196078431372549,
           "#ff9aa1"
          ],
          [
           0.6235294117647059,
           "#ff969e"
          ],
          [
           0.6274509803921569,
           "#ff929b"
          ],
          [
           0.6313725490196078,
           "#ff8e98"
          ],
          [
           0.6352941176470588,
           "#ff8995"
          ],
          [
           0.6392156862745098,
           "#ff8592"
          ],
          [
           0.6431372549019608,
           "#ff818f"
          ],
          [
           0.6470588235294118,
           "#ff7c8c"
          ],
          [
           0.6509803921568628,
           "#ff7889"
          ],
          [
           0.6549019607843137,
           "#ff7486"
          ],
          [
           0.6588235294117647,
           "#ff6f83"
          ],
          [
           0.6627450980392157,
           "#ff6b80"
          ],
          [
           0.6666666666666666,
           "#ff677d"
          ],
          [
           0.6705882352941176,
           "#ff637a"
          ],
          [
           0.6745098039215687,
           "#ff5e77"
          ],
          [
           0.6784313725490196,
           "#ff5a74"
          ],
          [
           0.6823529411764706,
           "#ff5671"
          ],
          [
           0.6862745098039216,
           "#ff516e"
          ],
          [
           0.6901960784313725,
           "#ff4d6b"
          ],
          [
           0.6941176470588235,
           "#ff4968"
          ],
          [
           0.6980392156862745,
           "#ff4465"
          ],
          [
           0.7019607843137254,
           "#ff4163"
          ],
          [
           0.7058823529411765,
           "#ff4062"
          ],
          [
           0.7098039215686275,
           "#ff3e60"
          ],
          [
           0.7137254901960784,
           "#ff3c5f"
          ],
          [
           0.7176470588235294,
           "#ff3b5e"
          ],
          [
           0.7215686274509804,
           "#ff395c"
          ],
          [
           0.7254901960784313,
           "#ff375b"
          ],
          [
           0.7294117647058823,
           "#ff365a"
          ],
          [
           0.7333333333333333,
           "#ff3458"
          ],
          [
           0.7372549019607844,
           "#ff3257"
          ],
          [
           0.7411764705882353,
           "#ff3056"
          ],
          [
           0.7450980392156863,
           "#ff2f55"
          ],
          [
           0.7490196078431373,
           "#ff2d53"
          ],
          [
           0.7529411764705882,
           "#ff2b52"
          ],
          [
           0.7568627450980392,
           "#ff2a51"
          ],
          [
           0.7607843137254902,
           "#ff284f"
          ],
          [
           0.7647058823529411,
           "#ff264e"
          ],
          [
           0.7686274509803922,
           "#ff254d"
          ],
          [
           0.7725490196078432,
           "#ff234b"
          ],
          [
           0.7764705882352941,
           "#ff214a"
          ],
          [
           0.7803921568627451,
           "#ff1f49"
          ],
          [
           0.7843137254901961,
           "#ff1e48"
          ],
          [
           0.788235294117647,
           "#ff1c46"
          ],
          [
           0.792156862745098,
           "#ff1a45"
          ],
          [
           0.796078431372549,
           "#ff1944"
          ],
          [
           0.8,
           "#ff1742"
          ],
          [
           0.803921568627451,
           "#ff1842"
          ],
          [
           0.807843137254902,
           "#ff1842"
          ],
          [
           0.8117647058823529,
           "#ff1942"
          ],
          [
           0.8156862745098039,
           "#ff1a42"
          ],
          [
           0.8196078431372549,
           "#ff1a42"
          ],
          [
           0.8235294117647058,
           "#ff1b42"
          ],
          [
           0.8274509803921568,
           "#ff1c42"
          ],
          [
           0.8313725490196079,
           "#ff1d42"
          ],
          [
           0.8352941176470589,
           "#ff1d42"
          ],
          [
           0.8392156862745098,
           "#ff1e42"
          ],
          [
           0.8431372549019608,
           "#ff1f42"
          ],
          [
           0.8470588235294118,
           "#ff1f42"
          ],
          [
           0.8509803921568627,
           "#ff2042"
          ],
          [
           0.8549019607843137,
           "#ff2142"
          ],
          [
           0.8588235294117647,
           "#ff2142"
          ],
          [
           0.8627450980392157,
           "#ff2242"
          ],
          [
           0.8666666666666667,
           "#ff2342"
          ],
          [
           0.8705882352941177,
           "#ff2442"
          ],
          [
           0.8745098039215686,
           "#ff2442"
          ],
          [
           0.8784313725490196,
           "#ff2542"
          ],
          [
           0.8823529411764706,
           "#ff2642"
          ],
          [
           0.8862745098039215,
           "#ff2642"
          ],
          [
           0.8901960784313725,
           "#ff2742"
          ],
          [
           0.8941176470588236,
           "#ff2842"
          ],
          [
           0.8980392156862745,
           "#ff2842"
          ],
          [
           0.9019607843137255,
           "#ff2942"
          ],
          [
           0.9058823529411765,
           "#ff2a42"
          ],
          [
           0.9098039215686274,
           "#ff2b42"
          ],
          [
           0.9137254901960784,
           "#ff2c42"
          ],
          [
           0.9176470588235294,
           "#ff2d42"
          ],
          [
           0.9215686274509803,
           "#ff2e42"
          ],
          [
           0.9254901960784314,
           "#ff2f42"
          ],
          [
           0.9294117647058824,
           "#ff3042"
          ],
          [
           0.9333333333333333,
           "#ff3142"
          ],
          [
           0.9372549019607843,
           "#ff3242"
          ],
          [
           0.9411764705882353,
           "#ff3342"
          ],
          [
           0.9450980392156862,
           "#ff3442"
          ],
          [
           0.9490196078431372,
           "#ff3542"
          ],
          [
           0.9529411764705882,
           "#ff3642"
          ],
          [
           0.9568627450980393,
           "#ff3742"
          ],
          [
           0.9607843137254902,
           "#ff3842"
          ],
          [
           0.9647058823529412,
           "#ff3942"
          ],
          [
           0.9686274509803922,
           "#ff3a42"
          ],
          [
           0.9725490196078431,
           "#ff3b42"
          ],
          [
           0.9764705882352941,
           "#ff3c42"
          ],
          [
           0.9803921568627451,
           "#ff3d42"
          ],
          [
           0.984313725490196,
           "#ff3e42"
          ],
          [
           0.9882352941176471,
           "#ff3f42"
          ],
          [
           0.9921568627450981,
           "#ff4042"
          ],
          [
           0.996078431372549,
           "#ff4142"
          ],
          [
           1,
           "#ff4242"
          ]
         ],
         "showscale": false,
         "type": "heatmap",
         "uid": "1d16e078-4328-4f19-bba4-60e4aeeca724",
         "x": [
          "Column 9",
          "Column 4",
          "Column 11",
          "Column 7",
          "Column 2",
          "Column 0",
          "Column 5",
          "Column 13",
          "Column 15",
          "Column 12",
          "Column 8",
          "Column 3",
          "Column 6",
          "Column 10",
          "Column 14",
          "Column 1"
         ],
         "y": [
          "Continuous Index 2",
          "Continuous Index 1",
          "Continuous Index 0"
         ],
         "yaxis": "y4",
         "z": [
          [
           1.1321777481262767,
           1.090544364635646,
           0.6776172882519337,
           -1.845089940437511,
           -1.189449920576098,
           -0.45500155947316506,
           0.3132975336343931,
           1.387806244529295,
           -1.2841164390247635,
           -0.8965518270706204,
           -0.48337473075260345,
           1.0365438170480272,
           0.7656999648843131,
           0.892664135580446,
           -0.9048855500633353,
           -0.23788112929223718
          ],
          [
           0.6354476380780527,
           0.8885197470522594,
           -0.8571305942935024,
           -0.7508791984130959,
           -1.222868093528208,
           1.431397498483208,
           -1.0046580801102944,
           1.7409747378168665,
           0.4133229326559953,
           -0.4278699708512504,
           1.2266649551626636,
           -0.4082654463878111,
           1.0503390960134404,
           -1.2165488764581103,
           -0.43902951707917554,
           -1.0594168281410388
          ],
          [
           1.0537018495269348,
           -0.15470350944046754,
           -0.7855612019625319,
           -0.34684441135388583,
           -1.4442117871947415,
           1.592637679004302,
           0.42904058686337926,
           -1.0156210168214588,
           -0.037043312727591225,
           -1.110542151128618,
           1.266083299618601,
           -1.38885759268118,
           0.39305256954487605,
           1.3289935217180575,
           0.9985074668572294,
           -0.7786319898229074
          ]
         ],
         "zmax": 1.7409747378168665,
         "zmin": -1.845089940437511
        },
        {
         "colorscale": [
          [
           0,
           "#4242ff"
          ],
          [
           0.00392156862745098,
           "#4241ff"
          ],
          [
           0.00784313725490196,
           "#4240ff"
          ],
          [
           0.011764705882352941,
           "#423fff"
          ],
          [
           0.01568627450980392,
           "#423eff"
          ],
          [
           0.0196078431372549,
           "#423dff"
          ],
          [
           0.023529411764705882,
           "#423cff"
          ],
          [
           0.027450980392156862,
           "#423bff"
          ],
          [
           0.03137254901960784,
           "#423aff"
          ],
          [
           0.03529411764705882,
           "#4239ff"
          ],
          [
           0.0392156862745098,
           "#4238ff"
          ],
          [
           0.043137254901960784,
           "#4237ff"
          ],
          [
           0.047058823529411764,
           "#4236ff"
          ],
          [
           0.050980392156862744,
           "#4235ff"
          ],
          [
           0.054901960784313725,
           "#4234ff"
          ],
          [
           0.058823529411764705,
           "#4233ff"
          ],
          [
           0.06274509803921569,
           "#4232ff"
          ],
          [
           0.06666666666666667,
           "#4231ff"
          ],
          [
           0.07058823529411765,
           "#4230ff"
          ],
          [
           0.07450980392156863,
           "#422fff"
          ],
          [
           0.0784313725490196,
           "#422eff"
          ],
          [
           0.08235294117647059,
           "#422dff"
          ],
          [
           0.08627450980392157,
           "#422cff"
          ],
          [
           0.09019607843137255,
           "#422bff"
          ],
          [
           0.09411764705882353,
           "#422aff"
          ],
          [
           0.09803921568627451,
           "#4229ff"
          ],
          [
           0.10196078431372549,
           "#4228ff"
          ],
          [
           0.10588235294117647,
           "#4228ff"
          ],
          [
           0.10980392156862745,
           "#4227ff"
          ],
          [
           0.11372549019607843,
           "#4226ff"
          ],
          [
           0.11764705882352941,
           "#4226ff"
          ],
          [
           0.12156862745098039,
           "#4225ff"
          ],
          [
           0.12549019607843137,
           "#4224ff"
          ],
          [
           0.12941176470588237,
           "#4224ff"
          ],
          [
           0.13333333333333333,
           "#4223ff"
          ],
          [
           0.13725490196078433,
           "#4222ff"
          ],
          [
           0.1411764705882353,
           "#4221ff"
          ],
          [
           0.1450980392156863,
           "#4221ff"
          ],
          [
           0.14901960784313725,
           "#4220ff"
          ],
          [
           0.15294117647058825,
           "#421fff"
          ],
          [
           0.1568627450980392,
           "#421fff"
          ],
          [
           0.1607843137254902,
           "#421eff"
          ],
          [
           0.16470588235294117,
           "#421dff"
          ],
          [
           0.16862745098039217,
           "#421dff"
          ],
          [
           0.17254901960784313,
           "#421cff"
          ],
          [
           0.17647058823529413,
           "#421bff"
          ],
          [
           0.1803921568627451,
           "#421aff"
          ],
          [
           0.1843137254901961,
           "#421aff"
          ],
          [
           0.18823529411764706,
           "#4219ff"
          ],
          [
           0.19215686274509805,
           "#4218ff"
          ],
          [
           0.19607843137254902,
           "#4218ff"
          ],
          [
           0.2,
           "#4217ff"
          ],
          [
           0.20392156862745098,
           "#4419ff"
          ],
          [
           0.20784313725490197,
           "#451aff"
          ],
          [
           0.21176470588235294,
           "#461cff"
          ],
          [
           0.21568627450980393,
           "#481eff"
          ],
          [
           0.2196078431372549,
           "#491fff"
          ],
          [
           0.2235294117647059,
           "#4a21ff"
          ],
          [
           0.22745098039215686,
           "#4b23ff"
          ],
          [
           0.23137254901960785,
           "#4d25ff"
          ],
          [
           0.23529411764705882,
           "#4e26ff"
          ],
          [
           0.23921568627450981,
           "#4f28ff"
          ],
          [
           0.24313725490196078,
           "#512aff"
          ],
          [
           0.24705882352941178,
           "#522bff"
          ],
          [
           0.25098039215686274,
           "#532dff"
          ],
          [
           0.2549019607843137,
           "#542fff"
          ],
          [
           0.25882352941176473,
           "#5630ff"
          ],
          [
           0.2627450980392157,
           "#5732ff"
          ],
          [
           0.26666666666666666,
           "#5834ff"
          ],
          [
           0.27058823529411763,
           "#5a36ff"
          ],
          [
           0.27450980392156865,
           "#5b37ff"
          ],
          [
           0.2784313725490196,
           "#5c39ff"
          ],
          [
           0.2823529411764706,
           "#5e3bff"
          ],
          [
           0.28627450980392155,
           "#5f3cff"
          ],
          [
           0.2901960784313726,
           "#603eff"
          ],
          [
           0.29411764705882354,
           "#6240ff"
          ],
          [
           0.2980392156862745,
           "#6341ff"
          ],
          [
           0.30196078431372547,
           "#6544ff"
          ],
          [
           0.3058823529411765,
           "#6849ff"
          ],
          [
           0.30980392156862746,
           "#6b4dff"
          ],
          [
           0.3137254901960784,
           "#6e51ff"
          ],
          [
           0.3176470588235294,
           "#7156ff"
          ],
          [
           0.3215686274509804,
           "#745aff"
          ],
          [
           0.3254901960784314,
           "#775eff"
          ],
          [
           0.32941176470588235,
           "#7a63ff"
          ],
          [
           0.3333333333333333,
           "#7d67ff"
          ],
          [
           0.33725490196078434,
           "#806bff"
          ],
          [
           0.3411764705882353,
           "#836fff"
          ],
          [
           0.34509803921568627,
           "#8674ff"
          ],
          [
           0.34901960784313724,
           "#8978ff"
          ],
          [
           0.35294117647058826,
           "#8c7cff"
          ],
          [
           0.3568627450980392,
           "#8f81ff"
          ],
          [
           0.3607843137254902,
           "#9285ff"
          ],
          [
           0.36470588235294116,
           "#9589ff"
          ],
          [
           0.3686274509803922,
           "#988eff"
          ],
          [
           0.37254901960784315,
           "#9b92ff"
          ],
          [
           0.3764705882352941,
           "#9e96ff"
          ],
          [
           0.3803921568627451,
           "#a19aff"
          ],
          [
           0.3843137254901961,
           "#a49fff"
          ],
          [
           0.38823529411764707,
           "#a7a3ff"
          ],
          [
           0.39215686274509803,
           "#aaa7ff"
          ],
          [
           0.396078431372549,
           "#adacff"
          ],
          [
           0.4,
           "#b0b0ff"
          ],
          [
           0.403921568627451,
           "#b3b3ff"
          ],
          [
           0.40784313725490196,
           "#b6b6ff"
          ],
          [
           0.4117647058823529,
           "#b9b9ff"
          ],
          [
           0.41568627450980394,
           "#bcbcff"
          ],
          [
           0.4196078431372549,
           "#bfbfff"
          ],
          [
           0.4235294117647059,
           "#c3c3ff"
          ],
          [
           0.42745098039215684,
           "#c6c6ff"
          ],
          [
           0.43137254901960786,
           "#c9c9ff"
          ],
          [
           0.43529411764705883,
           "#ccccff"
          ],
          [
           0.4392156862745098,
           "#cfcfff"
          ],
          [
           0.44313725490196076,
           "#d2d2ff"
          ],
          [
           0.4470588235294118,
           "#d5d5ff"
          ],
          [
           0.45098039215686275,
           "#d8d8ff"
          ],
          [
           0.4549019607843137,
           "#dbdbff"
          ],
          [
           0.4588235294117647,
           "#dedeff"
          ],
          [
           0.4627450980392157,
           "#e2e2ff"
          ],
          [
           0.4666666666666667,
           "#e5e5ff"
          ],
          [
           0.47058823529411764,
           "#e8e8ff"
          ],
          [
           0.4745098039215686,
           "#ebebff"
          ],
          [
           0.47843137254901963,
           "#eeeeff"
          ],
          [
           0.4823529411764706,
           "#f1f1ff"
          ],
          [
           0.48627450980392156,
           "#f4f4ff"
          ],
          [
           0.49019607843137253,
           "#f7f7ff"
          ],
          [
           0.49411764705882355,
           "#fafaff"
          ],
          [
           0.4980392156862745,
           "#fdfdff"
          ],
          [
           0.5019607843137255,
           "#fffdfd"
          ],
          [
           0.5058823529411764,
           "#fffafa"
          ],
          [
           0.5098039215686274,
           "#fff7f7"
          ],
          [
           0.5137254901960784,
           "#fff4f4"
          ],
          [
           0.5176470588235295,
           "#fff1f1"
          ],
          [
           0.5215686274509804,
           "#ffeeee"
          ],
          [
           0.5254901960784314,
           "#ffebeb"
          ],
          [
           0.5294117647058824,
           "#ffe8e8"
          ],
          [
           0.5333333333333333,
           "#ffe5e5"
          ],
          [
           0.5372549019607843,
           "#ffe2e2"
          ],
          [
           0.5411764705882353,
           "#ffdede"
          ],
          [
           0.5450980392156862,
           "#ffdbdb"
          ],
          [
           0.5490196078431373,
           "#ffd8d8"
          ],
          [
           0.5529411764705883,
           "#ffd5d5"
          ],
          [
           0.5568627450980392,
           "#ffd2d2"
          ],
          [
           0.5607843137254902,
           "#ffcfcf"
          ],
          [
           0.5647058823529412,
           "#ffcccc"
          ],
          [
           0.5686274509803921,
           "#ffc9c9"
          ],
          [
           0.5725490196078431,
           "#ffc6c6"
          ],
          [
           0.5764705882352941,
           "#ffc3c3"
          ],
          [
           0.5803921568627451,
           "#ffbfbf"
          ],
          [
           0.5843137254901961,
           "#ffbcbc"
          ],
          [
           0.5882352941176471,
           "#ffb9b9"
          ],
          [
           0.592156862745098,
           "#ffb6b6"
          ],
          [
           0.596078431372549,
           "#ffb3b3"
          ],
          [
           0.6,
           "#ffb0b0"
          ],
          [
           0.6039215686274509,
           "#ffacad"
          ],
          [
           0.6078431372549019,
           "#ffa7aa"
          ],
          [
           0.611764705882353,
           "#ffa3a7"
          ],
          [
           0.615686274509804,
           "#ff9fa4"
          ],
          [
           0.6196078431372549,
           "#ff9aa1"
          ],
          [
           0.6235294117647059,
           "#ff969e"
          ],
          [
           0.6274509803921569,
           "#ff929b"
          ],
          [
           0.6313725490196078,
           "#ff8e98"
          ],
          [
           0.6352941176470588,
           "#ff8995"
          ],
          [
           0.6392156862745098,
           "#ff8592"
          ],
          [
           0.6431372549019608,
           "#ff818f"
          ],
          [
           0.6470588235294118,
           "#ff7c8c"
          ],
          [
           0.6509803921568628,
           "#ff7889"
          ],
          [
           0.6549019607843137,
           "#ff7486"
          ],
          [
           0.6588235294117647,
           "#ff6f83"
          ],
          [
           0.6627450980392157,
           "#ff6b80"
          ],
          [
           0.6666666666666666,
           "#ff677d"
          ],
          [
           0.6705882352941176,
           "#ff637a"
          ],
          [
           0.6745098039215687,
           "#ff5e77"
          ],
          [
           0.6784313725490196,
           "#ff5a74"
          ],
          [
           0.6823529411764706,
           "#ff5671"
          ],
          [
           0.6862745098039216,
           "#ff516e"
          ],
          [
           0.6901960784313725,
           "#ff4d6b"
          ],
          [
           0.6941176470588235,
           "#ff4968"
          ],
          [
           0.6980392156862745,
           "#ff4465"
          ],
          [
           0.7019607843137254,
           "#ff4163"
          ],
          [
           0.7058823529411765,
           "#ff4062"
          ],
          [
           0.7098039215686275,
           "#ff3e60"
          ],
          [
           0.7137254901960784,
           "#ff3c5f"
          ],
          [
           0.7176470588235294,
           "#ff3b5e"
          ],
          [
           0.7215686274509804,
           "#ff395c"
          ],
          [
           0.7254901960784313,
           "#ff375b"
          ],
          [
           0.7294117647058823,
           "#ff365a"
          ],
          [
           0.7333333333333333,
           "#ff3458"
          ],
          [
           0.7372549019607844,
           "#ff3257"
          ],
          [
           0.7411764705882353,
           "#ff3056"
          ],
          [
           0.7450980392156863,
           "#ff2f55"
          ],
          [
           0.7490196078431373,
           "#ff2d53"
          ],
          [
           0.7529411764705882,
           "#ff2b52"
          ],
          [
           0.7568627450980392,
           "#ff2a51"
          ],
          [
           0.7607843137254902,
           "#ff284f"
          ],
          [
           0.7647058823529411,
           "#ff264e"
          ],
          [
           0.7686274509803922,
           "#ff254d"
          ],
          [
           0.7725490196078432,
           "#ff234b"
          ],
          [
           0.7764705882352941,
           "#ff214a"
          ],
          [
           0.7803921568627451,
           "#ff1f49"
          ],
          [
           0.7843137254901961,
           "#ff1e48"
          ],
          [
           0.788235294117647,
           "#ff1c46"
          ],
          [
           0.792156862745098,
           "#ff1a45"
          ],
          [
           0.796078431372549,
           "#ff1944"
          ],
          [
           0.8,
           "#ff1742"
          ],
          [
           0.803921568627451,
           "#ff1842"
          ],
          [
           0.807843137254902,
           "#ff1842"
          ],
          [
           0.8117647058823529,
           "#ff1942"
          ],
          [
           0.8156862745098039,
           "#ff1a42"
          ],
          [
           0.8196078431372549,
           "#ff1a42"
          ],
          [
           0.8235294117647058,
           "#ff1b42"
          ],
          [
           0.8274509803921568,
           "#ff1c42"
          ],
          [
           0.8313725490196079,
           "#ff1d42"
          ],
          [
           0.8352941176470589,
           "#ff1d42"
          ],
          [
           0.8392156862745098,
           "#ff1e42"
          ],
          [
           0.8431372549019608,
           "#ff1f42"
          ],
          [
           0.8470588235294118,
           "#ff1f42"
          ],
          [
           0.8509803921568627,
           "#ff2042"
          ],
          [
           0.8549019607843137,
           "#ff2142"
          ],
          [
           0.8588235294117647,
           "#ff2142"
          ],
          [
           0.8627450980392157,
           "#ff2242"
          ],
          [
           0.8666666666666667,
           "#ff2342"
          ],
          [
           0.8705882352941177,
           "#ff2442"
          ],
          [
           0.8745098039215686,
           "#ff2442"
          ],
          [
           0.8784313725490196,
           "#ff2542"
          ],
          [
           0.8823529411764706,
           "#ff2642"
          ],
          [
           0.8862745098039215,
           "#ff2642"
          ],
          [
           0.8901960784313725,
           "#ff2742"
          ],
          [
           0.8941176470588236,
           "#ff2842"
          ],
          [
           0.8980392156862745,
           "#ff2842"
          ],
          [
           0.9019607843137255,
           "#ff2942"
          ],
          [
           0.9058823529411765,
           "#ff2a42"
          ],
          [
           0.9098039215686274,
           "#ff2b42"
          ],
          [
           0.9137254901960784,
           "#ff2c42"
          ],
          [
           0.9176470588235294,
           "#ff2d42"
          ],
          [
           0.9215686274509803,
           "#ff2e42"
          ],
          [
           0.9254901960784314,
           "#ff2f42"
          ],
          [
           0.9294117647058824,
           "#ff3042"
          ],
          [
           0.9333333333333333,
           "#ff3142"
          ],
          [
           0.9372549019607843,
           "#ff3242"
          ],
          [
           0.9411764705882353,
           "#ff3342"
          ],
          [
           0.9450980392156862,
           "#ff3442"
          ],
          [
           0.9490196078431372,
           "#ff3542"
          ],
          [
           0.9529411764705882,
           "#ff3642"
          ],
          [
           0.9568627450980393,
           "#ff3742"
          ],
          [
           0.9607843137254902,
           "#ff3842"
          ],
          [
           0.9647058823529412,
           "#ff3942"
          ],
          [
           0.9686274509803922,
           "#ff3a42"
          ],
          [
           0.9725490196078431,
           "#ff3b42"
          ],
          [
           0.9764705882352941,
           "#ff3c42"
          ],
          [
           0.9803921568627451,
           "#ff3d42"
          ],
          [
           0.984313725490196,
           "#ff3e42"
          ],
          [
           0.9882352941176471,
           "#ff3f42"
          ],
          [
           0.9921568627450981,
           "#ff4042"
          ],
          [
           0.996078431372549,
           "#ff4142"
          ],
          [
           1,
           "#ff4242"
          ]
         ],
         "showscale": false,
         "type": "heatmap",
         "uid": "5049a581-d699-4ed5-b0e3-6fe6ee71acda",
         "x": [
          "Column 9",
          "Column 4",
          "Column 11",
          "Column 7",
          "Column 2",
          "Column 0",
          "Column 5",
          "Column 13",
          "Column 15",
          "Column 12",
          "Column 8",
          "Column 3",
          "Column 6",
          "Column 10",
          "Column 14",
          "Column 1"
         ],
         "y": [
          "Continuous Index 2",
          "Continuous Index 1",
          "Continuous Index 0"
         ],
         "yaxis": "y3",
         "z": [
          [
           1.1321777481262767,
           1.090544364635646,
           0.6776172882519337,
           -1.845089940437511,
           -1.189449920576098,
           -0.45500155947316506,
           0.3132975336343931,
           1.387806244529295,
           -1.2841164390247635,
           -0.8965518270706204,
           -0.48337473075260345,
           1.0365438170480272,
           0.7656999648843131,
           0.892664135580446,
           -0.9048855500633353,
           -0.23788112929223718
          ],
          [
           0.6354476380780527,
           0.8885197470522594,
           -0.8571305942935024,
           -0.7508791984130959,
           -1.222868093528208,
           1.431397498483208,
           -1.0046580801102944,
           1.7409747378168665,
           0.4133229326559953,
           -0.4278699708512504,
           1.2266649551626636,
           -0.4082654463878111,
           1.0503390960134404,
           -1.2165488764581103,
           -0.43902951707917554,
           -1.0594168281410388
          ],
          [
           1.0537018495269348,
           -0.15470350944046754,
           -0.7855612019625319,
           -0.34684441135388583,
           -1.4442117871947415,
           1.592637679004302,
           0.42904058686337926,
           -1.0156210168214588,
           -0.037043312727591225,
           -1.110542151128618,
           1.266083299618601,
           -1.38885759268118,
           0.39305256954487605,
           1.3289935217180575,
           0.9985074668572294,
           -0.7786319898229074
          ]
         ],
         "zmax": 1.7409747378168665,
         "zmin": -1.845089940437511
        },
        {
         "colorscale": [
          [
           0,
           "#20d9ba"
          ],
          [
           0.125,
           "#9017e6"
          ],
          [
           0.25,
           "#ff1968"
          ],
          [
           0.375,
           "#ffe119"
          ],
          [
           0.5,
           "#3cb44b"
          ],
          [
           0.625,
           "#4e41d8"
          ],
          [
           0.75,
           "#ffa400"
          ],
          [
           0.875,
           "#aaffc3"
          ],
          [
           1,
           "#800000"
          ]
         ],
         "showscale": false,
         "type": "heatmap",
         "uid": "ddd16fba-f299-4086-95ee-9a4f529b1ab7",
         "x": [
          "Column 9",
          "Column 4",
          "Column 11",
          "Column 7",
          "Column 2",
          "Column 0",
          "Column 5",
          "Column 13",
          "Column 15",
          "Column 12",
          "Column 8",
          "Column 3",
          "Column 6",
          "Column 10",
          "Column 14",
          "Column 1"
         ],
         "y": [
          "Categorical Index 2",
          "Categorical Index 1",
          "Categorical Index 0"
         ],
         "yaxis": "y2",
         "z": [
          [
           5,
           7,
           8,
           2,
           0,
           5,
           6,
           3,
           6,
           1,
           2,
           8,
           7,
           6,
           1,
           8
          ],
          [
           0,
           1,
           6,
           7,
           7,
           6,
           6,
           3,
           5,
           7,
           4,
           7,
           5,
           1,
           7,
           7
          ],
          [
           1,
           7,
           0,
           7,
           4,
           5,
           5,
           4,
           7,
           6,
           5,
           6,
           8,
           6,
           1,
           7
          ]
         ]
        },
        {
         "colorscale": [
          [
           0,
           "#ebf6f7"
          ],
          [
           1,
           "#171412"
          ]
         ],
         "showscale": false,
         "type": "heatmap",
         "uid": "a2b7e586-24ff-49d5-b2bd-1b7758279329",
         "x": [
          "Column 9",
          "Column 4",
          "Column 11",
          "Column 7",
          "Column 2",
          "Column 0",
          "Column 5",
          "Column 13",
          "Column 15",
          "Column 12",
          "Column 8",
          "Column 3",
          "Column 6",
          "Column 10",
          "Column 14",
          "Column 1"
         ],
         "y": [
          "Binary Index 2",
          "Binary Index 1",
          "Binary Index 0"
         ],
         "yaxis": "y",
         "z": [
          [
           0,
           1,
           0,
           0,
           1,
           1,
           0,
           1,
           0,
           1,
           0,
           1,
           0,
           0,
           0,
           0
          ],
          [
           0,
           1,
           0,
           1,
           1,
           1,
           1,
           0,
           0,
           0,
           0,
           0,
           0,
           1,
           0,
           1
          ],
          [
           0,
           0,
           0,
           0,
           1,
           0,
           0,
           0,
           1,
           0,
           1,
           0,
           1,
           1,
           0,
           1
          ]
         ]
        }
       ],
       "layout": {
        "annotations": [
         {
          "font": {
           "size": 9.6
          },
          "showarrow": false,
          "text": "<b>Continuous features</b>",
          "x": 0.5,
          "xanchor": "center",
          "xref": "paper",
          "y": 0.9285714285714285,
          "yanchor": "middle",
          "yref": "paper"
         },
         {
          "font": {
           "size": 9.6
          },
          "showarrow": false,
          "text": "<b>Cotinuous features (missing last 10 & scores ascending)</b>",
          "x": 0.5,
          "xanchor": "center",
          "xref": "paper",
          "y": 0.738095238095238,
          "yanchor": "middle",
          "yref": "paper"
         },
         {
          "font": {
           "size": 9.6
          },
          "showarrow": false,
          "text": "<b>Cotinuous features (missing first 10 & scores ascending)</b>",
          "x": 0.5,
          "xanchor": "center",
          "xref": "paper",
          "y": 0.5476190476190476,
          "yanchor": "middle",
          "yref": "paper"
         },
         {
          "font": {
           "size": 9.6
          },
          "showarrow": false,
          "text": "<b>Categorical features</b>",
          "x": 0.5,
          "xanchor": "center",
          "xref": "paper",
          "y": 0.3571428571428571,
          "yanchor": "middle",
          "yref": "paper"
         },
         {
          "font": {
           "size": 9.6
          },
          "showarrow": false,
          "text": "<b>Binary features</b>",
          "x": 0.5,
          "xanchor": "center",
          "xref": "paper",
          "y": 0.1666666666666666,
          "yanchor": "middle",
          "yref": "paper"
         }
        ],
        "height": 672,
        "margin": {
         "l": 196,
         "r": 196
        },
        "title": "Summary Match Panel",
        "width": 880,
        "xaxis": {
         "anchor": "y"
        },
        "yaxis": {
         "domain": [
          0,
          0.1428571428571428
         ],
         "dtick": 1,
         "tickfont": {
          "size": 9.6
         }
        },
        "yaxis2": {
         "domain": [
          0.1904761904761904,
          0.33333333333333326
         ],
         "dtick": 1,
         "tickfont": {
          "size": 9.6
         }
        },
        "yaxis3": {
         "domain": [
          0.3809523809523809,
          0.5238095238095237
         ],
         "dtick": 1,
         "tickfont": {
          "size": 9.6
         }
        },
        "yaxis4": {
         "domain": [
          0.5714285714285714,
          0.7142857142857142
         ],
         "dtick": 1,
         "tickfont": {
          "size": 9.6
         }
        },
        "yaxis5": {
         "domain": [
          0.7619047619047619,
          0.9047619047619047
         ],
         "dtick": 1,
         "tickfont": {
          "size": 9.6
         }
        },
        "yaxis6": {
         "domain": [
          0.9523809523809523,
          1
         ],
         "tickfont": {
          "size": 9.6
         }
        }
       }
      }
     },
     "metadata": {},
     "output_type": "display_data"
    },
    {
     "ename": "ValueError",
     "evalue": "Length mismatch: Expected axis has 24 elements, new values have 16 elements",
     "output_type": "error",
     "traceback": [
      "\u001b[0;31m---------------------------------------------------------------------------\u001b[0m",
      "\u001b[0;31mValueError\u001b[0m                                Traceback (most recent call last)",
      "\u001b[0;32m<ipython-input-10-4e93ca09499a>\u001b[0m in \u001b[0;36m<module>\u001b[0;34m\u001b[0m\n\u001b[1;32m     92\u001b[0m     \u001b[0mtarget\u001b[0m\u001b[0;34m.\u001b[0m\u001b[0mname\u001b[0m \u001b[0;34m=\u001b[0m \u001b[0;34m'Target'\u001b[0m\u001b[0;34m\u001b[0m\u001b[0m\n\u001b[1;32m     93\u001b[0m \u001b[0;34m\u001b[0m\u001b[0m\n\u001b[0;32m---> 94\u001b[0;31m     \u001b[0mtarget\u001b[0m\u001b[0;34m.\u001b[0m\u001b[0mindex\u001b[0m \u001b[0;34m=\u001b[0m \u001b[0;34m(\u001b[0m\u001b[0;34m'Column {}'\u001b[0m\u001b[0;34m.\u001b[0m\u001b[0mformat\u001b[0m\u001b[0;34m(\u001b[0m\u001b[0mi\u001b[0m\u001b[0;34m)\u001b[0m \u001b[0;32mfor\u001b[0m \u001b[0mi\u001b[0m \u001b[0;32min\u001b[0m \u001b[0mrange\u001b[0m\u001b[0;34m(\u001b[0m\u001b[0mn_column\u001b[0m\u001b[0;34m)\u001b[0m\u001b[0;34m)\u001b[0m\u001b[0;34m\u001b[0m\u001b[0m\n\u001b[0m\u001b[1;32m     95\u001b[0m \u001b[0;34m\u001b[0m\u001b[0m\n\u001b[1;32m     96\u001b[0m     make_summary_match_panel(\n",
      "\u001b[0;32m~/miniconda3/lib/python3.6/site-packages/pandas/core/generic.py\u001b[0m in \u001b[0;36m__setattr__\u001b[0;34m(self, name, value)\u001b[0m\n\u001b[1;32m   4387\u001b[0m         \u001b[0;32mtry\u001b[0m\u001b[0;34m:\u001b[0m\u001b[0;34m\u001b[0m\u001b[0m\n\u001b[1;32m   4388\u001b[0m             \u001b[0mobject\u001b[0m\u001b[0;34m.\u001b[0m\u001b[0m__getattribute__\u001b[0m\u001b[0;34m(\u001b[0m\u001b[0mself\u001b[0m\u001b[0;34m,\u001b[0m \u001b[0mname\u001b[0m\u001b[0;34m)\u001b[0m\u001b[0;34m\u001b[0m\u001b[0m\n\u001b[0;32m-> 4389\u001b[0;31m             \u001b[0;32mreturn\u001b[0m \u001b[0mobject\u001b[0m\u001b[0;34m.\u001b[0m\u001b[0m__setattr__\u001b[0m\u001b[0;34m(\u001b[0m\u001b[0mself\u001b[0m\u001b[0;34m,\u001b[0m \u001b[0mname\u001b[0m\u001b[0;34m,\u001b[0m \u001b[0mvalue\u001b[0m\u001b[0;34m)\u001b[0m\u001b[0;34m\u001b[0m\u001b[0m\n\u001b[0m\u001b[1;32m   4390\u001b[0m         \u001b[0;32mexcept\u001b[0m \u001b[0mAttributeError\u001b[0m\u001b[0;34m:\u001b[0m\u001b[0;34m\u001b[0m\u001b[0m\n\u001b[1;32m   4391\u001b[0m             \u001b[0;32mpass\u001b[0m\u001b[0;34m\u001b[0m\u001b[0m\n",
      "\u001b[0;32mpandas/_libs/properties.pyx\u001b[0m in \u001b[0;36mpandas._libs.properties.AxisProperty.__set__\u001b[0;34m()\u001b[0m\n",
      "\u001b[0;32m~/miniconda3/lib/python3.6/site-packages/pandas/core/series.py\u001b[0m in \u001b[0;36m_set_axis\u001b[0;34m(self, axis, labels, fastpath)\u001b[0m\n\u001b[1;32m    387\u001b[0m         \u001b[0mobject\u001b[0m\u001b[0;34m.\u001b[0m\u001b[0m__setattr__\u001b[0m\u001b[0;34m(\u001b[0m\u001b[0mself\u001b[0m\u001b[0;34m,\u001b[0m \u001b[0;34m'_index'\u001b[0m\u001b[0;34m,\u001b[0m \u001b[0mlabels\u001b[0m\u001b[0;34m)\u001b[0m\u001b[0;34m\u001b[0m\u001b[0m\n\u001b[1;32m    388\u001b[0m         \u001b[0;32mif\u001b[0m \u001b[0;32mnot\u001b[0m \u001b[0mfastpath\u001b[0m\u001b[0;34m:\u001b[0m\u001b[0;34m\u001b[0m\u001b[0m\n\u001b[0;32m--> 389\u001b[0;31m             \u001b[0mself\u001b[0m\u001b[0;34m.\u001b[0m\u001b[0m_data\u001b[0m\u001b[0;34m.\u001b[0m\u001b[0mset_axis\u001b[0m\u001b[0;34m(\u001b[0m\u001b[0maxis\u001b[0m\u001b[0;34m,\u001b[0m \u001b[0mlabels\u001b[0m\u001b[0;34m)\u001b[0m\u001b[0;34m\u001b[0m\u001b[0m\n\u001b[0m\u001b[1;32m    390\u001b[0m \u001b[0;34m\u001b[0m\u001b[0m\n\u001b[1;32m    391\u001b[0m     \u001b[0;32mdef\u001b[0m \u001b[0m_set_subtyp\u001b[0m\u001b[0;34m(\u001b[0m\u001b[0mself\u001b[0m\u001b[0;34m,\u001b[0m \u001b[0mis_all_dates\u001b[0m\u001b[0;34m)\u001b[0m\u001b[0;34m:\u001b[0m\u001b[0;34m\u001b[0m\u001b[0m\n",
      "\u001b[0;32m~/miniconda3/lib/python3.6/site-packages/pandas/core/internals.py\u001b[0m in \u001b[0;36mset_axis\u001b[0;34m(self, axis, new_labels)\u001b[0m\n\u001b[1;32m   3321\u001b[0m             raise ValueError(\n\u001b[1;32m   3322\u001b[0m                 \u001b[0;34m'Length mismatch: Expected axis has {old} elements, new '\u001b[0m\u001b[0;34m\u001b[0m\u001b[0m\n\u001b[0;32m-> 3323\u001b[0;31m                 'values have {new} elements'.format(old=old_len, new=new_len))\n\u001b[0m\u001b[1;32m   3324\u001b[0m \u001b[0;34m\u001b[0m\u001b[0m\n\u001b[1;32m   3325\u001b[0m         \u001b[0mself\u001b[0m\u001b[0;34m.\u001b[0m\u001b[0maxes\u001b[0m\u001b[0;34m[\u001b[0m\u001b[0maxis\u001b[0m\u001b[0;34m]\u001b[0m \u001b[0;34m=\u001b[0m \u001b[0mnew_labels\u001b[0m\u001b[0;34m\u001b[0m\u001b[0m\n",
      "\u001b[0;31mValueError\u001b[0m: Length mismatch: Expected axis has 24 elements, new values have 16 elements"
     ]
    }
   ],
   "source": [
    "from match.make_summary_match_panel import make_summary_match_panel\n",
    "\n",
    "\n",
    "n_index = 8\n",
    "\n",
    "n_column = 16\n",
    "\n",
    "features_continuous = pd.DataFrame(\n",
    "    np.random.random_sample(size=(\n",
    "        n_index,\n",
    "        n_column,\n",
    "    )),\n",
    "    index=('Continuous Index {}'.format(i) for i in range(n_index)),\n",
    "    columns=('Column {}'.format(i) for i in range(n_column)),\n",
    ")\n",
    "\n",
    "features_categorical = pd.DataFrame(\n",
    "    np.random.random_integers(\n",
    "        0,\n",
    "        9,\n",
    "        size=(\n",
    "            n_index,\n",
    "            n_column,\n",
    "        )),\n",
    "    index=('Categorical Index {}'.format(i) for i in range(n_index)),\n",
    "    columns=('Column {}'.format(i) for i in range(n_column)),\n",
    ")\n",
    "\n",
    "features_binary = pd.DataFrame(\n",
    "    np.random.random_integers(\n",
    "        0,\n",
    "        1,\n",
    "        size=(\n",
    "            n_index,\n",
    "            n_column,\n",
    "        )),\n",
    "    index=('Binary Index {}'.format(i) for i in range(n_index)),\n",
    "    columns=('Column {}'.format(i) for i in range(n_column)),\n",
    ")\n",
    "\n",
    "n = 3\n",
    "\n",
    "features_dict = {\n",
    "    'Continuous features': {\n",
    "        'df': features_continuous.iloc[:n, :],\n",
    "        'data_type': 'continuous',\n",
    "        'emphasis': 'high',\n",
    "    },\n",
    "    'Cotinuous features (missing last 10 & scores ascending)': {\n",
    "        'df': features_continuous.iloc[:n, :],\n",
    "        'data_type': 'continuous',\n",
    "        'emphasis': 'low',\n",
    "    },\n",
    "    'Cotinuous features (missing first 10 & scores ascending)': {\n",
    "        'df': features_continuous.iloc[:n, :],\n",
    "        'data_type': 'continuous',\n",
    "        'emphasis': 'low',\n",
    "    },\n",
    "    'Categorical features': {\n",
    "        'df': features_categorical.iloc[:n, :],\n",
    "        'data_type': 'categorical',\n",
    "        'emphasis': 'high',\n",
    "    },\n",
    "    'Binary features': {\n",
    "        'df': features_binary.iloc[:n, :],\n",
    "        'data_type': 'binary',\n",
    "        'emphasis': 'high',\n",
    "    },\n",
    "}\n",
    "\n",
    "score_moe_p_value_fdr = pd.DataFrame(\n",
    "    index=np.concatenate(tuple(feature_dict['df'].index for feature_dict in features_dict.values())),\n",
    "    columns=(\n",
    "        'Score',\n",
    "        '0.95 MoE',\n",
    "        'P-Value',\n",
    "        'FDR',\n",
    "    )\n",
    ")\n",
    "\n",
    "for target, target_type in (\n",
    "    (\n",
    "        pd.Series(np.random.random_sample(size=n_column)),\n",
    "        'continuous',\n",
    "    ),\n",
    "    (\n",
    "        pd.Series(('Aa', ) * 4 + ('Bb', ) * 4 + ('Cc', ) * 4 + ('Aa', ) * 4 + ('Bb', ) * 4 + ('Cc', ) * 4),\n",
    "        'categorical',\n",
    "    ),\n",
    "):\n",
    "    \n",
    "    target.name = 'Target'\n",
    "    \n",
    "    target.index = ('Column {}'.format(i) for i in range(n_column))\n",
    "\n",
    "    make_summary_match_panel(\n",
    "        target,\n",
    "        features_dict,\n",
    "        score_moe_p_value_fdr,\n",
    "        target_type=target_type,\n",
    "    )\n",
    "\n",
    "    make_summary_match_panel(\n",
    "        target,\n",
    "        features_dict,\n",
    "        score_moe_p_value_fdr,\n",
    "        target_type=target_type,\n",
    "        plot_only_columns_shared_by_target_and_all_features=True,\n",
    "    )"
   ]
  }
 ],
 "metadata": {
  "kernelspec": {
   "display_name": "Python 3",
   "language": "python",
   "name": "python3"
  },
  "language_info": {
   "codemirror_mode": {
    "name": "ipython",
    "version": 3
   },
   "file_extension": ".py",
   "mimetype": "text/x-python",
   "name": "python",
   "nbconvert_exporter": "python",
   "pygments_lexer": "ipython3",
   "version": "3.6.6"
  }
 },
 "nbformat": 4,
 "nbformat_minor": 2
}
