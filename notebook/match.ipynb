{
 "cells": [
  {
   "cell_type": "code",
   "execution_count": 1,
   "metadata": {
    "ExecuteTime": {
     "end_time": "2018-05-15T10:46:32.980916Z",
     "start_time": "2018-05-15T10:46:32.921267Z"
    }
   },
   "outputs": [],
   "source": [
    "%load_ext autoreload\n",
    "\n",
    "%autoreload 2"
   ]
  },
  {
   "cell_type": "code",
   "execution_count": 2,
   "metadata": {},
   "outputs": [],
   "source": [
    "import sys\n",
    "\n",
    "\n",
    "sys.path.insert(\n",
    "    0,\n",
    "    '..',\n",
    ")"
   ]
  },
  {
   "cell_type": "code",
   "execution_count": 3,
   "metadata": {
    "ExecuteTime": {
     "end_time": "2018-05-15T10:46:33.663868Z",
     "start_time": "2018-05-15T10:46:33.635143Z"
    }
   },
   "outputs": [],
   "source": [
    "import numpy as np\n",
    "import pandas as pd\n",
    "\n",
    "np.random.seed(20121020)"
   ]
  },
  {
   "cell_type": "code",
   "execution_count": 4,
   "metadata": {},
   "outputs": [
    {
     "data": {
      "text/html": [
       "<script type=\"text/javascript\">window.PlotlyConfig = {MathJaxConfig: 'local'};</script><script type=\"text/javascript\">if (window.MathJax) {MathJax.Hub.Config({SVG: {font: \"STIX-Web\"}});}</script><script>requirejs.config({paths: { 'plotly': ['https://cdn.plot.ly/plotly-latest.min']},});if(!window._Plotly) {require(['plotly'],function(plotly) {window._Plotly=plotly;});}</script>"
      ],
      "text/vnd.plotly.v1+html": [
       "<script type=\"text/javascript\">window.PlotlyConfig = {MathJaxConfig: 'local'};</script><script type=\"text/javascript\">if (window.MathJax) {MathJax.Hub.Config({SVG: {font: \"STIX-Web\"}});}</script><script>requirejs.config({paths: { 'plotly': ['https://cdn.plot.ly/plotly-latest.min']},});if(!window._Plotly) {require(['plotly'],function(plotly) {window._Plotly=plotly;});}</script>"
      ]
     },
     "metadata": {},
     "output_type": "display_data"
    }
   ],
   "source": [
    "import plotly as pl\n",
    "\n",
    "\n",
    "pl.offline.init_notebook_mode(connected=True)"
   ]
  },
  {
   "cell_type": "code",
   "execution_count": null,
   "metadata": {
    "scrolled": true
   },
   "outputs": [],
   "source": [
    "from match.make_comparison_panel import make_comparison_panel\n",
    "\n",
    "\n",
    "_2d_array_0 = np.random.random_sample(size=(\n",
    "    8,\n",
    "    2,\n",
    "))\n",
    "\n",
    "_2d_array_1 = np.random.random_sample(size=(\n",
    "    8,\n",
    "    4,\n",
    "))\n",
    "\n",
    "comparison = make_comparison_panel(\n",
    "    _2d_array_0,\n",
    "    _2d_array_1,\n",
    "    name_0='Name 0',\n",
    "    name_1='Name 1',\n",
    ")\n",
    "\n",
    "_2d_array_0 = np.random.random_sample(size=(\n",
    "    2,\n",
    "    16,\n",
    "))\n",
    "\n",
    "_2d_array_1 = np.random.random_sample(size=(\n",
    "    8,\n",
    "    16,\n",
    "))\n",
    "\n",
    "comparison = make_comparison_panel(\n",
    "    _2d_array_0,\n",
    "    _2d_array_1,\n",
    "    axis=1,\n",
    "    name_0='Name 0',\n",
    "    name_1='Name 1',\n",
    ")"
   ]
  },
  {
   "cell_type": "code",
   "execution_count": 17,
   "metadata": {
    "ExecuteTime": {
     "end_time": "2018-05-15T10:46:36.617163Z",
     "start_time": "2018-05-15T10:46:33.667703Z"
    }
   },
   "outputs": [],
   "source": [
    "from match.make_match_panel import make_match_panel"
   ]
  },
  {
   "cell_type": "code",
   "execution_count": null,
   "metadata": {
    "ExecuteTime": {
     "end_time": "2018-05-15T10:46:36.617163Z",
     "start_time": "2018-05-15T10:46:33.667703Z"
    }
   },
   "outputs": [],
   "source": [
    "for n_index, n_column in (\n",
    "    (\n",
    "        8,\n",
    "        2,\n",
    "    ),\n",
    "    (\n",
    "        8,\n",
    "        4,\n",
    "    ),\n",
    "    (\n",
    "        8,\n",
    "        16,\n",
    "    ),\n",
    "    (\n",
    "        8,\n",
    "        32,\n",
    "    ),\n",
    "    (\n",
    "        8,\n",
    "        160,\n",
    "    ),\n",
    "    (\n",
    "        8,\n",
    "        320,\n",
    "    ),\n",
    "    (\n",
    "        8,\n",
    "        1600,\n",
    "    ),\n",
    "    (\n",
    "        8,\n",
    "        3200,\n",
    "    ),\n",
    "    (\n",
    "        1,\n",
    "        8,\n",
    "    ),\n",
    "    (\n",
    "        2,\n",
    "        8,\n",
    "    ),\n",
    "    (\n",
    "        4,\n",
    "        8,\n",
    "    ),\n",
    "    (\n",
    "        16,\n",
    "        8,\n",
    "    ),\n",
    "    (\n",
    "        32,\n",
    "        8,\n",
    "    ),\n",
    "    (\n",
    "        64,\n",
    "        8,\n",
    "    ),\n",
    "    (\n",
    "        128,\n",
    "        8,\n",
    "    ),\n",
    "    (\n",
    "        320,\n",
    "        8,\n",
    "    ),\n",
    "    (\n",
    "        640,\n",
    "        8,\n",
    "    ),\n",
    "):\n",
    "\n",
    "    target = pd.Series(\n",
    "        np.random.random_sample(size=n_column),\n",
    "        name='Target',\n",
    "        index=('Column {}'.format(i) for i in range(n_column)),\n",
    "    )\n",
    "\n",
    "    features = pd.DataFrame(\n",
    "        np.random.random_sample(size=(\n",
    "            n_index,\n",
    "            n_column,\n",
    "        )),\n",
    "        index=('Index {}'.format(i) for i in range(n_index)),\n",
    "        columns=('Column {}'.format(i) for i in range(n_column)),\n",
    "    )\n",
    "    \n",
    "    score_moe_p_value_fdr = pd.DataFrame(\n",
    "        np.random.random_sample(size=(\n",
    "            features.shape[0],\n",
    "            4,\n",
    "        )),\n",
    "        index=('Index {}'.format(i) for i in range(n_index)),\n",
    "        columns=(\n",
    "            'Score',\n",
    "            '0.95 MoE',\n",
    "            'P-Value',\n",
    "            'FDR',\n",
    "        ),\n",
    "    )\n",
    "\n",
    "    score_moe_p_value_fdr = make_match_panel(\n",
    "        target,\n",
    "        features,\n",
    "        score_moe_p_value_fdr=score_moe_p_value_fdr,\n",
    "        extreme_feature_threshold=None,\n",
    "        title='{}-x-{} Match Panel'.format(\n",
    "            n_index,\n",
    "            n_column,\n",
    "        ),\n",
    "    )"
   ]
  },
  {
   "cell_type": "code",
   "execution_count": 23,
   "metadata": {
    "scrolled": true
   },
   "outputs": [
    {
     "name": "stdout",
     "output_type": "stream",
     "text": [
      "target.index (2) & features.columns (2) have 2 in common.\n",
      "Computing score using compute_information_coefficient with 1 process ...\n",
      "Computing MoE with 0 sampling ...\n",
      "[]\n"
     ]
    },
    {
     "name": "stderr",
     "output_type": "stream",
     "text": [
      "/home/kwatme/miniconda3/lib/python3.6/site-packages/numpy/core/_methods.py:140: RuntimeWarning:\n",
      "\n",
      "Degrees of freedom <= 0 for slice\n",
      "\n",
      "/home/kwatme/miniconda3/lib/python3.6/site-packages/numpy/core/_methods.py:110: RuntimeWarning:\n",
      "\n",
      "invalid value encountered in true_divide\n",
      "\n",
      "/home/kwatme/miniconda3/lib/python3.6/site-packages/numpy/core/_methods.py:132: RuntimeWarning:\n",
      "\n",
      "invalid value encountered in double_scalars\n",
      "\n"
     ]
    },
    {
     "name": "stdout",
     "output_type": "stream",
     "text": [
      "Computing p-value and FDR with 1 permutation ...\n"
     ]
    },
    {
     "name": "stderr",
     "output_type": "stream",
     "text": [
      "../match/make_match_panel.py:137: UserWarning:\n",
      "\n",
      "Not clustering because a category has less than 2 values.\n",
      "\n"
     ]
    },
    {
     "data": {
      "application/vnd.plotly.v1+json": {
       "data": [
        {
         "colorscale": [
          [
           0,
           "#ebf6f7"
          ],
          [
           1,
           "#171412"
          ]
         ],
         "showscale": false,
         "text": [
          [
           "Sample 0",
           "Sample 1"
          ]
         ],
         "type": "heatmap",
         "uid": "24f4d107-0e8a-454a-abc8-65346726868a",
         "x": [
          "Sample 0",
          "Sample 1"
         ],
         "y": [
          "Target"
         ],
         "yaxis": "y2",
         "z": [
          [
           0,
           2
          ]
         ]
        },
        {
         "colorscale": [
          [
           0,
           "#4242ff"
          ],
          [
           0.00392156862745098,
           "#4241ff"
          ],
          [
           0.00784313725490196,
           "#4240ff"
          ],
          [
           0.011764705882352941,
           "#423fff"
          ],
          [
           0.01568627450980392,
           "#423eff"
          ],
          [
           0.0196078431372549,
           "#423dff"
          ],
          [
           0.023529411764705882,
           "#423cff"
          ],
          [
           0.027450980392156862,
           "#423bff"
          ],
          [
           0.03137254901960784,
           "#423aff"
          ],
          [
           0.03529411764705882,
           "#4239ff"
          ],
          [
           0.0392156862745098,
           "#4238ff"
          ],
          [
           0.043137254901960784,
           "#4237ff"
          ],
          [
           0.047058823529411764,
           "#4236ff"
          ],
          [
           0.050980392156862744,
           "#4235ff"
          ],
          [
           0.054901960784313725,
           "#4234ff"
          ],
          [
           0.058823529411764705,
           "#4233ff"
          ],
          [
           0.06274509803921569,
           "#4232ff"
          ],
          [
           0.06666666666666667,
           "#4231ff"
          ],
          [
           0.07058823529411765,
           "#4230ff"
          ],
          [
           0.07450980392156863,
           "#422fff"
          ],
          [
           0.0784313725490196,
           "#422eff"
          ],
          [
           0.08235294117647059,
           "#422dff"
          ],
          [
           0.08627450980392157,
           "#422cff"
          ],
          [
           0.09019607843137255,
           "#422bff"
          ],
          [
           0.09411764705882353,
           "#422aff"
          ],
          [
           0.09803921568627451,
           "#4229ff"
          ],
          [
           0.10196078431372549,
           "#4228ff"
          ],
          [
           0.10588235294117647,
           "#4228ff"
          ],
          [
           0.10980392156862745,
           "#4227ff"
          ],
          [
           0.11372549019607843,
           "#4226ff"
          ],
          [
           0.11764705882352941,
           "#4226ff"
          ],
          [
           0.12156862745098039,
           "#4225ff"
          ],
          [
           0.12549019607843137,
           "#4224ff"
          ],
          [
           0.12941176470588237,
           "#4224ff"
          ],
          [
           0.13333333333333333,
           "#4223ff"
          ],
          [
           0.13725490196078433,
           "#4222ff"
          ],
          [
           0.1411764705882353,
           "#4221ff"
          ],
          [
           0.1450980392156863,
           "#4221ff"
          ],
          [
           0.14901960784313725,
           "#4220ff"
          ],
          [
           0.15294117647058825,
           "#421fff"
          ],
          [
           0.1568627450980392,
           "#421fff"
          ],
          [
           0.1607843137254902,
           "#421eff"
          ],
          [
           0.16470588235294117,
           "#421dff"
          ],
          [
           0.16862745098039217,
           "#421dff"
          ],
          [
           0.17254901960784313,
           "#421cff"
          ],
          [
           0.17647058823529413,
           "#421bff"
          ],
          [
           0.1803921568627451,
           "#421aff"
          ],
          [
           0.1843137254901961,
           "#421aff"
          ],
          [
           0.18823529411764706,
           "#4219ff"
          ],
          [
           0.19215686274509805,
           "#4218ff"
          ],
          [
           0.19607843137254902,
           "#4218ff"
          ],
          [
           0.2,
           "#4217ff"
          ],
          [
           0.20392156862745098,
           "#4419ff"
          ],
          [
           0.20784313725490197,
           "#451aff"
          ],
          [
           0.21176470588235294,
           "#461cff"
          ],
          [
           0.21568627450980393,
           "#481eff"
          ],
          [
           0.2196078431372549,
           "#491fff"
          ],
          [
           0.2235294117647059,
           "#4a21ff"
          ],
          [
           0.22745098039215686,
           "#4b23ff"
          ],
          [
           0.23137254901960785,
           "#4d25ff"
          ],
          [
           0.23529411764705882,
           "#4e26ff"
          ],
          [
           0.23921568627450981,
           "#4f28ff"
          ],
          [
           0.24313725490196078,
           "#512aff"
          ],
          [
           0.24705882352941178,
           "#522bff"
          ],
          [
           0.25098039215686274,
           "#532dff"
          ],
          [
           0.2549019607843137,
           "#542fff"
          ],
          [
           0.25882352941176473,
           "#5630ff"
          ],
          [
           0.2627450980392157,
           "#5732ff"
          ],
          [
           0.26666666666666666,
           "#5834ff"
          ],
          [
           0.27058823529411763,
           "#5a36ff"
          ],
          [
           0.27450980392156865,
           "#5b37ff"
          ],
          [
           0.2784313725490196,
           "#5c39ff"
          ],
          [
           0.2823529411764706,
           "#5e3bff"
          ],
          [
           0.28627450980392155,
           "#5f3cff"
          ],
          [
           0.2901960784313726,
           "#603eff"
          ],
          [
           0.29411764705882354,
           "#6240ff"
          ],
          [
           0.2980392156862745,
           "#6341ff"
          ],
          [
           0.30196078431372547,
           "#6544ff"
          ],
          [
           0.3058823529411765,
           "#6849ff"
          ],
          [
           0.30980392156862746,
           "#6b4dff"
          ],
          [
           0.3137254901960784,
           "#6e51ff"
          ],
          [
           0.3176470588235294,
           "#7156ff"
          ],
          [
           0.3215686274509804,
           "#745aff"
          ],
          [
           0.3254901960784314,
           "#775eff"
          ],
          [
           0.32941176470588235,
           "#7a63ff"
          ],
          [
           0.3333333333333333,
           "#7d67ff"
          ],
          [
           0.33725490196078434,
           "#806bff"
          ],
          [
           0.3411764705882353,
           "#836fff"
          ],
          [
           0.34509803921568627,
           "#8674ff"
          ],
          [
           0.34901960784313724,
           "#8978ff"
          ],
          [
           0.35294117647058826,
           "#8c7cff"
          ],
          [
           0.3568627450980392,
           "#8f81ff"
          ],
          [
           0.3607843137254902,
           "#9285ff"
          ],
          [
           0.36470588235294116,
           "#9589ff"
          ],
          [
           0.3686274509803922,
           "#988eff"
          ],
          [
           0.37254901960784315,
           "#9b92ff"
          ],
          [
           0.3764705882352941,
           "#9e96ff"
          ],
          [
           0.3803921568627451,
           "#a19aff"
          ],
          [
           0.3843137254901961,
           "#a49fff"
          ],
          [
           0.38823529411764707,
           "#a7a3ff"
          ],
          [
           0.39215686274509803,
           "#aaa7ff"
          ],
          [
           0.396078431372549,
           "#adacff"
          ],
          [
           0.4,
           "#b0b0ff"
          ],
          [
           0.403921568627451,
           "#b3b3ff"
          ],
          [
           0.40784313725490196,
           "#b6b6ff"
          ],
          [
           0.4117647058823529,
           "#b9b9ff"
          ],
          [
           0.41568627450980394,
           "#bcbcff"
          ],
          [
           0.4196078431372549,
           "#bfbfff"
          ],
          [
           0.4235294117647059,
           "#c3c3ff"
          ],
          [
           0.42745098039215684,
           "#c6c6ff"
          ],
          [
           0.43137254901960786,
           "#c9c9ff"
          ],
          [
           0.43529411764705883,
           "#ccccff"
          ],
          [
           0.4392156862745098,
           "#cfcfff"
          ],
          [
           0.44313725490196076,
           "#d2d2ff"
          ],
          [
           0.4470588235294118,
           "#d5d5ff"
          ],
          [
           0.45098039215686275,
           "#d8d8ff"
          ],
          [
           0.4549019607843137,
           "#dbdbff"
          ],
          [
           0.4588235294117647,
           "#dedeff"
          ],
          [
           0.4627450980392157,
           "#e2e2ff"
          ],
          [
           0.4666666666666667,
           "#e5e5ff"
          ],
          [
           0.47058823529411764,
           "#e8e8ff"
          ],
          [
           0.4745098039215686,
           "#ebebff"
          ],
          [
           0.47843137254901963,
           "#eeeeff"
          ],
          [
           0.4823529411764706,
           "#f1f1ff"
          ],
          [
           0.48627450980392156,
           "#f4f4ff"
          ],
          [
           0.49019607843137253,
           "#f7f7ff"
          ],
          [
           0.49411764705882355,
           "#fafaff"
          ],
          [
           0.4980392156862745,
           "#fdfdff"
          ],
          [
           0.5019607843137255,
           "#fffdfd"
          ],
          [
           0.5058823529411764,
           "#fffafa"
          ],
          [
           0.5098039215686274,
           "#fff7f7"
          ],
          [
           0.5137254901960784,
           "#fff4f4"
          ],
          [
           0.5176470588235295,
           "#fff1f1"
          ],
          [
           0.5215686274509804,
           "#ffeeee"
          ],
          [
           0.5254901960784314,
           "#ffebeb"
          ],
          [
           0.5294117647058824,
           "#ffe8e8"
          ],
          [
           0.5333333333333333,
           "#ffe5e5"
          ],
          [
           0.5372549019607843,
           "#ffe2e2"
          ],
          [
           0.5411764705882353,
           "#ffdede"
          ],
          [
           0.5450980392156862,
           "#ffdbdb"
          ],
          [
           0.5490196078431373,
           "#ffd8d8"
          ],
          [
           0.5529411764705883,
           "#ffd5d5"
          ],
          [
           0.5568627450980392,
           "#ffd2d2"
          ],
          [
           0.5607843137254902,
           "#ffcfcf"
          ],
          [
           0.5647058823529412,
           "#ffcccc"
          ],
          [
           0.5686274509803921,
           "#ffc9c9"
          ],
          [
           0.5725490196078431,
           "#ffc6c6"
          ],
          [
           0.5764705882352941,
           "#ffc3c3"
          ],
          [
           0.5803921568627451,
           "#ffbfbf"
          ],
          [
           0.5843137254901961,
           "#ffbcbc"
          ],
          [
           0.5882352941176471,
           "#ffb9b9"
          ],
          [
           0.592156862745098,
           "#ffb6b6"
          ],
          [
           0.596078431372549,
           "#ffb3b3"
          ],
          [
           0.6,
           "#ffb0b0"
          ],
          [
           0.6039215686274509,
           "#ffacad"
          ],
          [
           0.6078431372549019,
           "#ffa7aa"
          ],
          [
           0.611764705882353,
           "#ffa3a7"
          ],
          [
           0.615686274509804,
           "#ff9fa4"
          ],
          [
           0.6196078431372549,
           "#ff9aa1"
          ],
          [
           0.6235294117647059,
           "#ff969e"
          ],
          [
           0.6274509803921569,
           "#ff929b"
          ],
          [
           0.6313725490196078,
           "#ff8e98"
          ],
          [
           0.6352941176470588,
           "#ff8995"
          ],
          [
           0.6392156862745098,
           "#ff8592"
          ],
          [
           0.6431372549019608,
           "#ff818f"
          ],
          [
           0.6470588235294118,
           "#ff7c8c"
          ],
          [
           0.6509803921568628,
           "#ff7889"
          ],
          [
           0.6549019607843137,
           "#ff7486"
          ],
          [
           0.6588235294117647,
           "#ff6f83"
          ],
          [
           0.6627450980392157,
           "#ff6b80"
          ],
          [
           0.6666666666666666,
           "#ff677d"
          ],
          [
           0.6705882352941176,
           "#ff637a"
          ],
          [
           0.6745098039215687,
           "#ff5e77"
          ],
          [
           0.6784313725490196,
           "#ff5a74"
          ],
          [
           0.6823529411764706,
           "#ff5671"
          ],
          [
           0.6862745098039216,
           "#ff516e"
          ],
          [
           0.6901960784313725,
           "#ff4d6b"
          ],
          [
           0.6941176470588235,
           "#ff4968"
          ],
          [
           0.6980392156862745,
           "#ff4465"
          ],
          [
           0.7019607843137254,
           "#ff4163"
          ],
          [
           0.7058823529411765,
           "#ff4062"
          ],
          [
           0.7098039215686275,
           "#ff3e60"
          ],
          [
           0.7137254901960784,
           "#ff3c5f"
          ],
          [
           0.7176470588235294,
           "#ff3b5e"
          ],
          [
           0.7215686274509804,
           "#ff395c"
          ],
          [
           0.7254901960784313,
           "#ff375b"
          ],
          [
           0.7294117647058823,
           "#ff365a"
          ],
          [
           0.7333333333333333,
           "#ff3458"
          ],
          [
           0.7372549019607844,
           "#ff3257"
          ],
          [
           0.7411764705882353,
           "#ff3056"
          ],
          [
           0.7450980392156863,
           "#ff2f55"
          ],
          [
           0.7490196078431373,
           "#ff2d53"
          ],
          [
           0.7529411764705882,
           "#ff2b52"
          ],
          [
           0.7568627450980392,
           "#ff2a51"
          ],
          [
           0.7607843137254902,
           "#ff284f"
          ],
          [
           0.7647058823529411,
           "#ff264e"
          ],
          [
           0.7686274509803922,
           "#ff254d"
          ],
          [
           0.7725490196078432,
           "#ff234b"
          ],
          [
           0.7764705882352941,
           "#ff214a"
          ],
          [
           0.7803921568627451,
           "#ff1f49"
          ],
          [
           0.7843137254901961,
           "#ff1e48"
          ],
          [
           0.788235294117647,
           "#ff1c46"
          ],
          [
           0.792156862745098,
           "#ff1a45"
          ],
          [
           0.796078431372549,
           "#ff1944"
          ],
          [
           0.8,
           "#ff1742"
          ],
          [
           0.803921568627451,
           "#ff1842"
          ],
          [
           0.807843137254902,
           "#ff1842"
          ],
          [
           0.8117647058823529,
           "#ff1942"
          ],
          [
           0.8156862745098039,
           "#ff1a42"
          ],
          [
           0.8196078431372549,
           "#ff1a42"
          ],
          [
           0.8235294117647058,
           "#ff1b42"
          ],
          [
           0.8274509803921568,
           "#ff1c42"
          ],
          [
           0.8313725490196079,
           "#ff1d42"
          ],
          [
           0.8352941176470589,
           "#ff1d42"
          ],
          [
           0.8392156862745098,
           "#ff1e42"
          ],
          [
           0.8431372549019608,
           "#ff1f42"
          ],
          [
           0.8470588235294118,
           "#ff1f42"
          ],
          [
           0.8509803921568627,
           "#ff2042"
          ],
          [
           0.8549019607843137,
           "#ff2142"
          ],
          [
           0.8588235294117647,
           "#ff2142"
          ],
          [
           0.8627450980392157,
           "#ff2242"
          ],
          [
           0.8666666666666667,
           "#ff2342"
          ],
          [
           0.8705882352941177,
           "#ff2442"
          ],
          [
           0.8745098039215686,
           "#ff2442"
          ],
          [
           0.8784313725490196,
           "#ff2542"
          ],
          [
           0.8823529411764706,
           "#ff2642"
          ],
          [
           0.8862745098039215,
           "#ff2642"
          ],
          [
           0.8901960784313725,
           "#ff2742"
          ],
          [
           0.8941176470588236,
           "#ff2842"
          ],
          [
           0.8980392156862745,
           "#ff2842"
          ],
          [
           0.9019607843137255,
           "#ff2942"
          ],
          [
           0.9058823529411765,
           "#ff2a42"
          ],
          [
           0.9098039215686274,
           "#ff2b42"
          ],
          [
           0.9137254901960784,
           "#ff2c42"
          ],
          [
           0.9176470588235294,
           "#ff2d42"
          ],
          [
           0.9215686274509803,
           "#ff2e42"
          ],
          [
           0.9254901960784314,
           "#ff2f42"
          ],
          [
           0.9294117647058824,
           "#ff3042"
          ],
          [
           0.9333333333333333,
           "#ff3142"
          ],
          [
           0.9372549019607843,
           "#ff3242"
          ],
          [
           0.9411764705882353,
           "#ff3342"
          ],
          [
           0.9450980392156862,
           "#ff3442"
          ],
          [
           0.9490196078431372,
           "#ff3542"
          ],
          [
           0.9529411764705882,
           "#ff3642"
          ],
          [
           0.9568627450980393,
           "#ff3742"
          ],
          [
           0.9607843137254902,
           "#ff3842"
          ],
          [
           0.9647058823529412,
           "#ff3942"
          ],
          [
           0.9686274509803922,
           "#ff3a42"
          ],
          [
           0.9725490196078431,
           "#ff3b42"
          ],
          [
           0.9764705882352941,
           "#ff3c42"
          ],
          [
           0.9803921568627451,
           "#ff3d42"
          ],
          [
           0.984313725490196,
           "#ff3e42"
          ],
          [
           0.9882352941176471,
           "#ff3f42"
          ],
          [
           0.9921568627450981,
           "#ff4042"
          ],
          [
           0.996078431372549,
           "#ff4142"
          ],
          [
           1,
           "#ff4242"
          ]
         ],
         "showscale": false,
         "type": "heatmap",
         "uid": "e9e8d9ef-f542-4ff3-a14b-18623b7854ad",
         "x": [
          "Sample 0",
          "Sample 1"
         ],
         "y": [
          "Index 3",
          "Index 5",
          "Index 2",
          "Index 7",
          "Index 0",
          "Index 6",
          "Index 4",
          "Index 1"
         ],
         "yaxis": "y",
         "z": [
          [
           1.0000000000000013,
           -0.9999999999999988
          ],
          [
           1,
           -1
          ],
          [
           1,
           -1
          ],
          [
           1,
           -1
          ],
          [
           0.9999999999999982,
           -1.0000000000000018
          ],
          [
           -1,
           1
          ],
          [
           -1,
           1
          ],
          [
           -1,
           1
          ]
         ],
         "zmax": 1.0000000000000013,
         "zmin": -1.0000000000000018
        }
       ],
       "layout": {
        "annotations": [
         {
          "font": {
           "size": 9.6
          },
          "showarrow": false,
          "text": "<b>Score</b>",
          "width": 64,
          "x": 1.0016,
          "xanchor": "left",
          "xref": "paper",
          "y": 0.95,
          "yanchor": "middle",
          "yref": "paper"
         },
         {
          "font": {
           "size": 9.6
          },
          "showarrow": false,
          "text": "<b>0.86</b>",
          "width": 64,
          "x": 1.0016,
          "xanchor": "left",
          "xref": "paper",
          "y": 0.75,
          "yanchor": "middle",
          "yref": "paper"
         },
         {
          "font": {
           "size": 9.6
          },
          "showarrow": false,
          "text": "<b>0.86</b>",
          "width": 64,
          "x": 1.0016,
          "xanchor": "left",
          "xref": "paper",
          "y": 0.65,
          "yanchor": "middle",
          "yref": "paper"
         },
         {
          "font": {
           "size": 9.6
          },
          "showarrow": false,
          "text": "<b>0.86</b>",
          "width": 64,
          "x": 1.0016,
          "xanchor": "left",
          "xref": "paper",
          "y": 0.55,
          "yanchor": "middle",
          "yref": "paper"
         },
         {
          "font": {
           "size": 9.6
          },
          "showarrow": false,
          "text": "<b>-0.86</b>",
          "width": 64,
          "x": 1.0016,
          "xanchor": "left",
          "xref": "paper",
          "y": 0.45000000000000007,
          "yanchor": "middle",
          "yref": "paper"
         },
         {
          "font": {
           "size": 9.6
          },
          "showarrow": false,
          "text": "<b>-0.86</b>",
          "width": 64,
          "x": 1.0016,
          "xanchor": "left",
          "xref": "paper",
          "y": 0.3500000000000001,
          "yanchor": "middle",
          "yref": "paper"
         },
         {
          "font": {
           "size": 9.6
          },
          "showarrow": false,
          "text": "<b>-0.86</b>",
          "width": 64,
          "x": 1.0016,
          "xanchor": "left",
          "xref": "paper",
          "y": 0.2500000000000001,
          "yanchor": "middle",
          "yref": "paper"
         },
         {
          "font": {
           "size": 9.6
          },
          "showarrow": false,
          "text": "<b>-0.86</b>",
          "width": 64,
          "x": 1.0016,
          "xanchor": "left",
          "xref": "paper",
          "y": 0.1500000000000001,
          "yanchor": "middle",
          "yref": "paper"
         },
         {
          "font": {
           "size": 9.6
          },
          "showarrow": false,
          "text": "<b>-0.86</b>",
          "width": 64,
          "x": 1.0016,
          "xanchor": "left",
          "xref": "paper",
          "y": 0.0500000000000001,
          "yanchor": "middle",
          "yref": "paper"
         },
         {
          "font": {
           "size": 9.6
          },
          "showarrow": false,
          "text": "<b>P-Value</b>",
          "width": 64,
          "x": 1.1016000000000001,
          "xanchor": "left",
          "xref": "paper",
          "y": 0.95,
          "yanchor": "middle",
          "yref": "paper"
         },
         {
          "font": {
           "size": 9.6
          },
          "showarrow": false,
          "text": "<b>0.38</b>",
          "width": 64,
          "x": 1.1016000000000001,
          "xanchor": "left",
          "xref": "paper",
          "y": 0.75,
          "yanchor": "middle",
          "yref": "paper"
         },
         {
          "font": {
           "size": 9.6
          },
          "showarrow": false,
          "text": "<b>0.38</b>",
          "width": 64,
          "x": 1.1016000000000001,
          "xanchor": "left",
          "xref": "paper",
          "y": 0.65,
          "yanchor": "middle",
          "yref": "paper"
         },
         {
          "font": {
           "size": 9.6
          },
          "showarrow": false,
          "text": "<b>0.38</b>",
          "width": 64,
          "x": 1.1016000000000001,
          "xanchor": "left",
          "xref": "paper",
          "y": 0.55,
          "yanchor": "middle",
          "yref": "paper"
         },
         {
          "font": {
           "size": 9.6
          },
          "showarrow": false,
          "text": "<b>0.38</b>",
          "width": 64,
          "x": 1.1016000000000001,
          "xanchor": "left",
          "xref": "paper",
          "y": 0.45000000000000007,
          "yanchor": "middle",
          "yref": "paper"
         },
         {
          "font": {
           "size": 9.6
          },
          "showarrow": false,
          "text": "<b>0.38</b>",
          "width": 64,
          "x": 1.1016000000000001,
          "xanchor": "left",
          "xref": "paper",
          "y": 0.3500000000000001,
          "yanchor": "middle",
          "yref": "paper"
         },
         {
          "font": {
           "size": 9.6
          },
          "showarrow": false,
          "text": "<b>0.38</b>",
          "width": 64,
          "x": 1.1016000000000001,
          "xanchor": "left",
          "xref": "paper",
          "y": 0.2500000000000001,
          "yanchor": "middle",
          "yref": "paper"
         },
         {
          "font": {
           "size": 9.6
          },
          "showarrow": false,
          "text": "<b>0.38</b>",
          "width": 64,
          "x": 1.1016000000000001,
          "xanchor": "left",
          "xref": "paper",
          "y": 0.1500000000000001,
          "yanchor": "middle",
          "yref": "paper"
         },
         {
          "font": {
           "size": 9.6
          },
          "showarrow": false,
          "text": "<b>0.12</b>",
          "width": 64,
          "x": 1.1016000000000001,
          "xanchor": "left",
          "xref": "paper",
          "y": 0.0500000000000001,
          "yanchor": "middle",
          "yref": "paper"
         },
         {
          "font": {
           "size": 9.6
          },
          "showarrow": false,
          "text": "<b>FDR</b>",
          "width": 64,
          "x": 1.2016,
          "xanchor": "left",
          "xref": "paper",
          "y": 0.95,
          "yanchor": "middle",
          "yref": "paper"
         },
         {
          "font": {
           "size": 9.6
          },
          "showarrow": false,
          "text": "<b>0.88</b>",
          "width": 64,
          "x": 1.2016,
          "xanchor": "left",
          "xref": "paper",
          "y": 0.75,
          "yanchor": "middle",
          "yref": "paper"
         },
         {
          "font": {
           "size": 9.6
          },
          "showarrow": false,
          "text": "<b>0.88</b>",
          "width": 64,
          "x": 1.2016,
          "xanchor": "left",
          "xref": "paper",
          "y": 0.65,
          "yanchor": "middle",
          "yref": "paper"
         },
         {
          "font": {
           "size": 9.6
          },
          "showarrow": false,
          "text": "<b>0.88</b>",
          "width": 64,
          "x": 1.2016,
          "xanchor": "left",
          "xref": "paper",
          "y": 0.55,
          "yanchor": "middle",
          "yref": "paper"
         },
         {
          "font": {
           "size": 9.6
          },
          "showarrow": false,
          "text": "<b>0.60</b>",
          "width": 64,
          "x": 1.2016,
          "xanchor": "left",
          "xref": "paper",
          "y": 0.45000000000000007,
          "yanchor": "middle",
          "yref": "paper"
         },
         {
          "font": {
           "size": 9.6
          },
          "showarrow": false,
          "text": "<b>0.60</b>",
          "width": 64,
          "x": 1.2016,
          "xanchor": "left",
          "xref": "paper",
          "y": 0.3500000000000001,
          "yanchor": "middle",
          "yref": "paper"
         },
         {
          "font": {
           "size": 9.6
          },
          "showarrow": false,
          "text": "<b>0.60</b>",
          "width": 64,
          "x": 1.2016,
          "xanchor": "left",
          "xref": "paper",
          "y": 0.2500000000000001,
          "yanchor": "middle",
          "yref": "paper"
         },
         {
          "font": {
           "size": 9.6
          },
          "showarrow": false,
          "text": "<b>0.60</b>",
          "width": 64,
          "x": 1.2016,
          "xanchor": "left",
          "xref": "paper",
          "y": 0.1500000000000001,
          "yanchor": "middle",
          "yref": "paper"
         },
         {
          "font": {
           "size": 9.6
          },
          "showarrow": false,
          "text": "<b>0.60</b>",
          "width": 64,
          "x": 1.2016,
          "xanchor": "left",
          "xref": "paper",
          "y": 0.0500000000000001,
          "yanchor": "middle",
          "yref": "paper"
         }
        ],
        "height": 512,
        "margin": {
         "l": 196,
         "r": 196
        },
        "title": "Match Panel",
        "width": 880,
        "xaxis": {
         "anchor": "y",
         "tickfont": {
          "size": 9.6
         }
        },
        "yaxis": {
         "domain": [
          0,
          0.8
         ],
         "dtick": 1,
         "tickfont": {
          "size": 9.6
         }
        },
        "yaxis2": {
         "domain": [
          0.9,
          1
         ],
         "tickfont": {
          "size": 9.6
         }
        }
       }
      },
      "text/html": [
       "<div id=\"e7546a1b-6c19-41fb-a470-2e6c2a842268\" style=\"height: 512px; width: 880px;\" class=\"plotly-graph-div\"></div><script type=\"text/javascript\">require([\"plotly\"], function(Plotly) { window.PLOTLYENV=window.PLOTLYENV || {};window.PLOTLYENV.BASE_URL=\"https://plot.ly\";Plotly.newPlot(\"e7546a1b-6c19-41fb-a470-2e6c2a842268\", [{\"colorscale\": [[0.0, \"#ebf6f7\"], [1.0, \"#171412\"]], \"showscale\": false, \"text\": [[\"Sample 0\", \"Sample 1\"]], \"x\": [\"Sample 0\", \"Sample 1\"], \"y\": [\"Target\"], \"yaxis\": \"y2\", \"z\": [[0, 2]], \"type\": \"heatmap\", \"uid\": \"a90a0cc9-623f-4deb-91a8-33909c17f0ab\"}, {\"colorscale\": [[0.0, \"#4242ff\"], [0.00392156862745098, \"#4241ff\"], [0.00784313725490196, \"#4240ff\"], [0.011764705882352941, \"#423fff\"], [0.01568627450980392, \"#423eff\"], [0.0196078431372549, \"#423dff\"], [0.023529411764705882, \"#423cff\"], [0.027450980392156862, \"#423bff\"], [0.03137254901960784, \"#423aff\"], [0.03529411764705882, \"#4239ff\"], [0.0392156862745098, \"#4238ff\"], [0.043137254901960784, \"#4237ff\"], [0.047058823529411764, \"#4236ff\"], [0.050980392156862744, \"#4235ff\"], [0.054901960784313725, \"#4234ff\"], [0.058823529411764705, \"#4233ff\"], [0.06274509803921569, \"#4232ff\"], [0.06666666666666667, \"#4231ff\"], [0.07058823529411765, \"#4230ff\"], [0.07450980392156863, \"#422fff\"], [0.0784313725490196, \"#422eff\"], [0.08235294117647059, \"#422dff\"], [0.08627450980392157, \"#422cff\"], [0.09019607843137255, \"#422bff\"], [0.09411764705882353, \"#422aff\"], [0.09803921568627451, \"#4229ff\"], [0.10196078431372549, \"#4228ff\"], [0.10588235294117647, \"#4228ff\"], [0.10980392156862745, \"#4227ff\"], [0.11372549019607843, \"#4226ff\"], [0.11764705882352941, \"#4226ff\"], [0.12156862745098039, \"#4225ff\"], [0.12549019607843137, \"#4224ff\"], [0.12941176470588237, \"#4224ff\"], [0.13333333333333333, \"#4223ff\"], [0.13725490196078433, \"#4222ff\"], [0.1411764705882353, \"#4221ff\"], [0.1450980392156863, \"#4221ff\"], [0.14901960784313725, \"#4220ff\"], [0.15294117647058825, \"#421fff\"], [0.1568627450980392, \"#421fff\"], [0.1607843137254902, \"#421eff\"], [0.16470588235294117, \"#421dff\"], [0.16862745098039217, \"#421dff\"], [0.17254901960784313, \"#421cff\"], [0.17647058823529413, \"#421bff\"], [0.1803921568627451, \"#421aff\"], [0.1843137254901961, \"#421aff\"], [0.18823529411764706, \"#4219ff\"], [0.19215686274509805, \"#4218ff\"], [0.19607843137254902, \"#4218ff\"], [0.2, \"#4217ff\"], [0.20392156862745098, \"#4419ff\"], [0.20784313725490197, \"#451aff\"], [0.21176470588235294, \"#461cff\"], [0.21568627450980393, \"#481eff\"], [0.2196078431372549, \"#491fff\"], [0.2235294117647059, \"#4a21ff\"], [0.22745098039215686, \"#4b23ff\"], [0.23137254901960785, \"#4d25ff\"], [0.23529411764705882, \"#4e26ff\"], [0.23921568627450981, \"#4f28ff\"], [0.24313725490196078, \"#512aff\"], [0.24705882352941178, \"#522bff\"], [0.25098039215686274, \"#532dff\"], [0.2549019607843137, \"#542fff\"], [0.25882352941176473, \"#5630ff\"], [0.2627450980392157, \"#5732ff\"], [0.26666666666666666, \"#5834ff\"], [0.27058823529411763, \"#5a36ff\"], [0.27450980392156865, \"#5b37ff\"], [0.2784313725490196, \"#5c39ff\"], [0.2823529411764706, \"#5e3bff\"], [0.28627450980392155, \"#5f3cff\"], [0.2901960784313726, \"#603eff\"], [0.29411764705882354, \"#6240ff\"], [0.2980392156862745, \"#6341ff\"], [0.30196078431372547, \"#6544ff\"], [0.3058823529411765, \"#6849ff\"], [0.30980392156862746, \"#6b4dff\"], [0.3137254901960784, \"#6e51ff\"], [0.3176470588235294, \"#7156ff\"], [0.3215686274509804, \"#745aff\"], [0.3254901960784314, \"#775eff\"], [0.32941176470588235, \"#7a63ff\"], [0.3333333333333333, \"#7d67ff\"], [0.33725490196078434, \"#806bff\"], [0.3411764705882353, \"#836fff\"], [0.34509803921568627, \"#8674ff\"], [0.34901960784313724, \"#8978ff\"], [0.35294117647058826, \"#8c7cff\"], [0.3568627450980392, \"#8f81ff\"], [0.3607843137254902, \"#9285ff\"], [0.36470588235294116, \"#9589ff\"], [0.3686274509803922, \"#988eff\"], [0.37254901960784315, \"#9b92ff\"], [0.3764705882352941, \"#9e96ff\"], [0.3803921568627451, \"#a19aff\"], [0.3843137254901961, \"#a49fff\"], [0.38823529411764707, \"#a7a3ff\"], [0.39215686274509803, \"#aaa7ff\"], [0.396078431372549, \"#adacff\"], [0.4, \"#b0b0ff\"], [0.403921568627451, \"#b3b3ff\"], [0.40784313725490196, \"#b6b6ff\"], [0.4117647058823529, \"#b9b9ff\"], [0.41568627450980394, \"#bcbcff\"], [0.4196078431372549, \"#bfbfff\"], [0.4235294117647059, \"#c3c3ff\"], [0.42745098039215684, \"#c6c6ff\"], [0.43137254901960786, \"#c9c9ff\"], [0.43529411764705883, \"#ccccff\"], [0.4392156862745098, \"#cfcfff\"], [0.44313725490196076, \"#d2d2ff\"], [0.4470588235294118, \"#d5d5ff\"], [0.45098039215686275, \"#d8d8ff\"], [0.4549019607843137, \"#dbdbff\"], [0.4588235294117647, \"#dedeff\"], [0.4627450980392157, \"#e2e2ff\"], [0.4666666666666667, \"#e5e5ff\"], [0.47058823529411764, \"#e8e8ff\"], [0.4745098039215686, \"#ebebff\"], [0.47843137254901963, \"#eeeeff\"], [0.4823529411764706, \"#f1f1ff\"], [0.48627450980392156, \"#f4f4ff\"], [0.49019607843137253, \"#f7f7ff\"], [0.49411764705882355, \"#fafaff\"], [0.4980392156862745, \"#fdfdff\"], [0.5019607843137255, \"#fffdfd\"], [0.5058823529411764, \"#fffafa\"], [0.5098039215686274, \"#fff7f7\"], [0.5137254901960784, \"#fff4f4\"], [0.5176470588235295, \"#fff1f1\"], [0.5215686274509804, \"#ffeeee\"], [0.5254901960784314, \"#ffebeb\"], [0.5294117647058824, \"#ffe8e8\"], [0.5333333333333333, \"#ffe5e5\"], [0.5372549019607843, \"#ffe2e2\"], [0.5411764705882353, \"#ffdede\"], [0.5450980392156862, \"#ffdbdb\"], [0.5490196078431373, \"#ffd8d8\"], [0.5529411764705883, \"#ffd5d5\"], [0.5568627450980392, \"#ffd2d2\"], [0.5607843137254902, \"#ffcfcf\"], [0.5647058823529412, \"#ffcccc\"], [0.5686274509803921, \"#ffc9c9\"], [0.5725490196078431, \"#ffc6c6\"], [0.5764705882352941, \"#ffc3c3\"], [0.5803921568627451, \"#ffbfbf\"], [0.5843137254901961, \"#ffbcbc\"], [0.5882352941176471, \"#ffb9b9\"], [0.592156862745098, \"#ffb6b6\"], [0.596078431372549, \"#ffb3b3\"], [0.6, \"#ffb0b0\"], [0.6039215686274509, \"#ffacad\"], [0.6078431372549019, \"#ffa7aa\"], [0.611764705882353, \"#ffa3a7\"], [0.615686274509804, \"#ff9fa4\"], [0.6196078431372549, \"#ff9aa1\"], [0.6235294117647059, \"#ff969e\"], [0.6274509803921569, \"#ff929b\"], [0.6313725490196078, \"#ff8e98\"], [0.6352941176470588, \"#ff8995\"], [0.6392156862745098, \"#ff8592\"], [0.6431372549019608, \"#ff818f\"], [0.6470588235294118, \"#ff7c8c\"], [0.6509803921568628, \"#ff7889\"], [0.6549019607843137, \"#ff7486\"], [0.6588235294117647, \"#ff6f83\"], [0.6627450980392157, \"#ff6b80\"], [0.6666666666666666, \"#ff677d\"], [0.6705882352941176, \"#ff637a\"], [0.6745098039215687, \"#ff5e77\"], [0.6784313725490196, \"#ff5a74\"], [0.6823529411764706, \"#ff5671\"], [0.6862745098039216, \"#ff516e\"], [0.6901960784313725, \"#ff4d6b\"], [0.6941176470588235, \"#ff4968\"], [0.6980392156862745, \"#ff4465\"], [0.7019607843137254, \"#ff4163\"], [0.7058823529411765, \"#ff4062\"], [0.7098039215686275, \"#ff3e60\"], [0.7137254901960784, \"#ff3c5f\"], [0.7176470588235294, \"#ff3b5e\"], [0.7215686274509804, \"#ff395c\"], [0.7254901960784313, \"#ff375b\"], [0.7294117647058823, \"#ff365a\"], [0.7333333333333333, \"#ff3458\"], [0.7372549019607844, \"#ff3257\"], [0.7411764705882353, \"#ff3056\"], [0.7450980392156863, \"#ff2f55\"], [0.7490196078431373, \"#ff2d53\"], [0.7529411764705882, \"#ff2b52\"], [0.7568627450980392, \"#ff2a51\"], [0.7607843137254902, \"#ff284f\"], [0.7647058823529411, \"#ff264e\"], [0.7686274509803922, \"#ff254d\"], [0.7725490196078432, \"#ff234b\"], [0.7764705882352941, \"#ff214a\"], [0.7803921568627451, \"#ff1f49\"], [0.7843137254901961, \"#ff1e48\"], [0.788235294117647, \"#ff1c46\"], [0.792156862745098, \"#ff1a45\"], [0.796078431372549, \"#ff1944\"], [0.8, \"#ff1742\"], [0.803921568627451, \"#ff1842\"], [0.807843137254902, \"#ff1842\"], [0.8117647058823529, \"#ff1942\"], [0.8156862745098039, \"#ff1a42\"], [0.8196078431372549, \"#ff1a42\"], [0.8235294117647058, \"#ff1b42\"], [0.8274509803921568, \"#ff1c42\"], [0.8313725490196079, \"#ff1d42\"], [0.8352941176470589, \"#ff1d42\"], [0.8392156862745098, \"#ff1e42\"], [0.8431372549019608, \"#ff1f42\"], [0.8470588235294118, \"#ff1f42\"], [0.8509803921568627, \"#ff2042\"], [0.8549019607843137, \"#ff2142\"], [0.8588235294117647, \"#ff2142\"], [0.8627450980392157, \"#ff2242\"], [0.8666666666666667, \"#ff2342\"], [0.8705882352941177, \"#ff2442\"], [0.8745098039215686, \"#ff2442\"], [0.8784313725490196, \"#ff2542\"], [0.8823529411764706, \"#ff2642\"], [0.8862745098039215, \"#ff2642\"], [0.8901960784313725, \"#ff2742\"], [0.8941176470588236, \"#ff2842\"], [0.8980392156862745, \"#ff2842\"], [0.9019607843137255, \"#ff2942\"], [0.9058823529411765, \"#ff2a42\"], [0.9098039215686274, \"#ff2b42\"], [0.9137254901960784, \"#ff2c42\"], [0.9176470588235294, \"#ff2d42\"], [0.9215686274509803, \"#ff2e42\"], [0.9254901960784314, \"#ff2f42\"], [0.9294117647058824, \"#ff3042\"], [0.9333333333333333, \"#ff3142\"], [0.9372549019607843, \"#ff3242\"], [0.9411764705882353, \"#ff3342\"], [0.9450980392156862, \"#ff3442\"], [0.9490196078431372, \"#ff3542\"], [0.9529411764705882, \"#ff3642\"], [0.9568627450980393, \"#ff3742\"], [0.9607843137254902, \"#ff3842\"], [0.9647058823529412, \"#ff3942\"], [0.9686274509803922, \"#ff3a42\"], [0.9725490196078431, \"#ff3b42\"], [0.9764705882352941, \"#ff3c42\"], [0.9803921568627451, \"#ff3d42\"], [0.984313725490196, \"#ff3e42\"], [0.9882352941176471, \"#ff3f42\"], [0.9921568627450981, \"#ff4042\"], [0.996078431372549, \"#ff4142\"], [1.0, \"#ff4242\"]], \"showscale\": false, \"x\": [\"Sample 0\", \"Sample 1\"], \"y\": [\"Index 3\", \"Index 5\", \"Index 2\", \"Index 7\", \"Index 0\", \"Index 6\", \"Index 4\", \"Index 1\"], \"yaxis\": \"y\", \"z\": [[1.0000000000000013, -0.9999999999999988], [1.0, -1.0], [1.0, -1.0], [1.0, -1.0], [0.9999999999999982, -1.0000000000000018], [-1.0, 1.0], [-1.0, 1.0], [-1.0, 1.0]], \"zmax\": 1.0000000000000013, \"zmin\": -1.0000000000000018, \"type\": \"heatmap\", \"uid\": \"6612794a-6fff-4626-9c31-3272dbb5dad7\"}], {\"annotations\": [{\"font\": {\"size\": 9.6}, \"showarrow\": false, \"text\": \"<b>Score</b>\", \"width\": 64, \"x\": 1.0016, \"xanchor\": \"left\", \"xref\": \"paper\", \"y\": 0.95, \"yanchor\": \"middle\", \"yref\": \"paper\"}, {\"font\": {\"size\": 9.6}, \"showarrow\": false, \"text\": \"<b>0.86</b>\", \"width\": 64, \"x\": 1.0016, \"xanchor\": \"left\", \"xref\": \"paper\", \"y\": 0.75, \"yanchor\": \"middle\", \"yref\": \"paper\"}, {\"font\": {\"size\": 9.6}, \"showarrow\": false, \"text\": \"<b>0.86</b>\", \"width\": 64, \"x\": 1.0016, \"xanchor\": \"left\", \"xref\": \"paper\", \"y\": 0.65, \"yanchor\": \"middle\", \"yref\": \"paper\"}, {\"font\": {\"size\": 9.6}, \"showarrow\": false, \"text\": \"<b>0.86</b>\", \"width\": 64, \"x\": 1.0016, \"xanchor\": \"left\", \"xref\": \"paper\", \"y\": 0.55, \"yanchor\": \"middle\", \"yref\": \"paper\"}, {\"font\": {\"size\": 9.6}, \"showarrow\": false, \"text\": \"<b>-0.86</b>\", \"width\": 64, \"x\": 1.0016, \"xanchor\": \"left\", \"xref\": \"paper\", \"y\": 0.45000000000000007, \"yanchor\": \"middle\", \"yref\": \"paper\"}, {\"font\": {\"size\": 9.6}, \"showarrow\": false, \"text\": \"<b>-0.86</b>\", \"width\": 64, \"x\": 1.0016, \"xanchor\": \"left\", \"xref\": \"paper\", \"y\": 0.3500000000000001, \"yanchor\": \"middle\", \"yref\": \"paper\"}, {\"font\": {\"size\": 9.6}, \"showarrow\": false, \"text\": \"<b>-0.86</b>\", \"width\": 64, \"x\": 1.0016, \"xanchor\": \"left\", \"xref\": \"paper\", \"y\": 0.2500000000000001, \"yanchor\": \"middle\", \"yref\": \"paper\"}, {\"font\": {\"size\": 9.6}, \"showarrow\": false, \"text\": \"<b>-0.86</b>\", \"width\": 64, \"x\": 1.0016, \"xanchor\": \"left\", \"xref\": \"paper\", \"y\": 0.1500000000000001, \"yanchor\": \"middle\", \"yref\": \"paper\"}, {\"font\": {\"size\": 9.6}, \"showarrow\": false, \"text\": \"<b>-0.86</b>\", \"width\": 64, \"x\": 1.0016, \"xanchor\": \"left\", \"xref\": \"paper\", \"y\": 0.0500000000000001, \"yanchor\": \"middle\", \"yref\": \"paper\"}, {\"font\": {\"size\": 9.6}, \"showarrow\": false, \"text\": \"<b>P-Value</b>\", \"width\": 64, \"x\": 1.1016000000000001, \"xanchor\": \"left\", \"xref\": \"paper\", \"y\": 0.95, \"yanchor\": \"middle\", \"yref\": \"paper\"}, {\"font\": {\"size\": 9.6}, \"showarrow\": false, \"text\": \"<b>0.38</b>\", \"width\": 64, \"x\": 1.1016000000000001, \"xanchor\": \"left\", \"xref\": \"paper\", \"y\": 0.75, \"yanchor\": \"middle\", \"yref\": \"paper\"}, {\"font\": {\"size\": 9.6}, \"showarrow\": false, \"text\": \"<b>0.38</b>\", \"width\": 64, \"x\": 1.1016000000000001, \"xanchor\": \"left\", \"xref\": \"paper\", \"y\": 0.65, \"yanchor\": \"middle\", \"yref\": \"paper\"}, {\"font\": {\"size\": 9.6}, \"showarrow\": false, \"text\": \"<b>0.38</b>\", \"width\": 64, \"x\": 1.1016000000000001, \"xanchor\": \"left\", \"xref\": \"paper\", \"y\": 0.55, \"yanchor\": \"middle\", \"yref\": \"paper\"}, {\"font\": {\"size\": 9.6}, \"showarrow\": false, \"text\": \"<b>0.38</b>\", \"width\": 64, \"x\": 1.1016000000000001, \"xanchor\": \"left\", \"xref\": \"paper\", \"y\": 0.45000000000000007, \"yanchor\": \"middle\", \"yref\": \"paper\"}, {\"font\": {\"size\": 9.6}, \"showarrow\": false, \"text\": \"<b>0.38</b>\", \"width\": 64, \"x\": 1.1016000000000001, \"xanchor\": \"left\", \"xref\": \"paper\", \"y\": 0.3500000000000001, \"yanchor\": \"middle\", \"yref\": \"paper\"}, {\"font\": {\"size\": 9.6}, \"showarrow\": false, \"text\": \"<b>0.38</b>\", \"width\": 64, \"x\": 1.1016000000000001, \"xanchor\": \"left\", \"xref\": \"paper\", \"y\": 0.2500000000000001, \"yanchor\": \"middle\", \"yref\": \"paper\"}, {\"font\": {\"size\": 9.6}, \"showarrow\": false, \"text\": \"<b>0.38</b>\", \"width\": 64, \"x\": 1.1016000000000001, \"xanchor\": \"left\", \"xref\": \"paper\", \"y\": 0.1500000000000001, \"yanchor\": \"middle\", \"yref\": \"paper\"}, {\"font\": {\"size\": 9.6}, \"showarrow\": false, \"text\": \"<b>0.12</b>\", \"width\": 64, \"x\": 1.1016000000000001, \"xanchor\": \"left\", \"xref\": \"paper\", \"y\": 0.0500000000000001, \"yanchor\": \"middle\", \"yref\": \"paper\"}, {\"font\": {\"size\": 9.6}, \"showarrow\": false, \"text\": \"<b>FDR</b>\", \"width\": 64, \"x\": 1.2016, \"xanchor\": \"left\", \"xref\": \"paper\", \"y\": 0.95, \"yanchor\": \"middle\", \"yref\": \"paper\"}, {\"font\": {\"size\": 9.6}, \"showarrow\": false, \"text\": \"<b>0.88</b>\", \"width\": 64, \"x\": 1.2016, \"xanchor\": \"left\", \"xref\": \"paper\", \"y\": 0.75, \"yanchor\": \"middle\", \"yref\": \"paper\"}, {\"font\": {\"size\": 9.6}, \"showarrow\": false, \"text\": \"<b>0.88</b>\", \"width\": 64, \"x\": 1.2016, \"xanchor\": \"left\", \"xref\": \"paper\", \"y\": 0.65, \"yanchor\": \"middle\", \"yref\": \"paper\"}, {\"font\": {\"size\": 9.6}, \"showarrow\": false, \"text\": \"<b>0.88</b>\", \"width\": 64, \"x\": 1.2016, \"xanchor\": \"left\", \"xref\": \"paper\", \"y\": 0.55, \"yanchor\": \"middle\", \"yref\": \"paper\"}, {\"font\": {\"size\": 9.6}, \"showarrow\": false, \"text\": \"<b>0.60</b>\", \"width\": 64, \"x\": 1.2016, \"xanchor\": \"left\", \"xref\": \"paper\", \"y\": 0.45000000000000007, \"yanchor\": \"middle\", \"yref\": \"paper\"}, {\"font\": {\"size\": 9.6}, \"showarrow\": false, \"text\": \"<b>0.60</b>\", \"width\": 64, \"x\": 1.2016, \"xanchor\": \"left\", \"xref\": \"paper\", \"y\": 0.3500000000000001, \"yanchor\": \"middle\", \"yref\": \"paper\"}, {\"font\": {\"size\": 9.6}, \"showarrow\": false, \"text\": \"<b>0.60</b>\", \"width\": 64, \"x\": 1.2016, \"xanchor\": \"left\", \"xref\": \"paper\", \"y\": 0.2500000000000001, \"yanchor\": \"middle\", \"yref\": \"paper\"}, {\"font\": {\"size\": 9.6}, \"showarrow\": false, \"text\": \"<b>0.60</b>\", \"width\": 64, \"x\": 1.2016, \"xanchor\": \"left\", \"xref\": \"paper\", \"y\": 0.1500000000000001, \"yanchor\": \"middle\", \"yref\": \"paper\"}, {\"font\": {\"size\": 9.6}, \"showarrow\": false, \"text\": \"<b>0.60</b>\", \"width\": 64, \"x\": 1.2016, \"xanchor\": \"left\", \"xref\": \"paper\", \"y\": 0.0500000000000001, \"yanchor\": \"middle\", \"yref\": \"paper\"}], \"height\": 512, \"margin\": {\"l\": 196, \"r\": 196}, \"title\": \"Match Panel\", \"width\": 880, \"xaxis\": {\"anchor\": \"y\", \"tickfont\": {\"size\": 9.6}}, \"yaxis\": {\"domain\": [0, 0.8], \"dtick\": 1, \"tickfont\": {\"size\": 9.6}}, \"yaxis2\": {\"domain\": [0.9, 1], \"tickfont\": {\"size\": 9.6}}}, {\"showLink\": false, \"linkText\": \"Export to plot.ly\"})});</script>"
      ],
      "text/vnd.plotly.v1+html": [
       "<div id=\"e7546a1b-6c19-41fb-a470-2e6c2a842268\" style=\"height: 512px; width: 880px;\" class=\"plotly-graph-div\"></div><script type=\"text/javascript\">require([\"plotly\"], function(Plotly) { window.PLOTLYENV=window.PLOTLYENV || {};window.PLOTLYENV.BASE_URL=\"https://plot.ly\";Plotly.newPlot(\"e7546a1b-6c19-41fb-a470-2e6c2a842268\", [{\"colorscale\": [[0.0, \"#ebf6f7\"], [1.0, \"#171412\"]], \"showscale\": false, \"text\": [[\"Sample 0\", \"Sample 1\"]], \"x\": [\"Sample 0\", \"Sample 1\"], \"y\": [\"Target\"], \"yaxis\": \"y2\", \"z\": [[0, 2]], \"type\": \"heatmap\", \"uid\": \"a90a0cc9-623f-4deb-91a8-33909c17f0ab\"}, {\"colorscale\": [[0.0, \"#4242ff\"], [0.00392156862745098, \"#4241ff\"], [0.00784313725490196, \"#4240ff\"], [0.011764705882352941, \"#423fff\"], [0.01568627450980392, \"#423eff\"], [0.0196078431372549, \"#423dff\"], [0.023529411764705882, \"#423cff\"], [0.027450980392156862, \"#423bff\"], [0.03137254901960784, \"#423aff\"], [0.03529411764705882, \"#4239ff\"], [0.0392156862745098, \"#4238ff\"], [0.043137254901960784, \"#4237ff\"], [0.047058823529411764, \"#4236ff\"], [0.050980392156862744, \"#4235ff\"], [0.054901960784313725, \"#4234ff\"], [0.058823529411764705, \"#4233ff\"], [0.06274509803921569, \"#4232ff\"], [0.06666666666666667, \"#4231ff\"], [0.07058823529411765, \"#4230ff\"], [0.07450980392156863, \"#422fff\"], [0.0784313725490196, \"#422eff\"], [0.08235294117647059, \"#422dff\"], [0.08627450980392157, \"#422cff\"], [0.09019607843137255, \"#422bff\"], [0.09411764705882353, \"#422aff\"], [0.09803921568627451, \"#4229ff\"], [0.10196078431372549, \"#4228ff\"], [0.10588235294117647, \"#4228ff\"], [0.10980392156862745, \"#4227ff\"], [0.11372549019607843, \"#4226ff\"], [0.11764705882352941, \"#4226ff\"], [0.12156862745098039, \"#4225ff\"], [0.12549019607843137, \"#4224ff\"], [0.12941176470588237, \"#4224ff\"], [0.13333333333333333, \"#4223ff\"], [0.13725490196078433, \"#4222ff\"], [0.1411764705882353, \"#4221ff\"], [0.1450980392156863, \"#4221ff\"], [0.14901960784313725, \"#4220ff\"], [0.15294117647058825, \"#421fff\"], [0.1568627450980392, \"#421fff\"], [0.1607843137254902, \"#421eff\"], [0.16470588235294117, \"#421dff\"], [0.16862745098039217, \"#421dff\"], [0.17254901960784313, \"#421cff\"], [0.17647058823529413, \"#421bff\"], [0.1803921568627451, \"#421aff\"], [0.1843137254901961, \"#421aff\"], [0.18823529411764706, \"#4219ff\"], [0.19215686274509805, \"#4218ff\"], [0.19607843137254902, \"#4218ff\"], [0.2, \"#4217ff\"], [0.20392156862745098, \"#4419ff\"], [0.20784313725490197, \"#451aff\"], [0.21176470588235294, \"#461cff\"], [0.21568627450980393, \"#481eff\"], [0.2196078431372549, \"#491fff\"], [0.2235294117647059, \"#4a21ff\"], [0.22745098039215686, \"#4b23ff\"], [0.23137254901960785, \"#4d25ff\"], [0.23529411764705882, \"#4e26ff\"], [0.23921568627450981, \"#4f28ff\"], [0.24313725490196078, \"#512aff\"], [0.24705882352941178, \"#522bff\"], [0.25098039215686274, \"#532dff\"], [0.2549019607843137, \"#542fff\"], [0.25882352941176473, \"#5630ff\"], [0.2627450980392157, \"#5732ff\"], [0.26666666666666666, \"#5834ff\"], [0.27058823529411763, \"#5a36ff\"], [0.27450980392156865, \"#5b37ff\"], [0.2784313725490196, \"#5c39ff\"], [0.2823529411764706, \"#5e3bff\"], [0.28627450980392155, \"#5f3cff\"], [0.2901960784313726, \"#603eff\"], [0.29411764705882354, \"#6240ff\"], [0.2980392156862745, \"#6341ff\"], [0.30196078431372547, \"#6544ff\"], [0.3058823529411765, \"#6849ff\"], [0.30980392156862746, \"#6b4dff\"], [0.3137254901960784, \"#6e51ff\"], [0.3176470588235294, \"#7156ff\"], [0.3215686274509804, \"#745aff\"], [0.3254901960784314, \"#775eff\"], [0.32941176470588235, \"#7a63ff\"], [0.3333333333333333, \"#7d67ff\"], [0.33725490196078434, \"#806bff\"], [0.3411764705882353, \"#836fff\"], [0.34509803921568627, \"#8674ff\"], [0.34901960784313724, \"#8978ff\"], [0.35294117647058826, \"#8c7cff\"], [0.3568627450980392, \"#8f81ff\"], [0.3607843137254902, \"#9285ff\"], [0.36470588235294116, \"#9589ff\"], [0.3686274509803922, \"#988eff\"], [0.37254901960784315, \"#9b92ff\"], [0.3764705882352941, \"#9e96ff\"], [0.3803921568627451, \"#a19aff\"], [0.3843137254901961, \"#a49fff\"], [0.38823529411764707, \"#a7a3ff\"], [0.39215686274509803, \"#aaa7ff\"], [0.396078431372549, \"#adacff\"], [0.4, \"#b0b0ff\"], [0.403921568627451, \"#b3b3ff\"], [0.40784313725490196, \"#b6b6ff\"], [0.4117647058823529, \"#b9b9ff\"], [0.41568627450980394, \"#bcbcff\"], [0.4196078431372549, \"#bfbfff\"], [0.4235294117647059, \"#c3c3ff\"], [0.42745098039215684, \"#c6c6ff\"], [0.43137254901960786, \"#c9c9ff\"], [0.43529411764705883, \"#ccccff\"], [0.4392156862745098, \"#cfcfff\"], [0.44313725490196076, \"#d2d2ff\"], [0.4470588235294118, \"#d5d5ff\"], [0.45098039215686275, \"#d8d8ff\"], [0.4549019607843137, \"#dbdbff\"], [0.4588235294117647, \"#dedeff\"], [0.4627450980392157, \"#e2e2ff\"], [0.4666666666666667, \"#e5e5ff\"], [0.47058823529411764, \"#e8e8ff\"], [0.4745098039215686, \"#ebebff\"], [0.47843137254901963, \"#eeeeff\"], [0.4823529411764706, \"#f1f1ff\"], [0.48627450980392156, \"#f4f4ff\"], [0.49019607843137253, \"#f7f7ff\"], [0.49411764705882355, \"#fafaff\"], [0.4980392156862745, \"#fdfdff\"], [0.5019607843137255, \"#fffdfd\"], [0.5058823529411764, \"#fffafa\"], [0.5098039215686274, \"#fff7f7\"], [0.5137254901960784, \"#fff4f4\"], [0.5176470588235295, \"#fff1f1\"], [0.5215686274509804, \"#ffeeee\"], [0.5254901960784314, \"#ffebeb\"], [0.5294117647058824, \"#ffe8e8\"], [0.5333333333333333, \"#ffe5e5\"], [0.5372549019607843, \"#ffe2e2\"], [0.5411764705882353, \"#ffdede\"], [0.5450980392156862, \"#ffdbdb\"], [0.5490196078431373, \"#ffd8d8\"], [0.5529411764705883, \"#ffd5d5\"], [0.5568627450980392, \"#ffd2d2\"], [0.5607843137254902, \"#ffcfcf\"], [0.5647058823529412, \"#ffcccc\"], [0.5686274509803921, \"#ffc9c9\"], [0.5725490196078431, \"#ffc6c6\"], [0.5764705882352941, \"#ffc3c3\"], [0.5803921568627451, \"#ffbfbf\"], [0.5843137254901961, \"#ffbcbc\"], [0.5882352941176471, \"#ffb9b9\"], [0.592156862745098, \"#ffb6b6\"], [0.596078431372549, \"#ffb3b3\"], [0.6, \"#ffb0b0\"], [0.6039215686274509, \"#ffacad\"], [0.6078431372549019, \"#ffa7aa\"], [0.611764705882353, \"#ffa3a7\"], [0.615686274509804, \"#ff9fa4\"], [0.6196078431372549, \"#ff9aa1\"], [0.6235294117647059, \"#ff969e\"], [0.6274509803921569, \"#ff929b\"], [0.6313725490196078, \"#ff8e98\"], [0.6352941176470588, \"#ff8995\"], [0.6392156862745098, \"#ff8592\"], [0.6431372549019608, \"#ff818f\"], [0.6470588235294118, \"#ff7c8c\"], [0.6509803921568628, \"#ff7889\"], [0.6549019607843137, \"#ff7486\"], [0.6588235294117647, \"#ff6f83\"], [0.6627450980392157, \"#ff6b80\"], [0.6666666666666666, \"#ff677d\"], [0.6705882352941176, \"#ff637a\"], [0.6745098039215687, \"#ff5e77\"], [0.6784313725490196, \"#ff5a74\"], [0.6823529411764706, \"#ff5671\"], [0.6862745098039216, \"#ff516e\"], [0.6901960784313725, \"#ff4d6b\"], [0.6941176470588235, \"#ff4968\"], [0.6980392156862745, \"#ff4465\"], [0.7019607843137254, \"#ff4163\"], [0.7058823529411765, \"#ff4062\"], [0.7098039215686275, \"#ff3e60\"], [0.7137254901960784, \"#ff3c5f\"], [0.7176470588235294, \"#ff3b5e\"], [0.7215686274509804, \"#ff395c\"], [0.7254901960784313, \"#ff375b\"], [0.7294117647058823, \"#ff365a\"], [0.7333333333333333, \"#ff3458\"], [0.7372549019607844, \"#ff3257\"], [0.7411764705882353, \"#ff3056\"], [0.7450980392156863, \"#ff2f55\"], [0.7490196078431373, \"#ff2d53\"], [0.7529411764705882, \"#ff2b52\"], [0.7568627450980392, \"#ff2a51\"], [0.7607843137254902, \"#ff284f\"], [0.7647058823529411, \"#ff264e\"], [0.7686274509803922, \"#ff254d\"], [0.7725490196078432, \"#ff234b\"], [0.7764705882352941, \"#ff214a\"], [0.7803921568627451, \"#ff1f49\"], [0.7843137254901961, \"#ff1e48\"], [0.788235294117647, \"#ff1c46\"], [0.792156862745098, \"#ff1a45\"], [0.796078431372549, \"#ff1944\"], [0.8, \"#ff1742\"], [0.803921568627451, \"#ff1842\"], [0.807843137254902, \"#ff1842\"], [0.8117647058823529, \"#ff1942\"], [0.8156862745098039, \"#ff1a42\"], [0.8196078431372549, \"#ff1a42\"], [0.8235294117647058, \"#ff1b42\"], [0.8274509803921568, \"#ff1c42\"], [0.8313725490196079, \"#ff1d42\"], [0.8352941176470589, \"#ff1d42\"], [0.8392156862745098, \"#ff1e42\"], [0.8431372549019608, \"#ff1f42\"], [0.8470588235294118, \"#ff1f42\"], [0.8509803921568627, \"#ff2042\"], [0.8549019607843137, \"#ff2142\"], [0.8588235294117647, \"#ff2142\"], [0.8627450980392157, \"#ff2242\"], [0.8666666666666667, \"#ff2342\"], [0.8705882352941177, \"#ff2442\"], [0.8745098039215686, \"#ff2442\"], [0.8784313725490196, \"#ff2542\"], [0.8823529411764706, \"#ff2642\"], [0.8862745098039215, \"#ff2642\"], [0.8901960784313725, \"#ff2742\"], [0.8941176470588236, \"#ff2842\"], [0.8980392156862745, \"#ff2842\"], [0.9019607843137255, \"#ff2942\"], [0.9058823529411765, \"#ff2a42\"], [0.9098039215686274, \"#ff2b42\"], [0.9137254901960784, \"#ff2c42\"], [0.9176470588235294, \"#ff2d42\"], [0.9215686274509803, \"#ff2e42\"], [0.9254901960784314, \"#ff2f42\"], [0.9294117647058824, \"#ff3042\"], [0.9333333333333333, \"#ff3142\"], [0.9372549019607843, \"#ff3242\"], [0.9411764705882353, \"#ff3342\"], [0.9450980392156862, \"#ff3442\"], [0.9490196078431372, \"#ff3542\"], [0.9529411764705882, \"#ff3642\"], [0.9568627450980393, \"#ff3742\"], [0.9607843137254902, \"#ff3842\"], [0.9647058823529412, \"#ff3942\"], [0.9686274509803922, \"#ff3a42\"], [0.9725490196078431, \"#ff3b42\"], [0.9764705882352941, \"#ff3c42\"], [0.9803921568627451, \"#ff3d42\"], [0.984313725490196, \"#ff3e42\"], [0.9882352941176471, \"#ff3f42\"], [0.9921568627450981, \"#ff4042\"], [0.996078431372549, \"#ff4142\"], [1.0, \"#ff4242\"]], \"showscale\": false, \"x\": [\"Sample 0\", \"Sample 1\"], \"y\": [\"Index 3\", \"Index 5\", \"Index 2\", \"Index 7\", \"Index 0\", \"Index 6\", \"Index 4\", \"Index 1\"], \"yaxis\": \"y\", \"z\": [[1.0000000000000013, -0.9999999999999988], [1.0, -1.0], [1.0, -1.0], [1.0, -1.0], [0.9999999999999982, -1.0000000000000018], [-1.0, 1.0], [-1.0, 1.0], [-1.0, 1.0]], \"zmax\": 1.0000000000000013, \"zmin\": -1.0000000000000018, \"type\": \"heatmap\", \"uid\": \"6612794a-6fff-4626-9c31-3272dbb5dad7\"}], {\"annotations\": [{\"font\": {\"size\": 9.6}, \"showarrow\": false, \"text\": \"<b>Score</b>\", \"width\": 64, \"x\": 1.0016, \"xanchor\": \"left\", \"xref\": \"paper\", \"y\": 0.95, \"yanchor\": \"middle\", \"yref\": \"paper\"}, {\"font\": {\"size\": 9.6}, \"showarrow\": false, \"text\": \"<b>0.86</b>\", \"width\": 64, \"x\": 1.0016, \"xanchor\": \"left\", \"xref\": \"paper\", \"y\": 0.75, \"yanchor\": \"middle\", \"yref\": \"paper\"}, {\"font\": {\"size\": 9.6}, \"showarrow\": false, \"text\": \"<b>0.86</b>\", \"width\": 64, \"x\": 1.0016, \"xanchor\": \"left\", \"xref\": \"paper\", \"y\": 0.65, \"yanchor\": \"middle\", \"yref\": \"paper\"}, {\"font\": {\"size\": 9.6}, \"showarrow\": false, \"text\": \"<b>0.86</b>\", \"width\": 64, \"x\": 1.0016, \"xanchor\": \"left\", \"xref\": \"paper\", \"y\": 0.55, \"yanchor\": \"middle\", \"yref\": \"paper\"}, {\"font\": {\"size\": 9.6}, \"showarrow\": false, \"text\": \"<b>-0.86</b>\", \"width\": 64, \"x\": 1.0016, \"xanchor\": \"left\", \"xref\": \"paper\", \"y\": 0.45000000000000007, \"yanchor\": \"middle\", \"yref\": \"paper\"}, {\"font\": {\"size\": 9.6}, \"showarrow\": false, \"text\": \"<b>-0.86</b>\", \"width\": 64, \"x\": 1.0016, \"xanchor\": \"left\", \"xref\": \"paper\", \"y\": 0.3500000000000001, \"yanchor\": \"middle\", \"yref\": \"paper\"}, {\"font\": {\"size\": 9.6}, \"showarrow\": false, \"text\": \"<b>-0.86</b>\", \"width\": 64, \"x\": 1.0016, \"xanchor\": \"left\", \"xref\": \"paper\", \"y\": 0.2500000000000001, \"yanchor\": \"middle\", \"yref\": \"paper\"}, {\"font\": {\"size\": 9.6}, \"showarrow\": false, \"text\": \"<b>-0.86</b>\", \"width\": 64, \"x\": 1.0016, \"xanchor\": \"left\", \"xref\": \"paper\", \"y\": 0.1500000000000001, \"yanchor\": \"middle\", \"yref\": \"paper\"}, {\"font\": {\"size\": 9.6}, \"showarrow\": false, \"text\": \"<b>-0.86</b>\", \"width\": 64, \"x\": 1.0016, \"xanchor\": \"left\", \"xref\": \"paper\", \"y\": 0.0500000000000001, \"yanchor\": \"middle\", \"yref\": \"paper\"}, {\"font\": {\"size\": 9.6}, \"showarrow\": false, \"text\": \"<b>P-Value</b>\", \"width\": 64, \"x\": 1.1016000000000001, \"xanchor\": \"left\", \"xref\": \"paper\", \"y\": 0.95, \"yanchor\": \"middle\", \"yref\": \"paper\"}, {\"font\": {\"size\": 9.6}, \"showarrow\": false, \"text\": \"<b>0.38</b>\", \"width\": 64, \"x\": 1.1016000000000001, \"xanchor\": \"left\", \"xref\": \"paper\", \"y\": 0.75, \"yanchor\": \"middle\", \"yref\": \"paper\"}, {\"font\": {\"size\": 9.6}, \"showarrow\": false, \"text\": \"<b>0.38</b>\", \"width\": 64, \"x\": 1.1016000000000001, \"xanchor\": \"left\", \"xref\": \"paper\", \"y\": 0.65, \"yanchor\": \"middle\", \"yref\": \"paper\"}, {\"font\": {\"size\": 9.6}, \"showarrow\": false, \"text\": \"<b>0.38</b>\", \"width\": 64, \"x\": 1.1016000000000001, \"xanchor\": \"left\", \"xref\": \"paper\", \"y\": 0.55, \"yanchor\": \"middle\", \"yref\": \"paper\"}, {\"font\": {\"size\": 9.6}, \"showarrow\": false, \"text\": \"<b>0.38</b>\", \"width\": 64, \"x\": 1.1016000000000001, \"xanchor\": \"left\", \"xref\": \"paper\", \"y\": 0.45000000000000007, \"yanchor\": \"middle\", \"yref\": \"paper\"}, {\"font\": {\"size\": 9.6}, \"showarrow\": false, \"text\": \"<b>0.38</b>\", \"width\": 64, \"x\": 1.1016000000000001, \"xanchor\": \"left\", \"xref\": \"paper\", \"y\": 0.3500000000000001, \"yanchor\": \"middle\", \"yref\": \"paper\"}, {\"font\": {\"size\": 9.6}, \"showarrow\": false, \"text\": \"<b>0.38</b>\", \"width\": 64, \"x\": 1.1016000000000001, \"xanchor\": \"left\", \"xref\": \"paper\", \"y\": 0.2500000000000001, \"yanchor\": \"middle\", \"yref\": \"paper\"}, {\"font\": {\"size\": 9.6}, \"showarrow\": false, \"text\": \"<b>0.38</b>\", \"width\": 64, \"x\": 1.1016000000000001, \"xanchor\": \"left\", \"xref\": \"paper\", \"y\": 0.1500000000000001, \"yanchor\": \"middle\", \"yref\": \"paper\"}, {\"font\": {\"size\": 9.6}, \"showarrow\": false, \"text\": \"<b>0.12</b>\", \"width\": 64, \"x\": 1.1016000000000001, \"xanchor\": \"left\", \"xref\": \"paper\", \"y\": 0.0500000000000001, \"yanchor\": \"middle\", \"yref\": \"paper\"}, {\"font\": {\"size\": 9.6}, \"showarrow\": false, \"text\": \"<b>FDR</b>\", \"width\": 64, \"x\": 1.2016, \"xanchor\": \"left\", \"xref\": \"paper\", \"y\": 0.95, \"yanchor\": \"middle\", \"yref\": \"paper\"}, {\"font\": {\"size\": 9.6}, \"showarrow\": false, \"text\": \"<b>0.88</b>\", \"width\": 64, \"x\": 1.2016, \"xanchor\": \"left\", \"xref\": \"paper\", \"y\": 0.75, \"yanchor\": \"middle\", \"yref\": \"paper\"}, {\"font\": {\"size\": 9.6}, \"showarrow\": false, \"text\": \"<b>0.88</b>\", \"width\": 64, \"x\": 1.2016, \"xanchor\": \"left\", \"xref\": \"paper\", \"y\": 0.65, \"yanchor\": \"middle\", \"yref\": \"paper\"}, {\"font\": {\"size\": 9.6}, \"showarrow\": false, \"text\": \"<b>0.88</b>\", \"width\": 64, \"x\": 1.2016, \"xanchor\": \"left\", \"xref\": \"paper\", \"y\": 0.55, \"yanchor\": \"middle\", \"yref\": \"paper\"}, {\"font\": {\"size\": 9.6}, \"showarrow\": false, \"text\": \"<b>0.60</b>\", \"width\": 64, \"x\": 1.2016, \"xanchor\": \"left\", \"xref\": \"paper\", \"y\": 0.45000000000000007, \"yanchor\": \"middle\", \"yref\": \"paper\"}, {\"font\": {\"size\": 9.6}, \"showarrow\": false, \"text\": \"<b>0.60</b>\", \"width\": 64, \"x\": 1.2016, \"xanchor\": \"left\", \"xref\": \"paper\", \"y\": 0.3500000000000001, \"yanchor\": \"middle\", \"yref\": \"paper\"}, {\"font\": {\"size\": 9.6}, \"showarrow\": false, \"text\": \"<b>0.60</b>\", \"width\": 64, \"x\": 1.2016, \"xanchor\": \"left\", \"xref\": \"paper\", \"y\": 0.2500000000000001, \"yanchor\": \"middle\", \"yref\": \"paper\"}, {\"font\": {\"size\": 9.6}, \"showarrow\": false, \"text\": \"<b>0.60</b>\", \"width\": 64, \"x\": 1.2016, \"xanchor\": \"left\", \"xref\": \"paper\", \"y\": 0.1500000000000001, \"yanchor\": \"middle\", \"yref\": \"paper\"}, {\"font\": {\"size\": 9.6}, \"showarrow\": false, \"text\": \"<b>0.60</b>\", \"width\": 64, \"x\": 1.2016, \"xanchor\": \"left\", \"xref\": \"paper\", \"y\": 0.0500000000000001, \"yanchor\": \"middle\", \"yref\": \"paper\"}], \"height\": 512, \"margin\": {\"l\": 196, \"r\": 196}, \"title\": \"Match Panel\", \"width\": 880, \"xaxis\": {\"anchor\": \"y\", \"tickfont\": {\"size\": 9.6}}, \"yaxis\": {\"domain\": [0, 0.8], \"dtick\": 1, \"tickfont\": {\"size\": 9.6}}, \"yaxis2\": {\"domain\": [0.9, 1], \"tickfont\": {\"size\": 9.6}}}, {\"showLink\": false, \"linkText\": \"Export to plot.ly\"})});</script>"
      ]
     },
     "metadata": {},
     "output_type": "display_data"
    },
    {
     "name": "stdout",
     "output_type": "stream",
     "text": [
      "target.index (2) & features.columns (2) have 2 in common.\n",
      "Computing score using compute_information_coefficient with 1 process ...\n",
      "Computing MoE with 0 sampling ...\n",
      "[]\n",
      "Computing p-value and FDR with 1 permutation ...\n"
     ]
    },
    {
     "name": "stderr",
     "output_type": "stream",
     "text": [
      "../match/make_match_panel.py:137: UserWarning:\n",
      "\n",
      "Not clustering because a category has less than 2 values.\n",
      "\n"
     ]
    },
    {
     "data": {
      "application/vnd.plotly.v1+json": {
       "data": [
        {
         "colorscale": [
          [
           0,
           "#ebf6f7"
          ],
          [
           1,
           "#171412"
          ]
         ],
         "showscale": false,
         "text": [
          [
           "Sample 0",
           "Sample 1"
          ]
         ],
         "type": "heatmap",
         "uid": "07e68738-6287-4634-ac16-a2d93639a3bb",
         "x": [
          "Sample 0",
          "Sample 1"
         ],
         "y": [
          "Target"
         ],
         "yaxis": "y2",
         "z": [
          [
           0,
           2
          ]
         ]
        },
        {
         "colorscale": [
          [
           0,
           "#4242ff"
          ],
          [
           0.00392156862745098,
           "#4241ff"
          ],
          [
           0.00784313725490196,
           "#4240ff"
          ],
          [
           0.011764705882352941,
           "#423fff"
          ],
          [
           0.01568627450980392,
           "#423eff"
          ],
          [
           0.0196078431372549,
           "#423dff"
          ],
          [
           0.023529411764705882,
           "#423cff"
          ],
          [
           0.027450980392156862,
           "#423bff"
          ],
          [
           0.03137254901960784,
           "#423aff"
          ],
          [
           0.03529411764705882,
           "#4239ff"
          ],
          [
           0.0392156862745098,
           "#4238ff"
          ],
          [
           0.043137254901960784,
           "#4237ff"
          ],
          [
           0.047058823529411764,
           "#4236ff"
          ],
          [
           0.050980392156862744,
           "#4235ff"
          ],
          [
           0.054901960784313725,
           "#4234ff"
          ],
          [
           0.058823529411764705,
           "#4233ff"
          ],
          [
           0.06274509803921569,
           "#4232ff"
          ],
          [
           0.06666666666666667,
           "#4231ff"
          ],
          [
           0.07058823529411765,
           "#4230ff"
          ],
          [
           0.07450980392156863,
           "#422fff"
          ],
          [
           0.0784313725490196,
           "#422eff"
          ],
          [
           0.08235294117647059,
           "#422dff"
          ],
          [
           0.08627450980392157,
           "#422cff"
          ],
          [
           0.09019607843137255,
           "#422bff"
          ],
          [
           0.09411764705882353,
           "#422aff"
          ],
          [
           0.09803921568627451,
           "#4229ff"
          ],
          [
           0.10196078431372549,
           "#4228ff"
          ],
          [
           0.10588235294117647,
           "#4228ff"
          ],
          [
           0.10980392156862745,
           "#4227ff"
          ],
          [
           0.11372549019607843,
           "#4226ff"
          ],
          [
           0.11764705882352941,
           "#4226ff"
          ],
          [
           0.12156862745098039,
           "#4225ff"
          ],
          [
           0.12549019607843137,
           "#4224ff"
          ],
          [
           0.12941176470588237,
           "#4224ff"
          ],
          [
           0.13333333333333333,
           "#4223ff"
          ],
          [
           0.13725490196078433,
           "#4222ff"
          ],
          [
           0.1411764705882353,
           "#4221ff"
          ],
          [
           0.1450980392156863,
           "#4221ff"
          ],
          [
           0.14901960784313725,
           "#4220ff"
          ],
          [
           0.15294117647058825,
           "#421fff"
          ],
          [
           0.1568627450980392,
           "#421fff"
          ],
          [
           0.1607843137254902,
           "#421eff"
          ],
          [
           0.16470588235294117,
           "#421dff"
          ],
          [
           0.16862745098039217,
           "#421dff"
          ],
          [
           0.17254901960784313,
           "#421cff"
          ],
          [
           0.17647058823529413,
           "#421bff"
          ],
          [
           0.1803921568627451,
           "#421aff"
          ],
          [
           0.1843137254901961,
           "#421aff"
          ],
          [
           0.18823529411764706,
           "#4219ff"
          ],
          [
           0.19215686274509805,
           "#4218ff"
          ],
          [
           0.19607843137254902,
           "#4218ff"
          ],
          [
           0.2,
           "#4217ff"
          ],
          [
           0.20392156862745098,
           "#4419ff"
          ],
          [
           0.20784313725490197,
           "#451aff"
          ],
          [
           0.21176470588235294,
           "#461cff"
          ],
          [
           0.21568627450980393,
           "#481eff"
          ],
          [
           0.2196078431372549,
           "#491fff"
          ],
          [
           0.2235294117647059,
           "#4a21ff"
          ],
          [
           0.22745098039215686,
           "#4b23ff"
          ],
          [
           0.23137254901960785,
           "#4d25ff"
          ],
          [
           0.23529411764705882,
           "#4e26ff"
          ],
          [
           0.23921568627450981,
           "#4f28ff"
          ],
          [
           0.24313725490196078,
           "#512aff"
          ],
          [
           0.24705882352941178,
           "#522bff"
          ],
          [
           0.25098039215686274,
           "#532dff"
          ],
          [
           0.2549019607843137,
           "#542fff"
          ],
          [
           0.25882352941176473,
           "#5630ff"
          ],
          [
           0.2627450980392157,
           "#5732ff"
          ],
          [
           0.26666666666666666,
           "#5834ff"
          ],
          [
           0.27058823529411763,
           "#5a36ff"
          ],
          [
           0.27450980392156865,
           "#5b37ff"
          ],
          [
           0.2784313725490196,
           "#5c39ff"
          ],
          [
           0.2823529411764706,
           "#5e3bff"
          ],
          [
           0.28627450980392155,
           "#5f3cff"
          ],
          [
           0.2901960784313726,
           "#603eff"
          ],
          [
           0.29411764705882354,
           "#6240ff"
          ],
          [
           0.2980392156862745,
           "#6341ff"
          ],
          [
           0.30196078431372547,
           "#6544ff"
          ],
          [
           0.3058823529411765,
           "#6849ff"
          ],
          [
           0.30980392156862746,
           "#6b4dff"
          ],
          [
           0.3137254901960784,
           "#6e51ff"
          ],
          [
           0.3176470588235294,
           "#7156ff"
          ],
          [
           0.3215686274509804,
           "#745aff"
          ],
          [
           0.3254901960784314,
           "#775eff"
          ],
          [
           0.32941176470588235,
           "#7a63ff"
          ],
          [
           0.3333333333333333,
           "#7d67ff"
          ],
          [
           0.33725490196078434,
           "#806bff"
          ],
          [
           0.3411764705882353,
           "#836fff"
          ],
          [
           0.34509803921568627,
           "#8674ff"
          ],
          [
           0.34901960784313724,
           "#8978ff"
          ],
          [
           0.35294117647058826,
           "#8c7cff"
          ],
          [
           0.3568627450980392,
           "#8f81ff"
          ],
          [
           0.3607843137254902,
           "#9285ff"
          ],
          [
           0.36470588235294116,
           "#9589ff"
          ],
          [
           0.3686274509803922,
           "#988eff"
          ],
          [
           0.37254901960784315,
           "#9b92ff"
          ],
          [
           0.3764705882352941,
           "#9e96ff"
          ],
          [
           0.3803921568627451,
           "#a19aff"
          ],
          [
           0.3843137254901961,
           "#a49fff"
          ],
          [
           0.38823529411764707,
           "#a7a3ff"
          ],
          [
           0.39215686274509803,
           "#aaa7ff"
          ],
          [
           0.396078431372549,
           "#adacff"
          ],
          [
           0.4,
           "#b0b0ff"
          ],
          [
           0.403921568627451,
           "#b3b3ff"
          ],
          [
           0.40784313725490196,
           "#b6b6ff"
          ],
          [
           0.4117647058823529,
           "#b9b9ff"
          ],
          [
           0.41568627450980394,
           "#bcbcff"
          ],
          [
           0.4196078431372549,
           "#bfbfff"
          ],
          [
           0.4235294117647059,
           "#c3c3ff"
          ],
          [
           0.42745098039215684,
           "#c6c6ff"
          ],
          [
           0.43137254901960786,
           "#c9c9ff"
          ],
          [
           0.43529411764705883,
           "#ccccff"
          ],
          [
           0.4392156862745098,
           "#cfcfff"
          ],
          [
           0.44313725490196076,
           "#d2d2ff"
          ],
          [
           0.4470588235294118,
           "#d5d5ff"
          ],
          [
           0.45098039215686275,
           "#d8d8ff"
          ],
          [
           0.4549019607843137,
           "#dbdbff"
          ],
          [
           0.4588235294117647,
           "#dedeff"
          ],
          [
           0.4627450980392157,
           "#e2e2ff"
          ],
          [
           0.4666666666666667,
           "#e5e5ff"
          ],
          [
           0.47058823529411764,
           "#e8e8ff"
          ],
          [
           0.4745098039215686,
           "#ebebff"
          ],
          [
           0.47843137254901963,
           "#eeeeff"
          ],
          [
           0.4823529411764706,
           "#f1f1ff"
          ],
          [
           0.48627450980392156,
           "#f4f4ff"
          ],
          [
           0.49019607843137253,
           "#f7f7ff"
          ],
          [
           0.49411764705882355,
           "#fafaff"
          ],
          [
           0.4980392156862745,
           "#fdfdff"
          ],
          [
           0.5019607843137255,
           "#fffdfd"
          ],
          [
           0.5058823529411764,
           "#fffafa"
          ],
          [
           0.5098039215686274,
           "#fff7f7"
          ],
          [
           0.5137254901960784,
           "#fff4f4"
          ],
          [
           0.5176470588235295,
           "#fff1f1"
          ],
          [
           0.5215686274509804,
           "#ffeeee"
          ],
          [
           0.5254901960784314,
           "#ffebeb"
          ],
          [
           0.5294117647058824,
           "#ffe8e8"
          ],
          [
           0.5333333333333333,
           "#ffe5e5"
          ],
          [
           0.5372549019607843,
           "#ffe2e2"
          ],
          [
           0.5411764705882353,
           "#ffdede"
          ],
          [
           0.5450980392156862,
           "#ffdbdb"
          ],
          [
           0.5490196078431373,
           "#ffd8d8"
          ],
          [
           0.5529411764705883,
           "#ffd5d5"
          ],
          [
           0.5568627450980392,
           "#ffd2d2"
          ],
          [
           0.5607843137254902,
           "#ffcfcf"
          ],
          [
           0.5647058823529412,
           "#ffcccc"
          ],
          [
           0.5686274509803921,
           "#ffc9c9"
          ],
          [
           0.5725490196078431,
           "#ffc6c6"
          ],
          [
           0.5764705882352941,
           "#ffc3c3"
          ],
          [
           0.5803921568627451,
           "#ffbfbf"
          ],
          [
           0.5843137254901961,
           "#ffbcbc"
          ],
          [
           0.5882352941176471,
           "#ffb9b9"
          ],
          [
           0.592156862745098,
           "#ffb6b6"
          ],
          [
           0.596078431372549,
           "#ffb3b3"
          ],
          [
           0.6,
           "#ffb0b0"
          ],
          [
           0.6039215686274509,
           "#ffacad"
          ],
          [
           0.6078431372549019,
           "#ffa7aa"
          ],
          [
           0.611764705882353,
           "#ffa3a7"
          ],
          [
           0.615686274509804,
           "#ff9fa4"
          ],
          [
           0.6196078431372549,
           "#ff9aa1"
          ],
          [
           0.6235294117647059,
           "#ff969e"
          ],
          [
           0.6274509803921569,
           "#ff929b"
          ],
          [
           0.6313725490196078,
           "#ff8e98"
          ],
          [
           0.6352941176470588,
           "#ff8995"
          ],
          [
           0.6392156862745098,
           "#ff8592"
          ],
          [
           0.6431372549019608,
           "#ff818f"
          ],
          [
           0.6470588235294118,
           "#ff7c8c"
          ],
          [
           0.6509803921568628,
           "#ff7889"
          ],
          [
           0.6549019607843137,
           "#ff7486"
          ],
          [
           0.6588235294117647,
           "#ff6f83"
          ],
          [
           0.6627450980392157,
           "#ff6b80"
          ],
          [
           0.6666666666666666,
           "#ff677d"
          ],
          [
           0.6705882352941176,
           "#ff637a"
          ],
          [
           0.6745098039215687,
           "#ff5e77"
          ],
          [
           0.6784313725490196,
           "#ff5a74"
          ],
          [
           0.6823529411764706,
           "#ff5671"
          ],
          [
           0.6862745098039216,
           "#ff516e"
          ],
          [
           0.6901960784313725,
           "#ff4d6b"
          ],
          [
           0.6941176470588235,
           "#ff4968"
          ],
          [
           0.6980392156862745,
           "#ff4465"
          ],
          [
           0.7019607843137254,
           "#ff4163"
          ],
          [
           0.7058823529411765,
           "#ff4062"
          ],
          [
           0.7098039215686275,
           "#ff3e60"
          ],
          [
           0.7137254901960784,
           "#ff3c5f"
          ],
          [
           0.7176470588235294,
           "#ff3b5e"
          ],
          [
           0.7215686274509804,
           "#ff395c"
          ],
          [
           0.7254901960784313,
           "#ff375b"
          ],
          [
           0.7294117647058823,
           "#ff365a"
          ],
          [
           0.7333333333333333,
           "#ff3458"
          ],
          [
           0.7372549019607844,
           "#ff3257"
          ],
          [
           0.7411764705882353,
           "#ff3056"
          ],
          [
           0.7450980392156863,
           "#ff2f55"
          ],
          [
           0.7490196078431373,
           "#ff2d53"
          ],
          [
           0.7529411764705882,
           "#ff2b52"
          ],
          [
           0.7568627450980392,
           "#ff2a51"
          ],
          [
           0.7607843137254902,
           "#ff284f"
          ],
          [
           0.7647058823529411,
           "#ff264e"
          ],
          [
           0.7686274509803922,
           "#ff254d"
          ],
          [
           0.7725490196078432,
           "#ff234b"
          ],
          [
           0.7764705882352941,
           "#ff214a"
          ],
          [
           0.7803921568627451,
           "#ff1f49"
          ],
          [
           0.7843137254901961,
           "#ff1e48"
          ],
          [
           0.788235294117647,
           "#ff1c46"
          ],
          [
           0.792156862745098,
           "#ff1a45"
          ],
          [
           0.796078431372549,
           "#ff1944"
          ],
          [
           0.8,
           "#ff1742"
          ],
          [
           0.803921568627451,
           "#ff1842"
          ],
          [
           0.807843137254902,
           "#ff1842"
          ],
          [
           0.8117647058823529,
           "#ff1942"
          ],
          [
           0.8156862745098039,
           "#ff1a42"
          ],
          [
           0.8196078431372549,
           "#ff1a42"
          ],
          [
           0.8235294117647058,
           "#ff1b42"
          ],
          [
           0.8274509803921568,
           "#ff1c42"
          ],
          [
           0.8313725490196079,
           "#ff1d42"
          ],
          [
           0.8352941176470589,
           "#ff1d42"
          ],
          [
           0.8392156862745098,
           "#ff1e42"
          ],
          [
           0.8431372549019608,
           "#ff1f42"
          ],
          [
           0.8470588235294118,
           "#ff1f42"
          ],
          [
           0.8509803921568627,
           "#ff2042"
          ],
          [
           0.8549019607843137,
           "#ff2142"
          ],
          [
           0.8588235294117647,
           "#ff2142"
          ],
          [
           0.8627450980392157,
           "#ff2242"
          ],
          [
           0.8666666666666667,
           "#ff2342"
          ],
          [
           0.8705882352941177,
           "#ff2442"
          ],
          [
           0.8745098039215686,
           "#ff2442"
          ],
          [
           0.8784313725490196,
           "#ff2542"
          ],
          [
           0.8823529411764706,
           "#ff2642"
          ],
          [
           0.8862745098039215,
           "#ff2642"
          ],
          [
           0.8901960784313725,
           "#ff2742"
          ],
          [
           0.8941176470588236,
           "#ff2842"
          ],
          [
           0.8980392156862745,
           "#ff2842"
          ],
          [
           0.9019607843137255,
           "#ff2942"
          ],
          [
           0.9058823529411765,
           "#ff2a42"
          ],
          [
           0.9098039215686274,
           "#ff2b42"
          ],
          [
           0.9137254901960784,
           "#ff2c42"
          ],
          [
           0.9176470588235294,
           "#ff2d42"
          ],
          [
           0.9215686274509803,
           "#ff2e42"
          ],
          [
           0.9254901960784314,
           "#ff2f42"
          ],
          [
           0.9294117647058824,
           "#ff3042"
          ],
          [
           0.9333333333333333,
           "#ff3142"
          ],
          [
           0.9372549019607843,
           "#ff3242"
          ],
          [
           0.9411764705882353,
           "#ff3342"
          ],
          [
           0.9450980392156862,
           "#ff3442"
          ],
          [
           0.9490196078431372,
           "#ff3542"
          ],
          [
           0.9529411764705882,
           "#ff3642"
          ],
          [
           0.9568627450980393,
           "#ff3742"
          ],
          [
           0.9607843137254902,
           "#ff3842"
          ],
          [
           0.9647058823529412,
           "#ff3942"
          ],
          [
           0.9686274509803922,
           "#ff3a42"
          ],
          [
           0.9725490196078431,
           "#ff3b42"
          ],
          [
           0.9764705882352941,
           "#ff3c42"
          ],
          [
           0.9803921568627451,
           "#ff3d42"
          ],
          [
           0.984313725490196,
           "#ff3e42"
          ],
          [
           0.9882352941176471,
           "#ff3f42"
          ],
          [
           0.9921568627450981,
           "#ff4042"
          ],
          [
           0.996078431372549,
           "#ff4142"
          ],
          [
           1,
           "#ff4242"
          ]
         ],
         "showscale": false,
         "type": "heatmap",
         "uid": "c4d44bab-e764-46f3-89a8-22d09028f359",
         "x": [
          "Sample 0",
          "Sample 1"
         ],
         "y": [
          "Index 3",
          "Index 5",
          "Index 2",
          "Index 7",
          "Index 0",
          "Index 6",
          "Index 4",
          "Index 1"
         ],
         "yaxis": "y",
         "z": [
          [
           1.0000000000000013,
           -0.9999999999999988
          ],
          [
           1,
           -1
          ],
          [
           1,
           -1
          ],
          [
           1,
           -1
          ],
          [
           0.9999999999999982,
           -1.0000000000000018
          ],
          [
           -1,
           1
          ],
          [
           -1,
           1
          ],
          [
           -1,
           1
          ]
         ],
         "zmax": 1.0000000000000013,
         "zmin": -1.0000000000000018
        }
       ],
       "layout": {
        "annotations": [
         {
          "font": {
           "size": 9.6
          },
          "showarrow": false,
          "text": "<b>Score</b>",
          "width": 64,
          "x": 1.0016,
          "xanchor": "left",
          "xref": "paper",
          "y": 0.95,
          "yanchor": "middle",
          "yref": "paper"
         },
         {
          "font": {
           "size": 9.6
          },
          "showarrow": false,
          "text": "<b>0.86</b>",
          "width": 64,
          "x": 1.0016,
          "xanchor": "left",
          "xref": "paper",
          "y": 0.75,
          "yanchor": "middle",
          "yref": "paper"
         },
         {
          "font": {
           "size": 9.6
          },
          "showarrow": false,
          "text": "<b>0.86</b>",
          "width": 64,
          "x": 1.0016,
          "xanchor": "left",
          "xref": "paper",
          "y": 0.65,
          "yanchor": "middle",
          "yref": "paper"
         },
         {
          "font": {
           "size": 9.6
          },
          "showarrow": false,
          "text": "<b>0.86</b>",
          "width": 64,
          "x": 1.0016,
          "xanchor": "left",
          "xref": "paper",
          "y": 0.55,
          "yanchor": "middle",
          "yref": "paper"
         },
         {
          "font": {
           "size": 9.6
          },
          "showarrow": false,
          "text": "<b>-0.86</b>",
          "width": 64,
          "x": 1.0016,
          "xanchor": "left",
          "xref": "paper",
          "y": 0.45000000000000007,
          "yanchor": "middle",
          "yref": "paper"
         },
         {
          "font": {
           "size": 9.6
          },
          "showarrow": false,
          "text": "<b>-0.86</b>",
          "width": 64,
          "x": 1.0016,
          "xanchor": "left",
          "xref": "paper",
          "y": 0.3500000000000001,
          "yanchor": "middle",
          "yref": "paper"
         },
         {
          "font": {
           "size": 9.6
          },
          "showarrow": false,
          "text": "<b>-0.86</b>",
          "width": 64,
          "x": 1.0016,
          "xanchor": "left",
          "xref": "paper",
          "y": 0.2500000000000001,
          "yanchor": "middle",
          "yref": "paper"
         },
         {
          "font": {
           "size": 9.6
          },
          "showarrow": false,
          "text": "<b>-0.86</b>",
          "width": 64,
          "x": 1.0016,
          "xanchor": "left",
          "xref": "paper",
          "y": 0.1500000000000001,
          "yanchor": "middle",
          "yref": "paper"
         },
         {
          "font": {
           "size": 9.6
          },
          "showarrow": false,
          "text": "<b>-0.86</b>",
          "width": 64,
          "x": 1.0016,
          "xanchor": "left",
          "xref": "paper",
          "y": 0.0500000000000001,
          "yanchor": "middle",
          "yref": "paper"
         },
         {
          "font": {
           "size": 9.6
          },
          "showarrow": false,
          "text": "<b>P-Value</b>",
          "width": 64,
          "x": 1.1016000000000001,
          "xanchor": "left",
          "xref": "paper",
          "y": 0.95,
          "yanchor": "middle",
          "yref": "paper"
         },
         {
          "font": {
           "size": 9.6
          },
          "showarrow": false,
          "text": "<b>0.38</b>",
          "width": 64,
          "x": 1.1016000000000001,
          "xanchor": "left",
          "xref": "paper",
          "y": 0.75,
          "yanchor": "middle",
          "yref": "paper"
         },
         {
          "font": {
           "size": 9.6
          },
          "showarrow": false,
          "text": "<b>0.38</b>",
          "width": 64,
          "x": 1.1016000000000001,
          "xanchor": "left",
          "xref": "paper",
          "y": 0.65,
          "yanchor": "middle",
          "yref": "paper"
         },
         {
          "font": {
           "size": 9.6
          },
          "showarrow": false,
          "text": "<b>0.38</b>",
          "width": 64,
          "x": 1.1016000000000001,
          "xanchor": "left",
          "xref": "paper",
          "y": 0.55,
          "yanchor": "middle",
          "yref": "paper"
         },
         {
          "font": {
           "size": 9.6
          },
          "showarrow": false,
          "text": "<b>0.62</b>",
          "width": 64,
          "x": 1.1016000000000001,
          "xanchor": "left",
          "xref": "paper",
          "y": 0.45000000000000007,
          "yanchor": "middle",
          "yref": "paper"
         },
         {
          "font": {
           "size": 9.6
          },
          "showarrow": false,
          "text": "<b>0.62</b>",
          "width": 64,
          "x": 1.1016000000000001,
          "xanchor": "left",
          "xref": "paper",
          "y": 0.3500000000000001,
          "yanchor": "middle",
          "yref": "paper"
         },
         {
          "font": {
           "size": 9.6
          },
          "showarrow": false,
          "text": "<b>0.38</b>",
          "width": 64,
          "x": 1.1016000000000001,
          "xanchor": "left",
          "xref": "paper",
          "y": 0.2500000000000001,
          "yanchor": "middle",
          "yref": "paper"
         },
         {
          "font": {
           "size": 9.6
          },
          "showarrow": false,
          "text": "<b>0.38</b>",
          "width": 64,
          "x": 1.1016000000000001,
          "xanchor": "left",
          "xref": "paper",
          "y": 0.1500000000000001,
          "yanchor": "middle",
          "yref": "paper"
         },
         {
          "font": {
           "size": 9.6
          },
          "showarrow": false,
          "text": "<b>0.12</b>",
          "width": 64,
          "x": 1.1016000000000001,
          "xanchor": "left",
          "xref": "paper",
          "y": 0.0500000000000001,
          "yanchor": "middle",
          "yref": "paper"
         },
         {
          "font": {
           "size": 9.6
          },
          "showarrow": false,
          "text": "<b>FDR</b>",
          "width": 64,
          "x": 1.2016,
          "xanchor": "left",
          "xref": "paper",
          "y": 0.95,
          "yanchor": "middle",
          "yref": "paper"
         },
         {
          "font": {
           "size": 9.6
          },
          "showarrow": false,
          "text": "<b>1.00</b>",
          "width": 64,
          "x": 1.2016,
          "xanchor": "left",
          "xref": "paper",
          "y": 0.75,
          "yanchor": "middle",
          "yref": "paper"
         },
         {
          "font": {
           "size": 9.6
          },
          "showarrow": false,
          "text": "<b>1.00</b>",
          "width": 64,
          "x": 1.2016,
          "xanchor": "left",
          "xref": "paper",
          "y": 0.65,
          "yanchor": "middle",
          "yref": "paper"
         },
         {
          "font": {
           "size": 9.6
          },
          "showarrow": false,
          "text": "<b>1.00</b>",
          "width": 64,
          "x": 1.2016,
          "xanchor": "left",
          "xref": "paper",
          "y": 0.55,
          "yanchor": "middle",
          "yref": "paper"
         },
         {
          "font": {
           "size": 9.6
          },
          "showarrow": false,
          "text": "<b>1.00</b>",
          "width": 64,
          "x": 1.2016,
          "xanchor": "left",
          "xref": "paper",
          "y": 0.45000000000000007,
          "yanchor": "middle",
          "yref": "paper"
         },
         {
          "font": {
           "size": 9.6
          },
          "showarrow": false,
          "text": "<b>1.00</b>",
          "width": 64,
          "x": 1.2016,
          "xanchor": "left",
          "xref": "paper",
          "y": 0.3500000000000001,
          "yanchor": "middle",
          "yref": "paper"
         },
         {
          "font": {
           "size": 9.6
          },
          "showarrow": false,
          "text": "<b>1.00</b>",
          "width": 64,
          "x": 1.2016,
          "xanchor": "left",
          "xref": "paper",
          "y": 0.2500000000000001,
          "yanchor": "middle",
          "yref": "paper"
         },
         {
          "font": {
           "size": 9.6
          },
          "showarrow": false,
          "text": "<b>1.00</b>",
          "width": 64,
          "x": 1.2016,
          "xanchor": "left",
          "xref": "paper",
          "y": 0.1500000000000001,
          "yanchor": "middle",
          "yref": "paper"
         },
         {
          "font": {
           "size": 9.6
          },
          "showarrow": false,
          "text": "<b>1.00</b>",
          "width": 64,
          "x": 1.2016,
          "xanchor": "left",
          "xref": "paper",
          "y": 0.0500000000000001,
          "yanchor": "middle",
          "yref": "paper"
         }
        ],
        "height": 512,
        "margin": {
         "l": 196,
         "r": 196
        },
        "title": "Match Panel",
        "width": 880,
        "xaxis": {
         "anchor": "y",
         "tickfont": {
          "size": 9.6
         }
        },
        "yaxis": {
         "domain": [
          0,
          0.8
         ],
         "dtick": 1,
         "tickfont": {
          "size": 9.6
         }
        },
        "yaxis2": {
         "domain": [
          0.9,
          1
         ],
         "tickfont": {
          "size": 9.6
         }
        }
       }
      },
      "text/html": [
       "<div id=\"7fe0dd2b-15ad-479f-9779-b31e25f96eb3\" style=\"height: 512px; width: 880px;\" class=\"plotly-graph-div\"></div><script type=\"text/javascript\">require([\"plotly\"], function(Plotly) { window.PLOTLYENV=window.PLOTLYENV || {};window.PLOTLYENV.BASE_URL=\"https://plot.ly\";Plotly.newPlot(\"7fe0dd2b-15ad-479f-9779-b31e25f96eb3\", [{\"colorscale\": [[0.0, \"#ebf6f7\"], [1.0, \"#171412\"]], \"showscale\": false, \"text\": [[\"Sample 0\", \"Sample 1\"]], \"x\": [\"Sample 0\", \"Sample 1\"], \"y\": [\"Target\"], \"yaxis\": \"y2\", \"z\": [[0, 2]], \"type\": \"heatmap\", \"uid\": \"ff1d3c09-9302-4ea7-833a-b8b267288d53\"}, {\"colorscale\": [[0.0, \"#4242ff\"], [0.00392156862745098, \"#4241ff\"], [0.00784313725490196, \"#4240ff\"], [0.011764705882352941, \"#423fff\"], [0.01568627450980392, \"#423eff\"], [0.0196078431372549, \"#423dff\"], [0.023529411764705882, \"#423cff\"], [0.027450980392156862, \"#423bff\"], [0.03137254901960784, \"#423aff\"], [0.03529411764705882, \"#4239ff\"], [0.0392156862745098, \"#4238ff\"], [0.043137254901960784, \"#4237ff\"], [0.047058823529411764, \"#4236ff\"], [0.050980392156862744, \"#4235ff\"], [0.054901960784313725, \"#4234ff\"], [0.058823529411764705, \"#4233ff\"], [0.06274509803921569, \"#4232ff\"], [0.06666666666666667, \"#4231ff\"], [0.07058823529411765, \"#4230ff\"], [0.07450980392156863, \"#422fff\"], [0.0784313725490196, \"#422eff\"], [0.08235294117647059, \"#422dff\"], [0.08627450980392157, \"#422cff\"], [0.09019607843137255, \"#422bff\"], [0.09411764705882353, \"#422aff\"], [0.09803921568627451, \"#4229ff\"], [0.10196078431372549, \"#4228ff\"], [0.10588235294117647, \"#4228ff\"], [0.10980392156862745, \"#4227ff\"], [0.11372549019607843, \"#4226ff\"], [0.11764705882352941, \"#4226ff\"], [0.12156862745098039, \"#4225ff\"], [0.12549019607843137, \"#4224ff\"], [0.12941176470588237, \"#4224ff\"], [0.13333333333333333, \"#4223ff\"], [0.13725490196078433, \"#4222ff\"], [0.1411764705882353, \"#4221ff\"], [0.1450980392156863, \"#4221ff\"], [0.14901960784313725, \"#4220ff\"], [0.15294117647058825, \"#421fff\"], [0.1568627450980392, \"#421fff\"], [0.1607843137254902, \"#421eff\"], [0.16470588235294117, \"#421dff\"], [0.16862745098039217, \"#421dff\"], [0.17254901960784313, \"#421cff\"], [0.17647058823529413, \"#421bff\"], [0.1803921568627451, \"#421aff\"], [0.1843137254901961, \"#421aff\"], [0.18823529411764706, \"#4219ff\"], [0.19215686274509805, \"#4218ff\"], [0.19607843137254902, \"#4218ff\"], [0.2, \"#4217ff\"], [0.20392156862745098, \"#4419ff\"], [0.20784313725490197, \"#451aff\"], [0.21176470588235294, \"#461cff\"], [0.21568627450980393, \"#481eff\"], [0.2196078431372549, \"#491fff\"], [0.2235294117647059, \"#4a21ff\"], [0.22745098039215686, \"#4b23ff\"], [0.23137254901960785, \"#4d25ff\"], [0.23529411764705882, \"#4e26ff\"], [0.23921568627450981, \"#4f28ff\"], [0.24313725490196078, \"#512aff\"], [0.24705882352941178, \"#522bff\"], [0.25098039215686274, \"#532dff\"], [0.2549019607843137, \"#542fff\"], [0.25882352941176473, \"#5630ff\"], [0.2627450980392157, \"#5732ff\"], [0.26666666666666666, \"#5834ff\"], [0.27058823529411763, \"#5a36ff\"], [0.27450980392156865, \"#5b37ff\"], [0.2784313725490196, \"#5c39ff\"], [0.2823529411764706, \"#5e3bff\"], [0.28627450980392155, \"#5f3cff\"], [0.2901960784313726, \"#603eff\"], [0.29411764705882354, \"#6240ff\"], [0.2980392156862745, \"#6341ff\"], [0.30196078431372547, \"#6544ff\"], [0.3058823529411765, \"#6849ff\"], [0.30980392156862746, \"#6b4dff\"], [0.3137254901960784, \"#6e51ff\"], [0.3176470588235294, \"#7156ff\"], [0.3215686274509804, \"#745aff\"], [0.3254901960784314, \"#775eff\"], [0.32941176470588235, \"#7a63ff\"], [0.3333333333333333, \"#7d67ff\"], [0.33725490196078434, \"#806bff\"], [0.3411764705882353, \"#836fff\"], [0.34509803921568627, \"#8674ff\"], [0.34901960784313724, \"#8978ff\"], [0.35294117647058826, \"#8c7cff\"], [0.3568627450980392, \"#8f81ff\"], [0.3607843137254902, \"#9285ff\"], [0.36470588235294116, \"#9589ff\"], [0.3686274509803922, \"#988eff\"], [0.37254901960784315, \"#9b92ff\"], [0.3764705882352941, \"#9e96ff\"], [0.3803921568627451, \"#a19aff\"], [0.3843137254901961, \"#a49fff\"], [0.38823529411764707, \"#a7a3ff\"], [0.39215686274509803, \"#aaa7ff\"], [0.396078431372549, \"#adacff\"], [0.4, \"#b0b0ff\"], [0.403921568627451, \"#b3b3ff\"], [0.40784313725490196, \"#b6b6ff\"], [0.4117647058823529, \"#b9b9ff\"], [0.41568627450980394, \"#bcbcff\"], [0.4196078431372549, \"#bfbfff\"], [0.4235294117647059, \"#c3c3ff\"], [0.42745098039215684, \"#c6c6ff\"], [0.43137254901960786, \"#c9c9ff\"], [0.43529411764705883, \"#ccccff\"], [0.4392156862745098, \"#cfcfff\"], [0.44313725490196076, \"#d2d2ff\"], [0.4470588235294118, \"#d5d5ff\"], [0.45098039215686275, \"#d8d8ff\"], [0.4549019607843137, \"#dbdbff\"], [0.4588235294117647, \"#dedeff\"], [0.4627450980392157, \"#e2e2ff\"], [0.4666666666666667, \"#e5e5ff\"], [0.47058823529411764, \"#e8e8ff\"], [0.4745098039215686, \"#ebebff\"], [0.47843137254901963, \"#eeeeff\"], [0.4823529411764706, \"#f1f1ff\"], [0.48627450980392156, \"#f4f4ff\"], [0.49019607843137253, \"#f7f7ff\"], [0.49411764705882355, \"#fafaff\"], [0.4980392156862745, \"#fdfdff\"], [0.5019607843137255, \"#fffdfd\"], [0.5058823529411764, \"#fffafa\"], [0.5098039215686274, \"#fff7f7\"], [0.5137254901960784, \"#fff4f4\"], [0.5176470588235295, \"#fff1f1\"], [0.5215686274509804, \"#ffeeee\"], [0.5254901960784314, \"#ffebeb\"], [0.5294117647058824, \"#ffe8e8\"], [0.5333333333333333, \"#ffe5e5\"], [0.5372549019607843, \"#ffe2e2\"], [0.5411764705882353, \"#ffdede\"], [0.5450980392156862, \"#ffdbdb\"], [0.5490196078431373, \"#ffd8d8\"], [0.5529411764705883, \"#ffd5d5\"], [0.5568627450980392, \"#ffd2d2\"], [0.5607843137254902, \"#ffcfcf\"], [0.5647058823529412, \"#ffcccc\"], [0.5686274509803921, \"#ffc9c9\"], [0.5725490196078431, \"#ffc6c6\"], [0.5764705882352941, \"#ffc3c3\"], [0.5803921568627451, \"#ffbfbf\"], [0.5843137254901961, \"#ffbcbc\"], [0.5882352941176471, \"#ffb9b9\"], [0.592156862745098, \"#ffb6b6\"], [0.596078431372549, \"#ffb3b3\"], [0.6, \"#ffb0b0\"], [0.6039215686274509, \"#ffacad\"], [0.6078431372549019, \"#ffa7aa\"], [0.611764705882353, \"#ffa3a7\"], [0.615686274509804, \"#ff9fa4\"], [0.6196078431372549, \"#ff9aa1\"], [0.6235294117647059, \"#ff969e\"], [0.6274509803921569, \"#ff929b\"], [0.6313725490196078, \"#ff8e98\"], [0.6352941176470588, \"#ff8995\"], [0.6392156862745098, \"#ff8592\"], [0.6431372549019608, \"#ff818f\"], [0.6470588235294118, \"#ff7c8c\"], [0.6509803921568628, \"#ff7889\"], [0.6549019607843137, \"#ff7486\"], [0.6588235294117647, \"#ff6f83\"], [0.6627450980392157, \"#ff6b80\"], [0.6666666666666666, \"#ff677d\"], [0.6705882352941176, \"#ff637a\"], [0.6745098039215687, \"#ff5e77\"], [0.6784313725490196, \"#ff5a74\"], [0.6823529411764706, \"#ff5671\"], [0.6862745098039216, \"#ff516e\"], [0.6901960784313725, \"#ff4d6b\"], [0.6941176470588235, \"#ff4968\"], [0.6980392156862745, \"#ff4465\"], [0.7019607843137254, \"#ff4163\"], [0.7058823529411765, \"#ff4062\"], [0.7098039215686275, \"#ff3e60\"], [0.7137254901960784, \"#ff3c5f\"], [0.7176470588235294, \"#ff3b5e\"], [0.7215686274509804, \"#ff395c\"], [0.7254901960784313, \"#ff375b\"], [0.7294117647058823, \"#ff365a\"], [0.7333333333333333, \"#ff3458\"], [0.7372549019607844, \"#ff3257\"], [0.7411764705882353, \"#ff3056\"], [0.7450980392156863, \"#ff2f55\"], [0.7490196078431373, \"#ff2d53\"], [0.7529411764705882, \"#ff2b52\"], [0.7568627450980392, \"#ff2a51\"], [0.7607843137254902, \"#ff284f\"], [0.7647058823529411, \"#ff264e\"], [0.7686274509803922, \"#ff254d\"], [0.7725490196078432, \"#ff234b\"], [0.7764705882352941, \"#ff214a\"], [0.7803921568627451, \"#ff1f49\"], [0.7843137254901961, \"#ff1e48\"], [0.788235294117647, \"#ff1c46\"], [0.792156862745098, \"#ff1a45\"], [0.796078431372549, \"#ff1944\"], [0.8, \"#ff1742\"], [0.803921568627451, \"#ff1842\"], [0.807843137254902, \"#ff1842\"], [0.8117647058823529, \"#ff1942\"], [0.8156862745098039, \"#ff1a42\"], [0.8196078431372549, \"#ff1a42\"], [0.8235294117647058, \"#ff1b42\"], [0.8274509803921568, \"#ff1c42\"], [0.8313725490196079, \"#ff1d42\"], [0.8352941176470589, \"#ff1d42\"], [0.8392156862745098, \"#ff1e42\"], [0.8431372549019608, \"#ff1f42\"], [0.8470588235294118, \"#ff1f42\"], [0.8509803921568627, \"#ff2042\"], [0.8549019607843137, \"#ff2142\"], [0.8588235294117647, \"#ff2142\"], [0.8627450980392157, \"#ff2242\"], [0.8666666666666667, \"#ff2342\"], [0.8705882352941177, \"#ff2442\"], [0.8745098039215686, \"#ff2442\"], [0.8784313725490196, \"#ff2542\"], [0.8823529411764706, \"#ff2642\"], [0.8862745098039215, \"#ff2642\"], [0.8901960784313725, \"#ff2742\"], [0.8941176470588236, \"#ff2842\"], [0.8980392156862745, \"#ff2842\"], [0.9019607843137255, \"#ff2942\"], [0.9058823529411765, \"#ff2a42\"], [0.9098039215686274, \"#ff2b42\"], [0.9137254901960784, \"#ff2c42\"], [0.9176470588235294, \"#ff2d42\"], [0.9215686274509803, \"#ff2e42\"], [0.9254901960784314, \"#ff2f42\"], [0.9294117647058824, \"#ff3042\"], [0.9333333333333333, \"#ff3142\"], [0.9372549019607843, \"#ff3242\"], [0.9411764705882353, \"#ff3342\"], [0.9450980392156862, \"#ff3442\"], [0.9490196078431372, \"#ff3542\"], [0.9529411764705882, \"#ff3642\"], [0.9568627450980393, \"#ff3742\"], [0.9607843137254902, \"#ff3842\"], [0.9647058823529412, \"#ff3942\"], [0.9686274509803922, \"#ff3a42\"], [0.9725490196078431, \"#ff3b42\"], [0.9764705882352941, \"#ff3c42\"], [0.9803921568627451, \"#ff3d42\"], [0.984313725490196, \"#ff3e42\"], [0.9882352941176471, \"#ff3f42\"], [0.9921568627450981, \"#ff4042\"], [0.996078431372549, \"#ff4142\"], [1.0, \"#ff4242\"]], \"showscale\": false, \"x\": [\"Sample 0\", \"Sample 1\"], \"y\": [\"Index 3\", \"Index 5\", \"Index 2\", \"Index 7\", \"Index 0\", \"Index 6\", \"Index 4\", \"Index 1\"], \"yaxis\": \"y\", \"z\": [[1.0000000000000013, -0.9999999999999988], [1.0, -1.0], [1.0, -1.0], [1.0, -1.0], [0.9999999999999982, -1.0000000000000018], [-1.0, 1.0], [-1.0, 1.0], [-1.0, 1.0]], \"zmax\": 1.0000000000000013, \"zmin\": -1.0000000000000018, \"type\": \"heatmap\", \"uid\": \"351ce080-dba1-435e-a0c0-58c179e32c65\"}], {\"annotations\": [{\"font\": {\"size\": 9.6}, \"showarrow\": false, \"text\": \"<b>Score</b>\", \"width\": 64, \"x\": 1.0016, \"xanchor\": \"left\", \"xref\": \"paper\", \"y\": 0.95, \"yanchor\": \"middle\", \"yref\": \"paper\"}, {\"font\": {\"size\": 9.6}, \"showarrow\": false, \"text\": \"<b>0.86</b>\", \"width\": 64, \"x\": 1.0016, \"xanchor\": \"left\", \"xref\": \"paper\", \"y\": 0.75, \"yanchor\": \"middle\", \"yref\": \"paper\"}, {\"font\": {\"size\": 9.6}, \"showarrow\": false, \"text\": \"<b>0.86</b>\", \"width\": 64, \"x\": 1.0016, \"xanchor\": \"left\", \"xref\": \"paper\", \"y\": 0.65, \"yanchor\": \"middle\", \"yref\": \"paper\"}, {\"font\": {\"size\": 9.6}, \"showarrow\": false, \"text\": \"<b>0.86</b>\", \"width\": 64, \"x\": 1.0016, \"xanchor\": \"left\", \"xref\": \"paper\", \"y\": 0.55, \"yanchor\": \"middle\", \"yref\": \"paper\"}, {\"font\": {\"size\": 9.6}, \"showarrow\": false, \"text\": \"<b>-0.86</b>\", \"width\": 64, \"x\": 1.0016, \"xanchor\": \"left\", \"xref\": \"paper\", \"y\": 0.45000000000000007, \"yanchor\": \"middle\", \"yref\": \"paper\"}, {\"font\": {\"size\": 9.6}, \"showarrow\": false, \"text\": \"<b>-0.86</b>\", \"width\": 64, \"x\": 1.0016, \"xanchor\": \"left\", \"xref\": \"paper\", \"y\": 0.3500000000000001, \"yanchor\": \"middle\", \"yref\": \"paper\"}, {\"font\": {\"size\": 9.6}, \"showarrow\": false, \"text\": \"<b>-0.86</b>\", \"width\": 64, \"x\": 1.0016, \"xanchor\": \"left\", \"xref\": \"paper\", \"y\": 0.2500000000000001, \"yanchor\": \"middle\", \"yref\": \"paper\"}, {\"font\": {\"size\": 9.6}, \"showarrow\": false, \"text\": \"<b>-0.86</b>\", \"width\": 64, \"x\": 1.0016, \"xanchor\": \"left\", \"xref\": \"paper\", \"y\": 0.1500000000000001, \"yanchor\": \"middle\", \"yref\": \"paper\"}, {\"font\": {\"size\": 9.6}, \"showarrow\": false, \"text\": \"<b>-0.86</b>\", \"width\": 64, \"x\": 1.0016, \"xanchor\": \"left\", \"xref\": \"paper\", \"y\": 0.0500000000000001, \"yanchor\": \"middle\", \"yref\": \"paper\"}, {\"font\": {\"size\": 9.6}, \"showarrow\": false, \"text\": \"<b>P-Value</b>\", \"width\": 64, \"x\": 1.1016000000000001, \"xanchor\": \"left\", \"xref\": \"paper\", \"y\": 0.95, \"yanchor\": \"middle\", \"yref\": \"paper\"}, {\"font\": {\"size\": 9.6}, \"showarrow\": false, \"text\": \"<b>0.38</b>\", \"width\": 64, \"x\": 1.1016000000000001, \"xanchor\": \"left\", \"xref\": \"paper\", \"y\": 0.75, \"yanchor\": \"middle\", \"yref\": \"paper\"}, {\"font\": {\"size\": 9.6}, \"showarrow\": false, \"text\": \"<b>0.38</b>\", \"width\": 64, \"x\": 1.1016000000000001, \"xanchor\": \"left\", \"xref\": \"paper\", \"y\": 0.65, \"yanchor\": \"middle\", \"yref\": \"paper\"}, {\"font\": {\"size\": 9.6}, \"showarrow\": false, \"text\": \"<b>0.38</b>\", \"width\": 64, \"x\": 1.1016000000000001, \"xanchor\": \"left\", \"xref\": \"paper\", \"y\": 0.55, \"yanchor\": \"middle\", \"yref\": \"paper\"}, {\"font\": {\"size\": 9.6}, \"showarrow\": false, \"text\": \"<b>0.62</b>\", \"width\": 64, \"x\": 1.1016000000000001, \"xanchor\": \"left\", \"xref\": \"paper\", \"y\": 0.45000000000000007, \"yanchor\": \"middle\", \"yref\": \"paper\"}, {\"font\": {\"size\": 9.6}, \"showarrow\": false, \"text\": \"<b>0.62</b>\", \"width\": 64, \"x\": 1.1016000000000001, \"xanchor\": \"left\", \"xref\": \"paper\", \"y\": 0.3500000000000001, \"yanchor\": \"middle\", \"yref\": \"paper\"}, {\"font\": {\"size\": 9.6}, \"showarrow\": false, \"text\": \"<b>0.38</b>\", \"width\": 64, \"x\": 1.1016000000000001, \"xanchor\": \"left\", \"xref\": \"paper\", \"y\": 0.2500000000000001, \"yanchor\": \"middle\", \"yref\": \"paper\"}, {\"font\": {\"size\": 9.6}, \"showarrow\": false, \"text\": \"<b>0.38</b>\", \"width\": 64, \"x\": 1.1016000000000001, \"xanchor\": \"left\", \"xref\": \"paper\", \"y\": 0.1500000000000001, \"yanchor\": \"middle\", \"yref\": \"paper\"}, {\"font\": {\"size\": 9.6}, \"showarrow\": false, \"text\": \"<b>0.12</b>\", \"width\": 64, \"x\": 1.1016000000000001, \"xanchor\": \"left\", \"xref\": \"paper\", \"y\": 0.0500000000000001, \"yanchor\": \"middle\", \"yref\": \"paper\"}, {\"font\": {\"size\": 9.6}, \"showarrow\": false, \"text\": \"<b>FDR</b>\", \"width\": 64, \"x\": 1.2016, \"xanchor\": \"left\", \"xref\": \"paper\", \"y\": 0.95, \"yanchor\": \"middle\", \"yref\": \"paper\"}, {\"font\": {\"size\": 9.6}, \"showarrow\": false, \"text\": \"<b>1.00</b>\", \"width\": 64, \"x\": 1.2016, \"xanchor\": \"left\", \"xref\": \"paper\", \"y\": 0.75, \"yanchor\": \"middle\", \"yref\": \"paper\"}, {\"font\": {\"size\": 9.6}, \"showarrow\": false, \"text\": \"<b>1.00</b>\", \"width\": 64, \"x\": 1.2016, \"xanchor\": \"left\", \"xref\": \"paper\", \"y\": 0.65, \"yanchor\": \"middle\", \"yref\": \"paper\"}, {\"font\": {\"size\": 9.6}, \"showarrow\": false, \"text\": \"<b>1.00</b>\", \"width\": 64, \"x\": 1.2016, \"xanchor\": \"left\", \"xref\": \"paper\", \"y\": 0.55, \"yanchor\": \"middle\", \"yref\": \"paper\"}, {\"font\": {\"size\": 9.6}, \"showarrow\": false, \"text\": \"<b>1.00</b>\", \"width\": 64, \"x\": 1.2016, \"xanchor\": \"left\", \"xref\": \"paper\", \"y\": 0.45000000000000007, \"yanchor\": \"middle\", \"yref\": \"paper\"}, {\"font\": {\"size\": 9.6}, \"showarrow\": false, \"text\": \"<b>1.00</b>\", \"width\": 64, \"x\": 1.2016, \"xanchor\": \"left\", \"xref\": \"paper\", \"y\": 0.3500000000000001, \"yanchor\": \"middle\", \"yref\": \"paper\"}, {\"font\": {\"size\": 9.6}, \"showarrow\": false, \"text\": \"<b>1.00</b>\", \"width\": 64, \"x\": 1.2016, \"xanchor\": \"left\", \"xref\": \"paper\", \"y\": 0.2500000000000001, \"yanchor\": \"middle\", \"yref\": \"paper\"}, {\"font\": {\"size\": 9.6}, \"showarrow\": false, \"text\": \"<b>1.00</b>\", \"width\": 64, \"x\": 1.2016, \"xanchor\": \"left\", \"xref\": \"paper\", \"y\": 0.1500000000000001, \"yanchor\": \"middle\", \"yref\": \"paper\"}, {\"font\": {\"size\": 9.6}, \"showarrow\": false, \"text\": \"<b>1.00</b>\", \"width\": 64, \"x\": 1.2016, \"xanchor\": \"left\", \"xref\": \"paper\", \"y\": 0.0500000000000001, \"yanchor\": \"middle\", \"yref\": \"paper\"}], \"height\": 512, \"margin\": {\"l\": 196, \"r\": 196}, \"title\": \"Match Panel\", \"width\": 880, \"xaxis\": {\"anchor\": \"y\", \"tickfont\": {\"size\": 9.6}}, \"yaxis\": {\"domain\": [0, 0.8], \"dtick\": 1, \"tickfont\": {\"size\": 9.6}}, \"yaxis2\": {\"domain\": [0.9, 1], \"tickfont\": {\"size\": 9.6}}}, {\"showLink\": false, \"linkText\": \"Export to plot.ly\"})});</script>"
      ],
      "text/vnd.plotly.v1+html": [
       "<div id=\"7fe0dd2b-15ad-479f-9779-b31e25f96eb3\" style=\"height: 512px; width: 880px;\" class=\"plotly-graph-div\"></div><script type=\"text/javascript\">require([\"plotly\"], function(Plotly) { window.PLOTLYENV=window.PLOTLYENV || {};window.PLOTLYENV.BASE_URL=\"https://plot.ly\";Plotly.newPlot(\"7fe0dd2b-15ad-479f-9779-b31e25f96eb3\", [{\"colorscale\": [[0.0, \"#ebf6f7\"], [1.0, \"#171412\"]], \"showscale\": false, \"text\": [[\"Sample 0\", \"Sample 1\"]], \"x\": [\"Sample 0\", \"Sample 1\"], \"y\": [\"Target\"], \"yaxis\": \"y2\", \"z\": [[0, 2]], \"type\": \"heatmap\", \"uid\": \"ff1d3c09-9302-4ea7-833a-b8b267288d53\"}, {\"colorscale\": [[0.0, \"#4242ff\"], [0.00392156862745098, \"#4241ff\"], [0.00784313725490196, \"#4240ff\"], [0.011764705882352941, \"#423fff\"], [0.01568627450980392, \"#423eff\"], [0.0196078431372549, \"#423dff\"], [0.023529411764705882, \"#423cff\"], [0.027450980392156862, \"#423bff\"], [0.03137254901960784, \"#423aff\"], [0.03529411764705882, \"#4239ff\"], [0.0392156862745098, \"#4238ff\"], [0.043137254901960784, \"#4237ff\"], [0.047058823529411764, \"#4236ff\"], [0.050980392156862744, \"#4235ff\"], [0.054901960784313725, \"#4234ff\"], [0.058823529411764705, \"#4233ff\"], [0.06274509803921569, \"#4232ff\"], [0.06666666666666667, \"#4231ff\"], [0.07058823529411765, \"#4230ff\"], [0.07450980392156863, \"#422fff\"], [0.0784313725490196, \"#422eff\"], [0.08235294117647059, \"#422dff\"], [0.08627450980392157, \"#422cff\"], [0.09019607843137255, \"#422bff\"], [0.09411764705882353, \"#422aff\"], [0.09803921568627451, \"#4229ff\"], [0.10196078431372549, \"#4228ff\"], [0.10588235294117647, \"#4228ff\"], [0.10980392156862745, \"#4227ff\"], [0.11372549019607843, \"#4226ff\"], [0.11764705882352941, \"#4226ff\"], [0.12156862745098039, \"#4225ff\"], [0.12549019607843137, \"#4224ff\"], [0.12941176470588237, \"#4224ff\"], [0.13333333333333333, \"#4223ff\"], [0.13725490196078433, \"#4222ff\"], [0.1411764705882353, \"#4221ff\"], [0.1450980392156863, \"#4221ff\"], [0.14901960784313725, \"#4220ff\"], [0.15294117647058825, \"#421fff\"], [0.1568627450980392, \"#421fff\"], [0.1607843137254902, \"#421eff\"], [0.16470588235294117, \"#421dff\"], [0.16862745098039217, \"#421dff\"], [0.17254901960784313, \"#421cff\"], [0.17647058823529413, \"#421bff\"], [0.1803921568627451, \"#421aff\"], [0.1843137254901961, \"#421aff\"], [0.18823529411764706, \"#4219ff\"], [0.19215686274509805, \"#4218ff\"], [0.19607843137254902, \"#4218ff\"], [0.2, \"#4217ff\"], [0.20392156862745098, \"#4419ff\"], [0.20784313725490197, \"#451aff\"], [0.21176470588235294, \"#461cff\"], [0.21568627450980393, \"#481eff\"], [0.2196078431372549, \"#491fff\"], [0.2235294117647059, \"#4a21ff\"], [0.22745098039215686, \"#4b23ff\"], [0.23137254901960785, \"#4d25ff\"], [0.23529411764705882, \"#4e26ff\"], [0.23921568627450981, \"#4f28ff\"], [0.24313725490196078, \"#512aff\"], [0.24705882352941178, \"#522bff\"], [0.25098039215686274, \"#532dff\"], [0.2549019607843137, \"#542fff\"], [0.25882352941176473, \"#5630ff\"], [0.2627450980392157, \"#5732ff\"], [0.26666666666666666, \"#5834ff\"], [0.27058823529411763, \"#5a36ff\"], [0.27450980392156865, \"#5b37ff\"], [0.2784313725490196, \"#5c39ff\"], [0.2823529411764706, \"#5e3bff\"], [0.28627450980392155, \"#5f3cff\"], [0.2901960784313726, \"#603eff\"], [0.29411764705882354, \"#6240ff\"], [0.2980392156862745, \"#6341ff\"], [0.30196078431372547, \"#6544ff\"], [0.3058823529411765, \"#6849ff\"], [0.30980392156862746, \"#6b4dff\"], [0.3137254901960784, \"#6e51ff\"], [0.3176470588235294, \"#7156ff\"], [0.3215686274509804, \"#745aff\"], [0.3254901960784314, \"#775eff\"], [0.32941176470588235, \"#7a63ff\"], [0.3333333333333333, \"#7d67ff\"], [0.33725490196078434, \"#806bff\"], [0.3411764705882353, \"#836fff\"], [0.34509803921568627, \"#8674ff\"], [0.34901960784313724, \"#8978ff\"], [0.35294117647058826, \"#8c7cff\"], [0.3568627450980392, \"#8f81ff\"], [0.3607843137254902, \"#9285ff\"], [0.36470588235294116, \"#9589ff\"], [0.3686274509803922, \"#988eff\"], [0.37254901960784315, \"#9b92ff\"], [0.3764705882352941, \"#9e96ff\"], [0.3803921568627451, \"#a19aff\"], [0.3843137254901961, \"#a49fff\"], [0.38823529411764707, \"#a7a3ff\"], [0.39215686274509803, \"#aaa7ff\"], [0.396078431372549, \"#adacff\"], [0.4, \"#b0b0ff\"], [0.403921568627451, \"#b3b3ff\"], [0.40784313725490196, \"#b6b6ff\"], [0.4117647058823529, \"#b9b9ff\"], [0.41568627450980394, \"#bcbcff\"], [0.4196078431372549, \"#bfbfff\"], [0.4235294117647059, \"#c3c3ff\"], [0.42745098039215684, \"#c6c6ff\"], [0.43137254901960786, \"#c9c9ff\"], [0.43529411764705883, \"#ccccff\"], [0.4392156862745098, \"#cfcfff\"], [0.44313725490196076, \"#d2d2ff\"], [0.4470588235294118, \"#d5d5ff\"], [0.45098039215686275, \"#d8d8ff\"], [0.4549019607843137, \"#dbdbff\"], [0.4588235294117647, \"#dedeff\"], [0.4627450980392157, \"#e2e2ff\"], [0.4666666666666667, \"#e5e5ff\"], [0.47058823529411764, \"#e8e8ff\"], [0.4745098039215686, \"#ebebff\"], [0.47843137254901963, \"#eeeeff\"], [0.4823529411764706, \"#f1f1ff\"], [0.48627450980392156, \"#f4f4ff\"], [0.49019607843137253, \"#f7f7ff\"], [0.49411764705882355, \"#fafaff\"], [0.4980392156862745, \"#fdfdff\"], [0.5019607843137255, \"#fffdfd\"], [0.5058823529411764, \"#fffafa\"], [0.5098039215686274, \"#fff7f7\"], [0.5137254901960784, \"#fff4f4\"], [0.5176470588235295, \"#fff1f1\"], [0.5215686274509804, \"#ffeeee\"], [0.5254901960784314, \"#ffebeb\"], [0.5294117647058824, \"#ffe8e8\"], [0.5333333333333333, \"#ffe5e5\"], [0.5372549019607843, \"#ffe2e2\"], [0.5411764705882353, \"#ffdede\"], [0.5450980392156862, \"#ffdbdb\"], [0.5490196078431373, \"#ffd8d8\"], [0.5529411764705883, \"#ffd5d5\"], [0.5568627450980392, \"#ffd2d2\"], [0.5607843137254902, \"#ffcfcf\"], [0.5647058823529412, \"#ffcccc\"], [0.5686274509803921, \"#ffc9c9\"], [0.5725490196078431, \"#ffc6c6\"], [0.5764705882352941, \"#ffc3c3\"], [0.5803921568627451, \"#ffbfbf\"], [0.5843137254901961, \"#ffbcbc\"], [0.5882352941176471, \"#ffb9b9\"], [0.592156862745098, \"#ffb6b6\"], [0.596078431372549, \"#ffb3b3\"], [0.6, \"#ffb0b0\"], [0.6039215686274509, \"#ffacad\"], [0.6078431372549019, \"#ffa7aa\"], [0.611764705882353, \"#ffa3a7\"], [0.615686274509804, \"#ff9fa4\"], [0.6196078431372549, \"#ff9aa1\"], [0.6235294117647059, \"#ff969e\"], [0.6274509803921569, \"#ff929b\"], [0.6313725490196078, \"#ff8e98\"], [0.6352941176470588, \"#ff8995\"], [0.6392156862745098, \"#ff8592\"], [0.6431372549019608, \"#ff818f\"], [0.6470588235294118, \"#ff7c8c\"], [0.6509803921568628, \"#ff7889\"], [0.6549019607843137, \"#ff7486\"], [0.6588235294117647, \"#ff6f83\"], [0.6627450980392157, \"#ff6b80\"], [0.6666666666666666, \"#ff677d\"], [0.6705882352941176, \"#ff637a\"], [0.6745098039215687, \"#ff5e77\"], [0.6784313725490196, \"#ff5a74\"], [0.6823529411764706, \"#ff5671\"], [0.6862745098039216, \"#ff516e\"], [0.6901960784313725, \"#ff4d6b\"], [0.6941176470588235, \"#ff4968\"], [0.6980392156862745, \"#ff4465\"], [0.7019607843137254, \"#ff4163\"], [0.7058823529411765, \"#ff4062\"], [0.7098039215686275, \"#ff3e60\"], [0.7137254901960784, \"#ff3c5f\"], [0.7176470588235294, \"#ff3b5e\"], [0.7215686274509804, \"#ff395c\"], [0.7254901960784313, \"#ff375b\"], [0.7294117647058823, \"#ff365a\"], [0.7333333333333333, \"#ff3458\"], [0.7372549019607844, \"#ff3257\"], [0.7411764705882353, \"#ff3056\"], [0.7450980392156863, \"#ff2f55\"], [0.7490196078431373, \"#ff2d53\"], [0.7529411764705882, \"#ff2b52\"], [0.7568627450980392, \"#ff2a51\"], [0.7607843137254902, \"#ff284f\"], [0.7647058823529411, \"#ff264e\"], [0.7686274509803922, \"#ff254d\"], [0.7725490196078432, \"#ff234b\"], [0.7764705882352941, \"#ff214a\"], [0.7803921568627451, \"#ff1f49\"], [0.7843137254901961, \"#ff1e48\"], [0.788235294117647, \"#ff1c46\"], [0.792156862745098, \"#ff1a45\"], [0.796078431372549, \"#ff1944\"], [0.8, \"#ff1742\"], [0.803921568627451, \"#ff1842\"], [0.807843137254902, \"#ff1842\"], [0.8117647058823529, \"#ff1942\"], [0.8156862745098039, \"#ff1a42\"], [0.8196078431372549, \"#ff1a42\"], [0.8235294117647058, \"#ff1b42\"], [0.8274509803921568, \"#ff1c42\"], [0.8313725490196079, \"#ff1d42\"], [0.8352941176470589, \"#ff1d42\"], [0.8392156862745098, \"#ff1e42\"], [0.8431372549019608, \"#ff1f42\"], [0.8470588235294118, \"#ff1f42\"], [0.8509803921568627, \"#ff2042\"], [0.8549019607843137, \"#ff2142\"], [0.8588235294117647, \"#ff2142\"], [0.8627450980392157, \"#ff2242\"], [0.8666666666666667, \"#ff2342\"], [0.8705882352941177, \"#ff2442\"], [0.8745098039215686, \"#ff2442\"], [0.8784313725490196, \"#ff2542\"], [0.8823529411764706, \"#ff2642\"], [0.8862745098039215, \"#ff2642\"], [0.8901960784313725, \"#ff2742\"], [0.8941176470588236, \"#ff2842\"], [0.8980392156862745, \"#ff2842\"], [0.9019607843137255, \"#ff2942\"], [0.9058823529411765, \"#ff2a42\"], [0.9098039215686274, \"#ff2b42\"], [0.9137254901960784, \"#ff2c42\"], [0.9176470588235294, \"#ff2d42\"], [0.9215686274509803, \"#ff2e42\"], [0.9254901960784314, \"#ff2f42\"], [0.9294117647058824, \"#ff3042\"], [0.9333333333333333, \"#ff3142\"], [0.9372549019607843, \"#ff3242\"], [0.9411764705882353, \"#ff3342\"], [0.9450980392156862, \"#ff3442\"], [0.9490196078431372, \"#ff3542\"], [0.9529411764705882, \"#ff3642\"], [0.9568627450980393, \"#ff3742\"], [0.9607843137254902, \"#ff3842\"], [0.9647058823529412, \"#ff3942\"], [0.9686274509803922, \"#ff3a42\"], [0.9725490196078431, \"#ff3b42\"], [0.9764705882352941, \"#ff3c42\"], [0.9803921568627451, \"#ff3d42\"], [0.984313725490196, \"#ff3e42\"], [0.9882352941176471, \"#ff3f42\"], [0.9921568627450981, \"#ff4042\"], [0.996078431372549, \"#ff4142\"], [1.0, \"#ff4242\"]], \"showscale\": false, \"x\": [\"Sample 0\", \"Sample 1\"], \"y\": [\"Index 3\", \"Index 5\", \"Index 2\", \"Index 7\", \"Index 0\", \"Index 6\", \"Index 4\", \"Index 1\"], \"yaxis\": \"y\", \"z\": [[1.0000000000000013, -0.9999999999999988], [1.0, -1.0], [1.0, -1.0], [1.0, -1.0], [0.9999999999999982, -1.0000000000000018], [-1.0, 1.0], [-1.0, 1.0], [-1.0, 1.0]], \"zmax\": 1.0000000000000013, \"zmin\": -1.0000000000000018, \"type\": \"heatmap\", \"uid\": \"351ce080-dba1-435e-a0c0-58c179e32c65\"}], {\"annotations\": [{\"font\": {\"size\": 9.6}, \"showarrow\": false, \"text\": \"<b>Score</b>\", \"width\": 64, \"x\": 1.0016, \"xanchor\": \"left\", \"xref\": \"paper\", \"y\": 0.95, \"yanchor\": \"middle\", \"yref\": \"paper\"}, {\"font\": {\"size\": 9.6}, \"showarrow\": false, \"text\": \"<b>0.86</b>\", \"width\": 64, \"x\": 1.0016, \"xanchor\": \"left\", \"xref\": \"paper\", \"y\": 0.75, \"yanchor\": \"middle\", \"yref\": \"paper\"}, {\"font\": {\"size\": 9.6}, \"showarrow\": false, \"text\": \"<b>0.86</b>\", \"width\": 64, \"x\": 1.0016, \"xanchor\": \"left\", \"xref\": \"paper\", \"y\": 0.65, \"yanchor\": \"middle\", \"yref\": \"paper\"}, {\"font\": {\"size\": 9.6}, \"showarrow\": false, \"text\": \"<b>0.86</b>\", \"width\": 64, \"x\": 1.0016, \"xanchor\": \"left\", \"xref\": \"paper\", \"y\": 0.55, \"yanchor\": \"middle\", \"yref\": \"paper\"}, {\"font\": {\"size\": 9.6}, \"showarrow\": false, \"text\": \"<b>-0.86</b>\", \"width\": 64, \"x\": 1.0016, \"xanchor\": \"left\", \"xref\": \"paper\", \"y\": 0.45000000000000007, \"yanchor\": \"middle\", \"yref\": \"paper\"}, {\"font\": {\"size\": 9.6}, \"showarrow\": false, \"text\": \"<b>-0.86</b>\", \"width\": 64, \"x\": 1.0016, \"xanchor\": \"left\", \"xref\": \"paper\", \"y\": 0.3500000000000001, \"yanchor\": \"middle\", \"yref\": \"paper\"}, {\"font\": {\"size\": 9.6}, \"showarrow\": false, \"text\": \"<b>-0.86</b>\", \"width\": 64, \"x\": 1.0016, \"xanchor\": \"left\", \"xref\": \"paper\", \"y\": 0.2500000000000001, \"yanchor\": \"middle\", \"yref\": \"paper\"}, {\"font\": {\"size\": 9.6}, \"showarrow\": false, \"text\": \"<b>-0.86</b>\", \"width\": 64, \"x\": 1.0016, \"xanchor\": \"left\", \"xref\": \"paper\", \"y\": 0.1500000000000001, \"yanchor\": \"middle\", \"yref\": \"paper\"}, {\"font\": {\"size\": 9.6}, \"showarrow\": false, \"text\": \"<b>-0.86</b>\", \"width\": 64, \"x\": 1.0016, \"xanchor\": \"left\", \"xref\": \"paper\", \"y\": 0.0500000000000001, \"yanchor\": \"middle\", \"yref\": \"paper\"}, {\"font\": {\"size\": 9.6}, \"showarrow\": false, \"text\": \"<b>P-Value</b>\", \"width\": 64, \"x\": 1.1016000000000001, \"xanchor\": \"left\", \"xref\": \"paper\", \"y\": 0.95, \"yanchor\": \"middle\", \"yref\": \"paper\"}, {\"font\": {\"size\": 9.6}, \"showarrow\": false, \"text\": \"<b>0.38</b>\", \"width\": 64, \"x\": 1.1016000000000001, \"xanchor\": \"left\", \"xref\": \"paper\", \"y\": 0.75, \"yanchor\": \"middle\", \"yref\": \"paper\"}, {\"font\": {\"size\": 9.6}, \"showarrow\": false, \"text\": \"<b>0.38</b>\", \"width\": 64, \"x\": 1.1016000000000001, \"xanchor\": \"left\", \"xref\": \"paper\", \"y\": 0.65, \"yanchor\": \"middle\", \"yref\": \"paper\"}, {\"font\": {\"size\": 9.6}, \"showarrow\": false, \"text\": \"<b>0.38</b>\", \"width\": 64, \"x\": 1.1016000000000001, \"xanchor\": \"left\", \"xref\": \"paper\", \"y\": 0.55, \"yanchor\": \"middle\", \"yref\": \"paper\"}, {\"font\": {\"size\": 9.6}, \"showarrow\": false, \"text\": \"<b>0.62</b>\", \"width\": 64, \"x\": 1.1016000000000001, \"xanchor\": \"left\", \"xref\": \"paper\", \"y\": 0.45000000000000007, \"yanchor\": \"middle\", \"yref\": \"paper\"}, {\"font\": {\"size\": 9.6}, \"showarrow\": false, \"text\": \"<b>0.62</b>\", \"width\": 64, \"x\": 1.1016000000000001, \"xanchor\": \"left\", \"xref\": \"paper\", \"y\": 0.3500000000000001, \"yanchor\": \"middle\", \"yref\": \"paper\"}, {\"font\": {\"size\": 9.6}, \"showarrow\": false, \"text\": \"<b>0.38</b>\", \"width\": 64, \"x\": 1.1016000000000001, \"xanchor\": \"left\", \"xref\": \"paper\", \"y\": 0.2500000000000001, \"yanchor\": \"middle\", \"yref\": \"paper\"}, {\"font\": {\"size\": 9.6}, \"showarrow\": false, \"text\": \"<b>0.38</b>\", \"width\": 64, \"x\": 1.1016000000000001, \"xanchor\": \"left\", \"xref\": \"paper\", \"y\": 0.1500000000000001, \"yanchor\": \"middle\", \"yref\": \"paper\"}, {\"font\": {\"size\": 9.6}, \"showarrow\": false, \"text\": \"<b>0.12</b>\", \"width\": 64, \"x\": 1.1016000000000001, \"xanchor\": \"left\", \"xref\": \"paper\", \"y\": 0.0500000000000001, \"yanchor\": \"middle\", \"yref\": \"paper\"}, {\"font\": {\"size\": 9.6}, \"showarrow\": false, \"text\": \"<b>FDR</b>\", \"width\": 64, \"x\": 1.2016, \"xanchor\": \"left\", \"xref\": \"paper\", \"y\": 0.95, \"yanchor\": \"middle\", \"yref\": \"paper\"}, {\"font\": {\"size\": 9.6}, \"showarrow\": false, \"text\": \"<b>1.00</b>\", \"width\": 64, \"x\": 1.2016, \"xanchor\": \"left\", \"xref\": \"paper\", \"y\": 0.75, \"yanchor\": \"middle\", \"yref\": \"paper\"}, {\"font\": {\"size\": 9.6}, \"showarrow\": false, \"text\": \"<b>1.00</b>\", \"width\": 64, \"x\": 1.2016, \"xanchor\": \"left\", \"xref\": \"paper\", \"y\": 0.65, \"yanchor\": \"middle\", \"yref\": \"paper\"}, {\"font\": {\"size\": 9.6}, \"showarrow\": false, \"text\": \"<b>1.00</b>\", \"width\": 64, \"x\": 1.2016, \"xanchor\": \"left\", \"xref\": \"paper\", \"y\": 0.55, \"yanchor\": \"middle\", \"yref\": \"paper\"}, {\"font\": {\"size\": 9.6}, \"showarrow\": false, \"text\": \"<b>1.00</b>\", \"width\": 64, \"x\": 1.2016, \"xanchor\": \"left\", \"xref\": \"paper\", \"y\": 0.45000000000000007, \"yanchor\": \"middle\", \"yref\": \"paper\"}, {\"font\": {\"size\": 9.6}, \"showarrow\": false, \"text\": \"<b>1.00</b>\", \"width\": 64, \"x\": 1.2016, \"xanchor\": \"left\", \"xref\": \"paper\", \"y\": 0.3500000000000001, \"yanchor\": \"middle\", \"yref\": \"paper\"}, {\"font\": {\"size\": 9.6}, \"showarrow\": false, \"text\": \"<b>1.00</b>\", \"width\": 64, \"x\": 1.2016, \"xanchor\": \"left\", \"xref\": \"paper\", \"y\": 0.2500000000000001, \"yanchor\": \"middle\", \"yref\": \"paper\"}, {\"font\": {\"size\": 9.6}, \"showarrow\": false, \"text\": \"<b>1.00</b>\", \"width\": 64, \"x\": 1.2016, \"xanchor\": \"left\", \"xref\": \"paper\", \"y\": 0.1500000000000001, \"yanchor\": \"middle\", \"yref\": \"paper\"}, {\"font\": {\"size\": 9.6}, \"showarrow\": false, \"text\": \"<b>1.00</b>\", \"width\": 64, \"x\": 1.2016, \"xanchor\": \"left\", \"xref\": \"paper\", \"y\": 0.0500000000000001, \"yanchor\": \"middle\", \"yref\": \"paper\"}], \"height\": 512, \"margin\": {\"l\": 196, \"r\": 196}, \"title\": \"Match Panel\", \"width\": 880, \"xaxis\": {\"anchor\": \"y\", \"tickfont\": {\"size\": 9.6}}, \"yaxis\": {\"domain\": [0, 0.8], \"dtick\": 1, \"tickfont\": {\"size\": 9.6}}, \"yaxis2\": {\"domain\": [0.9, 1], \"tickfont\": {\"size\": 9.6}}}, {\"showLink\": false, \"linkText\": \"Export to plot.ly\"})});</script>"
      ]
     },
     "metadata": {},
     "output_type": "display_data"
    },
    {
     "name": "stdout",
     "output_type": "stream",
     "text": [
      "target.index (2) & features.columns (2) have 2 in common.\n",
      "Computing score using compute_information_coefficient with 1 process ...\n",
      "Computing MoE with 0 sampling ...\n",
      "[]\n",
      "Computing p-value and FDR with 1 permutation ...\n"
     ]
    },
    {
     "name": "stderr",
     "output_type": "stream",
     "text": [
      "../match/make_match_panel.py:137: UserWarning:\n",
      "\n",
      "Not clustering because a category has less than 2 values.\n",
      "\n"
     ]
    },
    {
     "data": {
      "application/vnd.plotly.v1+json": {
       "data": [
        {
         "colorscale": [
          [
           0,
           "#ebf6f7"
          ],
          [
           1,
           "#171412"
          ]
         ],
         "showscale": false,
         "text": [
          [
           "Sample 0",
           "Sample 1"
          ]
         ],
         "type": "heatmap",
         "uid": "3e72f12b-a067-422f-862f-937ce7ee7a2f",
         "x": [
          "Sample 0",
          "Sample 1"
         ],
         "y": [
          "Target"
         ],
         "yaxis": "y2",
         "z": [
          [
           0,
           2
          ]
         ]
        },
        {
         "colorscale": [
          [
           0,
           "#4242ff"
          ],
          [
           0.00392156862745098,
           "#4241ff"
          ],
          [
           0.00784313725490196,
           "#4240ff"
          ],
          [
           0.011764705882352941,
           "#423fff"
          ],
          [
           0.01568627450980392,
           "#423eff"
          ],
          [
           0.0196078431372549,
           "#423dff"
          ],
          [
           0.023529411764705882,
           "#423cff"
          ],
          [
           0.027450980392156862,
           "#423bff"
          ],
          [
           0.03137254901960784,
           "#423aff"
          ],
          [
           0.03529411764705882,
           "#4239ff"
          ],
          [
           0.0392156862745098,
           "#4238ff"
          ],
          [
           0.043137254901960784,
           "#4237ff"
          ],
          [
           0.047058823529411764,
           "#4236ff"
          ],
          [
           0.050980392156862744,
           "#4235ff"
          ],
          [
           0.054901960784313725,
           "#4234ff"
          ],
          [
           0.058823529411764705,
           "#4233ff"
          ],
          [
           0.06274509803921569,
           "#4232ff"
          ],
          [
           0.06666666666666667,
           "#4231ff"
          ],
          [
           0.07058823529411765,
           "#4230ff"
          ],
          [
           0.07450980392156863,
           "#422fff"
          ],
          [
           0.0784313725490196,
           "#422eff"
          ],
          [
           0.08235294117647059,
           "#422dff"
          ],
          [
           0.08627450980392157,
           "#422cff"
          ],
          [
           0.09019607843137255,
           "#422bff"
          ],
          [
           0.09411764705882353,
           "#422aff"
          ],
          [
           0.09803921568627451,
           "#4229ff"
          ],
          [
           0.10196078431372549,
           "#4228ff"
          ],
          [
           0.10588235294117647,
           "#4228ff"
          ],
          [
           0.10980392156862745,
           "#4227ff"
          ],
          [
           0.11372549019607843,
           "#4226ff"
          ],
          [
           0.11764705882352941,
           "#4226ff"
          ],
          [
           0.12156862745098039,
           "#4225ff"
          ],
          [
           0.12549019607843137,
           "#4224ff"
          ],
          [
           0.12941176470588237,
           "#4224ff"
          ],
          [
           0.13333333333333333,
           "#4223ff"
          ],
          [
           0.13725490196078433,
           "#4222ff"
          ],
          [
           0.1411764705882353,
           "#4221ff"
          ],
          [
           0.1450980392156863,
           "#4221ff"
          ],
          [
           0.14901960784313725,
           "#4220ff"
          ],
          [
           0.15294117647058825,
           "#421fff"
          ],
          [
           0.1568627450980392,
           "#421fff"
          ],
          [
           0.1607843137254902,
           "#421eff"
          ],
          [
           0.16470588235294117,
           "#421dff"
          ],
          [
           0.16862745098039217,
           "#421dff"
          ],
          [
           0.17254901960784313,
           "#421cff"
          ],
          [
           0.17647058823529413,
           "#421bff"
          ],
          [
           0.1803921568627451,
           "#421aff"
          ],
          [
           0.1843137254901961,
           "#421aff"
          ],
          [
           0.18823529411764706,
           "#4219ff"
          ],
          [
           0.19215686274509805,
           "#4218ff"
          ],
          [
           0.19607843137254902,
           "#4218ff"
          ],
          [
           0.2,
           "#4217ff"
          ],
          [
           0.20392156862745098,
           "#4419ff"
          ],
          [
           0.20784313725490197,
           "#451aff"
          ],
          [
           0.21176470588235294,
           "#461cff"
          ],
          [
           0.21568627450980393,
           "#481eff"
          ],
          [
           0.2196078431372549,
           "#491fff"
          ],
          [
           0.2235294117647059,
           "#4a21ff"
          ],
          [
           0.22745098039215686,
           "#4b23ff"
          ],
          [
           0.23137254901960785,
           "#4d25ff"
          ],
          [
           0.23529411764705882,
           "#4e26ff"
          ],
          [
           0.23921568627450981,
           "#4f28ff"
          ],
          [
           0.24313725490196078,
           "#512aff"
          ],
          [
           0.24705882352941178,
           "#522bff"
          ],
          [
           0.25098039215686274,
           "#532dff"
          ],
          [
           0.2549019607843137,
           "#542fff"
          ],
          [
           0.25882352941176473,
           "#5630ff"
          ],
          [
           0.2627450980392157,
           "#5732ff"
          ],
          [
           0.26666666666666666,
           "#5834ff"
          ],
          [
           0.27058823529411763,
           "#5a36ff"
          ],
          [
           0.27450980392156865,
           "#5b37ff"
          ],
          [
           0.2784313725490196,
           "#5c39ff"
          ],
          [
           0.2823529411764706,
           "#5e3bff"
          ],
          [
           0.28627450980392155,
           "#5f3cff"
          ],
          [
           0.2901960784313726,
           "#603eff"
          ],
          [
           0.29411764705882354,
           "#6240ff"
          ],
          [
           0.2980392156862745,
           "#6341ff"
          ],
          [
           0.30196078431372547,
           "#6544ff"
          ],
          [
           0.3058823529411765,
           "#6849ff"
          ],
          [
           0.30980392156862746,
           "#6b4dff"
          ],
          [
           0.3137254901960784,
           "#6e51ff"
          ],
          [
           0.3176470588235294,
           "#7156ff"
          ],
          [
           0.3215686274509804,
           "#745aff"
          ],
          [
           0.3254901960784314,
           "#775eff"
          ],
          [
           0.32941176470588235,
           "#7a63ff"
          ],
          [
           0.3333333333333333,
           "#7d67ff"
          ],
          [
           0.33725490196078434,
           "#806bff"
          ],
          [
           0.3411764705882353,
           "#836fff"
          ],
          [
           0.34509803921568627,
           "#8674ff"
          ],
          [
           0.34901960784313724,
           "#8978ff"
          ],
          [
           0.35294117647058826,
           "#8c7cff"
          ],
          [
           0.3568627450980392,
           "#8f81ff"
          ],
          [
           0.3607843137254902,
           "#9285ff"
          ],
          [
           0.36470588235294116,
           "#9589ff"
          ],
          [
           0.3686274509803922,
           "#988eff"
          ],
          [
           0.37254901960784315,
           "#9b92ff"
          ],
          [
           0.3764705882352941,
           "#9e96ff"
          ],
          [
           0.3803921568627451,
           "#a19aff"
          ],
          [
           0.3843137254901961,
           "#a49fff"
          ],
          [
           0.38823529411764707,
           "#a7a3ff"
          ],
          [
           0.39215686274509803,
           "#aaa7ff"
          ],
          [
           0.396078431372549,
           "#adacff"
          ],
          [
           0.4,
           "#b0b0ff"
          ],
          [
           0.403921568627451,
           "#b3b3ff"
          ],
          [
           0.40784313725490196,
           "#b6b6ff"
          ],
          [
           0.4117647058823529,
           "#b9b9ff"
          ],
          [
           0.41568627450980394,
           "#bcbcff"
          ],
          [
           0.4196078431372549,
           "#bfbfff"
          ],
          [
           0.4235294117647059,
           "#c3c3ff"
          ],
          [
           0.42745098039215684,
           "#c6c6ff"
          ],
          [
           0.43137254901960786,
           "#c9c9ff"
          ],
          [
           0.43529411764705883,
           "#ccccff"
          ],
          [
           0.4392156862745098,
           "#cfcfff"
          ],
          [
           0.44313725490196076,
           "#d2d2ff"
          ],
          [
           0.4470588235294118,
           "#d5d5ff"
          ],
          [
           0.45098039215686275,
           "#d8d8ff"
          ],
          [
           0.4549019607843137,
           "#dbdbff"
          ],
          [
           0.4588235294117647,
           "#dedeff"
          ],
          [
           0.4627450980392157,
           "#e2e2ff"
          ],
          [
           0.4666666666666667,
           "#e5e5ff"
          ],
          [
           0.47058823529411764,
           "#e8e8ff"
          ],
          [
           0.4745098039215686,
           "#ebebff"
          ],
          [
           0.47843137254901963,
           "#eeeeff"
          ],
          [
           0.4823529411764706,
           "#f1f1ff"
          ],
          [
           0.48627450980392156,
           "#f4f4ff"
          ],
          [
           0.49019607843137253,
           "#f7f7ff"
          ],
          [
           0.49411764705882355,
           "#fafaff"
          ],
          [
           0.4980392156862745,
           "#fdfdff"
          ],
          [
           0.5019607843137255,
           "#fffdfd"
          ],
          [
           0.5058823529411764,
           "#fffafa"
          ],
          [
           0.5098039215686274,
           "#fff7f7"
          ],
          [
           0.5137254901960784,
           "#fff4f4"
          ],
          [
           0.5176470588235295,
           "#fff1f1"
          ],
          [
           0.5215686274509804,
           "#ffeeee"
          ],
          [
           0.5254901960784314,
           "#ffebeb"
          ],
          [
           0.5294117647058824,
           "#ffe8e8"
          ],
          [
           0.5333333333333333,
           "#ffe5e5"
          ],
          [
           0.5372549019607843,
           "#ffe2e2"
          ],
          [
           0.5411764705882353,
           "#ffdede"
          ],
          [
           0.5450980392156862,
           "#ffdbdb"
          ],
          [
           0.5490196078431373,
           "#ffd8d8"
          ],
          [
           0.5529411764705883,
           "#ffd5d5"
          ],
          [
           0.5568627450980392,
           "#ffd2d2"
          ],
          [
           0.5607843137254902,
           "#ffcfcf"
          ],
          [
           0.5647058823529412,
           "#ffcccc"
          ],
          [
           0.5686274509803921,
           "#ffc9c9"
          ],
          [
           0.5725490196078431,
           "#ffc6c6"
          ],
          [
           0.5764705882352941,
           "#ffc3c3"
          ],
          [
           0.5803921568627451,
           "#ffbfbf"
          ],
          [
           0.5843137254901961,
           "#ffbcbc"
          ],
          [
           0.5882352941176471,
           "#ffb9b9"
          ],
          [
           0.592156862745098,
           "#ffb6b6"
          ],
          [
           0.596078431372549,
           "#ffb3b3"
          ],
          [
           0.6,
           "#ffb0b0"
          ],
          [
           0.6039215686274509,
           "#ffacad"
          ],
          [
           0.6078431372549019,
           "#ffa7aa"
          ],
          [
           0.611764705882353,
           "#ffa3a7"
          ],
          [
           0.615686274509804,
           "#ff9fa4"
          ],
          [
           0.6196078431372549,
           "#ff9aa1"
          ],
          [
           0.6235294117647059,
           "#ff969e"
          ],
          [
           0.6274509803921569,
           "#ff929b"
          ],
          [
           0.6313725490196078,
           "#ff8e98"
          ],
          [
           0.6352941176470588,
           "#ff8995"
          ],
          [
           0.6392156862745098,
           "#ff8592"
          ],
          [
           0.6431372549019608,
           "#ff818f"
          ],
          [
           0.6470588235294118,
           "#ff7c8c"
          ],
          [
           0.6509803921568628,
           "#ff7889"
          ],
          [
           0.6549019607843137,
           "#ff7486"
          ],
          [
           0.6588235294117647,
           "#ff6f83"
          ],
          [
           0.6627450980392157,
           "#ff6b80"
          ],
          [
           0.6666666666666666,
           "#ff677d"
          ],
          [
           0.6705882352941176,
           "#ff637a"
          ],
          [
           0.6745098039215687,
           "#ff5e77"
          ],
          [
           0.6784313725490196,
           "#ff5a74"
          ],
          [
           0.6823529411764706,
           "#ff5671"
          ],
          [
           0.6862745098039216,
           "#ff516e"
          ],
          [
           0.6901960784313725,
           "#ff4d6b"
          ],
          [
           0.6941176470588235,
           "#ff4968"
          ],
          [
           0.6980392156862745,
           "#ff4465"
          ],
          [
           0.7019607843137254,
           "#ff4163"
          ],
          [
           0.7058823529411765,
           "#ff4062"
          ],
          [
           0.7098039215686275,
           "#ff3e60"
          ],
          [
           0.7137254901960784,
           "#ff3c5f"
          ],
          [
           0.7176470588235294,
           "#ff3b5e"
          ],
          [
           0.7215686274509804,
           "#ff395c"
          ],
          [
           0.7254901960784313,
           "#ff375b"
          ],
          [
           0.7294117647058823,
           "#ff365a"
          ],
          [
           0.7333333333333333,
           "#ff3458"
          ],
          [
           0.7372549019607844,
           "#ff3257"
          ],
          [
           0.7411764705882353,
           "#ff3056"
          ],
          [
           0.7450980392156863,
           "#ff2f55"
          ],
          [
           0.7490196078431373,
           "#ff2d53"
          ],
          [
           0.7529411764705882,
           "#ff2b52"
          ],
          [
           0.7568627450980392,
           "#ff2a51"
          ],
          [
           0.7607843137254902,
           "#ff284f"
          ],
          [
           0.7647058823529411,
           "#ff264e"
          ],
          [
           0.7686274509803922,
           "#ff254d"
          ],
          [
           0.7725490196078432,
           "#ff234b"
          ],
          [
           0.7764705882352941,
           "#ff214a"
          ],
          [
           0.7803921568627451,
           "#ff1f49"
          ],
          [
           0.7843137254901961,
           "#ff1e48"
          ],
          [
           0.788235294117647,
           "#ff1c46"
          ],
          [
           0.792156862745098,
           "#ff1a45"
          ],
          [
           0.796078431372549,
           "#ff1944"
          ],
          [
           0.8,
           "#ff1742"
          ],
          [
           0.803921568627451,
           "#ff1842"
          ],
          [
           0.807843137254902,
           "#ff1842"
          ],
          [
           0.8117647058823529,
           "#ff1942"
          ],
          [
           0.8156862745098039,
           "#ff1a42"
          ],
          [
           0.8196078431372549,
           "#ff1a42"
          ],
          [
           0.8235294117647058,
           "#ff1b42"
          ],
          [
           0.8274509803921568,
           "#ff1c42"
          ],
          [
           0.8313725490196079,
           "#ff1d42"
          ],
          [
           0.8352941176470589,
           "#ff1d42"
          ],
          [
           0.8392156862745098,
           "#ff1e42"
          ],
          [
           0.8431372549019608,
           "#ff1f42"
          ],
          [
           0.8470588235294118,
           "#ff1f42"
          ],
          [
           0.8509803921568627,
           "#ff2042"
          ],
          [
           0.8549019607843137,
           "#ff2142"
          ],
          [
           0.8588235294117647,
           "#ff2142"
          ],
          [
           0.8627450980392157,
           "#ff2242"
          ],
          [
           0.8666666666666667,
           "#ff2342"
          ],
          [
           0.8705882352941177,
           "#ff2442"
          ],
          [
           0.8745098039215686,
           "#ff2442"
          ],
          [
           0.8784313725490196,
           "#ff2542"
          ],
          [
           0.8823529411764706,
           "#ff2642"
          ],
          [
           0.8862745098039215,
           "#ff2642"
          ],
          [
           0.8901960784313725,
           "#ff2742"
          ],
          [
           0.8941176470588236,
           "#ff2842"
          ],
          [
           0.8980392156862745,
           "#ff2842"
          ],
          [
           0.9019607843137255,
           "#ff2942"
          ],
          [
           0.9058823529411765,
           "#ff2a42"
          ],
          [
           0.9098039215686274,
           "#ff2b42"
          ],
          [
           0.9137254901960784,
           "#ff2c42"
          ],
          [
           0.9176470588235294,
           "#ff2d42"
          ],
          [
           0.9215686274509803,
           "#ff2e42"
          ],
          [
           0.9254901960784314,
           "#ff2f42"
          ],
          [
           0.9294117647058824,
           "#ff3042"
          ],
          [
           0.9333333333333333,
           "#ff3142"
          ],
          [
           0.9372549019607843,
           "#ff3242"
          ],
          [
           0.9411764705882353,
           "#ff3342"
          ],
          [
           0.9450980392156862,
           "#ff3442"
          ],
          [
           0.9490196078431372,
           "#ff3542"
          ],
          [
           0.9529411764705882,
           "#ff3642"
          ],
          [
           0.9568627450980393,
           "#ff3742"
          ],
          [
           0.9607843137254902,
           "#ff3842"
          ],
          [
           0.9647058823529412,
           "#ff3942"
          ],
          [
           0.9686274509803922,
           "#ff3a42"
          ],
          [
           0.9725490196078431,
           "#ff3b42"
          ],
          [
           0.9764705882352941,
           "#ff3c42"
          ],
          [
           0.9803921568627451,
           "#ff3d42"
          ],
          [
           0.984313725490196,
           "#ff3e42"
          ],
          [
           0.9882352941176471,
           "#ff3f42"
          ],
          [
           0.9921568627450981,
           "#ff4042"
          ],
          [
           0.996078431372549,
           "#ff4142"
          ],
          [
           1,
           "#ff4242"
          ]
         ],
         "showscale": false,
         "type": "heatmap",
         "uid": "bbab4fd0-46ad-40e5-b1ae-a76c106e6afd",
         "x": [
          "Sample 0",
          "Sample 1"
         ],
         "y": [
          "Index 3",
          "Index 5",
          "Index 2",
          "Index 7",
          "Index 0",
          "Index 6",
          "Index 4",
          "Index 1"
         ],
         "yaxis": "y",
         "z": [
          [
           1.0000000000000013,
           -0.9999999999999988
          ],
          [
           1,
           -1
          ],
          [
           1,
           -1
          ],
          [
           1,
           -1
          ],
          [
           0.9999999999999982,
           -1.0000000000000018
          ],
          [
           -1,
           1
          ],
          [
           -1,
           1
          ],
          [
           -1,
           1
          ]
         ],
         "zmax": 1.0000000000000013,
         "zmin": -1.0000000000000018
        }
       ],
       "layout": {
        "annotations": [
         {
          "font": {
           "size": 9.6
          },
          "showarrow": false,
          "text": "<b>Score</b>",
          "width": 64,
          "x": 1.0016,
          "xanchor": "left",
          "xref": "paper",
          "y": 0.95,
          "yanchor": "middle",
          "yref": "paper"
         },
         {
          "font": {
           "size": 9.6
          },
          "showarrow": false,
          "text": "<b>0.86</b>",
          "width": 64,
          "x": 1.0016,
          "xanchor": "left",
          "xref": "paper",
          "y": 0.75,
          "yanchor": "middle",
          "yref": "paper"
         },
         {
          "font": {
           "size": 9.6
          },
          "showarrow": false,
          "text": "<b>0.86</b>",
          "width": 64,
          "x": 1.0016,
          "xanchor": "left",
          "xref": "paper",
          "y": 0.65,
          "yanchor": "middle",
          "yref": "paper"
         },
         {
          "font": {
           "size": 9.6
          },
          "showarrow": false,
          "text": "<b>0.86</b>",
          "width": 64,
          "x": 1.0016,
          "xanchor": "left",
          "xref": "paper",
          "y": 0.55,
          "yanchor": "middle",
          "yref": "paper"
         },
         {
          "font": {
           "size": 9.6
          },
          "showarrow": false,
          "text": "<b>-0.86</b>",
          "width": 64,
          "x": 1.0016,
          "xanchor": "left",
          "xref": "paper",
          "y": 0.45000000000000007,
          "yanchor": "middle",
          "yref": "paper"
         },
         {
          "font": {
           "size": 9.6
          },
          "showarrow": false,
          "text": "<b>-0.86</b>",
          "width": 64,
          "x": 1.0016,
          "xanchor": "left",
          "xref": "paper",
          "y": 0.3500000000000001,
          "yanchor": "middle",
          "yref": "paper"
         },
         {
          "font": {
           "size": 9.6
          },
          "showarrow": false,
          "text": "<b>-0.86</b>",
          "width": 64,
          "x": 1.0016,
          "xanchor": "left",
          "xref": "paper",
          "y": 0.2500000000000001,
          "yanchor": "middle",
          "yref": "paper"
         },
         {
          "font": {
           "size": 9.6
          },
          "showarrow": false,
          "text": "<b>-0.86</b>",
          "width": 64,
          "x": 1.0016,
          "xanchor": "left",
          "xref": "paper",
          "y": 0.1500000000000001,
          "yanchor": "middle",
          "yref": "paper"
         },
         {
          "font": {
           "size": 9.6
          },
          "showarrow": false,
          "text": "<b>-0.86</b>",
          "width": 64,
          "x": 1.0016,
          "xanchor": "left",
          "xref": "paper",
          "y": 0.0500000000000001,
          "yanchor": "middle",
          "yref": "paper"
         },
         {
          "font": {
           "size": 9.6
          },
          "showarrow": false,
          "text": "<b>P-Value</b>",
          "width": 64,
          "x": 1.1016000000000001,
          "xanchor": "left",
          "xref": "paper",
          "y": 0.95,
          "yanchor": "middle",
          "yref": "paper"
         },
         {
          "font": {
           "size": 9.6
          },
          "showarrow": false,
          "text": "<b>0.38</b>",
          "width": 64,
          "x": 1.1016000000000001,
          "xanchor": "left",
          "xref": "paper",
          "y": 0.75,
          "yanchor": "middle",
          "yref": "paper"
         },
         {
          "font": {
           "size": 9.6
          },
          "showarrow": false,
          "text": "<b>0.38</b>",
          "width": 64,
          "x": 1.1016000000000001,
          "xanchor": "left",
          "xref": "paper",
          "y": 0.65,
          "yanchor": "middle",
          "yref": "paper"
         },
         {
          "font": {
           "size": 9.6
          },
          "showarrow": false,
          "text": "<b>0.38</b>",
          "width": 64,
          "x": 1.1016000000000001,
          "xanchor": "left",
          "xref": "paper",
          "y": 0.55,
          "yanchor": "middle",
          "yref": "paper"
         },
         {
          "font": {
           "size": 9.6
          },
          "showarrow": false,
          "text": "<b>0.38</b>",
          "width": 64,
          "x": 1.1016000000000001,
          "xanchor": "left",
          "xref": "paper",
          "y": 0.45000000000000007,
          "yanchor": "middle",
          "yref": "paper"
         },
         {
          "font": {
           "size": 9.6
          },
          "showarrow": false,
          "text": "<b>0.38</b>",
          "width": 64,
          "x": 1.1016000000000001,
          "xanchor": "left",
          "xref": "paper",
          "y": 0.3500000000000001,
          "yanchor": "middle",
          "yref": "paper"
         },
         {
          "font": {
           "size": 9.6
          },
          "showarrow": false,
          "text": "<b>0.38</b>",
          "width": 64,
          "x": 1.1016000000000001,
          "xanchor": "left",
          "xref": "paper",
          "y": 0.2500000000000001,
          "yanchor": "middle",
          "yref": "paper"
         },
         {
          "font": {
           "size": 9.6
          },
          "showarrow": false,
          "text": "<b>0.38</b>",
          "width": 64,
          "x": 1.1016000000000001,
          "xanchor": "left",
          "xref": "paper",
          "y": 0.1500000000000001,
          "yanchor": "middle",
          "yref": "paper"
         },
         {
          "font": {
           "size": 9.6
          },
          "showarrow": false,
          "text": "<b>0.12</b>",
          "width": 64,
          "x": 1.1016000000000001,
          "xanchor": "left",
          "xref": "paper",
          "y": 0.0500000000000001,
          "yanchor": "middle",
          "yref": "paper"
         },
         {
          "font": {
           "size": 9.6
          },
          "showarrow": false,
          "text": "<b>FDR</b>",
          "width": 64,
          "x": 1.2016,
          "xanchor": "left",
          "xref": "paper",
          "y": 0.95,
          "yanchor": "middle",
          "yref": "paper"
         },
         {
          "font": {
           "size": 9.6
          },
          "showarrow": false,
          "text": "<b>0.88</b>",
          "width": 64,
          "x": 1.2016,
          "xanchor": "left",
          "xref": "paper",
          "y": 0.75,
          "yanchor": "middle",
          "yref": "paper"
         },
         {
          "font": {
           "size": 9.6
          },
          "showarrow": false,
          "text": "<b>0.88</b>",
          "width": 64,
          "x": 1.2016,
          "xanchor": "left",
          "xref": "paper",
          "y": 0.65,
          "yanchor": "middle",
          "yref": "paper"
         },
         {
          "font": {
           "size": 9.6
          },
          "showarrow": false,
          "text": "<b>0.88</b>",
          "width": 64,
          "x": 1.2016,
          "xanchor": "left",
          "xref": "paper",
          "y": 0.55,
          "yanchor": "middle",
          "yref": "paper"
         },
         {
          "font": {
           "size": 9.6
          },
          "showarrow": false,
          "text": "<b>0.60</b>",
          "width": 64,
          "x": 1.2016,
          "xanchor": "left",
          "xref": "paper",
          "y": 0.45000000000000007,
          "yanchor": "middle",
          "yref": "paper"
         },
         {
          "font": {
           "size": 9.6
          },
          "showarrow": false,
          "text": "<b>0.60</b>",
          "width": 64,
          "x": 1.2016,
          "xanchor": "left",
          "xref": "paper",
          "y": 0.3500000000000001,
          "yanchor": "middle",
          "yref": "paper"
         },
         {
          "font": {
           "size": 9.6
          },
          "showarrow": false,
          "text": "<b>0.60</b>",
          "width": 64,
          "x": 1.2016,
          "xanchor": "left",
          "xref": "paper",
          "y": 0.2500000000000001,
          "yanchor": "middle",
          "yref": "paper"
         },
         {
          "font": {
           "size": 9.6
          },
          "showarrow": false,
          "text": "<b>0.60</b>",
          "width": 64,
          "x": 1.2016,
          "xanchor": "left",
          "xref": "paper",
          "y": 0.1500000000000001,
          "yanchor": "middle",
          "yref": "paper"
         },
         {
          "font": {
           "size": 9.6
          },
          "showarrow": false,
          "text": "<b>0.60</b>",
          "width": 64,
          "x": 1.2016,
          "xanchor": "left",
          "xref": "paper",
          "y": 0.0500000000000001,
          "yanchor": "middle",
          "yref": "paper"
         }
        ],
        "height": 512,
        "margin": {
         "l": 196,
         "r": 196
        },
        "title": "Match Panel",
        "width": 880,
        "xaxis": {
         "anchor": "y",
         "tickfont": {
          "size": 9.6
         }
        },
        "yaxis": {
         "domain": [
          0,
          0.8
         ],
         "dtick": 1,
         "tickfont": {
          "size": 9.6
         }
        },
        "yaxis2": {
         "domain": [
          0.9,
          1
         ],
         "tickfont": {
          "size": 9.6
         }
        }
       }
      },
      "text/html": [
       "<div id=\"ecd53c82-4245-4c01-a314-2acef8d3a1ec\" style=\"height: 512px; width: 880px;\" class=\"plotly-graph-div\"></div><script type=\"text/javascript\">require([\"plotly\"], function(Plotly) { window.PLOTLYENV=window.PLOTLYENV || {};window.PLOTLYENV.BASE_URL=\"https://plot.ly\";Plotly.newPlot(\"ecd53c82-4245-4c01-a314-2acef8d3a1ec\", [{\"colorscale\": [[0.0, \"#ebf6f7\"], [1.0, \"#171412\"]], \"showscale\": false, \"text\": [[\"Sample 0\", \"Sample 1\"]], \"x\": [\"Sample 0\", \"Sample 1\"], \"y\": [\"Target\"], \"yaxis\": \"y2\", \"z\": [[0, 2]], \"type\": \"heatmap\", \"uid\": \"381040fc-4d10-480b-b47e-0ba37930f031\"}, {\"colorscale\": [[0.0, \"#4242ff\"], [0.00392156862745098, \"#4241ff\"], [0.00784313725490196, \"#4240ff\"], [0.011764705882352941, \"#423fff\"], [0.01568627450980392, \"#423eff\"], [0.0196078431372549, \"#423dff\"], [0.023529411764705882, \"#423cff\"], [0.027450980392156862, \"#423bff\"], [0.03137254901960784, \"#423aff\"], [0.03529411764705882, \"#4239ff\"], [0.0392156862745098, \"#4238ff\"], [0.043137254901960784, \"#4237ff\"], [0.047058823529411764, \"#4236ff\"], [0.050980392156862744, \"#4235ff\"], [0.054901960784313725, \"#4234ff\"], [0.058823529411764705, \"#4233ff\"], [0.06274509803921569, \"#4232ff\"], [0.06666666666666667, \"#4231ff\"], [0.07058823529411765, \"#4230ff\"], [0.07450980392156863, \"#422fff\"], [0.0784313725490196, \"#422eff\"], [0.08235294117647059, \"#422dff\"], [0.08627450980392157, \"#422cff\"], [0.09019607843137255, \"#422bff\"], [0.09411764705882353, \"#422aff\"], [0.09803921568627451, \"#4229ff\"], [0.10196078431372549, \"#4228ff\"], [0.10588235294117647, \"#4228ff\"], [0.10980392156862745, \"#4227ff\"], [0.11372549019607843, \"#4226ff\"], [0.11764705882352941, \"#4226ff\"], [0.12156862745098039, \"#4225ff\"], [0.12549019607843137, \"#4224ff\"], [0.12941176470588237, \"#4224ff\"], [0.13333333333333333, \"#4223ff\"], [0.13725490196078433, \"#4222ff\"], [0.1411764705882353, \"#4221ff\"], [0.1450980392156863, \"#4221ff\"], [0.14901960784313725, \"#4220ff\"], [0.15294117647058825, \"#421fff\"], [0.1568627450980392, \"#421fff\"], [0.1607843137254902, \"#421eff\"], [0.16470588235294117, \"#421dff\"], [0.16862745098039217, \"#421dff\"], [0.17254901960784313, \"#421cff\"], [0.17647058823529413, \"#421bff\"], [0.1803921568627451, \"#421aff\"], [0.1843137254901961, \"#421aff\"], [0.18823529411764706, \"#4219ff\"], [0.19215686274509805, \"#4218ff\"], [0.19607843137254902, \"#4218ff\"], [0.2, \"#4217ff\"], [0.20392156862745098, \"#4419ff\"], [0.20784313725490197, \"#451aff\"], [0.21176470588235294, \"#461cff\"], [0.21568627450980393, \"#481eff\"], [0.2196078431372549, \"#491fff\"], [0.2235294117647059, \"#4a21ff\"], [0.22745098039215686, \"#4b23ff\"], [0.23137254901960785, \"#4d25ff\"], [0.23529411764705882, \"#4e26ff\"], [0.23921568627450981, \"#4f28ff\"], [0.24313725490196078, \"#512aff\"], [0.24705882352941178, \"#522bff\"], [0.25098039215686274, \"#532dff\"], [0.2549019607843137, \"#542fff\"], [0.25882352941176473, \"#5630ff\"], [0.2627450980392157, \"#5732ff\"], [0.26666666666666666, \"#5834ff\"], [0.27058823529411763, \"#5a36ff\"], [0.27450980392156865, \"#5b37ff\"], [0.2784313725490196, \"#5c39ff\"], [0.2823529411764706, \"#5e3bff\"], [0.28627450980392155, \"#5f3cff\"], [0.2901960784313726, \"#603eff\"], [0.29411764705882354, \"#6240ff\"], [0.2980392156862745, \"#6341ff\"], [0.30196078431372547, \"#6544ff\"], [0.3058823529411765, \"#6849ff\"], [0.30980392156862746, \"#6b4dff\"], [0.3137254901960784, \"#6e51ff\"], [0.3176470588235294, \"#7156ff\"], [0.3215686274509804, \"#745aff\"], [0.3254901960784314, \"#775eff\"], [0.32941176470588235, \"#7a63ff\"], [0.3333333333333333, \"#7d67ff\"], [0.33725490196078434, \"#806bff\"], [0.3411764705882353, \"#836fff\"], [0.34509803921568627, \"#8674ff\"], [0.34901960784313724, \"#8978ff\"], [0.35294117647058826, \"#8c7cff\"], [0.3568627450980392, \"#8f81ff\"], [0.3607843137254902, \"#9285ff\"], [0.36470588235294116, \"#9589ff\"], [0.3686274509803922, \"#988eff\"], [0.37254901960784315, \"#9b92ff\"], [0.3764705882352941, \"#9e96ff\"], [0.3803921568627451, \"#a19aff\"], [0.3843137254901961, \"#a49fff\"], [0.38823529411764707, \"#a7a3ff\"], [0.39215686274509803, \"#aaa7ff\"], [0.396078431372549, \"#adacff\"], [0.4, \"#b0b0ff\"], [0.403921568627451, \"#b3b3ff\"], [0.40784313725490196, \"#b6b6ff\"], [0.4117647058823529, \"#b9b9ff\"], [0.41568627450980394, \"#bcbcff\"], [0.4196078431372549, \"#bfbfff\"], [0.4235294117647059, \"#c3c3ff\"], [0.42745098039215684, \"#c6c6ff\"], [0.43137254901960786, \"#c9c9ff\"], [0.43529411764705883, \"#ccccff\"], [0.4392156862745098, \"#cfcfff\"], [0.44313725490196076, \"#d2d2ff\"], [0.4470588235294118, \"#d5d5ff\"], [0.45098039215686275, \"#d8d8ff\"], [0.4549019607843137, \"#dbdbff\"], [0.4588235294117647, \"#dedeff\"], [0.4627450980392157, \"#e2e2ff\"], [0.4666666666666667, \"#e5e5ff\"], [0.47058823529411764, \"#e8e8ff\"], [0.4745098039215686, \"#ebebff\"], [0.47843137254901963, \"#eeeeff\"], [0.4823529411764706, \"#f1f1ff\"], [0.48627450980392156, \"#f4f4ff\"], [0.49019607843137253, \"#f7f7ff\"], [0.49411764705882355, \"#fafaff\"], [0.4980392156862745, \"#fdfdff\"], [0.5019607843137255, \"#fffdfd\"], [0.5058823529411764, \"#fffafa\"], [0.5098039215686274, \"#fff7f7\"], [0.5137254901960784, \"#fff4f4\"], [0.5176470588235295, \"#fff1f1\"], [0.5215686274509804, \"#ffeeee\"], [0.5254901960784314, \"#ffebeb\"], [0.5294117647058824, \"#ffe8e8\"], [0.5333333333333333, \"#ffe5e5\"], [0.5372549019607843, \"#ffe2e2\"], [0.5411764705882353, \"#ffdede\"], [0.5450980392156862, \"#ffdbdb\"], [0.5490196078431373, \"#ffd8d8\"], [0.5529411764705883, \"#ffd5d5\"], [0.5568627450980392, \"#ffd2d2\"], [0.5607843137254902, \"#ffcfcf\"], [0.5647058823529412, \"#ffcccc\"], [0.5686274509803921, \"#ffc9c9\"], [0.5725490196078431, \"#ffc6c6\"], [0.5764705882352941, \"#ffc3c3\"], [0.5803921568627451, \"#ffbfbf\"], [0.5843137254901961, \"#ffbcbc\"], [0.5882352941176471, \"#ffb9b9\"], [0.592156862745098, \"#ffb6b6\"], [0.596078431372549, \"#ffb3b3\"], [0.6, \"#ffb0b0\"], [0.6039215686274509, \"#ffacad\"], [0.6078431372549019, \"#ffa7aa\"], [0.611764705882353, \"#ffa3a7\"], [0.615686274509804, \"#ff9fa4\"], [0.6196078431372549, \"#ff9aa1\"], [0.6235294117647059, \"#ff969e\"], [0.6274509803921569, \"#ff929b\"], [0.6313725490196078, \"#ff8e98\"], [0.6352941176470588, \"#ff8995\"], [0.6392156862745098, \"#ff8592\"], [0.6431372549019608, \"#ff818f\"], [0.6470588235294118, \"#ff7c8c\"], [0.6509803921568628, \"#ff7889\"], [0.6549019607843137, \"#ff7486\"], [0.6588235294117647, \"#ff6f83\"], [0.6627450980392157, \"#ff6b80\"], [0.6666666666666666, \"#ff677d\"], [0.6705882352941176, \"#ff637a\"], [0.6745098039215687, \"#ff5e77\"], [0.6784313725490196, \"#ff5a74\"], [0.6823529411764706, \"#ff5671\"], [0.6862745098039216, \"#ff516e\"], [0.6901960784313725, \"#ff4d6b\"], [0.6941176470588235, \"#ff4968\"], [0.6980392156862745, \"#ff4465\"], [0.7019607843137254, \"#ff4163\"], [0.7058823529411765, \"#ff4062\"], [0.7098039215686275, \"#ff3e60\"], [0.7137254901960784, \"#ff3c5f\"], [0.7176470588235294, \"#ff3b5e\"], [0.7215686274509804, \"#ff395c\"], [0.7254901960784313, \"#ff375b\"], [0.7294117647058823, \"#ff365a\"], [0.7333333333333333, \"#ff3458\"], [0.7372549019607844, \"#ff3257\"], [0.7411764705882353, \"#ff3056\"], [0.7450980392156863, \"#ff2f55\"], [0.7490196078431373, \"#ff2d53\"], [0.7529411764705882, \"#ff2b52\"], [0.7568627450980392, \"#ff2a51\"], [0.7607843137254902, \"#ff284f\"], [0.7647058823529411, \"#ff264e\"], [0.7686274509803922, \"#ff254d\"], [0.7725490196078432, \"#ff234b\"], [0.7764705882352941, \"#ff214a\"], [0.7803921568627451, \"#ff1f49\"], [0.7843137254901961, \"#ff1e48\"], [0.788235294117647, \"#ff1c46\"], [0.792156862745098, \"#ff1a45\"], [0.796078431372549, \"#ff1944\"], [0.8, \"#ff1742\"], [0.803921568627451, \"#ff1842\"], [0.807843137254902, \"#ff1842\"], [0.8117647058823529, \"#ff1942\"], [0.8156862745098039, \"#ff1a42\"], [0.8196078431372549, \"#ff1a42\"], [0.8235294117647058, \"#ff1b42\"], [0.8274509803921568, \"#ff1c42\"], [0.8313725490196079, \"#ff1d42\"], [0.8352941176470589, \"#ff1d42\"], [0.8392156862745098, \"#ff1e42\"], [0.8431372549019608, \"#ff1f42\"], [0.8470588235294118, \"#ff1f42\"], [0.8509803921568627, \"#ff2042\"], [0.8549019607843137, \"#ff2142\"], [0.8588235294117647, \"#ff2142\"], [0.8627450980392157, \"#ff2242\"], [0.8666666666666667, \"#ff2342\"], [0.8705882352941177, \"#ff2442\"], [0.8745098039215686, \"#ff2442\"], [0.8784313725490196, \"#ff2542\"], [0.8823529411764706, \"#ff2642\"], [0.8862745098039215, \"#ff2642\"], [0.8901960784313725, \"#ff2742\"], [0.8941176470588236, \"#ff2842\"], [0.8980392156862745, \"#ff2842\"], [0.9019607843137255, \"#ff2942\"], [0.9058823529411765, \"#ff2a42\"], [0.9098039215686274, \"#ff2b42\"], [0.9137254901960784, \"#ff2c42\"], [0.9176470588235294, \"#ff2d42\"], [0.9215686274509803, \"#ff2e42\"], [0.9254901960784314, \"#ff2f42\"], [0.9294117647058824, \"#ff3042\"], [0.9333333333333333, \"#ff3142\"], [0.9372549019607843, \"#ff3242\"], [0.9411764705882353, \"#ff3342\"], [0.9450980392156862, \"#ff3442\"], [0.9490196078431372, \"#ff3542\"], [0.9529411764705882, \"#ff3642\"], [0.9568627450980393, \"#ff3742\"], [0.9607843137254902, \"#ff3842\"], [0.9647058823529412, \"#ff3942\"], [0.9686274509803922, \"#ff3a42\"], [0.9725490196078431, \"#ff3b42\"], [0.9764705882352941, \"#ff3c42\"], [0.9803921568627451, \"#ff3d42\"], [0.984313725490196, \"#ff3e42\"], [0.9882352941176471, \"#ff3f42\"], [0.9921568627450981, \"#ff4042\"], [0.996078431372549, \"#ff4142\"], [1.0, \"#ff4242\"]], \"showscale\": false, \"x\": [\"Sample 0\", \"Sample 1\"], \"y\": [\"Index 3\", \"Index 5\", \"Index 2\", \"Index 7\", \"Index 0\", \"Index 6\", \"Index 4\", \"Index 1\"], \"yaxis\": \"y\", \"z\": [[1.0000000000000013, -0.9999999999999988], [1.0, -1.0], [1.0, -1.0], [1.0, -1.0], [0.9999999999999982, -1.0000000000000018], [-1.0, 1.0], [-1.0, 1.0], [-1.0, 1.0]], \"zmax\": 1.0000000000000013, \"zmin\": -1.0000000000000018, \"type\": \"heatmap\", \"uid\": \"b0f428e5-8d94-44d3-a681-ce9087ba06e5\"}], {\"annotations\": [{\"font\": {\"size\": 9.6}, \"showarrow\": false, \"text\": \"<b>Score</b>\", \"width\": 64, \"x\": 1.0016, \"xanchor\": \"left\", \"xref\": \"paper\", \"y\": 0.95, \"yanchor\": \"middle\", \"yref\": \"paper\"}, {\"font\": {\"size\": 9.6}, \"showarrow\": false, \"text\": \"<b>0.86</b>\", \"width\": 64, \"x\": 1.0016, \"xanchor\": \"left\", \"xref\": \"paper\", \"y\": 0.75, \"yanchor\": \"middle\", \"yref\": \"paper\"}, {\"font\": {\"size\": 9.6}, \"showarrow\": false, \"text\": \"<b>0.86</b>\", \"width\": 64, \"x\": 1.0016, \"xanchor\": \"left\", \"xref\": \"paper\", \"y\": 0.65, \"yanchor\": \"middle\", \"yref\": \"paper\"}, {\"font\": {\"size\": 9.6}, \"showarrow\": false, \"text\": \"<b>0.86</b>\", \"width\": 64, \"x\": 1.0016, \"xanchor\": \"left\", \"xref\": \"paper\", \"y\": 0.55, \"yanchor\": \"middle\", \"yref\": \"paper\"}, {\"font\": {\"size\": 9.6}, \"showarrow\": false, \"text\": \"<b>-0.86</b>\", \"width\": 64, \"x\": 1.0016, \"xanchor\": \"left\", \"xref\": \"paper\", \"y\": 0.45000000000000007, \"yanchor\": \"middle\", \"yref\": \"paper\"}, {\"font\": {\"size\": 9.6}, \"showarrow\": false, \"text\": \"<b>-0.86</b>\", \"width\": 64, \"x\": 1.0016, \"xanchor\": \"left\", \"xref\": \"paper\", \"y\": 0.3500000000000001, \"yanchor\": \"middle\", \"yref\": \"paper\"}, {\"font\": {\"size\": 9.6}, \"showarrow\": false, \"text\": \"<b>-0.86</b>\", \"width\": 64, \"x\": 1.0016, \"xanchor\": \"left\", \"xref\": \"paper\", \"y\": 0.2500000000000001, \"yanchor\": \"middle\", \"yref\": \"paper\"}, {\"font\": {\"size\": 9.6}, \"showarrow\": false, \"text\": \"<b>-0.86</b>\", \"width\": 64, \"x\": 1.0016, \"xanchor\": \"left\", \"xref\": \"paper\", \"y\": 0.1500000000000001, \"yanchor\": \"middle\", \"yref\": \"paper\"}, {\"font\": {\"size\": 9.6}, \"showarrow\": false, \"text\": \"<b>-0.86</b>\", \"width\": 64, \"x\": 1.0016, \"xanchor\": \"left\", \"xref\": \"paper\", \"y\": 0.0500000000000001, \"yanchor\": \"middle\", \"yref\": \"paper\"}, {\"font\": {\"size\": 9.6}, \"showarrow\": false, \"text\": \"<b>P-Value</b>\", \"width\": 64, \"x\": 1.1016000000000001, \"xanchor\": \"left\", \"xref\": \"paper\", \"y\": 0.95, \"yanchor\": \"middle\", \"yref\": \"paper\"}, {\"font\": {\"size\": 9.6}, \"showarrow\": false, \"text\": \"<b>0.38</b>\", \"width\": 64, \"x\": 1.1016000000000001, \"xanchor\": \"left\", \"xref\": \"paper\", \"y\": 0.75, \"yanchor\": \"middle\", \"yref\": \"paper\"}, {\"font\": {\"size\": 9.6}, \"showarrow\": false, \"text\": \"<b>0.38</b>\", \"width\": 64, \"x\": 1.1016000000000001, \"xanchor\": \"left\", \"xref\": \"paper\", \"y\": 0.65, \"yanchor\": \"middle\", \"yref\": \"paper\"}, {\"font\": {\"size\": 9.6}, \"showarrow\": false, \"text\": \"<b>0.38</b>\", \"width\": 64, \"x\": 1.1016000000000001, \"xanchor\": \"left\", \"xref\": \"paper\", \"y\": 0.55, \"yanchor\": \"middle\", \"yref\": \"paper\"}, {\"font\": {\"size\": 9.6}, \"showarrow\": false, \"text\": \"<b>0.38</b>\", \"width\": 64, \"x\": 1.1016000000000001, \"xanchor\": \"left\", \"xref\": \"paper\", \"y\": 0.45000000000000007, \"yanchor\": \"middle\", \"yref\": \"paper\"}, {\"font\": {\"size\": 9.6}, \"showarrow\": false, \"text\": \"<b>0.38</b>\", \"width\": 64, \"x\": 1.1016000000000001, \"xanchor\": \"left\", \"xref\": \"paper\", \"y\": 0.3500000000000001, \"yanchor\": \"middle\", \"yref\": \"paper\"}, {\"font\": {\"size\": 9.6}, \"showarrow\": false, \"text\": \"<b>0.38</b>\", \"width\": 64, \"x\": 1.1016000000000001, \"xanchor\": \"left\", \"xref\": \"paper\", \"y\": 0.2500000000000001, \"yanchor\": \"middle\", \"yref\": \"paper\"}, {\"font\": {\"size\": 9.6}, \"showarrow\": false, \"text\": \"<b>0.38</b>\", \"width\": 64, \"x\": 1.1016000000000001, \"xanchor\": \"left\", \"xref\": \"paper\", \"y\": 0.1500000000000001, \"yanchor\": \"middle\", \"yref\": \"paper\"}, {\"font\": {\"size\": 9.6}, \"showarrow\": false, \"text\": \"<b>0.12</b>\", \"width\": 64, \"x\": 1.1016000000000001, \"xanchor\": \"left\", \"xref\": \"paper\", \"y\": 0.0500000000000001, \"yanchor\": \"middle\", \"yref\": \"paper\"}, {\"font\": {\"size\": 9.6}, \"showarrow\": false, \"text\": \"<b>FDR</b>\", \"width\": 64, \"x\": 1.2016, \"xanchor\": \"left\", \"xref\": \"paper\", \"y\": 0.95, \"yanchor\": \"middle\", \"yref\": \"paper\"}, {\"font\": {\"size\": 9.6}, \"showarrow\": false, \"text\": \"<b>0.88</b>\", \"width\": 64, \"x\": 1.2016, \"xanchor\": \"left\", \"xref\": \"paper\", \"y\": 0.75, \"yanchor\": \"middle\", \"yref\": \"paper\"}, {\"font\": {\"size\": 9.6}, \"showarrow\": false, \"text\": \"<b>0.88</b>\", \"width\": 64, \"x\": 1.2016, \"xanchor\": \"left\", \"xref\": \"paper\", \"y\": 0.65, \"yanchor\": \"middle\", \"yref\": \"paper\"}, {\"font\": {\"size\": 9.6}, \"showarrow\": false, \"text\": \"<b>0.88</b>\", \"width\": 64, \"x\": 1.2016, \"xanchor\": \"left\", \"xref\": \"paper\", \"y\": 0.55, \"yanchor\": \"middle\", \"yref\": \"paper\"}, {\"font\": {\"size\": 9.6}, \"showarrow\": false, \"text\": \"<b>0.60</b>\", \"width\": 64, \"x\": 1.2016, \"xanchor\": \"left\", \"xref\": \"paper\", \"y\": 0.45000000000000007, \"yanchor\": \"middle\", \"yref\": \"paper\"}, {\"font\": {\"size\": 9.6}, \"showarrow\": false, \"text\": \"<b>0.60</b>\", \"width\": 64, \"x\": 1.2016, \"xanchor\": \"left\", \"xref\": \"paper\", \"y\": 0.3500000000000001, \"yanchor\": \"middle\", \"yref\": \"paper\"}, {\"font\": {\"size\": 9.6}, \"showarrow\": false, \"text\": \"<b>0.60</b>\", \"width\": 64, \"x\": 1.2016, \"xanchor\": \"left\", \"xref\": \"paper\", \"y\": 0.2500000000000001, \"yanchor\": \"middle\", \"yref\": \"paper\"}, {\"font\": {\"size\": 9.6}, \"showarrow\": false, \"text\": \"<b>0.60</b>\", \"width\": 64, \"x\": 1.2016, \"xanchor\": \"left\", \"xref\": \"paper\", \"y\": 0.1500000000000001, \"yanchor\": \"middle\", \"yref\": \"paper\"}, {\"font\": {\"size\": 9.6}, \"showarrow\": false, \"text\": \"<b>0.60</b>\", \"width\": 64, \"x\": 1.2016, \"xanchor\": \"left\", \"xref\": \"paper\", \"y\": 0.0500000000000001, \"yanchor\": \"middle\", \"yref\": \"paper\"}], \"height\": 512, \"margin\": {\"l\": 196, \"r\": 196}, \"title\": \"Match Panel\", \"width\": 880, \"xaxis\": {\"anchor\": \"y\", \"tickfont\": {\"size\": 9.6}}, \"yaxis\": {\"domain\": [0, 0.8], \"dtick\": 1, \"tickfont\": {\"size\": 9.6}}, \"yaxis2\": {\"domain\": [0.9, 1], \"tickfont\": {\"size\": 9.6}}}, {\"showLink\": false, \"linkText\": \"Export to plot.ly\"})});</script>"
      ],
      "text/vnd.plotly.v1+html": [
       "<div id=\"ecd53c82-4245-4c01-a314-2acef8d3a1ec\" style=\"height: 512px; width: 880px;\" class=\"plotly-graph-div\"></div><script type=\"text/javascript\">require([\"plotly\"], function(Plotly) { window.PLOTLYENV=window.PLOTLYENV || {};window.PLOTLYENV.BASE_URL=\"https://plot.ly\";Plotly.newPlot(\"ecd53c82-4245-4c01-a314-2acef8d3a1ec\", [{\"colorscale\": [[0.0, \"#ebf6f7\"], [1.0, \"#171412\"]], \"showscale\": false, \"text\": [[\"Sample 0\", \"Sample 1\"]], \"x\": [\"Sample 0\", \"Sample 1\"], \"y\": [\"Target\"], \"yaxis\": \"y2\", \"z\": [[0, 2]], \"type\": \"heatmap\", \"uid\": \"381040fc-4d10-480b-b47e-0ba37930f031\"}, {\"colorscale\": [[0.0, \"#4242ff\"], [0.00392156862745098, \"#4241ff\"], [0.00784313725490196, \"#4240ff\"], [0.011764705882352941, \"#423fff\"], [0.01568627450980392, \"#423eff\"], [0.0196078431372549, \"#423dff\"], [0.023529411764705882, \"#423cff\"], [0.027450980392156862, \"#423bff\"], [0.03137254901960784, \"#423aff\"], [0.03529411764705882, \"#4239ff\"], [0.0392156862745098, \"#4238ff\"], [0.043137254901960784, \"#4237ff\"], [0.047058823529411764, \"#4236ff\"], [0.050980392156862744, \"#4235ff\"], [0.054901960784313725, \"#4234ff\"], [0.058823529411764705, \"#4233ff\"], [0.06274509803921569, \"#4232ff\"], [0.06666666666666667, \"#4231ff\"], [0.07058823529411765, \"#4230ff\"], [0.07450980392156863, \"#422fff\"], [0.0784313725490196, \"#422eff\"], [0.08235294117647059, \"#422dff\"], [0.08627450980392157, \"#422cff\"], [0.09019607843137255, \"#422bff\"], [0.09411764705882353, \"#422aff\"], [0.09803921568627451, \"#4229ff\"], [0.10196078431372549, \"#4228ff\"], [0.10588235294117647, \"#4228ff\"], [0.10980392156862745, \"#4227ff\"], [0.11372549019607843, \"#4226ff\"], [0.11764705882352941, \"#4226ff\"], [0.12156862745098039, \"#4225ff\"], [0.12549019607843137, \"#4224ff\"], [0.12941176470588237, \"#4224ff\"], [0.13333333333333333, \"#4223ff\"], [0.13725490196078433, \"#4222ff\"], [0.1411764705882353, \"#4221ff\"], [0.1450980392156863, \"#4221ff\"], [0.14901960784313725, \"#4220ff\"], [0.15294117647058825, \"#421fff\"], [0.1568627450980392, \"#421fff\"], [0.1607843137254902, \"#421eff\"], [0.16470588235294117, \"#421dff\"], [0.16862745098039217, \"#421dff\"], [0.17254901960784313, \"#421cff\"], [0.17647058823529413, \"#421bff\"], [0.1803921568627451, \"#421aff\"], [0.1843137254901961, \"#421aff\"], [0.18823529411764706, \"#4219ff\"], [0.19215686274509805, \"#4218ff\"], [0.19607843137254902, \"#4218ff\"], [0.2, \"#4217ff\"], [0.20392156862745098, \"#4419ff\"], [0.20784313725490197, \"#451aff\"], [0.21176470588235294, \"#461cff\"], [0.21568627450980393, \"#481eff\"], [0.2196078431372549, \"#491fff\"], [0.2235294117647059, \"#4a21ff\"], [0.22745098039215686, \"#4b23ff\"], [0.23137254901960785, \"#4d25ff\"], [0.23529411764705882, \"#4e26ff\"], [0.23921568627450981, \"#4f28ff\"], [0.24313725490196078, \"#512aff\"], [0.24705882352941178, \"#522bff\"], [0.25098039215686274, \"#532dff\"], [0.2549019607843137, \"#542fff\"], [0.25882352941176473, \"#5630ff\"], [0.2627450980392157, \"#5732ff\"], [0.26666666666666666, \"#5834ff\"], [0.27058823529411763, \"#5a36ff\"], [0.27450980392156865, \"#5b37ff\"], [0.2784313725490196, \"#5c39ff\"], [0.2823529411764706, \"#5e3bff\"], [0.28627450980392155, \"#5f3cff\"], [0.2901960784313726, \"#603eff\"], [0.29411764705882354, \"#6240ff\"], [0.2980392156862745, \"#6341ff\"], [0.30196078431372547, \"#6544ff\"], [0.3058823529411765, \"#6849ff\"], [0.30980392156862746, \"#6b4dff\"], [0.3137254901960784, \"#6e51ff\"], [0.3176470588235294, \"#7156ff\"], [0.3215686274509804, \"#745aff\"], [0.3254901960784314, \"#775eff\"], [0.32941176470588235, \"#7a63ff\"], [0.3333333333333333, \"#7d67ff\"], [0.33725490196078434, \"#806bff\"], [0.3411764705882353, \"#836fff\"], [0.34509803921568627, \"#8674ff\"], [0.34901960784313724, \"#8978ff\"], [0.35294117647058826, \"#8c7cff\"], [0.3568627450980392, \"#8f81ff\"], [0.3607843137254902, \"#9285ff\"], [0.36470588235294116, \"#9589ff\"], [0.3686274509803922, \"#988eff\"], [0.37254901960784315, \"#9b92ff\"], [0.3764705882352941, \"#9e96ff\"], [0.3803921568627451, \"#a19aff\"], [0.3843137254901961, \"#a49fff\"], [0.38823529411764707, \"#a7a3ff\"], [0.39215686274509803, \"#aaa7ff\"], [0.396078431372549, \"#adacff\"], [0.4, \"#b0b0ff\"], [0.403921568627451, \"#b3b3ff\"], [0.40784313725490196, \"#b6b6ff\"], [0.4117647058823529, \"#b9b9ff\"], [0.41568627450980394, \"#bcbcff\"], [0.4196078431372549, \"#bfbfff\"], [0.4235294117647059, \"#c3c3ff\"], [0.42745098039215684, \"#c6c6ff\"], [0.43137254901960786, \"#c9c9ff\"], [0.43529411764705883, \"#ccccff\"], [0.4392156862745098, \"#cfcfff\"], [0.44313725490196076, \"#d2d2ff\"], [0.4470588235294118, \"#d5d5ff\"], [0.45098039215686275, \"#d8d8ff\"], [0.4549019607843137, \"#dbdbff\"], [0.4588235294117647, \"#dedeff\"], [0.4627450980392157, \"#e2e2ff\"], [0.4666666666666667, \"#e5e5ff\"], [0.47058823529411764, \"#e8e8ff\"], [0.4745098039215686, \"#ebebff\"], [0.47843137254901963, \"#eeeeff\"], [0.4823529411764706, \"#f1f1ff\"], [0.48627450980392156, \"#f4f4ff\"], [0.49019607843137253, \"#f7f7ff\"], [0.49411764705882355, \"#fafaff\"], [0.4980392156862745, \"#fdfdff\"], [0.5019607843137255, \"#fffdfd\"], [0.5058823529411764, \"#fffafa\"], [0.5098039215686274, \"#fff7f7\"], [0.5137254901960784, \"#fff4f4\"], [0.5176470588235295, \"#fff1f1\"], [0.5215686274509804, \"#ffeeee\"], [0.5254901960784314, \"#ffebeb\"], [0.5294117647058824, \"#ffe8e8\"], [0.5333333333333333, \"#ffe5e5\"], [0.5372549019607843, \"#ffe2e2\"], [0.5411764705882353, \"#ffdede\"], [0.5450980392156862, \"#ffdbdb\"], [0.5490196078431373, \"#ffd8d8\"], [0.5529411764705883, \"#ffd5d5\"], [0.5568627450980392, \"#ffd2d2\"], [0.5607843137254902, \"#ffcfcf\"], [0.5647058823529412, \"#ffcccc\"], [0.5686274509803921, \"#ffc9c9\"], [0.5725490196078431, \"#ffc6c6\"], [0.5764705882352941, \"#ffc3c3\"], [0.5803921568627451, \"#ffbfbf\"], [0.5843137254901961, \"#ffbcbc\"], [0.5882352941176471, \"#ffb9b9\"], [0.592156862745098, \"#ffb6b6\"], [0.596078431372549, \"#ffb3b3\"], [0.6, \"#ffb0b0\"], [0.6039215686274509, \"#ffacad\"], [0.6078431372549019, \"#ffa7aa\"], [0.611764705882353, \"#ffa3a7\"], [0.615686274509804, \"#ff9fa4\"], [0.6196078431372549, \"#ff9aa1\"], [0.6235294117647059, \"#ff969e\"], [0.6274509803921569, \"#ff929b\"], [0.6313725490196078, \"#ff8e98\"], [0.6352941176470588, \"#ff8995\"], [0.6392156862745098, \"#ff8592\"], [0.6431372549019608, \"#ff818f\"], [0.6470588235294118, \"#ff7c8c\"], [0.6509803921568628, \"#ff7889\"], [0.6549019607843137, \"#ff7486\"], [0.6588235294117647, \"#ff6f83\"], [0.6627450980392157, \"#ff6b80\"], [0.6666666666666666, \"#ff677d\"], [0.6705882352941176, \"#ff637a\"], [0.6745098039215687, \"#ff5e77\"], [0.6784313725490196, \"#ff5a74\"], [0.6823529411764706, \"#ff5671\"], [0.6862745098039216, \"#ff516e\"], [0.6901960784313725, \"#ff4d6b\"], [0.6941176470588235, \"#ff4968\"], [0.6980392156862745, \"#ff4465\"], [0.7019607843137254, \"#ff4163\"], [0.7058823529411765, \"#ff4062\"], [0.7098039215686275, \"#ff3e60\"], [0.7137254901960784, \"#ff3c5f\"], [0.7176470588235294, \"#ff3b5e\"], [0.7215686274509804, \"#ff395c\"], [0.7254901960784313, \"#ff375b\"], [0.7294117647058823, \"#ff365a\"], [0.7333333333333333, \"#ff3458\"], [0.7372549019607844, \"#ff3257\"], [0.7411764705882353, \"#ff3056\"], [0.7450980392156863, \"#ff2f55\"], [0.7490196078431373, \"#ff2d53\"], [0.7529411764705882, \"#ff2b52\"], [0.7568627450980392, \"#ff2a51\"], [0.7607843137254902, \"#ff284f\"], [0.7647058823529411, \"#ff264e\"], [0.7686274509803922, \"#ff254d\"], [0.7725490196078432, \"#ff234b\"], [0.7764705882352941, \"#ff214a\"], [0.7803921568627451, \"#ff1f49\"], [0.7843137254901961, \"#ff1e48\"], [0.788235294117647, \"#ff1c46\"], [0.792156862745098, \"#ff1a45\"], [0.796078431372549, \"#ff1944\"], [0.8, \"#ff1742\"], [0.803921568627451, \"#ff1842\"], [0.807843137254902, \"#ff1842\"], [0.8117647058823529, \"#ff1942\"], [0.8156862745098039, \"#ff1a42\"], [0.8196078431372549, \"#ff1a42\"], [0.8235294117647058, \"#ff1b42\"], [0.8274509803921568, \"#ff1c42\"], [0.8313725490196079, \"#ff1d42\"], [0.8352941176470589, \"#ff1d42\"], [0.8392156862745098, \"#ff1e42\"], [0.8431372549019608, \"#ff1f42\"], [0.8470588235294118, \"#ff1f42\"], [0.8509803921568627, \"#ff2042\"], [0.8549019607843137, \"#ff2142\"], [0.8588235294117647, \"#ff2142\"], [0.8627450980392157, \"#ff2242\"], [0.8666666666666667, \"#ff2342\"], [0.8705882352941177, \"#ff2442\"], [0.8745098039215686, \"#ff2442\"], [0.8784313725490196, \"#ff2542\"], [0.8823529411764706, \"#ff2642\"], [0.8862745098039215, \"#ff2642\"], [0.8901960784313725, \"#ff2742\"], [0.8941176470588236, \"#ff2842\"], [0.8980392156862745, \"#ff2842\"], [0.9019607843137255, \"#ff2942\"], [0.9058823529411765, \"#ff2a42\"], [0.9098039215686274, \"#ff2b42\"], [0.9137254901960784, \"#ff2c42\"], [0.9176470588235294, \"#ff2d42\"], [0.9215686274509803, \"#ff2e42\"], [0.9254901960784314, \"#ff2f42\"], [0.9294117647058824, \"#ff3042\"], [0.9333333333333333, \"#ff3142\"], [0.9372549019607843, \"#ff3242\"], [0.9411764705882353, \"#ff3342\"], [0.9450980392156862, \"#ff3442\"], [0.9490196078431372, \"#ff3542\"], [0.9529411764705882, \"#ff3642\"], [0.9568627450980393, \"#ff3742\"], [0.9607843137254902, \"#ff3842\"], [0.9647058823529412, \"#ff3942\"], [0.9686274509803922, \"#ff3a42\"], [0.9725490196078431, \"#ff3b42\"], [0.9764705882352941, \"#ff3c42\"], [0.9803921568627451, \"#ff3d42\"], [0.984313725490196, \"#ff3e42\"], [0.9882352941176471, \"#ff3f42\"], [0.9921568627450981, \"#ff4042\"], [0.996078431372549, \"#ff4142\"], [1.0, \"#ff4242\"]], \"showscale\": false, \"x\": [\"Sample 0\", \"Sample 1\"], \"y\": [\"Index 3\", \"Index 5\", \"Index 2\", \"Index 7\", \"Index 0\", \"Index 6\", \"Index 4\", \"Index 1\"], \"yaxis\": \"y\", \"z\": [[1.0000000000000013, -0.9999999999999988], [1.0, -1.0], [1.0, -1.0], [1.0, -1.0], [0.9999999999999982, -1.0000000000000018], [-1.0, 1.0], [-1.0, 1.0], [-1.0, 1.0]], \"zmax\": 1.0000000000000013, \"zmin\": -1.0000000000000018, \"type\": \"heatmap\", \"uid\": \"b0f428e5-8d94-44d3-a681-ce9087ba06e5\"}], {\"annotations\": [{\"font\": {\"size\": 9.6}, \"showarrow\": false, \"text\": \"<b>Score</b>\", \"width\": 64, \"x\": 1.0016, \"xanchor\": \"left\", \"xref\": \"paper\", \"y\": 0.95, \"yanchor\": \"middle\", \"yref\": \"paper\"}, {\"font\": {\"size\": 9.6}, \"showarrow\": false, \"text\": \"<b>0.86</b>\", \"width\": 64, \"x\": 1.0016, \"xanchor\": \"left\", \"xref\": \"paper\", \"y\": 0.75, \"yanchor\": \"middle\", \"yref\": \"paper\"}, {\"font\": {\"size\": 9.6}, \"showarrow\": false, \"text\": \"<b>0.86</b>\", \"width\": 64, \"x\": 1.0016, \"xanchor\": \"left\", \"xref\": \"paper\", \"y\": 0.65, \"yanchor\": \"middle\", \"yref\": \"paper\"}, {\"font\": {\"size\": 9.6}, \"showarrow\": false, \"text\": \"<b>0.86</b>\", \"width\": 64, \"x\": 1.0016, \"xanchor\": \"left\", \"xref\": \"paper\", \"y\": 0.55, \"yanchor\": \"middle\", \"yref\": \"paper\"}, {\"font\": {\"size\": 9.6}, \"showarrow\": false, \"text\": \"<b>-0.86</b>\", \"width\": 64, \"x\": 1.0016, \"xanchor\": \"left\", \"xref\": \"paper\", \"y\": 0.45000000000000007, \"yanchor\": \"middle\", \"yref\": \"paper\"}, {\"font\": {\"size\": 9.6}, \"showarrow\": false, \"text\": \"<b>-0.86</b>\", \"width\": 64, \"x\": 1.0016, \"xanchor\": \"left\", \"xref\": \"paper\", \"y\": 0.3500000000000001, \"yanchor\": \"middle\", \"yref\": \"paper\"}, {\"font\": {\"size\": 9.6}, \"showarrow\": false, \"text\": \"<b>-0.86</b>\", \"width\": 64, \"x\": 1.0016, \"xanchor\": \"left\", \"xref\": \"paper\", \"y\": 0.2500000000000001, \"yanchor\": \"middle\", \"yref\": \"paper\"}, {\"font\": {\"size\": 9.6}, \"showarrow\": false, \"text\": \"<b>-0.86</b>\", \"width\": 64, \"x\": 1.0016, \"xanchor\": \"left\", \"xref\": \"paper\", \"y\": 0.1500000000000001, \"yanchor\": \"middle\", \"yref\": \"paper\"}, {\"font\": {\"size\": 9.6}, \"showarrow\": false, \"text\": \"<b>-0.86</b>\", \"width\": 64, \"x\": 1.0016, \"xanchor\": \"left\", \"xref\": \"paper\", \"y\": 0.0500000000000001, \"yanchor\": \"middle\", \"yref\": \"paper\"}, {\"font\": {\"size\": 9.6}, \"showarrow\": false, \"text\": \"<b>P-Value</b>\", \"width\": 64, \"x\": 1.1016000000000001, \"xanchor\": \"left\", \"xref\": \"paper\", \"y\": 0.95, \"yanchor\": \"middle\", \"yref\": \"paper\"}, {\"font\": {\"size\": 9.6}, \"showarrow\": false, \"text\": \"<b>0.38</b>\", \"width\": 64, \"x\": 1.1016000000000001, \"xanchor\": \"left\", \"xref\": \"paper\", \"y\": 0.75, \"yanchor\": \"middle\", \"yref\": \"paper\"}, {\"font\": {\"size\": 9.6}, \"showarrow\": false, \"text\": \"<b>0.38</b>\", \"width\": 64, \"x\": 1.1016000000000001, \"xanchor\": \"left\", \"xref\": \"paper\", \"y\": 0.65, \"yanchor\": \"middle\", \"yref\": \"paper\"}, {\"font\": {\"size\": 9.6}, \"showarrow\": false, \"text\": \"<b>0.38</b>\", \"width\": 64, \"x\": 1.1016000000000001, \"xanchor\": \"left\", \"xref\": \"paper\", \"y\": 0.55, \"yanchor\": \"middle\", \"yref\": \"paper\"}, {\"font\": {\"size\": 9.6}, \"showarrow\": false, \"text\": \"<b>0.38</b>\", \"width\": 64, \"x\": 1.1016000000000001, \"xanchor\": \"left\", \"xref\": \"paper\", \"y\": 0.45000000000000007, \"yanchor\": \"middle\", \"yref\": \"paper\"}, {\"font\": {\"size\": 9.6}, \"showarrow\": false, \"text\": \"<b>0.38</b>\", \"width\": 64, \"x\": 1.1016000000000001, \"xanchor\": \"left\", \"xref\": \"paper\", \"y\": 0.3500000000000001, \"yanchor\": \"middle\", \"yref\": \"paper\"}, {\"font\": {\"size\": 9.6}, \"showarrow\": false, \"text\": \"<b>0.38</b>\", \"width\": 64, \"x\": 1.1016000000000001, \"xanchor\": \"left\", \"xref\": \"paper\", \"y\": 0.2500000000000001, \"yanchor\": \"middle\", \"yref\": \"paper\"}, {\"font\": {\"size\": 9.6}, \"showarrow\": false, \"text\": \"<b>0.38</b>\", \"width\": 64, \"x\": 1.1016000000000001, \"xanchor\": \"left\", \"xref\": \"paper\", \"y\": 0.1500000000000001, \"yanchor\": \"middle\", \"yref\": \"paper\"}, {\"font\": {\"size\": 9.6}, \"showarrow\": false, \"text\": \"<b>0.12</b>\", \"width\": 64, \"x\": 1.1016000000000001, \"xanchor\": \"left\", \"xref\": \"paper\", \"y\": 0.0500000000000001, \"yanchor\": \"middle\", \"yref\": \"paper\"}, {\"font\": {\"size\": 9.6}, \"showarrow\": false, \"text\": \"<b>FDR</b>\", \"width\": 64, \"x\": 1.2016, \"xanchor\": \"left\", \"xref\": \"paper\", \"y\": 0.95, \"yanchor\": \"middle\", \"yref\": \"paper\"}, {\"font\": {\"size\": 9.6}, \"showarrow\": false, \"text\": \"<b>0.88</b>\", \"width\": 64, \"x\": 1.2016, \"xanchor\": \"left\", \"xref\": \"paper\", \"y\": 0.75, \"yanchor\": \"middle\", \"yref\": \"paper\"}, {\"font\": {\"size\": 9.6}, \"showarrow\": false, \"text\": \"<b>0.88</b>\", \"width\": 64, \"x\": 1.2016, \"xanchor\": \"left\", \"xref\": \"paper\", \"y\": 0.65, \"yanchor\": \"middle\", \"yref\": \"paper\"}, {\"font\": {\"size\": 9.6}, \"showarrow\": false, \"text\": \"<b>0.88</b>\", \"width\": 64, \"x\": 1.2016, \"xanchor\": \"left\", \"xref\": \"paper\", \"y\": 0.55, \"yanchor\": \"middle\", \"yref\": \"paper\"}, {\"font\": {\"size\": 9.6}, \"showarrow\": false, \"text\": \"<b>0.60</b>\", \"width\": 64, \"x\": 1.2016, \"xanchor\": \"left\", \"xref\": \"paper\", \"y\": 0.45000000000000007, \"yanchor\": \"middle\", \"yref\": \"paper\"}, {\"font\": {\"size\": 9.6}, \"showarrow\": false, \"text\": \"<b>0.60</b>\", \"width\": 64, \"x\": 1.2016, \"xanchor\": \"left\", \"xref\": \"paper\", \"y\": 0.3500000000000001, \"yanchor\": \"middle\", \"yref\": \"paper\"}, {\"font\": {\"size\": 9.6}, \"showarrow\": false, \"text\": \"<b>0.60</b>\", \"width\": 64, \"x\": 1.2016, \"xanchor\": \"left\", \"xref\": \"paper\", \"y\": 0.2500000000000001, \"yanchor\": \"middle\", \"yref\": \"paper\"}, {\"font\": {\"size\": 9.6}, \"showarrow\": false, \"text\": \"<b>0.60</b>\", \"width\": 64, \"x\": 1.2016, \"xanchor\": \"left\", \"xref\": \"paper\", \"y\": 0.1500000000000001, \"yanchor\": \"middle\", \"yref\": \"paper\"}, {\"font\": {\"size\": 9.6}, \"showarrow\": false, \"text\": \"<b>0.60</b>\", \"width\": 64, \"x\": 1.2016, \"xanchor\": \"left\", \"xref\": \"paper\", \"y\": 0.0500000000000001, \"yanchor\": \"middle\", \"yref\": \"paper\"}], \"height\": 512, \"margin\": {\"l\": 196, \"r\": 196}, \"title\": \"Match Panel\", \"width\": 880, \"xaxis\": {\"anchor\": \"y\", \"tickfont\": {\"size\": 9.6}}, \"yaxis\": {\"domain\": [0, 0.8], \"dtick\": 1, \"tickfont\": {\"size\": 9.6}}, \"yaxis2\": {\"domain\": [0.9, 1], \"tickfont\": {\"size\": 9.6}}}, {\"showLink\": false, \"linkText\": \"Export to plot.ly\"})});</script>"
      ]
     },
     "metadata": {},
     "output_type": "display_data"
    }
   ],
   "source": [
    "target = [\n",
    "    0,\n",
    "    2,\n",
    "]\n",
    "\n",
    "target = pd.Series(\n",
    "    target, \n",
    "    name='Target',\n",
    "    index=('Sample {}'.format(i) for i in range(len(target))),\n",
    ")\n",
    "\n",
    "n_row = 8\n",
    "\n",
    "features = pd.DataFrame(\n",
    "    np.random.random_sample(size=(\n",
    "        n_row,\n",
    "        target.size,\n",
    "    )),\n",
    "    index=('Index {}'.format(i) for i in range(n_row)),\n",
    "    columns=target.index,\n",
    ")\n",
    "\n",
    "for random_seed in range(3):\n",
    "\n",
    "    score_moe_p_value_fdr = make_match_panel(\n",
    "        target,\n",
    "        features,\n",
    "        n_sampling=0,\n",
    "        n_permutation=1,\n",
    "        random_seed=random_seed,\n",
    "        target_type='binary',\n",
    "    )"
   ]
  },
  {
   "cell_type": "code",
   "execution_count": null,
   "metadata": {
    "scrolled": true
   },
   "outputs": [],
   "source": [
    "target = [\n",
    "    0,\n",
    "    2,\n",
    "    8,\n",
    "    0,\n",
    "]\n",
    "\n",
    "target = pd.Series(\n",
    "    target, \n",
    "    name='Target',\n",
    "    index=('Sample {}'.format(i) for i in range(len(target))),\n",
    ")\n",
    "\n",
    "n_row = 8\n",
    "\n",
    "features = pd.DataFrame(\n",
    "    np.random.random_sample(size=(\n",
    "        n_row,\n",
    "        target.size,\n",
    "    )),\n",
    "    index=('Index {}'.format(i) for i in range(n_row)),\n",
    "    columns=target.index,\n",
    ")\n",
    "\n",
    "score_moe_p_value_fdr = make_match_panel(\n",
    "    target,\n",
    "    features,\n",
    "    target_ascending=None,\n",
    "    target_type='categorical',\n",
    ")\n",
    "\n",
    "score_moe_p_value_fdr"
   ]
  },
  {
   "cell_type": "code",
   "execution_count": null,
   "metadata": {
    "ExecuteTime": {
     "end_time": "2018-05-15T10:47:59.764349Z",
     "start_time": "2018-05-15T10:46:36.621876Z"
    },
    "scrolled": true
   },
   "outputs": [],
   "source": [
    "target = pd.read_table(\n",
    "    'target_0.tsv',\n",
    "    index_col=0,\n",
    "    squeeze=True,\n",
    ")\n",
    "\n",
    "features = pd.read_table(\n",
    "    'features_0.tsv',\n",
    "    index_col=0,\n",
    ")\n",
    "\n",
    "score_moe_p_value_fdr = make_match_panel(\n",
    "    target,\n",
    "    features,\n",
    "    n_sampling=2,\n",
    "    n_permutation=1,\n",
    "    target_type='binary',\n",
    ")\n",
    "\n",
    "score_moe_p_value_fdr.sort_values('Score')"
   ]
  },
  {
   "cell_type": "code",
   "execution_count": null,
   "metadata": {
    "scrolled": true
   },
   "outputs": [],
   "source": [
    "score_moe_p_value_fdr = make_match_panel(\n",
    "    features.iloc[0],\n",
    "    features.iloc[:1],\n",
    "    n_sampling=2,\n",
    "    n_permutation=1,\n",
    "    plot_std=3,\n",
    ")\n",
    "\n",
    "score_moe_p_value_fdr = make_match_panel(\n",
    "    features.iloc[0],\n",
    "    features.iloc[:2],\n",
    "    n_sampling=2,\n",
    "    n_permutation=1,\n",
    "    plot_std=3,\n",
    ")"
   ]
  },
  {
   "cell_type": "code",
   "execution_count": null,
   "metadata": {
    "ExecuteTime": {
     "end_time": "2018-05-15T10:48:04.273823Z",
     "start_time": "2018-05-15T10:47:59.781185Z"
    },
    "scrolled": true
   },
   "outputs": [],
   "source": [
    "n_index = 8\n",
    "\n",
    "n_column = 16\n",
    "\n",
    "features = pd.DataFrame(\n",
    "    np.random.random_sample(size=(\n",
    "        n_index,\n",
    "        n_column,\n",
    "    )),\n",
    "    index=('Index {}'.format(i) for i in range(n_index)),\n",
    "    columns=('Column {}'.format(i) for i in range(n_column)),\n",
    ")\n",
    "\n",
    "for target in (\n",
    "    pd.Series((0, ) * 8 + (2, ) * 8),\n",
    "    pd.Series((0, ) * 10 + (1, ) * 5 + (2, ) * 1),\n",
    "    pd.Series(('Aa', ) * 4 + ('Bb', ) * 4 + ('Cc', ) * 4 + ('Aa', ) * 4),\n",
    "):\n",
    "    \n",
    "    target.name = 'Target'\n",
    "    \n",
    "    target.index = ('Column {}'.format(i) for i in range(n_column))\n",
    "\n",
    "    score_moe_p_value_fdr = make_match_panel(\n",
    "        target,\n",
    "        features,\n",
    "        target_ascending=None,\n",
    "        n_sampling=2,\n",
    "        n_permutation=1,\n",
    "        target_type='categorical',\n",
    "    )"
   ]
  },
  {
   "cell_type": "code",
   "execution_count": null,
   "metadata": {
    "ExecuteTime": {
     "end_time": "2018-05-15T10:48:05.570577Z",
     "start_time": "2018-05-15T10:48:04.281086Z"
    },
    "scrolled": true
   },
   "outputs": [],
   "source": [
    "n_index = 8\n",
    "\n",
    "n_column = 16\n",
    "\n",
    "target = pd.Series(\n",
    "    np.random.random_sample(size=n_column + 1),\n",
    "    name='Target',\n",
    "    index=('Column {}'.format(i) for i in range(n_column + 1)),\n",
    ")\n",
    "\n",
    "features = pd.DataFrame(\n",
    "    np.random.random_sample(size=(\n",
    "        n_index,\n",
    "        n_column,\n",
    "    )),\n",
    "    index=('ABCDEFGHIJKLMNOPQRSTUVWXYZ {}'.format(i) for i in range(n_index)),\n",
    "    columns=('Column {}'.format(i) for i in range(n_column)),\n",
    ")\n",
    "\n",
    "features.iloc[0] = 0\n",
    "\n",
    "features.loc[np.random.choice(\n",
    "    features.index,\n",
    "    size=features.index.size // 8 * 7,\n",
    "    replace=False,\n",
    "), np.random.choice(\n",
    "    features.columns,\n",
    "    size=features.columns.size // 8 * 7,\n",
    "    replace=False,\n",
    ")] = np.nan\n",
    "\n",
    "score_moe_p_value_fdr = make_match_panel(\n",
    "    target,\n",
    "    features,\n",
    "    n_sampling=2,\n",
    "    n_permutation=1,\n",
    ")\n",
    "\n",
    "score_moe_p_value_fdr"
   ]
  },
  {
   "cell_type": "code",
   "execution_count": null,
   "metadata": {
    "ExecuteTime": {
     "end_time": "2018-05-15T10:48:08.065933Z",
     "start_time": "2018-05-15T10:48:05.590942Z"
    },
    "scrolled": false
   },
   "outputs": [],
   "source": [
    "n_index = 8\n",
    "\n",
    "n_column = 64\n",
    "\n",
    "target = pd.Series(\n",
    "    np.random.random_sample(size=n_column),\n",
    "    name='Target',\n",
    "    index=('Column {}'.format(i) for i in range(n_column)),\n",
    ")\n",
    "\n",
    "features = pd.DataFrame(\n",
    "    np.random.random_sample(size=(\n",
    "        n_index,\n",
    "        n_column,\n",
    "    )),\n",
    "    index=('Index {}'.format(i) for i in range(n_index)),\n",
    "    columns=('Column {}'.format(i) for i in range(n_column)),\n",
    ")\n",
    "\n",
    "score_moe_p_value_fdr = make_match_panel(\n",
    "    target,\n",
    "    features,\n",
    ")\n",
    "\n",
    "features = pd.DataFrame(\n",
    "    np.random.random_integers(\n",
    "        0,\n",
    "        8,\n",
    "        size=(\n",
    "            n_index,\n",
    "            n_column,\n",
    "        ),\n",
    "    ),\n",
    "    index=('Index {}'.format(i) for i in range(n_index)),\n",
    "    columns=('Column {}'.format(i) for i in range(n_column)),\n",
    ")\n",
    "\n",
    "score_moe_p_value_fdr = make_match_panel(\n",
    "    target,\n",
    "    features,\n",
    "    features_type='categorical',\n",
    ")\n",
    "\n",
    "features = pd.DataFrame(\n",
    "    np.random.random_integers(\n",
    "        0,\n",
    "        1,\n",
    "        size=(\n",
    "            n_index,\n",
    "            n_column,\n",
    "        ),\n",
    "    ),\n",
    "    index=('Index {}'.format(i) for i in range(n_index)),\n",
    "    columns=('Column {}'.format(i) for i in range(n_column)),\n",
    ")\n",
    "\n",
    "score_moe_p_value_fdr = make_match_panel(\n",
    "    target,\n",
    "    features,\n",
    "    features_type='binary',\n",
    ")"
   ]
  },
  {
   "cell_type": "code",
   "execution_count": 27,
   "metadata": {
    "ExecuteTime": {
     "end_time": "2018-05-15T10:48:15.310369Z",
     "start_time": "2018-05-15T10:48:08.080994Z"
    },
    "scrolled": false
   },
   "outputs": [
    {
     "name": "stdout",
     "output_type": "stream",
     "text": [
      "target.index (8) & features.columns (8) have 8 in common.\n",
      "Computing score using compute_information_coefficient with 1 process ...\n",
      "Computing MoE with 3 sampling ...\n"
     ]
    },
    {
     "name": "stderr",
     "output_type": "stream",
     "text": [
      "../match/nd_array/nd_array/check_nd_array_for_bad_value.py:42: UserWarning:\n",
      "\n",
      "nd_array has 1 bad value (nan).\n",
      "\n"
     ]
    },
    {
     "name": "stdout",
     "output_type": "stream",
     "text": [
      "Computing p-value and FDR with 0 permutation ...\n"
     ]
    },
    {
     "data": {
      "application/vnd.plotly.v1+json": {
       "data": [
        {
         "colorscale": [
          [
           0,
           "#4242ff"
          ],
          [
           0.00392156862745098,
           "#4241ff"
          ],
          [
           0.00784313725490196,
           "#4240ff"
          ],
          [
           0.011764705882352941,
           "#423fff"
          ],
          [
           0.01568627450980392,
           "#423eff"
          ],
          [
           0.0196078431372549,
           "#423dff"
          ],
          [
           0.023529411764705882,
           "#423cff"
          ],
          [
           0.027450980392156862,
           "#423bff"
          ],
          [
           0.03137254901960784,
           "#423aff"
          ],
          [
           0.03529411764705882,
           "#4239ff"
          ],
          [
           0.0392156862745098,
           "#4238ff"
          ],
          [
           0.043137254901960784,
           "#4237ff"
          ],
          [
           0.047058823529411764,
           "#4236ff"
          ],
          [
           0.050980392156862744,
           "#4235ff"
          ],
          [
           0.054901960784313725,
           "#4234ff"
          ],
          [
           0.058823529411764705,
           "#4233ff"
          ],
          [
           0.06274509803921569,
           "#4232ff"
          ],
          [
           0.06666666666666667,
           "#4231ff"
          ],
          [
           0.07058823529411765,
           "#4230ff"
          ],
          [
           0.07450980392156863,
           "#422fff"
          ],
          [
           0.0784313725490196,
           "#422eff"
          ],
          [
           0.08235294117647059,
           "#422dff"
          ],
          [
           0.08627450980392157,
           "#422cff"
          ],
          [
           0.09019607843137255,
           "#422bff"
          ],
          [
           0.09411764705882353,
           "#422aff"
          ],
          [
           0.09803921568627451,
           "#4229ff"
          ],
          [
           0.10196078431372549,
           "#4228ff"
          ],
          [
           0.10588235294117647,
           "#4228ff"
          ],
          [
           0.10980392156862745,
           "#4227ff"
          ],
          [
           0.11372549019607843,
           "#4226ff"
          ],
          [
           0.11764705882352941,
           "#4226ff"
          ],
          [
           0.12156862745098039,
           "#4225ff"
          ],
          [
           0.12549019607843137,
           "#4224ff"
          ],
          [
           0.12941176470588237,
           "#4224ff"
          ],
          [
           0.13333333333333333,
           "#4223ff"
          ],
          [
           0.13725490196078433,
           "#4222ff"
          ],
          [
           0.1411764705882353,
           "#4221ff"
          ],
          [
           0.1450980392156863,
           "#4221ff"
          ],
          [
           0.14901960784313725,
           "#4220ff"
          ],
          [
           0.15294117647058825,
           "#421fff"
          ],
          [
           0.1568627450980392,
           "#421fff"
          ],
          [
           0.1607843137254902,
           "#421eff"
          ],
          [
           0.16470588235294117,
           "#421dff"
          ],
          [
           0.16862745098039217,
           "#421dff"
          ],
          [
           0.17254901960784313,
           "#421cff"
          ],
          [
           0.17647058823529413,
           "#421bff"
          ],
          [
           0.1803921568627451,
           "#421aff"
          ],
          [
           0.1843137254901961,
           "#421aff"
          ],
          [
           0.18823529411764706,
           "#4219ff"
          ],
          [
           0.19215686274509805,
           "#4218ff"
          ],
          [
           0.19607843137254902,
           "#4218ff"
          ],
          [
           0.2,
           "#4217ff"
          ],
          [
           0.20392156862745098,
           "#4419ff"
          ],
          [
           0.20784313725490197,
           "#451aff"
          ],
          [
           0.21176470588235294,
           "#461cff"
          ],
          [
           0.21568627450980393,
           "#481eff"
          ],
          [
           0.2196078431372549,
           "#491fff"
          ],
          [
           0.2235294117647059,
           "#4a21ff"
          ],
          [
           0.22745098039215686,
           "#4b23ff"
          ],
          [
           0.23137254901960785,
           "#4d25ff"
          ],
          [
           0.23529411764705882,
           "#4e26ff"
          ],
          [
           0.23921568627450981,
           "#4f28ff"
          ],
          [
           0.24313725490196078,
           "#512aff"
          ],
          [
           0.24705882352941178,
           "#522bff"
          ],
          [
           0.25098039215686274,
           "#532dff"
          ],
          [
           0.2549019607843137,
           "#542fff"
          ],
          [
           0.25882352941176473,
           "#5630ff"
          ],
          [
           0.2627450980392157,
           "#5732ff"
          ],
          [
           0.26666666666666666,
           "#5834ff"
          ],
          [
           0.27058823529411763,
           "#5a36ff"
          ],
          [
           0.27450980392156865,
           "#5b37ff"
          ],
          [
           0.2784313725490196,
           "#5c39ff"
          ],
          [
           0.2823529411764706,
           "#5e3bff"
          ],
          [
           0.28627450980392155,
           "#5f3cff"
          ],
          [
           0.2901960784313726,
           "#603eff"
          ],
          [
           0.29411764705882354,
           "#6240ff"
          ],
          [
           0.2980392156862745,
           "#6341ff"
          ],
          [
           0.30196078431372547,
           "#6544ff"
          ],
          [
           0.3058823529411765,
           "#6849ff"
          ],
          [
           0.30980392156862746,
           "#6b4dff"
          ],
          [
           0.3137254901960784,
           "#6e51ff"
          ],
          [
           0.3176470588235294,
           "#7156ff"
          ],
          [
           0.3215686274509804,
           "#745aff"
          ],
          [
           0.3254901960784314,
           "#775eff"
          ],
          [
           0.32941176470588235,
           "#7a63ff"
          ],
          [
           0.3333333333333333,
           "#7d67ff"
          ],
          [
           0.33725490196078434,
           "#806bff"
          ],
          [
           0.3411764705882353,
           "#836fff"
          ],
          [
           0.34509803921568627,
           "#8674ff"
          ],
          [
           0.34901960784313724,
           "#8978ff"
          ],
          [
           0.35294117647058826,
           "#8c7cff"
          ],
          [
           0.3568627450980392,
           "#8f81ff"
          ],
          [
           0.3607843137254902,
           "#9285ff"
          ],
          [
           0.36470588235294116,
           "#9589ff"
          ],
          [
           0.3686274509803922,
           "#988eff"
          ],
          [
           0.37254901960784315,
           "#9b92ff"
          ],
          [
           0.3764705882352941,
           "#9e96ff"
          ],
          [
           0.3803921568627451,
           "#a19aff"
          ],
          [
           0.3843137254901961,
           "#a49fff"
          ],
          [
           0.38823529411764707,
           "#a7a3ff"
          ],
          [
           0.39215686274509803,
           "#aaa7ff"
          ],
          [
           0.396078431372549,
           "#adacff"
          ],
          [
           0.4,
           "#b0b0ff"
          ],
          [
           0.403921568627451,
           "#b3b3ff"
          ],
          [
           0.40784313725490196,
           "#b6b6ff"
          ],
          [
           0.4117647058823529,
           "#b9b9ff"
          ],
          [
           0.41568627450980394,
           "#bcbcff"
          ],
          [
           0.4196078431372549,
           "#bfbfff"
          ],
          [
           0.4235294117647059,
           "#c3c3ff"
          ],
          [
           0.42745098039215684,
           "#c6c6ff"
          ],
          [
           0.43137254901960786,
           "#c9c9ff"
          ],
          [
           0.43529411764705883,
           "#ccccff"
          ],
          [
           0.4392156862745098,
           "#cfcfff"
          ],
          [
           0.44313725490196076,
           "#d2d2ff"
          ],
          [
           0.4470588235294118,
           "#d5d5ff"
          ],
          [
           0.45098039215686275,
           "#d8d8ff"
          ],
          [
           0.4549019607843137,
           "#dbdbff"
          ],
          [
           0.4588235294117647,
           "#dedeff"
          ],
          [
           0.4627450980392157,
           "#e2e2ff"
          ],
          [
           0.4666666666666667,
           "#e5e5ff"
          ],
          [
           0.47058823529411764,
           "#e8e8ff"
          ],
          [
           0.4745098039215686,
           "#ebebff"
          ],
          [
           0.47843137254901963,
           "#eeeeff"
          ],
          [
           0.4823529411764706,
           "#f1f1ff"
          ],
          [
           0.48627450980392156,
           "#f4f4ff"
          ],
          [
           0.49019607843137253,
           "#f7f7ff"
          ],
          [
           0.49411764705882355,
           "#fafaff"
          ],
          [
           0.4980392156862745,
           "#fdfdff"
          ],
          [
           0.5019607843137255,
           "#fffdfd"
          ],
          [
           0.5058823529411764,
           "#fffafa"
          ],
          [
           0.5098039215686274,
           "#fff7f7"
          ],
          [
           0.5137254901960784,
           "#fff4f4"
          ],
          [
           0.5176470588235295,
           "#fff1f1"
          ],
          [
           0.5215686274509804,
           "#ffeeee"
          ],
          [
           0.5254901960784314,
           "#ffebeb"
          ],
          [
           0.5294117647058824,
           "#ffe8e8"
          ],
          [
           0.5333333333333333,
           "#ffe5e5"
          ],
          [
           0.5372549019607843,
           "#ffe2e2"
          ],
          [
           0.5411764705882353,
           "#ffdede"
          ],
          [
           0.5450980392156862,
           "#ffdbdb"
          ],
          [
           0.5490196078431373,
           "#ffd8d8"
          ],
          [
           0.5529411764705883,
           "#ffd5d5"
          ],
          [
           0.5568627450980392,
           "#ffd2d2"
          ],
          [
           0.5607843137254902,
           "#ffcfcf"
          ],
          [
           0.5647058823529412,
           "#ffcccc"
          ],
          [
           0.5686274509803921,
           "#ffc9c9"
          ],
          [
           0.5725490196078431,
           "#ffc6c6"
          ],
          [
           0.5764705882352941,
           "#ffc3c3"
          ],
          [
           0.5803921568627451,
           "#ffbfbf"
          ],
          [
           0.5843137254901961,
           "#ffbcbc"
          ],
          [
           0.5882352941176471,
           "#ffb9b9"
          ],
          [
           0.592156862745098,
           "#ffb6b6"
          ],
          [
           0.596078431372549,
           "#ffb3b3"
          ],
          [
           0.6,
           "#ffb0b0"
          ],
          [
           0.6039215686274509,
           "#ffacad"
          ],
          [
           0.6078431372549019,
           "#ffa7aa"
          ],
          [
           0.611764705882353,
           "#ffa3a7"
          ],
          [
           0.615686274509804,
           "#ff9fa4"
          ],
          [
           0.6196078431372549,
           "#ff9aa1"
          ],
          [
           0.6235294117647059,
           "#ff969e"
          ],
          [
           0.6274509803921569,
           "#ff929b"
          ],
          [
           0.6313725490196078,
           "#ff8e98"
          ],
          [
           0.6352941176470588,
           "#ff8995"
          ],
          [
           0.6392156862745098,
           "#ff8592"
          ],
          [
           0.6431372549019608,
           "#ff818f"
          ],
          [
           0.6470588235294118,
           "#ff7c8c"
          ],
          [
           0.6509803921568628,
           "#ff7889"
          ],
          [
           0.6549019607843137,
           "#ff7486"
          ],
          [
           0.6588235294117647,
           "#ff6f83"
          ],
          [
           0.6627450980392157,
           "#ff6b80"
          ],
          [
           0.6666666666666666,
           "#ff677d"
          ],
          [
           0.6705882352941176,
           "#ff637a"
          ],
          [
           0.6745098039215687,
           "#ff5e77"
          ],
          [
           0.6784313725490196,
           "#ff5a74"
          ],
          [
           0.6823529411764706,
           "#ff5671"
          ],
          [
           0.6862745098039216,
           "#ff516e"
          ],
          [
           0.6901960784313725,
           "#ff4d6b"
          ],
          [
           0.6941176470588235,
           "#ff4968"
          ],
          [
           0.6980392156862745,
           "#ff4465"
          ],
          [
           0.7019607843137254,
           "#ff4163"
          ],
          [
           0.7058823529411765,
           "#ff4062"
          ],
          [
           0.7098039215686275,
           "#ff3e60"
          ],
          [
           0.7137254901960784,
           "#ff3c5f"
          ],
          [
           0.7176470588235294,
           "#ff3b5e"
          ],
          [
           0.7215686274509804,
           "#ff395c"
          ],
          [
           0.7254901960784313,
           "#ff375b"
          ],
          [
           0.7294117647058823,
           "#ff365a"
          ],
          [
           0.7333333333333333,
           "#ff3458"
          ],
          [
           0.7372549019607844,
           "#ff3257"
          ],
          [
           0.7411764705882353,
           "#ff3056"
          ],
          [
           0.7450980392156863,
           "#ff2f55"
          ],
          [
           0.7490196078431373,
           "#ff2d53"
          ],
          [
           0.7529411764705882,
           "#ff2b52"
          ],
          [
           0.7568627450980392,
           "#ff2a51"
          ],
          [
           0.7607843137254902,
           "#ff284f"
          ],
          [
           0.7647058823529411,
           "#ff264e"
          ],
          [
           0.7686274509803922,
           "#ff254d"
          ],
          [
           0.7725490196078432,
           "#ff234b"
          ],
          [
           0.7764705882352941,
           "#ff214a"
          ],
          [
           0.7803921568627451,
           "#ff1f49"
          ],
          [
           0.7843137254901961,
           "#ff1e48"
          ],
          [
           0.788235294117647,
           "#ff1c46"
          ],
          [
           0.792156862745098,
           "#ff1a45"
          ],
          [
           0.796078431372549,
           "#ff1944"
          ],
          [
           0.8,
           "#ff1742"
          ],
          [
           0.803921568627451,
           "#ff1842"
          ],
          [
           0.807843137254902,
           "#ff1842"
          ],
          [
           0.8117647058823529,
           "#ff1942"
          ],
          [
           0.8156862745098039,
           "#ff1a42"
          ],
          [
           0.8196078431372549,
           "#ff1a42"
          ],
          [
           0.8235294117647058,
           "#ff1b42"
          ],
          [
           0.8274509803921568,
           "#ff1c42"
          ],
          [
           0.8313725490196079,
           "#ff1d42"
          ],
          [
           0.8352941176470589,
           "#ff1d42"
          ],
          [
           0.8392156862745098,
           "#ff1e42"
          ],
          [
           0.8431372549019608,
           "#ff1f42"
          ],
          [
           0.8470588235294118,
           "#ff1f42"
          ],
          [
           0.8509803921568627,
           "#ff2042"
          ],
          [
           0.8549019607843137,
           "#ff2142"
          ],
          [
           0.8588235294117647,
           "#ff2142"
          ],
          [
           0.8627450980392157,
           "#ff2242"
          ],
          [
           0.8666666666666667,
           "#ff2342"
          ],
          [
           0.8705882352941177,
           "#ff2442"
          ],
          [
           0.8745098039215686,
           "#ff2442"
          ],
          [
           0.8784313725490196,
           "#ff2542"
          ],
          [
           0.8823529411764706,
           "#ff2642"
          ],
          [
           0.8862745098039215,
           "#ff2642"
          ],
          [
           0.8901960784313725,
           "#ff2742"
          ],
          [
           0.8941176470588236,
           "#ff2842"
          ],
          [
           0.8980392156862745,
           "#ff2842"
          ],
          [
           0.9019607843137255,
           "#ff2942"
          ],
          [
           0.9058823529411765,
           "#ff2a42"
          ],
          [
           0.9098039215686274,
           "#ff2b42"
          ],
          [
           0.9137254901960784,
           "#ff2c42"
          ],
          [
           0.9176470588235294,
           "#ff2d42"
          ],
          [
           0.9215686274509803,
           "#ff2e42"
          ],
          [
           0.9254901960784314,
           "#ff2f42"
          ],
          [
           0.9294117647058824,
           "#ff3042"
          ],
          [
           0.9333333333333333,
           "#ff3142"
          ],
          [
           0.9372549019607843,
           "#ff3242"
          ],
          [
           0.9411764705882353,
           "#ff3342"
          ],
          [
           0.9450980392156862,
           "#ff3442"
          ],
          [
           0.9490196078431372,
           "#ff3542"
          ],
          [
           0.9529411764705882,
           "#ff3642"
          ],
          [
           0.9568627450980393,
           "#ff3742"
          ],
          [
           0.9607843137254902,
           "#ff3842"
          ],
          [
           0.9647058823529412,
           "#ff3942"
          ],
          [
           0.9686274509803922,
           "#ff3a42"
          ],
          [
           0.9725490196078431,
           "#ff3b42"
          ],
          [
           0.9764705882352941,
           "#ff3c42"
          ],
          [
           0.9803921568627451,
           "#ff3d42"
          ],
          [
           0.984313725490196,
           "#ff3e42"
          ],
          [
           0.9882352941176471,
           "#ff3f42"
          ],
          [
           0.9921568627450981,
           "#ff4042"
          ],
          [
           0.996078431372549,
           "#ff4142"
          ],
          [
           1,
           "#ff4242"
          ]
         ],
         "showscale": false,
         "text": [
          [
           "Column 5",
           "Column 4",
           "Column 2",
           "Column 7",
           "Column 6",
           "Column 1",
           "Column 0",
           "Column 3"
          ]
         ],
         "type": "heatmap",
         "uid": "ce25fb33-0269-4544-a9ee-a8c5689f4df4",
         "x": [
          "Column 5",
          "Column 4",
          "Column 2",
          "Column 7",
          "Column 6",
          "Column 1",
          "Column 0",
          "Column 3"
         ],
         "y": [
          "Target"
         ],
         "yaxis": "y2",
         "z": [
          [
           -1.836649516477367,
           -1.1297551111687338,
           -0.5956325385270926,
           0.22770889709294234,
           0.5741421266346989,
           0.7109283174410879,
           0.9577132609070443,
           1.09154456409742
          ]
         ],
         "zmax": 1.09154456409742,
         "zmin": -1.836649516477367
        },
        {
         "colorscale": [
          [
           0,
           "#4242ff"
          ],
          [
           0.00392156862745098,
           "#4241ff"
          ],
          [
           0.00784313725490196,
           "#4240ff"
          ],
          [
           0.011764705882352941,
           "#423fff"
          ],
          [
           0.01568627450980392,
           "#423eff"
          ],
          [
           0.0196078431372549,
           "#423dff"
          ],
          [
           0.023529411764705882,
           "#423cff"
          ],
          [
           0.027450980392156862,
           "#423bff"
          ],
          [
           0.03137254901960784,
           "#423aff"
          ],
          [
           0.03529411764705882,
           "#4239ff"
          ],
          [
           0.0392156862745098,
           "#4238ff"
          ],
          [
           0.043137254901960784,
           "#4237ff"
          ],
          [
           0.047058823529411764,
           "#4236ff"
          ],
          [
           0.050980392156862744,
           "#4235ff"
          ],
          [
           0.054901960784313725,
           "#4234ff"
          ],
          [
           0.058823529411764705,
           "#4233ff"
          ],
          [
           0.06274509803921569,
           "#4232ff"
          ],
          [
           0.06666666666666667,
           "#4231ff"
          ],
          [
           0.07058823529411765,
           "#4230ff"
          ],
          [
           0.07450980392156863,
           "#422fff"
          ],
          [
           0.0784313725490196,
           "#422eff"
          ],
          [
           0.08235294117647059,
           "#422dff"
          ],
          [
           0.08627450980392157,
           "#422cff"
          ],
          [
           0.09019607843137255,
           "#422bff"
          ],
          [
           0.09411764705882353,
           "#422aff"
          ],
          [
           0.09803921568627451,
           "#4229ff"
          ],
          [
           0.10196078431372549,
           "#4228ff"
          ],
          [
           0.10588235294117647,
           "#4228ff"
          ],
          [
           0.10980392156862745,
           "#4227ff"
          ],
          [
           0.11372549019607843,
           "#4226ff"
          ],
          [
           0.11764705882352941,
           "#4226ff"
          ],
          [
           0.12156862745098039,
           "#4225ff"
          ],
          [
           0.12549019607843137,
           "#4224ff"
          ],
          [
           0.12941176470588237,
           "#4224ff"
          ],
          [
           0.13333333333333333,
           "#4223ff"
          ],
          [
           0.13725490196078433,
           "#4222ff"
          ],
          [
           0.1411764705882353,
           "#4221ff"
          ],
          [
           0.1450980392156863,
           "#4221ff"
          ],
          [
           0.14901960784313725,
           "#4220ff"
          ],
          [
           0.15294117647058825,
           "#421fff"
          ],
          [
           0.1568627450980392,
           "#421fff"
          ],
          [
           0.1607843137254902,
           "#421eff"
          ],
          [
           0.16470588235294117,
           "#421dff"
          ],
          [
           0.16862745098039217,
           "#421dff"
          ],
          [
           0.17254901960784313,
           "#421cff"
          ],
          [
           0.17647058823529413,
           "#421bff"
          ],
          [
           0.1803921568627451,
           "#421aff"
          ],
          [
           0.1843137254901961,
           "#421aff"
          ],
          [
           0.18823529411764706,
           "#4219ff"
          ],
          [
           0.19215686274509805,
           "#4218ff"
          ],
          [
           0.19607843137254902,
           "#4218ff"
          ],
          [
           0.2,
           "#4217ff"
          ],
          [
           0.20392156862745098,
           "#4419ff"
          ],
          [
           0.20784313725490197,
           "#451aff"
          ],
          [
           0.21176470588235294,
           "#461cff"
          ],
          [
           0.21568627450980393,
           "#481eff"
          ],
          [
           0.2196078431372549,
           "#491fff"
          ],
          [
           0.2235294117647059,
           "#4a21ff"
          ],
          [
           0.22745098039215686,
           "#4b23ff"
          ],
          [
           0.23137254901960785,
           "#4d25ff"
          ],
          [
           0.23529411764705882,
           "#4e26ff"
          ],
          [
           0.23921568627450981,
           "#4f28ff"
          ],
          [
           0.24313725490196078,
           "#512aff"
          ],
          [
           0.24705882352941178,
           "#522bff"
          ],
          [
           0.25098039215686274,
           "#532dff"
          ],
          [
           0.2549019607843137,
           "#542fff"
          ],
          [
           0.25882352941176473,
           "#5630ff"
          ],
          [
           0.2627450980392157,
           "#5732ff"
          ],
          [
           0.26666666666666666,
           "#5834ff"
          ],
          [
           0.27058823529411763,
           "#5a36ff"
          ],
          [
           0.27450980392156865,
           "#5b37ff"
          ],
          [
           0.2784313725490196,
           "#5c39ff"
          ],
          [
           0.2823529411764706,
           "#5e3bff"
          ],
          [
           0.28627450980392155,
           "#5f3cff"
          ],
          [
           0.2901960784313726,
           "#603eff"
          ],
          [
           0.29411764705882354,
           "#6240ff"
          ],
          [
           0.2980392156862745,
           "#6341ff"
          ],
          [
           0.30196078431372547,
           "#6544ff"
          ],
          [
           0.3058823529411765,
           "#6849ff"
          ],
          [
           0.30980392156862746,
           "#6b4dff"
          ],
          [
           0.3137254901960784,
           "#6e51ff"
          ],
          [
           0.3176470588235294,
           "#7156ff"
          ],
          [
           0.3215686274509804,
           "#745aff"
          ],
          [
           0.3254901960784314,
           "#775eff"
          ],
          [
           0.32941176470588235,
           "#7a63ff"
          ],
          [
           0.3333333333333333,
           "#7d67ff"
          ],
          [
           0.33725490196078434,
           "#806bff"
          ],
          [
           0.3411764705882353,
           "#836fff"
          ],
          [
           0.34509803921568627,
           "#8674ff"
          ],
          [
           0.34901960784313724,
           "#8978ff"
          ],
          [
           0.35294117647058826,
           "#8c7cff"
          ],
          [
           0.3568627450980392,
           "#8f81ff"
          ],
          [
           0.3607843137254902,
           "#9285ff"
          ],
          [
           0.36470588235294116,
           "#9589ff"
          ],
          [
           0.3686274509803922,
           "#988eff"
          ],
          [
           0.37254901960784315,
           "#9b92ff"
          ],
          [
           0.3764705882352941,
           "#9e96ff"
          ],
          [
           0.3803921568627451,
           "#a19aff"
          ],
          [
           0.3843137254901961,
           "#a49fff"
          ],
          [
           0.38823529411764707,
           "#a7a3ff"
          ],
          [
           0.39215686274509803,
           "#aaa7ff"
          ],
          [
           0.396078431372549,
           "#adacff"
          ],
          [
           0.4,
           "#b0b0ff"
          ],
          [
           0.403921568627451,
           "#b3b3ff"
          ],
          [
           0.40784313725490196,
           "#b6b6ff"
          ],
          [
           0.4117647058823529,
           "#b9b9ff"
          ],
          [
           0.41568627450980394,
           "#bcbcff"
          ],
          [
           0.4196078431372549,
           "#bfbfff"
          ],
          [
           0.4235294117647059,
           "#c3c3ff"
          ],
          [
           0.42745098039215684,
           "#c6c6ff"
          ],
          [
           0.43137254901960786,
           "#c9c9ff"
          ],
          [
           0.43529411764705883,
           "#ccccff"
          ],
          [
           0.4392156862745098,
           "#cfcfff"
          ],
          [
           0.44313725490196076,
           "#d2d2ff"
          ],
          [
           0.4470588235294118,
           "#d5d5ff"
          ],
          [
           0.45098039215686275,
           "#d8d8ff"
          ],
          [
           0.4549019607843137,
           "#dbdbff"
          ],
          [
           0.4588235294117647,
           "#dedeff"
          ],
          [
           0.4627450980392157,
           "#e2e2ff"
          ],
          [
           0.4666666666666667,
           "#e5e5ff"
          ],
          [
           0.47058823529411764,
           "#e8e8ff"
          ],
          [
           0.4745098039215686,
           "#ebebff"
          ],
          [
           0.47843137254901963,
           "#eeeeff"
          ],
          [
           0.4823529411764706,
           "#f1f1ff"
          ],
          [
           0.48627450980392156,
           "#f4f4ff"
          ],
          [
           0.49019607843137253,
           "#f7f7ff"
          ],
          [
           0.49411764705882355,
           "#fafaff"
          ],
          [
           0.4980392156862745,
           "#fdfdff"
          ],
          [
           0.5019607843137255,
           "#fffdfd"
          ],
          [
           0.5058823529411764,
           "#fffafa"
          ],
          [
           0.5098039215686274,
           "#fff7f7"
          ],
          [
           0.5137254901960784,
           "#fff4f4"
          ],
          [
           0.5176470588235295,
           "#fff1f1"
          ],
          [
           0.5215686274509804,
           "#ffeeee"
          ],
          [
           0.5254901960784314,
           "#ffebeb"
          ],
          [
           0.5294117647058824,
           "#ffe8e8"
          ],
          [
           0.5333333333333333,
           "#ffe5e5"
          ],
          [
           0.5372549019607843,
           "#ffe2e2"
          ],
          [
           0.5411764705882353,
           "#ffdede"
          ],
          [
           0.5450980392156862,
           "#ffdbdb"
          ],
          [
           0.5490196078431373,
           "#ffd8d8"
          ],
          [
           0.5529411764705883,
           "#ffd5d5"
          ],
          [
           0.5568627450980392,
           "#ffd2d2"
          ],
          [
           0.5607843137254902,
           "#ffcfcf"
          ],
          [
           0.5647058823529412,
           "#ffcccc"
          ],
          [
           0.5686274509803921,
           "#ffc9c9"
          ],
          [
           0.5725490196078431,
           "#ffc6c6"
          ],
          [
           0.5764705882352941,
           "#ffc3c3"
          ],
          [
           0.5803921568627451,
           "#ffbfbf"
          ],
          [
           0.5843137254901961,
           "#ffbcbc"
          ],
          [
           0.5882352941176471,
           "#ffb9b9"
          ],
          [
           0.592156862745098,
           "#ffb6b6"
          ],
          [
           0.596078431372549,
           "#ffb3b3"
          ],
          [
           0.6,
           "#ffb0b0"
          ],
          [
           0.6039215686274509,
           "#ffacad"
          ],
          [
           0.6078431372549019,
           "#ffa7aa"
          ],
          [
           0.611764705882353,
           "#ffa3a7"
          ],
          [
           0.615686274509804,
           "#ff9fa4"
          ],
          [
           0.6196078431372549,
           "#ff9aa1"
          ],
          [
           0.6235294117647059,
           "#ff969e"
          ],
          [
           0.6274509803921569,
           "#ff929b"
          ],
          [
           0.6313725490196078,
           "#ff8e98"
          ],
          [
           0.6352941176470588,
           "#ff8995"
          ],
          [
           0.6392156862745098,
           "#ff8592"
          ],
          [
           0.6431372549019608,
           "#ff818f"
          ],
          [
           0.6470588235294118,
           "#ff7c8c"
          ],
          [
           0.6509803921568628,
           "#ff7889"
          ],
          [
           0.6549019607843137,
           "#ff7486"
          ],
          [
           0.6588235294117647,
           "#ff6f83"
          ],
          [
           0.6627450980392157,
           "#ff6b80"
          ],
          [
           0.6666666666666666,
           "#ff677d"
          ],
          [
           0.6705882352941176,
           "#ff637a"
          ],
          [
           0.6745098039215687,
           "#ff5e77"
          ],
          [
           0.6784313725490196,
           "#ff5a74"
          ],
          [
           0.6823529411764706,
           "#ff5671"
          ],
          [
           0.6862745098039216,
           "#ff516e"
          ],
          [
           0.6901960784313725,
           "#ff4d6b"
          ],
          [
           0.6941176470588235,
           "#ff4968"
          ],
          [
           0.6980392156862745,
           "#ff4465"
          ],
          [
           0.7019607843137254,
           "#ff4163"
          ],
          [
           0.7058823529411765,
           "#ff4062"
          ],
          [
           0.7098039215686275,
           "#ff3e60"
          ],
          [
           0.7137254901960784,
           "#ff3c5f"
          ],
          [
           0.7176470588235294,
           "#ff3b5e"
          ],
          [
           0.7215686274509804,
           "#ff395c"
          ],
          [
           0.7254901960784313,
           "#ff375b"
          ],
          [
           0.7294117647058823,
           "#ff365a"
          ],
          [
           0.7333333333333333,
           "#ff3458"
          ],
          [
           0.7372549019607844,
           "#ff3257"
          ],
          [
           0.7411764705882353,
           "#ff3056"
          ],
          [
           0.7450980392156863,
           "#ff2f55"
          ],
          [
           0.7490196078431373,
           "#ff2d53"
          ],
          [
           0.7529411764705882,
           "#ff2b52"
          ],
          [
           0.7568627450980392,
           "#ff2a51"
          ],
          [
           0.7607843137254902,
           "#ff284f"
          ],
          [
           0.7647058823529411,
           "#ff264e"
          ],
          [
           0.7686274509803922,
           "#ff254d"
          ],
          [
           0.7725490196078432,
           "#ff234b"
          ],
          [
           0.7764705882352941,
           "#ff214a"
          ],
          [
           0.7803921568627451,
           "#ff1f49"
          ],
          [
           0.7843137254901961,
           "#ff1e48"
          ],
          [
           0.788235294117647,
           "#ff1c46"
          ],
          [
           0.792156862745098,
           "#ff1a45"
          ],
          [
           0.796078431372549,
           "#ff1944"
          ],
          [
           0.8,
           "#ff1742"
          ],
          [
           0.803921568627451,
           "#ff1842"
          ],
          [
           0.807843137254902,
           "#ff1842"
          ],
          [
           0.8117647058823529,
           "#ff1942"
          ],
          [
           0.8156862745098039,
           "#ff1a42"
          ],
          [
           0.8196078431372549,
           "#ff1a42"
          ],
          [
           0.8235294117647058,
           "#ff1b42"
          ],
          [
           0.8274509803921568,
           "#ff1c42"
          ],
          [
           0.8313725490196079,
           "#ff1d42"
          ],
          [
           0.8352941176470589,
           "#ff1d42"
          ],
          [
           0.8392156862745098,
           "#ff1e42"
          ],
          [
           0.8431372549019608,
           "#ff1f42"
          ],
          [
           0.8470588235294118,
           "#ff1f42"
          ],
          [
           0.8509803921568627,
           "#ff2042"
          ],
          [
           0.8549019607843137,
           "#ff2142"
          ],
          [
           0.8588235294117647,
           "#ff2142"
          ],
          [
           0.8627450980392157,
           "#ff2242"
          ],
          [
           0.8666666666666667,
           "#ff2342"
          ],
          [
           0.8705882352941177,
           "#ff2442"
          ],
          [
           0.8745098039215686,
           "#ff2442"
          ],
          [
           0.8784313725490196,
           "#ff2542"
          ],
          [
           0.8823529411764706,
           "#ff2642"
          ],
          [
           0.8862745098039215,
           "#ff2642"
          ],
          [
           0.8901960784313725,
           "#ff2742"
          ],
          [
           0.8941176470588236,
           "#ff2842"
          ],
          [
           0.8980392156862745,
           "#ff2842"
          ],
          [
           0.9019607843137255,
           "#ff2942"
          ],
          [
           0.9058823529411765,
           "#ff2a42"
          ],
          [
           0.9098039215686274,
           "#ff2b42"
          ],
          [
           0.9137254901960784,
           "#ff2c42"
          ],
          [
           0.9176470588235294,
           "#ff2d42"
          ],
          [
           0.9215686274509803,
           "#ff2e42"
          ],
          [
           0.9254901960784314,
           "#ff2f42"
          ],
          [
           0.9294117647058824,
           "#ff3042"
          ],
          [
           0.9333333333333333,
           "#ff3142"
          ],
          [
           0.9372549019607843,
           "#ff3242"
          ],
          [
           0.9411764705882353,
           "#ff3342"
          ],
          [
           0.9450980392156862,
           "#ff3442"
          ],
          [
           0.9490196078431372,
           "#ff3542"
          ],
          [
           0.9529411764705882,
           "#ff3642"
          ],
          [
           0.9568627450980393,
           "#ff3742"
          ],
          [
           0.9607843137254902,
           "#ff3842"
          ],
          [
           0.9647058823529412,
           "#ff3942"
          ],
          [
           0.9686274509803922,
           "#ff3a42"
          ],
          [
           0.9725490196078431,
           "#ff3b42"
          ],
          [
           0.9764705882352941,
           "#ff3c42"
          ],
          [
           0.9803921568627451,
           "#ff3d42"
          ],
          [
           0.984313725490196,
           "#ff3e42"
          ],
          [
           0.9882352941176471,
           "#ff3f42"
          ],
          [
           0.9921568627450981,
           "#ff4042"
          ],
          [
           0.996078431372549,
           "#ff4142"
          ],
          [
           1,
           "#ff4242"
          ]
         ],
         "showscale": false,
         "type": "heatmap",
         "uid": "8b28f8e9-2d58-4a38-a9d8-86d30e2368d5",
         "x": [
          "Column 5",
          "Column 4",
          "Column 2",
          "Column 7",
          "Column 6",
          "Column 1",
          "Column 0",
          "Column 3"
         ],
         "y": [
          "Continuous Index 2",
          "Continuous Index 1",
          "Categorical Index 0",
          "Continuous Index 0",
          "Categorical Index 1",
          "Categorical Index 3",
          "Binary Index 2",
          "Binary Index 3",
          "Categorical Index 2",
          "Binary Index 1",
          "Continuous Index 3",
          "Binary Index 0"
         ],
         "yaxis": "y",
         "z": [
          [
           0.08648002846205055,
           2.3516649229445834,
           0.49503881679667483,
           -0.5844441340146637,
           -0.45865658138162924,
           -0.3438390613493145,
           -0.3538795130080135,
           -1.192364478449689
          ],
          [
           0.6192496216776943,
           0.969025142008945,
           0.24150441328773883,
           0.8669437373619041,
           -0.27801625125564483,
           -1.4639083196959344,
           -1.740621996873205,
           0.7858236534885007
          ],
          [
           0,
           0.42640143271122083,
           0.42640143271122083,
           1.2792042981336627,
           -1.7056057308448833,
           1.2792042981336627,
           -0.8528028654224417,
           -0.8528028654224417
          ],
          [
           0.3931965577249646,
           -0.7917574535354329,
           2.077619367086736,
           -0.7977536589844159,
           0.45880946003944695,
           0.37191571837320575,
           -0.3810135742402566,
           -1.3310164164642488
          ],
          [
           1.3716529325371662,
           -0.5202821468244423,
           -0.14189513095212064,
           0.23649188492020107,
           -1.2770561785690857,
           1.750039948409488,
           -0.5202821468244423,
           -0.898669162696764
          ],
          [
           1.3483434466349709,
           -0.28601224625590294,
           -1.2666256619904273,
           1.6752145852131457,
           -0.28601224625590294,
           0.04085889232227185,
           -1.2666256619904273,
           0.04085889232227185
          ],
          [
           -1,
           1,
           -1,
           1,
           1,
           -1,
           1,
           -1
          ],
          [
           -1,
           1,
           -1,
           -1,
           1,
           1,
           1,
           -1
          ],
          [
           0.6546536707079772,
           -0.2182178902359924,
           -1.5275252316519468,
           0.2182178902359924,
           -1.091089451179962,
           -0.6546536707079772,
           1.5275252316519468,
           1.091089451179962
          ],
          [
           -1.7320508075688774,
           0.5773502691896258,
           0.5773502691896258,
           0.5773502691896258,
           0.5773502691896258,
           0.5773502691896258,
           -1.7320508075688774,
           0.5773502691896258
          ],
          [
           -0.9843563607501917,
           1.1919648273875072,
           -1.0368296026941224,
           0.7175730634395774,
           0.26756700062063277,
           -1.6349471424273745,
           0.4379107326940994,
           1.0411174817298738
          ],
          [
           0.7745966692414834,
           -1.2909944487358056,
           -1.2909944487358056,
           0.7745966692414834,
           0.7745966692414834,
           -1.2909944487358056,
           0.7745966692414834,
           0.7745966692414834
          ]
         ],
         "zmax": 2.3516649229445834,
         "zmin": -1.740621996873205
        }
       ],
       "layout": {
        "annotations": [
         {
          "font": {
           "size": 9.6
          },
          "showarrow": false,
          "text": "<b>Score</b>",
          "width": 64,
          "x": 1.0016,
          "xanchor": "left",
          "xref": "paper",
          "y": 0.9642857142857143,
          "yanchor": "middle",
          "yref": "paper"
         },
         {
          "font": {
           "size": 9.6
          },
          "showarrow": false,
          "text": "<b>0.30 ± 0.24</b>",
          "width": 64,
          "x": 1.0016,
          "xanchor": "left",
          "xref": "paper",
          "y": 0.8214285714285715,
          "yanchor": "middle",
          "yref": "paper"
         },
         {
          "font": {
           "size": 9.6
          },
          "showarrow": false,
          "text": "<b>0.25 ± 0.30</b>",
          "width": 64,
          "x": 1.0016,
          "xanchor": "left",
          "xref": "paper",
          "y": 0.7500000000000001,
          "yanchor": "middle",
          "yref": "paper"
         },
         {
          "font": {
           "size": 9.6
          },
          "showarrow": false,
          "text": "<b>0.24 ± 0.13</b>",
          "width": 64,
          "x": 1.0016,
          "xanchor": "left",
          "xref": "paper",
          "y": 0.6785714285714287,
          "yanchor": "middle",
          "yref": "paper"
         },
         {
          "font": {
           "size": 9.6
          },
          "showarrow": false,
          "text": "<b>0.19 ± 0.41</b>",
          "width": 64,
          "x": 1.0016,
          "xanchor": "left",
          "xref": "paper",
          "y": 0.6071428571428573,
          "yanchor": "middle",
          "yref": "paper"
         },
         {
          "font": {
           "size": 9.6
          },
          "showarrow": false,
          "text": "<b>0.17 ± 0.48</b>",
          "width": 64,
          "x": 1.0016,
          "xanchor": "left",
          "xref": "paper",
          "y": 0.5357142857142859,
          "yanchor": "middle",
          "yref": "paper"
         },
         {
          "font": {
           "size": 9.6
          },
          "showarrow": false,
          "text": "<b>0.10 ± 0.48</b>",
          "width": 64,
          "x": 1.0016,
          "xanchor": "left",
          "xref": "paper",
          "y": 0.46428571428571447,
          "yanchor": "middle",
          "yref": "paper"
         },
         {
          "font": {
           "size": 9.6
          },
          "showarrow": false,
          "text": "<b>-0.19 ± 0.60</b>",
          "width": 64,
          "x": 1.0016,
          "xanchor": "left",
          "xref": "paper",
          "y": 0.392857142857143,
          "yanchor": "middle",
          "yref": "paper"
         },
         {
          "font": {
           "size": 9.6
          },
          "showarrow": false,
          "text": "<b>-0.24 ± 0.33</b>",
          "width": 64,
          "x": 1.0016,
          "xanchor": "left",
          "xref": "paper",
          "y": 0.32142857142857156,
          "yanchor": "middle",
          "yref": "paper"
         },
         {
          "font": {
           "size": 9.6
          },
          "showarrow": false,
          "text": "<b>-0.25 ± 0.11</b>",
          "width": 64,
          "x": 1.0016,
          "xanchor": "left",
          "xref": "paper",
          "y": 0.2500000000000001,
          "yanchor": "middle",
          "yref": "paper"
         },
         {
          "font": {
           "size": 9.6
          },
          "showarrow": false,
          "text": "<b>-0.43 ± 0.19</b>",
          "width": 64,
          "x": 1.0016,
          "xanchor": "left",
          "xref": "paper",
          "y": 0.17857142857142866,
          "yanchor": "middle",
          "yref": "paper"
         },
         {
          "font": {
           "size": 9.6
          },
          "showarrow": false,
          "text": "<b>-0.49 ± 0.14</b>",
          "width": 64,
          "x": 1.0016,
          "xanchor": "left",
          "xref": "paper",
          "y": 0.10714285714285722,
          "yanchor": "middle",
          "yref": "paper"
         },
         {
          "font": {
           "size": 9.6
          },
          "showarrow": false,
          "text": "<b>-0.68 ± 0.05</b>",
          "width": 64,
          "x": 1.0016,
          "xanchor": "left",
          "xref": "paper",
          "y": 0.03571428571428578,
          "yanchor": "middle",
          "yref": "paper"
         }
        ],
        "height": 528.5455278713254,
        "margin": {
         "l": 196,
         "r": 196
        },
        "title": "Match Panel",
        "width": 880,
        "xaxis": {
         "anchor": "y",
         "tickfont": {
          "size": 9.6
         }
        },
        "yaxis": {
         "domain": [
          0,
          0.8571428571428572
         ],
         "dtick": 1,
         "tickfont": {
          "size": 9.6
         }
        },
        "yaxis2": {
         "domain": [
          0.9285714285714286,
          1
         ],
         "tickfont": {
          "size": 9.6
         }
        }
       }
      },
      "text/html": [
       "<div id=\"4e6ba8a6-b267-43ac-86be-529b098e5cb7\" style=\"height: 528.5455278713254px; width: 880px;\" class=\"plotly-graph-div\"></div><script type=\"text/javascript\">require([\"plotly\"], function(Plotly) { window.PLOTLYENV=window.PLOTLYENV || {};window.PLOTLYENV.BASE_URL=\"https://plot.ly\";Plotly.newPlot(\"4e6ba8a6-b267-43ac-86be-529b098e5cb7\", [{\"colorscale\": [[0.0, \"#4242ff\"], [0.00392156862745098, \"#4241ff\"], [0.00784313725490196, \"#4240ff\"], [0.011764705882352941, \"#423fff\"], [0.01568627450980392, \"#423eff\"], [0.0196078431372549, \"#423dff\"], [0.023529411764705882, \"#423cff\"], [0.027450980392156862, \"#423bff\"], [0.03137254901960784, \"#423aff\"], [0.03529411764705882, \"#4239ff\"], [0.0392156862745098, \"#4238ff\"], [0.043137254901960784, \"#4237ff\"], [0.047058823529411764, \"#4236ff\"], [0.050980392156862744, \"#4235ff\"], [0.054901960784313725, \"#4234ff\"], [0.058823529411764705, \"#4233ff\"], [0.06274509803921569, \"#4232ff\"], [0.06666666666666667, \"#4231ff\"], [0.07058823529411765, \"#4230ff\"], [0.07450980392156863, \"#422fff\"], [0.0784313725490196, \"#422eff\"], [0.08235294117647059, \"#422dff\"], [0.08627450980392157, \"#422cff\"], [0.09019607843137255, \"#422bff\"], [0.09411764705882353, \"#422aff\"], [0.09803921568627451, \"#4229ff\"], [0.10196078431372549, \"#4228ff\"], [0.10588235294117647, \"#4228ff\"], [0.10980392156862745, \"#4227ff\"], [0.11372549019607843, \"#4226ff\"], [0.11764705882352941, \"#4226ff\"], [0.12156862745098039, \"#4225ff\"], [0.12549019607843137, \"#4224ff\"], [0.12941176470588237, \"#4224ff\"], [0.13333333333333333, \"#4223ff\"], [0.13725490196078433, \"#4222ff\"], [0.1411764705882353, \"#4221ff\"], [0.1450980392156863, \"#4221ff\"], [0.14901960784313725, \"#4220ff\"], [0.15294117647058825, \"#421fff\"], [0.1568627450980392, \"#421fff\"], [0.1607843137254902, \"#421eff\"], [0.16470588235294117, \"#421dff\"], [0.16862745098039217, \"#421dff\"], [0.17254901960784313, \"#421cff\"], [0.17647058823529413, \"#421bff\"], [0.1803921568627451, \"#421aff\"], [0.1843137254901961, \"#421aff\"], [0.18823529411764706, \"#4219ff\"], [0.19215686274509805, \"#4218ff\"], [0.19607843137254902, \"#4218ff\"], [0.2, \"#4217ff\"], [0.20392156862745098, \"#4419ff\"], [0.20784313725490197, \"#451aff\"], [0.21176470588235294, \"#461cff\"], [0.21568627450980393, \"#481eff\"], [0.2196078431372549, \"#491fff\"], [0.2235294117647059, \"#4a21ff\"], [0.22745098039215686, \"#4b23ff\"], [0.23137254901960785, \"#4d25ff\"], [0.23529411764705882, \"#4e26ff\"], [0.23921568627450981, \"#4f28ff\"], [0.24313725490196078, \"#512aff\"], [0.24705882352941178, \"#522bff\"], [0.25098039215686274, \"#532dff\"], [0.2549019607843137, \"#542fff\"], [0.25882352941176473, \"#5630ff\"], [0.2627450980392157, \"#5732ff\"], [0.26666666666666666, \"#5834ff\"], [0.27058823529411763, \"#5a36ff\"], [0.27450980392156865, \"#5b37ff\"], [0.2784313725490196, \"#5c39ff\"], [0.2823529411764706, \"#5e3bff\"], [0.28627450980392155, \"#5f3cff\"], [0.2901960784313726, \"#603eff\"], [0.29411764705882354, \"#6240ff\"], [0.2980392156862745, \"#6341ff\"], [0.30196078431372547, \"#6544ff\"], [0.3058823529411765, \"#6849ff\"], [0.30980392156862746, \"#6b4dff\"], [0.3137254901960784, \"#6e51ff\"], [0.3176470588235294, \"#7156ff\"], [0.3215686274509804, \"#745aff\"], [0.3254901960784314, \"#775eff\"], [0.32941176470588235, \"#7a63ff\"], [0.3333333333333333, \"#7d67ff\"], [0.33725490196078434, \"#806bff\"], [0.3411764705882353, \"#836fff\"], [0.34509803921568627, \"#8674ff\"], [0.34901960784313724, \"#8978ff\"], [0.35294117647058826, \"#8c7cff\"], [0.3568627450980392, \"#8f81ff\"], [0.3607843137254902, \"#9285ff\"], [0.36470588235294116, \"#9589ff\"], [0.3686274509803922, \"#988eff\"], [0.37254901960784315, \"#9b92ff\"], [0.3764705882352941, \"#9e96ff\"], [0.3803921568627451, \"#a19aff\"], [0.3843137254901961, \"#a49fff\"], [0.38823529411764707, \"#a7a3ff\"], [0.39215686274509803, \"#aaa7ff\"], [0.396078431372549, \"#adacff\"], [0.4, \"#b0b0ff\"], [0.403921568627451, \"#b3b3ff\"], [0.40784313725490196, \"#b6b6ff\"], [0.4117647058823529, \"#b9b9ff\"], [0.41568627450980394, \"#bcbcff\"], [0.4196078431372549, \"#bfbfff\"], [0.4235294117647059, \"#c3c3ff\"], [0.42745098039215684, \"#c6c6ff\"], [0.43137254901960786, \"#c9c9ff\"], [0.43529411764705883, \"#ccccff\"], [0.4392156862745098, \"#cfcfff\"], [0.44313725490196076, \"#d2d2ff\"], [0.4470588235294118, \"#d5d5ff\"], [0.45098039215686275, \"#d8d8ff\"], [0.4549019607843137, \"#dbdbff\"], [0.4588235294117647, \"#dedeff\"], [0.4627450980392157, \"#e2e2ff\"], [0.4666666666666667, \"#e5e5ff\"], [0.47058823529411764, \"#e8e8ff\"], [0.4745098039215686, \"#ebebff\"], [0.47843137254901963, \"#eeeeff\"], [0.4823529411764706, \"#f1f1ff\"], [0.48627450980392156, \"#f4f4ff\"], [0.49019607843137253, \"#f7f7ff\"], [0.49411764705882355, \"#fafaff\"], [0.4980392156862745, \"#fdfdff\"], [0.5019607843137255, \"#fffdfd\"], [0.5058823529411764, \"#fffafa\"], [0.5098039215686274, \"#fff7f7\"], [0.5137254901960784, \"#fff4f4\"], [0.5176470588235295, \"#fff1f1\"], [0.5215686274509804, \"#ffeeee\"], [0.5254901960784314, \"#ffebeb\"], [0.5294117647058824, \"#ffe8e8\"], [0.5333333333333333, \"#ffe5e5\"], [0.5372549019607843, \"#ffe2e2\"], [0.5411764705882353, \"#ffdede\"], [0.5450980392156862, \"#ffdbdb\"], [0.5490196078431373, \"#ffd8d8\"], [0.5529411764705883, \"#ffd5d5\"], [0.5568627450980392, \"#ffd2d2\"], [0.5607843137254902, \"#ffcfcf\"], [0.5647058823529412, \"#ffcccc\"], [0.5686274509803921, \"#ffc9c9\"], [0.5725490196078431, \"#ffc6c6\"], [0.5764705882352941, \"#ffc3c3\"], [0.5803921568627451, \"#ffbfbf\"], [0.5843137254901961, \"#ffbcbc\"], [0.5882352941176471, \"#ffb9b9\"], [0.592156862745098, \"#ffb6b6\"], [0.596078431372549, \"#ffb3b3\"], [0.6, \"#ffb0b0\"], [0.6039215686274509, \"#ffacad\"], [0.6078431372549019, \"#ffa7aa\"], [0.611764705882353, \"#ffa3a7\"], [0.615686274509804, \"#ff9fa4\"], [0.6196078431372549, \"#ff9aa1\"], [0.6235294117647059, \"#ff969e\"], [0.6274509803921569, \"#ff929b\"], [0.6313725490196078, \"#ff8e98\"], [0.6352941176470588, \"#ff8995\"], [0.6392156862745098, \"#ff8592\"], [0.6431372549019608, \"#ff818f\"], [0.6470588235294118, \"#ff7c8c\"], [0.6509803921568628, \"#ff7889\"], [0.6549019607843137, \"#ff7486\"], [0.6588235294117647, \"#ff6f83\"], [0.6627450980392157, \"#ff6b80\"], [0.6666666666666666, \"#ff677d\"], [0.6705882352941176, \"#ff637a\"], [0.6745098039215687, \"#ff5e77\"], [0.6784313725490196, \"#ff5a74\"], [0.6823529411764706, \"#ff5671\"], [0.6862745098039216, \"#ff516e\"], [0.6901960784313725, \"#ff4d6b\"], [0.6941176470588235, \"#ff4968\"], [0.6980392156862745, \"#ff4465\"], [0.7019607843137254, \"#ff4163\"], [0.7058823529411765, \"#ff4062\"], [0.7098039215686275, \"#ff3e60\"], [0.7137254901960784, \"#ff3c5f\"], [0.7176470588235294, \"#ff3b5e\"], [0.7215686274509804, \"#ff395c\"], [0.7254901960784313, \"#ff375b\"], [0.7294117647058823, \"#ff365a\"], [0.7333333333333333, \"#ff3458\"], [0.7372549019607844, \"#ff3257\"], [0.7411764705882353, \"#ff3056\"], [0.7450980392156863, \"#ff2f55\"], [0.7490196078431373, \"#ff2d53\"], [0.7529411764705882, \"#ff2b52\"], [0.7568627450980392, \"#ff2a51\"], [0.7607843137254902, \"#ff284f\"], [0.7647058823529411, \"#ff264e\"], [0.7686274509803922, \"#ff254d\"], [0.7725490196078432, \"#ff234b\"], [0.7764705882352941, \"#ff214a\"], [0.7803921568627451, \"#ff1f49\"], [0.7843137254901961, \"#ff1e48\"], [0.788235294117647, \"#ff1c46\"], [0.792156862745098, \"#ff1a45\"], [0.796078431372549, \"#ff1944\"], [0.8, \"#ff1742\"], [0.803921568627451, \"#ff1842\"], [0.807843137254902, \"#ff1842\"], [0.8117647058823529, \"#ff1942\"], [0.8156862745098039, \"#ff1a42\"], [0.8196078431372549, \"#ff1a42\"], [0.8235294117647058, \"#ff1b42\"], [0.8274509803921568, \"#ff1c42\"], [0.8313725490196079, \"#ff1d42\"], [0.8352941176470589, \"#ff1d42\"], [0.8392156862745098, \"#ff1e42\"], [0.8431372549019608, \"#ff1f42\"], [0.8470588235294118, \"#ff1f42\"], [0.8509803921568627, \"#ff2042\"], [0.8549019607843137, \"#ff2142\"], [0.8588235294117647, \"#ff2142\"], [0.8627450980392157, \"#ff2242\"], [0.8666666666666667, \"#ff2342\"], [0.8705882352941177, \"#ff2442\"], [0.8745098039215686, \"#ff2442\"], [0.8784313725490196, \"#ff2542\"], [0.8823529411764706, \"#ff2642\"], [0.8862745098039215, \"#ff2642\"], [0.8901960784313725, \"#ff2742\"], [0.8941176470588236, \"#ff2842\"], [0.8980392156862745, \"#ff2842\"], [0.9019607843137255, \"#ff2942\"], [0.9058823529411765, \"#ff2a42\"], [0.9098039215686274, \"#ff2b42\"], [0.9137254901960784, \"#ff2c42\"], [0.9176470588235294, \"#ff2d42\"], [0.9215686274509803, \"#ff2e42\"], [0.9254901960784314, \"#ff2f42\"], [0.9294117647058824, \"#ff3042\"], [0.9333333333333333, \"#ff3142\"], [0.9372549019607843, \"#ff3242\"], [0.9411764705882353, \"#ff3342\"], [0.9450980392156862, \"#ff3442\"], [0.9490196078431372, \"#ff3542\"], [0.9529411764705882, \"#ff3642\"], [0.9568627450980393, \"#ff3742\"], [0.9607843137254902, \"#ff3842\"], [0.9647058823529412, \"#ff3942\"], [0.9686274509803922, \"#ff3a42\"], [0.9725490196078431, \"#ff3b42\"], [0.9764705882352941, \"#ff3c42\"], [0.9803921568627451, \"#ff3d42\"], [0.984313725490196, \"#ff3e42\"], [0.9882352941176471, \"#ff3f42\"], [0.9921568627450981, \"#ff4042\"], [0.996078431372549, \"#ff4142\"], [1.0, \"#ff4242\"]], \"showscale\": false, \"text\": [[\"Column 5\", \"Column 4\", \"Column 2\", \"Column 7\", \"Column 6\", \"Column 1\", \"Column 0\", \"Column 3\"]], \"x\": [\"Column 5\", \"Column 4\", \"Column 2\", \"Column 7\", \"Column 6\", \"Column 1\", \"Column 0\", \"Column 3\"], \"y\": [\"Target\"], \"yaxis\": \"y2\", \"z\": [[-1.836649516477367, -1.1297551111687338, -0.5956325385270926, 0.22770889709294234, 0.5741421266346989, 0.7109283174410879, 0.9577132609070443, 1.09154456409742]], \"zmax\": 1.09154456409742, \"zmin\": -1.836649516477367, \"type\": \"heatmap\", \"uid\": \"dc8dd075-77fb-4bf6-95bd-257403af29b2\"}, {\"colorscale\": [[0.0, \"#4242ff\"], [0.00392156862745098, \"#4241ff\"], [0.00784313725490196, \"#4240ff\"], [0.011764705882352941, \"#423fff\"], [0.01568627450980392, \"#423eff\"], [0.0196078431372549, \"#423dff\"], [0.023529411764705882, \"#423cff\"], [0.027450980392156862, \"#423bff\"], [0.03137254901960784, \"#423aff\"], [0.03529411764705882, \"#4239ff\"], [0.0392156862745098, \"#4238ff\"], [0.043137254901960784, \"#4237ff\"], [0.047058823529411764, \"#4236ff\"], [0.050980392156862744, \"#4235ff\"], [0.054901960784313725, \"#4234ff\"], [0.058823529411764705, \"#4233ff\"], [0.06274509803921569, \"#4232ff\"], [0.06666666666666667, \"#4231ff\"], [0.07058823529411765, \"#4230ff\"], [0.07450980392156863, \"#422fff\"], [0.0784313725490196, \"#422eff\"], [0.08235294117647059, \"#422dff\"], [0.08627450980392157, \"#422cff\"], [0.09019607843137255, \"#422bff\"], [0.09411764705882353, \"#422aff\"], [0.09803921568627451, \"#4229ff\"], [0.10196078431372549, \"#4228ff\"], [0.10588235294117647, \"#4228ff\"], [0.10980392156862745, \"#4227ff\"], [0.11372549019607843, \"#4226ff\"], [0.11764705882352941, \"#4226ff\"], [0.12156862745098039, \"#4225ff\"], [0.12549019607843137, \"#4224ff\"], [0.12941176470588237, \"#4224ff\"], [0.13333333333333333, \"#4223ff\"], [0.13725490196078433, \"#4222ff\"], [0.1411764705882353, \"#4221ff\"], [0.1450980392156863, \"#4221ff\"], [0.14901960784313725, \"#4220ff\"], [0.15294117647058825, \"#421fff\"], [0.1568627450980392, \"#421fff\"], [0.1607843137254902, \"#421eff\"], [0.16470588235294117, \"#421dff\"], [0.16862745098039217, \"#421dff\"], [0.17254901960784313, \"#421cff\"], [0.17647058823529413, \"#421bff\"], [0.1803921568627451, \"#421aff\"], [0.1843137254901961, \"#421aff\"], [0.18823529411764706, \"#4219ff\"], [0.19215686274509805, \"#4218ff\"], [0.19607843137254902, \"#4218ff\"], [0.2, \"#4217ff\"], [0.20392156862745098, \"#4419ff\"], [0.20784313725490197, \"#451aff\"], [0.21176470588235294, \"#461cff\"], [0.21568627450980393, \"#481eff\"], [0.2196078431372549, \"#491fff\"], [0.2235294117647059, \"#4a21ff\"], [0.22745098039215686, \"#4b23ff\"], [0.23137254901960785, \"#4d25ff\"], [0.23529411764705882, \"#4e26ff\"], [0.23921568627450981, \"#4f28ff\"], [0.24313725490196078, \"#512aff\"], [0.24705882352941178, \"#522bff\"], [0.25098039215686274, \"#532dff\"], [0.2549019607843137, \"#542fff\"], [0.25882352941176473, \"#5630ff\"], [0.2627450980392157, \"#5732ff\"], [0.26666666666666666, \"#5834ff\"], [0.27058823529411763, \"#5a36ff\"], [0.27450980392156865, \"#5b37ff\"], [0.2784313725490196, \"#5c39ff\"], [0.2823529411764706, \"#5e3bff\"], [0.28627450980392155, \"#5f3cff\"], [0.2901960784313726, \"#603eff\"], [0.29411764705882354, \"#6240ff\"], [0.2980392156862745, \"#6341ff\"], [0.30196078431372547, \"#6544ff\"], [0.3058823529411765, \"#6849ff\"], [0.30980392156862746, \"#6b4dff\"], [0.3137254901960784, \"#6e51ff\"], [0.3176470588235294, \"#7156ff\"], [0.3215686274509804, \"#745aff\"], [0.3254901960784314, \"#775eff\"], [0.32941176470588235, \"#7a63ff\"], [0.3333333333333333, \"#7d67ff\"], [0.33725490196078434, \"#806bff\"], [0.3411764705882353, \"#836fff\"], [0.34509803921568627, \"#8674ff\"], [0.34901960784313724, \"#8978ff\"], [0.35294117647058826, \"#8c7cff\"], [0.3568627450980392, \"#8f81ff\"], [0.3607843137254902, \"#9285ff\"], [0.36470588235294116, \"#9589ff\"], [0.3686274509803922, \"#988eff\"], [0.37254901960784315, \"#9b92ff\"], [0.3764705882352941, \"#9e96ff\"], [0.3803921568627451, \"#a19aff\"], [0.3843137254901961, \"#a49fff\"], [0.38823529411764707, \"#a7a3ff\"], [0.39215686274509803, \"#aaa7ff\"], [0.396078431372549, \"#adacff\"], [0.4, \"#b0b0ff\"], [0.403921568627451, \"#b3b3ff\"], [0.40784313725490196, \"#b6b6ff\"], [0.4117647058823529, \"#b9b9ff\"], [0.41568627450980394, \"#bcbcff\"], [0.4196078431372549, \"#bfbfff\"], [0.4235294117647059, \"#c3c3ff\"], [0.42745098039215684, \"#c6c6ff\"], [0.43137254901960786, \"#c9c9ff\"], [0.43529411764705883, \"#ccccff\"], [0.4392156862745098, \"#cfcfff\"], [0.44313725490196076, \"#d2d2ff\"], [0.4470588235294118, \"#d5d5ff\"], [0.45098039215686275, \"#d8d8ff\"], [0.4549019607843137, \"#dbdbff\"], [0.4588235294117647, \"#dedeff\"], [0.4627450980392157, \"#e2e2ff\"], [0.4666666666666667, \"#e5e5ff\"], [0.47058823529411764, \"#e8e8ff\"], [0.4745098039215686, \"#ebebff\"], [0.47843137254901963, \"#eeeeff\"], [0.4823529411764706, \"#f1f1ff\"], [0.48627450980392156, \"#f4f4ff\"], [0.49019607843137253, \"#f7f7ff\"], [0.49411764705882355, \"#fafaff\"], [0.4980392156862745, \"#fdfdff\"], [0.5019607843137255, \"#fffdfd\"], [0.5058823529411764, \"#fffafa\"], [0.5098039215686274, \"#fff7f7\"], [0.5137254901960784, \"#fff4f4\"], [0.5176470588235295, \"#fff1f1\"], [0.5215686274509804, \"#ffeeee\"], [0.5254901960784314, \"#ffebeb\"], [0.5294117647058824, \"#ffe8e8\"], [0.5333333333333333, \"#ffe5e5\"], [0.5372549019607843, \"#ffe2e2\"], [0.5411764705882353, \"#ffdede\"], [0.5450980392156862, \"#ffdbdb\"], [0.5490196078431373, \"#ffd8d8\"], [0.5529411764705883, \"#ffd5d5\"], [0.5568627450980392, \"#ffd2d2\"], [0.5607843137254902, \"#ffcfcf\"], [0.5647058823529412, \"#ffcccc\"], [0.5686274509803921, \"#ffc9c9\"], [0.5725490196078431, \"#ffc6c6\"], [0.5764705882352941, \"#ffc3c3\"], [0.5803921568627451, \"#ffbfbf\"], [0.5843137254901961, \"#ffbcbc\"], [0.5882352941176471, \"#ffb9b9\"], [0.592156862745098, \"#ffb6b6\"], [0.596078431372549, \"#ffb3b3\"], [0.6, \"#ffb0b0\"], [0.6039215686274509, \"#ffacad\"], [0.6078431372549019, \"#ffa7aa\"], [0.611764705882353, \"#ffa3a7\"], [0.615686274509804, \"#ff9fa4\"], [0.6196078431372549, \"#ff9aa1\"], [0.6235294117647059, \"#ff969e\"], [0.6274509803921569, \"#ff929b\"], [0.6313725490196078, \"#ff8e98\"], [0.6352941176470588, \"#ff8995\"], [0.6392156862745098, \"#ff8592\"], [0.6431372549019608, \"#ff818f\"], [0.6470588235294118, \"#ff7c8c\"], [0.6509803921568628, \"#ff7889\"], [0.6549019607843137, \"#ff7486\"], [0.6588235294117647, \"#ff6f83\"], [0.6627450980392157, \"#ff6b80\"], [0.6666666666666666, \"#ff677d\"], [0.6705882352941176, \"#ff637a\"], [0.6745098039215687, \"#ff5e77\"], [0.6784313725490196, \"#ff5a74\"], [0.6823529411764706, \"#ff5671\"], [0.6862745098039216, \"#ff516e\"], [0.6901960784313725, \"#ff4d6b\"], [0.6941176470588235, \"#ff4968\"], [0.6980392156862745, \"#ff4465\"], [0.7019607843137254, \"#ff4163\"], [0.7058823529411765, \"#ff4062\"], [0.7098039215686275, \"#ff3e60\"], [0.7137254901960784, \"#ff3c5f\"], [0.7176470588235294, \"#ff3b5e\"], [0.7215686274509804, \"#ff395c\"], [0.7254901960784313, \"#ff375b\"], [0.7294117647058823, \"#ff365a\"], [0.7333333333333333, \"#ff3458\"], [0.7372549019607844, \"#ff3257\"], [0.7411764705882353, \"#ff3056\"], [0.7450980392156863, \"#ff2f55\"], [0.7490196078431373, \"#ff2d53\"], [0.7529411764705882, \"#ff2b52\"], [0.7568627450980392, \"#ff2a51\"], [0.7607843137254902, \"#ff284f\"], [0.7647058823529411, \"#ff264e\"], [0.7686274509803922, \"#ff254d\"], [0.7725490196078432, \"#ff234b\"], [0.7764705882352941, \"#ff214a\"], [0.7803921568627451, \"#ff1f49\"], [0.7843137254901961, \"#ff1e48\"], [0.788235294117647, \"#ff1c46\"], [0.792156862745098, \"#ff1a45\"], [0.796078431372549, \"#ff1944\"], [0.8, \"#ff1742\"], [0.803921568627451, \"#ff1842\"], [0.807843137254902, \"#ff1842\"], [0.8117647058823529, \"#ff1942\"], [0.8156862745098039, \"#ff1a42\"], [0.8196078431372549, \"#ff1a42\"], [0.8235294117647058, \"#ff1b42\"], [0.8274509803921568, \"#ff1c42\"], [0.8313725490196079, \"#ff1d42\"], [0.8352941176470589, \"#ff1d42\"], [0.8392156862745098, \"#ff1e42\"], [0.8431372549019608, \"#ff1f42\"], [0.8470588235294118, \"#ff1f42\"], [0.8509803921568627, \"#ff2042\"], [0.8549019607843137, \"#ff2142\"], [0.8588235294117647, \"#ff2142\"], [0.8627450980392157, \"#ff2242\"], [0.8666666666666667, \"#ff2342\"], [0.8705882352941177, \"#ff2442\"], [0.8745098039215686, \"#ff2442\"], [0.8784313725490196, \"#ff2542\"], [0.8823529411764706, \"#ff2642\"], [0.8862745098039215, \"#ff2642\"], [0.8901960784313725, \"#ff2742\"], [0.8941176470588236, \"#ff2842\"], [0.8980392156862745, \"#ff2842\"], [0.9019607843137255, \"#ff2942\"], [0.9058823529411765, \"#ff2a42\"], [0.9098039215686274, \"#ff2b42\"], [0.9137254901960784, \"#ff2c42\"], [0.9176470588235294, \"#ff2d42\"], [0.9215686274509803, \"#ff2e42\"], [0.9254901960784314, \"#ff2f42\"], [0.9294117647058824, \"#ff3042\"], [0.9333333333333333, \"#ff3142\"], [0.9372549019607843, \"#ff3242\"], [0.9411764705882353, \"#ff3342\"], [0.9450980392156862, \"#ff3442\"], [0.9490196078431372, \"#ff3542\"], [0.9529411764705882, \"#ff3642\"], [0.9568627450980393, \"#ff3742\"], [0.9607843137254902, \"#ff3842\"], [0.9647058823529412, \"#ff3942\"], [0.9686274509803922, \"#ff3a42\"], [0.9725490196078431, \"#ff3b42\"], [0.9764705882352941, \"#ff3c42\"], [0.9803921568627451, \"#ff3d42\"], [0.984313725490196, \"#ff3e42\"], [0.9882352941176471, \"#ff3f42\"], [0.9921568627450981, \"#ff4042\"], [0.996078431372549, \"#ff4142\"], [1.0, \"#ff4242\"]], \"showscale\": false, \"x\": [\"Column 5\", \"Column 4\", \"Column 2\", \"Column 7\", \"Column 6\", \"Column 1\", \"Column 0\", \"Column 3\"], \"y\": [\"Continuous Index 2\", \"Continuous Index 1\", \"Categorical Index 0\", \"Continuous Index 0\", \"Categorical Index 1\", \"Categorical Index 3\", \"Binary Index 2\", \"Binary Index 3\", \"Categorical Index 2\", \"Binary Index 1\", \"Continuous Index 3\", \"Binary Index 0\"], \"yaxis\": \"y\", \"z\": [[0.08648002846205055, 2.3516649229445834, 0.49503881679667483, -0.5844441340146637, -0.45865658138162924, -0.3438390613493145, -0.3538795130080135, -1.192364478449689], [0.6192496216776943, 0.969025142008945, 0.24150441328773883, 0.8669437373619041, -0.27801625125564483, -1.4639083196959344, -1.740621996873205, 0.7858236534885007], [0.0, 0.42640143271122083, 0.42640143271122083, 1.2792042981336627, -1.7056057308448833, 1.2792042981336627, -0.8528028654224417, -0.8528028654224417], [0.3931965577249646, -0.7917574535354329, 2.077619367086736, -0.7977536589844159, 0.45880946003944695, 0.37191571837320575, -0.3810135742402566, -1.3310164164642488], [1.3716529325371662, -0.5202821468244423, -0.14189513095212064, 0.23649188492020107, -1.2770561785690857, 1.750039948409488, -0.5202821468244423, -0.898669162696764], [1.3483434466349709, -0.28601224625590294, -1.2666256619904273, 1.6752145852131457, -0.28601224625590294, 0.04085889232227185, -1.2666256619904273, 0.04085889232227185], [-1.0, 1.0, -1.0, 1.0, 1.0, -1.0, 1.0, -1.0], [-1.0, 1.0, -1.0, -1.0, 1.0, 1.0, 1.0, -1.0], [0.6546536707079772, -0.2182178902359924, -1.5275252316519468, 0.2182178902359924, -1.091089451179962, -0.6546536707079772, 1.5275252316519468, 1.091089451179962], [-1.7320508075688774, 0.5773502691896258, 0.5773502691896258, 0.5773502691896258, 0.5773502691896258, 0.5773502691896258, -1.7320508075688774, 0.5773502691896258], [-0.9843563607501917, 1.1919648273875072, -1.0368296026941224, 0.7175730634395774, 0.26756700062063277, -1.6349471424273745, 0.4379107326940994, 1.0411174817298738], [0.7745966692414834, -1.2909944487358056, -1.2909944487358056, 0.7745966692414834, 0.7745966692414834, -1.2909944487358056, 0.7745966692414834, 0.7745966692414834]], \"zmax\": 2.3516649229445834, \"zmin\": -1.740621996873205, \"type\": \"heatmap\", \"uid\": \"84108ba4-effb-4ef7-a583-4ddad4dfaf47\"}], {\"annotations\": [{\"font\": {\"size\": 9.6}, \"showarrow\": false, \"text\": \"<b>Score</b>\", \"width\": 64, \"x\": 1.0016, \"xanchor\": \"left\", \"xref\": \"paper\", \"y\": 0.9642857142857143, \"yanchor\": \"middle\", \"yref\": \"paper\"}, {\"font\": {\"size\": 9.6}, \"showarrow\": false, \"text\": \"<b>0.30 \\u00b1 0.24</b>\", \"width\": 64, \"x\": 1.0016, \"xanchor\": \"left\", \"xref\": \"paper\", \"y\": 0.8214285714285715, \"yanchor\": \"middle\", \"yref\": \"paper\"}, {\"font\": {\"size\": 9.6}, \"showarrow\": false, \"text\": \"<b>0.25 \\u00b1 0.30</b>\", \"width\": 64, \"x\": 1.0016, \"xanchor\": \"left\", \"xref\": \"paper\", \"y\": 0.7500000000000001, \"yanchor\": \"middle\", \"yref\": \"paper\"}, {\"font\": {\"size\": 9.6}, \"showarrow\": false, \"text\": \"<b>0.24 \\u00b1 0.13</b>\", \"width\": 64, \"x\": 1.0016, \"xanchor\": \"left\", \"xref\": \"paper\", \"y\": 0.6785714285714287, \"yanchor\": \"middle\", \"yref\": \"paper\"}, {\"font\": {\"size\": 9.6}, \"showarrow\": false, \"text\": \"<b>0.19 \\u00b1 0.41</b>\", \"width\": 64, \"x\": 1.0016, \"xanchor\": \"left\", \"xref\": \"paper\", \"y\": 0.6071428571428573, \"yanchor\": \"middle\", \"yref\": \"paper\"}, {\"font\": {\"size\": 9.6}, \"showarrow\": false, \"text\": \"<b>0.17 \\u00b1 0.48</b>\", \"width\": 64, \"x\": 1.0016, \"xanchor\": \"left\", \"xref\": \"paper\", \"y\": 0.5357142857142859, \"yanchor\": \"middle\", \"yref\": \"paper\"}, {\"font\": {\"size\": 9.6}, \"showarrow\": false, \"text\": \"<b>0.10 \\u00b1 0.48</b>\", \"width\": 64, \"x\": 1.0016, \"xanchor\": \"left\", \"xref\": \"paper\", \"y\": 0.46428571428571447, \"yanchor\": \"middle\", \"yref\": \"paper\"}, {\"font\": {\"size\": 9.6}, \"showarrow\": false, \"text\": \"<b>-0.19 \\u00b1 0.60</b>\", \"width\": 64, \"x\": 1.0016, \"xanchor\": \"left\", \"xref\": \"paper\", \"y\": 0.392857142857143, \"yanchor\": \"middle\", \"yref\": \"paper\"}, {\"font\": {\"size\": 9.6}, \"showarrow\": false, \"text\": \"<b>-0.24 \\u00b1 0.33</b>\", \"width\": 64, \"x\": 1.0016, \"xanchor\": \"left\", \"xref\": \"paper\", \"y\": 0.32142857142857156, \"yanchor\": \"middle\", \"yref\": \"paper\"}, {\"font\": {\"size\": 9.6}, \"showarrow\": false, \"text\": \"<b>-0.25 \\u00b1 0.11</b>\", \"width\": 64, \"x\": 1.0016, \"xanchor\": \"left\", \"xref\": \"paper\", \"y\": 0.2500000000000001, \"yanchor\": \"middle\", \"yref\": \"paper\"}, {\"font\": {\"size\": 9.6}, \"showarrow\": false, \"text\": \"<b>-0.43 \\u00b1 0.19</b>\", \"width\": 64, \"x\": 1.0016, \"xanchor\": \"left\", \"xref\": \"paper\", \"y\": 0.17857142857142866, \"yanchor\": \"middle\", \"yref\": \"paper\"}, {\"font\": {\"size\": 9.6}, \"showarrow\": false, \"text\": \"<b>-0.49 \\u00b1 0.14</b>\", \"width\": 64, \"x\": 1.0016, \"xanchor\": \"left\", \"xref\": \"paper\", \"y\": 0.10714285714285722, \"yanchor\": \"middle\", \"yref\": \"paper\"}, {\"font\": {\"size\": 9.6}, \"showarrow\": false, \"text\": \"<b>-0.68 \\u00b1 0.05</b>\", \"width\": 64, \"x\": 1.0016, \"xanchor\": \"left\", \"xref\": \"paper\", \"y\": 0.03571428571428578, \"yanchor\": \"middle\", \"yref\": \"paper\"}], \"height\": 528.5455278713254, \"margin\": {\"l\": 196, \"r\": 196}, \"title\": \"Match Panel\", \"width\": 880, \"xaxis\": {\"anchor\": \"y\", \"tickfont\": {\"size\": 9.6}}, \"yaxis\": {\"domain\": [0, 0.8571428571428572], \"dtick\": 1, \"tickfont\": {\"size\": 9.6}}, \"yaxis2\": {\"domain\": [0.9285714285714286, 1], \"tickfont\": {\"size\": 9.6}}}, {\"showLink\": false, \"linkText\": \"Export to plot.ly\"})});</script>"
      ],
      "text/vnd.plotly.v1+html": [
       "<div id=\"4e6ba8a6-b267-43ac-86be-529b098e5cb7\" style=\"height: 528.5455278713254px; width: 880px;\" class=\"plotly-graph-div\"></div><script type=\"text/javascript\">require([\"plotly\"], function(Plotly) { window.PLOTLYENV=window.PLOTLYENV || {};window.PLOTLYENV.BASE_URL=\"https://plot.ly\";Plotly.newPlot(\"4e6ba8a6-b267-43ac-86be-529b098e5cb7\", [{\"colorscale\": [[0.0, \"#4242ff\"], [0.00392156862745098, \"#4241ff\"], [0.00784313725490196, \"#4240ff\"], [0.011764705882352941, \"#423fff\"], [0.01568627450980392, \"#423eff\"], [0.0196078431372549, \"#423dff\"], [0.023529411764705882, \"#423cff\"], [0.027450980392156862, \"#423bff\"], [0.03137254901960784, \"#423aff\"], [0.03529411764705882, \"#4239ff\"], [0.0392156862745098, \"#4238ff\"], [0.043137254901960784, \"#4237ff\"], [0.047058823529411764, \"#4236ff\"], [0.050980392156862744, \"#4235ff\"], [0.054901960784313725, \"#4234ff\"], [0.058823529411764705, \"#4233ff\"], [0.06274509803921569, \"#4232ff\"], [0.06666666666666667, \"#4231ff\"], [0.07058823529411765, \"#4230ff\"], [0.07450980392156863, \"#422fff\"], [0.0784313725490196, \"#422eff\"], [0.08235294117647059, \"#422dff\"], [0.08627450980392157, \"#422cff\"], [0.09019607843137255, \"#422bff\"], [0.09411764705882353, \"#422aff\"], [0.09803921568627451, \"#4229ff\"], [0.10196078431372549, \"#4228ff\"], [0.10588235294117647, \"#4228ff\"], [0.10980392156862745, \"#4227ff\"], [0.11372549019607843, \"#4226ff\"], [0.11764705882352941, \"#4226ff\"], [0.12156862745098039, \"#4225ff\"], [0.12549019607843137, \"#4224ff\"], [0.12941176470588237, \"#4224ff\"], [0.13333333333333333, \"#4223ff\"], [0.13725490196078433, \"#4222ff\"], [0.1411764705882353, \"#4221ff\"], [0.1450980392156863, \"#4221ff\"], [0.14901960784313725, \"#4220ff\"], [0.15294117647058825, \"#421fff\"], [0.1568627450980392, \"#421fff\"], [0.1607843137254902, \"#421eff\"], [0.16470588235294117, \"#421dff\"], [0.16862745098039217, \"#421dff\"], [0.17254901960784313, \"#421cff\"], [0.17647058823529413, \"#421bff\"], [0.1803921568627451, \"#421aff\"], [0.1843137254901961, \"#421aff\"], [0.18823529411764706, \"#4219ff\"], [0.19215686274509805, \"#4218ff\"], [0.19607843137254902, \"#4218ff\"], [0.2, \"#4217ff\"], [0.20392156862745098, \"#4419ff\"], [0.20784313725490197, \"#451aff\"], [0.21176470588235294, \"#461cff\"], [0.21568627450980393, \"#481eff\"], [0.2196078431372549, \"#491fff\"], [0.2235294117647059, \"#4a21ff\"], [0.22745098039215686, \"#4b23ff\"], [0.23137254901960785, \"#4d25ff\"], [0.23529411764705882, \"#4e26ff\"], [0.23921568627450981, \"#4f28ff\"], [0.24313725490196078, \"#512aff\"], [0.24705882352941178, \"#522bff\"], [0.25098039215686274, \"#532dff\"], [0.2549019607843137, \"#542fff\"], [0.25882352941176473, \"#5630ff\"], [0.2627450980392157, \"#5732ff\"], [0.26666666666666666, \"#5834ff\"], [0.27058823529411763, \"#5a36ff\"], [0.27450980392156865, \"#5b37ff\"], [0.2784313725490196, \"#5c39ff\"], [0.2823529411764706, \"#5e3bff\"], [0.28627450980392155, \"#5f3cff\"], [0.2901960784313726, \"#603eff\"], [0.29411764705882354, \"#6240ff\"], [0.2980392156862745, \"#6341ff\"], [0.30196078431372547, \"#6544ff\"], [0.3058823529411765, \"#6849ff\"], [0.30980392156862746, \"#6b4dff\"], [0.3137254901960784, \"#6e51ff\"], [0.3176470588235294, \"#7156ff\"], [0.3215686274509804, \"#745aff\"], [0.3254901960784314, \"#775eff\"], [0.32941176470588235, \"#7a63ff\"], [0.3333333333333333, \"#7d67ff\"], [0.33725490196078434, \"#806bff\"], [0.3411764705882353, \"#836fff\"], [0.34509803921568627, \"#8674ff\"], [0.34901960784313724, \"#8978ff\"], [0.35294117647058826, \"#8c7cff\"], [0.3568627450980392, \"#8f81ff\"], [0.3607843137254902, \"#9285ff\"], [0.36470588235294116, \"#9589ff\"], [0.3686274509803922, \"#988eff\"], [0.37254901960784315, \"#9b92ff\"], [0.3764705882352941, \"#9e96ff\"], [0.3803921568627451, \"#a19aff\"], [0.3843137254901961, \"#a49fff\"], [0.38823529411764707, \"#a7a3ff\"], [0.39215686274509803, \"#aaa7ff\"], [0.396078431372549, \"#adacff\"], [0.4, \"#b0b0ff\"], [0.403921568627451, \"#b3b3ff\"], [0.40784313725490196, \"#b6b6ff\"], [0.4117647058823529, \"#b9b9ff\"], [0.41568627450980394, \"#bcbcff\"], [0.4196078431372549, \"#bfbfff\"], [0.4235294117647059, \"#c3c3ff\"], [0.42745098039215684, \"#c6c6ff\"], [0.43137254901960786, \"#c9c9ff\"], [0.43529411764705883, \"#ccccff\"], [0.4392156862745098, \"#cfcfff\"], [0.44313725490196076, \"#d2d2ff\"], [0.4470588235294118, \"#d5d5ff\"], [0.45098039215686275, \"#d8d8ff\"], [0.4549019607843137, \"#dbdbff\"], [0.4588235294117647, \"#dedeff\"], [0.4627450980392157, \"#e2e2ff\"], [0.4666666666666667, \"#e5e5ff\"], [0.47058823529411764, \"#e8e8ff\"], [0.4745098039215686, \"#ebebff\"], [0.47843137254901963, \"#eeeeff\"], [0.4823529411764706, \"#f1f1ff\"], [0.48627450980392156, \"#f4f4ff\"], [0.49019607843137253, \"#f7f7ff\"], [0.49411764705882355, \"#fafaff\"], [0.4980392156862745, \"#fdfdff\"], [0.5019607843137255, \"#fffdfd\"], [0.5058823529411764, \"#fffafa\"], [0.5098039215686274, \"#fff7f7\"], [0.5137254901960784, \"#fff4f4\"], [0.5176470588235295, \"#fff1f1\"], [0.5215686274509804, \"#ffeeee\"], [0.5254901960784314, \"#ffebeb\"], [0.5294117647058824, \"#ffe8e8\"], [0.5333333333333333, \"#ffe5e5\"], [0.5372549019607843, \"#ffe2e2\"], [0.5411764705882353, \"#ffdede\"], [0.5450980392156862, \"#ffdbdb\"], [0.5490196078431373, \"#ffd8d8\"], [0.5529411764705883, \"#ffd5d5\"], [0.5568627450980392, \"#ffd2d2\"], [0.5607843137254902, \"#ffcfcf\"], [0.5647058823529412, \"#ffcccc\"], [0.5686274509803921, \"#ffc9c9\"], [0.5725490196078431, \"#ffc6c6\"], [0.5764705882352941, \"#ffc3c3\"], [0.5803921568627451, \"#ffbfbf\"], [0.5843137254901961, \"#ffbcbc\"], [0.5882352941176471, \"#ffb9b9\"], [0.592156862745098, \"#ffb6b6\"], [0.596078431372549, \"#ffb3b3\"], [0.6, \"#ffb0b0\"], [0.6039215686274509, \"#ffacad\"], [0.6078431372549019, \"#ffa7aa\"], [0.611764705882353, \"#ffa3a7\"], [0.615686274509804, \"#ff9fa4\"], [0.6196078431372549, \"#ff9aa1\"], [0.6235294117647059, \"#ff969e\"], [0.6274509803921569, \"#ff929b\"], [0.6313725490196078, \"#ff8e98\"], [0.6352941176470588, \"#ff8995\"], [0.6392156862745098, \"#ff8592\"], [0.6431372549019608, \"#ff818f\"], [0.6470588235294118, \"#ff7c8c\"], [0.6509803921568628, \"#ff7889\"], [0.6549019607843137, \"#ff7486\"], [0.6588235294117647, \"#ff6f83\"], [0.6627450980392157, \"#ff6b80\"], [0.6666666666666666, \"#ff677d\"], [0.6705882352941176, \"#ff637a\"], [0.6745098039215687, \"#ff5e77\"], [0.6784313725490196, \"#ff5a74\"], [0.6823529411764706, \"#ff5671\"], [0.6862745098039216, \"#ff516e\"], [0.6901960784313725, \"#ff4d6b\"], [0.6941176470588235, \"#ff4968\"], [0.6980392156862745, \"#ff4465\"], [0.7019607843137254, \"#ff4163\"], [0.7058823529411765, \"#ff4062\"], [0.7098039215686275, \"#ff3e60\"], [0.7137254901960784, \"#ff3c5f\"], [0.7176470588235294, \"#ff3b5e\"], [0.7215686274509804, \"#ff395c\"], [0.7254901960784313, \"#ff375b\"], [0.7294117647058823, \"#ff365a\"], [0.7333333333333333, \"#ff3458\"], [0.7372549019607844, \"#ff3257\"], [0.7411764705882353, \"#ff3056\"], [0.7450980392156863, \"#ff2f55\"], [0.7490196078431373, \"#ff2d53\"], [0.7529411764705882, \"#ff2b52\"], [0.7568627450980392, \"#ff2a51\"], [0.7607843137254902, \"#ff284f\"], [0.7647058823529411, \"#ff264e\"], [0.7686274509803922, \"#ff254d\"], [0.7725490196078432, \"#ff234b\"], [0.7764705882352941, \"#ff214a\"], [0.7803921568627451, \"#ff1f49\"], [0.7843137254901961, \"#ff1e48\"], [0.788235294117647, \"#ff1c46\"], [0.792156862745098, \"#ff1a45\"], [0.796078431372549, \"#ff1944\"], [0.8, \"#ff1742\"], [0.803921568627451, \"#ff1842\"], [0.807843137254902, \"#ff1842\"], [0.8117647058823529, \"#ff1942\"], [0.8156862745098039, \"#ff1a42\"], [0.8196078431372549, \"#ff1a42\"], [0.8235294117647058, \"#ff1b42\"], [0.8274509803921568, \"#ff1c42\"], [0.8313725490196079, \"#ff1d42\"], [0.8352941176470589, \"#ff1d42\"], [0.8392156862745098, \"#ff1e42\"], [0.8431372549019608, \"#ff1f42\"], [0.8470588235294118, \"#ff1f42\"], [0.8509803921568627, \"#ff2042\"], [0.8549019607843137, \"#ff2142\"], [0.8588235294117647, \"#ff2142\"], [0.8627450980392157, \"#ff2242\"], [0.8666666666666667, \"#ff2342\"], [0.8705882352941177, \"#ff2442\"], [0.8745098039215686, \"#ff2442\"], [0.8784313725490196, \"#ff2542\"], [0.8823529411764706, \"#ff2642\"], [0.8862745098039215, \"#ff2642\"], [0.8901960784313725, \"#ff2742\"], [0.8941176470588236, \"#ff2842\"], [0.8980392156862745, \"#ff2842\"], [0.9019607843137255, \"#ff2942\"], [0.9058823529411765, \"#ff2a42\"], [0.9098039215686274, \"#ff2b42\"], [0.9137254901960784, \"#ff2c42\"], [0.9176470588235294, \"#ff2d42\"], [0.9215686274509803, \"#ff2e42\"], [0.9254901960784314, \"#ff2f42\"], [0.9294117647058824, \"#ff3042\"], [0.9333333333333333, \"#ff3142\"], [0.9372549019607843, \"#ff3242\"], [0.9411764705882353, \"#ff3342\"], [0.9450980392156862, \"#ff3442\"], [0.9490196078431372, \"#ff3542\"], [0.9529411764705882, \"#ff3642\"], [0.9568627450980393, \"#ff3742\"], [0.9607843137254902, \"#ff3842\"], [0.9647058823529412, \"#ff3942\"], [0.9686274509803922, \"#ff3a42\"], [0.9725490196078431, \"#ff3b42\"], [0.9764705882352941, \"#ff3c42\"], [0.9803921568627451, \"#ff3d42\"], [0.984313725490196, \"#ff3e42\"], [0.9882352941176471, \"#ff3f42\"], [0.9921568627450981, \"#ff4042\"], [0.996078431372549, \"#ff4142\"], [1.0, \"#ff4242\"]], \"showscale\": false, \"text\": [[\"Column 5\", \"Column 4\", \"Column 2\", \"Column 7\", \"Column 6\", \"Column 1\", \"Column 0\", \"Column 3\"]], \"x\": [\"Column 5\", \"Column 4\", \"Column 2\", \"Column 7\", \"Column 6\", \"Column 1\", \"Column 0\", \"Column 3\"], \"y\": [\"Target\"], \"yaxis\": \"y2\", \"z\": [[-1.836649516477367, -1.1297551111687338, -0.5956325385270926, 0.22770889709294234, 0.5741421266346989, 0.7109283174410879, 0.9577132609070443, 1.09154456409742]], \"zmax\": 1.09154456409742, \"zmin\": -1.836649516477367, \"type\": \"heatmap\", \"uid\": \"dc8dd075-77fb-4bf6-95bd-257403af29b2\"}, {\"colorscale\": [[0.0, \"#4242ff\"], [0.00392156862745098, \"#4241ff\"], [0.00784313725490196, \"#4240ff\"], [0.011764705882352941, \"#423fff\"], [0.01568627450980392, \"#423eff\"], [0.0196078431372549, \"#423dff\"], [0.023529411764705882, \"#423cff\"], [0.027450980392156862, \"#423bff\"], [0.03137254901960784, \"#423aff\"], [0.03529411764705882, \"#4239ff\"], [0.0392156862745098, \"#4238ff\"], [0.043137254901960784, \"#4237ff\"], [0.047058823529411764, \"#4236ff\"], [0.050980392156862744, \"#4235ff\"], [0.054901960784313725, \"#4234ff\"], [0.058823529411764705, \"#4233ff\"], [0.06274509803921569, \"#4232ff\"], [0.06666666666666667, \"#4231ff\"], [0.07058823529411765, \"#4230ff\"], [0.07450980392156863, \"#422fff\"], [0.0784313725490196, \"#422eff\"], [0.08235294117647059, \"#422dff\"], [0.08627450980392157, \"#422cff\"], [0.09019607843137255, \"#422bff\"], [0.09411764705882353, \"#422aff\"], [0.09803921568627451, \"#4229ff\"], [0.10196078431372549, \"#4228ff\"], [0.10588235294117647, \"#4228ff\"], [0.10980392156862745, \"#4227ff\"], [0.11372549019607843, \"#4226ff\"], [0.11764705882352941, \"#4226ff\"], [0.12156862745098039, \"#4225ff\"], [0.12549019607843137, \"#4224ff\"], [0.12941176470588237, \"#4224ff\"], [0.13333333333333333, \"#4223ff\"], [0.13725490196078433, \"#4222ff\"], [0.1411764705882353, \"#4221ff\"], [0.1450980392156863, \"#4221ff\"], [0.14901960784313725, \"#4220ff\"], [0.15294117647058825, \"#421fff\"], [0.1568627450980392, \"#421fff\"], [0.1607843137254902, \"#421eff\"], [0.16470588235294117, \"#421dff\"], [0.16862745098039217, \"#421dff\"], [0.17254901960784313, \"#421cff\"], [0.17647058823529413, \"#421bff\"], [0.1803921568627451, \"#421aff\"], [0.1843137254901961, \"#421aff\"], [0.18823529411764706, \"#4219ff\"], [0.19215686274509805, \"#4218ff\"], [0.19607843137254902, \"#4218ff\"], [0.2, \"#4217ff\"], [0.20392156862745098, \"#4419ff\"], [0.20784313725490197, \"#451aff\"], [0.21176470588235294, \"#461cff\"], [0.21568627450980393, \"#481eff\"], [0.2196078431372549, \"#491fff\"], [0.2235294117647059, \"#4a21ff\"], [0.22745098039215686, \"#4b23ff\"], [0.23137254901960785, \"#4d25ff\"], [0.23529411764705882, \"#4e26ff\"], [0.23921568627450981, \"#4f28ff\"], [0.24313725490196078, \"#512aff\"], [0.24705882352941178, \"#522bff\"], [0.25098039215686274, \"#532dff\"], [0.2549019607843137, \"#542fff\"], [0.25882352941176473, \"#5630ff\"], [0.2627450980392157, \"#5732ff\"], [0.26666666666666666, \"#5834ff\"], [0.27058823529411763, \"#5a36ff\"], [0.27450980392156865, \"#5b37ff\"], [0.2784313725490196, \"#5c39ff\"], [0.2823529411764706, \"#5e3bff\"], [0.28627450980392155, \"#5f3cff\"], [0.2901960784313726, \"#603eff\"], [0.29411764705882354, \"#6240ff\"], [0.2980392156862745, \"#6341ff\"], [0.30196078431372547, \"#6544ff\"], [0.3058823529411765, \"#6849ff\"], [0.30980392156862746, \"#6b4dff\"], [0.3137254901960784, \"#6e51ff\"], [0.3176470588235294, \"#7156ff\"], [0.3215686274509804, \"#745aff\"], [0.3254901960784314, \"#775eff\"], [0.32941176470588235, \"#7a63ff\"], [0.3333333333333333, \"#7d67ff\"], [0.33725490196078434, \"#806bff\"], [0.3411764705882353, \"#836fff\"], [0.34509803921568627, \"#8674ff\"], [0.34901960784313724, \"#8978ff\"], [0.35294117647058826, \"#8c7cff\"], [0.3568627450980392, \"#8f81ff\"], [0.3607843137254902, \"#9285ff\"], [0.36470588235294116, \"#9589ff\"], [0.3686274509803922, \"#988eff\"], [0.37254901960784315, \"#9b92ff\"], [0.3764705882352941, \"#9e96ff\"], [0.3803921568627451, \"#a19aff\"], [0.3843137254901961, \"#a49fff\"], [0.38823529411764707, \"#a7a3ff\"], [0.39215686274509803, \"#aaa7ff\"], [0.396078431372549, \"#adacff\"], [0.4, \"#b0b0ff\"], [0.403921568627451, \"#b3b3ff\"], [0.40784313725490196, \"#b6b6ff\"], [0.4117647058823529, \"#b9b9ff\"], [0.41568627450980394, \"#bcbcff\"], [0.4196078431372549, \"#bfbfff\"], [0.4235294117647059, \"#c3c3ff\"], [0.42745098039215684, \"#c6c6ff\"], [0.43137254901960786, \"#c9c9ff\"], [0.43529411764705883, \"#ccccff\"], [0.4392156862745098, \"#cfcfff\"], [0.44313725490196076, \"#d2d2ff\"], [0.4470588235294118, \"#d5d5ff\"], [0.45098039215686275, \"#d8d8ff\"], [0.4549019607843137, \"#dbdbff\"], [0.4588235294117647, \"#dedeff\"], [0.4627450980392157, \"#e2e2ff\"], [0.4666666666666667, \"#e5e5ff\"], [0.47058823529411764, \"#e8e8ff\"], [0.4745098039215686, \"#ebebff\"], [0.47843137254901963, \"#eeeeff\"], [0.4823529411764706, \"#f1f1ff\"], [0.48627450980392156, \"#f4f4ff\"], [0.49019607843137253, \"#f7f7ff\"], [0.49411764705882355, \"#fafaff\"], [0.4980392156862745, \"#fdfdff\"], [0.5019607843137255, \"#fffdfd\"], [0.5058823529411764, \"#fffafa\"], [0.5098039215686274, \"#fff7f7\"], [0.5137254901960784, \"#fff4f4\"], [0.5176470588235295, \"#fff1f1\"], [0.5215686274509804, \"#ffeeee\"], [0.5254901960784314, \"#ffebeb\"], [0.5294117647058824, \"#ffe8e8\"], [0.5333333333333333, \"#ffe5e5\"], [0.5372549019607843, \"#ffe2e2\"], [0.5411764705882353, \"#ffdede\"], [0.5450980392156862, \"#ffdbdb\"], [0.5490196078431373, \"#ffd8d8\"], [0.5529411764705883, \"#ffd5d5\"], [0.5568627450980392, \"#ffd2d2\"], [0.5607843137254902, \"#ffcfcf\"], [0.5647058823529412, \"#ffcccc\"], [0.5686274509803921, \"#ffc9c9\"], [0.5725490196078431, \"#ffc6c6\"], [0.5764705882352941, \"#ffc3c3\"], [0.5803921568627451, \"#ffbfbf\"], [0.5843137254901961, \"#ffbcbc\"], [0.5882352941176471, \"#ffb9b9\"], [0.592156862745098, \"#ffb6b6\"], [0.596078431372549, \"#ffb3b3\"], [0.6, \"#ffb0b0\"], [0.6039215686274509, \"#ffacad\"], [0.6078431372549019, \"#ffa7aa\"], [0.611764705882353, \"#ffa3a7\"], [0.615686274509804, \"#ff9fa4\"], [0.6196078431372549, \"#ff9aa1\"], [0.6235294117647059, \"#ff969e\"], [0.6274509803921569, \"#ff929b\"], [0.6313725490196078, \"#ff8e98\"], [0.6352941176470588, \"#ff8995\"], [0.6392156862745098, \"#ff8592\"], [0.6431372549019608, \"#ff818f\"], [0.6470588235294118, \"#ff7c8c\"], [0.6509803921568628, \"#ff7889\"], [0.6549019607843137, \"#ff7486\"], [0.6588235294117647, \"#ff6f83\"], [0.6627450980392157, \"#ff6b80\"], [0.6666666666666666, \"#ff677d\"], [0.6705882352941176, \"#ff637a\"], [0.6745098039215687, \"#ff5e77\"], [0.6784313725490196, \"#ff5a74\"], [0.6823529411764706, \"#ff5671\"], [0.6862745098039216, \"#ff516e\"], [0.6901960784313725, \"#ff4d6b\"], [0.6941176470588235, \"#ff4968\"], [0.6980392156862745, \"#ff4465\"], [0.7019607843137254, \"#ff4163\"], [0.7058823529411765, \"#ff4062\"], [0.7098039215686275, \"#ff3e60\"], [0.7137254901960784, \"#ff3c5f\"], [0.7176470588235294, \"#ff3b5e\"], [0.7215686274509804, \"#ff395c\"], [0.7254901960784313, \"#ff375b\"], [0.7294117647058823, \"#ff365a\"], [0.7333333333333333, \"#ff3458\"], [0.7372549019607844, \"#ff3257\"], [0.7411764705882353, \"#ff3056\"], [0.7450980392156863, \"#ff2f55\"], [0.7490196078431373, \"#ff2d53\"], [0.7529411764705882, \"#ff2b52\"], [0.7568627450980392, \"#ff2a51\"], [0.7607843137254902, \"#ff284f\"], [0.7647058823529411, \"#ff264e\"], [0.7686274509803922, \"#ff254d\"], [0.7725490196078432, \"#ff234b\"], [0.7764705882352941, \"#ff214a\"], [0.7803921568627451, \"#ff1f49\"], [0.7843137254901961, \"#ff1e48\"], [0.788235294117647, \"#ff1c46\"], [0.792156862745098, \"#ff1a45\"], [0.796078431372549, \"#ff1944\"], [0.8, \"#ff1742\"], [0.803921568627451, \"#ff1842\"], [0.807843137254902, \"#ff1842\"], [0.8117647058823529, \"#ff1942\"], [0.8156862745098039, \"#ff1a42\"], [0.8196078431372549, \"#ff1a42\"], [0.8235294117647058, \"#ff1b42\"], [0.8274509803921568, \"#ff1c42\"], [0.8313725490196079, \"#ff1d42\"], [0.8352941176470589, \"#ff1d42\"], [0.8392156862745098, \"#ff1e42\"], [0.8431372549019608, \"#ff1f42\"], [0.8470588235294118, \"#ff1f42\"], [0.8509803921568627, \"#ff2042\"], [0.8549019607843137, \"#ff2142\"], [0.8588235294117647, \"#ff2142\"], [0.8627450980392157, \"#ff2242\"], [0.8666666666666667, \"#ff2342\"], [0.8705882352941177, \"#ff2442\"], [0.8745098039215686, \"#ff2442\"], [0.8784313725490196, \"#ff2542\"], [0.8823529411764706, \"#ff2642\"], [0.8862745098039215, \"#ff2642\"], [0.8901960784313725, \"#ff2742\"], [0.8941176470588236, \"#ff2842\"], [0.8980392156862745, \"#ff2842\"], [0.9019607843137255, \"#ff2942\"], [0.9058823529411765, \"#ff2a42\"], [0.9098039215686274, \"#ff2b42\"], [0.9137254901960784, \"#ff2c42\"], [0.9176470588235294, \"#ff2d42\"], [0.9215686274509803, \"#ff2e42\"], [0.9254901960784314, \"#ff2f42\"], [0.9294117647058824, \"#ff3042\"], [0.9333333333333333, \"#ff3142\"], [0.9372549019607843, \"#ff3242\"], [0.9411764705882353, \"#ff3342\"], [0.9450980392156862, \"#ff3442\"], [0.9490196078431372, \"#ff3542\"], [0.9529411764705882, \"#ff3642\"], [0.9568627450980393, \"#ff3742\"], [0.9607843137254902, \"#ff3842\"], [0.9647058823529412, \"#ff3942\"], [0.9686274509803922, \"#ff3a42\"], [0.9725490196078431, \"#ff3b42\"], [0.9764705882352941, \"#ff3c42\"], [0.9803921568627451, \"#ff3d42\"], [0.984313725490196, \"#ff3e42\"], [0.9882352941176471, \"#ff3f42\"], [0.9921568627450981, \"#ff4042\"], [0.996078431372549, \"#ff4142\"], [1.0, \"#ff4242\"]], \"showscale\": false, \"x\": [\"Column 5\", \"Column 4\", \"Column 2\", \"Column 7\", \"Column 6\", \"Column 1\", \"Column 0\", \"Column 3\"], \"y\": [\"Continuous Index 2\", \"Continuous Index 1\", \"Categorical Index 0\", \"Continuous Index 0\", \"Categorical Index 1\", \"Categorical Index 3\", \"Binary Index 2\", \"Binary Index 3\", \"Categorical Index 2\", \"Binary Index 1\", \"Continuous Index 3\", \"Binary Index 0\"], \"yaxis\": \"y\", \"z\": [[0.08648002846205055, 2.3516649229445834, 0.49503881679667483, -0.5844441340146637, -0.45865658138162924, -0.3438390613493145, -0.3538795130080135, -1.192364478449689], [0.6192496216776943, 0.969025142008945, 0.24150441328773883, 0.8669437373619041, -0.27801625125564483, -1.4639083196959344, -1.740621996873205, 0.7858236534885007], [0.0, 0.42640143271122083, 0.42640143271122083, 1.2792042981336627, -1.7056057308448833, 1.2792042981336627, -0.8528028654224417, -0.8528028654224417], [0.3931965577249646, -0.7917574535354329, 2.077619367086736, -0.7977536589844159, 0.45880946003944695, 0.37191571837320575, -0.3810135742402566, -1.3310164164642488], [1.3716529325371662, -0.5202821468244423, -0.14189513095212064, 0.23649188492020107, -1.2770561785690857, 1.750039948409488, -0.5202821468244423, -0.898669162696764], [1.3483434466349709, -0.28601224625590294, -1.2666256619904273, 1.6752145852131457, -0.28601224625590294, 0.04085889232227185, -1.2666256619904273, 0.04085889232227185], [-1.0, 1.0, -1.0, 1.0, 1.0, -1.0, 1.0, -1.0], [-1.0, 1.0, -1.0, -1.0, 1.0, 1.0, 1.0, -1.0], [0.6546536707079772, -0.2182178902359924, -1.5275252316519468, 0.2182178902359924, -1.091089451179962, -0.6546536707079772, 1.5275252316519468, 1.091089451179962], [-1.7320508075688774, 0.5773502691896258, 0.5773502691896258, 0.5773502691896258, 0.5773502691896258, 0.5773502691896258, -1.7320508075688774, 0.5773502691896258], [-0.9843563607501917, 1.1919648273875072, -1.0368296026941224, 0.7175730634395774, 0.26756700062063277, -1.6349471424273745, 0.4379107326940994, 1.0411174817298738], [0.7745966692414834, -1.2909944487358056, -1.2909944487358056, 0.7745966692414834, 0.7745966692414834, -1.2909944487358056, 0.7745966692414834, 0.7745966692414834]], \"zmax\": 2.3516649229445834, \"zmin\": -1.740621996873205, \"type\": \"heatmap\", \"uid\": \"84108ba4-effb-4ef7-a583-4ddad4dfaf47\"}], {\"annotations\": [{\"font\": {\"size\": 9.6}, \"showarrow\": false, \"text\": \"<b>Score</b>\", \"width\": 64, \"x\": 1.0016, \"xanchor\": \"left\", \"xref\": \"paper\", \"y\": 0.9642857142857143, \"yanchor\": \"middle\", \"yref\": \"paper\"}, {\"font\": {\"size\": 9.6}, \"showarrow\": false, \"text\": \"<b>0.30 \\u00b1 0.24</b>\", \"width\": 64, \"x\": 1.0016, \"xanchor\": \"left\", \"xref\": \"paper\", \"y\": 0.8214285714285715, \"yanchor\": \"middle\", \"yref\": \"paper\"}, {\"font\": {\"size\": 9.6}, \"showarrow\": false, \"text\": \"<b>0.25 \\u00b1 0.30</b>\", \"width\": 64, \"x\": 1.0016, \"xanchor\": \"left\", \"xref\": \"paper\", \"y\": 0.7500000000000001, \"yanchor\": \"middle\", \"yref\": \"paper\"}, {\"font\": {\"size\": 9.6}, \"showarrow\": false, \"text\": \"<b>0.24 \\u00b1 0.13</b>\", \"width\": 64, \"x\": 1.0016, \"xanchor\": \"left\", \"xref\": \"paper\", \"y\": 0.6785714285714287, \"yanchor\": \"middle\", \"yref\": \"paper\"}, {\"font\": {\"size\": 9.6}, \"showarrow\": false, \"text\": \"<b>0.19 \\u00b1 0.41</b>\", \"width\": 64, \"x\": 1.0016, \"xanchor\": \"left\", \"xref\": \"paper\", \"y\": 0.6071428571428573, \"yanchor\": \"middle\", \"yref\": \"paper\"}, {\"font\": {\"size\": 9.6}, \"showarrow\": false, \"text\": \"<b>0.17 \\u00b1 0.48</b>\", \"width\": 64, \"x\": 1.0016, \"xanchor\": \"left\", \"xref\": \"paper\", \"y\": 0.5357142857142859, \"yanchor\": \"middle\", \"yref\": \"paper\"}, {\"font\": {\"size\": 9.6}, \"showarrow\": false, \"text\": \"<b>0.10 \\u00b1 0.48</b>\", \"width\": 64, \"x\": 1.0016, \"xanchor\": \"left\", \"xref\": \"paper\", \"y\": 0.46428571428571447, \"yanchor\": \"middle\", \"yref\": \"paper\"}, {\"font\": {\"size\": 9.6}, \"showarrow\": false, \"text\": \"<b>-0.19 \\u00b1 0.60</b>\", \"width\": 64, \"x\": 1.0016, \"xanchor\": \"left\", \"xref\": \"paper\", \"y\": 0.392857142857143, \"yanchor\": \"middle\", \"yref\": \"paper\"}, {\"font\": {\"size\": 9.6}, \"showarrow\": false, \"text\": \"<b>-0.24 \\u00b1 0.33</b>\", \"width\": 64, \"x\": 1.0016, \"xanchor\": \"left\", \"xref\": \"paper\", \"y\": 0.32142857142857156, \"yanchor\": \"middle\", \"yref\": \"paper\"}, {\"font\": {\"size\": 9.6}, \"showarrow\": false, \"text\": \"<b>-0.25 \\u00b1 0.11</b>\", \"width\": 64, \"x\": 1.0016, \"xanchor\": \"left\", \"xref\": \"paper\", \"y\": 0.2500000000000001, \"yanchor\": \"middle\", \"yref\": \"paper\"}, {\"font\": {\"size\": 9.6}, \"showarrow\": false, \"text\": \"<b>-0.43 \\u00b1 0.19</b>\", \"width\": 64, \"x\": 1.0016, \"xanchor\": \"left\", \"xref\": \"paper\", \"y\": 0.17857142857142866, \"yanchor\": \"middle\", \"yref\": \"paper\"}, {\"font\": {\"size\": 9.6}, \"showarrow\": false, \"text\": \"<b>-0.49 \\u00b1 0.14</b>\", \"width\": 64, \"x\": 1.0016, \"xanchor\": \"left\", \"xref\": \"paper\", \"y\": 0.10714285714285722, \"yanchor\": \"middle\", \"yref\": \"paper\"}, {\"font\": {\"size\": 9.6}, \"showarrow\": false, \"text\": \"<b>-0.68 \\u00b1 0.05</b>\", \"width\": 64, \"x\": 1.0016, \"xanchor\": \"left\", \"xref\": \"paper\", \"y\": 0.03571428571428578, \"yanchor\": \"middle\", \"yref\": \"paper\"}], \"height\": 528.5455278713254, \"margin\": {\"l\": 196, \"r\": 196}, \"title\": \"Match Panel\", \"width\": 880, \"xaxis\": {\"anchor\": \"y\", \"tickfont\": {\"size\": 9.6}}, \"yaxis\": {\"domain\": [0, 0.8571428571428572], \"dtick\": 1, \"tickfont\": {\"size\": 9.6}}, \"yaxis2\": {\"domain\": [0.9285714285714286, 1], \"tickfont\": {\"size\": 9.6}}}, {\"showLink\": false, \"linkText\": \"Export to plot.ly\"})});</script>"
      ]
     },
     "metadata": {},
     "output_type": "display_data"
    },
    {
     "name": "stdout",
     "output_type": "stream",
     "text": [
      "Making match panel for Continuous ...\n",
      "Making match panel for Categorical ...\n",
      "Making match panel for Binary ...\n"
     ]
    },
    {
     "data": {
      "application/vnd.plotly.v1+json": {
       "data": [
        {
         "colorscale": [
          [
           0,
           "#4242ff"
          ],
          [
           0.00392156862745098,
           "#4241ff"
          ],
          [
           0.00784313725490196,
           "#4240ff"
          ],
          [
           0.011764705882352941,
           "#423fff"
          ],
          [
           0.01568627450980392,
           "#423eff"
          ],
          [
           0.0196078431372549,
           "#423dff"
          ],
          [
           0.023529411764705882,
           "#423cff"
          ],
          [
           0.027450980392156862,
           "#423bff"
          ],
          [
           0.03137254901960784,
           "#423aff"
          ],
          [
           0.03529411764705882,
           "#4239ff"
          ],
          [
           0.0392156862745098,
           "#4238ff"
          ],
          [
           0.043137254901960784,
           "#4237ff"
          ],
          [
           0.047058823529411764,
           "#4236ff"
          ],
          [
           0.050980392156862744,
           "#4235ff"
          ],
          [
           0.054901960784313725,
           "#4234ff"
          ],
          [
           0.058823529411764705,
           "#4233ff"
          ],
          [
           0.06274509803921569,
           "#4232ff"
          ],
          [
           0.06666666666666667,
           "#4231ff"
          ],
          [
           0.07058823529411765,
           "#4230ff"
          ],
          [
           0.07450980392156863,
           "#422fff"
          ],
          [
           0.0784313725490196,
           "#422eff"
          ],
          [
           0.08235294117647059,
           "#422dff"
          ],
          [
           0.08627450980392157,
           "#422cff"
          ],
          [
           0.09019607843137255,
           "#422bff"
          ],
          [
           0.09411764705882353,
           "#422aff"
          ],
          [
           0.09803921568627451,
           "#4229ff"
          ],
          [
           0.10196078431372549,
           "#4228ff"
          ],
          [
           0.10588235294117647,
           "#4228ff"
          ],
          [
           0.10980392156862745,
           "#4227ff"
          ],
          [
           0.11372549019607843,
           "#4226ff"
          ],
          [
           0.11764705882352941,
           "#4226ff"
          ],
          [
           0.12156862745098039,
           "#4225ff"
          ],
          [
           0.12549019607843137,
           "#4224ff"
          ],
          [
           0.12941176470588237,
           "#4224ff"
          ],
          [
           0.13333333333333333,
           "#4223ff"
          ],
          [
           0.13725490196078433,
           "#4222ff"
          ],
          [
           0.1411764705882353,
           "#4221ff"
          ],
          [
           0.1450980392156863,
           "#4221ff"
          ],
          [
           0.14901960784313725,
           "#4220ff"
          ],
          [
           0.15294117647058825,
           "#421fff"
          ],
          [
           0.1568627450980392,
           "#421fff"
          ],
          [
           0.1607843137254902,
           "#421eff"
          ],
          [
           0.16470588235294117,
           "#421dff"
          ],
          [
           0.16862745098039217,
           "#421dff"
          ],
          [
           0.17254901960784313,
           "#421cff"
          ],
          [
           0.17647058823529413,
           "#421bff"
          ],
          [
           0.1803921568627451,
           "#421aff"
          ],
          [
           0.1843137254901961,
           "#421aff"
          ],
          [
           0.18823529411764706,
           "#4219ff"
          ],
          [
           0.19215686274509805,
           "#4218ff"
          ],
          [
           0.19607843137254902,
           "#4218ff"
          ],
          [
           0.2,
           "#4217ff"
          ],
          [
           0.20392156862745098,
           "#4419ff"
          ],
          [
           0.20784313725490197,
           "#451aff"
          ],
          [
           0.21176470588235294,
           "#461cff"
          ],
          [
           0.21568627450980393,
           "#481eff"
          ],
          [
           0.2196078431372549,
           "#491fff"
          ],
          [
           0.2235294117647059,
           "#4a21ff"
          ],
          [
           0.22745098039215686,
           "#4b23ff"
          ],
          [
           0.23137254901960785,
           "#4d25ff"
          ],
          [
           0.23529411764705882,
           "#4e26ff"
          ],
          [
           0.23921568627450981,
           "#4f28ff"
          ],
          [
           0.24313725490196078,
           "#512aff"
          ],
          [
           0.24705882352941178,
           "#522bff"
          ],
          [
           0.25098039215686274,
           "#532dff"
          ],
          [
           0.2549019607843137,
           "#542fff"
          ],
          [
           0.25882352941176473,
           "#5630ff"
          ],
          [
           0.2627450980392157,
           "#5732ff"
          ],
          [
           0.26666666666666666,
           "#5834ff"
          ],
          [
           0.27058823529411763,
           "#5a36ff"
          ],
          [
           0.27450980392156865,
           "#5b37ff"
          ],
          [
           0.2784313725490196,
           "#5c39ff"
          ],
          [
           0.2823529411764706,
           "#5e3bff"
          ],
          [
           0.28627450980392155,
           "#5f3cff"
          ],
          [
           0.2901960784313726,
           "#603eff"
          ],
          [
           0.29411764705882354,
           "#6240ff"
          ],
          [
           0.2980392156862745,
           "#6341ff"
          ],
          [
           0.30196078431372547,
           "#6544ff"
          ],
          [
           0.3058823529411765,
           "#6849ff"
          ],
          [
           0.30980392156862746,
           "#6b4dff"
          ],
          [
           0.3137254901960784,
           "#6e51ff"
          ],
          [
           0.3176470588235294,
           "#7156ff"
          ],
          [
           0.3215686274509804,
           "#745aff"
          ],
          [
           0.3254901960784314,
           "#775eff"
          ],
          [
           0.32941176470588235,
           "#7a63ff"
          ],
          [
           0.3333333333333333,
           "#7d67ff"
          ],
          [
           0.33725490196078434,
           "#806bff"
          ],
          [
           0.3411764705882353,
           "#836fff"
          ],
          [
           0.34509803921568627,
           "#8674ff"
          ],
          [
           0.34901960784313724,
           "#8978ff"
          ],
          [
           0.35294117647058826,
           "#8c7cff"
          ],
          [
           0.3568627450980392,
           "#8f81ff"
          ],
          [
           0.3607843137254902,
           "#9285ff"
          ],
          [
           0.36470588235294116,
           "#9589ff"
          ],
          [
           0.3686274509803922,
           "#988eff"
          ],
          [
           0.37254901960784315,
           "#9b92ff"
          ],
          [
           0.3764705882352941,
           "#9e96ff"
          ],
          [
           0.3803921568627451,
           "#a19aff"
          ],
          [
           0.3843137254901961,
           "#a49fff"
          ],
          [
           0.38823529411764707,
           "#a7a3ff"
          ],
          [
           0.39215686274509803,
           "#aaa7ff"
          ],
          [
           0.396078431372549,
           "#adacff"
          ],
          [
           0.4,
           "#b0b0ff"
          ],
          [
           0.403921568627451,
           "#b3b3ff"
          ],
          [
           0.40784313725490196,
           "#b6b6ff"
          ],
          [
           0.4117647058823529,
           "#b9b9ff"
          ],
          [
           0.41568627450980394,
           "#bcbcff"
          ],
          [
           0.4196078431372549,
           "#bfbfff"
          ],
          [
           0.4235294117647059,
           "#c3c3ff"
          ],
          [
           0.42745098039215684,
           "#c6c6ff"
          ],
          [
           0.43137254901960786,
           "#c9c9ff"
          ],
          [
           0.43529411764705883,
           "#ccccff"
          ],
          [
           0.4392156862745098,
           "#cfcfff"
          ],
          [
           0.44313725490196076,
           "#d2d2ff"
          ],
          [
           0.4470588235294118,
           "#d5d5ff"
          ],
          [
           0.45098039215686275,
           "#d8d8ff"
          ],
          [
           0.4549019607843137,
           "#dbdbff"
          ],
          [
           0.4588235294117647,
           "#dedeff"
          ],
          [
           0.4627450980392157,
           "#e2e2ff"
          ],
          [
           0.4666666666666667,
           "#e5e5ff"
          ],
          [
           0.47058823529411764,
           "#e8e8ff"
          ],
          [
           0.4745098039215686,
           "#ebebff"
          ],
          [
           0.47843137254901963,
           "#eeeeff"
          ],
          [
           0.4823529411764706,
           "#f1f1ff"
          ],
          [
           0.48627450980392156,
           "#f4f4ff"
          ],
          [
           0.49019607843137253,
           "#f7f7ff"
          ],
          [
           0.49411764705882355,
           "#fafaff"
          ],
          [
           0.4980392156862745,
           "#fdfdff"
          ],
          [
           0.5019607843137255,
           "#fffdfd"
          ],
          [
           0.5058823529411764,
           "#fffafa"
          ],
          [
           0.5098039215686274,
           "#fff7f7"
          ],
          [
           0.5137254901960784,
           "#fff4f4"
          ],
          [
           0.5176470588235295,
           "#fff1f1"
          ],
          [
           0.5215686274509804,
           "#ffeeee"
          ],
          [
           0.5254901960784314,
           "#ffebeb"
          ],
          [
           0.5294117647058824,
           "#ffe8e8"
          ],
          [
           0.5333333333333333,
           "#ffe5e5"
          ],
          [
           0.5372549019607843,
           "#ffe2e2"
          ],
          [
           0.5411764705882353,
           "#ffdede"
          ],
          [
           0.5450980392156862,
           "#ffdbdb"
          ],
          [
           0.5490196078431373,
           "#ffd8d8"
          ],
          [
           0.5529411764705883,
           "#ffd5d5"
          ],
          [
           0.5568627450980392,
           "#ffd2d2"
          ],
          [
           0.5607843137254902,
           "#ffcfcf"
          ],
          [
           0.5647058823529412,
           "#ffcccc"
          ],
          [
           0.5686274509803921,
           "#ffc9c9"
          ],
          [
           0.5725490196078431,
           "#ffc6c6"
          ],
          [
           0.5764705882352941,
           "#ffc3c3"
          ],
          [
           0.5803921568627451,
           "#ffbfbf"
          ],
          [
           0.5843137254901961,
           "#ffbcbc"
          ],
          [
           0.5882352941176471,
           "#ffb9b9"
          ],
          [
           0.592156862745098,
           "#ffb6b6"
          ],
          [
           0.596078431372549,
           "#ffb3b3"
          ],
          [
           0.6,
           "#ffb0b0"
          ],
          [
           0.6039215686274509,
           "#ffacad"
          ],
          [
           0.6078431372549019,
           "#ffa7aa"
          ],
          [
           0.611764705882353,
           "#ffa3a7"
          ],
          [
           0.615686274509804,
           "#ff9fa4"
          ],
          [
           0.6196078431372549,
           "#ff9aa1"
          ],
          [
           0.6235294117647059,
           "#ff969e"
          ],
          [
           0.6274509803921569,
           "#ff929b"
          ],
          [
           0.6313725490196078,
           "#ff8e98"
          ],
          [
           0.6352941176470588,
           "#ff8995"
          ],
          [
           0.6392156862745098,
           "#ff8592"
          ],
          [
           0.6431372549019608,
           "#ff818f"
          ],
          [
           0.6470588235294118,
           "#ff7c8c"
          ],
          [
           0.6509803921568628,
           "#ff7889"
          ],
          [
           0.6549019607843137,
           "#ff7486"
          ],
          [
           0.6588235294117647,
           "#ff6f83"
          ],
          [
           0.6627450980392157,
           "#ff6b80"
          ],
          [
           0.6666666666666666,
           "#ff677d"
          ],
          [
           0.6705882352941176,
           "#ff637a"
          ],
          [
           0.6745098039215687,
           "#ff5e77"
          ],
          [
           0.6784313725490196,
           "#ff5a74"
          ],
          [
           0.6823529411764706,
           "#ff5671"
          ],
          [
           0.6862745098039216,
           "#ff516e"
          ],
          [
           0.6901960784313725,
           "#ff4d6b"
          ],
          [
           0.6941176470588235,
           "#ff4968"
          ],
          [
           0.6980392156862745,
           "#ff4465"
          ],
          [
           0.7019607843137254,
           "#ff4163"
          ],
          [
           0.7058823529411765,
           "#ff4062"
          ],
          [
           0.7098039215686275,
           "#ff3e60"
          ],
          [
           0.7137254901960784,
           "#ff3c5f"
          ],
          [
           0.7176470588235294,
           "#ff3b5e"
          ],
          [
           0.7215686274509804,
           "#ff395c"
          ],
          [
           0.7254901960784313,
           "#ff375b"
          ],
          [
           0.7294117647058823,
           "#ff365a"
          ],
          [
           0.7333333333333333,
           "#ff3458"
          ],
          [
           0.7372549019607844,
           "#ff3257"
          ],
          [
           0.7411764705882353,
           "#ff3056"
          ],
          [
           0.7450980392156863,
           "#ff2f55"
          ],
          [
           0.7490196078431373,
           "#ff2d53"
          ],
          [
           0.7529411764705882,
           "#ff2b52"
          ],
          [
           0.7568627450980392,
           "#ff2a51"
          ],
          [
           0.7607843137254902,
           "#ff284f"
          ],
          [
           0.7647058823529411,
           "#ff264e"
          ],
          [
           0.7686274509803922,
           "#ff254d"
          ],
          [
           0.7725490196078432,
           "#ff234b"
          ],
          [
           0.7764705882352941,
           "#ff214a"
          ],
          [
           0.7803921568627451,
           "#ff1f49"
          ],
          [
           0.7843137254901961,
           "#ff1e48"
          ],
          [
           0.788235294117647,
           "#ff1c46"
          ],
          [
           0.792156862745098,
           "#ff1a45"
          ],
          [
           0.796078431372549,
           "#ff1944"
          ],
          [
           0.8,
           "#ff1742"
          ],
          [
           0.803921568627451,
           "#ff1842"
          ],
          [
           0.807843137254902,
           "#ff1842"
          ],
          [
           0.8117647058823529,
           "#ff1942"
          ],
          [
           0.8156862745098039,
           "#ff1a42"
          ],
          [
           0.8196078431372549,
           "#ff1a42"
          ],
          [
           0.8235294117647058,
           "#ff1b42"
          ],
          [
           0.8274509803921568,
           "#ff1c42"
          ],
          [
           0.8313725490196079,
           "#ff1d42"
          ],
          [
           0.8352941176470589,
           "#ff1d42"
          ],
          [
           0.8392156862745098,
           "#ff1e42"
          ],
          [
           0.8431372549019608,
           "#ff1f42"
          ],
          [
           0.8470588235294118,
           "#ff1f42"
          ],
          [
           0.8509803921568627,
           "#ff2042"
          ],
          [
           0.8549019607843137,
           "#ff2142"
          ],
          [
           0.8588235294117647,
           "#ff2142"
          ],
          [
           0.8627450980392157,
           "#ff2242"
          ],
          [
           0.8666666666666667,
           "#ff2342"
          ],
          [
           0.8705882352941177,
           "#ff2442"
          ],
          [
           0.8745098039215686,
           "#ff2442"
          ],
          [
           0.8784313725490196,
           "#ff2542"
          ],
          [
           0.8823529411764706,
           "#ff2642"
          ],
          [
           0.8862745098039215,
           "#ff2642"
          ],
          [
           0.8901960784313725,
           "#ff2742"
          ],
          [
           0.8941176470588236,
           "#ff2842"
          ],
          [
           0.8980392156862745,
           "#ff2842"
          ],
          [
           0.9019607843137255,
           "#ff2942"
          ],
          [
           0.9058823529411765,
           "#ff2a42"
          ],
          [
           0.9098039215686274,
           "#ff2b42"
          ],
          [
           0.9137254901960784,
           "#ff2c42"
          ],
          [
           0.9176470588235294,
           "#ff2d42"
          ],
          [
           0.9215686274509803,
           "#ff2e42"
          ],
          [
           0.9254901960784314,
           "#ff2f42"
          ],
          [
           0.9294117647058824,
           "#ff3042"
          ],
          [
           0.9333333333333333,
           "#ff3142"
          ],
          [
           0.9372549019607843,
           "#ff3242"
          ],
          [
           0.9411764705882353,
           "#ff3342"
          ],
          [
           0.9450980392156862,
           "#ff3442"
          ],
          [
           0.9490196078431372,
           "#ff3542"
          ],
          [
           0.9529411764705882,
           "#ff3642"
          ],
          [
           0.9568627450980393,
           "#ff3742"
          ],
          [
           0.9607843137254902,
           "#ff3842"
          ],
          [
           0.9647058823529412,
           "#ff3942"
          ],
          [
           0.9686274509803922,
           "#ff3a42"
          ],
          [
           0.9725490196078431,
           "#ff3b42"
          ],
          [
           0.9764705882352941,
           "#ff3c42"
          ],
          [
           0.9803921568627451,
           "#ff3d42"
          ],
          [
           0.984313725490196,
           "#ff3e42"
          ],
          [
           0.9882352941176471,
           "#ff3f42"
          ],
          [
           0.9921568627450981,
           "#ff4042"
          ],
          [
           0.996078431372549,
           "#ff4142"
          ],
          [
           1,
           "#ff4242"
          ]
         ],
         "showscale": false,
         "text": [
          [
           "Column 5",
           "Column 4",
           "Column 2",
           "Column 7",
           "Column 6",
           "Column 1",
           "Column 0",
           "Column 3"
          ]
         ],
         "type": "heatmap",
         "uid": "760da39e-e7ad-4d8c-9dcb-036b86d952d4",
         "x": [
          "Column 5",
          "Column 4",
          "Column 2",
          "Column 7",
          "Column 6",
          "Column 1",
          "Column 0",
          "Column 3"
         ],
         "y": [
          "Target"
         ],
         "yaxis": "y4",
         "z": [
          [
           -1.836649516477367,
           -1.1297551111687338,
           -0.5956325385270926,
           0.22770889709294234,
           0.5741421266346989,
           0.7109283174410879,
           0.9577132609070443,
           1.09154456409742
          ]
         ],
         "zmax": 1.09154456409742,
         "zmin": -1.836649516477367
        },
        {
         "colorscale": [
          [
           0,
           "#4242ff"
          ],
          [
           0.00392156862745098,
           "#4241ff"
          ],
          [
           0.00784313725490196,
           "#4240ff"
          ],
          [
           0.011764705882352941,
           "#423fff"
          ],
          [
           0.01568627450980392,
           "#423eff"
          ],
          [
           0.0196078431372549,
           "#423dff"
          ],
          [
           0.023529411764705882,
           "#423cff"
          ],
          [
           0.027450980392156862,
           "#423bff"
          ],
          [
           0.03137254901960784,
           "#423aff"
          ],
          [
           0.03529411764705882,
           "#4239ff"
          ],
          [
           0.0392156862745098,
           "#4238ff"
          ],
          [
           0.043137254901960784,
           "#4237ff"
          ],
          [
           0.047058823529411764,
           "#4236ff"
          ],
          [
           0.050980392156862744,
           "#4235ff"
          ],
          [
           0.054901960784313725,
           "#4234ff"
          ],
          [
           0.058823529411764705,
           "#4233ff"
          ],
          [
           0.06274509803921569,
           "#4232ff"
          ],
          [
           0.06666666666666667,
           "#4231ff"
          ],
          [
           0.07058823529411765,
           "#4230ff"
          ],
          [
           0.07450980392156863,
           "#422fff"
          ],
          [
           0.0784313725490196,
           "#422eff"
          ],
          [
           0.08235294117647059,
           "#422dff"
          ],
          [
           0.08627450980392157,
           "#422cff"
          ],
          [
           0.09019607843137255,
           "#422bff"
          ],
          [
           0.09411764705882353,
           "#422aff"
          ],
          [
           0.09803921568627451,
           "#4229ff"
          ],
          [
           0.10196078431372549,
           "#4228ff"
          ],
          [
           0.10588235294117647,
           "#4228ff"
          ],
          [
           0.10980392156862745,
           "#4227ff"
          ],
          [
           0.11372549019607843,
           "#4226ff"
          ],
          [
           0.11764705882352941,
           "#4226ff"
          ],
          [
           0.12156862745098039,
           "#4225ff"
          ],
          [
           0.12549019607843137,
           "#4224ff"
          ],
          [
           0.12941176470588237,
           "#4224ff"
          ],
          [
           0.13333333333333333,
           "#4223ff"
          ],
          [
           0.13725490196078433,
           "#4222ff"
          ],
          [
           0.1411764705882353,
           "#4221ff"
          ],
          [
           0.1450980392156863,
           "#4221ff"
          ],
          [
           0.14901960784313725,
           "#4220ff"
          ],
          [
           0.15294117647058825,
           "#421fff"
          ],
          [
           0.1568627450980392,
           "#421fff"
          ],
          [
           0.1607843137254902,
           "#421eff"
          ],
          [
           0.16470588235294117,
           "#421dff"
          ],
          [
           0.16862745098039217,
           "#421dff"
          ],
          [
           0.17254901960784313,
           "#421cff"
          ],
          [
           0.17647058823529413,
           "#421bff"
          ],
          [
           0.1803921568627451,
           "#421aff"
          ],
          [
           0.1843137254901961,
           "#421aff"
          ],
          [
           0.18823529411764706,
           "#4219ff"
          ],
          [
           0.19215686274509805,
           "#4218ff"
          ],
          [
           0.19607843137254902,
           "#4218ff"
          ],
          [
           0.2,
           "#4217ff"
          ],
          [
           0.20392156862745098,
           "#4419ff"
          ],
          [
           0.20784313725490197,
           "#451aff"
          ],
          [
           0.21176470588235294,
           "#461cff"
          ],
          [
           0.21568627450980393,
           "#481eff"
          ],
          [
           0.2196078431372549,
           "#491fff"
          ],
          [
           0.2235294117647059,
           "#4a21ff"
          ],
          [
           0.22745098039215686,
           "#4b23ff"
          ],
          [
           0.23137254901960785,
           "#4d25ff"
          ],
          [
           0.23529411764705882,
           "#4e26ff"
          ],
          [
           0.23921568627450981,
           "#4f28ff"
          ],
          [
           0.24313725490196078,
           "#512aff"
          ],
          [
           0.24705882352941178,
           "#522bff"
          ],
          [
           0.25098039215686274,
           "#532dff"
          ],
          [
           0.2549019607843137,
           "#542fff"
          ],
          [
           0.25882352941176473,
           "#5630ff"
          ],
          [
           0.2627450980392157,
           "#5732ff"
          ],
          [
           0.26666666666666666,
           "#5834ff"
          ],
          [
           0.27058823529411763,
           "#5a36ff"
          ],
          [
           0.27450980392156865,
           "#5b37ff"
          ],
          [
           0.2784313725490196,
           "#5c39ff"
          ],
          [
           0.2823529411764706,
           "#5e3bff"
          ],
          [
           0.28627450980392155,
           "#5f3cff"
          ],
          [
           0.2901960784313726,
           "#603eff"
          ],
          [
           0.29411764705882354,
           "#6240ff"
          ],
          [
           0.2980392156862745,
           "#6341ff"
          ],
          [
           0.30196078431372547,
           "#6544ff"
          ],
          [
           0.3058823529411765,
           "#6849ff"
          ],
          [
           0.30980392156862746,
           "#6b4dff"
          ],
          [
           0.3137254901960784,
           "#6e51ff"
          ],
          [
           0.3176470588235294,
           "#7156ff"
          ],
          [
           0.3215686274509804,
           "#745aff"
          ],
          [
           0.3254901960784314,
           "#775eff"
          ],
          [
           0.32941176470588235,
           "#7a63ff"
          ],
          [
           0.3333333333333333,
           "#7d67ff"
          ],
          [
           0.33725490196078434,
           "#806bff"
          ],
          [
           0.3411764705882353,
           "#836fff"
          ],
          [
           0.34509803921568627,
           "#8674ff"
          ],
          [
           0.34901960784313724,
           "#8978ff"
          ],
          [
           0.35294117647058826,
           "#8c7cff"
          ],
          [
           0.3568627450980392,
           "#8f81ff"
          ],
          [
           0.3607843137254902,
           "#9285ff"
          ],
          [
           0.36470588235294116,
           "#9589ff"
          ],
          [
           0.3686274509803922,
           "#988eff"
          ],
          [
           0.37254901960784315,
           "#9b92ff"
          ],
          [
           0.3764705882352941,
           "#9e96ff"
          ],
          [
           0.3803921568627451,
           "#a19aff"
          ],
          [
           0.3843137254901961,
           "#a49fff"
          ],
          [
           0.38823529411764707,
           "#a7a3ff"
          ],
          [
           0.39215686274509803,
           "#aaa7ff"
          ],
          [
           0.396078431372549,
           "#adacff"
          ],
          [
           0.4,
           "#b0b0ff"
          ],
          [
           0.403921568627451,
           "#b3b3ff"
          ],
          [
           0.40784313725490196,
           "#b6b6ff"
          ],
          [
           0.4117647058823529,
           "#b9b9ff"
          ],
          [
           0.41568627450980394,
           "#bcbcff"
          ],
          [
           0.4196078431372549,
           "#bfbfff"
          ],
          [
           0.4235294117647059,
           "#c3c3ff"
          ],
          [
           0.42745098039215684,
           "#c6c6ff"
          ],
          [
           0.43137254901960786,
           "#c9c9ff"
          ],
          [
           0.43529411764705883,
           "#ccccff"
          ],
          [
           0.4392156862745098,
           "#cfcfff"
          ],
          [
           0.44313725490196076,
           "#d2d2ff"
          ],
          [
           0.4470588235294118,
           "#d5d5ff"
          ],
          [
           0.45098039215686275,
           "#d8d8ff"
          ],
          [
           0.4549019607843137,
           "#dbdbff"
          ],
          [
           0.4588235294117647,
           "#dedeff"
          ],
          [
           0.4627450980392157,
           "#e2e2ff"
          ],
          [
           0.4666666666666667,
           "#e5e5ff"
          ],
          [
           0.47058823529411764,
           "#e8e8ff"
          ],
          [
           0.4745098039215686,
           "#ebebff"
          ],
          [
           0.47843137254901963,
           "#eeeeff"
          ],
          [
           0.4823529411764706,
           "#f1f1ff"
          ],
          [
           0.48627450980392156,
           "#f4f4ff"
          ],
          [
           0.49019607843137253,
           "#f7f7ff"
          ],
          [
           0.49411764705882355,
           "#fafaff"
          ],
          [
           0.4980392156862745,
           "#fdfdff"
          ],
          [
           0.5019607843137255,
           "#fffdfd"
          ],
          [
           0.5058823529411764,
           "#fffafa"
          ],
          [
           0.5098039215686274,
           "#fff7f7"
          ],
          [
           0.5137254901960784,
           "#fff4f4"
          ],
          [
           0.5176470588235295,
           "#fff1f1"
          ],
          [
           0.5215686274509804,
           "#ffeeee"
          ],
          [
           0.5254901960784314,
           "#ffebeb"
          ],
          [
           0.5294117647058824,
           "#ffe8e8"
          ],
          [
           0.5333333333333333,
           "#ffe5e5"
          ],
          [
           0.5372549019607843,
           "#ffe2e2"
          ],
          [
           0.5411764705882353,
           "#ffdede"
          ],
          [
           0.5450980392156862,
           "#ffdbdb"
          ],
          [
           0.5490196078431373,
           "#ffd8d8"
          ],
          [
           0.5529411764705883,
           "#ffd5d5"
          ],
          [
           0.5568627450980392,
           "#ffd2d2"
          ],
          [
           0.5607843137254902,
           "#ffcfcf"
          ],
          [
           0.5647058823529412,
           "#ffcccc"
          ],
          [
           0.5686274509803921,
           "#ffc9c9"
          ],
          [
           0.5725490196078431,
           "#ffc6c6"
          ],
          [
           0.5764705882352941,
           "#ffc3c3"
          ],
          [
           0.5803921568627451,
           "#ffbfbf"
          ],
          [
           0.5843137254901961,
           "#ffbcbc"
          ],
          [
           0.5882352941176471,
           "#ffb9b9"
          ],
          [
           0.592156862745098,
           "#ffb6b6"
          ],
          [
           0.596078431372549,
           "#ffb3b3"
          ],
          [
           0.6,
           "#ffb0b0"
          ],
          [
           0.6039215686274509,
           "#ffacad"
          ],
          [
           0.6078431372549019,
           "#ffa7aa"
          ],
          [
           0.611764705882353,
           "#ffa3a7"
          ],
          [
           0.615686274509804,
           "#ff9fa4"
          ],
          [
           0.6196078431372549,
           "#ff9aa1"
          ],
          [
           0.6235294117647059,
           "#ff969e"
          ],
          [
           0.6274509803921569,
           "#ff929b"
          ],
          [
           0.6313725490196078,
           "#ff8e98"
          ],
          [
           0.6352941176470588,
           "#ff8995"
          ],
          [
           0.6392156862745098,
           "#ff8592"
          ],
          [
           0.6431372549019608,
           "#ff818f"
          ],
          [
           0.6470588235294118,
           "#ff7c8c"
          ],
          [
           0.6509803921568628,
           "#ff7889"
          ],
          [
           0.6549019607843137,
           "#ff7486"
          ],
          [
           0.6588235294117647,
           "#ff6f83"
          ],
          [
           0.6627450980392157,
           "#ff6b80"
          ],
          [
           0.6666666666666666,
           "#ff677d"
          ],
          [
           0.6705882352941176,
           "#ff637a"
          ],
          [
           0.6745098039215687,
           "#ff5e77"
          ],
          [
           0.6784313725490196,
           "#ff5a74"
          ],
          [
           0.6823529411764706,
           "#ff5671"
          ],
          [
           0.6862745098039216,
           "#ff516e"
          ],
          [
           0.6901960784313725,
           "#ff4d6b"
          ],
          [
           0.6941176470588235,
           "#ff4968"
          ],
          [
           0.6980392156862745,
           "#ff4465"
          ],
          [
           0.7019607843137254,
           "#ff4163"
          ],
          [
           0.7058823529411765,
           "#ff4062"
          ],
          [
           0.7098039215686275,
           "#ff3e60"
          ],
          [
           0.7137254901960784,
           "#ff3c5f"
          ],
          [
           0.7176470588235294,
           "#ff3b5e"
          ],
          [
           0.7215686274509804,
           "#ff395c"
          ],
          [
           0.7254901960784313,
           "#ff375b"
          ],
          [
           0.7294117647058823,
           "#ff365a"
          ],
          [
           0.7333333333333333,
           "#ff3458"
          ],
          [
           0.7372549019607844,
           "#ff3257"
          ],
          [
           0.7411764705882353,
           "#ff3056"
          ],
          [
           0.7450980392156863,
           "#ff2f55"
          ],
          [
           0.7490196078431373,
           "#ff2d53"
          ],
          [
           0.7529411764705882,
           "#ff2b52"
          ],
          [
           0.7568627450980392,
           "#ff2a51"
          ],
          [
           0.7607843137254902,
           "#ff284f"
          ],
          [
           0.7647058823529411,
           "#ff264e"
          ],
          [
           0.7686274509803922,
           "#ff254d"
          ],
          [
           0.7725490196078432,
           "#ff234b"
          ],
          [
           0.7764705882352941,
           "#ff214a"
          ],
          [
           0.7803921568627451,
           "#ff1f49"
          ],
          [
           0.7843137254901961,
           "#ff1e48"
          ],
          [
           0.788235294117647,
           "#ff1c46"
          ],
          [
           0.792156862745098,
           "#ff1a45"
          ],
          [
           0.796078431372549,
           "#ff1944"
          ],
          [
           0.8,
           "#ff1742"
          ],
          [
           0.803921568627451,
           "#ff1842"
          ],
          [
           0.807843137254902,
           "#ff1842"
          ],
          [
           0.8117647058823529,
           "#ff1942"
          ],
          [
           0.8156862745098039,
           "#ff1a42"
          ],
          [
           0.8196078431372549,
           "#ff1a42"
          ],
          [
           0.8235294117647058,
           "#ff1b42"
          ],
          [
           0.8274509803921568,
           "#ff1c42"
          ],
          [
           0.8313725490196079,
           "#ff1d42"
          ],
          [
           0.8352941176470589,
           "#ff1d42"
          ],
          [
           0.8392156862745098,
           "#ff1e42"
          ],
          [
           0.8431372549019608,
           "#ff1f42"
          ],
          [
           0.8470588235294118,
           "#ff1f42"
          ],
          [
           0.8509803921568627,
           "#ff2042"
          ],
          [
           0.8549019607843137,
           "#ff2142"
          ],
          [
           0.8588235294117647,
           "#ff2142"
          ],
          [
           0.8627450980392157,
           "#ff2242"
          ],
          [
           0.8666666666666667,
           "#ff2342"
          ],
          [
           0.8705882352941177,
           "#ff2442"
          ],
          [
           0.8745098039215686,
           "#ff2442"
          ],
          [
           0.8784313725490196,
           "#ff2542"
          ],
          [
           0.8823529411764706,
           "#ff2642"
          ],
          [
           0.8862745098039215,
           "#ff2642"
          ],
          [
           0.8901960784313725,
           "#ff2742"
          ],
          [
           0.8941176470588236,
           "#ff2842"
          ],
          [
           0.8980392156862745,
           "#ff2842"
          ],
          [
           0.9019607843137255,
           "#ff2942"
          ],
          [
           0.9058823529411765,
           "#ff2a42"
          ],
          [
           0.9098039215686274,
           "#ff2b42"
          ],
          [
           0.9137254901960784,
           "#ff2c42"
          ],
          [
           0.9176470588235294,
           "#ff2d42"
          ],
          [
           0.9215686274509803,
           "#ff2e42"
          ],
          [
           0.9254901960784314,
           "#ff2f42"
          ],
          [
           0.9294117647058824,
           "#ff3042"
          ],
          [
           0.9333333333333333,
           "#ff3142"
          ],
          [
           0.9372549019607843,
           "#ff3242"
          ],
          [
           0.9411764705882353,
           "#ff3342"
          ],
          [
           0.9450980392156862,
           "#ff3442"
          ],
          [
           0.9490196078431372,
           "#ff3542"
          ],
          [
           0.9529411764705882,
           "#ff3642"
          ],
          [
           0.9568627450980393,
           "#ff3742"
          ],
          [
           0.9607843137254902,
           "#ff3842"
          ],
          [
           0.9647058823529412,
           "#ff3942"
          ],
          [
           0.9686274509803922,
           "#ff3a42"
          ],
          [
           0.9725490196078431,
           "#ff3b42"
          ],
          [
           0.9764705882352941,
           "#ff3c42"
          ],
          [
           0.9803921568627451,
           "#ff3d42"
          ],
          [
           0.984313725490196,
           "#ff3e42"
          ],
          [
           0.9882352941176471,
           "#ff3f42"
          ],
          [
           0.9921568627450981,
           "#ff4042"
          ],
          [
           0.996078431372549,
           "#ff4142"
          ],
          [
           1,
           "#ff4242"
          ]
         ],
         "showscale": false,
         "type": "heatmap",
         "uid": "7b018c08-29d8-4b1e-be2d-f766650b4a8b",
         "x": [
          "Column 5",
          "Column 4",
          "Column 2",
          "Column 7",
          "Column 6",
          "Column 1",
          "Column 0",
          "Column 3"
         ],
         "y": [
          "Continuous Index 2",
          "Continuous Index 1",
          "Continuous Index 0",
          "Continuous Index 3"
         ],
         "yaxis": "y3",
         "z": [
          [
           0.08648002846205055,
           2.3516649229445834,
           0.49503881679667483,
           -0.5844441340146637,
           -0.45865658138162924,
           -0.3438390613493145,
           -0.3538795130080135,
           -1.192364478449689
          ],
          [
           0.6192496216776943,
           0.969025142008945,
           0.24150441328773883,
           0.8669437373619041,
           -0.27801625125564483,
           -1.4639083196959344,
           -1.740621996873205,
           0.7858236534885007
          ],
          [
           0.3931965577249646,
           -0.7917574535354329,
           2.077619367086736,
           -0.7977536589844159,
           0.45880946003944695,
           0.37191571837320575,
           -0.3810135742402566,
           -1.3310164164642488
          ],
          [
           -0.9843563607501917,
           1.1919648273875072,
           -1.0368296026941224,
           0.7175730634395774,
           0.26756700062063277,
           -1.6349471424273745,
           0.4379107326940994,
           1.0411174817298738
          ]
         ],
         "zmax": 2.3516649229445834,
         "zmin": -1.740621996873205
        },
        {
         "colorscale": [
          [
           0,
           "#20d9ba"
          ],
          [
           0.1111111111111111,
           "#9017e6"
          ],
          [
           0.2222222222222222,
           "#ff1968"
          ],
          [
           0.3333333333333333,
           "#ffe119"
          ],
          [
           0.4444444444444444,
           "#3cb44b"
          ],
          [
           0.5555555555555556,
           "#4e41d8"
          ],
          [
           0.6666666666666666,
           "#ffa400"
          ],
          [
           0.7777777777777778,
           "#aaffc3"
          ],
          [
           0.8888888888888888,
           "#800000"
          ],
          [
           1,
           "#e6beff"
          ]
         ],
         "showscale": false,
         "type": "heatmap",
         "uid": "601748da-09b9-4f48-a711-af5dc96a7087",
         "x": [
          "Column 5",
          "Column 4",
          "Column 2",
          "Column 7",
          "Column 6",
          "Column 1",
          "Column 0",
          "Column 3"
         ],
         "y": [
          "Categorical Index 0",
          "Categorical Index 1",
          "Categorical Index 3",
          "Categorical Index 2"
         ],
         "yaxis": "y2",
         "z": [
          [
           6,
           7,
           7,
           9,
           2,
           9,
           4,
           4
          ],
          [
           8,
           3,
           4,
           5,
           1,
           9,
           3,
           2
          ],
          [
           8,
           3,
           0,
           9,
           3,
           4,
           0,
           4
          ],
          [
           6,
           4,
           1,
           5,
           2,
           3,
           8,
           7
          ]
         ]
        },
        {
         "colorscale": [
          [
           0,
           "#ebf6f7"
          ],
          [
           1,
           "#171412"
          ]
         ],
         "showscale": false,
         "type": "heatmap",
         "uid": "7562c1c4-a6ec-413a-bb40-7205a7b912c7",
         "x": [
          "Column 5",
          "Column 4",
          "Column 2",
          "Column 7",
          "Column 6",
          "Column 1",
          "Column 0",
          "Column 3"
         ],
         "y": [
          "Binary Index 2",
          "Binary Index 3",
          "Binary Index 1",
          "Binary Index 0"
         ],
         "yaxis": "y",
         "z": [
          [
           0,
           1,
           0,
           1,
           1,
           0,
           1,
           0
          ],
          [
           0,
           1,
           0,
           0,
           1,
           1,
           1,
           0
          ],
          [
           0,
           1,
           1,
           1,
           1,
           1,
           0,
           1
          ],
          [
           1,
           0,
           0,
           1,
           1,
           0,
           1,
           1
          ]
         ]
        }
       ],
       "layout": {
        "annotations": [
         {
          "font": {
           "size": 9.6
          },
          "showarrow": false,
          "text": "<b>Continuous</b>",
          "x": 0.5,
          "xanchor": "center",
          "xref": "paper",
          "y": 0.90625,
          "yanchor": "middle",
          "yref": "paper"
         },
         {
          "font": {
           "size": 9.6
          },
          "showarrow": false,
          "text": "<b>Score</b>",
          "width": 64,
          "x": 1.0016,
          "xanchor": "left",
          "xref": "paper",
          "y": 0.96875,
          "yanchor": "middle",
          "yref": "paper"
         },
         {
          "font": {
           "size": 9.6
          },
          "showarrow": false,
          "text": "<b>0.25 ± 0.30</b>",
          "width": 64,
          "x": 1.0016,
          "xanchor": "left",
          "xref": "paper",
          "y": 0.84375,
          "yanchor": "middle",
          "yref": "paper"
         },
         {
          "font": {
           "size": 9.6
          },
          "showarrow": false,
          "text": "<b>-0.25 ± 0.11</b>",
          "width": 64,
          "x": 1.0016,
          "xanchor": "left",
          "xref": "paper",
          "y": 0.78125,
          "yanchor": "middle",
          "yref": "paper"
         },
         {
          "font": {
           "size": 9.6
          },
          "showarrow": false,
          "text": "<b>-0.49 ± 0.14</b>",
          "width": 64,
          "x": 1.0016,
          "xanchor": "left",
          "xref": "paper",
          "y": 0.71875,
          "yanchor": "middle",
          "yref": "paper"
         },
         {
          "font": {
           "size": 9.6
          },
          "showarrow": false,
          "text": "<b>-0.68 ± 0.05</b>",
          "width": 64,
          "x": 1.0016,
          "xanchor": "left",
          "xref": "paper",
          "y": 0.65625,
          "yanchor": "middle",
          "yref": "paper"
         },
         {
          "font": {
           "size": 9.6
          },
          "showarrow": false,
          "text": "<b>Categorical</b>",
          "x": 0.5,
          "xanchor": "center",
          "xref": "paper",
          "y": 0.59375,
          "yanchor": "middle",
          "yref": "paper"
         },
         {
          "font": {
           "size": 9.6
          },
          "showarrow": false,
          "text": "<b>0.19 ± 0.41</b>",
          "width": 64,
          "x": 1.0016,
          "xanchor": "left",
          "xref": "paper",
          "y": 0.53125,
          "yanchor": "middle",
          "yref": "paper"
         },
         {
          "font": {
           "size": 9.6
          },
          "showarrow": false,
          "text": "<b>-0.19 ± 0.60</b>",
          "width": 64,
          "x": 1.0016,
          "xanchor": "left",
          "xref": "paper",
          "y": 0.46875,
          "yanchor": "middle",
          "yref": "paper"
         },
         {
          "font": {
           "size": 9.6
          },
          "showarrow": false,
          "text": "<b>-0.24 ± 0.33</b>",
          "width": 64,
          "x": 1.0016,
          "xanchor": "left",
          "xref": "paper",
          "y": 0.40625,
          "yanchor": "middle",
          "yref": "paper"
         },
         {
          "font": {
           "size": 9.6
          },
          "showarrow": false,
          "text": "<b>-0.43 ± 0.19</b>",
          "width": 64,
          "x": 1.0016,
          "xanchor": "left",
          "xref": "paper",
          "y": 0.34375,
          "yanchor": "middle",
          "yref": "paper"
         },
         {
          "font": {
           "size": 9.6
          },
          "showarrow": false,
          "text": "<b>Binary</b>",
          "x": 0.5,
          "xanchor": "center",
          "xref": "paper",
          "y": 0.28125,
          "yanchor": "middle",
          "yref": "paper"
         },
         {
          "font": {
           "size": 9.6
          },
          "showarrow": false,
          "text": "<b>0.30 ± 0.24</b>",
          "width": 64,
          "x": 1.0016,
          "xanchor": "left",
          "xref": "paper",
          "y": 0.21875,
          "yanchor": "middle",
          "yref": "paper"
         },
         {
          "font": {
           "size": 9.6
          },
          "showarrow": false,
          "text": "<b>0.24 ± 0.13</b>",
          "width": 64,
          "x": 1.0016,
          "xanchor": "left",
          "xref": "paper",
          "y": 0.15625,
          "yanchor": "middle",
          "yref": "paper"
         },
         {
          "font": {
           "size": 9.6
          },
          "showarrow": false,
          "text": "<b>0.17 ± 0.48</b>",
          "width": 64,
          "x": 1.0016,
          "xanchor": "left",
          "xref": "paper",
          "y": 0.09375,
          "yanchor": "middle",
          "yref": "paper"
         },
         {
          "font": {
           "size": 9.6
          },
          "showarrow": false,
          "text": "<b>0.10 ± 0.48</b>",
          "width": 64,
          "x": 1.0016,
          "xanchor": "left",
          "xref": "paper",
          "y": 0.03125,
          "yanchor": "middle",
          "yref": "paper"
         }
        ],
        "height": 512,
        "margin": {
         "l": 196,
         "r": 196
        },
        "title": "Summary Match Panel",
        "width": 880,
        "xaxis": {
         "anchor": "y"
        },
        "yaxis": {
         "domain": [
          0,
          0.25
         ],
         "dtick": 1,
         "tickfont": {
          "size": 9.6
         }
        },
        "yaxis2": {
         "domain": [
          0.3125,
          0.5625
         ],
         "dtick": 1,
         "tickfont": {
          "size": 9.6
         }
        },
        "yaxis3": {
         "domain": [
          0.625,
          0.875
         ],
         "dtick": 1,
         "tickfont": {
          "size": 9.6
         }
        },
        "yaxis4": {
         "domain": [
          0.9375,
          1
         ],
         "tickfont": {
          "size": 9.6
         }
        }
       }
      },
      "text/html": [
       "<div id=\"23083c42-61d3-4db0-8907-b78aee06e7e1\" style=\"height: 512.0px; width: 880px;\" class=\"plotly-graph-div\"></div><script type=\"text/javascript\">require([\"plotly\"], function(Plotly) { window.PLOTLYENV=window.PLOTLYENV || {};window.PLOTLYENV.BASE_URL=\"https://plot.ly\";Plotly.newPlot(\"23083c42-61d3-4db0-8907-b78aee06e7e1\", [{\"colorscale\": [[0.0, \"#4242ff\"], [0.00392156862745098, \"#4241ff\"], [0.00784313725490196, \"#4240ff\"], [0.011764705882352941, \"#423fff\"], [0.01568627450980392, \"#423eff\"], [0.0196078431372549, \"#423dff\"], [0.023529411764705882, \"#423cff\"], [0.027450980392156862, \"#423bff\"], [0.03137254901960784, \"#423aff\"], [0.03529411764705882, \"#4239ff\"], [0.0392156862745098, \"#4238ff\"], [0.043137254901960784, \"#4237ff\"], [0.047058823529411764, \"#4236ff\"], [0.050980392156862744, \"#4235ff\"], [0.054901960784313725, \"#4234ff\"], [0.058823529411764705, \"#4233ff\"], [0.06274509803921569, \"#4232ff\"], [0.06666666666666667, \"#4231ff\"], [0.07058823529411765, \"#4230ff\"], [0.07450980392156863, \"#422fff\"], [0.0784313725490196, \"#422eff\"], [0.08235294117647059, \"#422dff\"], [0.08627450980392157, \"#422cff\"], [0.09019607843137255, \"#422bff\"], [0.09411764705882353, \"#422aff\"], [0.09803921568627451, \"#4229ff\"], [0.10196078431372549, \"#4228ff\"], [0.10588235294117647, \"#4228ff\"], [0.10980392156862745, \"#4227ff\"], [0.11372549019607843, \"#4226ff\"], [0.11764705882352941, \"#4226ff\"], [0.12156862745098039, \"#4225ff\"], [0.12549019607843137, \"#4224ff\"], [0.12941176470588237, \"#4224ff\"], [0.13333333333333333, \"#4223ff\"], [0.13725490196078433, \"#4222ff\"], [0.1411764705882353, \"#4221ff\"], [0.1450980392156863, \"#4221ff\"], [0.14901960784313725, \"#4220ff\"], [0.15294117647058825, \"#421fff\"], [0.1568627450980392, \"#421fff\"], [0.1607843137254902, \"#421eff\"], [0.16470588235294117, \"#421dff\"], [0.16862745098039217, \"#421dff\"], [0.17254901960784313, \"#421cff\"], [0.17647058823529413, \"#421bff\"], [0.1803921568627451, \"#421aff\"], [0.1843137254901961, \"#421aff\"], [0.18823529411764706, \"#4219ff\"], [0.19215686274509805, \"#4218ff\"], [0.19607843137254902, \"#4218ff\"], [0.2, \"#4217ff\"], [0.20392156862745098, \"#4419ff\"], [0.20784313725490197, \"#451aff\"], [0.21176470588235294, \"#461cff\"], [0.21568627450980393, \"#481eff\"], [0.2196078431372549, \"#491fff\"], [0.2235294117647059, \"#4a21ff\"], [0.22745098039215686, \"#4b23ff\"], [0.23137254901960785, \"#4d25ff\"], [0.23529411764705882, \"#4e26ff\"], [0.23921568627450981, \"#4f28ff\"], [0.24313725490196078, \"#512aff\"], [0.24705882352941178, \"#522bff\"], [0.25098039215686274, \"#532dff\"], [0.2549019607843137, \"#542fff\"], [0.25882352941176473, \"#5630ff\"], [0.2627450980392157, \"#5732ff\"], [0.26666666666666666, \"#5834ff\"], [0.27058823529411763, \"#5a36ff\"], [0.27450980392156865, \"#5b37ff\"], [0.2784313725490196, \"#5c39ff\"], [0.2823529411764706, \"#5e3bff\"], [0.28627450980392155, \"#5f3cff\"], [0.2901960784313726, \"#603eff\"], [0.29411764705882354, \"#6240ff\"], [0.2980392156862745, \"#6341ff\"], [0.30196078431372547, \"#6544ff\"], [0.3058823529411765, \"#6849ff\"], [0.30980392156862746, \"#6b4dff\"], [0.3137254901960784, \"#6e51ff\"], [0.3176470588235294, \"#7156ff\"], [0.3215686274509804, \"#745aff\"], [0.3254901960784314, \"#775eff\"], [0.32941176470588235, \"#7a63ff\"], [0.3333333333333333, \"#7d67ff\"], [0.33725490196078434, \"#806bff\"], [0.3411764705882353, \"#836fff\"], [0.34509803921568627, \"#8674ff\"], [0.34901960784313724, \"#8978ff\"], [0.35294117647058826, \"#8c7cff\"], [0.3568627450980392, \"#8f81ff\"], [0.3607843137254902, \"#9285ff\"], [0.36470588235294116, \"#9589ff\"], [0.3686274509803922, \"#988eff\"], [0.37254901960784315, \"#9b92ff\"], [0.3764705882352941, \"#9e96ff\"], [0.3803921568627451, \"#a19aff\"], [0.3843137254901961, \"#a49fff\"], [0.38823529411764707, \"#a7a3ff\"], [0.39215686274509803, \"#aaa7ff\"], [0.396078431372549, \"#adacff\"], [0.4, \"#b0b0ff\"], [0.403921568627451, \"#b3b3ff\"], [0.40784313725490196, \"#b6b6ff\"], [0.4117647058823529, \"#b9b9ff\"], [0.41568627450980394, \"#bcbcff\"], [0.4196078431372549, \"#bfbfff\"], [0.4235294117647059, \"#c3c3ff\"], [0.42745098039215684, \"#c6c6ff\"], [0.43137254901960786, \"#c9c9ff\"], [0.43529411764705883, \"#ccccff\"], [0.4392156862745098, \"#cfcfff\"], [0.44313725490196076, \"#d2d2ff\"], [0.4470588235294118, \"#d5d5ff\"], [0.45098039215686275, \"#d8d8ff\"], [0.4549019607843137, \"#dbdbff\"], [0.4588235294117647, \"#dedeff\"], [0.4627450980392157, \"#e2e2ff\"], [0.4666666666666667, \"#e5e5ff\"], [0.47058823529411764, \"#e8e8ff\"], [0.4745098039215686, \"#ebebff\"], [0.47843137254901963, \"#eeeeff\"], [0.4823529411764706, \"#f1f1ff\"], [0.48627450980392156, \"#f4f4ff\"], [0.49019607843137253, \"#f7f7ff\"], [0.49411764705882355, \"#fafaff\"], [0.4980392156862745, \"#fdfdff\"], [0.5019607843137255, \"#fffdfd\"], [0.5058823529411764, \"#fffafa\"], [0.5098039215686274, \"#fff7f7\"], [0.5137254901960784, \"#fff4f4\"], [0.5176470588235295, \"#fff1f1\"], [0.5215686274509804, \"#ffeeee\"], [0.5254901960784314, \"#ffebeb\"], [0.5294117647058824, \"#ffe8e8\"], [0.5333333333333333, \"#ffe5e5\"], [0.5372549019607843, \"#ffe2e2\"], [0.5411764705882353, \"#ffdede\"], [0.5450980392156862, \"#ffdbdb\"], [0.5490196078431373, \"#ffd8d8\"], [0.5529411764705883, \"#ffd5d5\"], [0.5568627450980392, \"#ffd2d2\"], [0.5607843137254902, \"#ffcfcf\"], [0.5647058823529412, \"#ffcccc\"], [0.5686274509803921, \"#ffc9c9\"], [0.5725490196078431, \"#ffc6c6\"], [0.5764705882352941, \"#ffc3c3\"], [0.5803921568627451, \"#ffbfbf\"], [0.5843137254901961, \"#ffbcbc\"], [0.5882352941176471, \"#ffb9b9\"], [0.592156862745098, \"#ffb6b6\"], [0.596078431372549, \"#ffb3b3\"], [0.6, \"#ffb0b0\"], [0.6039215686274509, \"#ffacad\"], [0.6078431372549019, \"#ffa7aa\"], [0.611764705882353, \"#ffa3a7\"], [0.615686274509804, \"#ff9fa4\"], [0.6196078431372549, \"#ff9aa1\"], [0.6235294117647059, \"#ff969e\"], [0.6274509803921569, \"#ff929b\"], [0.6313725490196078, \"#ff8e98\"], [0.6352941176470588, \"#ff8995\"], [0.6392156862745098, \"#ff8592\"], [0.6431372549019608, \"#ff818f\"], [0.6470588235294118, \"#ff7c8c\"], [0.6509803921568628, \"#ff7889\"], [0.6549019607843137, \"#ff7486\"], [0.6588235294117647, \"#ff6f83\"], [0.6627450980392157, \"#ff6b80\"], [0.6666666666666666, \"#ff677d\"], [0.6705882352941176, \"#ff637a\"], [0.6745098039215687, \"#ff5e77\"], [0.6784313725490196, \"#ff5a74\"], [0.6823529411764706, \"#ff5671\"], [0.6862745098039216, \"#ff516e\"], [0.6901960784313725, \"#ff4d6b\"], [0.6941176470588235, \"#ff4968\"], [0.6980392156862745, \"#ff4465\"], [0.7019607843137254, \"#ff4163\"], [0.7058823529411765, \"#ff4062\"], [0.7098039215686275, \"#ff3e60\"], [0.7137254901960784, \"#ff3c5f\"], [0.7176470588235294, \"#ff3b5e\"], [0.7215686274509804, \"#ff395c\"], [0.7254901960784313, \"#ff375b\"], [0.7294117647058823, \"#ff365a\"], [0.7333333333333333, \"#ff3458\"], [0.7372549019607844, \"#ff3257\"], [0.7411764705882353, \"#ff3056\"], [0.7450980392156863, \"#ff2f55\"], [0.7490196078431373, \"#ff2d53\"], [0.7529411764705882, \"#ff2b52\"], [0.7568627450980392, \"#ff2a51\"], [0.7607843137254902, \"#ff284f\"], [0.7647058823529411, \"#ff264e\"], [0.7686274509803922, \"#ff254d\"], [0.7725490196078432, \"#ff234b\"], [0.7764705882352941, \"#ff214a\"], [0.7803921568627451, \"#ff1f49\"], [0.7843137254901961, \"#ff1e48\"], [0.788235294117647, \"#ff1c46\"], [0.792156862745098, \"#ff1a45\"], [0.796078431372549, \"#ff1944\"], [0.8, \"#ff1742\"], [0.803921568627451, \"#ff1842\"], [0.807843137254902, \"#ff1842\"], [0.8117647058823529, \"#ff1942\"], [0.8156862745098039, \"#ff1a42\"], [0.8196078431372549, \"#ff1a42\"], [0.8235294117647058, \"#ff1b42\"], [0.8274509803921568, \"#ff1c42\"], [0.8313725490196079, \"#ff1d42\"], [0.8352941176470589, \"#ff1d42\"], [0.8392156862745098, \"#ff1e42\"], [0.8431372549019608, \"#ff1f42\"], [0.8470588235294118, \"#ff1f42\"], [0.8509803921568627, \"#ff2042\"], [0.8549019607843137, \"#ff2142\"], [0.8588235294117647, \"#ff2142\"], [0.8627450980392157, \"#ff2242\"], [0.8666666666666667, \"#ff2342\"], [0.8705882352941177, \"#ff2442\"], [0.8745098039215686, \"#ff2442\"], [0.8784313725490196, \"#ff2542\"], [0.8823529411764706, \"#ff2642\"], [0.8862745098039215, \"#ff2642\"], [0.8901960784313725, \"#ff2742\"], [0.8941176470588236, \"#ff2842\"], [0.8980392156862745, \"#ff2842\"], [0.9019607843137255, \"#ff2942\"], [0.9058823529411765, \"#ff2a42\"], [0.9098039215686274, \"#ff2b42\"], [0.9137254901960784, \"#ff2c42\"], [0.9176470588235294, \"#ff2d42\"], [0.9215686274509803, \"#ff2e42\"], [0.9254901960784314, \"#ff2f42\"], [0.9294117647058824, \"#ff3042\"], [0.9333333333333333, \"#ff3142\"], [0.9372549019607843, \"#ff3242\"], [0.9411764705882353, \"#ff3342\"], [0.9450980392156862, \"#ff3442\"], [0.9490196078431372, \"#ff3542\"], [0.9529411764705882, \"#ff3642\"], [0.9568627450980393, \"#ff3742\"], [0.9607843137254902, \"#ff3842\"], [0.9647058823529412, \"#ff3942\"], [0.9686274509803922, \"#ff3a42\"], [0.9725490196078431, \"#ff3b42\"], [0.9764705882352941, \"#ff3c42\"], [0.9803921568627451, \"#ff3d42\"], [0.984313725490196, \"#ff3e42\"], [0.9882352941176471, \"#ff3f42\"], [0.9921568627450981, \"#ff4042\"], [0.996078431372549, \"#ff4142\"], [1.0, \"#ff4242\"]], \"showscale\": false, \"text\": [[\"Column 5\", \"Column 4\", \"Column 2\", \"Column 7\", \"Column 6\", \"Column 1\", \"Column 0\", \"Column 3\"]], \"x\": [\"Column 5\", \"Column 4\", \"Column 2\", \"Column 7\", \"Column 6\", \"Column 1\", \"Column 0\", \"Column 3\"], \"y\": [\"Target\"], \"yaxis\": \"y4\", \"z\": [[-1.836649516477367, -1.1297551111687338, -0.5956325385270926, 0.22770889709294234, 0.5741421266346989, 0.7109283174410879, 0.9577132609070443, 1.09154456409742]], \"zmax\": 1.09154456409742, \"zmin\": -1.836649516477367, \"type\": \"heatmap\", \"uid\": \"f6800e5a-ebad-45ed-81b9-74ef1f3af3ad\"}, {\"colorscale\": [[0.0, \"#4242ff\"], [0.00392156862745098, \"#4241ff\"], [0.00784313725490196, \"#4240ff\"], [0.011764705882352941, \"#423fff\"], [0.01568627450980392, \"#423eff\"], [0.0196078431372549, \"#423dff\"], [0.023529411764705882, \"#423cff\"], [0.027450980392156862, \"#423bff\"], [0.03137254901960784, \"#423aff\"], [0.03529411764705882, \"#4239ff\"], [0.0392156862745098, \"#4238ff\"], [0.043137254901960784, \"#4237ff\"], [0.047058823529411764, \"#4236ff\"], [0.050980392156862744, \"#4235ff\"], [0.054901960784313725, \"#4234ff\"], [0.058823529411764705, \"#4233ff\"], [0.06274509803921569, \"#4232ff\"], [0.06666666666666667, \"#4231ff\"], [0.07058823529411765, \"#4230ff\"], [0.07450980392156863, \"#422fff\"], [0.0784313725490196, \"#422eff\"], [0.08235294117647059, \"#422dff\"], [0.08627450980392157, \"#422cff\"], [0.09019607843137255, \"#422bff\"], [0.09411764705882353, \"#422aff\"], [0.09803921568627451, \"#4229ff\"], [0.10196078431372549, \"#4228ff\"], [0.10588235294117647, \"#4228ff\"], [0.10980392156862745, \"#4227ff\"], [0.11372549019607843, \"#4226ff\"], [0.11764705882352941, \"#4226ff\"], [0.12156862745098039, \"#4225ff\"], [0.12549019607843137, \"#4224ff\"], [0.12941176470588237, \"#4224ff\"], [0.13333333333333333, \"#4223ff\"], [0.13725490196078433, \"#4222ff\"], [0.1411764705882353, \"#4221ff\"], [0.1450980392156863, \"#4221ff\"], [0.14901960784313725, \"#4220ff\"], [0.15294117647058825, \"#421fff\"], [0.1568627450980392, \"#421fff\"], [0.1607843137254902, \"#421eff\"], [0.16470588235294117, \"#421dff\"], [0.16862745098039217, \"#421dff\"], [0.17254901960784313, \"#421cff\"], [0.17647058823529413, \"#421bff\"], [0.1803921568627451, \"#421aff\"], [0.1843137254901961, \"#421aff\"], [0.18823529411764706, \"#4219ff\"], [0.19215686274509805, \"#4218ff\"], [0.19607843137254902, \"#4218ff\"], [0.2, \"#4217ff\"], [0.20392156862745098, \"#4419ff\"], [0.20784313725490197, \"#451aff\"], [0.21176470588235294, \"#461cff\"], [0.21568627450980393, \"#481eff\"], [0.2196078431372549, \"#491fff\"], [0.2235294117647059, \"#4a21ff\"], [0.22745098039215686, \"#4b23ff\"], [0.23137254901960785, \"#4d25ff\"], [0.23529411764705882, \"#4e26ff\"], [0.23921568627450981, \"#4f28ff\"], [0.24313725490196078, \"#512aff\"], [0.24705882352941178, \"#522bff\"], [0.25098039215686274, \"#532dff\"], [0.2549019607843137, \"#542fff\"], [0.25882352941176473, \"#5630ff\"], [0.2627450980392157, \"#5732ff\"], [0.26666666666666666, \"#5834ff\"], [0.27058823529411763, \"#5a36ff\"], [0.27450980392156865, \"#5b37ff\"], [0.2784313725490196, \"#5c39ff\"], [0.2823529411764706, \"#5e3bff\"], [0.28627450980392155, \"#5f3cff\"], [0.2901960784313726, \"#603eff\"], [0.29411764705882354, \"#6240ff\"], [0.2980392156862745, \"#6341ff\"], [0.30196078431372547, \"#6544ff\"], [0.3058823529411765, \"#6849ff\"], [0.30980392156862746, \"#6b4dff\"], [0.3137254901960784, \"#6e51ff\"], [0.3176470588235294, \"#7156ff\"], [0.3215686274509804, \"#745aff\"], [0.3254901960784314, \"#775eff\"], [0.32941176470588235, \"#7a63ff\"], [0.3333333333333333, \"#7d67ff\"], [0.33725490196078434, \"#806bff\"], [0.3411764705882353, \"#836fff\"], [0.34509803921568627, \"#8674ff\"], [0.34901960784313724, \"#8978ff\"], [0.35294117647058826, \"#8c7cff\"], [0.3568627450980392, \"#8f81ff\"], [0.3607843137254902, \"#9285ff\"], [0.36470588235294116, \"#9589ff\"], [0.3686274509803922, \"#988eff\"], [0.37254901960784315, \"#9b92ff\"], [0.3764705882352941, \"#9e96ff\"], [0.3803921568627451, \"#a19aff\"], [0.3843137254901961, \"#a49fff\"], [0.38823529411764707, \"#a7a3ff\"], [0.39215686274509803, \"#aaa7ff\"], [0.396078431372549, \"#adacff\"], [0.4, \"#b0b0ff\"], [0.403921568627451, \"#b3b3ff\"], [0.40784313725490196, \"#b6b6ff\"], [0.4117647058823529, \"#b9b9ff\"], [0.41568627450980394, \"#bcbcff\"], [0.4196078431372549, \"#bfbfff\"], [0.4235294117647059, \"#c3c3ff\"], [0.42745098039215684, \"#c6c6ff\"], [0.43137254901960786, \"#c9c9ff\"], [0.43529411764705883, \"#ccccff\"], [0.4392156862745098, \"#cfcfff\"], [0.44313725490196076, \"#d2d2ff\"], [0.4470588235294118, \"#d5d5ff\"], [0.45098039215686275, \"#d8d8ff\"], [0.4549019607843137, \"#dbdbff\"], [0.4588235294117647, \"#dedeff\"], [0.4627450980392157, \"#e2e2ff\"], [0.4666666666666667, \"#e5e5ff\"], [0.47058823529411764, \"#e8e8ff\"], [0.4745098039215686, \"#ebebff\"], [0.47843137254901963, \"#eeeeff\"], [0.4823529411764706, \"#f1f1ff\"], [0.48627450980392156, \"#f4f4ff\"], [0.49019607843137253, \"#f7f7ff\"], [0.49411764705882355, \"#fafaff\"], [0.4980392156862745, \"#fdfdff\"], [0.5019607843137255, \"#fffdfd\"], [0.5058823529411764, \"#fffafa\"], [0.5098039215686274, \"#fff7f7\"], [0.5137254901960784, \"#fff4f4\"], [0.5176470588235295, \"#fff1f1\"], [0.5215686274509804, \"#ffeeee\"], [0.5254901960784314, \"#ffebeb\"], [0.5294117647058824, \"#ffe8e8\"], [0.5333333333333333, \"#ffe5e5\"], [0.5372549019607843, \"#ffe2e2\"], [0.5411764705882353, \"#ffdede\"], [0.5450980392156862, \"#ffdbdb\"], [0.5490196078431373, \"#ffd8d8\"], [0.5529411764705883, \"#ffd5d5\"], [0.5568627450980392, \"#ffd2d2\"], [0.5607843137254902, \"#ffcfcf\"], [0.5647058823529412, \"#ffcccc\"], [0.5686274509803921, \"#ffc9c9\"], [0.5725490196078431, \"#ffc6c6\"], [0.5764705882352941, \"#ffc3c3\"], [0.5803921568627451, \"#ffbfbf\"], [0.5843137254901961, \"#ffbcbc\"], [0.5882352941176471, \"#ffb9b9\"], [0.592156862745098, \"#ffb6b6\"], [0.596078431372549, \"#ffb3b3\"], [0.6, \"#ffb0b0\"], [0.6039215686274509, \"#ffacad\"], [0.6078431372549019, \"#ffa7aa\"], [0.611764705882353, \"#ffa3a7\"], [0.615686274509804, \"#ff9fa4\"], [0.6196078431372549, \"#ff9aa1\"], [0.6235294117647059, \"#ff969e\"], [0.6274509803921569, \"#ff929b\"], [0.6313725490196078, \"#ff8e98\"], [0.6352941176470588, \"#ff8995\"], [0.6392156862745098, \"#ff8592\"], [0.6431372549019608, \"#ff818f\"], [0.6470588235294118, \"#ff7c8c\"], [0.6509803921568628, \"#ff7889\"], [0.6549019607843137, \"#ff7486\"], [0.6588235294117647, \"#ff6f83\"], [0.6627450980392157, \"#ff6b80\"], [0.6666666666666666, \"#ff677d\"], [0.6705882352941176, \"#ff637a\"], [0.6745098039215687, \"#ff5e77\"], [0.6784313725490196, \"#ff5a74\"], [0.6823529411764706, \"#ff5671\"], [0.6862745098039216, \"#ff516e\"], [0.6901960784313725, \"#ff4d6b\"], [0.6941176470588235, \"#ff4968\"], [0.6980392156862745, \"#ff4465\"], [0.7019607843137254, \"#ff4163\"], [0.7058823529411765, \"#ff4062\"], [0.7098039215686275, \"#ff3e60\"], [0.7137254901960784, \"#ff3c5f\"], [0.7176470588235294, \"#ff3b5e\"], [0.7215686274509804, \"#ff395c\"], [0.7254901960784313, \"#ff375b\"], [0.7294117647058823, \"#ff365a\"], [0.7333333333333333, \"#ff3458\"], [0.7372549019607844, \"#ff3257\"], [0.7411764705882353, \"#ff3056\"], [0.7450980392156863, \"#ff2f55\"], [0.7490196078431373, \"#ff2d53\"], [0.7529411764705882, \"#ff2b52\"], [0.7568627450980392, \"#ff2a51\"], [0.7607843137254902, \"#ff284f\"], [0.7647058823529411, \"#ff264e\"], [0.7686274509803922, \"#ff254d\"], [0.7725490196078432, \"#ff234b\"], [0.7764705882352941, \"#ff214a\"], [0.7803921568627451, \"#ff1f49\"], [0.7843137254901961, \"#ff1e48\"], [0.788235294117647, \"#ff1c46\"], [0.792156862745098, \"#ff1a45\"], [0.796078431372549, \"#ff1944\"], [0.8, \"#ff1742\"], [0.803921568627451, \"#ff1842\"], [0.807843137254902, \"#ff1842\"], [0.8117647058823529, \"#ff1942\"], [0.8156862745098039, \"#ff1a42\"], [0.8196078431372549, \"#ff1a42\"], [0.8235294117647058, \"#ff1b42\"], [0.8274509803921568, \"#ff1c42\"], [0.8313725490196079, \"#ff1d42\"], [0.8352941176470589, \"#ff1d42\"], [0.8392156862745098, \"#ff1e42\"], [0.8431372549019608, \"#ff1f42\"], [0.8470588235294118, \"#ff1f42\"], [0.8509803921568627, \"#ff2042\"], [0.8549019607843137, \"#ff2142\"], [0.8588235294117647, \"#ff2142\"], [0.8627450980392157, \"#ff2242\"], [0.8666666666666667, \"#ff2342\"], [0.8705882352941177, \"#ff2442\"], [0.8745098039215686, \"#ff2442\"], [0.8784313725490196, \"#ff2542\"], [0.8823529411764706, \"#ff2642\"], [0.8862745098039215, \"#ff2642\"], [0.8901960784313725, \"#ff2742\"], [0.8941176470588236, \"#ff2842\"], [0.8980392156862745, \"#ff2842\"], [0.9019607843137255, \"#ff2942\"], [0.9058823529411765, \"#ff2a42\"], [0.9098039215686274, \"#ff2b42\"], [0.9137254901960784, \"#ff2c42\"], [0.9176470588235294, \"#ff2d42\"], [0.9215686274509803, \"#ff2e42\"], [0.9254901960784314, \"#ff2f42\"], [0.9294117647058824, \"#ff3042\"], [0.9333333333333333, \"#ff3142\"], [0.9372549019607843, \"#ff3242\"], [0.9411764705882353, \"#ff3342\"], [0.9450980392156862, \"#ff3442\"], [0.9490196078431372, \"#ff3542\"], [0.9529411764705882, \"#ff3642\"], [0.9568627450980393, \"#ff3742\"], [0.9607843137254902, \"#ff3842\"], [0.9647058823529412, \"#ff3942\"], [0.9686274509803922, \"#ff3a42\"], [0.9725490196078431, \"#ff3b42\"], [0.9764705882352941, \"#ff3c42\"], [0.9803921568627451, \"#ff3d42\"], [0.984313725490196, \"#ff3e42\"], [0.9882352941176471, \"#ff3f42\"], [0.9921568627450981, \"#ff4042\"], [0.996078431372549, \"#ff4142\"], [1.0, \"#ff4242\"]], \"showscale\": false, \"x\": [\"Column 5\", \"Column 4\", \"Column 2\", \"Column 7\", \"Column 6\", \"Column 1\", \"Column 0\", \"Column 3\"], \"y\": [\"Continuous Index 2\", \"Continuous Index 1\", \"Continuous Index 0\", \"Continuous Index 3\"], \"yaxis\": \"y3\", \"z\": [[0.08648002846205055, 2.3516649229445834, 0.49503881679667483, -0.5844441340146637, -0.45865658138162924, -0.3438390613493145, -0.3538795130080135, -1.192364478449689], [0.6192496216776943, 0.969025142008945, 0.24150441328773883, 0.8669437373619041, -0.27801625125564483, -1.4639083196959344, -1.740621996873205, 0.7858236534885007], [0.3931965577249646, -0.7917574535354329, 2.077619367086736, -0.7977536589844159, 0.45880946003944695, 0.37191571837320575, -0.3810135742402566, -1.3310164164642488], [-0.9843563607501917, 1.1919648273875072, -1.0368296026941224, 0.7175730634395774, 0.26756700062063277, -1.6349471424273745, 0.4379107326940994, 1.0411174817298738]], \"zmax\": 2.3516649229445834, \"zmin\": -1.740621996873205, \"type\": \"heatmap\", \"uid\": \"2b5437a3-514f-49e7-aec0-bedc993c5170\"}, {\"colorscale\": [[0.0, \"#20d9ba\"], [0.1111111111111111, \"#9017e6\"], [0.2222222222222222, \"#ff1968\"], [0.3333333333333333, \"#ffe119\"], [0.4444444444444444, \"#3cb44b\"], [0.5555555555555556, \"#4e41d8\"], [0.6666666666666666, \"#ffa400\"], [0.7777777777777778, \"#aaffc3\"], [0.8888888888888888, \"#800000\"], [1.0, \"#e6beff\"]], \"showscale\": false, \"x\": [\"Column 5\", \"Column 4\", \"Column 2\", \"Column 7\", \"Column 6\", \"Column 1\", \"Column 0\", \"Column 3\"], \"y\": [\"Categorical Index 0\", \"Categorical Index 1\", \"Categorical Index 3\", \"Categorical Index 2\"], \"yaxis\": \"y2\", \"z\": [[6, 7, 7, 9, 2, 9, 4, 4], [8, 3, 4, 5, 1, 9, 3, 2], [8, 3, 0, 9, 3, 4, 0, 4], [6, 4, 1, 5, 2, 3, 8, 7]], \"type\": \"heatmap\", \"uid\": \"d03e4da2-c501-444c-a384-dbc6f52ec4f0\"}, {\"colorscale\": [[0.0, \"#ebf6f7\"], [1.0, \"#171412\"]], \"showscale\": false, \"x\": [\"Column 5\", \"Column 4\", \"Column 2\", \"Column 7\", \"Column 6\", \"Column 1\", \"Column 0\", \"Column 3\"], \"y\": [\"Binary Index 2\", \"Binary Index 3\", \"Binary Index 1\", \"Binary Index 0\"], \"yaxis\": \"y\", \"z\": [[0, 1, 0, 1, 1, 0, 1, 0], [0, 1, 0, 0, 1, 1, 1, 0], [0, 1, 1, 1, 1, 1, 0, 1], [1, 0, 0, 1, 1, 0, 1, 1]], \"type\": \"heatmap\", \"uid\": \"54f4f419-221d-48d9-9d02-7734a8f374ea\"}], {\"annotations\": [{\"font\": {\"size\": 9.6}, \"showarrow\": false, \"text\": \"<b>Continuous</b>\", \"x\": 0.5, \"xanchor\": \"center\", \"xref\": \"paper\", \"y\": 0.90625, \"yanchor\": \"middle\", \"yref\": \"paper\"}, {\"font\": {\"size\": 9.6}, \"showarrow\": false, \"text\": \"<b>Score</b>\", \"width\": 64, \"x\": 1.0016, \"xanchor\": \"left\", \"xref\": \"paper\", \"y\": 0.96875, \"yanchor\": \"middle\", \"yref\": \"paper\"}, {\"font\": {\"size\": 9.6}, \"showarrow\": false, \"text\": \"<b>0.25 \\u00b1 0.30</b>\", \"width\": 64, \"x\": 1.0016, \"xanchor\": \"left\", \"xref\": \"paper\", \"y\": 0.84375, \"yanchor\": \"middle\", \"yref\": \"paper\"}, {\"font\": {\"size\": 9.6}, \"showarrow\": false, \"text\": \"<b>-0.25 \\u00b1 0.11</b>\", \"width\": 64, \"x\": 1.0016, \"xanchor\": \"left\", \"xref\": \"paper\", \"y\": 0.78125, \"yanchor\": \"middle\", \"yref\": \"paper\"}, {\"font\": {\"size\": 9.6}, \"showarrow\": false, \"text\": \"<b>-0.49 \\u00b1 0.14</b>\", \"width\": 64, \"x\": 1.0016, \"xanchor\": \"left\", \"xref\": \"paper\", \"y\": 0.71875, \"yanchor\": \"middle\", \"yref\": \"paper\"}, {\"font\": {\"size\": 9.6}, \"showarrow\": false, \"text\": \"<b>-0.68 \\u00b1 0.05</b>\", \"width\": 64, \"x\": 1.0016, \"xanchor\": \"left\", \"xref\": \"paper\", \"y\": 0.65625, \"yanchor\": \"middle\", \"yref\": \"paper\"}, {\"font\": {\"size\": 9.6}, \"showarrow\": false, \"text\": \"<b>Categorical</b>\", \"x\": 0.5, \"xanchor\": \"center\", \"xref\": \"paper\", \"y\": 0.59375, \"yanchor\": \"middle\", \"yref\": \"paper\"}, {\"font\": {\"size\": 9.6}, \"showarrow\": false, \"text\": \"<b>0.19 \\u00b1 0.41</b>\", \"width\": 64, \"x\": 1.0016, \"xanchor\": \"left\", \"xref\": \"paper\", \"y\": 0.53125, \"yanchor\": \"middle\", \"yref\": \"paper\"}, {\"font\": {\"size\": 9.6}, \"showarrow\": false, \"text\": \"<b>-0.19 \\u00b1 0.60</b>\", \"width\": 64, \"x\": 1.0016, \"xanchor\": \"left\", \"xref\": \"paper\", \"y\": 0.46875, \"yanchor\": \"middle\", \"yref\": \"paper\"}, {\"font\": {\"size\": 9.6}, \"showarrow\": false, \"text\": \"<b>-0.24 \\u00b1 0.33</b>\", \"width\": 64, \"x\": 1.0016, \"xanchor\": \"left\", \"xref\": \"paper\", \"y\": 0.40625, \"yanchor\": \"middle\", \"yref\": \"paper\"}, {\"font\": {\"size\": 9.6}, \"showarrow\": false, \"text\": \"<b>-0.43 \\u00b1 0.19</b>\", \"width\": 64, \"x\": 1.0016, \"xanchor\": \"left\", \"xref\": \"paper\", \"y\": 0.34375, \"yanchor\": \"middle\", \"yref\": \"paper\"}, {\"font\": {\"size\": 9.6}, \"showarrow\": false, \"text\": \"<b>Binary</b>\", \"x\": 0.5, \"xanchor\": \"center\", \"xref\": \"paper\", \"y\": 0.28125, \"yanchor\": \"middle\", \"yref\": \"paper\"}, {\"font\": {\"size\": 9.6}, \"showarrow\": false, \"text\": \"<b>0.30 \\u00b1 0.24</b>\", \"width\": 64, \"x\": 1.0016, \"xanchor\": \"left\", \"xref\": \"paper\", \"y\": 0.21875, \"yanchor\": \"middle\", \"yref\": \"paper\"}, {\"font\": {\"size\": 9.6}, \"showarrow\": false, \"text\": \"<b>0.24 \\u00b1 0.13</b>\", \"width\": 64, \"x\": 1.0016, \"xanchor\": \"left\", \"xref\": \"paper\", \"y\": 0.15625, \"yanchor\": \"middle\", \"yref\": \"paper\"}, {\"font\": {\"size\": 9.6}, \"showarrow\": false, \"text\": \"<b>0.17 \\u00b1 0.48</b>\", \"width\": 64, \"x\": 1.0016, \"xanchor\": \"left\", \"xref\": \"paper\", \"y\": 0.09375, \"yanchor\": \"middle\", \"yref\": \"paper\"}, {\"font\": {\"size\": 9.6}, \"showarrow\": false, \"text\": \"<b>0.10 \\u00b1 0.48</b>\", \"width\": 64, \"x\": 1.0016, \"xanchor\": \"left\", \"xref\": \"paper\", \"y\": 0.03125, \"yanchor\": \"middle\", \"yref\": \"paper\"}], \"height\": 512.0, \"margin\": {\"l\": 196, \"r\": 196}, \"title\": \"Summary Match Panel\", \"width\": 880, \"xaxis\": {\"anchor\": \"y\"}, \"yaxis\": {\"domain\": [0, 0.25], \"dtick\": 1, \"tickfont\": {\"size\": 9.6}}, \"yaxis4\": {\"domain\": [0.9375, 1], \"tickfont\": {\"size\": 9.6}}, \"yaxis3\": {\"domain\": [0.625, 0.875], \"dtick\": 1, \"tickfont\": {\"size\": 9.6}}, \"yaxis2\": {\"domain\": [0.3125, 0.5625], \"dtick\": 1, \"tickfont\": {\"size\": 9.6}}}, {\"showLink\": false, \"linkText\": \"Export to plot.ly\"})});</script>"
      ],
      "text/vnd.plotly.v1+html": [
       "<div id=\"23083c42-61d3-4db0-8907-b78aee06e7e1\" style=\"height: 512.0px; width: 880px;\" class=\"plotly-graph-div\"></div><script type=\"text/javascript\">require([\"plotly\"], function(Plotly) { window.PLOTLYENV=window.PLOTLYENV || {};window.PLOTLYENV.BASE_URL=\"https://plot.ly\";Plotly.newPlot(\"23083c42-61d3-4db0-8907-b78aee06e7e1\", [{\"colorscale\": [[0.0, \"#4242ff\"], [0.00392156862745098, \"#4241ff\"], [0.00784313725490196, \"#4240ff\"], [0.011764705882352941, \"#423fff\"], [0.01568627450980392, \"#423eff\"], [0.0196078431372549, \"#423dff\"], [0.023529411764705882, \"#423cff\"], [0.027450980392156862, \"#423bff\"], [0.03137254901960784, \"#423aff\"], [0.03529411764705882, \"#4239ff\"], [0.0392156862745098, \"#4238ff\"], [0.043137254901960784, \"#4237ff\"], [0.047058823529411764, \"#4236ff\"], [0.050980392156862744, \"#4235ff\"], [0.054901960784313725, \"#4234ff\"], [0.058823529411764705, \"#4233ff\"], [0.06274509803921569, \"#4232ff\"], [0.06666666666666667, \"#4231ff\"], [0.07058823529411765, \"#4230ff\"], [0.07450980392156863, \"#422fff\"], [0.0784313725490196, \"#422eff\"], [0.08235294117647059, \"#422dff\"], [0.08627450980392157, \"#422cff\"], [0.09019607843137255, \"#422bff\"], [0.09411764705882353, \"#422aff\"], [0.09803921568627451, \"#4229ff\"], [0.10196078431372549, \"#4228ff\"], [0.10588235294117647, \"#4228ff\"], [0.10980392156862745, \"#4227ff\"], [0.11372549019607843, \"#4226ff\"], [0.11764705882352941, \"#4226ff\"], [0.12156862745098039, \"#4225ff\"], [0.12549019607843137, \"#4224ff\"], [0.12941176470588237, \"#4224ff\"], [0.13333333333333333, \"#4223ff\"], [0.13725490196078433, \"#4222ff\"], [0.1411764705882353, \"#4221ff\"], [0.1450980392156863, \"#4221ff\"], [0.14901960784313725, \"#4220ff\"], [0.15294117647058825, \"#421fff\"], [0.1568627450980392, \"#421fff\"], [0.1607843137254902, \"#421eff\"], [0.16470588235294117, \"#421dff\"], [0.16862745098039217, \"#421dff\"], [0.17254901960784313, \"#421cff\"], [0.17647058823529413, \"#421bff\"], [0.1803921568627451, \"#421aff\"], [0.1843137254901961, \"#421aff\"], [0.18823529411764706, \"#4219ff\"], [0.19215686274509805, \"#4218ff\"], [0.19607843137254902, \"#4218ff\"], [0.2, \"#4217ff\"], [0.20392156862745098, \"#4419ff\"], [0.20784313725490197, \"#451aff\"], [0.21176470588235294, \"#461cff\"], [0.21568627450980393, \"#481eff\"], [0.2196078431372549, \"#491fff\"], [0.2235294117647059, \"#4a21ff\"], [0.22745098039215686, \"#4b23ff\"], [0.23137254901960785, \"#4d25ff\"], [0.23529411764705882, \"#4e26ff\"], [0.23921568627450981, \"#4f28ff\"], [0.24313725490196078, \"#512aff\"], [0.24705882352941178, \"#522bff\"], [0.25098039215686274, \"#532dff\"], [0.2549019607843137, \"#542fff\"], [0.25882352941176473, \"#5630ff\"], [0.2627450980392157, \"#5732ff\"], [0.26666666666666666, \"#5834ff\"], [0.27058823529411763, \"#5a36ff\"], [0.27450980392156865, \"#5b37ff\"], [0.2784313725490196, \"#5c39ff\"], [0.2823529411764706, \"#5e3bff\"], [0.28627450980392155, \"#5f3cff\"], [0.2901960784313726, \"#603eff\"], [0.29411764705882354, \"#6240ff\"], [0.2980392156862745, \"#6341ff\"], [0.30196078431372547, \"#6544ff\"], [0.3058823529411765, \"#6849ff\"], [0.30980392156862746, \"#6b4dff\"], [0.3137254901960784, \"#6e51ff\"], [0.3176470588235294, \"#7156ff\"], [0.3215686274509804, \"#745aff\"], [0.3254901960784314, \"#775eff\"], [0.32941176470588235, \"#7a63ff\"], [0.3333333333333333, \"#7d67ff\"], [0.33725490196078434, \"#806bff\"], [0.3411764705882353, \"#836fff\"], [0.34509803921568627, \"#8674ff\"], [0.34901960784313724, \"#8978ff\"], [0.35294117647058826, \"#8c7cff\"], [0.3568627450980392, \"#8f81ff\"], [0.3607843137254902, \"#9285ff\"], [0.36470588235294116, \"#9589ff\"], [0.3686274509803922, \"#988eff\"], [0.37254901960784315, \"#9b92ff\"], [0.3764705882352941, \"#9e96ff\"], [0.3803921568627451, \"#a19aff\"], [0.3843137254901961, \"#a49fff\"], [0.38823529411764707, \"#a7a3ff\"], [0.39215686274509803, \"#aaa7ff\"], [0.396078431372549, \"#adacff\"], [0.4, \"#b0b0ff\"], [0.403921568627451, \"#b3b3ff\"], [0.40784313725490196, \"#b6b6ff\"], [0.4117647058823529, \"#b9b9ff\"], [0.41568627450980394, \"#bcbcff\"], [0.4196078431372549, \"#bfbfff\"], [0.4235294117647059, \"#c3c3ff\"], [0.42745098039215684, \"#c6c6ff\"], [0.43137254901960786, \"#c9c9ff\"], [0.43529411764705883, \"#ccccff\"], [0.4392156862745098, \"#cfcfff\"], [0.44313725490196076, \"#d2d2ff\"], [0.4470588235294118, \"#d5d5ff\"], [0.45098039215686275, \"#d8d8ff\"], [0.4549019607843137, \"#dbdbff\"], [0.4588235294117647, \"#dedeff\"], [0.4627450980392157, \"#e2e2ff\"], [0.4666666666666667, \"#e5e5ff\"], [0.47058823529411764, \"#e8e8ff\"], [0.4745098039215686, \"#ebebff\"], [0.47843137254901963, \"#eeeeff\"], [0.4823529411764706, \"#f1f1ff\"], [0.48627450980392156, \"#f4f4ff\"], [0.49019607843137253, \"#f7f7ff\"], [0.49411764705882355, \"#fafaff\"], [0.4980392156862745, \"#fdfdff\"], [0.5019607843137255, \"#fffdfd\"], [0.5058823529411764, \"#fffafa\"], [0.5098039215686274, \"#fff7f7\"], [0.5137254901960784, \"#fff4f4\"], [0.5176470588235295, \"#fff1f1\"], [0.5215686274509804, \"#ffeeee\"], [0.5254901960784314, \"#ffebeb\"], [0.5294117647058824, \"#ffe8e8\"], [0.5333333333333333, \"#ffe5e5\"], [0.5372549019607843, \"#ffe2e2\"], [0.5411764705882353, \"#ffdede\"], [0.5450980392156862, \"#ffdbdb\"], [0.5490196078431373, \"#ffd8d8\"], [0.5529411764705883, \"#ffd5d5\"], [0.5568627450980392, \"#ffd2d2\"], [0.5607843137254902, \"#ffcfcf\"], [0.5647058823529412, \"#ffcccc\"], [0.5686274509803921, \"#ffc9c9\"], [0.5725490196078431, \"#ffc6c6\"], [0.5764705882352941, \"#ffc3c3\"], [0.5803921568627451, \"#ffbfbf\"], [0.5843137254901961, \"#ffbcbc\"], [0.5882352941176471, \"#ffb9b9\"], [0.592156862745098, \"#ffb6b6\"], [0.596078431372549, \"#ffb3b3\"], [0.6, \"#ffb0b0\"], [0.6039215686274509, \"#ffacad\"], [0.6078431372549019, \"#ffa7aa\"], [0.611764705882353, \"#ffa3a7\"], [0.615686274509804, \"#ff9fa4\"], [0.6196078431372549, \"#ff9aa1\"], [0.6235294117647059, \"#ff969e\"], [0.6274509803921569, \"#ff929b\"], [0.6313725490196078, \"#ff8e98\"], [0.6352941176470588, \"#ff8995\"], [0.6392156862745098, \"#ff8592\"], [0.6431372549019608, \"#ff818f\"], [0.6470588235294118, \"#ff7c8c\"], [0.6509803921568628, \"#ff7889\"], [0.6549019607843137, \"#ff7486\"], [0.6588235294117647, \"#ff6f83\"], [0.6627450980392157, \"#ff6b80\"], [0.6666666666666666, \"#ff677d\"], [0.6705882352941176, \"#ff637a\"], [0.6745098039215687, \"#ff5e77\"], [0.6784313725490196, \"#ff5a74\"], [0.6823529411764706, \"#ff5671\"], [0.6862745098039216, \"#ff516e\"], [0.6901960784313725, \"#ff4d6b\"], [0.6941176470588235, \"#ff4968\"], [0.6980392156862745, \"#ff4465\"], [0.7019607843137254, \"#ff4163\"], [0.7058823529411765, \"#ff4062\"], [0.7098039215686275, \"#ff3e60\"], [0.7137254901960784, \"#ff3c5f\"], [0.7176470588235294, \"#ff3b5e\"], [0.7215686274509804, \"#ff395c\"], [0.7254901960784313, \"#ff375b\"], [0.7294117647058823, \"#ff365a\"], [0.7333333333333333, \"#ff3458\"], [0.7372549019607844, \"#ff3257\"], [0.7411764705882353, \"#ff3056\"], [0.7450980392156863, \"#ff2f55\"], [0.7490196078431373, \"#ff2d53\"], [0.7529411764705882, \"#ff2b52\"], [0.7568627450980392, \"#ff2a51\"], [0.7607843137254902, \"#ff284f\"], [0.7647058823529411, \"#ff264e\"], [0.7686274509803922, \"#ff254d\"], [0.7725490196078432, \"#ff234b\"], [0.7764705882352941, \"#ff214a\"], [0.7803921568627451, \"#ff1f49\"], [0.7843137254901961, \"#ff1e48\"], [0.788235294117647, \"#ff1c46\"], [0.792156862745098, \"#ff1a45\"], [0.796078431372549, \"#ff1944\"], [0.8, \"#ff1742\"], [0.803921568627451, \"#ff1842\"], [0.807843137254902, \"#ff1842\"], [0.8117647058823529, \"#ff1942\"], [0.8156862745098039, \"#ff1a42\"], [0.8196078431372549, \"#ff1a42\"], [0.8235294117647058, \"#ff1b42\"], [0.8274509803921568, \"#ff1c42\"], [0.8313725490196079, \"#ff1d42\"], [0.8352941176470589, \"#ff1d42\"], [0.8392156862745098, \"#ff1e42\"], [0.8431372549019608, \"#ff1f42\"], [0.8470588235294118, \"#ff1f42\"], [0.8509803921568627, \"#ff2042\"], [0.8549019607843137, \"#ff2142\"], [0.8588235294117647, \"#ff2142\"], [0.8627450980392157, \"#ff2242\"], [0.8666666666666667, \"#ff2342\"], [0.8705882352941177, \"#ff2442\"], [0.8745098039215686, \"#ff2442\"], [0.8784313725490196, \"#ff2542\"], [0.8823529411764706, \"#ff2642\"], [0.8862745098039215, \"#ff2642\"], [0.8901960784313725, \"#ff2742\"], [0.8941176470588236, \"#ff2842\"], [0.8980392156862745, \"#ff2842\"], [0.9019607843137255, \"#ff2942\"], [0.9058823529411765, \"#ff2a42\"], [0.9098039215686274, \"#ff2b42\"], [0.9137254901960784, \"#ff2c42\"], [0.9176470588235294, \"#ff2d42\"], [0.9215686274509803, \"#ff2e42\"], [0.9254901960784314, \"#ff2f42\"], [0.9294117647058824, \"#ff3042\"], [0.9333333333333333, \"#ff3142\"], [0.9372549019607843, \"#ff3242\"], [0.9411764705882353, \"#ff3342\"], [0.9450980392156862, \"#ff3442\"], [0.9490196078431372, \"#ff3542\"], [0.9529411764705882, \"#ff3642\"], [0.9568627450980393, \"#ff3742\"], [0.9607843137254902, \"#ff3842\"], [0.9647058823529412, \"#ff3942\"], [0.9686274509803922, \"#ff3a42\"], [0.9725490196078431, \"#ff3b42\"], [0.9764705882352941, \"#ff3c42\"], [0.9803921568627451, \"#ff3d42\"], [0.984313725490196, \"#ff3e42\"], [0.9882352941176471, \"#ff3f42\"], [0.9921568627450981, \"#ff4042\"], [0.996078431372549, \"#ff4142\"], [1.0, \"#ff4242\"]], \"showscale\": false, \"text\": [[\"Column 5\", \"Column 4\", \"Column 2\", \"Column 7\", \"Column 6\", \"Column 1\", \"Column 0\", \"Column 3\"]], \"x\": [\"Column 5\", \"Column 4\", \"Column 2\", \"Column 7\", \"Column 6\", \"Column 1\", \"Column 0\", \"Column 3\"], \"y\": [\"Target\"], \"yaxis\": \"y4\", \"z\": [[-1.836649516477367, -1.1297551111687338, -0.5956325385270926, 0.22770889709294234, 0.5741421266346989, 0.7109283174410879, 0.9577132609070443, 1.09154456409742]], \"zmax\": 1.09154456409742, \"zmin\": -1.836649516477367, \"type\": \"heatmap\", \"uid\": \"f6800e5a-ebad-45ed-81b9-74ef1f3af3ad\"}, {\"colorscale\": [[0.0, \"#4242ff\"], [0.00392156862745098, \"#4241ff\"], [0.00784313725490196, \"#4240ff\"], [0.011764705882352941, \"#423fff\"], [0.01568627450980392, \"#423eff\"], [0.0196078431372549, \"#423dff\"], [0.023529411764705882, \"#423cff\"], [0.027450980392156862, \"#423bff\"], [0.03137254901960784, \"#423aff\"], [0.03529411764705882, \"#4239ff\"], [0.0392156862745098, \"#4238ff\"], [0.043137254901960784, \"#4237ff\"], [0.047058823529411764, \"#4236ff\"], [0.050980392156862744, \"#4235ff\"], [0.054901960784313725, \"#4234ff\"], [0.058823529411764705, \"#4233ff\"], [0.06274509803921569, \"#4232ff\"], [0.06666666666666667, \"#4231ff\"], [0.07058823529411765, \"#4230ff\"], [0.07450980392156863, \"#422fff\"], [0.0784313725490196, \"#422eff\"], [0.08235294117647059, \"#422dff\"], [0.08627450980392157, \"#422cff\"], [0.09019607843137255, \"#422bff\"], [0.09411764705882353, \"#422aff\"], [0.09803921568627451, \"#4229ff\"], [0.10196078431372549, \"#4228ff\"], [0.10588235294117647, \"#4228ff\"], [0.10980392156862745, \"#4227ff\"], [0.11372549019607843, \"#4226ff\"], [0.11764705882352941, \"#4226ff\"], [0.12156862745098039, \"#4225ff\"], [0.12549019607843137, \"#4224ff\"], [0.12941176470588237, \"#4224ff\"], [0.13333333333333333, \"#4223ff\"], [0.13725490196078433, \"#4222ff\"], [0.1411764705882353, \"#4221ff\"], [0.1450980392156863, \"#4221ff\"], [0.14901960784313725, \"#4220ff\"], [0.15294117647058825, \"#421fff\"], [0.1568627450980392, \"#421fff\"], [0.1607843137254902, \"#421eff\"], [0.16470588235294117, \"#421dff\"], [0.16862745098039217, \"#421dff\"], [0.17254901960784313, \"#421cff\"], [0.17647058823529413, \"#421bff\"], [0.1803921568627451, \"#421aff\"], [0.1843137254901961, \"#421aff\"], [0.18823529411764706, \"#4219ff\"], [0.19215686274509805, \"#4218ff\"], [0.19607843137254902, \"#4218ff\"], [0.2, \"#4217ff\"], [0.20392156862745098, \"#4419ff\"], [0.20784313725490197, \"#451aff\"], [0.21176470588235294, \"#461cff\"], [0.21568627450980393, \"#481eff\"], [0.2196078431372549, \"#491fff\"], [0.2235294117647059, \"#4a21ff\"], [0.22745098039215686, \"#4b23ff\"], [0.23137254901960785, \"#4d25ff\"], [0.23529411764705882, \"#4e26ff\"], [0.23921568627450981, \"#4f28ff\"], [0.24313725490196078, \"#512aff\"], [0.24705882352941178, \"#522bff\"], [0.25098039215686274, \"#532dff\"], [0.2549019607843137, \"#542fff\"], [0.25882352941176473, \"#5630ff\"], [0.2627450980392157, \"#5732ff\"], [0.26666666666666666, \"#5834ff\"], [0.27058823529411763, \"#5a36ff\"], [0.27450980392156865, \"#5b37ff\"], [0.2784313725490196, \"#5c39ff\"], [0.2823529411764706, \"#5e3bff\"], [0.28627450980392155, \"#5f3cff\"], [0.2901960784313726, \"#603eff\"], [0.29411764705882354, \"#6240ff\"], [0.2980392156862745, \"#6341ff\"], [0.30196078431372547, \"#6544ff\"], [0.3058823529411765, \"#6849ff\"], [0.30980392156862746, \"#6b4dff\"], [0.3137254901960784, \"#6e51ff\"], [0.3176470588235294, \"#7156ff\"], [0.3215686274509804, \"#745aff\"], [0.3254901960784314, \"#775eff\"], [0.32941176470588235, \"#7a63ff\"], [0.3333333333333333, \"#7d67ff\"], [0.33725490196078434, \"#806bff\"], [0.3411764705882353, \"#836fff\"], [0.34509803921568627, \"#8674ff\"], [0.34901960784313724, \"#8978ff\"], [0.35294117647058826, \"#8c7cff\"], [0.3568627450980392, \"#8f81ff\"], [0.3607843137254902, \"#9285ff\"], [0.36470588235294116, \"#9589ff\"], [0.3686274509803922, \"#988eff\"], [0.37254901960784315, \"#9b92ff\"], [0.3764705882352941, \"#9e96ff\"], [0.3803921568627451, \"#a19aff\"], [0.3843137254901961, \"#a49fff\"], [0.38823529411764707, \"#a7a3ff\"], [0.39215686274509803, \"#aaa7ff\"], [0.396078431372549, \"#adacff\"], [0.4, \"#b0b0ff\"], [0.403921568627451, \"#b3b3ff\"], [0.40784313725490196, \"#b6b6ff\"], [0.4117647058823529, \"#b9b9ff\"], [0.41568627450980394, \"#bcbcff\"], [0.4196078431372549, \"#bfbfff\"], [0.4235294117647059, \"#c3c3ff\"], [0.42745098039215684, \"#c6c6ff\"], [0.43137254901960786, \"#c9c9ff\"], [0.43529411764705883, \"#ccccff\"], [0.4392156862745098, \"#cfcfff\"], [0.44313725490196076, \"#d2d2ff\"], [0.4470588235294118, \"#d5d5ff\"], [0.45098039215686275, \"#d8d8ff\"], [0.4549019607843137, \"#dbdbff\"], [0.4588235294117647, \"#dedeff\"], [0.4627450980392157, \"#e2e2ff\"], [0.4666666666666667, \"#e5e5ff\"], [0.47058823529411764, \"#e8e8ff\"], [0.4745098039215686, \"#ebebff\"], [0.47843137254901963, \"#eeeeff\"], [0.4823529411764706, \"#f1f1ff\"], [0.48627450980392156, \"#f4f4ff\"], [0.49019607843137253, \"#f7f7ff\"], [0.49411764705882355, \"#fafaff\"], [0.4980392156862745, \"#fdfdff\"], [0.5019607843137255, \"#fffdfd\"], [0.5058823529411764, \"#fffafa\"], [0.5098039215686274, \"#fff7f7\"], [0.5137254901960784, \"#fff4f4\"], [0.5176470588235295, \"#fff1f1\"], [0.5215686274509804, \"#ffeeee\"], [0.5254901960784314, \"#ffebeb\"], [0.5294117647058824, \"#ffe8e8\"], [0.5333333333333333, \"#ffe5e5\"], [0.5372549019607843, \"#ffe2e2\"], [0.5411764705882353, \"#ffdede\"], [0.5450980392156862, \"#ffdbdb\"], [0.5490196078431373, \"#ffd8d8\"], [0.5529411764705883, \"#ffd5d5\"], [0.5568627450980392, \"#ffd2d2\"], [0.5607843137254902, \"#ffcfcf\"], [0.5647058823529412, \"#ffcccc\"], [0.5686274509803921, \"#ffc9c9\"], [0.5725490196078431, \"#ffc6c6\"], [0.5764705882352941, \"#ffc3c3\"], [0.5803921568627451, \"#ffbfbf\"], [0.5843137254901961, \"#ffbcbc\"], [0.5882352941176471, \"#ffb9b9\"], [0.592156862745098, \"#ffb6b6\"], [0.596078431372549, \"#ffb3b3\"], [0.6, \"#ffb0b0\"], [0.6039215686274509, \"#ffacad\"], [0.6078431372549019, \"#ffa7aa\"], [0.611764705882353, \"#ffa3a7\"], [0.615686274509804, \"#ff9fa4\"], [0.6196078431372549, \"#ff9aa1\"], [0.6235294117647059, \"#ff969e\"], [0.6274509803921569, \"#ff929b\"], [0.6313725490196078, \"#ff8e98\"], [0.6352941176470588, \"#ff8995\"], [0.6392156862745098, \"#ff8592\"], [0.6431372549019608, \"#ff818f\"], [0.6470588235294118, \"#ff7c8c\"], [0.6509803921568628, \"#ff7889\"], [0.6549019607843137, \"#ff7486\"], [0.6588235294117647, \"#ff6f83\"], [0.6627450980392157, \"#ff6b80\"], [0.6666666666666666, \"#ff677d\"], [0.6705882352941176, \"#ff637a\"], [0.6745098039215687, \"#ff5e77\"], [0.6784313725490196, \"#ff5a74\"], [0.6823529411764706, \"#ff5671\"], [0.6862745098039216, \"#ff516e\"], [0.6901960784313725, \"#ff4d6b\"], [0.6941176470588235, \"#ff4968\"], [0.6980392156862745, \"#ff4465\"], [0.7019607843137254, \"#ff4163\"], [0.7058823529411765, \"#ff4062\"], [0.7098039215686275, \"#ff3e60\"], [0.7137254901960784, \"#ff3c5f\"], [0.7176470588235294, \"#ff3b5e\"], [0.7215686274509804, \"#ff395c\"], [0.7254901960784313, \"#ff375b\"], [0.7294117647058823, \"#ff365a\"], [0.7333333333333333, \"#ff3458\"], [0.7372549019607844, \"#ff3257\"], [0.7411764705882353, \"#ff3056\"], [0.7450980392156863, \"#ff2f55\"], [0.7490196078431373, \"#ff2d53\"], [0.7529411764705882, \"#ff2b52\"], [0.7568627450980392, \"#ff2a51\"], [0.7607843137254902, \"#ff284f\"], [0.7647058823529411, \"#ff264e\"], [0.7686274509803922, \"#ff254d\"], [0.7725490196078432, \"#ff234b\"], [0.7764705882352941, \"#ff214a\"], [0.7803921568627451, \"#ff1f49\"], [0.7843137254901961, \"#ff1e48\"], [0.788235294117647, \"#ff1c46\"], [0.792156862745098, \"#ff1a45\"], [0.796078431372549, \"#ff1944\"], [0.8, \"#ff1742\"], [0.803921568627451, \"#ff1842\"], [0.807843137254902, \"#ff1842\"], [0.8117647058823529, \"#ff1942\"], [0.8156862745098039, \"#ff1a42\"], [0.8196078431372549, \"#ff1a42\"], [0.8235294117647058, \"#ff1b42\"], [0.8274509803921568, \"#ff1c42\"], [0.8313725490196079, \"#ff1d42\"], [0.8352941176470589, \"#ff1d42\"], [0.8392156862745098, \"#ff1e42\"], [0.8431372549019608, \"#ff1f42\"], [0.8470588235294118, \"#ff1f42\"], [0.8509803921568627, \"#ff2042\"], [0.8549019607843137, \"#ff2142\"], [0.8588235294117647, \"#ff2142\"], [0.8627450980392157, \"#ff2242\"], [0.8666666666666667, \"#ff2342\"], [0.8705882352941177, \"#ff2442\"], [0.8745098039215686, \"#ff2442\"], [0.8784313725490196, \"#ff2542\"], [0.8823529411764706, \"#ff2642\"], [0.8862745098039215, \"#ff2642\"], [0.8901960784313725, \"#ff2742\"], [0.8941176470588236, \"#ff2842\"], [0.8980392156862745, \"#ff2842\"], [0.9019607843137255, \"#ff2942\"], [0.9058823529411765, \"#ff2a42\"], [0.9098039215686274, \"#ff2b42\"], [0.9137254901960784, \"#ff2c42\"], [0.9176470588235294, \"#ff2d42\"], [0.9215686274509803, \"#ff2e42\"], [0.9254901960784314, \"#ff2f42\"], [0.9294117647058824, \"#ff3042\"], [0.9333333333333333, \"#ff3142\"], [0.9372549019607843, \"#ff3242\"], [0.9411764705882353, \"#ff3342\"], [0.9450980392156862, \"#ff3442\"], [0.9490196078431372, \"#ff3542\"], [0.9529411764705882, \"#ff3642\"], [0.9568627450980393, \"#ff3742\"], [0.9607843137254902, \"#ff3842\"], [0.9647058823529412, \"#ff3942\"], [0.9686274509803922, \"#ff3a42\"], [0.9725490196078431, \"#ff3b42\"], [0.9764705882352941, \"#ff3c42\"], [0.9803921568627451, \"#ff3d42\"], [0.984313725490196, \"#ff3e42\"], [0.9882352941176471, \"#ff3f42\"], [0.9921568627450981, \"#ff4042\"], [0.996078431372549, \"#ff4142\"], [1.0, \"#ff4242\"]], \"showscale\": false, \"x\": [\"Column 5\", \"Column 4\", \"Column 2\", \"Column 7\", \"Column 6\", \"Column 1\", \"Column 0\", \"Column 3\"], \"y\": [\"Continuous Index 2\", \"Continuous Index 1\", \"Continuous Index 0\", \"Continuous Index 3\"], \"yaxis\": \"y3\", \"z\": [[0.08648002846205055, 2.3516649229445834, 0.49503881679667483, -0.5844441340146637, -0.45865658138162924, -0.3438390613493145, -0.3538795130080135, -1.192364478449689], [0.6192496216776943, 0.969025142008945, 0.24150441328773883, 0.8669437373619041, -0.27801625125564483, -1.4639083196959344, -1.740621996873205, 0.7858236534885007], [0.3931965577249646, -0.7917574535354329, 2.077619367086736, -0.7977536589844159, 0.45880946003944695, 0.37191571837320575, -0.3810135742402566, -1.3310164164642488], [-0.9843563607501917, 1.1919648273875072, -1.0368296026941224, 0.7175730634395774, 0.26756700062063277, -1.6349471424273745, 0.4379107326940994, 1.0411174817298738]], \"zmax\": 2.3516649229445834, \"zmin\": -1.740621996873205, \"type\": \"heatmap\", \"uid\": \"2b5437a3-514f-49e7-aec0-bedc993c5170\"}, {\"colorscale\": [[0.0, \"#20d9ba\"], [0.1111111111111111, \"#9017e6\"], [0.2222222222222222, \"#ff1968\"], [0.3333333333333333, \"#ffe119\"], [0.4444444444444444, \"#3cb44b\"], [0.5555555555555556, \"#4e41d8\"], [0.6666666666666666, \"#ffa400\"], [0.7777777777777778, \"#aaffc3\"], [0.8888888888888888, \"#800000\"], [1.0, \"#e6beff\"]], \"showscale\": false, \"x\": [\"Column 5\", \"Column 4\", \"Column 2\", \"Column 7\", \"Column 6\", \"Column 1\", \"Column 0\", \"Column 3\"], \"y\": [\"Categorical Index 0\", \"Categorical Index 1\", \"Categorical Index 3\", \"Categorical Index 2\"], \"yaxis\": \"y2\", \"z\": [[6, 7, 7, 9, 2, 9, 4, 4], [8, 3, 4, 5, 1, 9, 3, 2], [8, 3, 0, 9, 3, 4, 0, 4], [6, 4, 1, 5, 2, 3, 8, 7]], \"type\": \"heatmap\", \"uid\": \"d03e4da2-c501-444c-a384-dbc6f52ec4f0\"}, {\"colorscale\": [[0.0, \"#ebf6f7\"], [1.0, \"#171412\"]], \"showscale\": false, \"x\": [\"Column 5\", \"Column 4\", \"Column 2\", \"Column 7\", \"Column 6\", \"Column 1\", \"Column 0\", \"Column 3\"], \"y\": [\"Binary Index 2\", \"Binary Index 3\", \"Binary Index 1\", \"Binary Index 0\"], \"yaxis\": \"y\", \"z\": [[0, 1, 0, 1, 1, 0, 1, 0], [0, 1, 0, 0, 1, 1, 1, 0], [0, 1, 1, 1, 1, 1, 0, 1], [1, 0, 0, 1, 1, 0, 1, 1]], \"type\": \"heatmap\", \"uid\": \"54f4f419-221d-48d9-9d02-7734a8f374ea\"}], {\"annotations\": [{\"font\": {\"size\": 9.6}, \"showarrow\": false, \"text\": \"<b>Continuous</b>\", \"x\": 0.5, \"xanchor\": \"center\", \"xref\": \"paper\", \"y\": 0.90625, \"yanchor\": \"middle\", \"yref\": \"paper\"}, {\"font\": {\"size\": 9.6}, \"showarrow\": false, \"text\": \"<b>Score</b>\", \"width\": 64, \"x\": 1.0016, \"xanchor\": \"left\", \"xref\": \"paper\", \"y\": 0.96875, \"yanchor\": \"middle\", \"yref\": \"paper\"}, {\"font\": {\"size\": 9.6}, \"showarrow\": false, \"text\": \"<b>0.25 \\u00b1 0.30</b>\", \"width\": 64, \"x\": 1.0016, \"xanchor\": \"left\", \"xref\": \"paper\", \"y\": 0.84375, \"yanchor\": \"middle\", \"yref\": \"paper\"}, {\"font\": {\"size\": 9.6}, \"showarrow\": false, \"text\": \"<b>-0.25 \\u00b1 0.11</b>\", \"width\": 64, \"x\": 1.0016, \"xanchor\": \"left\", \"xref\": \"paper\", \"y\": 0.78125, \"yanchor\": \"middle\", \"yref\": \"paper\"}, {\"font\": {\"size\": 9.6}, \"showarrow\": false, \"text\": \"<b>-0.49 \\u00b1 0.14</b>\", \"width\": 64, \"x\": 1.0016, \"xanchor\": \"left\", \"xref\": \"paper\", \"y\": 0.71875, \"yanchor\": \"middle\", \"yref\": \"paper\"}, {\"font\": {\"size\": 9.6}, \"showarrow\": false, \"text\": \"<b>-0.68 \\u00b1 0.05</b>\", \"width\": 64, \"x\": 1.0016, \"xanchor\": \"left\", \"xref\": \"paper\", \"y\": 0.65625, \"yanchor\": \"middle\", \"yref\": \"paper\"}, {\"font\": {\"size\": 9.6}, \"showarrow\": false, \"text\": \"<b>Categorical</b>\", \"x\": 0.5, \"xanchor\": \"center\", \"xref\": \"paper\", \"y\": 0.59375, \"yanchor\": \"middle\", \"yref\": \"paper\"}, {\"font\": {\"size\": 9.6}, \"showarrow\": false, \"text\": \"<b>0.19 \\u00b1 0.41</b>\", \"width\": 64, \"x\": 1.0016, \"xanchor\": \"left\", \"xref\": \"paper\", \"y\": 0.53125, \"yanchor\": \"middle\", \"yref\": \"paper\"}, {\"font\": {\"size\": 9.6}, \"showarrow\": false, \"text\": \"<b>-0.19 \\u00b1 0.60</b>\", \"width\": 64, \"x\": 1.0016, \"xanchor\": \"left\", \"xref\": \"paper\", \"y\": 0.46875, \"yanchor\": \"middle\", \"yref\": \"paper\"}, {\"font\": {\"size\": 9.6}, \"showarrow\": false, \"text\": \"<b>-0.24 \\u00b1 0.33</b>\", \"width\": 64, \"x\": 1.0016, \"xanchor\": \"left\", \"xref\": \"paper\", \"y\": 0.40625, \"yanchor\": \"middle\", \"yref\": \"paper\"}, {\"font\": {\"size\": 9.6}, \"showarrow\": false, \"text\": \"<b>-0.43 \\u00b1 0.19</b>\", \"width\": 64, \"x\": 1.0016, \"xanchor\": \"left\", \"xref\": \"paper\", \"y\": 0.34375, \"yanchor\": \"middle\", \"yref\": \"paper\"}, {\"font\": {\"size\": 9.6}, \"showarrow\": false, \"text\": \"<b>Binary</b>\", \"x\": 0.5, \"xanchor\": \"center\", \"xref\": \"paper\", \"y\": 0.28125, \"yanchor\": \"middle\", \"yref\": \"paper\"}, {\"font\": {\"size\": 9.6}, \"showarrow\": false, \"text\": \"<b>0.30 \\u00b1 0.24</b>\", \"width\": 64, \"x\": 1.0016, \"xanchor\": \"left\", \"xref\": \"paper\", \"y\": 0.21875, \"yanchor\": \"middle\", \"yref\": \"paper\"}, {\"font\": {\"size\": 9.6}, \"showarrow\": false, \"text\": \"<b>0.24 \\u00b1 0.13</b>\", \"width\": 64, \"x\": 1.0016, \"xanchor\": \"left\", \"xref\": \"paper\", \"y\": 0.15625, \"yanchor\": \"middle\", \"yref\": \"paper\"}, {\"font\": {\"size\": 9.6}, \"showarrow\": false, \"text\": \"<b>0.17 \\u00b1 0.48</b>\", \"width\": 64, \"x\": 1.0016, \"xanchor\": \"left\", \"xref\": \"paper\", \"y\": 0.09375, \"yanchor\": \"middle\", \"yref\": \"paper\"}, {\"font\": {\"size\": 9.6}, \"showarrow\": false, \"text\": \"<b>0.10 \\u00b1 0.48</b>\", \"width\": 64, \"x\": 1.0016, \"xanchor\": \"left\", \"xref\": \"paper\", \"y\": 0.03125, \"yanchor\": \"middle\", \"yref\": \"paper\"}], \"height\": 512.0, \"margin\": {\"l\": 196, \"r\": 196}, \"title\": \"Summary Match Panel\", \"width\": 880, \"xaxis\": {\"anchor\": \"y\"}, \"yaxis\": {\"domain\": [0, 0.25], \"dtick\": 1, \"tickfont\": {\"size\": 9.6}}, \"yaxis4\": {\"domain\": [0.9375, 1], \"tickfont\": {\"size\": 9.6}}, \"yaxis3\": {\"domain\": [0.625, 0.875], \"dtick\": 1, \"tickfont\": {\"size\": 9.6}}, \"yaxis2\": {\"domain\": [0.3125, 0.5625], \"dtick\": 1, \"tickfont\": {\"size\": 9.6}}}, {\"showLink\": false, \"linkText\": \"Export to plot.ly\"})});</script>"
      ]
     },
     "metadata": {},
     "output_type": "display_data"
    },
    {
     "name": "stdout",
     "output_type": "stream",
     "text": [
      "Making match panel for Continuous ...\n",
      "Making match panel for Categorical ...\n",
      "Making match panel for Binary ...\n"
     ]
    },
    {
     "data": {
      "application/vnd.plotly.v1+json": {
       "data": [
        {
         "colorscale": [
          [
           0,
           "#4242ff"
          ],
          [
           0.00392156862745098,
           "#4241ff"
          ],
          [
           0.00784313725490196,
           "#4240ff"
          ],
          [
           0.011764705882352941,
           "#423fff"
          ],
          [
           0.01568627450980392,
           "#423eff"
          ],
          [
           0.0196078431372549,
           "#423dff"
          ],
          [
           0.023529411764705882,
           "#423cff"
          ],
          [
           0.027450980392156862,
           "#423bff"
          ],
          [
           0.03137254901960784,
           "#423aff"
          ],
          [
           0.03529411764705882,
           "#4239ff"
          ],
          [
           0.0392156862745098,
           "#4238ff"
          ],
          [
           0.043137254901960784,
           "#4237ff"
          ],
          [
           0.047058823529411764,
           "#4236ff"
          ],
          [
           0.050980392156862744,
           "#4235ff"
          ],
          [
           0.054901960784313725,
           "#4234ff"
          ],
          [
           0.058823529411764705,
           "#4233ff"
          ],
          [
           0.06274509803921569,
           "#4232ff"
          ],
          [
           0.06666666666666667,
           "#4231ff"
          ],
          [
           0.07058823529411765,
           "#4230ff"
          ],
          [
           0.07450980392156863,
           "#422fff"
          ],
          [
           0.0784313725490196,
           "#422eff"
          ],
          [
           0.08235294117647059,
           "#422dff"
          ],
          [
           0.08627450980392157,
           "#422cff"
          ],
          [
           0.09019607843137255,
           "#422bff"
          ],
          [
           0.09411764705882353,
           "#422aff"
          ],
          [
           0.09803921568627451,
           "#4229ff"
          ],
          [
           0.10196078431372549,
           "#4228ff"
          ],
          [
           0.10588235294117647,
           "#4228ff"
          ],
          [
           0.10980392156862745,
           "#4227ff"
          ],
          [
           0.11372549019607843,
           "#4226ff"
          ],
          [
           0.11764705882352941,
           "#4226ff"
          ],
          [
           0.12156862745098039,
           "#4225ff"
          ],
          [
           0.12549019607843137,
           "#4224ff"
          ],
          [
           0.12941176470588237,
           "#4224ff"
          ],
          [
           0.13333333333333333,
           "#4223ff"
          ],
          [
           0.13725490196078433,
           "#4222ff"
          ],
          [
           0.1411764705882353,
           "#4221ff"
          ],
          [
           0.1450980392156863,
           "#4221ff"
          ],
          [
           0.14901960784313725,
           "#4220ff"
          ],
          [
           0.15294117647058825,
           "#421fff"
          ],
          [
           0.1568627450980392,
           "#421fff"
          ],
          [
           0.1607843137254902,
           "#421eff"
          ],
          [
           0.16470588235294117,
           "#421dff"
          ],
          [
           0.16862745098039217,
           "#421dff"
          ],
          [
           0.17254901960784313,
           "#421cff"
          ],
          [
           0.17647058823529413,
           "#421bff"
          ],
          [
           0.1803921568627451,
           "#421aff"
          ],
          [
           0.1843137254901961,
           "#421aff"
          ],
          [
           0.18823529411764706,
           "#4219ff"
          ],
          [
           0.19215686274509805,
           "#4218ff"
          ],
          [
           0.19607843137254902,
           "#4218ff"
          ],
          [
           0.2,
           "#4217ff"
          ],
          [
           0.20392156862745098,
           "#4419ff"
          ],
          [
           0.20784313725490197,
           "#451aff"
          ],
          [
           0.21176470588235294,
           "#461cff"
          ],
          [
           0.21568627450980393,
           "#481eff"
          ],
          [
           0.2196078431372549,
           "#491fff"
          ],
          [
           0.2235294117647059,
           "#4a21ff"
          ],
          [
           0.22745098039215686,
           "#4b23ff"
          ],
          [
           0.23137254901960785,
           "#4d25ff"
          ],
          [
           0.23529411764705882,
           "#4e26ff"
          ],
          [
           0.23921568627450981,
           "#4f28ff"
          ],
          [
           0.24313725490196078,
           "#512aff"
          ],
          [
           0.24705882352941178,
           "#522bff"
          ],
          [
           0.25098039215686274,
           "#532dff"
          ],
          [
           0.2549019607843137,
           "#542fff"
          ],
          [
           0.25882352941176473,
           "#5630ff"
          ],
          [
           0.2627450980392157,
           "#5732ff"
          ],
          [
           0.26666666666666666,
           "#5834ff"
          ],
          [
           0.27058823529411763,
           "#5a36ff"
          ],
          [
           0.27450980392156865,
           "#5b37ff"
          ],
          [
           0.2784313725490196,
           "#5c39ff"
          ],
          [
           0.2823529411764706,
           "#5e3bff"
          ],
          [
           0.28627450980392155,
           "#5f3cff"
          ],
          [
           0.2901960784313726,
           "#603eff"
          ],
          [
           0.29411764705882354,
           "#6240ff"
          ],
          [
           0.2980392156862745,
           "#6341ff"
          ],
          [
           0.30196078431372547,
           "#6544ff"
          ],
          [
           0.3058823529411765,
           "#6849ff"
          ],
          [
           0.30980392156862746,
           "#6b4dff"
          ],
          [
           0.3137254901960784,
           "#6e51ff"
          ],
          [
           0.3176470588235294,
           "#7156ff"
          ],
          [
           0.3215686274509804,
           "#745aff"
          ],
          [
           0.3254901960784314,
           "#775eff"
          ],
          [
           0.32941176470588235,
           "#7a63ff"
          ],
          [
           0.3333333333333333,
           "#7d67ff"
          ],
          [
           0.33725490196078434,
           "#806bff"
          ],
          [
           0.3411764705882353,
           "#836fff"
          ],
          [
           0.34509803921568627,
           "#8674ff"
          ],
          [
           0.34901960784313724,
           "#8978ff"
          ],
          [
           0.35294117647058826,
           "#8c7cff"
          ],
          [
           0.3568627450980392,
           "#8f81ff"
          ],
          [
           0.3607843137254902,
           "#9285ff"
          ],
          [
           0.36470588235294116,
           "#9589ff"
          ],
          [
           0.3686274509803922,
           "#988eff"
          ],
          [
           0.37254901960784315,
           "#9b92ff"
          ],
          [
           0.3764705882352941,
           "#9e96ff"
          ],
          [
           0.3803921568627451,
           "#a19aff"
          ],
          [
           0.3843137254901961,
           "#a49fff"
          ],
          [
           0.38823529411764707,
           "#a7a3ff"
          ],
          [
           0.39215686274509803,
           "#aaa7ff"
          ],
          [
           0.396078431372549,
           "#adacff"
          ],
          [
           0.4,
           "#b0b0ff"
          ],
          [
           0.403921568627451,
           "#b3b3ff"
          ],
          [
           0.40784313725490196,
           "#b6b6ff"
          ],
          [
           0.4117647058823529,
           "#b9b9ff"
          ],
          [
           0.41568627450980394,
           "#bcbcff"
          ],
          [
           0.4196078431372549,
           "#bfbfff"
          ],
          [
           0.4235294117647059,
           "#c3c3ff"
          ],
          [
           0.42745098039215684,
           "#c6c6ff"
          ],
          [
           0.43137254901960786,
           "#c9c9ff"
          ],
          [
           0.43529411764705883,
           "#ccccff"
          ],
          [
           0.4392156862745098,
           "#cfcfff"
          ],
          [
           0.44313725490196076,
           "#d2d2ff"
          ],
          [
           0.4470588235294118,
           "#d5d5ff"
          ],
          [
           0.45098039215686275,
           "#d8d8ff"
          ],
          [
           0.4549019607843137,
           "#dbdbff"
          ],
          [
           0.4588235294117647,
           "#dedeff"
          ],
          [
           0.4627450980392157,
           "#e2e2ff"
          ],
          [
           0.4666666666666667,
           "#e5e5ff"
          ],
          [
           0.47058823529411764,
           "#e8e8ff"
          ],
          [
           0.4745098039215686,
           "#ebebff"
          ],
          [
           0.47843137254901963,
           "#eeeeff"
          ],
          [
           0.4823529411764706,
           "#f1f1ff"
          ],
          [
           0.48627450980392156,
           "#f4f4ff"
          ],
          [
           0.49019607843137253,
           "#f7f7ff"
          ],
          [
           0.49411764705882355,
           "#fafaff"
          ],
          [
           0.4980392156862745,
           "#fdfdff"
          ],
          [
           0.5019607843137255,
           "#fffdfd"
          ],
          [
           0.5058823529411764,
           "#fffafa"
          ],
          [
           0.5098039215686274,
           "#fff7f7"
          ],
          [
           0.5137254901960784,
           "#fff4f4"
          ],
          [
           0.5176470588235295,
           "#fff1f1"
          ],
          [
           0.5215686274509804,
           "#ffeeee"
          ],
          [
           0.5254901960784314,
           "#ffebeb"
          ],
          [
           0.5294117647058824,
           "#ffe8e8"
          ],
          [
           0.5333333333333333,
           "#ffe5e5"
          ],
          [
           0.5372549019607843,
           "#ffe2e2"
          ],
          [
           0.5411764705882353,
           "#ffdede"
          ],
          [
           0.5450980392156862,
           "#ffdbdb"
          ],
          [
           0.5490196078431373,
           "#ffd8d8"
          ],
          [
           0.5529411764705883,
           "#ffd5d5"
          ],
          [
           0.5568627450980392,
           "#ffd2d2"
          ],
          [
           0.5607843137254902,
           "#ffcfcf"
          ],
          [
           0.5647058823529412,
           "#ffcccc"
          ],
          [
           0.5686274509803921,
           "#ffc9c9"
          ],
          [
           0.5725490196078431,
           "#ffc6c6"
          ],
          [
           0.5764705882352941,
           "#ffc3c3"
          ],
          [
           0.5803921568627451,
           "#ffbfbf"
          ],
          [
           0.5843137254901961,
           "#ffbcbc"
          ],
          [
           0.5882352941176471,
           "#ffb9b9"
          ],
          [
           0.592156862745098,
           "#ffb6b6"
          ],
          [
           0.596078431372549,
           "#ffb3b3"
          ],
          [
           0.6,
           "#ffb0b0"
          ],
          [
           0.6039215686274509,
           "#ffacad"
          ],
          [
           0.6078431372549019,
           "#ffa7aa"
          ],
          [
           0.611764705882353,
           "#ffa3a7"
          ],
          [
           0.615686274509804,
           "#ff9fa4"
          ],
          [
           0.6196078431372549,
           "#ff9aa1"
          ],
          [
           0.6235294117647059,
           "#ff969e"
          ],
          [
           0.6274509803921569,
           "#ff929b"
          ],
          [
           0.6313725490196078,
           "#ff8e98"
          ],
          [
           0.6352941176470588,
           "#ff8995"
          ],
          [
           0.6392156862745098,
           "#ff8592"
          ],
          [
           0.6431372549019608,
           "#ff818f"
          ],
          [
           0.6470588235294118,
           "#ff7c8c"
          ],
          [
           0.6509803921568628,
           "#ff7889"
          ],
          [
           0.6549019607843137,
           "#ff7486"
          ],
          [
           0.6588235294117647,
           "#ff6f83"
          ],
          [
           0.6627450980392157,
           "#ff6b80"
          ],
          [
           0.6666666666666666,
           "#ff677d"
          ],
          [
           0.6705882352941176,
           "#ff637a"
          ],
          [
           0.6745098039215687,
           "#ff5e77"
          ],
          [
           0.6784313725490196,
           "#ff5a74"
          ],
          [
           0.6823529411764706,
           "#ff5671"
          ],
          [
           0.6862745098039216,
           "#ff516e"
          ],
          [
           0.6901960784313725,
           "#ff4d6b"
          ],
          [
           0.6941176470588235,
           "#ff4968"
          ],
          [
           0.6980392156862745,
           "#ff4465"
          ],
          [
           0.7019607843137254,
           "#ff4163"
          ],
          [
           0.7058823529411765,
           "#ff4062"
          ],
          [
           0.7098039215686275,
           "#ff3e60"
          ],
          [
           0.7137254901960784,
           "#ff3c5f"
          ],
          [
           0.7176470588235294,
           "#ff3b5e"
          ],
          [
           0.7215686274509804,
           "#ff395c"
          ],
          [
           0.7254901960784313,
           "#ff375b"
          ],
          [
           0.7294117647058823,
           "#ff365a"
          ],
          [
           0.7333333333333333,
           "#ff3458"
          ],
          [
           0.7372549019607844,
           "#ff3257"
          ],
          [
           0.7411764705882353,
           "#ff3056"
          ],
          [
           0.7450980392156863,
           "#ff2f55"
          ],
          [
           0.7490196078431373,
           "#ff2d53"
          ],
          [
           0.7529411764705882,
           "#ff2b52"
          ],
          [
           0.7568627450980392,
           "#ff2a51"
          ],
          [
           0.7607843137254902,
           "#ff284f"
          ],
          [
           0.7647058823529411,
           "#ff264e"
          ],
          [
           0.7686274509803922,
           "#ff254d"
          ],
          [
           0.7725490196078432,
           "#ff234b"
          ],
          [
           0.7764705882352941,
           "#ff214a"
          ],
          [
           0.7803921568627451,
           "#ff1f49"
          ],
          [
           0.7843137254901961,
           "#ff1e48"
          ],
          [
           0.788235294117647,
           "#ff1c46"
          ],
          [
           0.792156862745098,
           "#ff1a45"
          ],
          [
           0.796078431372549,
           "#ff1944"
          ],
          [
           0.8,
           "#ff1742"
          ],
          [
           0.803921568627451,
           "#ff1842"
          ],
          [
           0.807843137254902,
           "#ff1842"
          ],
          [
           0.8117647058823529,
           "#ff1942"
          ],
          [
           0.8156862745098039,
           "#ff1a42"
          ],
          [
           0.8196078431372549,
           "#ff1a42"
          ],
          [
           0.8235294117647058,
           "#ff1b42"
          ],
          [
           0.8274509803921568,
           "#ff1c42"
          ],
          [
           0.8313725490196079,
           "#ff1d42"
          ],
          [
           0.8352941176470589,
           "#ff1d42"
          ],
          [
           0.8392156862745098,
           "#ff1e42"
          ],
          [
           0.8431372549019608,
           "#ff1f42"
          ],
          [
           0.8470588235294118,
           "#ff1f42"
          ],
          [
           0.8509803921568627,
           "#ff2042"
          ],
          [
           0.8549019607843137,
           "#ff2142"
          ],
          [
           0.8588235294117647,
           "#ff2142"
          ],
          [
           0.8627450980392157,
           "#ff2242"
          ],
          [
           0.8666666666666667,
           "#ff2342"
          ],
          [
           0.8705882352941177,
           "#ff2442"
          ],
          [
           0.8745098039215686,
           "#ff2442"
          ],
          [
           0.8784313725490196,
           "#ff2542"
          ],
          [
           0.8823529411764706,
           "#ff2642"
          ],
          [
           0.8862745098039215,
           "#ff2642"
          ],
          [
           0.8901960784313725,
           "#ff2742"
          ],
          [
           0.8941176470588236,
           "#ff2842"
          ],
          [
           0.8980392156862745,
           "#ff2842"
          ],
          [
           0.9019607843137255,
           "#ff2942"
          ],
          [
           0.9058823529411765,
           "#ff2a42"
          ],
          [
           0.9098039215686274,
           "#ff2b42"
          ],
          [
           0.9137254901960784,
           "#ff2c42"
          ],
          [
           0.9176470588235294,
           "#ff2d42"
          ],
          [
           0.9215686274509803,
           "#ff2e42"
          ],
          [
           0.9254901960784314,
           "#ff2f42"
          ],
          [
           0.9294117647058824,
           "#ff3042"
          ],
          [
           0.9333333333333333,
           "#ff3142"
          ],
          [
           0.9372549019607843,
           "#ff3242"
          ],
          [
           0.9411764705882353,
           "#ff3342"
          ],
          [
           0.9450980392156862,
           "#ff3442"
          ],
          [
           0.9490196078431372,
           "#ff3542"
          ],
          [
           0.9529411764705882,
           "#ff3642"
          ],
          [
           0.9568627450980393,
           "#ff3742"
          ],
          [
           0.9607843137254902,
           "#ff3842"
          ],
          [
           0.9647058823529412,
           "#ff3942"
          ],
          [
           0.9686274509803922,
           "#ff3a42"
          ],
          [
           0.9725490196078431,
           "#ff3b42"
          ],
          [
           0.9764705882352941,
           "#ff3c42"
          ],
          [
           0.9803921568627451,
           "#ff3d42"
          ],
          [
           0.984313725490196,
           "#ff3e42"
          ],
          [
           0.9882352941176471,
           "#ff3f42"
          ],
          [
           0.9921568627450981,
           "#ff4042"
          ],
          [
           0.996078431372549,
           "#ff4142"
          ],
          [
           1,
           "#ff4242"
          ]
         ],
         "showscale": false,
         "text": [
          [
           "Column 5",
           "Column 4",
           "Column 2",
           "Column 7",
           "Column 6",
           "Column 1",
           "Column 0",
           "Column 3"
          ]
         ],
         "type": "heatmap",
         "uid": "c80bf290-7d95-4fe3-9e93-b7fad5e1f19f",
         "x": [
          "Column 5",
          "Column 4",
          "Column 2",
          "Column 7",
          "Column 6",
          "Column 1",
          "Column 0",
          "Column 3"
         ],
         "y": [
          "Target"
         ],
         "yaxis": "y4",
         "z": [
          [
           -1.836649516477367,
           -1.1297551111687338,
           -0.5956325385270926,
           0.22770889709294234,
           0.5741421266346989,
           0.7109283174410879,
           0.9577132609070443,
           1.09154456409742
          ]
         ],
         "zmax": 1.09154456409742,
         "zmin": -1.836649516477367
        },
        {
         "colorscale": [
          [
           0,
           "#4242ff"
          ],
          [
           0.00392156862745098,
           "#4241ff"
          ],
          [
           0.00784313725490196,
           "#4240ff"
          ],
          [
           0.011764705882352941,
           "#423fff"
          ],
          [
           0.01568627450980392,
           "#423eff"
          ],
          [
           0.0196078431372549,
           "#423dff"
          ],
          [
           0.023529411764705882,
           "#423cff"
          ],
          [
           0.027450980392156862,
           "#423bff"
          ],
          [
           0.03137254901960784,
           "#423aff"
          ],
          [
           0.03529411764705882,
           "#4239ff"
          ],
          [
           0.0392156862745098,
           "#4238ff"
          ],
          [
           0.043137254901960784,
           "#4237ff"
          ],
          [
           0.047058823529411764,
           "#4236ff"
          ],
          [
           0.050980392156862744,
           "#4235ff"
          ],
          [
           0.054901960784313725,
           "#4234ff"
          ],
          [
           0.058823529411764705,
           "#4233ff"
          ],
          [
           0.06274509803921569,
           "#4232ff"
          ],
          [
           0.06666666666666667,
           "#4231ff"
          ],
          [
           0.07058823529411765,
           "#4230ff"
          ],
          [
           0.07450980392156863,
           "#422fff"
          ],
          [
           0.0784313725490196,
           "#422eff"
          ],
          [
           0.08235294117647059,
           "#422dff"
          ],
          [
           0.08627450980392157,
           "#422cff"
          ],
          [
           0.09019607843137255,
           "#422bff"
          ],
          [
           0.09411764705882353,
           "#422aff"
          ],
          [
           0.09803921568627451,
           "#4229ff"
          ],
          [
           0.10196078431372549,
           "#4228ff"
          ],
          [
           0.10588235294117647,
           "#4228ff"
          ],
          [
           0.10980392156862745,
           "#4227ff"
          ],
          [
           0.11372549019607843,
           "#4226ff"
          ],
          [
           0.11764705882352941,
           "#4226ff"
          ],
          [
           0.12156862745098039,
           "#4225ff"
          ],
          [
           0.12549019607843137,
           "#4224ff"
          ],
          [
           0.12941176470588237,
           "#4224ff"
          ],
          [
           0.13333333333333333,
           "#4223ff"
          ],
          [
           0.13725490196078433,
           "#4222ff"
          ],
          [
           0.1411764705882353,
           "#4221ff"
          ],
          [
           0.1450980392156863,
           "#4221ff"
          ],
          [
           0.14901960784313725,
           "#4220ff"
          ],
          [
           0.15294117647058825,
           "#421fff"
          ],
          [
           0.1568627450980392,
           "#421fff"
          ],
          [
           0.1607843137254902,
           "#421eff"
          ],
          [
           0.16470588235294117,
           "#421dff"
          ],
          [
           0.16862745098039217,
           "#421dff"
          ],
          [
           0.17254901960784313,
           "#421cff"
          ],
          [
           0.17647058823529413,
           "#421bff"
          ],
          [
           0.1803921568627451,
           "#421aff"
          ],
          [
           0.1843137254901961,
           "#421aff"
          ],
          [
           0.18823529411764706,
           "#4219ff"
          ],
          [
           0.19215686274509805,
           "#4218ff"
          ],
          [
           0.19607843137254902,
           "#4218ff"
          ],
          [
           0.2,
           "#4217ff"
          ],
          [
           0.20392156862745098,
           "#4419ff"
          ],
          [
           0.20784313725490197,
           "#451aff"
          ],
          [
           0.21176470588235294,
           "#461cff"
          ],
          [
           0.21568627450980393,
           "#481eff"
          ],
          [
           0.2196078431372549,
           "#491fff"
          ],
          [
           0.2235294117647059,
           "#4a21ff"
          ],
          [
           0.22745098039215686,
           "#4b23ff"
          ],
          [
           0.23137254901960785,
           "#4d25ff"
          ],
          [
           0.23529411764705882,
           "#4e26ff"
          ],
          [
           0.23921568627450981,
           "#4f28ff"
          ],
          [
           0.24313725490196078,
           "#512aff"
          ],
          [
           0.24705882352941178,
           "#522bff"
          ],
          [
           0.25098039215686274,
           "#532dff"
          ],
          [
           0.2549019607843137,
           "#542fff"
          ],
          [
           0.25882352941176473,
           "#5630ff"
          ],
          [
           0.2627450980392157,
           "#5732ff"
          ],
          [
           0.26666666666666666,
           "#5834ff"
          ],
          [
           0.27058823529411763,
           "#5a36ff"
          ],
          [
           0.27450980392156865,
           "#5b37ff"
          ],
          [
           0.2784313725490196,
           "#5c39ff"
          ],
          [
           0.2823529411764706,
           "#5e3bff"
          ],
          [
           0.28627450980392155,
           "#5f3cff"
          ],
          [
           0.2901960784313726,
           "#603eff"
          ],
          [
           0.29411764705882354,
           "#6240ff"
          ],
          [
           0.2980392156862745,
           "#6341ff"
          ],
          [
           0.30196078431372547,
           "#6544ff"
          ],
          [
           0.3058823529411765,
           "#6849ff"
          ],
          [
           0.30980392156862746,
           "#6b4dff"
          ],
          [
           0.3137254901960784,
           "#6e51ff"
          ],
          [
           0.3176470588235294,
           "#7156ff"
          ],
          [
           0.3215686274509804,
           "#745aff"
          ],
          [
           0.3254901960784314,
           "#775eff"
          ],
          [
           0.32941176470588235,
           "#7a63ff"
          ],
          [
           0.3333333333333333,
           "#7d67ff"
          ],
          [
           0.33725490196078434,
           "#806bff"
          ],
          [
           0.3411764705882353,
           "#836fff"
          ],
          [
           0.34509803921568627,
           "#8674ff"
          ],
          [
           0.34901960784313724,
           "#8978ff"
          ],
          [
           0.35294117647058826,
           "#8c7cff"
          ],
          [
           0.3568627450980392,
           "#8f81ff"
          ],
          [
           0.3607843137254902,
           "#9285ff"
          ],
          [
           0.36470588235294116,
           "#9589ff"
          ],
          [
           0.3686274509803922,
           "#988eff"
          ],
          [
           0.37254901960784315,
           "#9b92ff"
          ],
          [
           0.3764705882352941,
           "#9e96ff"
          ],
          [
           0.3803921568627451,
           "#a19aff"
          ],
          [
           0.3843137254901961,
           "#a49fff"
          ],
          [
           0.38823529411764707,
           "#a7a3ff"
          ],
          [
           0.39215686274509803,
           "#aaa7ff"
          ],
          [
           0.396078431372549,
           "#adacff"
          ],
          [
           0.4,
           "#b0b0ff"
          ],
          [
           0.403921568627451,
           "#b3b3ff"
          ],
          [
           0.40784313725490196,
           "#b6b6ff"
          ],
          [
           0.4117647058823529,
           "#b9b9ff"
          ],
          [
           0.41568627450980394,
           "#bcbcff"
          ],
          [
           0.4196078431372549,
           "#bfbfff"
          ],
          [
           0.4235294117647059,
           "#c3c3ff"
          ],
          [
           0.42745098039215684,
           "#c6c6ff"
          ],
          [
           0.43137254901960786,
           "#c9c9ff"
          ],
          [
           0.43529411764705883,
           "#ccccff"
          ],
          [
           0.4392156862745098,
           "#cfcfff"
          ],
          [
           0.44313725490196076,
           "#d2d2ff"
          ],
          [
           0.4470588235294118,
           "#d5d5ff"
          ],
          [
           0.45098039215686275,
           "#d8d8ff"
          ],
          [
           0.4549019607843137,
           "#dbdbff"
          ],
          [
           0.4588235294117647,
           "#dedeff"
          ],
          [
           0.4627450980392157,
           "#e2e2ff"
          ],
          [
           0.4666666666666667,
           "#e5e5ff"
          ],
          [
           0.47058823529411764,
           "#e8e8ff"
          ],
          [
           0.4745098039215686,
           "#ebebff"
          ],
          [
           0.47843137254901963,
           "#eeeeff"
          ],
          [
           0.4823529411764706,
           "#f1f1ff"
          ],
          [
           0.48627450980392156,
           "#f4f4ff"
          ],
          [
           0.49019607843137253,
           "#f7f7ff"
          ],
          [
           0.49411764705882355,
           "#fafaff"
          ],
          [
           0.4980392156862745,
           "#fdfdff"
          ],
          [
           0.5019607843137255,
           "#fffdfd"
          ],
          [
           0.5058823529411764,
           "#fffafa"
          ],
          [
           0.5098039215686274,
           "#fff7f7"
          ],
          [
           0.5137254901960784,
           "#fff4f4"
          ],
          [
           0.5176470588235295,
           "#fff1f1"
          ],
          [
           0.5215686274509804,
           "#ffeeee"
          ],
          [
           0.5254901960784314,
           "#ffebeb"
          ],
          [
           0.5294117647058824,
           "#ffe8e8"
          ],
          [
           0.5333333333333333,
           "#ffe5e5"
          ],
          [
           0.5372549019607843,
           "#ffe2e2"
          ],
          [
           0.5411764705882353,
           "#ffdede"
          ],
          [
           0.5450980392156862,
           "#ffdbdb"
          ],
          [
           0.5490196078431373,
           "#ffd8d8"
          ],
          [
           0.5529411764705883,
           "#ffd5d5"
          ],
          [
           0.5568627450980392,
           "#ffd2d2"
          ],
          [
           0.5607843137254902,
           "#ffcfcf"
          ],
          [
           0.5647058823529412,
           "#ffcccc"
          ],
          [
           0.5686274509803921,
           "#ffc9c9"
          ],
          [
           0.5725490196078431,
           "#ffc6c6"
          ],
          [
           0.5764705882352941,
           "#ffc3c3"
          ],
          [
           0.5803921568627451,
           "#ffbfbf"
          ],
          [
           0.5843137254901961,
           "#ffbcbc"
          ],
          [
           0.5882352941176471,
           "#ffb9b9"
          ],
          [
           0.592156862745098,
           "#ffb6b6"
          ],
          [
           0.596078431372549,
           "#ffb3b3"
          ],
          [
           0.6,
           "#ffb0b0"
          ],
          [
           0.6039215686274509,
           "#ffacad"
          ],
          [
           0.6078431372549019,
           "#ffa7aa"
          ],
          [
           0.611764705882353,
           "#ffa3a7"
          ],
          [
           0.615686274509804,
           "#ff9fa4"
          ],
          [
           0.6196078431372549,
           "#ff9aa1"
          ],
          [
           0.6235294117647059,
           "#ff969e"
          ],
          [
           0.6274509803921569,
           "#ff929b"
          ],
          [
           0.6313725490196078,
           "#ff8e98"
          ],
          [
           0.6352941176470588,
           "#ff8995"
          ],
          [
           0.6392156862745098,
           "#ff8592"
          ],
          [
           0.6431372549019608,
           "#ff818f"
          ],
          [
           0.6470588235294118,
           "#ff7c8c"
          ],
          [
           0.6509803921568628,
           "#ff7889"
          ],
          [
           0.6549019607843137,
           "#ff7486"
          ],
          [
           0.6588235294117647,
           "#ff6f83"
          ],
          [
           0.6627450980392157,
           "#ff6b80"
          ],
          [
           0.6666666666666666,
           "#ff677d"
          ],
          [
           0.6705882352941176,
           "#ff637a"
          ],
          [
           0.6745098039215687,
           "#ff5e77"
          ],
          [
           0.6784313725490196,
           "#ff5a74"
          ],
          [
           0.6823529411764706,
           "#ff5671"
          ],
          [
           0.6862745098039216,
           "#ff516e"
          ],
          [
           0.6901960784313725,
           "#ff4d6b"
          ],
          [
           0.6941176470588235,
           "#ff4968"
          ],
          [
           0.6980392156862745,
           "#ff4465"
          ],
          [
           0.7019607843137254,
           "#ff4163"
          ],
          [
           0.7058823529411765,
           "#ff4062"
          ],
          [
           0.7098039215686275,
           "#ff3e60"
          ],
          [
           0.7137254901960784,
           "#ff3c5f"
          ],
          [
           0.7176470588235294,
           "#ff3b5e"
          ],
          [
           0.7215686274509804,
           "#ff395c"
          ],
          [
           0.7254901960784313,
           "#ff375b"
          ],
          [
           0.7294117647058823,
           "#ff365a"
          ],
          [
           0.7333333333333333,
           "#ff3458"
          ],
          [
           0.7372549019607844,
           "#ff3257"
          ],
          [
           0.7411764705882353,
           "#ff3056"
          ],
          [
           0.7450980392156863,
           "#ff2f55"
          ],
          [
           0.7490196078431373,
           "#ff2d53"
          ],
          [
           0.7529411764705882,
           "#ff2b52"
          ],
          [
           0.7568627450980392,
           "#ff2a51"
          ],
          [
           0.7607843137254902,
           "#ff284f"
          ],
          [
           0.7647058823529411,
           "#ff264e"
          ],
          [
           0.7686274509803922,
           "#ff254d"
          ],
          [
           0.7725490196078432,
           "#ff234b"
          ],
          [
           0.7764705882352941,
           "#ff214a"
          ],
          [
           0.7803921568627451,
           "#ff1f49"
          ],
          [
           0.7843137254901961,
           "#ff1e48"
          ],
          [
           0.788235294117647,
           "#ff1c46"
          ],
          [
           0.792156862745098,
           "#ff1a45"
          ],
          [
           0.796078431372549,
           "#ff1944"
          ],
          [
           0.8,
           "#ff1742"
          ],
          [
           0.803921568627451,
           "#ff1842"
          ],
          [
           0.807843137254902,
           "#ff1842"
          ],
          [
           0.8117647058823529,
           "#ff1942"
          ],
          [
           0.8156862745098039,
           "#ff1a42"
          ],
          [
           0.8196078431372549,
           "#ff1a42"
          ],
          [
           0.8235294117647058,
           "#ff1b42"
          ],
          [
           0.8274509803921568,
           "#ff1c42"
          ],
          [
           0.8313725490196079,
           "#ff1d42"
          ],
          [
           0.8352941176470589,
           "#ff1d42"
          ],
          [
           0.8392156862745098,
           "#ff1e42"
          ],
          [
           0.8431372549019608,
           "#ff1f42"
          ],
          [
           0.8470588235294118,
           "#ff1f42"
          ],
          [
           0.8509803921568627,
           "#ff2042"
          ],
          [
           0.8549019607843137,
           "#ff2142"
          ],
          [
           0.8588235294117647,
           "#ff2142"
          ],
          [
           0.8627450980392157,
           "#ff2242"
          ],
          [
           0.8666666666666667,
           "#ff2342"
          ],
          [
           0.8705882352941177,
           "#ff2442"
          ],
          [
           0.8745098039215686,
           "#ff2442"
          ],
          [
           0.8784313725490196,
           "#ff2542"
          ],
          [
           0.8823529411764706,
           "#ff2642"
          ],
          [
           0.8862745098039215,
           "#ff2642"
          ],
          [
           0.8901960784313725,
           "#ff2742"
          ],
          [
           0.8941176470588236,
           "#ff2842"
          ],
          [
           0.8980392156862745,
           "#ff2842"
          ],
          [
           0.9019607843137255,
           "#ff2942"
          ],
          [
           0.9058823529411765,
           "#ff2a42"
          ],
          [
           0.9098039215686274,
           "#ff2b42"
          ],
          [
           0.9137254901960784,
           "#ff2c42"
          ],
          [
           0.9176470588235294,
           "#ff2d42"
          ],
          [
           0.9215686274509803,
           "#ff2e42"
          ],
          [
           0.9254901960784314,
           "#ff2f42"
          ],
          [
           0.9294117647058824,
           "#ff3042"
          ],
          [
           0.9333333333333333,
           "#ff3142"
          ],
          [
           0.9372549019607843,
           "#ff3242"
          ],
          [
           0.9411764705882353,
           "#ff3342"
          ],
          [
           0.9450980392156862,
           "#ff3442"
          ],
          [
           0.9490196078431372,
           "#ff3542"
          ],
          [
           0.9529411764705882,
           "#ff3642"
          ],
          [
           0.9568627450980393,
           "#ff3742"
          ],
          [
           0.9607843137254902,
           "#ff3842"
          ],
          [
           0.9647058823529412,
           "#ff3942"
          ],
          [
           0.9686274509803922,
           "#ff3a42"
          ],
          [
           0.9725490196078431,
           "#ff3b42"
          ],
          [
           0.9764705882352941,
           "#ff3c42"
          ],
          [
           0.9803921568627451,
           "#ff3d42"
          ],
          [
           0.984313725490196,
           "#ff3e42"
          ],
          [
           0.9882352941176471,
           "#ff3f42"
          ],
          [
           0.9921568627450981,
           "#ff4042"
          ],
          [
           0.996078431372549,
           "#ff4142"
          ],
          [
           1,
           "#ff4242"
          ]
         ],
         "showscale": false,
         "type": "heatmap",
         "uid": "f5f19daa-b50c-476f-8919-4dfa1eaea68a",
         "x": [
          "Column 5",
          "Column 4",
          "Column 2",
          "Column 7",
          "Column 6",
          "Column 1",
          "Column 0",
          "Column 3"
         ],
         "y": [
          "Continuous Index 2",
          "Continuous Index 1",
          "Continuous Index 0",
          "Continuous Index 3"
         ],
         "yaxis": "y3",
         "z": [
          [
           0.08648002846205055,
           2.3516649229445834,
           0.49503881679667483,
           -0.5844441340146637,
           -0.45865658138162924,
           -0.3438390613493145,
           -0.3538795130080135,
           -1.192364478449689
          ],
          [
           0.6192496216776943,
           0.969025142008945,
           0.24150441328773883,
           0.8669437373619041,
           -0.27801625125564483,
           -1.4639083196959344,
           -1.740621996873205,
           0.7858236534885007
          ],
          [
           0.3931965577249646,
           -0.7917574535354329,
           2.077619367086736,
           -0.7977536589844159,
           0.45880946003944695,
           0.37191571837320575,
           -0.3810135742402566,
           -1.3310164164642488
          ],
          [
           -0.9843563607501917,
           1.1919648273875072,
           -1.0368296026941224,
           0.7175730634395774,
           0.26756700062063277,
           -1.6349471424273745,
           0.4379107326940994,
           1.0411174817298738
          ]
         ],
         "zmax": 2.3516649229445834,
         "zmin": -1.740621996873205
        },
        {
         "colorscale": [
          [
           0,
           "#20d9ba"
          ],
          [
           0.1111111111111111,
           "#9017e6"
          ],
          [
           0.2222222222222222,
           "#ff1968"
          ],
          [
           0.3333333333333333,
           "#ffe119"
          ],
          [
           0.4444444444444444,
           "#3cb44b"
          ],
          [
           0.5555555555555556,
           "#4e41d8"
          ],
          [
           0.6666666666666666,
           "#ffa400"
          ],
          [
           0.7777777777777778,
           "#aaffc3"
          ],
          [
           0.8888888888888888,
           "#800000"
          ],
          [
           1,
           "#e6beff"
          ]
         ],
         "showscale": false,
         "type": "heatmap",
         "uid": "c0485aef-693e-4729-8e13-69e9fbb8712e",
         "x": [
          "Column 5",
          "Column 4",
          "Column 2",
          "Column 7",
          "Column 6",
          "Column 1",
          "Column 0",
          "Column 3"
         ],
         "y": [
          "Categorical Index 0",
          "Categorical Index 1",
          "Categorical Index 3",
          "Categorical Index 2"
         ],
         "yaxis": "y2",
         "z": [
          [
           6,
           7,
           7,
           9,
           2,
           9,
           4,
           4
          ],
          [
           8,
           3,
           4,
           5,
           1,
           9,
           3,
           2
          ],
          [
           8,
           3,
           0,
           9,
           3,
           4,
           0,
           4
          ],
          [
           6,
           4,
           1,
           5,
           2,
           3,
           8,
           7
          ]
         ]
        },
        {
         "colorscale": [
          [
           0,
           "#ebf6f7"
          ],
          [
           1,
           "#171412"
          ]
         ],
         "showscale": false,
         "type": "heatmap",
         "uid": "1d0f2ac2-16fd-4635-9d1a-f7a465d39dd5",
         "x": [
          "Column 5",
          "Column 4",
          "Column 2",
          "Column 7",
          "Column 6",
          "Column 1",
          "Column 0",
          "Column 3"
         ],
         "y": [
          "Binary Index 2",
          "Binary Index 3",
          "Binary Index 1",
          "Binary Index 0"
         ],
         "yaxis": "y",
         "z": [
          [
           0,
           1,
           0,
           1,
           1,
           0,
           1,
           0
          ],
          [
           0,
           1,
           0,
           0,
           1,
           1,
           1,
           0
          ],
          [
           0,
           1,
           1,
           1,
           1,
           1,
           0,
           1
          ],
          [
           1,
           0,
           0,
           1,
           1,
           0,
           1,
           1
          ]
         ]
        }
       ],
       "layout": {
        "annotations": [
         {
          "font": {
           "size": 9.6
          },
          "showarrow": false,
          "text": "<b>Continuous</b>",
          "x": 0.5,
          "xanchor": "center",
          "xref": "paper",
          "y": 0.90625,
          "yanchor": "middle",
          "yref": "paper"
         },
         {
          "font": {
           "size": 9.6
          },
          "showarrow": false,
          "text": "<b>Score</b>",
          "width": 64,
          "x": 1.0016,
          "xanchor": "left",
          "xref": "paper",
          "y": 0.96875,
          "yanchor": "middle",
          "yref": "paper"
         },
         {
          "font": {
           "size": 9.6
          },
          "showarrow": false,
          "text": "<b>0.25 ± 0.30</b>",
          "width": 64,
          "x": 1.0016,
          "xanchor": "left",
          "xref": "paper",
          "y": 0.84375,
          "yanchor": "middle",
          "yref": "paper"
         },
         {
          "font": {
           "size": 9.6
          },
          "showarrow": false,
          "text": "<b>-0.25 ± 0.11</b>",
          "width": 64,
          "x": 1.0016,
          "xanchor": "left",
          "xref": "paper",
          "y": 0.78125,
          "yanchor": "middle",
          "yref": "paper"
         },
         {
          "font": {
           "size": 9.6
          },
          "showarrow": false,
          "text": "<b>-0.49 ± 0.14</b>",
          "width": 64,
          "x": 1.0016,
          "xanchor": "left",
          "xref": "paper",
          "y": 0.71875,
          "yanchor": "middle",
          "yref": "paper"
         },
         {
          "font": {
           "size": 9.6
          },
          "showarrow": false,
          "text": "<b>-0.68 ± 0.05</b>",
          "width": 64,
          "x": 1.0016,
          "xanchor": "left",
          "xref": "paper",
          "y": 0.65625,
          "yanchor": "middle",
          "yref": "paper"
         },
         {
          "font": {
           "size": 9.6
          },
          "showarrow": false,
          "text": "<b>Categorical</b>",
          "x": 0.5,
          "xanchor": "center",
          "xref": "paper",
          "y": 0.59375,
          "yanchor": "middle",
          "yref": "paper"
         },
         {
          "font": {
           "size": 9.6
          },
          "showarrow": false,
          "text": "<b>0.19 ± 0.41</b>",
          "width": 64,
          "x": 1.0016,
          "xanchor": "left",
          "xref": "paper",
          "y": 0.53125,
          "yanchor": "middle",
          "yref": "paper"
         },
         {
          "font": {
           "size": 9.6
          },
          "showarrow": false,
          "text": "<b>-0.19 ± 0.60</b>",
          "width": 64,
          "x": 1.0016,
          "xanchor": "left",
          "xref": "paper",
          "y": 0.46875,
          "yanchor": "middle",
          "yref": "paper"
         },
         {
          "font": {
           "size": 9.6
          },
          "showarrow": false,
          "text": "<b>-0.24 ± 0.33</b>",
          "width": 64,
          "x": 1.0016,
          "xanchor": "left",
          "xref": "paper",
          "y": 0.40625,
          "yanchor": "middle",
          "yref": "paper"
         },
         {
          "font": {
           "size": 9.6
          },
          "showarrow": false,
          "text": "<b>-0.43 ± 0.19</b>",
          "width": 64,
          "x": 1.0016,
          "xanchor": "left",
          "xref": "paper",
          "y": 0.34375,
          "yanchor": "middle",
          "yref": "paper"
         },
         {
          "font": {
           "size": 9.6
          },
          "showarrow": false,
          "text": "<b>Binary</b>",
          "x": 0.5,
          "xanchor": "center",
          "xref": "paper",
          "y": 0.28125,
          "yanchor": "middle",
          "yref": "paper"
         },
         {
          "font": {
           "size": 9.6
          },
          "showarrow": false,
          "text": "<b>0.30 ± 0.24</b>",
          "width": 64,
          "x": 1.0016,
          "xanchor": "left",
          "xref": "paper",
          "y": 0.21875,
          "yanchor": "middle",
          "yref": "paper"
         },
         {
          "font": {
           "size": 9.6
          },
          "showarrow": false,
          "text": "<b>0.24 ± 0.13</b>",
          "width": 64,
          "x": 1.0016,
          "xanchor": "left",
          "xref": "paper",
          "y": 0.15625,
          "yanchor": "middle",
          "yref": "paper"
         },
         {
          "font": {
           "size": 9.6
          },
          "showarrow": false,
          "text": "<b>0.17 ± 0.48</b>",
          "width": 64,
          "x": 1.0016,
          "xanchor": "left",
          "xref": "paper",
          "y": 0.09375,
          "yanchor": "middle",
          "yref": "paper"
         },
         {
          "font": {
           "size": 9.6
          },
          "showarrow": false,
          "text": "<b>0.10 ± 0.48</b>",
          "width": 64,
          "x": 1.0016,
          "xanchor": "left",
          "xref": "paper",
          "y": 0.03125,
          "yanchor": "middle",
          "yref": "paper"
         }
        ],
        "height": 512,
        "margin": {
         "l": 196,
         "r": 196
        },
        "title": "Summary Match Panel",
        "width": 880,
        "xaxis": {
         "anchor": "y"
        },
        "yaxis": {
         "domain": [
          0,
          0.25
         ],
         "dtick": 1,
         "tickfont": {
          "size": 9.6
         }
        },
        "yaxis2": {
         "domain": [
          0.3125,
          0.5625
         ],
         "dtick": 1,
         "tickfont": {
          "size": 9.6
         }
        },
        "yaxis3": {
         "domain": [
          0.625,
          0.875
         ],
         "dtick": 1,
         "tickfont": {
          "size": 9.6
         }
        },
        "yaxis4": {
         "domain": [
          0.9375,
          1
         ],
         "tickfont": {
          "size": 9.6
         }
        }
       }
      },
      "text/html": [
       "<div id=\"a6aeb1dc-9971-470b-ac57-758c2e918c9e\" style=\"height: 512.0px; width: 880px;\" class=\"plotly-graph-div\"></div><script type=\"text/javascript\">require([\"plotly\"], function(Plotly) { window.PLOTLYENV=window.PLOTLYENV || {};window.PLOTLYENV.BASE_URL=\"https://plot.ly\";Plotly.newPlot(\"a6aeb1dc-9971-470b-ac57-758c2e918c9e\", [{\"colorscale\": [[0.0, \"#4242ff\"], [0.00392156862745098, \"#4241ff\"], [0.00784313725490196, \"#4240ff\"], [0.011764705882352941, \"#423fff\"], [0.01568627450980392, \"#423eff\"], [0.0196078431372549, \"#423dff\"], [0.023529411764705882, \"#423cff\"], [0.027450980392156862, \"#423bff\"], [0.03137254901960784, \"#423aff\"], [0.03529411764705882, \"#4239ff\"], [0.0392156862745098, \"#4238ff\"], [0.043137254901960784, \"#4237ff\"], [0.047058823529411764, \"#4236ff\"], [0.050980392156862744, \"#4235ff\"], [0.054901960784313725, \"#4234ff\"], [0.058823529411764705, \"#4233ff\"], [0.06274509803921569, \"#4232ff\"], [0.06666666666666667, \"#4231ff\"], [0.07058823529411765, \"#4230ff\"], [0.07450980392156863, \"#422fff\"], [0.0784313725490196, \"#422eff\"], [0.08235294117647059, \"#422dff\"], [0.08627450980392157, \"#422cff\"], [0.09019607843137255, \"#422bff\"], [0.09411764705882353, \"#422aff\"], [0.09803921568627451, \"#4229ff\"], [0.10196078431372549, \"#4228ff\"], [0.10588235294117647, \"#4228ff\"], [0.10980392156862745, \"#4227ff\"], [0.11372549019607843, \"#4226ff\"], [0.11764705882352941, \"#4226ff\"], [0.12156862745098039, \"#4225ff\"], [0.12549019607843137, \"#4224ff\"], [0.12941176470588237, \"#4224ff\"], [0.13333333333333333, \"#4223ff\"], [0.13725490196078433, \"#4222ff\"], [0.1411764705882353, \"#4221ff\"], [0.1450980392156863, \"#4221ff\"], [0.14901960784313725, \"#4220ff\"], [0.15294117647058825, \"#421fff\"], [0.1568627450980392, \"#421fff\"], [0.1607843137254902, \"#421eff\"], [0.16470588235294117, \"#421dff\"], [0.16862745098039217, \"#421dff\"], [0.17254901960784313, \"#421cff\"], [0.17647058823529413, \"#421bff\"], [0.1803921568627451, \"#421aff\"], [0.1843137254901961, \"#421aff\"], [0.18823529411764706, \"#4219ff\"], [0.19215686274509805, \"#4218ff\"], [0.19607843137254902, \"#4218ff\"], [0.2, \"#4217ff\"], [0.20392156862745098, \"#4419ff\"], [0.20784313725490197, \"#451aff\"], [0.21176470588235294, \"#461cff\"], [0.21568627450980393, \"#481eff\"], [0.2196078431372549, \"#491fff\"], [0.2235294117647059, \"#4a21ff\"], [0.22745098039215686, \"#4b23ff\"], [0.23137254901960785, \"#4d25ff\"], [0.23529411764705882, \"#4e26ff\"], [0.23921568627450981, \"#4f28ff\"], [0.24313725490196078, \"#512aff\"], [0.24705882352941178, \"#522bff\"], [0.25098039215686274, \"#532dff\"], [0.2549019607843137, \"#542fff\"], [0.25882352941176473, \"#5630ff\"], [0.2627450980392157, \"#5732ff\"], [0.26666666666666666, \"#5834ff\"], [0.27058823529411763, \"#5a36ff\"], [0.27450980392156865, \"#5b37ff\"], [0.2784313725490196, \"#5c39ff\"], [0.2823529411764706, \"#5e3bff\"], [0.28627450980392155, \"#5f3cff\"], [0.2901960784313726, \"#603eff\"], [0.29411764705882354, \"#6240ff\"], [0.2980392156862745, \"#6341ff\"], [0.30196078431372547, \"#6544ff\"], [0.3058823529411765, \"#6849ff\"], [0.30980392156862746, \"#6b4dff\"], [0.3137254901960784, \"#6e51ff\"], [0.3176470588235294, \"#7156ff\"], [0.3215686274509804, \"#745aff\"], [0.3254901960784314, \"#775eff\"], [0.32941176470588235, \"#7a63ff\"], [0.3333333333333333, \"#7d67ff\"], [0.33725490196078434, \"#806bff\"], [0.3411764705882353, \"#836fff\"], [0.34509803921568627, \"#8674ff\"], [0.34901960784313724, \"#8978ff\"], [0.35294117647058826, \"#8c7cff\"], [0.3568627450980392, \"#8f81ff\"], [0.3607843137254902, \"#9285ff\"], [0.36470588235294116, \"#9589ff\"], [0.3686274509803922, \"#988eff\"], [0.37254901960784315, \"#9b92ff\"], [0.3764705882352941, \"#9e96ff\"], [0.3803921568627451, \"#a19aff\"], [0.3843137254901961, \"#a49fff\"], [0.38823529411764707, \"#a7a3ff\"], [0.39215686274509803, \"#aaa7ff\"], [0.396078431372549, \"#adacff\"], [0.4, \"#b0b0ff\"], [0.403921568627451, \"#b3b3ff\"], [0.40784313725490196, \"#b6b6ff\"], [0.4117647058823529, \"#b9b9ff\"], [0.41568627450980394, \"#bcbcff\"], [0.4196078431372549, \"#bfbfff\"], [0.4235294117647059, \"#c3c3ff\"], [0.42745098039215684, \"#c6c6ff\"], [0.43137254901960786, \"#c9c9ff\"], [0.43529411764705883, \"#ccccff\"], [0.4392156862745098, \"#cfcfff\"], [0.44313725490196076, \"#d2d2ff\"], [0.4470588235294118, \"#d5d5ff\"], [0.45098039215686275, \"#d8d8ff\"], [0.4549019607843137, \"#dbdbff\"], [0.4588235294117647, \"#dedeff\"], [0.4627450980392157, \"#e2e2ff\"], [0.4666666666666667, \"#e5e5ff\"], [0.47058823529411764, \"#e8e8ff\"], [0.4745098039215686, \"#ebebff\"], [0.47843137254901963, \"#eeeeff\"], [0.4823529411764706, \"#f1f1ff\"], [0.48627450980392156, \"#f4f4ff\"], [0.49019607843137253, \"#f7f7ff\"], [0.49411764705882355, \"#fafaff\"], [0.4980392156862745, \"#fdfdff\"], [0.5019607843137255, \"#fffdfd\"], [0.5058823529411764, \"#fffafa\"], [0.5098039215686274, \"#fff7f7\"], [0.5137254901960784, \"#fff4f4\"], [0.5176470588235295, \"#fff1f1\"], [0.5215686274509804, \"#ffeeee\"], [0.5254901960784314, \"#ffebeb\"], [0.5294117647058824, \"#ffe8e8\"], [0.5333333333333333, \"#ffe5e5\"], [0.5372549019607843, \"#ffe2e2\"], [0.5411764705882353, \"#ffdede\"], [0.5450980392156862, \"#ffdbdb\"], [0.5490196078431373, \"#ffd8d8\"], [0.5529411764705883, \"#ffd5d5\"], [0.5568627450980392, \"#ffd2d2\"], [0.5607843137254902, \"#ffcfcf\"], [0.5647058823529412, \"#ffcccc\"], [0.5686274509803921, \"#ffc9c9\"], [0.5725490196078431, \"#ffc6c6\"], [0.5764705882352941, \"#ffc3c3\"], [0.5803921568627451, \"#ffbfbf\"], [0.5843137254901961, \"#ffbcbc\"], [0.5882352941176471, \"#ffb9b9\"], [0.592156862745098, \"#ffb6b6\"], [0.596078431372549, \"#ffb3b3\"], [0.6, \"#ffb0b0\"], [0.6039215686274509, \"#ffacad\"], [0.6078431372549019, \"#ffa7aa\"], [0.611764705882353, \"#ffa3a7\"], [0.615686274509804, \"#ff9fa4\"], [0.6196078431372549, \"#ff9aa1\"], [0.6235294117647059, \"#ff969e\"], [0.6274509803921569, \"#ff929b\"], [0.6313725490196078, \"#ff8e98\"], [0.6352941176470588, \"#ff8995\"], [0.6392156862745098, \"#ff8592\"], [0.6431372549019608, \"#ff818f\"], [0.6470588235294118, \"#ff7c8c\"], [0.6509803921568628, \"#ff7889\"], [0.6549019607843137, \"#ff7486\"], [0.6588235294117647, \"#ff6f83\"], [0.6627450980392157, \"#ff6b80\"], [0.6666666666666666, \"#ff677d\"], [0.6705882352941176, \"#ff637a\"], [0.6745098039215687, \"#ff5e77\"], [0.6784313725490196, \"#ff5a74\"], [0.6823529411764706, \"#ff5671\"], [0.6862745098039216, \"#ff516e\"], [0.6901960784313725, \"#ff4d6b\"], [0.6941176470588235, \"#ff4968\"], [0.6980392156862745, \"#ff4465\"], [0.7019607843137254, \"#ff4163\"], [0.7058823529411765, \"#ff4062\"], [0.7098039215686275, \"#ff3e60\"], [0.7137254901960784, \"#ff3c5f\"], [0.7176470588235294, \"#ff3b5e\"], [0.7215686274509804, \"#ff395c\"], [0.7254901960784313, \"#ff375b\"], [0.7294117647058823, \"#ff365a\"], [0.7333333333333333, \"#ff3458\"], [0.7372549019607844, \"#ff3257\"], [0.7411764705882353, \"#ff3056\"], [0.7450980392156863, \"#ff2f55\"], [0.7490196078431373, \"#ff2d53\"], [0.7529411764705882, \"#ff2b52\"], [0.7568627450980392, \"#ff2a51\"], [0.7607843137254902, \"#ff284f\"], [0.7647058823529411, \"#ff264e\"], [0.7686274509803922, \"#ff254d\"], [0.7725490196078432, \"#ff234b\"], [0.7764705882352941, \"#ff214a\"], [0.7803921568627451, \"#ff1f49\"], [0.7843137254901961, \"#ff1e48\"], [0.788235294117647, \"#ff1c46\"], [0.792156862745098, \"#ff1a45\"], [0.796078431372549, \"#ff1944\"], [0.8, \"#ff1742\"], [0.803921568627451, \"#ff1842\"], [0.807843137254902, \"#ff1842\"], [0.8117647058823529, \"#ff1942\"], [0.8156862745098039, \"#ff1a42\"], [0.8196078431372549, \"#ff1a42\"], [0.8235294117647058, \"#ff1b42\"], [0.8274509803921568, \"#ff1c42\"], [0.8313725490196079, \"#ff1d42\"], [0.8352941176470589, \"#ff1d42\"], [0.8392156862745098, \"#ff1e42\"], [0.8431372549019608, \"#ff1f42\"], [0.8470588235294118, \"#ff1f42\"], [0.8509803921568627, \"#ff2042\"], [0.8549019607843137, \"#ff2142\"], [0.8588235294117647, \"#ff2142\"], [0.8627450980392157, \"#ff2242\"], [0.8666666666666667, \"#ff2342\"], [0.8705882352941177, \"#ff2442\"], [0.8745098039215686, \"#ff2442\"], [0.8784313725490196, \"#ff2542\"], [0.8823529411764706, \"#ff2642\"], [0.8862745098039215, \"#ff2642\"], [0.8901960784313725, \"#ff2742\"], [0.8941176470588236, \"#ff2842\"], [0.8980392156862745, \"#ff2842\"], [0.9019607843137255, \"#ff2942\"], [0.9058823529411765, \"#ff2a42\"], [0.9098039215686274, \"#ff2b42\"], [0.9137254901960784, \"#ff2c42\"], [0.9176470588235294, \"#ff2d42\"], [0.9215686274509803, \"#ff2e42\"], [0.9254901960784314, \"#ff2f42\"], [0.9294117647058824, \"#ff3042\"], [0.9333333333333333, \"#ff3142\"], [0.9372549019607843, \"#ff3242\"], [0.9411764705882353, \"#ff3342\"], [0.9450980392156862, \"#ff3442\"], [0.9490196078431372, \"#ff3542\"], [0.9529411764705882, \"#ff3642\"], [0.9568627450980393, \"#ff3742\"], [0.9607843137254902, \"#ff3842\"], [0.9647058823529412, \"#ff3942\"], [0.9686274509803922, \"#ff3a42\"], [0.9725490196078431, \"#ff3b42\"], [0.9764705882352941, \"#ff3c42\"], [0.9803921568627451, \"#ff3d42\"], [0.984313725490196, \"#ff3e42\"], [0.9882352941176471, \"#ff3f42\"], [0.9921568627450981, \"#ff4042\"], [0.996078431372549, \"#ff4142\"], [1.0, \"#ff4242\"]], \"showscale\": false, \"text\": [[\"Column 5\", \"Column 4\", \"Column 2\", \"Column 7\", \"Column 6\", \"Column 1\", \"Column 0\", \"Column 3\"]], \"x\": [\"Column 5\", \"Column 4\", \"Column 2\", \"Column 7\", \"Column 6\", \"Column 1\", \"Column 0\", \"Column 3\"], \"y\": [\"Target\"], \"yaxis\": \"y4\", \"z\": [[-1.836649516477367, -1.1297551111687338, -0.5956325385270926, 0.22770889709294234, 0.5741421266346989, 0.7109283174410879, 0.9577132609070443, 1.09154456409742]], \"zmax\": 1.09154456409742, \"zmin\": -1.836649516477367, \"type\": \"heatmap\", \"uid\": \"777ee6b4-1d29-4efe-8cdd-3318bd7d64c2\"}, {\"colorscale\": [[0.0, \"#4242ff\"], [0.00392156862745098, \"#4241ff\"], [0.00784313725490196, \"#4240ff\"], [0.011764705882352941, \"#423fff\"], [0.01568627450980392, \"#423eff\"], [0.0196078431372549, \"#423dff\"], [0.023529411764705882, \"#423cff\"], [0.027450980392156862, \"#423bff\"], [0.03137254901960784, \"#423aff\"], [0.03529411764705882, \"#4239ff\"], [0.0392156862745098, \"#4238ff\"], [0.043137254901960784, \"#4237ff\"], [0.047058823529411764, \"#4236ff\"], [0.050980392156862744, \"#4235ff\"], [0.054901960784313725, \"#4234ff\"], [0.058823529411764705, \"#4233ff\"], [0.06274509803921569, \"#4232ff\"], [0.06666666666666667, \"#4231ff\"], [0.07058823529411765, \"#4230ff\"], [0.07450980392156863, \"#422fff\"], [0.0784313725490196, \"#422eff\"], [0.08235294117647059, \"#422dff\"], [0.08627450980392157, \"#422cff\"], [0.09019607843137255, \"#422bff\"], [0.09411764705882353, \"#422aff\"], [0.09803921568627451, \"#4229ff\"], [0.10196078431372549, \"#4228ff\"], [0.10588235294117647, \"#4228ff\"], [0.10980392156862745, \"#4227ff\"], [0.11372549019607843, \"#4226ff\"], [0.11764705882352941, \"#4226ff\"], [0.12156862745098039, \"#4225ff\"], [0.12549019607843137, \"#4224ff\"], [0.12941176470588237, \"#4224ff\"], [0.13333333333333333, \"#4223ff\"], [0.13725490196078433, \"#4222ff\"], [0.1411764705882353, \"#4221ff\"], [0.1450980392156863, \"#4221ff\"], [0.14901960784313725, \"#4220ff\"], [0.15294117647058825, \"#421fff\"], [0.1568627450980392, \"#421fff\"], [0.1607843137254902, \"#421eff\"], [0.16470588235294117, \"#421dff\"], [0.16862745098039217, \"#421dff\"], [0.17254901960784313, \"#421cff\"], [0.17647058823529413, \"#421bff\"], [0.1803921568627451, \"#421aff\"], [0.1843137254901961, \"#421aff\"], [0.18823529411764706, \"#4219ff\"], [0.19215686274509805, \"#4218ff\"], [0.19607843137254902, \"#4218ff\"], [0.2, \"#4217ff\"], [0.20392156862745098, \"#4419ff\"], [0.20784313725490197, \"#451aff\"], [0.21176470588235294, \"#461cff\"], [0.21568627450980393, \"#481eff\"], [0.2196078431372549, \"#491fff\"], [0.2235294117647059, \"#4a21ff\"], [0.22745098039215686, \"#4b23ff\"], [0.23137254901960785, \"#4d25ff\"], [0.23529411764705882, \"#4e26ff\"], [0.23921568627450981, \"#4f28ff\"], [0.24313725490196078, \"#512aff\"], [0.24705882352941178, \"#522bff\"], [0.25098039215686274, \"#532dff\"], [0.2549019607843137, \"#542fff\"], [0.25882352941176473, \"#5630ff\"], [0.2627450980392157, \"#5732ff\"], [0.26666666666666666, \"#5834ff\"], [0.27058823529411763, \"#5a36ff\"], [0.27450980392156865, \"#5b37ff\"], [0.2784313725490196, \"#5c39ff\"], [0.2823529411764706, \"#5e3bff\"], [0.28627450980392155, \"#5f3cff\"], [0.2901960784313726, \"#603eff\"], [0.29411764705882354, \"#6240ff\"], [0.2980392156862745, \"#6341ff\"], [0.30196078431372547, \"#6544ff\"], [0.3058823529411765, \"#6849ff\"], [0.30980392156862746, \"#6b4dff\"], [0.3137254901960784, \"#6e51ff\"], [0.3176470588235294, \"#7156ff\"], [0.3215686274509804, \"#745aff\"], [0.3254901960784314, \"#775eff\"], [0.32941176470588235, \"#7a63ff\"], [0.3333333333333333, \"#7d67ff\"], [0.33725490196078434, \"#806bff\"], [0.3411764705882353, \"#836fff\"], [0.34509803921568627, \"#8674ff\"], [0.34901960784313724, \"#8978ff\"], [0.35294117647058826, \"#8c7cff\"], [0.3568627450980392, \"#8f81ff\"], [0.3607843137254902, \"#9285ff\"], [0.36470588235294116, \"#9589ff\"], [0.3686274509803922, \"#988eff\"], [0.37254901960784315, \"#9b92ff\"], [0.3764705882352941, \"#9e96ff\"], [0.3803921568627451, \"#a19aff\"], [0.3843137254901961, \"#a49fff\"], [0.38823529411764707, \"#a7a3ff\"], [0.39215686274509803, \"#aaa7ff\"], [0.396078431372549, \"#adacff\"], [0.4, \"#b0b0ff\"], [0.403921568627451, \"#b3b3ff\"], [0.40784313725490196, \"#b6b6ff\"], [0.4117647058823529, \"#b9b9ff\"], [0.41568627450980394, \"#bcbcff\"], [0.4196078431372549, \"#bfbfff\"], [0.4235294117647059, \"#c3c3ff\"], [0.42745098039215684, \"#c6c6ff\"], [0.43137254901960786, \"#c9c9ff\"], [0.43529411764705883, \"#ccccff\"], [0.4392156862745098, \"#cfcfff\"], [0.44313725490196076, \"#d2d2ff\"], [0.4470588235294118, \"#d5d5ff\"], [0.45098039215686275, \"#d8d8ff\"], [0.4549019607843137, \"#dbdbff\"], [0.4588235294117647, \"#dedeff\"], [0.4627450980392157, \"#e2e2ff\"], [0.4666666666666667, \"#e5e5ff\"], [0.47058823529411764, \"#e8e8ff\"], [0.4745098039215686, \"#ebebff\"], [0.47843137254901963, \"#eeeeff\"], [0.4823529411764706, \"#f1f1ff\"], [0.48627450980392156, \"#f4f4ff\"], [0.49019607843137253, \"#f7f7ff\"], [0.49411764705882355, \"#fafaff\"], [0.4980392156862745, \"#fdfdff\"], [0.5019607843137255, \"#fffdfd\"], [0.5058823529411764, \"#fffafa\"], [0.5098039215686274, \"#fff7f7\"], [0.5137254901960784, \"#fff4f4\"], [0.5176470588235295, \"#fff1f1\"], [0.5215686274509804, \"#ffeeee\"], [0.5254901960784314, \"#ffebeb\"], [0.5294117647058824, \"#ffe8e8\"], [0.5333333333333333, \"#ffe5e5\"], [0.5372549019607843, \"#ffe2e2\"], [0.5411764705882353, \"#ffdede\"], [0.5450980392156862, \"#ffdbdb\"], [0.5490196078431373, \"#ffd8d8\"], [0.5529411764705883, \"#ffd5d5\"], [0.5568627450980392, \"#ffd2d2\"], [0.5607843137254902, \"#ffcfcf\"], [0.5647058823529412, \"#ffcccc\"], [0.5686274509803921, \"#ffc9c9\"], [0.5725490196078431, \"#ffc6c6\"], [0.5764705882352941, \"#ffc3c3\"], [0.5803921568627451, \"#ffbfbf\"], [0.5843137254901961, \"#ffbcbc\"], [0.5882352941176471, \"#ffb9b9\"], [0.592156862745098, \"#ffb6b6\"], [0.596078431372549, \"#ffb3b3\"], [0.6, \"#ffb0b0\"], [0.6039215686274509, \"#ffacad\"], [0.6078431372549019, \"#ffa7aa\"], [0.611764705882353, \"#ffa3a7\"], [0.615686274509804, \"#ff9fa4\"], [0.6196078431372549, \"#ff9aa1\"], [0.6235294117647059, \"#ff969e\"], [0.6274509803921569, \"#ff929b\"], [0.6313725490196078, \"#ff8e98\"], [0.6352941176470588, \"#ff8995\"], [0.6392156862745098, \"#ff8592\"], [0.6431372549019608, \"#ff818f\"], [0.6470588235294118, \"#ff7c8c\"], [0.6509803921568628, \"#ff7889\"], [0.6549019607843137, \"#ff7486\"], [0.6588235294117647, \"#ff6f83\"], [0.6627450980392157, \"#ff6b80\"], [0.6666666666666666, \"#ff677d\"], [0.6705882352941176, \"#ff637a\"], [0.6745098039215687, \"#ff5e77\"], [0.6784313725490196, \"#ff5a74\"], [0.6823529411764706, \"#ff5671\"], [0.6862745098039216, \"#ff516e\"], [0.6901960784313725, \"#ff4d6b\"], [0.6941176470588235, \"#ff4968\"], [0.6980392156862745, \"#ff4465\"], [0.7019607843137254, \"#ff4163\"], [0.7058823529411765, \"#ff4062\"], [0.7098039215686275, \"#ff3e60\"], [0.7137254901960784, \"#ff3c5f\"], [0.7176470588235294, \"#ff3b5e\"], [0.7215686274509804, \"#ff395c\"], [0.7254901960784313, \"#ff375b\"], [0.7294117647058823, \"#ff365a\"], [0.7333333333333333, \"#ff3458\"], [0.7372549019607844, \"#ff3257\"], [0.7411764705882353, \"#ff3056\"], [0.7450980392156863, \"#ff2f55\"], [0.7490196078431373, \"#ff2d53\"], [0.7529411764705882, \"#ff2b52\"], [0.7568627450980392, \"#ff2a51\"], [0.7607843137254902, \"#ff284f\"], [0.7647058823529411, \"#ff264e\"], [0.7686274509803922, \"#ff254d\"], [0.7725490196078432, \"#ff234b\"], [0.7764705882352941, \"#ff214a\"], [0.7803921568627451, \"#ff1f49\"], [0.7843137254901961, \"#ff1e48\"], [0.788235294117647, \"#ff1c46\"], [0.792156862745098, \"#ff1a45\"], [0.796078431372549, \"#ff1944\"], [0.8, \"#ff1742\"], [0.803921568627451, \"#ff1842\"], [0.807843137254902, \"#ff1842\"], [0.8117647058823529, \"#ff1942\"], [0.8156862745098039, \"#ff1a42\"], [0.8196078431372549, \"#ff1a42\"], [0.8235294117647058, \"#ff1b42\"], [0.8274509803921568, \"#ff1c42\"], [0.8313725490196079, \"#ff1d42\"], [0.8352941176470589, \"#ff1d42\"], [0.8392156862745098, \"#ff1e42\"], [0.8431372549019608, \"#ff1f42\"], [0.8470588235294118, \"#ff1f42\"], [0.8509803921568627, \"#ff2042\"], [0.8549019607843137, \"#ff2142\"], [0.8588235294117647, \"#ff2142\"], [0.8627450980392157, \"#ff2242\"], [0.8666666666666667, \"#ff2342\"], [0.8705882352941177, \"#ff2442\"], [0.8745098039215686, \"#ff2442\"], [0.8784313725490196, \"#ff2542\"], [0.8823529411764706, \"#ff2642\"], [0.8862745098039215, \"#ff2642\"], [0.8901960784313725, \"#ff2742\"], [0.8941176470588236, \"#ff2842\"], [0.8980392156862745, \"#ff2842\"], [0.9019607843137255, \"#ff2942\"], [0.9058823529411765, \"#ff2a42\"], [0.9098039215686274, \"#ff2b42\"], [0.9137254901960784, \"#ff2c42\"], [0.9176470588235294, \"#ff2d42\"], [0.9215686274509803, \"#ff2e42\"], [0.9254901960784314, \"#ff2f42\"], [0.9294117647058824, \"#ff3042\"], [0.9333333333333333, \"#ff3142\"], [0.9372549019607843, \"#ff3242\"], [0.9411764705882353, \"#ff3342\"], [0.9450980392156862, \"#ff3442\"], [0.9490196078431372, \"#ff3542\"], [0.9529411764705882, \"#ff3642\"], [0.9568627450980393, \"#ff3742\"], [0.9607843137254902, \"#ff3842\"], [0.9647058823529412, \"#ff3942\"], [0.9686274509803922, \"#ff3a42\"], [0.9725490196078431, \"#ff3b42\"], [0.9764705882352941, \"#ff3c42\"], [0.9803921568627451, \"#ff3d42\"], [0.984313725490196, \"#ff3e42\"], [0.9882352941176471, \"#ff3f42\"], [0.9921568627450981, \"#ff4042\"], [0.996078431372549, \"#ff4142\"], [1.0, \"#ff4242\"]], \"showscale\": false, \"x\": [\"Column 5\", \"Column 4\", \"Column 2\", \"Column 7\", \"Column 6\", \"Column 1\", \"Column 0\", \"Column 3\"], \"y\": [\"Continuous Index 2\", \"Continuous Index 1\", \"Continuous Index 0\", \"Continuous Index 3\"], \"yaxis\": \"y3\", \"z\": [[0.08648002846205055, 2.3516649229445834, 0.49503881679667483, -0.5844441340146637, -0.45865658138162924, -0.3438390613493145, -0.3538795130080135, -1.192364478449689], [0.6192496216776943, 0.969025142008945, 0.24150441328773883, 0.8669437373619041, -0.27801625125564483, -1.4639083196959344, -1.740621996873205, 0.7858236534885007], [0.3931965577249646, -0.7917574535354329, 2.077619367086736, -0.7977536589844159, 0.45880946003944695, 0.37191571837320575, -0.3810135742402566, -1.3310164164642488], [-0.9843563607501917, 1.1919648273875072, -1.0368296026941224, 0.7175730634395774, 0.26756700062063277, -1.6349471424273745, 0.4379107326940994, 1.0411174817298738]], \"zmax\": 2.3516649229445834, \"zmin\": -1.740621996873205, \"type\": \"heatmap\", \"uid\": \"1faccbd8-d1b1-42b5-8643-7f33d676f212\"}, {\"colorscale\": [[0.0, \"#20d9ba\"], [0.1111111111111111, \"#9017e6\"], [0.2222222222222222, \"#ff1968\"], [0.3333333333333333, \"#ffe119\"], [0.4444444444444444, \"#3cb44b\"], [0.5555555555555556, \"#4e41d8\"], [0.6666666666666666, \"#ffa400\"], [0.7777777777777778, \"#aaffc3\"], [0.8888888888888888, \"#800000\"], [1.0, \"#e6beff\"]], \"showscale\": false, \"x\": [\"Column 5\", \"Column 4\", \"Column 2\", \"Column 7\", \"Column 6\", \"Column 1\", \"Column 0\", \"Column 3\"], \"y\": [\"Categorical Index 0\", \"Categorical Index 1\", \"Categorical Index 3\", \"Categorical Index 2\"], \"yaxis\": \"y2\", \"z\": [[6, 7, 7, 9, 2, 9, 4, 4], [8, 3, 4, 5, 1, 9, 3, 2], [8, 3, 0, 9, 3, 4, 0, 4], [6, 4, 1, 5, 2, 3, 8, 7]], \"type\": \"heatmap\", \"uid\": \"d1e2402e-2861-4669-b2bd-657347a0e25b\"}, {\"colorscale\": [[0.0, \"#ebf6f7\"], [1.0, \"#171412\"]], \"showscale\": false, \"x\": [\"Column 5\", \"Column 4\", \"Column 2\", \"Column 7\", \"Column 6\", \"Column 1\", \"Column 0\", \"Column 3\"], \"y\": [\"Binary Index 2\", \"Binary Index 3\", \"Binary Index 1\", \"Binary Index 0\"], \"yaxis\": \"y\", \"z\": [[0, 1, 0, 1, 1, 0, 1, 0], [0, 1, 0, 0, 1, 1, 1, 0], [0, 1, 1, 1, 1, 1, 0, 1], [1, 0, 0, 1, 1, 0, 1, 1]], \"type\": \"heatmap\", \"uid\": \"b69cd012-c11b-4e70-9cd6-dd9336b3f756\"}], {\"annotations\": [{\"font\": {\"size\": 9.6}, \"showarrow\": false, \"text\": \"<b>Continuous</b>\", \"x\": 0.5, \"xanchor\": \"center\", \"xref\": \"paper\", \"y\": 0.90625, \"yanchor\": \"middle\", \"yref\": \"paper\"}, {\"font\": {\"size\": 9.6}, \"showarrow\": false, \"text\": \"<b>Score</b>\", \"width\": 64, \"x\": 1.0016, \"xanchor\": \"left\", \"xref\": \"paper\", \"y\": 0.96875, \"yanchor\": \"middle\", \"yref\": \"paper\"}, {\"font\": {\"size\": 9.6}, \"showarrow\": false, \"text\": \"<b>0.25 \\u00b1 0.30</b>\", \"width\": 64, \"x\": 1.0016, \"xanchor\": \"left\", \"xref\": \"paper\", \"y\": 0.84375, \"yanchor\": \"middle\", \"yref\": \"paper\"}, {\"font\": {\"size\": 9.6}, \"showarrow\": false, \"text\": \"<b>-0.25 \\u00b1 0.11</b>\", \"width\": 64, \"x\": 1.0016, \"xanchor\": \"left\", \"xref\": \"paper\", \"y\": 0.78125, \"yanchor\": \"middle\", \"yref\": \"paper\"}, {\"font\": {\"size\": 9.6}, \"showarrow\": false, \"text\": \"<b>-0.49 \\u00b1 0.14</b>\", \"width\": 64, \"x\": 1.0016, \"xanchor\": \"left\", \"xref\": \"paper\", \"y\": 0.71875, \"yanchor\": \"middle\", \"yref\": \"paper\"}, {\"font\": {\"size\": 9.6}, \"showarrow\": false, \"text\": \"<b>-0.68 \\u00b1 0.05</b>\", \"width\": 64, \"x\": 1.0016, \"xanchor\": \"left\", \"xref\": \"paper\", \"y\": 0.65625, \"yanchor\": \"middle\", \"yref\": \"paper\"}, {\"font\": {\"size\": 9.6}, \"showarrow\": false, \"text\": \"<b>Categorical</b>\", \"x\": 0.5, \"xanchor\": \"center\", \"xref\": \"paper\", \"y\": 0.59375, \"yanchor\": \"middle\", \"yref\": \"paper\"}, {\"font\": {\"size\": 9.6}, \"showarrow\": false, \"text\": \"<b>0.19 \\u00b1 0.41</b>\", \"width\": 64, \"x\": 1.0016, \"xanchor\": \"left\", \"xref\": \"paper\", \"y\": 0.53125, \"yanchor\": \"middle\", \"yref\": \"paper\"}, {\"font\": {\"size\": 9.6}, \"showarrow\": false, \"text\": \"<b>-0.19 \\u00b1 0.60</b>\", \"width\": 64, \"x\": 1.0016, \"xanchor\": \"left\", \"xref\": \"paper\", \"y\": 0.46875, \"yanchor\": \"middle\", \"yref\": \"paper\"}, {\"font\": {\"size\": 9.6}, \"showarrow\": false, \"text\": \"<b>-0.24 \\u00b1 0.33</b>\", \"width\": 64, \"x\": 1.0016, \"xanchor\": \"left\", \"xref\": \"paper\", \"y\": 0.40625, \"yanchor\": \"middle\", \"yref\": \"paper\"}, {\"font\": {\"size\": 9.6}, \"showarrow\": false, \"text\": \"<b>-0.43 \\u00b1 0.19</b>\", \"width\": 64, \"x\": 1.0016, \"xanchor\": \"left\", \"xref\": \"paper\", \"y\": 0.34375, \"yanchor\": \"middle\", \"yref\": \"paper\"}, {\"font\": {\"size\": 9.6}, \"showarrow\": false, \"text\": \"<b>Binary</b>\", \"x\": 0.5, \"xanchor\": \"center\", \"xref\": \"paper\", \"y\": 0.28125, \"yanchor\": \"middle\", \"yref\": \"paper\"}, {\"font\": {\"size\": 9.6}, \"showarrow\": false, \"text\": \"<b>0.30 \\u00b1 0.24</b>\", \"width\": 64, \"x\": 1.0016, \"xanchor\": \"left\", \"xref\": \"paper\", \"y\": 0.21875, \"yanchor\": \"middle\", \"yref\": \"paper\"}, {\"font\": {\"size\": 9.6}, \"showarrow\": false, \"text\": \"<b>0.24 \\u00b1 0.13</b>\", \"width\": 64, \"x\": 1.0016, \"xanchor\": \"left\", \"xref\": \"paper\", \"y\": 0.15625, \"yanchor\": \"middle\", \"yref\": \"paper\"}, {\"font\": {\"size\": 9.6}, \"showarrow\": false, \"text\": \"<b>0.17 \\u00b1 0.48</b>\", \"width\": 64, \"x\": 1.0016, \"xanchor\": \"left\", \"xref\": \"paper\", \"y\": 0.09375, \"yanchor\": \"middle\", \"yref\": \"paper\"}, {\"font\": {\"size\": 9.6}, \"showarrow\": false, \"text\": \"<b>0.10 \\u00b1 0.48</b>\", \"width\": 64, \"x\": 1.0016, \"xanchor\": \"left\", \"xref\": \"paper\", \"y\": 0.03125, \"yanchor\": \"middle\", \"yref\": \"paper\"}], \"height\": 512.0, \"margin\": {\"l\": 196, \"r\": 196}, \"title\": \"Summary Match Panel\", \"width\": 880, \"xaxis\": {\"anchor\": \"y\"}, \"yaxis\": {\"domain\": [0, 0.25], \"dtick\": 1, \"tickfont\": {\"size\": 9.6}}, \"yaxis4\": {\"domain\": [0.9375, 1], \"tickfont\": {\"size\": 9.6}}, \"yaxis3\": {\"domain\": [0.625, 0.875], \"dtick\": 1, \"tickfont\": {\"size\": 9.6}}, \"yaxis2\": {\"domain\": [0.3125, 0.5625], \"dtick\": 1, \"tickfont\": {\"size\": 9.6}}}, {\"showLink\": false, \"linkText\": \"Export to plot.ly\"})});</script>"
      ],
      "text/vnd.plotly.v1+html": [
       "<div id=\"a6aeb1dc-9971-470b-ac57-758c2e918c9e\" style=\"height: 512.0px; width: 880px;\" class=\"plotly-graph-div\"></div><script type=\"text/javascript\">require([\"plotly\"], function(Plotly) { window.PLOTLYENV=window.PLOTLYENV || {};window.PLOTLYENV.BASE_URL=\"https://plot.ly\";Plotly.newPlot(\"a6aeb1dc-9971-470b-ac57-758c2e918c9e\", [{\"colorscale\": [[0.0, \"#4242ff\"], [0.00392156862745098, \"#4241ff\"], [0.00784313725490196, \"#4240ff\"], [0.011764705882352941, \"#423fff\"], [0.01568627450980392, \"#423eff\"], [0.0196078431372549, \"#423dff\"], [0.023529411764705882, \"#423cff\"], [0.027450980392156862, \"#423bff\"], [0.03137254901960784, \"#423aff\"], [0.03529411764705882, \"#4239ff\"], [0.0392156862745098, \"#4238ff\"], [0.043137254901960784, \"#4237ff\"], [0.047058823529411764, \"#4236ff\"], [0.050980392156862744, \"#4235ff\"], [0.054901960784313725, \"#4234ff\"], [0.058823529411764705, \"#4233ff\"], [0.06274509803921569, \"#4232ff\"], [0.06666666666666667, \"#4231ff\"], [0.07058823529411765, \"#4230ff\"], [0.07450980392156863, \"#422fff\"], [0.0784313725490196, \"#422eff\"], [0.08235294117647059, \"#422dff\"], [0.08627450980392157, \"#422cff\"], [0.09019607843137255, \"#422bff\"], [0.09411764705882353, \"#422aff\"], [0.09803921568627451, \"#4229ff\"], [0.10196078431372549, \"#4228ff\"], [0.10588235294117647, \"#4228ff\"], [0.10980392156862745, \"#4227ff\"], [0.11372549019607843, \"#4226ff\"], [0.11764705882352941, \"#4226ff\"], [0.12156862745098039, \"#4225ff\"], [0.12549019607843137, \"#4224ff\"], [0.12941176470588237, \"#4224ff\"], [0.13333333333333333, \"#4223ff\"], [0.13725490196078433, \"#4222ff\"], [0.1411764705882353, \"#4221ff\"], [0.1450980392156863, \"#4221ff\"], [0.14901960784313725, \"#4220ff\"], [0.15294117647058825, \"#421fff\"], [0.1568627450980392, \"#421fff\"], [0.1607843137254902, \"#421eff\"], [0.16470588235294117, \"#421dff\"], [0.16862745098039217, \"#421dff\"], [0.17254901960784313, \"#421cff\"], [0.17647058823529413, \"#421bff\"], [0.1803921568627451, \"#421aff\"], [0.1843137254901961, \"#421aff\"], [0.18823529411764706, \"#4219ff\"], [0.19215686274509805, \"#4218ff\"], [0.19607843137254902, \"#4218ff\"], [0.2, \"#4217ff\"], [0.20392156862745098, \"#4419ff\"], [0.20784313725490197, \"#451aff\"], [0.21176470588235294, \"#461cff\"], [0.21568627450980393, \"#481eff\"], [0.2196078431372549, \"#491fff\"], [0.2235294117647059, \"#4a21ff\"], [0.22745098039215686, \"#4b23ff\"], [0.23137254901960785, \"#4d25ff\"], [0.23529411764705882, \"#4e26ff\"], [0.23921568627450981, \"#4f28ff\"], [0.24313725490196078, \"#512aff\"], [0.24705882352941178, \"#522bff\"], [0.25098039215686274, \"#532dff\"], [0.2549019607843137, \"#542fff\"], [0.25882352941176473, \"#5630ff\"], [0.2627450980392157, \"#5732ff\"], [0.26666666666666666, \"#5834ff\"], [0.27058823529411763, \"#5a36ff\"], [0.27450980392156865, \"#5b37ff\"], [0.2784313725490196, \"#5c39ff\"], [0.2823529411764706, \"#5e3bff\"], [0.28627450980392155, \"#5f3cff\"], [0.2901960784313726, \"#603eff\"], [0.29411764705882354, \"#6240ff\"], [0.2980392156862745, \"#6341ff\"], [0.30196078431372547, \"#6544ff\"], [0.3058823529411765, \"#6849ff\"], [0.30980392156862746, \"#6b4dff\"], [0.3137254901960784, \"#6e51ff\"], [0.3176470588235294, \"#7156ff\"], [0.3215686274509804, \"#745aff\"], [0.3254901960784314, \"#775eff\"], [0.32941176470588235, \"#7a63ff\"], [0.3333333333333333, \"#7d67ff\"], [0.33725490196078434, \"#806bff\"], [0.3411764705882353, \"#836fff\"], [0.34509803921568627, \"#8674ff\"], [0.34901960784313724, \"#8978ff\"], [0.35294117647058826, \"#8c7cff\"], [0.3568627450980392, \"#8f81ff\"], [0.3607843137254902, \"#9285ff\"], [0.36470588235294116, \"#9589ff\"], [0.3686274509803922, \"#988eff\"], [0.37254901960784315, \"#9b92ff\"], [0.3764705882352941, \"#9e96ff\"], [0.3803921568627451, \"#a19aff\"], [0.3843137254901961, \"#a49fff\"], [0.38823529411764707, \"#a7a3ff\"], [0.39215686274509803, \"#aaa7ff\"], [0.396078431372549, \"#adacff\"], [0.4, \"#b0b0ff\"], [0.403921568627451, \"#b3b3ff\"], [0.40784313725490196, \"#b6b6ff\"], [0.4117647058823529, \"#b9b9ff\"], [0.41568627450980394, \"#bcbcff\"], [0.4196078431372549, \"#bfbfff\"], [0.4235294117647059, \"#c3c3ff\"], [0.42745098039215684, \"#c6c6ff\"], [0.43137254901960786, \"#c9c9ff\"], [0.43529411764705883, \"#ccccff\"], [0.4392156862745098, \"#cfcfff\"], [0.44313725490196076, \"#d2d2ff\"], [0.4470588235294118, \"#d5d5ff\"], [0.45098039215686275, \"#d8d8ff\"], [0.4549019607843137, \"#dbdbff\"], [0.4588235294117647, \"#dedeff\"], [0.4627450980392157, \"#e2e2ff\"], [0.4666666666666667, \"#e5e5ff\"], [0.47058823529411764, \"#e8e8ff\"], [0.4745098039215686, \"#ebebff\"], [0.47843137254901963, \"#eeeeff\"], [0.4823529411764706, \"#f1f1ff\"], [0.48627450980392156, \"#f4f4ff\"], [0.49019607843137253, \"#f7f7ff\"], [0.49411764705882355, \"#fafaff\"], [0.4980392156862745, \"#fdfdff\"], [0.5019607843137255, \"#fffdfd\"], [0.5058823529411764, \"#fffafa\"], [0.5098039215686274, \"#fff7f7\"], [0.5137254901960784, \"#fff4f4\"], [0.5176470588235295, \"#fff1f1\"], [0.5215686274509804, \"#ffeeee\"], [0.5254901960784314, \"#ffebeb\"], [0.5294117647058824, \"#ffe8e8\"], [0.5333333333333333, \"#ffe5e5\"], [0.5372549019607843, \"#ffe2e2\"], [0.5411764705882353, \"#ffdede\"], [0.5450980392156862, \"#ffdbdb\"], [0.5490196078431373, \"#ffd8d8\"], [0.5529411764705883, \"#ffd5d5\"], [0.5568627450980392, \"#ffd2d2\"], [0.5607843137254902, \"#ffcfcf\"], [0.5647058823529412, \"#ffcccc\"], [0.5686274509803921, \"#ffc9c9\"], [0.5725490196078431, \"#ffc6c6\"], [0.5764705882352941, \"#ffc3c3\"], [0.5803921568627451, \"#ffbfbf\"], [0.5843137254901961, \"#ffbcbc\"], [0.5882352941176471, \"#ffb9b9\"], [0.592156862745098, \"#ffb6b6\"], [0.596078431372549, \"#ffb3b3\"], [0.6, \"#ffb0b0\"], [0.6039215686274509, \"#ffacad\"], [0.6078431372549019, \"#ffa7aa\"], [0.611764705882353, \"#ffa3a7\"], [0.615686274509804, \"#ff9fa4\"], [0.6196078431372549, \"#ff9aa1\"], [0.6235294117647059, \"#ff969e\"], [0.6274509803921569, \"#ff929b\"], [0.6313725490196078, \"#ff8e98\"], [0.6352941176470588, \"#ff8995\"], [0.6392156862745098, \"#ff8592\"], [0.6431372549019608, \"#ff818f\"], [0.6470588235294118, \"#ff7c8c\"], [0.6509803921568628, \"#ff7889\"], [0.6549019607843137, \"#ff7486\"], [0.6588235294117647, \"#ff6f83\"], [0.6627450980392157, \"#ff6b80\"], [0.6666666666666666, \"#ff677d\"], [0.6705882352941176, \"#ff637a\"], [0.6745098039215687, \"#ff5e77\"], [0.6784313725490196, \"#ff5a74\"], [0.6823529411764706, \"#ff5671\"], [0.6862745098039216, \"#ff516e\"], [0.6901960784313725, \"#ff4d6b\"], [0.6941176470588235, \"#ff4968\"], [0.6980392156862745, \"#ff4465\"], [0.7019607843137254, \"#ff4163\"], [0.7058823529411765, \"#ff4062\"], [0.7098039215686275, \"#ff3e60\"], [0.7137254901960784, \"#ff3c5f\"], [0.7176470588235294, \"#ff3b5e\"], [0.7215686274509804, \"#ff395c\"], [0.7254901960784313, \"#ff375b\"], [0.7294117647058823, \"#ff365a\"], [0.7333333333333333, \"#ff3458\"], [0.7372549019607844, \"#ff3257\"], [0.7411764705882353, \"#ff3056\"], [0.7450980392156863, \"#ff2f55\"], [0.7490196078431373, \"#ff2d53\"], [0.7529411764705882, \"#ff2b52\"], [0.7568627450980392, \"#ff2a51\"], [0.7607843137254902, \"#ff284f\"], [0.7647058823529411, \"#ff264e\"], [0.7686274509803922, \"#ff254d\"], [0.7725490196078432, \"#ff234b\"], [0.7764705882352941, \"#ff214a\"], [0.7803921568627451, \"#ff1f49\"], [0.7843137254901961, \"#ff1e48\"], [0.788235294117647, \"#ff1c46\"], [0.792156862745098, \"#ff1a45\"], [0.796078431372549, \"#ff1944\"], [0.8, \"#ff1742\"], [0.803921568627451, \"#ff1842\"], [0.807843137254902, \"#ff1842\"], [0.8117647058823529, \"#ff1942\"], [0.8156862745098039, \"#ff1a42\"], [0.8196078431372549, \"#ff1a42\"], [0.8235294117647058, \"#ff1b42\"], [0.8274509803921568, \"#ff1c42\"], [0.8313725490196079, \"#ff1d42\"], [0.8352941176470589, \"#ff1d42\"], [0.8392156862745098, \"#ff1e42\"], [0.8431372549019608, \"#ff1f42\"], [0.8470588235294118, \"#ff1f42\"], [0.8509803921568627, \"#ff2042\"], [0.8549019607843137, \"#ff2142\"], [0.8588235294117647, \"#ff2142\"], [0.8627450980392157, \"#ff2242\"], [0.8666666666666667, \"#ff2342\"], [0.8705882352941177, \"#ff2442\"], [0.8745098039215686, \"#ff2442\"], [0.8784313725490196, \"#ff2542\"], [0.8823529411764706, \"#ff2642\"], [0.8862745098039215, \"#ff2642\"], [0.8901960784313725, \"#ff2742\"], [0.8941176470588236, \"#ff2842\"], [0.8980392156862745, \"#ff2842\"], [0.9019607843137255, \"#ff2942\"], [0.9058823529411765, \"#ff2a42\"], [0.9098039215686274, \"#ff2b42\"], [0.9137254901960784, \"#ff2c42\"], [0.9176470588235294, \"#ff2d42\"], [0.9215686274509803, \"#ff2e42\"], [0.9254901960784314, \"#ff2f42\"], [0.9294117647058824, \"#ff3042\"], [0.9333333333333333, \"#ff3142\"], [0.9372549019607843, \"#ff3242\"], [0.9411764705882353, \"#ff3342\"], [0.9450980392156862, \"#ff3442\"], [0.9490196078431372, \"#ff3542\"], [0.9529411764705882, \"#ff3642\"], [0.9568627450980393, \"#ff3742\"], [0.9607843137254902, \"#ff3842\"], [0.9647058823529412, \"#ff3942\"], [0.9686274509803922, \"#ff3a42\"], [0.9725490196078431, \"#ff3b42\"], [0.9764705882352941, \"#ff3c42\"], [0.9803921568627451, \"#ff3d42\"], [0.984313725490196, \"#ff3e42\"], [0.9882352941176471, \"#ff3f42\"], [0.9921568627450981, \"#ff4042\"], [0.996078431372549, \"#ff4142\"], [1.0, \"#ff4242\"]], \"showscale\": false, \"text\": [[\"Column 5\", \"Column 4\", \"Column 2\", \"Column 7\", \"Column 6\", \"Column 1\", \"Column 0\", \"Column 3\"]], \"x\": [\"Column 5\", \"Column 4\", \"Column 2\", \"Column 7\", \"Column 6\", \"Column 1\", \"Column 0\", \"Column 3\"], \"y\": [\"Target\"], \"yaxis\": \"y4\", \"z\": [[-1.836649516477367, -1.1297551111687338, -0.5956325385270926, 0.22770889709294234, 0.5741421266346989, 0.7109283174410879, 0.9577132609070443, 1.09154456409742]], \"zmax\": 1.09154456409742, \"zmin\": -1.836649516477367, \"type\": \"heatmap\", \"uid\": \"777ee6b4-1d29-4efe-8cdd-3318bd7d64c2\"}, {\"colorscale\": [[0.0, \"#4242ff\"], [0.00392156862745098, \"#4241ff\"], [0.00784313725490196, \"#4240ff\"], [0.011764705882352941, \"#423fff\"], [0.01568627450980392, \"#423eff\"], [0.0196078431372549, \"#423dff\"], [0.023529411764705882, \"#423cff\"], [0.027450980392156862, \"#423bff\"], [0.03137254901960784, \"#423aff\"], [0.03529411764705882, \"#4239ff\"], [0.0392156862745098, \"#4238ff\"], [0.043137254901960784, \"#4237ff\"], [0.047058823529411764, \"#4236ff\"], [0.050980392156862744, \"#4235ff\"], [0.054901960784313725, \"#4234ff\"], [0.058823529411764705, \"#4233ff\"], [0.06274509803921569, \"#4232ff\"], [0.06666666666666667, \"#4231ff\"], [0.07058823529411765, \"#4230ff\"], [0.07450980392156863, \"#422fff\"], [0.0784313725490196, \"#422eff\"], [0.08235294117647059, \"#422dff\"], [0.08627450980392157, \"#422cff\"], [0.09019607843137255, \"#422bff\"], [0.09411764705882353, \"#422aff\"], [0.09803921568627451, \"#4229ff\"], [0.10196078431372549, \"#4228ff\"], [0.10588235294117647, \"#4228ff\"], [0.10980392156862745, \"#4227ff\"], [0.11372549019607843, \"#4226ff\"], [0.11764705882352941, \"#4226ff\"], [0.12156862745098039, \"#4225ff\"], [0.12549019607843137, \"#4224ff\"], [0.12941176470588237, \"#4224ff\"], [0.13333333333333333, \"#4223ff\"], [0.13725490196078433, \"#4222ff\"], [0.1411764705882353, \"#4221ff\"], [0.1450980392156863, \"#4221ff\"], [0.14901960784313725, \"#4220ff\"], [0.15294117647058825, \"#421fff\"], [0.1568627450980392, \"#421fff\"], [0.1607843137254902, \"#421eff\"], [0.16470588235294117, \"#421dff\"], [0.16862745098039217, \"#421dff\"], [0.17254901960784313, \"#421cff\"], [0.17647058823529413, \"#421bff\"], [0.1803921568627451, \"#421aff\"], [0.1843137254901961, \"#421aff\"], [0.18823529411764706, \"#4219ff\"], [0.19215686274509805, \"#4218ff\"], [0.19607843137254902, \"#4218ff\"], [0.2, \"#4217ff\"], [0.20392156862745098, \"#4419ff\"], [0.20784313725490197, \"#451aff\"], [0.21176470588235294, \"#461cff\"], [0.21568627450980393, \"#481eff\"], [0.2196078431372549, \"#491fff\"], [0.2235294117647059, \"#4a21ff\"], [0.22745098039215686, \"#4b23ff\"], [0.23137254901960785, \"#4d25ff\"], [0.23529411764705882, \"#4e26ff\"], [0.23921568627450981, \"#4f28ff\"], [0.24313725490196078, \"#512aff\"], [0.24705882352941178, \"#522bff\"], [0.25098039215686274, \"#532dff\"], [0.2549019607843137, \"#542fff\"], [0.25882352941176473, \"#5630ff\"], [0.2627450980392157, \"#5732ff\"], [0.26666666666666666, \"#5834ff\"], [0.27058823529411763, \"#5a36ff\"], [0.27450980392156865, \"#5b37ff\"], [0.2784313725490196, \"#5c39ff\"], [0.2823529411764706, \"#5e3bff\"], [0.28627450980392155, \"#5f3cff\"], [0.2901960784313726, \"#603eff\"], [0.29411764705882354, \"#6240ff\"], [0.2980392156862745, \"#6341ff\"], [0.30196078431372547, \"#6544ff\"], [0.3058823529411765, \"#6849ff\"], [0.30980392156862746, \"#6b4dff\"], [0.3137254901960784, \"#6e51ff\"], [0.3176470588235294, \"#7156ff\"], [0.3215686274509804, \"#745aff\"], [0.3254901960784314, \"#775eff\"], [0.32941176470588235, \"#7a63ff\"], [0.3333333333333333, \"#7d67ff\"], [0.33725490196078434, \"#806bff\"], [0.3411764705882353, \"#836fff\"], [0.34509803921568627, \"#8674ff\"], [0.34901960784313724, \"#8978ff\"], [0.35294117647058826, \"#8c7cff\"], [0.3568627450980392, \"#8f81ff\"], [0.3607843137254902, \"#9285ff\"], [0.36470588235294116, \"#9589ff\"], [0.3686274509803922, \"#988eff\"], [0.37254901960784315, \"#9b92ff\"], [0.3764705882352941, \"#9e96ff\"], [0.3803921568627451, \"#a19aff\"], [0.3843137254901961, \"#a49fff\"], [0.38823529411764707, \"#a7a3ff\"], [0.39215686274509803, \"#aaa7ff\"], [0.396078431372549, \"#adacff\"], [0.4, \"#b0b0ff\"], [0.403921568627451, \"#b3b3ff\"], [0.40784313725490196, \"#b6b6ff\"], [0.4117647058823529, \"#b9b9ff\"], [0.41568627450980394, \"#bcbcff\"], [0.4196078431372549, \"#bfbfff\"], [0.4235294117647059, \"#c3c3ff\"], [0.42745098039215684, \"#c6c6ff\"], [0.43137254901960786, \"#c9c9ff\"], [0.43529411764705883, \"#ccccff\"], [0.4392156862745098, \"#cfcfff\"], [0.44313725490196076, \"#d2d2ff\"], [0.4470588235294118, \"#d5d5ff\"], [0.45098039215686275, \"#d8d8ff\"], [0.4549019607843137, \"#dbdbff\"], [0.4588235294117647, \"#dedeff\"], [0.4627450980392157, \"#e2e2ff\"], [0.4666666666666667, \"#e5e5ff\"], [0.47058823529411764, \"#e8e8ff\"], [0.4745098039215686, \"#ebebff\"], [0.47843137254901963, \"#eeeeff\"], [0.4823529411764706, \"#f1f1ff\"], [0.48627450980392156, \"#f4f4ff\"], [0.49019607843137253, \"#f7f7ff\"], [0.49411764705882355, \"#fafaff\"], [0.4980392156862745, \"#fdfdff\"], [0.5019607843137255, \"#fffdfd\"], [0.5058823529411764, \"#fffafa\"], [0.5098039215686274, \"#fff7f7\"], [0.5137254901960784, \"#fff4f4\"], [0.5176470588235295, \"#fff1f1\"], [0.5215686274509804, \"#ffeeee\"], [0.5254901960784314, \"#ffebeb\"], [0.5294117647058824, \"#ffe8e8\"], [0.5333333333333333, \"#ffe5e5\"], [0.5372549019607843, \"#ffe2e2\"], [0.5411764705882353, \"#ffdede\"], [0.5450980392156862, \"#ffdbdb\"], [0.5490196078431373, \"#ffd8d8\"], [0.5529411764705883, \"#ffd5d5\"], [0.5568627450980392, \"#ffd2d2\"], [0.5607843137254902, \"#ffcfcf\"], [0.5647058823529412, \"#ffcccc\"], [0.5686274509803921, \"#ffc9c9\"], [0.5725490196078431, \"#ffc6c6\"], [0.5764705882352941, \"#ffc3c3\"], [0.5803921568627451, \"#ffbfbf\"], [0.5843137254901961, \"#ffbcbc\"], [0.5882352941176471, \"#ffb9b9\"], [0.592156862745098, \"#ffb6b6\"], [0.596078431372549, \"#ffb3b3\"], [0.6, \"#ffb0b0\"], [0.6039215686274509, \"#ffacad\"], [0.6078431372549019, \"#ffa7aa\"], [0.611764705882353, \"#ffa3a7\"], [0.615686274509804, \"#ff9fa4\"], [0.6196078431372549, \"#ff9aa1\"], [0.6235294117647059, \"#ff969e\"], [0.6274509803921569, \"#ff929b\"], [0.6313725490196078, \"#ff8e98\"], [0.6352941176470588, \"#ff8995\"], [0.6392156862745098, \"#ff8592\"], [0.6431372549019608, \"#ff818f\"], [0.6470588235294118, \"#ff7c8c\"], [0.6509803921568628, \"#ff7889\"], [0.6549019607843137, \"#ff7486\"], [0.6588235294117647, \"#ff6f83\"], [0.6627450980392157, \"#ff6b80\"], [0.6666666666666666, \"#ff677d\"], [0.6705882352941176, \"#ff637a\"], [0.6745098039215687, \"#ff5e77\"], [0.6784313725490196, \"#ff5a74\"], [0.6823529411764706, \"#ff5671\"], [0.6862745098039216, \"#ff516e\"], [0.6901960784313725, \"#ff4d6b\"], [0.6941176470588235, \"#ff4968\"], [0.6980392156862745, \"#ff4465\"], [0.7019607843137254, \"#ff4163\"], [0.7058823529411765, \"#ff4062\"], [0.7098039215686275, \"#ff3e60\"], [0.7137254901960784, \"#ff3c5f\"], [0.7176470588235294, \"#ff3b5e\"], [0.7215686274509804, \"#ff395c\"], [0.7254901960784313, \"#ff375b\"], [0.7294117647058823, \"#ff365a\"], [0.7333333333333333, \"#ff3458\"], [0.7372549019607844, \"#ff3257\"], [0.7411764705882353, \"#ff3056\"], [0.7450980392156863, \"#ff2f55\"], [0.7490196078431373, \"#ff2d53\"], [0.7529411764705882, \"#ff2b52\"], [0.7568627450980392, \"#ff2a51\"], [0.7607843137254902, \"#ff284f\"], [0.7647058823529411, \"#ff264e\"], [0.7686274509803922, \"#ff254d\"], [0.7725490196078432, \"#ff234b\"], [0.7764705882352941, \"#ff214a\"], [0.7803921568627451, \"#ff1f49\"], [0.7843137254901961, \"#ff1e48\"], [0.788235294117647, \"#ff1c46\"], [0.792156862745098, \"#ff1a45\"], [0.796078431372549, \"#ff1944\"], [0.8, \"#ff1742\"], [0.803921568627451, \"#ff1842\"], [0.807843137254902, \"#ff1842\"], [0.8117647058823529, \"#ff1942\"], [0.8156862745098039, \"#ff1a42\"], [0.8196078431372549, \"#ff1a42\"], [0.8235294117647058, \"#ff1b42\"], [0.8274509803921568, \"#ff1c42\"], [0.8313725490196079, \"#ff1d42\"], [0.8352941176470589, \"#ff1d42\"], [0.8392156862745098, \"#ff1e42\"], [0.8431372549019608, \"#ff1f42\"], [0.8470588235294118, \"#ff1f42\"], [0.8509803921568627, \"#ff2042\"], [0.8549019607843137, \"#ff2142\"], [0.8588235294117647, \"#ff2142\"], [0.8627450980392157, \"#ff2242\"], [0.8666666666666667, \"#ff2342\"], [0.8705882352941177, \"#ff2442\"], [0.8745098039215686, \"#ff2442\"], [0.8784313725490196, \"#ff2542\"], [0.8823529411764706, \"#ff2642\"], [0.8862745098039215, \"#ff2642\"], [0.8901960784313725, \"#ff2742\"], [0.8941176470588236, \"#ff2842\"], [0.8980392156862745, \"#ff2842\"], [0.9019607843137255, \"#ff2942\"], [0.9058823529411765, \"#ff2a42\"], [0.9098039215686274, \"#ff2b42\"], [0.9137254901960784, \"#ff2c42\"], [0.9176470588235294, \"#ff2d42\"], [0.9215686274509803, \"#ff2e42\"], [0.9254901960784314, \"#ff2f42\"], [0.9294117647058824, \"#ff3042\"], [0.9333333333333333, \"#ff3142\"], [0.9372549019607843, \"#ff3242\"], [0.9411764705882353, \"#ff3342\"], [0.9450980392156862, \"#ff3442\"], [0.9490196078431372, \"#ff3542\"], [0.9529411764705882, \"#ff3642\"], [0.9568627450980393, \"#ff3742\"], [0.9607843137254902, \"#ff3842\"], [0.9647058823529412, \"#ff3942\"], [0.9686274509803922, \"#ff3a42\"], [0.9725490196078431, \"#ff3b42\"], [0.9764705882352941, \"#ff3c42\"], [0.9803921568627451, \"#ff3d42\"], [0.984313725490196, \"#ff3e42\"], [0.9882352941176471, \"#ff3f42\"], [0.9921568627450981, \"#ff4042\"], [0.996078431372549, \"#ff4142\"], [1.0, \"#ff4242\"]], \"showscale\": false, \"x\": [\"Column 5\", \"Column 4\", \"Column 2\", \"Column 7\", \"Column 6\", \"Column 1\", \"Column 0\", \"Column 3\"], \"y\": [\"Continuous Index 2\", \"Continuous Index 1\", \"Continuous Index 0\", \"Continuous Index 3\"], \"yaxis\": \"y3\", \"z\": [[0.08648002846205055, 2.3516649229445834, 0.49503881679667483, -0.5844441340146637, -0.45865658138162924, -0.3438390613493145, -0.3538795130080135, -1.192364478449689], [0.6192496216776943, 0.969025142008945, 0.24150441328773883, 0.8669437373619041, -0.27801625125564483, -1.4639083196959344, -1.740621996873205, 0.7858236534885007], [0.3931965577249646, -0.7917574535354329, 2.077619367086736, -0.7977536589844159, 0.45880946003944695, 0.37191571837320575, -0.3810135742402566, -1.3310164164642488], [-0.9843563607501917, 1.1919648273875072, -1.0368296026941224, 0.7175730634395774, 0.26756700062063277, -1.6349471424273745, 0.4379107326940994, 1.0411174817298738]], \"zmax\": 2.3516649229445834, \"zmin\": -1.740621996873205, \"type\": \"heatmap\", \"uid\": \"1faccbd8-d1b1-42b5-8643-7f33d676f212\"}, {\"colorscale\": [[0.0, \"#20d9ba\"], [0.1111111111111111, \"#9017e6\"], [0.2222222222222222, \"#ff1968\"], [0.3333333333333333, \"#ffe119\"], [0.4444444444444444, \"#3cb44b\"], [0.5555555555555556, \"#4e41d8\"], [0.6666666666666666, \"#ffa400\"], [0.7777777777777778, \"#aaffc3\"], [0.8888888888888888, \"#800000\"], [1.0, \"#e6beff\"]], \"showscale\": false, \"x\": [\"Column 5\", \"Column 4\", \"Column 2\", \"Column 7\", \"Column 6\", \"Column 1\", \"Column 0\", \"Column 3\"], \"y\": [\"Categorical Index 0\", \"Categorical Index 1\", \"Categorical Index 3\", \"Categorical Index 2\"], \"yaxis\": \"y2\", \"z\": [[6, 7, 7, 9, 2, 9, 4, 4], [8, 3, 4, 5, 1, 9, 3, 2], [8, 3, 0, 9, 3, 4, 0, 4], [6, 4, 1, 5, 2, 3, 8, 7]], \"type\": \"heatmap\", \"uid\": \"d1e2402e-2861-4669-b2bd-657347a0e25b\"}, {\"colorscale\": [[0.0, \"#ebf6f7\"], [1.0, \"#171412\"]], \"showscale\": false, \"x\": [\"Column 5\", \"Column 4\", \"Column 2\", \"Column 7\", \"Column 6\", \"Column 1\", \"Column 0\", \"Column 3\"], \"y\": [\"Binary Index 2\", \"Binary Index 3\", \"Binary Index 1\", \"Binary Index 0\"], \"yaxis\": \"y\", \"z\": [[0, 1, 0, 1, 1, 0, 1, 0], [0, 1, 0, 0, 1, 1, 1, 0], [0, 1, 1, 1, 1, 1, 0, 1], [1, 0, 0, 1, 1, 0, 1, 1]], \"type\": \"heatmap\", \"uid\": \"b69cd012-c11b-4e70-9cd6-dd9336b3f756\"}], {\"annotations\": [{\"font\": {\"size\": 9.6}, \"showarrow\": false, \"text\": \"<b>Continuous</b>\", \"x\": 0.5, \"xanchor\": \"center\", \"xref\": \"paper\", \"y\": 0.90625, \"yanchor\": \"middle\", \"yref\": \"paper\"}, {\"font\": {\"size\": 9.6}, \"showarrow\": false, \"text\": \"<b>Score</b>\", \"width\": 64, \"x\": 1.0016, \"xanchor\": \"left\", \"xref\": \"paper\", \"y\": 0.96875, \"yanchor\": \"middle\", \"yref\": \"paper\"}, {\"font\": {\"size\": 9.6}, \"showarrow\": false, \"text\": \"<b>0.25 \\u00b1 0.30</b>\", \"width\": 64, \"x\": 1.0016, \"xanchor\": \"left\", \"xref\": \"paper\", \"y\": 0.84375, \"yanchor\": \"middle\", \"yref\": \"paper\"}, {\"font\": {\"size\": 9.6}, \"showarrow\": false, \"text\": \"<b>-0.25 \\u00b1 0.11</b>\", \"width\": 64, \"x\": 1.0016, \"xanchor\": \"left\", \"xref\": \"paper\", \"y\": 0.78125, \"yanchor\": \"middle\", \"yref\": \"paper\"}, {\"font\": {\"size\": 9.6}, \"showarrow\": false, \"text\": \"<b>-0.49 \\u00b1 0.14</b>\", \"width\": 64, \"x\": 1.0016, \"xanchor\": \"left\", \"xref\": \"paper\", \"y\": 0.71875, \"yanchor\": \"middle\", \"yref\": \"paper\"}, {\"font\": {\"size\": 9.6}, \"showarrow\": false, \"text\": \"<b>-0.68 \\u00b1 0.05</b>\", \"width\": 64, \"x\": 1.0016, \"xanchor\": \"left\", \"xref\": \"paper\", \"y\": 0.65625, \"yanchor\": \"middle\", \"yref\": \"paper\"}, {\"font\": {\"size\": 9.6}, \"showarrow\": false, \"text\": \"<b>Categorical</b>\", \"x\": 0.5, \"xanchor\": \"center\", \"xref\": \"paper\", \"y\": 0.59375, \"yanchor\": \"middle\", \"yref\": \"paper\"}, {\"font\": {\"size\": 9.6}, \"showarrow\": false, \"text\": \"<b>0.19 \\u00b1 0.41</b>\", \"width\": 64, \"x\": 1.0016, \"xanchor\": \"left\", \"xref\": \"paper\", \"y\": 0.53125, \"yanchor\": \"middle\", \"yref\": \"paper\"}, {\"font\": {\"size\": 9.6}, \"showarrow\": false, \"text\": \"<b>-0.19 \\u00b1 0.60</b>\", \"width\": 64, \"x\": 1.0016, \"xanchor\": \"left\", \"xref\": \"paper\", \"y\": 0.46875, \"yanchor\": \"middle\", \"yref\": \"paper\"}, {\"font\": {\"size\": 9.6}, \"showarrow\": false, \"text\": \"<b>-0.24 \\u00b1 0.33</b>\", \"width\": 64, \"x\": 1.0016, \"xanchor\": \"left\", \"xref\": \"paper\", \"y\": 0.40625, \"yanchor\": \"middle\", \"yref\": \"paper\"}, {\"font\": {\"size\": 9.6}, \"showarrow\": false, \"text\": \"<b>-0.43 \\u00b1 0.19</b>\", \"width\": 64, \"x\": 1.0016, \"xanchor\": \"left\", \"xref\": \"paper\", \"y\": 0.34375, \"yanchor\": \"middle\", \"yref\": \"paper\"}, {\"font\": {\"size\": 9.6}, \"showarrow\": false, \"text\": \"<b>Binary</b>\", \"x\": 0.5, \"xanchor\": \"center\", \"xref\": \"paper\", \"y\": 0.28125, \"yanchor\": \"middle\", \"yref\": \"paper\"}, {\"font\": {\"size\": 9.6}, \"showarrow\": false, \"text\": \"<b>0.30 \\u00b1 0.24</b>\", \"width\": 64, \"x\": 1.0016, \"xanchor\": \"left\", \"xref\": \"paper\", \"y\": 0.21875, \"yanchor\": \"middle\", \"yref\": \"paper\"}, {\"font\": {\"size\": 9.6}, \"showarrow\": false, \"text\": \"<b>0.24 \\u00b1 0.13</b>\", \"width\": 64, \"x\": 1.0016, \"xanchor\": \"left\", \"xref\": \"paper\", \"y\": 0.15625, \"yanchor\": \"middle\", \"yref\": \"paper\"}, {\"font\": {\"size\": 9.6}, \"showarrow\": false, \"text\": \"<b>0.17 \\u00b1 0.48</b>\", \"width\": 64, \"x\": 1.0016, \"xanchor\": \"left\", \"xref\": \"paper\", \"y\": 0.09375, \"yanchor\": \"middle\", \"yref\": \"paper\"}, {\"font\": {\"size\": 9.6}, \"showarrow\": false, \"text\": \"<b>0.10 \\u00b1 0.48</b>\", \"width\": 64, \"x\": 1.0016, \"xanchor\": \"left\", \"xref\": \"paper\", \"y\": 0.03125, \"yanchor\": \"middle\", \"yref\": \"paper\"}], \"height\": 512.0, \"margin\": {\"l\": 196, \"r\": 196}, \"title\": \"Summary Match Panel\", \"width\": 880, \"xaxis\": {\"anchor\": \"y\"}, \"yaxis\": {\"domain\": [0, 0.25], \"dtick\": 1, \"tickfont\": {\"size\": 9.6}}, \"yaxis4\": {\"domain\": [0.9375, 1], \"tickfont\": {\"size\": 9.6}}, \"yaxis3\": {\"domain\": [0.625, 0.875], \"dtick\": 1, \"tickfont\": {\"size\": 9.6}}, \"yaxis2\": {\"domain\": [0.3125, 0.5625], \"dtick\": 1, \"tickfont\": {\"size\": 9.6}}}, {\"showLink\": false, \"linkText\": \"Export to plot.ly\"})});</script>"
      ]
     },
     "metadata": {},
     "output_type": "display_data"
    },
    {
     "ename": "ValueError",
     "evalue": "Length mismatch: Expected axis has 16 elements, new values have 8 elements",
     "output_type": "error",
     "traceback": [
      "\u001b[0;31m---------------------------------------------------------------------------\u001b[0m",
      "\u001b[0;31mValueError\u001b[0m                                Traceback (most recent call last)",
      "\u001b[0;32m<ipython-input-27-9de383d89847>\u001b[0m in \u001b[0;36m<module>\u001b[0;34m\u001b[0m\n\u001b[1;32m     84\u001b[0m     \u001b[0mtarget\u001b[0m\u001b[0;34m.\u001b[0m\u001b[0mname\u001b[0m \u001b[0;34m=\u001b[0m \u001b[0;34m'Target'\u001b[0m\u001b[0;34m\u001b[0m\u001b[0m\n\u001b[1;32m     85\u001b[0m \u001b[0;34m\u001b[0m\u001b[0m\n\u001b[0;32m---> 86\u001b[0;31m     \u001b[0mtarget\u001b[0m\u001b[0;34m.\u001b[0m\u001b[0mindex\u001b[0m \u001b[0;34m=\u001b[0m \u001b[0;34m(\u001b[0m\u001b[0;34m'Column {}'\u001b[0m\u001b[0;34m.\u001b[0m\u001b[0mformat\u001b[0m\u001b[0;34m(\u001b[0m\u001b[0mi\u001b[0m\u001b[0;34m)\u001b[0m \u001b[0;32mfor\u001b[0m \u001b[0mi\u001b[0m \u001b[0;32min\u001b[0m \u001b[0mrange\u001b[0m\u001b[0;34m(\u001b[0m\u001b[0mn_column\u001b[0m\u001b[0;34m)\u001b[0m\u001b[0;34m)\u001b[0m\u001b[0;34m\u001b[0m\u001b[0m\n\u001b[0m\u001b[1;32m     87\u001b[0m \u001b[0;34m\u001b[0m\u001b[0m\n\u001b[1;32m     88\u001b[0m     make_summary_match_panel(\n",
      "\u001b[0;32m~/miniconda3/lib/python3.6/site-packages/pandas/core/generic.py\u001b[0m in \u001b[0;36m__setattr__\u001b[0;34m(self, name, value)\u001b[0m\n\u001b[1;32m   4387\u001b[0m         \u001b[0;32mtry\u001b[0m\u001b[0;34m:\u001b[0m\u001b[0;34m\u001b[0m\u001b[0m\n\u001b[1;32m   4388\u001b[0m             \u001b[0mobject\u001b[0m\u001b[0;34m.\u001b[0m\u001b[0m__getattribute__\u001b[0m\u001b[0;34m(\u001b[0m\u001b[0mself\u001b[0m\u001b[0;34m,\u001b[0m \u001b[0mname\u001b[0m\u001b[0;34m)\u001b[0m\u001b[0;34m\u001b[0m\u001b[0m\n\u001b[0;32m-> 4389\u001b[0;31m             \u001b[0;32mreturn\u001b[0m \u001b[0mobject\u001b[0m\u001b[0;34m.\u001b[0m\u001b[0m__setattr__\u001b[0m\u001b[0;34m(\u001b[0m\u001b[0mself\u001b[0m\u001b[0;34m,\u001b[0m \u001b[0mname\u001b[0m\u001b[0;34m,\u001b[0m \u001b[0mvalue\u001b[0m\u001b[0;34m)\u001b[0m\u001b[0;34m\u001b[0m\u001b[0m\n\u001b[0m\u001b[1;32m   4390\u001b[0m         \u001b[0;32mexcept\u001b[0m \u001b[0mAttributeError\u001b[0m\u001b[0;34m:\u001b[0m\u001b[0;34m\u001b[0m\u001b[0m\n\u001b[1;32m   4391\u001b[0m             \u001b[0;32mpass\u001b[0m\u001b[0;34m\u001b[0m\u001b[0m\n",
      "\u001b[0;32mpandas/_libs/properties.pyx\u001b[0m in \u001b[0;36mpandas._libs.properties.AxisProperty.__set__\u001b[0;34m()\u001b[0m\n",
      "\u001b[0;32m~/miniconda3/lib/python3.6/site-packages/pandas/core/series.py\u001b[0m in \u001b[0;36m_set_axis\u001b[0;34m(self, axis, labels, fastpath)\u001b[0m\n\u001b[1;32m    387\u001b[0m         \u001b[0mobject\u001b[0m\u001b[0;34m.\u001b[0m\u001b[0m__setattr__\u001b[0m\u001b[0;34m(\u001b[0m\u001b[0mself\u001b[0m\u001b[0;34m,\u001b[0m \u001b[0;34m'_index'\u001b[0m\u001b[0;34m,\u001b[0m \u001b[0mlabels\u001b[0m\u001b[0;34m)\u001b[0m\u001b[0;34m\u001b[0m\u001b[0m\n\u001b[1;32m    388\u001b[0m         \u001b[0;32mif\u001b[0m \u001b[0;32mnot\u001b[0m \u001b[0mfastpath\u001b[0m\u001b[0;34m:\u001b[0m\u001b[0;34m\u001b[0m\u001b[0m\n\u001b[0;32m--> 389\u001b[0;31m             \u001b[0mself\u001b[0m\u001b[0;34m.\u001b[0m\u001b[0m_data\u001b[0m\u001b[0;34m.\u001b[0m\u001b[0mset_axis\u001b[0m\u001b[0;34m(\u001b[0m\u001b[0maxis\u001b[0m\u001b[0;34m,\u001b[0m \u001b[0mlabels\u001b[0m\u001b[0;34m)\u001b[0m\u001b[0;34m\u001b[0m\u001b[0m\n\u001b[0m\u001b[1;32m    390\u001b[0m \u001b[0;34m\u001b[0m\u001b[0m\n\u001b[1;32m    391\u001b[0m     \u001b[0;32mdef\u001b[0m \u001b[0m_set_subtyp\u001b[0m\u001b[0;34m(\u001b[0m\u001b[0mself\u001b[0m\u001b[0;34m,\u001b[0m \u001b[0mis_all_dates\u001b[0m\u001b[0;34m)\u001b[0m\u001b[0;34m:\u001b[0m\u001b[0;34m\u001b[0m\u001b[0m\n",
      "\u001b[0;32m~/miniconda3/lib/python3.6/site-packages/pandas/core/internals.py\u001b[0m in \u001b[0;36mset_axis\u001b[0;34m(self, axis, new_labels)\u001b[0m\n\u001b[1;32m   3321\u001b[0m             raise ValueError(\n\u001b[1;32m   3322\u001b[0m                 \u001b[0;34m'Length mismatch: Expected axis has {old} elements, new '\u001b[0m\u001b[0;34m\u001b[0m\u001b[0m\n\u001b[0;32m-> 3323\u001b[0;31m                 'values have {new} elements'.format(old=old_len, new=new_len))\n\u001b[0m\u001b[1;32m   3324\u001b[0m \u001b[0;34m\u001b[0m\u001b[0m\n\u001b[1;32m   3325\u001b[0m         \u001b[0mself\u001b[0m\u001b[0;34m.\u001b[0m\u001b[0maxes\u001b[0m\u001b[0;34m[\u001b[0m\u001b[0maxis\u001b[0m\u001b[0;34m]\u001b[0m \u001b[0;34m=\u001b[0m \u001b[0mnew_labels\u001b[0m\u001b[0;34m\u001b[0m\u001b[0m\n",
      "\u001b[0;31mValueError\u001b[0m: Length mismatch: Expected axis has 16 elements, new values have 8 elements"
     ]
    }
   ],
   "source": [
    "from match.make_summary_match_panel import make_summary_match_panel\n",
    "\n",
    "\n",
    "n_index = 4\n",
    "\n",
    "n_column = 8\n",
    "\n",
    "target = pd.Series(\n",
    "    np.random.random_sample(size=n_column),\n",
    "    name='Target',\n",
    "    index=('Column {}'.format(i) for i in range(n_column)),\n",
    ")\n",
    "\n",
    "features_continuous = pd.DataFrame(\n",
    "    np.random.random_sample(size=(\n",
    "        n_index,\n",
    "        n_column,\n",
    "    )),\n",
    "    index=('Continuous Index {}'.format(i) for i in range(n_index)),\n",
    "    columns=('Column {}'.format(i) for i in range(n_column)),\n",
    ")\n",
    "\n",
    "features_categorical = pd.DataFrame(\n",
    "    np.random.randint(\n",
    "        0,\n",
    "        10,\n",
    "        size=(\n",
    "            n_index,\n",
    "            n_column,\n",
    "        )),\n",
    "    index=('Categorical Index {}'.format(i) for i in range(n_index)),\n",
    "    columns=('Column {}'.format(i) for i in range(n_column)),\n",
    ")\n",
    "\n",
    "features_binary = pd.DataFrame(\n",
    "    np.random.randint(\n",
    "        0,\n",
    "        2,\n",
    "        size=(\n",
    "            n_index,\n",
    "            n_column,\n",
    "        )),\n",
    "    index=('Binary Index {}'.format(i) for i in range(n_index)),\n",
    "    columns=('Column {}'.format(i) for i in range(n_column)),\n",
    ")\n",
    "\n",
    "features_dict = {\n",
    "    'Continuous': {\n",
    "        'df': features_continuous,\n",
    "        'data_type': 'continuous',\n",
    "        'emphasis': 'high',\n",
    "    },\n",
    "    'Categorical': {\n",
    "        'df': features_categorical,\n",
    "        'data_type': 'categorical',\n",
    "        'emphasis': 'high',\n",
    "    },\n",
    "    'Binary': {\n",
    "        'df': features_binary,\n",
    "        'data_type': 'binary',\n",
    "        'emphasis': 'high',\n",
    "    },\n",
    "}\n",
    "\n",
    "features = pd.concat((feature_dict['df'] for feature_dict in features_dict.values()))\n",
    "\n",
    "score_moe_p_value_fdr = make_match_panel(\n",
    "    target,\n",
    "    features,\n",
    "    n_sampling=1,\n",
    "    n_permutation=1,\n",
    ")\n",
    "\n",
    "for target, target_type in (\n",
    "    (\n",
    "        pd.Series(np.random.random_sample(size=n_column)),\n",
    "        'continuous',\n",
    "    ),\n",
    "    (\n",
    "        pd.Series(('Aa', ) * 4 + ('Bb', ) * 4 + ('Cc', ) * 4 + ('Aa', ) * 4),\n",
    "        'categorical',\n",
    "    ),\n",
    "):\n",
    "    \n",
    "    target.name = 'Target'\n",
    "    \n",
    "    target.index = ('Column {}'.format(i) for i in range(n_column))\n",
    "\n",
    "    make_summary_match_panel(\n",
    "        target,\n",
    "        features_dict,\n",
    "        score_moe_p_value_fdr,\n",
    "        target_type=target_type,\n",
    "    )\n",
    "\n",
    "    make_summary_match_panel(\n",
    "        target,\n",
    "        features_dict,\n",
    "        score_moe_p_value_fdr,\n",
    "        target_type=target_type,\n",
    "        plot_only_columns_shared_by_target_and_all_features=True,\n",
    "    )"
   ]
  }
 ],
 "metadata": {
  "kernelspec": {
   "display_name": "Python 3",
   "language": "python",
   "name": "python3"
  },
  "language_info": {
   "codemirror_mode": {
    "name": "ipython",
    "version": 3
   },
   "file_extension": ".py",
   "mimetype": "text/x-python",
   "name": "python",
   "nbconvert_exporter": "python",
   "pygments_lexer": "ipython3",
   "version": "3.6.6"
  }
 },
 "nbformat": 4,
 "nbformat_minor": 2
}
